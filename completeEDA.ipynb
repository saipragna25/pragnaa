{
  "nbformat": 4,
  "nbformat_minor": 0,
  "metadata": {
    "colab": {
      "provenance": [],
      "authorship_tag": "ABX9TyPO6OwO74lRPtKyxN8tIsIE",
      "include_colab_link": true
    },
    "kernelspec": {
      "name": "python3",
      "display_name": "Python 3"
    },
    "language_info": {
      "name": "python"
    }
  },
  "cells": [
    {
      "cell_type": "markdown",
      "metadata": {
        "id": "view-in-github",
        "colab_type": "text"
      },
      "source": [
        "<a href=\"https://colab.research.google.com/github/saipragna25/pragnaa/blob/main/completeEDA.ipynb\" target=\"_parent\"><img src=\"https://colab.research.google.com/assets/colab-badge.svg\" alt=\"Open In Colab\"/></a>"
      ]
    },
    {
      "cell_type": "code",
      "execution_count": null,
      "metadata": {
        "id": "19taxPdn1p8o"
      },
      "outputs": [],
      "source": [
        "import plotly.graph_objs as go\n",
        "from plotly import tools\n",
        "from plotly.subplots import make_subplots\n",
        "import pandas as pd"
      ]
    },
    {
      "cell_type": "code",
      "source": [
        "from IPython.core.interactiveshell import InteractiveShell\n",
        "InteractiveShell.ast_node_interactivity = 'all'"
      ],
      "metadata": {
        "id": "R_B871W22A2M"
      },
      "execution_count": null,
      "outputs": []
    },
    {
      "cell_type": "code",
      "source": [
        "from google.colab import files\n",
        "uploaded = files.upload()"
      ],
      "metadata": {
        "id": "fulXUebP2CuZ",
        "colab": {
          "base_uri": "https://localhost:8080/",
          "height": 73
        },
        "outputId": "c5fd7bff-e475-436e-d8a6-3f7353d6b230"
      },
      "execution_count": null,
      "outputs": [
        {
          "output_type": "display_data",
          "data": {
            "text/plain": [
              "<IPython.core.display.HTML object>"
            ],
            "text/html": [
              "\n",
              "     <input type=\"file\" id=\"files-1fe6b1ad-8a5f-47a2-87fe-f9362d061d1e\" name=\"files[]\" multiple disabled\n",
              "        style=\"border:none\" />\n",
              "     <output id=\"result-1fe6b1ad-8a5f-47a2-87fe-f9362d061d1e\">\n",
              "      Upload widget is only available when the cell has been executed in the\n",
              "      current browser session. Please rerun this cell to enable.\n",
              "      </output>\n",
              "      <script>// Copyright 2017 Google LLC\n",
              "//\n",
              "// Licensed under the Apache License, Version 2.0 (the \"License\");\n",
              "// you may not use this file except in compliance with the License.\n",
              "// You may obtain a copy of the License at\n",
              "//\n",
              "//      http://www.apache.org/licenses/LICENSE-2.0\n",
              "//\n",
              "// Unless required by applicable law or agreed to in writing, software\n",
              "// distributed under the License is distributed on an \"AS IS\" BASIS,\n",
              "// WITHOUT WARRANTIES OR CONDITIONS OF ANY KIND, either express or implied.\n",
              "// See the License for the specific language governing permissions and\n",
              "// limitations under the License.\n",
              "\n",
              "/**\n",
              " * @fileoverview Helpers for google.colab Python module.\n",
              " */\n",
              "(function(scope) {\n",
              "function span(text, styleAttributes = {}) {\n",
              "  const element = document.createElement('span');\n",
              "  element.textContent = text;\n",
              "  for (const key of Object.keys(styleAttributes)) {\n",
              "    element.style[key] = styleAttributes[key];\n",
              "  }\n",
              "  return element;\n",
              "}\n",
              "\n",
              "// Max number of bytes which will be uploaded at a time.\n",
              "const MAX_PAYLOAD_SIZE = 100 * 1024;\n",
              "\n",
              "function _uploadFiles(inputId, outputId) {\n",
              "  const steps = uploadFilesStep(inputId, outputId);\n",
              "  const outputElement = document.getElementById(outputId);\n",
              "  // Cache steps on the outputElement to make it available for the next call\n",
              "  // to uploadFilesContinue from Python.\n",
              "  outputElement.steps = steps;\n",
              "\n",
              "  return _uploadFilesContinue(outputId);\n",
              "}\n",
              "\n",
              "// This is roughly an async generator (not supported in the browser yet),\n",
              "// where there are multiple asynchronous steps and the Python side is going\n",
              "// to poll for completion of each step.\n",
              "// This uses a Promise to block the python side on completion of each step,\n",
              "// then passes the result of the previous step as the input to the next step.\n",
              "function _uploadFilesContinue(outputId) {\n",
              "  const outputElement = document.getElementById(outputId);\n",
              "  const steps = outputElement.steps;\n",
              "\n",
              "  const next = steps.next(outputElement.lastPromiseValue);\n",
              "  return Promise.resolve(next.value.promise).then((value) => {\n",
              "    // Cache the last promise value to make it available to the next\n",
              "    // step of the generator.\n",
              "    outputElement.lastPromiseValue = value;\n",
              "    return next.value.response;\n",
              "  });\n",
              "}\n",
              "\n",
              "/**\n",
              " * Generator function which is called between each async step of the upload\n",
              " * process.\n",
              " * @param {string} inputId Element ID of the input file picker element.\n",
              " * @param {string} outputId Element ID of the output display.\n",
              " * @return {!Iterable<!Object>} Iterable of next steps.\n",
              " */\n",
              "function* uploadFilesStep(inputId, outputId) {\n",
              "  const inputElement = document.getElementById(inputId);\n",
              "  inputElement.disabled = false;\n",
              "\n",
              "  const outputElement = document.getElementById(outputId);\n",
              "  outputElement.innerHTML = '';\n",
              "\n",
              "  const pickedPromise = new Promise((resolve) => {\n",
              "    inputElement.addEventListener('change', (e) => {\n",
              "      resolve(e.target.files);\n",
              "    });\n",
              "  });\n",
              "\n",
              "  const cancel = document.createElement('button');\n",
              "  inputElement.parentElement.appendChild(cancel);\n",
              "  cancel.textContent = 'Cancel upload';\n",
              "  const cancelPromise = new Promise((resolve) => {\n",
              "    cancel.onclick = () => {\n",
              "      resolve(null);\n",
              "    };\n",
              "  });\n",
              "\n",
              "  // Wait for the user to pick the files.\n",
              "  const files = yield {\n",
              "    promise: Promise.race([pickedPromise, cancelPromise]),\n",
              "    response: {\n",
              "      action: 'starting',\n",
              "    }\n",
              "  };\n",
              "\n",
              "  cancel.remove();\n",
              "\n",
              "  // Disable the input element since further picks are not allowed.\n",
              "  inputElement.disabled = true;\n",
              "\n",
              "  if (!files) {\n",
              "    return {\n",
              "      response: {\n",
              "        action: 'complete',\n",
              "      }\n",
              "    };\n",
              "  }\n",
              "\n",
              "  for (const file of files) {\n",
              "    const li = document.createElement('li');\n",
              "    li.append(span(file.name, {fontWeight: 'bold'}));\n",
              "    li.append(span(\n",
              "        `(${file.type || 'n/a'}) - ${file.size} bytes, ` +\n",
              "        `last modified: ${\n",
              "            file.lastModifiedDate ? file.lastModifiedDate.toLocaleDateString() :\n",
              "                                    'n/a'} - `));\n",
              "    const percent = span('0% done');\n",
              "    li.appendChild(percent);\n",
              "\n",
              "    outputElement.appendChild(li);\n",
              "\n",
              "    const fileDataPromise = new Promise((resolve) => {\n",
              "      const reader = new FileReader();\n",
              "      reader.onload = (e) => {\n",
              "        resolve(e.target.result);\n",
              "      };\n",
              "      reader.readAsArrayBuffer(file);\n",
              "    });\n",
              "    // Wait for the data to be ready.\n",
              "    let fileData = yield {\n",
              "      promise: fileDataPromise,\n",
              "      response: {\n",
              "        action: 'continue',\n",
              "      }\n",
              "    };\n",
              "\n",
              "    // Use a chunked sending to avoid message size limits. See b/62115660.\n",
              "    let position = 0;\n",
              "    do {\n",
              "      const length = Math.min(fileData.byteLength - position, MAX_PAYLOAD_SIZE);\n",
              "      const chunk = new Uint8Array(fileData, position, length);\n",
              "      position += length;\n",
              "\n",
              "      const base64 = btoa(String.fromCharCode.apply(null, chunk));\n",
              "      yield {\n",
              "        response: {\n",
              "          action: 'append',\n",
              "          file: file.name,\n",
              "          data: base64,\n",
              "        },\n",
              "      };\n",
              "\n",
              "      let percentDone = fileData.byteLength === 0 ?\n",
              "          100 :\n",
              "          Math.round((position / fileData.byteLength) * 100);\n",
              "      percent.textContent = `${percentDone}% done`;\n",
              "\n",
              "    } while (position < fileData.byteLength);\n",
              "  }\n",
              "\n",
              "  // All done.\n",
              "  yield {\n",
              "    response: {\n",
              "      action: 'complete',\n",
              "    }\n",
              "  };\n",
              "}\n",
              "\n",
              "scope.google = scope.google || {};\n",
              "scope.google.colab = scope.google.colab || {};\n",
              "scope.google.colab._files = {\n",
              "  _uploadFiles,\n",
              "  _uploadFilesContinue,\n",
              "};\n",
              "})(self);\n",
              "</script> "
            ]
          },
          "metadata": {}
        },
        {
          "output_type": "stream",
          "name": "stdout",
          "text": [
            "Saving EDAsegmentdata.csv to EDAsegmentdata.csv\n"
          ]
        }
      ]
    },
    {
      "cell_type": "code",
      "source": [
        "from google.colab import files\n",
        "uploaded = files.upload()"
      ],
      "metadata": {
        "colab": {
          "base_uri": "https://localhost:8080/",
          "height": 73
        },
        "id": "Rsv7Y9G7CiAS",
        "outputId": "e95c8c15-f02d-43b3-ce5c-741276461e9c"
      },
      "execution_count": null,
      "outputs": [
        {
          "output_type": "display_data",
          "data": {
            "text/plain": [
              "<IPython.core.display.HTML object>"
            ],
            "text/html": [
              "\n",
              "     <input type=\"file\" id=\"files-16bddcb0-07af-4b0c-ba62-67c3052624d7\" name=\"files[]\" multiple disabled\n",
              "        style=\"border:none\" />\n",
              "     <output id=\"result-16bddcb0-07af-4b0c-ba62-67c3052624d7\">\n",
              "      Upload widget is only available when the cell has been executed in the\n",
              "      current browser session. Please rerun this cell to enable.\n",
              "      </output>\n",
              "      <script>// Copyright 2017 Google LLC\n",
              "//\n",
              "// Licensed under the Apache License, Version 2.0 (the \"License\");\n",
              "// you may not use this file except in compliance with the License.\n",
              "// You may obtain a copy of the License at\n",
              "//\n",
              "//      http://www.apache.org/licenses/LICENSE-2.0\n",
              "//\n",
              "// Unless required by applicable law or agreed to in writing, software\n",
              "// distributed under the License is distributed on an \"AS IS\" BASIS,\n",
              "// WITHOUT WARRANTIES OR CONDITIONS OF ANY KIND, either express or implied.\n",
              "// See the License for the specific language governing permissions and\n",
              "// limitations under the License.\n",
              "\n",
              "/**\n",
              " * @fileoverview Helpers for google.colab Python module.\n",
              " */\n",
              "(function(scope) {\n",
              "function span(text, styleAttributes = {}) {\n",
              "  const element = document.createElement('span');\n",
              "  element.textContent = text;\n",
              "  for (const key of Object.keys(styleAttributes)) {\n",
              "    element.style[key] = styleAttributes[key];\n",
              "  }\n",
              "  return element;\n",
              "}\n",
              "\n",
              "// Max number of bytes which will be uploaded at a time.\n",
              "const MAX_PAYLOAD_SIZE = 100 * 1024;\n",
              "\n",
              "function _uploadFiles(inputId, outputId) {\n",
              "  const steps = uploadFilesStep(inputId, outputId);\n",
              "  const outputElement = document.getElementById(outputId);\n",
              "  // Cache steps on the outputElement to make it available for the next call\n",
              "  // to uploadFilesContinue from Python.\n",
              "  outputElement.steps = steps;\n",
              "\n",
              "  return _uploadFilesContinue(outputId);\n",
              "}\n",
              "\n",
              "// This is roughly an async generator (not supported in the browser yet),\n",
              "// where there are multiple asynchronous steps and the Python side is going\n",
              "// to poll for completion of each step.\n",
              "// This uses a Promise to block the python side on completion of each step,\n",
              "// then passes the result of the previous step as the input to the next step.\n",
              "function _uploadFilesContinue(outputId) {\n",
              "  const outputElement = document.getElementById(outputId);\n",
              "  const steps = outputElement.steps;\n",
              "\n",
              "  const next = steps.next(outputElement.lastPromiseValue);\n",
              "  return Promise.resolve(next.value.promise).then((value) => {\n",
              "    // Cache the last promise value to make it available to the next\n",
              "    // step of the generator.\n",
              "    outputElement.lastPromiseValue = value;\n",
              "    return next.value.response;\n",
              "  });\n",
              "}\n",
              "\n",
              "/**\n",
              " * Generator function which is called between each async step of the upload\n",
              " * process.\n",
              " * @param {string} inputId Element ID of the input file picker element.\n",
              " * @param {string} outputId Element ID of the output display.\n",
              " * @return {!Iterable<!Object>} Iterable of next steps.\n",
              " */\n",
              "function* uploadFilesStep(inputId, outputId) {\n",
              "  const inputElement = document.getElementById(inputId);\n",
              "  inputElement.disabled = false;\n",
              "\n",
              "  const outputElement = document.getElementById(outputId);\n",
              "  outputElement.innerHTML = '';\n",
              "\n",
              "  const pickedPromise = new Promise((resolve) => {\n",
              "    inputElement.addEventListener('change', (e) => {\n",
              "      resolve(e.target.files);\n",
              "    });\n",
              "  });\n",
              "\n",
              "  const cancel = document.createElement('button');\n",
              "  inputElement.parentElement.appendChild(cancel);\n",
              "  cancel.textContent = 'Cancel upload';\n",
              "  const cancelPromise = new Promise((resolve) => {\n",
              "    cancel.onclick = () => {\n",
              "      resolve(null);\n",
              "    };\n",
              "  });\n",
              "\n",
              "  // Wait for the user to pick the files.\n",
              "  const files = yield {\n",
              "    promise: Promise.race([pickedPromise, cancelPromise]),\n",
              "    response: {\n",
              "      action: 'starting',\n",
              "    }\n",
              "  };\n",
              "\n",
              "  cancel.remove();\n",
              "\n",
              "  // Disable the input element since further picks are not allowed.\n",
              "  inputElement.disabled = true;\n",
              "\n",
              "  if (!files) {\n",
              "    return {\n",
              "      response: {\n",
              "        action: 'complete',\n",
              "      }\n",
              "    };\n",
              "  }\n",
              "\n",
              "  for (const file of files) {\n",
              "    const li = document.createElement('li');\n",
              "    li.append(span(file.name, {fontWeight: 'bold'}));\n",
              "    li.append(span(\n",
              "        `(${file.type || 'n/a'}) - ${file.size} bytes, ` +\n",
              "        `last modified: ${\n",
              "            file.lastModifiedDate ? file.lastModifiedDate.toLocaleDateString() :\n",
              "                                    'n/a'} - `));\n",
              "    const percent = span('0% done');\n",
              "    li.appendChild(percent);\n",
              "\n",
              "    outputElement.appendChild(li);\n",
              "\n",
              "    const fileDataPromise = new Promise((resolve) => {\n",
              "      const reader = new FileReader();\n",
              "      reader.onload = (e) => {\n",
              "        resolve(e.target.result);\n",
              "      };\n",
              "      reader.readAsArrayBuffer(file);\n",
              "    });\n",
              "    // Wait for the data to be ready.\n",
              "    let fileData = yield {\n",
              "      promise: fileDataPromise,\n",
              "      response: {\n",
              "        action: 'continue',\n",
              "      }\n",
              "    };\n",
              "\n",
              "    // Use a chunked sending to avoid message size limits. See b/62115660.\n",
              "    let position = 0;\n",
              "    do {\n",
              "      const length = Math.min(fileData.byteLength - position, MAX_PAYLOAD_SIZE);\n",
              "      const chunk = new Uint8Array(fileData, position, length);\n",
              "      position += length;\n",
              "\n",
              "      const base64 = btoa(String.fromCharCode.apply(null, chunk));\n",
              "      yield {\n",
              "        response: {\n",
              "          action: 'append',\n",
              "          file: file.name,\n",
              "          data: base64,\n",
              "        },\n",
              "      };\n",
              "\n",
              "      let percentDone = fileData.byteLength === 0 ?\n",
              "          100 :\n",
              "          Math.round((position / fileData.byteLength) * 100);\n",
              "      percent.textContent = `${percentDone}% done`;\n",
              "\n",
              "    } while (position < fileData.byteLength);\n",
              "  }\n",
              "\n",
              "  // All done.\n",
              "  yield {\n",
              "    response: {\n",
              "      action: 'complete',\n",
              "    }\n",
              "  };\n",
              "}\n",
              "\n",
              "scope.google = scope.google || {};\n",
              "scope.google.colab = scope.google.colab || {};\n",
              "scope.google.colab._files = {\n",
              "  _uploadFiles,\n",
              "  _uploadFilesContinue,\n",
              "};\n",
              "})(self);\n",
              "</script> "
            ]
          },
          "metadata": {}
        },
        {
          "output_type": "stream",
          "name": "stdout",
          "text": [
            "Saving EDAsegmenttest.csv to EDAsegmenttest.csv\n"
          ]
        }
      ]
    },
    {
      "cell_type": "code",
      "source": [
        "train = pd.read_csv('EDAsegmentdata.csv')\n",
        "test = pd.read_csv('EDAsegmenttest.csv')"
      ],
      "metadata": {
        "id": "7QuUBQG04X_h"
      },
      "execution_count": null,
      "outputs": []
    },
    {
      "cell_type": "code",
      "source": [
        "print(train.shape)\n",
        "train.head()"
      ],
      "metadata": {
        "colab": {
          "base_uri": "https://localhost:8080/",
          "height": 223
        },
        "id": "7ukw1WoG4nAu",
        "outputId": "31726b89-6689-4007-d79c-f5eea915b797"
      },
      "execution_count": null,
      "outputs": [
        {
          "output_type": "stream",
          "name": "stdout",
          "text": [
            "(8068, 11)\n"
          ]
        },
        {
          "output_type": "execute_result",
          "data": {
            "text/plain": [
              "       ID  Gender Ever_Married  Age Graduated     Profession  Work_Experience  \\\n",
              "0  462809    Male           No   22        No     Healthcare              1.0   \n",
              "1  462643  Female          Yes   38       Yes       Engineer              NaN   \n",
              "2  466315  Female          Yes   67       Yes       Engineer              1.0   \n",
              "3  461735    Male          Yes   67       Yes         Lawyer              0.0   \n",
              "4  462669  Female          Yes   40       Yes  Entertainment              NaN   \n",
              "\n",
              "  Spending_Score  Family_Size  Var_1 Segmentation  \n",
              "0            Low          4.0  Cat_4            D  \n",
              "1        Average          3.0  Cat_4            A  \n",
              "2            Low          1.0  Cat_6            B  \n",
              "3           High          2.0  Cat_6            B  \n",
              "4           High          6.0  Cat_6            A  "
            ],
            "text/html": [
              "\n",
              "  <div id=\"df-223723f3-353d-4873-891b-72a2f750e3db\">\n",
              "    <div class=\"colab-df-container\">\n",
              "      <div>\n",
              "<style scoped>\n",
              "    .dataframe tbody tr th:only-of-type {\n",
              "        vertical-align: middle;\n",
              "    }\n",
              "\n",
              "    .dataframe tbody tr th {\n",
              "        vertical-align: top;\n",
              "    }\n",
              "\n",
              "    .dataframe thead th {\n",
              "        text-align: right;\n",
              "    }\n",
              "</style>\n",
              "<table border=\"1\" class=\"dataframe\">\n",
              "  <thead>\n",
              "    <tr style=\"text-align: right;\">\n",
              "      <th></th>\n",
              "      <th>ID</th>\n",
              "      <th>Gender</th>\n",
              "      <th>Ever_Married</th>\n",
              "      <th>Age</th>\n",
              "      <th>Graduated</th>\n",
              "      <th>Profession</th>\n",
              "      <th>Work_Experience</th>\n",
              "      <th>Spending_Score</th>\n",
              "      <th>Family_Size</th>\n",
              "      <th>Var_1</th>\n",
              "      <th>Segmentation</th>\n",
              "    </tr>\n",
              "  </thead>\n",
              "  <tbody>\n",
              "    <tr>\n",
              "      <th>0</th>\n",
              "      <td>462809</td>\n",
              "      <td>Male</td>\n",
              "      <td>No</td>\n",
              "      <td>22</td>\n",
              "      <td>No</td>\n",
              "      <td>Healthcare</td>\n",
              "      <td>1.0</td>\n",
              "      <td>Low</td>\n",
              "      <td>4.0</td>\n",
              "      <td>Cat_4</td>\n",
              "      <td>D</td>\n",
              "    </tr>\n",
              "    <tr>\n",
              "      <th>1</th>\n",
              "      <td>462643</td>\n",
              "      <td>Female</td>\n",
              "      <td>Yes</td>\n",
              "      <td>38</td>\n",
              "      <td>Yes</td>\n",
              "      <td>Engineer</td>\n",
              "      <td>NaN</td>\n",
              "      <td>Average</td>\n",
              "      <td>3.0</td>\n",
              "      <td>Cat_4</td>\n",
              "      <td>A</td>\n",
              "    </tr>\n",
              "    <tr>\n",
              "      <th>2</th>\n",
              "      <td>466315</td>\n",
              "      <td>Female</td>\n",
              "      <td>Yes</td>\n",
              "      <td>67</td>\n",
              "      <td>Yes</td>\n",
              "      <td>Engineer</td>\n",
              "      <td>1.0</td>\n",
              "      <td>Low</td>\n",
              "      <td>1.0</td>\n",
              "      <td>Cat_6</td>\n",
              "      <td>B</td>\n",
              "    </tr>\n",
              "    <tr>\n",
              "      <th>3</th>\n",
              "      <td>461735</td>\n",
              "      <td>Male</td>\n",
              "      <td>Yes</td>\n",
              "      <td>67</td>\n",
              "      <td>Yes</td>\n",
              "      <td>Lawyer</td>\n",
              "      <td>0.0</td>\n",
              "      <td>High</td>\n",
              "      <td>2.0</td>\n",
              "      <td>Cat_6</td>\n",
              "      <td>B</td>\n",
              "    </tr>\n",
              "    <tr>\n",
              "      <th>4</th>\n",
              "      <td>462669</td>\n",
              "      <td>Female</td>\n",
              "      <td>Yes</td>\n",
              "      <td>40</td>\n",
              "      <td>Yes</td>\n",
              "      <td>Entertainment</td>\n",
              "      <td>NaN</td>\n",
              "      <td>High</td>\n",
              "      <td>6.0</td>\n",
              "      <td>Cat_6</td>\n",
              "      <td>A</td>\n",
              "    </tr>\n",
              "  </tbody>\n",
              "</table>\n",
              "</div>\n",
              "      <button class=\"colab-df-convert\" onclick=\"convertToInteractive('df-223723f3-353d-4873-891b-72a2f750e3db')\"\n",
              "              title=\"Convert this dataframe to an interactive table.\"\n",
              "              style=\"display:none;\">\n",
              "        \n",
              "  <svg xmlns=\"http://www.w3.org/2000/svg\" height=\"24px\"viewBox=\"0 0 24 24\"\n",
              "       width=\"24px\">\n",
              "    <path d=\"M0 0h24v24H0V0z\" fill=\"none\"/>\n",
              "    <path d=\"M18.56 5.44l.94 2.06.94-2.06 2.06-.94-2.06-.94-.94-2.06-.94 2.06-2.06.94zm-11 1L8.5 8.5l.94-2.06 2.06-.94-2.06-.94L8.5 2.5l-.94 2.06-2.06.94zm10 10l.94 2.06.94-2.06 2.06-.94-2.06-.94-.94-2.06-.94 2.06-2.06.94z\"/><path d=\"M17.41 7.96l-1.37-1.37c-.4-.4-.92-.59-1.43-.59-.52 0-1.04.2-1.43.59L10.3 9.45l-7.72 7.72c-.78.78-.78 2.05 0 2.83L4 21.41c.39.39.9.59 1.41.59.51 0 1.02-.2 1.41-.59l7.78-7.78 2.81-2.81c.8-.78.8-2.07 0-2.86zM5.41 20L4 18.59l7.72-7.72 1.47 1.35L5.41 20z\"/>\n",
              "  </svg>\n",
              "      </button>\n",
              "      \n",
              "  <style>\n",
              "    .colab-df-container {\n",
              "      display:flex;\n",
              "      flex-wrap:wrap;\n",
              "      gap: 12px;\n",
              "    }\n",
              "\n",
              "    .colab-df-convert {\n",
              "      background-color: #E8F0FE;\n",
              "      border: none;\n",
              "      border-radius: 50%;\n",
              "      cursor: pointer;\n",
              "      display: none;\n",
              "      fill: #1967D2;\n",
              "      height: 32px;\n",
              "      padding: 0 0 0 0;\n",
              "      width: 32px;\n",
              "    }\n",
              "\n",
              "    .colab-df-convert:hover {\n",
              "      background-color: #E2EBFA;\n",
              "      box-shadow: 0px 1px 2px rgba(60, 64, 67, 0.3), 0px 1px 3px 1px rgba(60, 64, 67, 0.15);\n",
              "      fill: #174EA6;\n",
              "    }\n",
              "\n",
              "    [theme=dark] .colab-df-convert {\n",
              "      background-color: #3B4455;\n",
              "      fill: #D2E3FC;\n",
              "    }\n",
              "\n",
              "    [theme=dark] .colab-df-convert:hover {\n",
              "      background-color: #434B5C;\n",
              "      box-shadow: 0px 1px 3px 1px rgba(0, 0, 0, 0.15);\n",
              "      filter: drop-shadow(0px 1px 2px rgba(0, 0, 0, 0.3));\n",
              "      fill: #FFFFFF;\n",
              "    }\n",
              "  </style>\n",
              "\n",
              "      <script>\n",
              "        const buttonEl =\n",
              "          document.querySelector('#df-223723f3-353d-4873-891b-72a2f750e3db button.colab-df-convert');\n",
              "        buttonEl.style.display =\n",
              "          google.colab.kernel.accessAllowed ? 'block' : 'none';\n",
              "\n",
              "        async function convertToInteractive(key) {\n",
              "          const element = document.querySelector('#df-223723f3-353d-4873-891b-72a2f750e3db');\n",
              "          const dataTable =\n",
              "            await google.colab.kernel.invokeFunction('convertToInteractive',\n",
              "                                                     [key], {});\n",
              "          if (!dataTable) return;\n",
              "\n",
              "          const docLinkHtml = 'Like what you see? Visit the ' +\n",
              "            '<a target=\"_blank\" href=https://colab.research.google.com/notebooks/data_table.ipynb>data table notebook</a>'\n",
              "            + ' to learn more about interactive tables.';\n",
              "          element.innerHTML = '';\n",
              "          dataTable['output_type'] = 'display_data';\n",
              "          await google.colab.output.renderOutput(dataTable, element);\n",
              "          const docLink = document.createElement('div');\n",
              "          docLink.innerHTML = docLinkHtml;\n",
              "          element.appendChild(docLink);\n",
              "        }\n",
              "      </script>\n",
              "    </div>\n",
              "  </div>\n",
              "  "
            ]
          },
          "metadata": {},
          "execution_count": 6
        }
      ]
    },
    {
      "cell_type": "code",
      "source": [
        "print(test.shape)\n",
        "test.head()"
      ],
      "metadata": {
        "colab": {
          "base_uri": "https://localhost:8080/",
          "height": 223
        },
        "id": "l5UrppjL4VX0",
        "outputId": "6866e946-0254-4e62-d114-607e873cc0b7"
      },
      "execution_count": null,
      "outputs": [
        {
          "output_type": "stream",
          "name": "stdout",
          "text": [
            "(2627, 10)\n"
          ]
        },
        {
          "output_type": "execute_result",
          "data": {
            "text/plain": [
              "       ID  Gender Ever_Married  Age Graduated  Profession  Work_Experience  \\\n",
              "0  458989  Female          Yes   36       Yes    Engineer              0.0   \n",
              "1  458994    Male          Yes   37       Yes  Healthcare              8.0   \n",
              "2  458996  Female          Yes   69        No         NaN              0.0   \n",
              "3  459000    Male          Yes   59        No   Executive             11.0   \n",
              "4  459001  Female           No   19        No   Marketing              NaN   \n",
              "\n",
              "  Spending_Score  Family_Size  Var_1  \n",
              "0            Low          1.0  Cat_6  \n",
              "1        Average          4.0  Cat_6  \n",
              "2            Low          1.0  Cat_6  \n",
              "3           High          2.0  Cat_6  \n",
              "4            Low          4.0  Cat_6  "
            ],
            "text/html": [
              "\n",
              "  <div id=\"df-ebd70d2d-c9fd-46a1-84b1-ff348a16af07\">\n",
              "    <div class=\"colab-df-container\">\n",
              "      <div>\n",
              "<style scoped>\n",
              "    .dataframe tbody tr th:only-of-type {\n",
              "        vertical-align: middle;\n",
              "    }\n",
              "\n",
              "    .dataframe tbody tr th {\n",
              "        vertical-align: top;\n",
              "    }\n",
              "\n",
              "    .dataframe thead th {\n",
              "        text-align: right;\n",
              "    }\n",
              "</style>\n",
              "<table border=\"1\" class=\"dataframe\">\n",
              "  <thead>\n",
              "    <tr style=\"text-align: right;\">\n",
              "      <th></th>\n",
              "      <th>ID</th>\n",
              "      <th>Gender</th>\n",
              "      <th>Ever_Married</th>\n",
              "      <th>Age</th>\n",
              "      <th>Graduated</th>\n",
              "      <th>Profession</th>\n",
              "      <th>Work_Experience</th>\n",
              "      <th>Spending_Score</th>\n",
              "      <th>Family_Size</th>\n",
              "      <th>Var_1</th>\n",
              "    </tr>\n",
              "  </thead>\n",
              "  <tbody>\n",
              "    <tr>\n",
              "      <th>0</th>\n",
              "      <td>458989</td>\n",
              "      <td>Female</td>\n",
              "      <td>Yes</td>\n",
              "      <td>36</td>\n",
              "      <td>Yes</td>\n",
              "      <td>Engineer</td>\n",
              "      <td>0.0</td>\n",
              "      <td>Low</td>\n",
              "      <td>1.0</td>\n",
              "      <td>Cat_6</td>\n",
              "    </tr>\n",
              "    <tr>\n",
              "      <th>1</th>\n",
              "      <td>458994</td>\n",
              "      <td>Male</td>\n",
              "      <td>Yes</td>\n",
              "      <td>37</td>\n",
              "      <td>Yes</td>\n",
              "      <td>Healthcare</td>\n",
              "      <td>8.0</td>\n",
              "      <td>Average</td>\n",
              "      <td>4.0</td>\n",
              "      <td>Cat_6</td>\n",
              "    </tr>\n",
              "    <tr>\n",
              "      <th>2</th>\n",
              "      <td>458996</td>\n",
              "      <td>Female</td>\n",
              "      <td>Yes</td>\n",
              "      <td>69</td>\n",
              "      <td>No</td>\n",
              "      <td>NaN</td>\n",
              "      <td>0.0</td>\n",
              "      <td>Low</td>\n",
              "      <td>1.0</td>\n",
              "      <td>Cat_6</td>\n",
              "    </tr>\n",
              "    <tr>\n",
              "      <th>3</th>\n",
              "      <td>459000</td>\n",
              "      <td>Male</td>\n",
              "      <td>Yes</td>\n",
              "      <td>59</td>\n",
              "      <td>No</td>\n",
              "      <td>Executive</td>\n",
              "      <td>11.0</td>\n",
              "      <td>High</td>\n",
              "      <td>2.0</td>\n",
              "      <td>Cat_6</td>\n",
              "    </tr>\n",
              "    <tr>\n",
              "      <th>4</th>\n",
              "      <td>459001</td>\n",
              "      <td>Female</td>\n",
              "      <td>No</td>\n",
              "      <td>19</td>\n",
              "      <td>No</td>\n",
              "      <td>Marketing</td>\n",
              "      <td>NaN</td>\n",
              "      <td>Low</td>\n",
              "      <td>4.0</td>\n",
              "      <td>Cat_6</td>\n",
              "    </tr>\n",
              "  </tbody>\n",
              "</table>\n",
              "</div>\n",
              "      <button class=\"colab-df-convert\" onclick=\"convertToInteractive('df-ebd70d2d-c9fd-46a1-84b1-ff348a16af07')\"\n",
              "              title=\"Convert this dataframe to an interactive table.\"\n",
              "              style=\"display:none;\">\n",
              "        \n",
              "  <svg xmlns=\"http://www.w3.org/2000/svg\" height=\"24px\"viewBox=\"0 0 24 24\"\n",
              "       width=\"24px\">\n",
              "    <path d=\"M0 0h24v24H0V0z\" fill=\"none\"/>\n",
              "    <path d=\"M18.56 5.44l.94 2.06.94-2.06 2.06-.94-2.06-.94-.94-2.06-.94 2.06-2.06.94zm-11 1L8.5 8.5l.94-2.06 2.06-.94-2.06-.94L8.5 2.5l-.94 2.06-2.06.94zm10 10l.94 2.06.94-2.06 2.06-.94-2.06-.94-.94-2.06-.94 2.06-2.06.94z\"/><path d=\"M17.41 7.96l-1.37-1.37c-.4-.4-.92-.59-1.43-.59-.52 0-1.04.2-1.43.59L10.3 9.45l-7.72 7.72c-.78.78-.78 2.05 0 2.83L4 21.41c.39.39.9.59 1.41.59.51 0 1.02-.2 1.41-.59l7.78-7.78 2.81-2.81c.8-.78.8-2.07 0-2.86zM5.41 20L4 18.59l7.72-7.72 1.47 1.35L5.41 20z\"/>\n",
              "  </svg>\n",
              "      </button>\n",
              "      \n",
              "  <style>\n",
              "    .colab-df-container {\n",
              "      display:flex;\n",
              "      flex-wrap:wrap;\n",
              "      gap: 12px;\n",
              "    }\n",
              "\n",
              "    .colab-df-convert {\n",
              "      background-color: #E8F0FE;\n",
              "      border: none;\n",
              "      border-radius: 50%;\n",
              "      cursor: pointer;\n",
              "      display: none;\n",
              "      fill: #1967D2;\n",
              "      height: 32px;\n",
              "      padding: 0 0 0 0;\n",
              "      width: 32px;\n",
              "    }\n",
              "\n",
              "    .colab-df-convert:hover {\n",
              "      background-color: #E2EBFA;\n",
              "      box-shadow: 0px 1px 2px rgba(60, 64, 67, 0.3), 0px 1px 3px 1px rgba(60, 64, 67, 0.15);\n",
              "      fill: #174EA6;\n",
              "    }\n",
              "\n",
              "    [theme=dark] .colab-df-convert {\n",
              "      background-color: #3B4455;\n",
              "      fill: #D2E3FC;\n",
              "    }\n",
              "\n",
              "    [theme=dark] .colab-df-convert:hover {\n",
              "      background-color: #434B5C;\n",
              "      box-shadow: 0px 1px 3px 1px rgba(0, 0, 0, 0.15);\n",
              "      filter: drop-shadow(0px 1px 2px rgba(0, 0, 0, 0.3));\n",
              "      fill: #FFFFFF;\n",
              "    }\n",
              "  </style>\n",
              "\n",
              "      <script>\n",
              "        const buttonEl =\n",
              "          document.querySelector('#df-ebd70d2d-c9fd-46a1-84b1-ff348a16af07 button.colab-df-convert');\n",
              "        buttonEl.style.display =\n",
              "          google.colab.kernel.accessAllowed ? 'block' : 'none';\n",
              "\n",
              "        async function convertToInteractive(key) {\n",
              "          const element = document.querySelector('#df-ebd70d2d-c9fd-46a1-84b1-ff348a16af07');\n",
              "          const dataTable =\n",
              "            await google.colab.kernel.invokeFunction('convertToInteractive',\n",
              "                                                     [key], {});\n",
              "          if (!dataTable) return;\n",
              "\n",
              "          const docLinkHtml = 'Like what you see? Visit the ' +\n",
              "            '<a target=\"_blank\" href=https://colab.research.google.com/notebooks/data_table.ipynb>data table notebook</a>'\n",
              "            + ' to learn more about interactive tables.';\n",
              "          element.innerHTML = '';\n",
              "          dataTable['output_type'] = 'display_data';\n",
              "          await google.colab.output.renderOutput(dataTable, element);\n",
              "          const docLink = document.createElement('div');\n",
              "          docLink.innerHTML = docLinkHtml;\n",
              "          element.appendChild(docLink);\n",
              "        }\n",
              "      </script>\n",
              "    </div>\n",
              "  </div>\n",
              "  "
            ]
          },
          "metadata": {},
          "execution_count": 7
        }
      ]
    },
    {
      "cell_type": "code",
      "source": [
        "train['Segmentation'].value_counts()"
      ],
      "metadata": {
        "colab": {
          "base_uri": "https://localhost:8080/"
        },
        "id": "zHu7n0B44v6a",
        "outputId": "686db960-7f46-4697-d9ec-c92ca5f52b7d"
      },
      "execution_count": null,
      "outputs": [
        {
          "output_type": "execute_result",
          "data": {
            "text/plain": [
              "D    2268\n",
              "A    1972\n",
              "C    1970\n",
              "B    1858\n",
              "Name: Segmentation, dtype: int64"
            ]
          },
          "metadata": {},
          "execution_count": 8
        }
      ]
    },
    {
      "cell_type": "code",
      "source": [
        "trace1 = go.Pie(values = train['Segmentation'].value_counts(),labels = train['Segmentation'].unique(),textinfo='percent',insidetextorientation='radial',legendgroup='show')\n",
        "trace2 = go.Histogram(x = train['Segmentation'],marker=dict(color='red'))\n",
        "#data = [trace1,trace2]\n",
        "#layout = go.Layout(title = 'Customer Segmentation')\n",
        "#fig = go.Figure(data = data, layout = layout)\n",
        "fig = make_subplots(rows=1, cols=2,subplot_titles=('Pie chart','Bar chart'),specs=[[{\"type\": \"pie\"}, {\"type\": \"histogram\"}]])  \n",
        "\n",
        "                          \n",
        "fig.append_trace(trace1,1,1)\n",
        "fig.append_trace(trace2,1,2)\n",
        "fig['layout'].update(title='Customer Segmentation')\n",
        "fig.show();"
      ],
      "metadata": {
        "colab": {
          "base_uri": "https://localhost:8080/",
          "height": 542
        },
        "id": "cy12iWVr45sT",
        "outputId": "559791ea-0ab9-4210-ef70-f10a4e9918cc"
      },
      "execution_count": null,
      "outputs": [
        {
          "output_type": "display_data",
          "data": {
            "text/html": [
              "<html>\n",
              "<head><meta charset=\"utf-8\" /></head>\n",
              "<body>\n",
              "    <div>            <script src=\"https://cdnjs.cloudflare.com/ajax/libs/mathjax/2.7.5/MathJax.js?config=TeX-AMS-MML_SVG\"></script><script type=\"text/javascript\">if (window.MathJax) {MathJax.Hub.Config({SVG: {font: \"STIX-Web\"}});}</script>                <script type=\"text/javascript\">window.PlotlyConfig = {MathJaxConfig: 'local'};</script>\n",
              "        <script src=\"https://cdn.plot.ly/plotly-2.8.3.min.js\"></script>                <div id=\"833a0b7e-f276-478f-aaee-a04a88aee464\" class=\"plotly-graph-div\" style=\"height:525px; width:100%;\"></div>            <script type=\"text/javascript\">                                    window.PLOTLYENV=window.PLOTLYENV || {};                                    if (document.getElementById(\"833a0b7e-f276-478f-aaee-a04a88aee464\")) {                    Plotly.newPlot(                        \"833a0b7e-f276-478f-aaee-a04a88aee464\",                        [{\"insidetextorientation\":\"radial\",\"labels\":[\"D\",\"A\",\"B\",\"C\"],\"legendgroup\":\"show\",\"textinfo\":\"percent\",\"values\":[2268,1972,1970,1858],\"type\":\"pie\",\"domain\":{\"x\":[0.0,0.45],\"y\":[0.0,1.0]}},{\"marker\":{\"color\":\"red\"},\"x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type\":\"histogram\",\"xaxis\":\"x\",\"yaxis\":\"y\"}],                        {\"template\":{\"data\":{\"bar\":[{\"error_x\":{\"color\":\"#2a3f5f\"},\"error_y\":{\"color\":\"#2a3f5f\"},\"marker\":{\"line\":{\"color\":\"#E5ECF6\",\"width\":0.5},\"pattern\":{\"fillmode\":\"overlay\",\"size\":10,\"solidity\":0.2}},\"type\":\"bar\"}],\"barpolar\":[{\"marker\":{\"line\":{\"color\":\"#E5ECF6\",\"width\":0.5},\"pattern\":{\"fillmode\":\"overlay\",\"size\":10,\"solidity\":0.2}},\"type\":\"barpolar\"}],\"carpet\":[{\"aaxis\":{\"endlinecolor\":\"#2a3f5f\",\"gridcolor\":\"white\",\"linecolor\":\"white\",\"minorgridcolor\":\"white\",\"startlinecolor\":\"#2a3f5f\"},\"baxis\":{\"endlinecolor\":\"#2a3f5f\",\"gridcolor\":\"white\",\"linecolor\":\"white\",\"minorgridcolor\":\"white\",\"startlinecolor\":\"#2a3f5f\"},\"type\":\"carpet\"}],\"choropleth\":[{\"colorbar\":{\"outlinewidth\":0,\"ticks\":\"\"},\"type\":\"choropleth\"}],\"contour\":[{\"colorbar\":{\"outlinewidth\":0,\"ticks\":\"\"},\"colorscale\":[[0.0,\"#0d0887\"],[0.1111111111111111,\"#46039f\"],[0.2222222222222222,\"#7201a8\"],[0.3333333333333333,\"#9c179e\"],[0.4444444444444444,\"#bd3786\"],[0.5555555555555556,\"#d8576b\"],[0.6666666666666666,\"#ed7953\"],[0.7777777777777778,\"#fb9f3a\"],[0.8888888888888888,\"#fdca26\"],[1.0,\"#f0f921\"]],\"type\":\"contour\"}],\"contourcarpet\":[{\"colorbar\":{\"outlinewidth\":0,\"ticks\":\"\"},\"type\":\"contourcarpet\"}],\"heatmap\":[{\"colorbar\":{\"outlinewidth\":0,\"ticks\":\"\"},\"colorscale\":[[0.0,\"#0d0887\"],[0.1111111111111111,\"#46039f\"],[0.2222222222222222,\"#7201a8\"],[0.3333333333333333,\"#9c179e\"],[0.4444444444444444,\"#bd3786\"],[0.5555555555555556,\"#d8576b\"],[0.6666666666666666,\"#ed7953\"],[0.7777777777777778,\"#fb9f3a\"],[0.8888888888888888,\"#fdca26\"],[1.0,\"#f0f921\"]],\"type\":\"heatmap\"}],\"heatmapgl\":[{\"colorbar\":{\"outlinewidth\":0,\"ticks\":\"\"},\"colorscale\":[[0.0,\"#0d0887\"],[0.1111111111111111,\"#46039f\"],[0.2222222222222222,\"#7201a8\"],[0.3333333333333333,\"#9c179e\"],[0.4444444444444444,\"#bd3786\"],[0.5555555555555556,\"#d8576b\"],[0.6666666666666666,\"#ed7953\"],[0.7777777777777778,\"#fb9f3a\"],[0.8888888888888888,\"#fdca26\"],[1.0,\"#f0f921\"]],\"type\":\"heatmapgl\"}],\"histogram\":[{\"marker\":{\"pattern\":{\"fillmode\":\"overlay\",\"size\":10,\"solidity\":0.2}},\"type\":\"histogram\"}],\"histogram2d\":[{\"colorbar\":{\"outlinewidth\":0,\"ticks\":\"\"},\"colorscale\":[[0.0,\"#0d0887\"],[0.1111111111111111,\"#46039f\"],[0.2222222222222222,\"#7201a8\"],[0.3333333333333333,\"#9c179e\"],[0.4444444444444444,\"#bd3786\"],[0.5555555555555556,\"#d8576b\"],[0.6666666666666666,\"#ed7953\"],[0.7777777777777778,\"#fb9f3a\"],[0.8888888888888888,\"#fdca26\"],[1.0,\"#f0f921\"]],\"type\":\"histogram2d\"}],\"histogram2dcontour\":[{\"colorbar\":{\"outlinewidth\":0,\"ticks\":\"\"},\"colorscale\":[[0.0,\"#0d0887\"],[0.1111111111111111,\"#46039f\"],[0.2222222222222222,\"#7201a8\"],[0.3333333333333333,\"#9c179e\"],[0.4444444444444444,\"#bd3786\"],[0.5555555555555556,\"#d8576b\"],[0.6666666666666666,\"#ed7953\"],[0.7777777777777778,\"#fb9f3a\"],[0.8888888888888888,\"#fdca26\"],[1.0,\"#f0f921\"]],\"type\":\"histogram2dcontour\"}],\"mesh3d\":[{\"colorbar\":{\"outlinewidth\":0,\"ticks\":\"\"},\"type\":\"mesh3d\"}],\"parcoords\":[{\"line\":{\"colorbar\":{\"outlinewidth\":0,\"ticks\":\"\"}},\"type\":\"parcoords\"}],\"pie\":[{\"automargin\":true,\"type\":\"pie\"}],\"scatter\":[{\"marker\":{\"colorbar\":{\"outlinewidth\":0,\"ticks\":\"\"}},\"type\":\"scatter\"}],\"scatter3d\":[{\"line\":{\"colorbar\":{\"outlinewidth\":0,\"ticks\":\"\"}},\"marker\":{\"colorbar\":{\"outlinewidth\":0,\"ticks\":\"\"}},\"type\":\"scatter3d\"}],\"scattercarpet\":[{\"marker\":{\"colorbar\":{\"outlinewidth\":0,\"ticks\":\"\"}},\"type\":\"scattercarpet\"}],\"scattergeo\":[{\"marker\":{\"colorbar\":{\"outlinewidth\":0,\"ticks\":\"\"}},\"type\":\"scattergeo\"}],\"scattergl\":[{\"marker\":{\"colorbar\":{\"outlinewidth\":0,\"ticks\":\"\"}},\"type\":\"scattergl\"}],\"scattermapbox\":[{\"marker\":{\"colorbar\":{\"outlinewidth\":0,\"ticks\":\"\"}},\"type\":\"scattermapbox\"}],\"scatterpolar\":[{\"marker\":{\"colorbar\":{\"outlinewidth\":0,\"ticks\":\"\"}},\"type\":\"scatterpolar\"}],\"scatterpolargl\":[{\"marker\":{\"colorbar\":{\"outlinewidth\":0,\"ticks\":\"\"}},\"type\":\"scatterpolargl\"}],\"scatterternary\":[{\"marker\":{\"colorbar\":{\"outlinewidth\":0,\"ticks\":\"\"}},\"type\":\"scatterternary\"}],\"surface\":[{\"colorbar\":{\"outlinewidth\":0,\"ticks\":\"\"},\"colorscale\":[[0.0,\"#0d0887\"],[0.1111111111111111,\"#46039f\"],[0.2222222222222222,\"#7201a8\"],[0.3333333333333333,\"#9c179e\"],[0.4444444444444444,\"#bd3786\"],[0.5555555555555556,\"#d8576b\"],[0.6666666666666666,\"#ed7953\"],[0.7777777777777778,\"#fb9f3a\"],[0.8888888888888888,\"#fdca26\"],[1.0,\"#f0f921\"]],\"type\":\"surface\"}],\"table\":[{\"cells\":{\"fill\":{\"color\":\"#EBF0F8\"},\"line\":{\"color\":\"white\"}},\"header\":{\"fill\":{\"color\":\"#C8D4E3\"},\"line\":{\"color\":\"white\"}},\"type\":\"table\"}]},\"layout\":{\"annotationdefaults\":{\"arrowcolor\":\"#2a3f5f\",\"arrowhead\":0,\"arrowwidth\":1},\"autotypenumbers\":\"strict\",\"coloraxis\":{\"colorbar\":{\"outlinewidth\":0,\"ticks\":\"\"}},\"colorscale\":{\"diverging\":[[0,\"#8e0152\"],[0.1,\"#c51b7d\"],[0.2,\"#de77ae\"],[0.3,\"#f1b6da\"],[0.4,\"#fde0ef\"],[0.5,\"#f7f7f7\"],[0.6,\"#e6f5d0\"],[0.7,\"#b8e186\"],[0.8,\"#7fbc41\"],[0.9,\"#4d9221\"],[1,\"#276419\"]],\"sequential\":[[0.0,\"#0d0887\"],[0.1111111111111111,\"#46039f\"],[0.2222222222222222,\"#7201a8\"],[0.3333333333333333,\"#9c179e\"],[0.4444444444444444,\"#bd3786\"],[0.5555555555555556,\"#d8576b\"],[0.6666666666666666,\"#ed7953\"],[0.7777777777777778,\"#fb9f3a\"],[0.8888888888888888,\"#fdca26\"],[1.0,\"#f0f921\"]],\"sequentialminus\":[[0.0,\"#0d0887\"],[0.1111111111111111,\"#46039f\"],[0.2222222222222222,\"#7201a8\"],[0.3333333333333333,\"#9c179e\"],[0.4444444444444444,\"#bd3786\"],[0.5555555555555556,\"#d8576b\"],[0.6666666666666666,\"#ed7953\"],[0.7777777777777778,\"#fb9f3a\"],[0.8888888888888888,\"#fdca26\"],[1.0,\"#f0f921\"]]},\"colorway\":[\"#636efa\",\"#EF553B\",\"#00cc96\",\"#ab63fa\",\"#FFA15A\",\"#19d3f3\",\"#FF6692\",\"#B6E880\",\"#FF97FF\",\"#FECB52\"],\"font\":{\"color\":\"#2a3f5f\"},\"geo\":{\"bgcolor\":\"white\",\"lakecolor\":\"white\",\"landcolor\":\"#E5ECF6\",\"showlakes\":true,\"showland\":true,\"subunitcolor\":\"white\"},\"hoverlabel\":{\"align\":\"left\"},\"hovermode\":\"closest\",\"mapbox\":{\"style\":\"light\"},\"paper_bgcolor\":\"white\",\"plot_bgcolor\":\"#E5ECF6\",\"polar\":{\"angularaxis\":{\"gridcolor\":\"white\",\"linecolor\":\"white\",\"ticks\":\"\"},\"bgcolor\":\"#E5ECF6\",\"radialaxis\":{\"gridcolor\":\"white\",\"linecolor\":\"white\",\"ticks\":\"\"}},\"scene\":{\"xaxis\":{\"backgroundcolor\":\"#E5ECF6\",\"gridcolor\":\"white\",\"gridwidth\":2,\"linecolor\":\"white\",\"showbackground\":true,\"ticks\":\"\",\"zerolinecolor\":\"white\"},\"yaxis\":{\"backgroundcolor\":\"#E5ECF6\",\"gridcolor\":\"white\",\"gridwidth\":2,\"linecolor\":\"white\",\"showbackground\":true,\"ticks\":\"\",\"zerolinecolor\":\"white\"},\"zaxis\":{\"backgroundcolor\":\"#E5ECF6\",\"gridcolor\":\"white\",\"gridwidth\":2,\"linecolor\":\"white\",\"showbackground\":true,\"ticks\":\"\",\"zerolinecolor\":\"white\"}},\"shapedefaults\":{\"line\":{\"color\":\"#2a3f5f\"}},\"ternary\":{\"aaxis\":{\"gridcolor\":\"white\",\"linecolor\":\"white\",\"ticks\":\"\"},\"baxis\":{\"gridcolor\":\"white\",\"linecolor\":\"white\",\"ticks\":\"\"},\"bgcolor\":\"#E5ECF6\",\"caxis\":{\"gridcolor\":\"white\",\"linecolor\":\"white\",\"ticks\":\"\"}},\"title\":{\"x\":0.05},\"xaxis\":{\"automargin\":true,\"gridcolor\":\"white\",\"linecolor\":\"white\",\"ticks\":\"\",\"title\":{\"standoff\":15},\"zerolinecolor\":\"white\",\"zerolinewidth\":2},\"yaxis\":{\"automargin\":true,\"gridcolor\":\"white\",\"linecolor\":\"white\",\"ticks\":\"\",\"title\":{\"standoff\":15},\"zerolinecolor\":\"white\",\"zerolinewidth\":2}}},\"xaxis\":{\"anchor\":\"y\",\"domain\":[0.55,1.0]},\"yaxis\":{\"anchor\":\"x\",\"domain\":[0.0,1.0]},\"annotations\":[{\"font\":{\"size\":16},\"showarrow\":false,\"text\":\"Pie chart\",\"x\":0.225,\"xanchor\":\"center\",\"xref\":\"paper\",\"y\":1.0,\"yanchor\":\"bottom\",\"yref\":\"paper\"},{\"font\":{\"size\":16},\"showarrow\":false,\"text\":\"Bar chart\",\"x\":0.775,\"xanchor\":\"center\",\"xref\":\"paper\",\"y\":1.0,\"yanchor\":\"bottom\",\"yref\":\"paper\"}],\"title\":{\"text\":\"Customer Segmentation\"}},                        {\"responsive\": true}                    ).then(function(){\n",
              "                            \n",
              "var gd = document.getElementById('833a0b7e-f276-478f-aaee-a04a88aee464');\n",
              "var x = new MutationObserver(function (mutations, observer) {{\n",
              "        var display = window.getComputedStyle(gd).display;\n",
              "        if (!display || display === 'none') {{\n",
              "            console.log([gd, 'removed!']);\n",
              "            Plotly.purge(gd);\n",
              "            observer.disconnect();\n",
              "        }}\n",
              "}});\n",
              "\n",
              "// Listen for the removal of the full notebook cells\n",
              "var notebookContainer = gd.closest('#notebook-container');\n",
              "if (notebookContainer) {{\n",
              "    x.observe(notebookContainer, {childList: true});\n",
              "}}\n",
              "\n",
              "// Listen for the clearing of the current output cell\n",
              "var outputEl = gd.closest('.output');\n",
              "if (outputEl) {{\n",
              "    x.observe(outputEl, {childList: true});\n",
              "}}\n",
              "\n",
              "                        })                };                            </script>        </div>\n",
              "</body>\n",
              "</html>"
            ]
          },
          "metadata": {}
        }
      ]
    },
    {
      "cell_type": "code",
      "source": [
        "train.describe()"
      ],
      "metadata": {
        "colab": {
          "base_uri": "https://localhost:8080/",
          "height": 300
        },
        "id": "ZRAEEPVj5ErW",
        "outputId": "be8aaa04-fa9b-4d7d-e56e-589071a47126"
      },
      "execution_count": null,
      "outputs": [
        {
          "output_type": "execute_result",
          "data": {
            "text/plain": [
              "                  ID          Age  Work_Experience  Family_Size\n",
              "count    8068.000000  8068.000000      7239.000000  7733.000000\n",
              "mean   463479.214551    43.466906         2.641663     2.850123\n",
              "std      2595.381232    16.711696         3.406763     1.531413\n",
              "min    458982.000000    18.000000         0.000000     1.000000\n",
              "25%    461240.750000    30.000000         0.000000     2.000000\n",
              "50%    463472.500000    40.000000         1.000000     3.000000\n",
              "75%    465744.250000    53.000000         4.000000     4.000000\n",
              "max    467974.000000    89.000000        14.000000     9.000000"
            ],
            "text/html": [
              "\n",
              "  <div id=\"df-90de439b-1fe3-4353-9aea-bde38d63278a\">\n",
              "    <div class=\"colab-df-container\">\n",
              "      <div>\n",
              "<style scoped>\n",
              "    .dataframe tbody tr th:only-of-type {\n",
              "        vertical-align: middle;\n",
              "    }\n",
              "\n",
              "    .dataframe tbody tr th {\n",
              "        vertical-align: top;\n",
              "    }\n",
              "\n",
              "    .dataframe thead th {\n",
              "        text-align: right;\n",
              "    }\n",
              "</style>\n",
              "<table border=\"1\" class=\"dataframe\">\n",
              "  <thead>\n",
              "    <tr style=\"text-align: right;\">\n",
              "      <th></th>\n",
              "      <th>ID</th>\n",
              "      <th>Age</th>\n",
              "      <th>Work_Experience</th>\n",
              "      <th>Family_Size</th>\n",
              "    </tr>\n",
              "  </thead>\n",
              "  <tbody>\n",
              "    <tr>\n",
              "      <th>count</th>\n",
              "      <td>8068.000000</td>\n",
              "      <td>8068.000000</td>\n",
              "      <td>7239.000000</td>\n",
              "      <td>7733.000000</td>\n",
              "    </tr>\n",
              "    <tr>\n",
              "      <th>mean</th>\n",
              "      <td>463479.214551</td>\n",
              "      <td>43.466906</td>\n",
              "      <td>2.641663</td>\n",
              "      <td>2.850123</td>\n",
              "    </tr>\n",
              "    <tr>\n",
              "      <th>std</th>\n",
              "      <td>2595.381232</td>\n",
              "      <td>16.711696</td>\n",
              "      <td>3.406763</td>\n",
              "      <td>1.531413</td>\n",
              "    </tr>\n",
              "    <tr>\n",
              "      <th>min</th>\n",
              "      <td>458982.000000</td>\n",
              "      <td>18.000000</td>\n",
              "      <td>0.000000</td>\n",
              "      <td>1.000000</td>\n",
              "    </tr>\n",
              "    <tr>\n",
              "      <th>25%</th>\n",
              "      <td>461240.750000</td>\n",
              "      <td>30.000000</td>\n",
              "      <td>0.000000</td>\n",
              "      <td>2.000000</td>\n",
              "    </tr>\n",
              "    <tr>\n",
              "      <th>50%</th>\n",
              "      <td>463472.500000</td>\n",
              "      <td>40.000000</td>\n",
              "      <td>1.000000</td>\n",
              "      <td>3.000000</td>\n",
              "    </tr>\n",
              "    <tr>\n",
              "      <th>75%</th>\n",
              "      <td>465744.250000</td>\n",
              "      <td>53.000000</td>\n",
              "      <td>4.000000</td>\n",
              "      <td>4.000000</td>\n",
              "    </tr>\n",
              "    <tr>\n",
              "      <th>max</th>\n",
              "      <td>467974.000000</td>\n",
              "      <td>89.000000</td>\n",
              "      <td>14.000000</td>\n",
              "      <td>9.000000</td>\n",
              "    </tr>\n",
              "  </tbody>\n",
              "</table>\n",
              "</div>\n",
              "      <button class=\"colab-df-convert\" onclick=\"convertToInteractive('df-90de439b-1fe3-4353-9aea-bde38d63278a')\"\n",
              "              title=\"Convert this dataframe to an interactive table.\"\n",
              "              style=\"display:none;\">\n",
              "        \n",
              "  <svg xmlns=\"http://www.w3.org/2000/svg\" height=\"24px\"viewBox=\"0 0 24 24\"\n",
              "       width=\"24px\">\n",
              "    <path d=\"M0 0h24v24H0V0z\" fill=\"none\"/>\n",
              "    <path d=\"M18.56 5.44l.94 2.06.94-2.06 2.06-.94-2.06-.94-.94-2.06-.94 2.06-2.06.94zm-11 1L8.5 8.5l.94-2.06 2.06-.94-2.06-.94L8.5 2.5l-.94 2.06-2.06.94zm10 10l.94 2.06.94-2.06 2.06-.94-2.06-.94-.94-2.06-.94 2.06-2.06.94z\"/><path d=\"M17.41 7.96l-1.37-1.37c-.4-.4-.92-.59-1.43-.59-.52 0-1.04.2-1.43.59L10.3 9.45l-7.72 7.72c-.78.78-.78 2.05 0 2.83L4 21.41c.39.39.9.59 1.41.59.51 0 1.02-.2 1.41-.59l7.78-7.78 2.81-2.81c.8-.78.8-2.07 0-2.86zM5.41 20L4 18.59l7.72-7.72 1.47 1.35L5.41 20z\"/>\n",
              "  </svg>\n",
              "      </button>\n",
              "      \n",
              "  <style>\n",
              "    .colab-df-container {\n",
              "      display:flex;\n",
              "      flex-wrap:wrap;\n",
              "      gap: 12px;\n",
              "    }\n",
              "\n",
              "    .colab-df-convert {\n",
              "      background-color: #E8F0FE;\n",
              "      border: none;\n",
              "      border-radius: 50%;\n",
              "      cursor: pointer;\n",
              "      display: none;\n",
              "      fill: #1967D2;\n",
              "      height: 32px;\n",
              "      padding: 0 0 0 0;\n",
              "      width: 32px;\n",
              "    }\n",
              "\n",
              "    .colab-df-convert:hover {\n",
              "      background-color: #E2EBFA;\n",
              "      box-shadow: 0px 1px 2px rgba(60, 64, 67, 0.3), 0px 1px 3px 1px rgba(60, 64, 67, 0.15);\n",
              "      fill: #174EA6;\n",
              "    }\n",
              "\n",
              "    [theme=dark] .colab-df-convert {\n",
              "      background-color: #3B4455;\n",
              "      fill: #D2E3FC;\n",
              "    }\n",
              "\n",
              "    [theme=dark] .colab-df-convert:hover {\n",
              "      background-color: #434B5C;\n",
              "      box-shadow: 0px 1px 3px 1px rgba(0, 0, 0, 0.15);\n",
              "      filter: drop-shadow(0px 1px 2px rgba(0, 0, 0, 0.3));\n",
              "      fill: #FFFFFF;\n",
              "    }\n",
              "  </style>\n",
              "\n",
              "      <script>\n",
              "        const buttonEl =\n",
              "          document.querySelector('#df-90de439b-1fe3-4353-9aea-bde38d63278a button.colab-df-convert');\n",
              "        buttonEl.style.display =\n",
              "          google.colab.kernel.accessAllowed ? 'block' : 'none';\n",
              "\n",
              "        async function convertToInteractive(key) {\n",
              "          const element = document.querySelector('#df-90de439b-1fe3-4353-9aea-bde38d63278a');\n",
              "          const dataTable =\n",
              "            await google.colab.kernel.invokeFunction('convertToInteractive',\n",
              "                                                     [key], {});\n",
              "          if (!dataTable) return;\n",
              "\n",
              "          const docLinkHtml = 'Like what you see? Visit the ' +\n",
              "            '<a target=\"_blank\" href=https://colab.research.google.com/notebooks/data_table.ipynb>data table notebook</a>'\n",
              "            + ' to learn more about interactive tables.';\n",
              "          element.innerHTML = '';\n",
              "          dataTable['output_type'] = 'display_data';\n",
              "          await google.colab.output.renderOutput(dataTable, element);\n",
              "          const docLink = document.createElement('div');\n",
              "          docLink.innerHTML = docLinkHtml;\n",
              "          element.appendChild(docLink);\n",
              "        }\n",
              "      </script>\n",
              "    </div>\n",
              "  </div>\n",
              "  "
            ]
          },
          "metadata": {},
          "execution_count": 10
        }
      ]
    },
    {
      "cell_type": "code",
      "source": [
        "train.dtypes"
      ],
      "metadata": {
        "colab": {
          "base_uri": "https://localhost:8080/"
        },
        "id": "aGtXa5-y5LVH",
        "outputId": "07a72ead-1e9f-425e-8fab-979940467696"
      },
      "execution_count": null,
      "outputs": [
        {
          "output_type": "execute_result",
          "data": {
            "text/plain": [
              "ID                   int64\n",
              "Gender              object\n",
              "Ever_Married        object\n",
              "Age                  int64\n",
              "Graduated           object\n",
              "Profession          object\n",
              "Work_Experience    float64\n",
              "Spending_Score      object\n",
              "Family_Size        float64\n",
              "Var_1               object\n",
              "Segmentation        object\n",
              "dtype: object"
            ]
          },
          "metadata": {},
          "execution_count": 11
        }
      ]
    },
    {
      "cell_type": "code",
      "source": [
        "cat_cols = ['Gender','Ever_Married','Graduated','Profession','Spending_Score','Var_1']\n",
        "nom_cols = ['Age','Work_Experience','Family_Size']\n",
        "tag = 'Segmentation'"
      ],
      "metadata": {
        "id": "CPja9kVn5VIu"
      },
      "execution_count": null,
      "outputs": []
    },
    {
      "cell_type": "code",
      "source": [
        "colors = ['blue','hotpink']\n",
        "data = [go.Bar(x = train['Gender'].unique(), y = train['Gender'].value_counts(), marker_color=colors,text=train['Gender'].value_counts(),textposition='auto')]\n",
        "layout = go.Layout(title = 'Gender')\n",
        "fig = go.Figure(data = data, layout = layout)\n",
        "fig.show()"
      ],
      "metadata": {
        "colab": {
          "base_uri": "https://localhost:8080/",
          "height": 542
        },
        "id": "FBVwTuKf5b2k",
        "outputId": "01cf0f6d-6713-4d96-8bbd-4d9ffd25976d"
      },
      "execution_count": null,
      "outputs": [
        {
          "output_type": "display_data",
          "data": {
            "text/html": [
              "<html>\n",
              "<head><meta charset=\"utf-8\" /></head>\n",
              "<body>\n",
              "    <div>            <script src=\"https://cdnjs.cloudflare.com/ajax/libs/mathjax/2.7.5/MathJax.js?config=TeX-AMS-MML_SVG\"></script><script type=\"text/javascript\">if (window.MathJax) {MathJax.Hub.Config({SVG: {font: \"STIX-Web\"}});}</script>                <script type=\"text/javascript\">window.PlotlyConfig = {MathJaxConfig: 'local'};</script>\n",
              "        <script src=\"https://cdn.plot.ly/plotly-2.8.3.min.js\"></script>                <div id=\"cea673c5-e1d0-4bf2-ae21-69e5022f9097\" class=\"plotly-graph-div\" style=\"height:525px; width:100%;\"></div>            <script type=\"text/javascript\">                                    window.PLOTLYENV=window.PLOTLYENV || {};                                    if (document.getElementById(\"cea673c5-e1d0-4bf2-ae21-69e5022f9097\")) {                    Plotly.newPlot(                        \"cea673c5-e1d0-4bf2-ae21-69e5022f9097\",                        [{\"marker\":{\"color\":[\"blue\",\"hotpink\"]},\"text\":[4417.0,3651.0],\"textposition\":\"auto\",\"x\":[\"Male\",\"Female\"],\"y\":[4417,3651],\"type\":\"bar\"}],                        {\"title\":{\"text\":\"Gender\"},\"template\":{\"data\":{\"bar\":[{\"error_x\":{\"color\":\"#2a3f5f\"},\"error_y\":{\"color\":\"#2a3f5f\"},\"marker\":{\"line\":{\"color\":\"#E5ECF6\",\"width\":0.5},\"pattern\":{\"fillmode\":\"overlay\",\"size\":10,\"solidity\":0.2}},\"type\":\"bar\"}],\"barpolar\":[{\"marker\":{\"line\":{\"color\":\"#E5ECF6\",\"width\":0.5},\"pattern\":{\"fillmode\":\"overlay\",\"size\":10,\"solidity\":0.2}},\"type\":\"barpolar\"}],\"carpet\":[{\"aaxis\":{\"endlinecolor\":\"#2a3f5f\",\"gridcolor\":\"white\",\"linecolor\":\"white\",\"minorgridcolor\":\"white\",\"startlinecolor\":\"#2a3f5f\"},\"baxis\":{\"endlinecolor\":\"#2a3f5f\",\"gridcolor\":\"white\",\"linecolor\":\"white\",\"minorgridcolor\":\"white\",\"startlinecolor\":\"#2a3f5f\"},\"type\":\"carpet\"}],\"choropleth\":[{\"colorbar\":{\"outlinewidth\":0,\"ticks\":\"\"},\"type\":\"choropleth\"}],\"contour\":[{\"colorbar\":{\"outlinewidth\":0,\"ticks\":\"\"},\"colorscale\":[[0.0,\"#0d0887\"],[0.1111111111111111,\"#46039f\"],[0.2222222222222222,\"#7201a8\"],[0.3333333333333333,\"#9c179e\"],[0.4444444444444444,\"#bd3786\"],[0.5555555555555556,\"#d8576b\"],[0.6666666666666666,\"#ed7953\"],[0.7777777777777778,\"#fb9f3a\"],[0.8888888888888888,\"#fdca26\"],[1.0,\"#f0f921\"]],\"type\":\"contour\"}],\"contourcarpet\":[{\"colorbar\":{\"outlinewidth\":0,\"ticks\":\"\"},\"type\":\"contourcarpet\"}],\"heatmap\":[{\"colorbar\":{\"outlinewidth\":0,\"ticks\":\"\"},\"colorscale\":[[0.0,\"#0d0887\"],[0.1111111111111111,\"#46039f\"],[0.2222222222222222,\"#7201a8\"],[0.3333333333333333,\"#9c179e\"],[0.4444444444444444,\"#bd3786\"],[0.5555555555555556,\"#d8576b\"],[0.6666666666666666,\"#ed7953\"],[0.7777777777777778,\"#fb9f3a\"],[0.8888888888888888,\"#fdca26\"],[1.0,\"#f0f921\"]],\"type\":\"heatmap\"}],\"heatmapgl\":[{\"colorbar\":{\"outlinewidth\":0,\"ticks\":\"\"},\"colorscale\":[[0.0,\"#0d0887\"],[0.1111111111111111,\"#46039f\"],[0.2222222222222222,\"#7201a8\"],[0.3333333333333333,\"#9c179e\"],[0.4444444444444444,\"#bd3786\"],[0.5555555555555556,\"#d8576b\"],[0.6666666666666666,\"#ed7953\"],[0.7777777777777778,\"#fb9f3a\"],[0.8888888888888888,\"#fdca26\"],[1.0,\"#f0f921\"]],\"type\":\"heatmapgl\"}],\"histogram\":[{\"marker\":{\"pattern\":{\"fillmode\":\"overlay\",\"size\":10,\"solidity\":0.2}},\"type\":\"histogram\"}],\"histogram2d\":[{\"colorbar\":{\"outlinewidth\":0,\"ticks\":\"\"},\"colorscale\":[[0.0,\"#0d0887\"],[0.1111111111111111,\"#46039f\"],[0.2222222222222222,\"#7201a8\"],[0.3333333333333333,\"#9c179e\"],[0.4444444444444444,\"#bd3786\"],[0.5555555555555556,\"#d8576b\"],[0.6666666666666666,\"#ed7953\"],[0.7777777777777778,\"#fb9f3a\"],[0.8888888888888888,\"#fdca26\"],[1.0,\"#f0f921\"]],\"type\":\"histogram2d\"}],\"histogram2dcontour\":[{\"colorbar\":{\"outlinewidth\":0,\"ticks\":\"\"},\"colorscale\":[[0.0,\"#0d0887\"],[0.1111111111111111,\"#46039f\"],[0.2222222222222222,\"#7201a8\"],[0.3333333333333333,\"#9c179e\"],[0.4444444444444444,\"#bd3786\"],[0.5555555555555556,\"#d8576b\"],[0.6666666666666666,\"#ed7953\"],[0.7777777777777778,\"#fb9f3a\"],[0.8888888888888888,\"#fdca26\"],[1.0,\"#f0f921\"]],\"type\":\"histogram2dcontour\"}],\"mesh3d\":[{\"colorbar\":{\"outlinewidth\":0,\"ticks\":\"\"},\"type\":\"mesh3d\"}],\"parcoords\":[{\"line\":{\"colorbar\":{\"outlinewidth\":0,\"ticks\":\"\"}},\"type\":\"parcoords\"}],\"pie\":[{\"automargin\":true,\"type\":\"pie\"}],\"scatter\":[{\"marker\":{\"colorbar\":{\"outlinewidth\":0,\"ticks\":\"\"}},\"type\":\"scatter\"}],\"scatter3d\":[{\"line\":{\"colorbar\":{\"outlinewidth\":0,\"ticks\":\"\"}},\"marker\":{\"colorbar\":{\"outlinewidth\":0,\"ticks\":\"\"}},\"type\":\"scatter3d\"}],\"scattercarpet\":[{\"marker\":{\"colorbar\":{\"outlinewidth\":0,\"ticks\":\"\"}},\"type\":\"scattercarpet\"}],\"scattergeo\":[{\"marker\":{\"colorbar\":{\"outlinewidth\":0,\"ticks\":\"\"}},\"type\":\"scattergeo\"}],\"scattergl\":[{\"marker\":{\"colorbar\":{\"outlinewidth\":0,\"ticks\":\"\"}},\"type\":\"scattergl\"}],\"scattermapbox\":[{\"marker\":{\"colorbar\":{\"outlinewidth\":0,\"ticks\":\"\"}},\"type\":\"scattermapbox\"}],\"scatterpolar\":[{\"marker\":{\"colorbar\":{\"outlinewidth\":0,\"ticks\":\"\"}},\"type\":\"scatterpolar\"}],\"scatterpolargl\":[{\"marker\":{\"colorbar\":{\"outlinewidth\":0,\"ticks\":\"\"}},\"type\":\"scatterpolargl\"}],\"scatterternary\":[{\"marker\":{\"colorbar\":{\"outlinewidth\":0,\"ticks\":\"\"}},\"type\":\"scatterternary\"}],\"surface\":[{\"colorbar\":{\"outlinewidth\":0,\"ticks\":\"\"},\"colorscale\":[[0.0,\"#0d0887\"],[0.1111111111111111,\"#46039f\"],[0.2222222222222222,\"#7201a8\"],[0.3333333333333333,\"#9c179e\"],[0.4444444444444444,\"#bd3786\"],[0.5555555555555556,\"#d8576b\"],[0.6666666666666666,\"#ed7953\"],[0.7777777777777778,\"#fb9f3a\"],[0.8888888888888888,\"#fdca26\"],[1.0,\"#f0f921\"]],\"type\":\"surface\"}],\"table\":[{\"cells\":{\"fill\":{\"color\":\"#EBF0F8\"},\"line\":{\"color\":\"white\"}},\"header\":{\"fill\":{\"color\":\"#C8D4E3\"},\"line\":{\"color\":\"white\"}},\"type\":\"table\"}]},\"layout\":{\"annotationdefaults\":{\"arrowcolor\":\"#2a3f5f\",\"arrowhead\":0,\"arrowwidth\":1},\"autotypenumbers\":\"strict\",\"coloraxis\":{\"colorbar\":{\"outlinewidth\":0,\"ticks\":\"\"}},\"colorscale\":{\"diverging\":[[0,\"#8e0152\"],[0.1,\"#c51b7d\"],[0.2,\"#de77ae\"],[0.3,\"#f1b6da\"],[0.4,\"#fde0ef\"],[0.5,\"#f7f7f7\"],[0.6,\"#e6f5d0\"],[0.7,\"#b8e186\"],[0.8,\"#7fbc41\"],[0.9,\"#4d9221\"],[1,\"#276419\"]],\"sequential\":[[0.0,\"#0d0887\"],[0.1111111111111111,\"#46039f\"],[0.2222222222222222,\"#7201a8\"],[0.3333333333333333,\"#9c179e\"],[0.4444444444444444,\"#bd3786\"],[0.5555555555555556,\"#d8576b\"],[0.6666666666666666,\"#ed7953\"],[0.7777777777777778,\"#fb9f3a\"],[0.8888888888888888,\"#fdca26\"],[1.0,\"#f0f921\"]],\"sequentialminus\":[[0.0,\"#0d0887\"],[0.1111111111111111,\"#46039f\"],[0.2222222222222222,\"#7201a8\"],[0.3333333333333333,\"#9c179e\"],[0.4444444444444444,\"#bd3786\"],[0.5555555555555556,\"#d8576b\"],[0.6666666666666666,\"#ed7953\"],[0.7777777777777778,\"#fb9f3a\"],[0.8888888888888888,\"#fdca26\"],[1.0,\"#f0f921\"]]},\"colorway\":[\"#636efa\",\"#EF553B\",\"#00cc96\",\"#ab63fa\",\"#FFA15A\",\"#19d3f3\",\"#FF6692\",\"#B6E880\",\"#FF97FF\",\"#FECB52\"],\"font\":{\"color\":\"#2a3f5f\"},\"geo\":{\"bgcolor\":\"white\",\"lakecolor\":\"white\",\"landcolor\":\"#E5ECF6\",\"showlakes\":true,\"showland\":true,\"subunitcolor\":\"white\"},\"hoverlabel\":{\"align\":\"left\"},\"hovermode\":\"closest\",\"mapbox\":{\"style\":\"light\"},\"paper_bgcolor\":\"white\",\"plot_bgcolor\":\"#E5ECF6\",\"polar\":{\"angularaxis\":{\"gridcolor\":\"white\",\"linecolor\":\"white\",\"ticks\":\"\"},\"bgcolor\":\"#E5ECF6\",\"radialaxis\":{\"gridcolor\":\"white\",\"linecolor\":\"white\",\"ticks\":\"\"}},\"scene\":{\"xaxis\":{\"backgroundcolor\":\"#E5ECF6\",\"gridcolor\":\"white\",\"gridwidth\":2,\"linecolor\":\"white\",\"showbackground\":true,\"ticks\":\"\",\"zerolinecolor\":\"white\"},\"yaxis\":{\"backgroundcolor\":\"#E5ECF6\",\"gridcolor\":\"white\",\"gridwidth\":2,\"linecolor\":\"white\",\"showbackground\":true,\"ticks\":\"\",\"zerolinecolor\":\"white\"},\"zaxis\":{\"backgroundcolor\":\"#E5ECF6\",\"gridcolor\":\"white\",\"gridwidth\":2,\"linecolor\":\"white\",\"showbackground\":true,\"ticks\":\"\",\"zerolinecolor\":\"white\"}},\"shapedefaults\":{\"line\":{\"color\":\"#2a3f5f\"}},\"ternary\":{\"aaxis\":{\"gridcolor\":\"white\",\"linecolor\":\"white\",\"ticks\":\"\"},\"baxis\":{\"gridcolor\":\"white\",\"linecolor\":\"white\",\"ticks\":\"\"},\"bgcolor\":\"#E5ECF6\",\"caxis\":{\"gridcolor\":\"white\",\"linecolor\":\"white\",\"ticks\":\"\"}},\"title\":{\"x\":0.05},\"xaxis\":{\"automargin\":true,\"gridcolor\":\"white\",\"linecolor\":\"white\",\"ticks\":\"\",\"title\":{\"standoff\":15},\"zerolinecolor\":\"white\",\"zerolinewidth\":2},\"yaxis\":{\"automargin\":true,\"gridcolor\":\"white\",\"linecolor\":\"white\",\"ticks\":\"\",\"title\":{\"standoff\":15},\"zerolinecolor\":\"white\",\"zerolinewidth\":2}}}},                        {\"responsive\": true}                    ).then(function(){\n",
              "                            \n",
              "var gd = document.getElementById('cea673c5-e1d0-4bf2-ae21-69e5022f9097');\n",
              "var x = new MutationObserver(function (mutations, observer) {{\n",
              "        var display = window.getComputedStyle(gd).display;\n",
              "        if (!display || display === 'none') {{\n",
              "            console.log([gd, 'removed!']);\n",
              "            Plotly.purge(gd);\n",
              "            observer.disconnect();\n",
              "        }}\n",
              "}});\n",
              "\n",
              "// Listen for the removal of the full notebook cells\n",
              "var notebookContainer = gd.closest('#notebook-container');\n",
              "if (notebookContainer) {{\n",
              "    x.observe(notebookContainer, {childList: true});\n",
              "}}\n",
              "\n",
              "// Listen for the clearing of the current output cell\n",
              "var outputEl = gd.closest('.output');\n",
              "if (outputEl) {{\n",
              "    x.observe(outputEl, {childList: true});\n",
              "}}\n",
              "\n",
              "                        })                };                            </script>        </div>\n",
              "</body>\n",
              "</html>"
            ]
          },
          "metadata": {}
        }
      ]
    },
    {
      "cell_type": "code",
      "source": [
        "colors = ['red','green']\n",
        "data = [go.Bar(x = train['Ever_Married'].unique(), y = train['Ever_Married'].value_counts(),marker_color=colors)]\n",
        "layout = go.Layout(title = 'Is She/He Married?')\n",
        "fig = go.Figure(data = data, layout = layout)\n",
        "fig.show()"
      ],
      "metadata": {
        "colab": {
          "base_uri": "https://localhost:8080/",
          "height": 542
        },
        "id": "2czB20R55e6K",
        "outputId": "c70ada4e-2a57-4912-fc2d-b7fab638a10f"
      },
      "execution_count": null,
      "outputs": [
        {
          "output_type": "display_data",
          "data": {
            "text/html": [
              "<html>\n",
              "<head><meta charset=\"utf-8\" /></head>\n",
              "<body>\n",
              "    <div>            <script src=\"https://cdnjs.cloudflare.com/ajax/libs/mathjax/2.7.5/MathJax.js?config=TeX-AMS-MML_SVG\"></script><script type=\"text/javascript\">if (window.MathJax) {MathJax.Hub.Config({SVG: {font: \"STIX-Web\"}});}</script>                <script type=\"text/javascript\">window.PlotlyConfig = {MathJaxConfig: 'local'};</script>\n",
              "        <script src=\"https://cdn.plot.ly/plotly-2.8.3.min.js\"></script>                <div id=\"1626e3e5-1d4b-475c-bba2-f3b784c84f45\" class=\"plotly-graph-div\" style=\"height:525px; width:100%;\"></div>            <script type=\"text/javascript\">                                    window.PLOTLYENV=window.PLOTLYENV || {};                                    if (document.getElementById(\"1626e3e5-1d4b-475c-bba2-f3b784c84f45\")) {                    Plotly.newPlot(                        \"1626e3e5-1d4b-475c-bba2-f3b784c84f45\",                        [{\"marker\":{\"color\":[\"red\",\"green\"]},\"x\":[\"No\",\"Yes\",null],\"y\":[4643,3285],\"type\":\"bar\"}],                        {\"title\":{\"text\":\"Is She/He Married?\"},\"template\":{\"data\":{\"bar\":[{\"error_x\":{\"color\":\"#2a3f5f\"},\"error_y\":{\"color\":\"#2a3f5f\"},\"marker\":{\"line\":{\"color\":\"#E5ECF6\",\"width\":0.5},\"pattern\":{\"fillmode\":\"overlay\",\"size\":10,\"solidity\":0.2}},\"type\":\"bar\"}],\"barpolar\":[{\"marker\":{\"line\":{\"color\":\"#E5ECF6\",\"width\":0.5},\"pattern\":{\"fillmode\":\"overlay\",\"size\":10,\"solidity\":0.2}},\"type\":\"barpolar\"}],\"carpet\":[{\"aaxis\":{\"endlinecolor\":\"#2a3f5f\",\"gridcolor\":\"white\",\"linecolor\":\"white\",\"minorgridcolor\":\"white\",\"startlinecolor\":\"#2a3f5f\"},\"baxis\":{\"endlinecolor\":\"#2a3f5f\",\"gridcolor\":\"white\",\"linecolor\":\"white\",\"minorgridcolor\":\"white\",\"startlinecolor\":\"#2a3f5f\"},\"type\":\"carpet\"}],\"choropleth\":[{\"colorbar\":{\"outlinewidth\":0,\"ticks\":\"\"},\"type\":\"choropleth\"}],\"contour\":[{\"colorbar\":{\"outlinewidth\":0,\"ticks\":\"\"},\"colorscale\":[[0.0,\"#0d0887\"],[0.1111111111111111,\"#46039f\"],[0.2222222222222222,\"#7201a8\"],[0.3333333333333333,\"#9c179e\"],[0.4444444444444444,\"#bd3786\"],[0.5555555555555556,\"#d8576b\"],[0.6666666666666666,\"#ed7953\"],[0.7777777777777778,\"#fb9f3a\"],[0.8888888888888888,\"#fdca26\"],[1.0,\"#f0f921\"]],\"type\":\"contour\"}],\"contourcarpet\":[{\"colorbar\":{\"outlinewidth\":0,\"ticks\":\"\"},\"type\":\"contourcarpet\"}],\"heatmap\":[{\"colorbar\":{\"outlinewidth\":0,\"ticks\":\"\"},\"colorscale\":[[0.0,\"#0d0887\"],[0.1111111111111111,\"#46039f\"],[0.2222222222222222,\"#7201a8\"],[0.3333333333333333,\"#9c179e\"],[0.4444444444444444,\"#bd3786\"],[0.5555555555555556,\"#d8576b\"],[0.6666666666666666,\"#ed7953\"],[0.7777777777777778,\"#fb9f3a\"],[0.8888888888888888,\"#fdca26\"],[1.0,\"#f0f921\"]],\"type\":\"heatmap\"}],\"heatmapgl\":[{\"colorbar\":{\"outlinewidth\":0,\"ticks\":\"\"},\"colorscale\":[[0.0,\"#0d0887\"],[0.1111111111111111,\"#46039f\"],[0.2222222222222222,\"#7201a8\"],[0.3333333333333333,\"#9c179e\"],[0.4444444444444444,\"#bd3786\"],[0.5555555555555556,\"#d8576b\"],[0.6666666666666666,\"#ed7953\"],[0.7777777777777778,\"#fb9f3a\"],[0.8888888888888888,\"#fdca26\"],[1.0,\"#f0f921\"]],\"type\":\"heatmapgl\"}],\"histogram\":[{\"marker\":{\"pattern\":{\"fillmode\":\"overlay\",\"size\":10,\"solidity\":0.2}},\"type\":\"histogram\"}],\"histogram2d\":[{\"colorbar\":{\"outlinewidth\":0,\"ticks\":\"\"},\"colorscale\":[[0.0,\"#0d0887\"],[0.1111111111111111,\"#46039f\"],[0.2222222222222222,\"#7201a8\"],[0.3333333333333333,\"#9c179e\"],[0.4444444444444444,\"#bd3786\"],[0.5555555555555556,\"#d8576b\"],[0.6666666666666666,\"#ed7953\"],[0.7777777777777778,\"#fb9f3a\"],[0.8888888888888888,\"#fdca26\"],[1.0,\"#f0f921\"]],\"type\":\"histogram2d\"}],\"histogram2dcontour\":[{\"colorbar\":{\"outlinewidth\":0,\"ticks\":\"\"},\"colorscale\":[[0.0,\"#0d0887\"],[0.1111111111111111,\"#46039f\"],[0.2222222222222222,\"#7201a8\"],[0.3333333333333333,\"#9c179e\"],[0.4444444444444444,\"#bd3786\"],[0.5555555555555556,\"#d8576b\"],[0.6666666666666666,\"#ed7953\"],[0.7777777777777778,\"#fb9f3a\"],[0.8888888888888888,\"#fdca26\"],[1.0,\"#f0f921\"]],\"type\":\"histogram2dcontour\"}],\"mesh3d\":[{\"colorbar\":{\"outlinewidth\":0,\"ticks\":\"\"},\"type\":\"mesh3d\"}],\"parcoords\":[{\"line\":{\"colorbar\":{\"outlinewidth\":0,\"ticks\":\"\"}},\"type\":\"parcoords\"}],\"pie\":[{\"automargin\":true,\"type\":\"pie\"}],\"scatter\":[{\"marker\":{\"colorbar\":{\"outlinewidth\":0,\"ticks\":\"\"}},\"type\":\"scatter\"}],\"scatter3d\":[{\"line\":{\"colorbar\":{\"outlinewidth\":0,\"ticks\":\"\"}},\"marker\":{\"colorbar\":{\"outlinewidth\":0,\"ticks\":\"\"}},\"type\":\"scatter3d\"}],\"scattercarpet\":[{\"marker\":{\"colorbar\":{\"outlinewidth\":0,\"ticks\":\"\"}},\"type\":\"scattercarpet\"}],\"scattergeo\":[{\"marker\":{\"colorbar\":{\"outlinewidth\":0,\"ticks\":\"\"}},\"type\":\"scattergeo\"}],\"scattergl\":[{\"marker\":{\"colorbar\":{\"outlinewidth\":0,\"ticks\":\"\"}},\"type\":\"scattergl\"}],\"scattermapbox\":[{\"marker\":{\"colorbar\":{\"outlinewidth\":0,\"ticks\":\"\"}},\"type\":\"scattermapbox\"}],\"scatterpolar\":[{\"marker\":{\"colorbar\":{\"outlinewidth\":0,\"ticks\":\"\"}},\"type\":\"scatterpolar\"}],\"scatterpolargl\":[{\"marker\":{\"colorbar\":{\"outlinewidth\":0,\"ticks\":\"\"}},\"type\":\"scatterpolargl\"}],\"scatterternary\":[{\"marker\":{\"colorbar\":{\"outlinewidth\":0,\"ticks\":\"\"}},\"type\":\"scatterternary\"}],\"surface\":[{\"colorbar\":{\"outlinewidth\":0,\"ticks\":\"\"},\"colorscale\":[[0.0,\"#0d0887\"],[0.1111111111111111,\"#46039f\"],[0.2222222222222222,\"#7201a8\"],[0.3333333333333333,\"#9c179e\"],[0.4444444444444444,\"#bd3786\"],[0.5555555555555556,\"#d8576b\"],[0.6666666666666666,\"#ed7953\"],[0.7777777777777778,\"#fb9f3a\"],[0.8888888888888888,\"#fdca26\"],[1.0,\"#f0f921\"]],\"type\":\"surface\"}],\"table\":[{\"cells\":{\"fill\":{\"color\":\"#EBF0F8\"},\"line\":{\"color\":\"white\"}},\"header\":{\"fill\":{\"color\":\"#C8D4E3\"},\"line\":{\"color\":\"white\"}},\"type\":\"table\"}]},\"layout\":{\"annotationdefaults\":{\"arrowcolor\":\"#2a3f5f\",\"arrowhead\":0,\"arrowwidth\":1},\"autotypenumbers\":\"strict\",\"coloraxis\":{\"colorbar\":{\"outlinewidth\":0,\"ticks\":\"\"}},\"colorscale\":{\"diverging\":[[0,\"#8e0152\"],[0.1,\"#c51b7d\"],[0.2,\"#de77ae\"],[0.3,\"#f1b6da\"],[0.4,\"#fde0ef\"],[0.5,\"#f7f7f7\"],[0.6,\"#e6f5d0\"],[0.7,\"#b8e186\"],[0.8,\"#7fbc41\"],[0.9,\"#4d9221\"],[1,\"#276419\"]],\"sequential\":[[0.0,\"#0d0887\"],[0.1111111111111111,\"#46039f\"],[0.2222222222222222,\"#7201a8\"],[0.3333333333333333,\"#9c179e\"],[0.4444444444444444,\"#bd3786\"],[0.5555555555555556,\"#d8576b\"],[0.6666666666666666,\"#ed7953\"],[0.7777777777777778,\"#fb9f3a\"],[0.8888888888888888,\"#fdca26\"],[1.0,\"#f0f921\"]],\"sequentialminus\":[[0.0,\"#0d0887\"],[0.1111111111111111,\"#46039f\"],[0.2222222222222222,\"#7201a8\"],[0.3333333333333333,\"#9c179e\"],[0.4444444444444444,\"#bd3786\"],[0.5555555555555556,\"#d8576b\"],[0.6666666666666666,\"#ed7953\"],[0.7777777777777778,\"#fb9f3a\"],[0.8888888888888888,\"#fdca26\"],[1.0,\"#f0f921\"]]},\"colorway\":[\"#636efa\",\"#EF553B\",\"#00cc96\",\"#ab63fa\",\"#FFA15A\",\"#19d3f3\",\"#FF6692\",\"#B6E880\",\"#FF97FF\",\"#FECB52\"],\"font\":{\"color\":\"#2a3f5f\"},\"geo\":{\"bgcolor\":\"white\",\"lakecolor\":\"white\",\"landcolor\":\"#E5ECF6\",\"showlakes\":true,\"showland\":true,\"subunitcolor\":\"white\"},\"hoverlabel\":{\"align\":\"left\"},\"hovermode\":\"closest\",\"mapbox\":{\"style\":\"light\"},\"paper_bgcolor\":\"white\",\"plot_bgcolor\":\"#E5ECF6\",\"polar\":{\"angularaxis\":{\"gridcolor\":\"white\",\"linecolor\":\"white\",\"ticks\":\"\"},\"bgcolor\":\"#E5ECF6\",\"radialaxis\":{\"gridcolor\":\"white\",\"linecolor\":\"white\",\"ticks\":\"\"}},\"scene\":{\"xaxis\":{\"backgroundcolor\":\"#E5ECF6\",\"gridcolor\":\"white\",\"gridwidth\":2,\"linecolor\":\"white\",\"showbackground\":true,\"ticks\":\"\",\"zerolinecolor\":\"white\"},\"yaxis\":{\"backgroundcolor\":\"#E5ECF6\",\"gridcolor\":\"white\",\"gridwidth\":2,\"linecolor\":\"white\",\"showbackground\":true,\"ticks\":\"\",\"zerolinecolor\":\"white\"},\"zaxis\":{\"backgroundcolor\":\"#E5ECF6\",\"gridcolor\":\"white\",\"gridwidth\":2,\"linecolor\":\"white\",\"showbackground\":true,\"ticks\":\"\",\"zerolinecolor\":\"white\"}},\"shapedefaults\":{\"line\":{\"color\":\"#2a3f5f\"}},\"ternary\":{\"aaxis\":{\"gridcolor\":\"white\",\"linecolor\":\"white\",\"ticks\":\"\"},\"baxis\":{\"gridcolor\":\"white\",\"linecolor\":\"white\",\"ticks\":\"\"},\"bgcolor\":\"#E5ECF6\",\"caxis\":{\"gridcolor\":\"white\",\"linecolor\":\"white\",\"ticks\":\"\"}},\"title\":{\"x\":0.05},\"xaxis\":{\"automargin\":true,\"gridcolor\":\"white\",\"linecolor\":\"white\",\"ticks\":\"\",\"title\":{\"standoff\":15},\"zerolinecolor\":\"white\",\"zerolinewidth\":2},\"yaxis\":{\"automargin\":true,\"gridcolor\":\"white\",\"linecolor\":\"white\",\"ticks\":\"\",\"title\":{\"standoff\":15},\"zerolinecolor\":\"white\",\"zerolinewidth\":2}}}},                        {\"responsive\": true}                    ).then(function(){\n",
              "                            \n",
              "var gd = document.getElementById('1626e3e5-1d4b-475c-bba2-f3b784c84f45');\n",
              "var x = new MutationObserver(function (mutations, observer) {{\n",
              "        var display = window.getComputedStyle(gd).display;\n",
              "        if (!display || display === 'none') {{\n",
              "            console.log([gd, 'removed!']);\n",
              "            Plotly.purge(gd);\n",
              "            observer.disconnect();\n",
              "        }}\n",
              "}});\n",
              "\n",
              "// Listen for the removal of the full notebook cells\n",
              "var notebookContainer = gd.closest('#notebook-container');\n",
              "if (notebookContainer) {{\n",
              "    x.observe(notebookContainer, {childList: true});\n",
              "}}\n",
              "\n",
              "// Listen for the clearing of the current output cell\n",
              "var outputEl = gd.closest('.output');\n",
              "if (outputEl) {{\n",
              "    x.observe(outputEl, {childList: true});\n",
              "}}\n",
              "\n",
              "                        })                };                            </script>        </div>\n",
              "</body>\n",
              "</html>"
            ]
          },
          "metadata": {}
        }
      ]
    },
    {
      "cell_type": "code",
      "source": [
        "colors = ['red','green']\n",
        "data = [go.Bar(x = train['Graduated'].unique(), y = train['Graduated'].value_counts(),marker_color=colors,opacity=0.7)]\n",
        "layout = go.Layout(title = 'Is She/He Graduated?')\n",
        "fig = go.Figure(data = data, layout = layout)\n",
        "fig.show()"
      ],
      "metadata": {
        "colab": {
          "base_uri": "https://localhost:8080/",
          "height": 542
        },
        "id": "BIezPr4h59BG",
        "outputId": "c1e9711d-0b77-49b2-c8b5-f737f12c6c2b"
      },
      "execution_count": null,
      "outputs": [
        {
          "output_type": "display_data",
          "data": {
            "text/html": [
              "<html>\n",
              "<head><meta charset=\"utf-8\" /></head>\n",
              "<body>\n",
              "    <div>            <script src=\"https://cdnjs.cloudflare.com/ajax/libs/mathjax/2.7.5/MathJax.js?config=TeX-AMS-MML_SVG\"></script><script type=\"text/javascript\">if (window.MathJax) {MathJax.Hub.Config({SVG: {font: \"STIX-Web\"}});}</script>                <script type=\"text/javascript\">window.PlotlyConfig = {MathJaxConfig: 'local'};</script>\n",
              "        <script src=\"https://cdn.plot.ly/plotly-2.8.3.min.js\"></script>                <div id=\"59c2a813-55ab-40ab-a0f7-a32be051650b\" class=\"plotly-graph-div\" style=\"height:525px; width:100%;\"></div>            <script type=\"text/javascript\">                                    window.PLOTLYENV=window.PLOTLYENV || {};                                    if (document.getElementById(\"59c2a813-55ab-40ab-a0f7-a32be051650b\")) {                    Plotly.newPlot(                        \"59c2a813-55ab-40ab-a0f7-a32be051650b\",                        [{\"marker\":{\"color\":[\"red\",\"green\"]},\"opacity\":0.7,\"x\":[\"No\",\"Yes\",null],\"y\":[4968,3022],\"type\":\"bar\"}],                        {\"title\":{\"text\":\"Is She/He Graduated?\"},\"template\":{\"data\":{\"bar\":[{\"error_x\":{\"color\":\"#2a3f5f\"},\"error_y\":{\"color\":\"#2a3f5f\"},\"marker\":{\"line\":{\"color\":\"#E5ECF6\",\"width\":0.5},\"pattern\":{\"fillmode\":\"overlay\",\"size\":10,\"solidity\":0.2}},\"type\":\"bar\"}],\"barpolar\":[{\"marker\":{\"line\":{\"color\":\"#E5ECF6\",\"width\":0.5},\"pattern\":{\"fillmode\":\"overlay\",\"size\":10,\"solidity\":0.2}},\"type\":\"barpolar\"}],\"carpet\":[{\"aaxis\":{\"endlinecolor\":\"#2a3f5f\",\"gridcolor\":\"white\",\"linecolor\":\"white\",\"minorgridcolor\":\"white\",\"startlinecolor\":\"#2a3f5f\"},\"baxis\":{\"endlinecolor\":\"#2a3f5f\",\"gridcolor\":\"white\",\"linecolor\":\"white\",\"minorgridcolor\":\"white\",\"startlinecolor\":\"#2a3f5f\"},\"type\":\"carpet\"}],\"choropleth\":[{\"colorbar\":{\"outlinewidth\":0,\"ticks\":\"\"},\"type\":\"choropleth\"}],\"contour\":[{\"colorbar\":{\"outlinewidth\":0,\"ticks\":\"\"},\"colorscale\":[[0.0,\"#0d0887\"],[0.1111111111111111,\"#46039f\"],[0.2222222222222222,\"#7201a8\"],[0.3333333333333333,\"#9c179e\"],[0.4444444444444444,\"#bd3786\"],[0.5555555555555556,\"#d8576b\"],[0.6666666666666666,\"#ed7953\"],[0.7777777777777778,\"#fb9f3a\"],[0.8888888888888888,\"#fdca26\"],[1.0,\"#f0f921\"]],\"type\":\"contour\"}],\"contourcarpet\":[{\"colorbar\":{\"outlinewidth\":0,\"ticks\":\"\"},\"type\":\"contourcarpet\"}],\"heatmap\":[{\"colorbar\":{\"outlinewidth\":0,\"ticks\":\"\"},\"colorscale\":[[0.0,\"#0d0887\"],[0.1111111111111111,\"#46039f\"],[0.2222222222222222,\"#7201a8\"],[0.3333333333333333,\"#9c179e\"],[0.4444444444444444,\"#bd3786\"],[0.5555555555555556,\"#d8576b\"],[0.6666666666666666,\"#ed7953\"],[0.7777777777777778,\"#fb9f3a\"],[0.8888888888888888,\"#fdca26\"],[1.0,\"#f0f921\"]],\"type\":\"heatmap\"}],\"heatmapgl\":[{\"colorbar\":{\"outlinewidth\":0,\"ticks\":\"\"},\"colorscale\":[[0.0,\"#0d0887\"],[0.1111111111111111,\"#46039f\"],[0.2222222222222222,\"#7201a8\"],[0.3333333333333333,\"#9c179e\"],[0.4444444444444444,\"#bd3786\"],[0.5555555555555556,\"#d8576b\"],[0.6666666666666666,\"#ed7953\"],[0.7777777777777778,\"#fb9f3a\"],[0.8888888888888888,\"#fdca26\"],[1.0,\"#f0f921\"]],\"type\":\"heatmapgl\"}],\"histogram\":[{\"marker\":{\"pattern\":{\"fillmode\":\"overlay\",\"size\":10,\"solidity\":0.2}},\"type\":\"histogram\"}],\"histogram2d\":[{\"colorbar\":{\"outlinewidth\":0,\"ticks\":\"\"},\"colorscale\":[[0.0,\"#0d0887\"],[0.1111111111111111,\"#46039f\"],[0.2222222222222222,\"#7201a8\"],[0.3333333333333333,\"#9c179e\"],[0.4444444444444444,\"#bd3786\"],[0.5555555555555556,\"#d8576b\"],[0.6666666666666666,\"#ed7953\"],[0.7777777777777778,\"#fb9f3a\"],[0.8888888888888888,\"#fdca26\"],[1.0,\"#f0f921\"]],\"type\":\"histogram2d\"}],\"histogram2dcontour\":[{\"colorbar\":{\"outlinewidth\":0,\"ticks\":\"\"},\"colorscale\":[[0.0,\"#0d0887\"],[0.1111111111111111,\"#46039f\"],[0.2222222222222222,\"#7201a8\"],[0.3333333333333333,\"#9c179e\"],[0.4444444444444444,\"#bd3786\"],[0.5555555555555556,\"#d8576b\"],[0.6666666666666666,\"#ed7953\"],[0.7777777777777778,\"#fb9f3a\"],[0.8888888888888888,\"#fdca26\"],[1.0,\"#f0f921\"]],\"type\":\"histogram2dcontour\"}],\"mesh3d\":[{\"colorbar\":{\"outlinewidth\":0,\"ticks\":\"\"},\"type\":\"mesh3d\"}],\"parcoords\":[{\"line\":{\"colorbar\":{\"outlinewidth\":0,\"ticks\":\"\"}},\"type\":\"parcoords\"}],\"pie\":[{\"automargin\":true,\"type\":\"pie\"}],\"scatter\":[{\"marker\":{\"colorbar\":{\"outlinewidth\":0,\"ticks\":\"\"}},\"type\":\"scatter\"}],\"scatter3d\":[{\"line\":{\"colorbar\":{\"outlinewidth\":0,\"ticks\":\"\"}},\"marker\":{\"colorbar\":{\"outlinewidth\":0,\"ticks\":\"\"}},\"type\":\"scatter3d\"}],\"scattercarpet\":[{\"marker\":{\"colorbar\":{\"outlinewidth\":0,\"ticks\":\"\"}},\"type\":\"scattercarpet\"}],\"scattergeo\":[{\"marker\":{\"colorbar\":{\"outlinewidth\":0,\"ticks\":\"\"}},\"type\":\"scattergeo\"}],\"scattergl\":[{\"marker\":{\"colorbar\":{\"outlinewidth\":0,\"ticks\":\"\"}},\"type\":\"scattergl\"}],\"scattermapbox\":[{\"marker\":{\"colorbar\":{\"outlinewidth\":0,\"ticks\":\"\"}},\"type\":\"scattermapbox\"}],\"scatterpolar\":[{\"marker\":{\"colorbar\":{\"outlinewidth\":0,\"ticks\":\"\"}},\"type\":\"scatterpolar\"}],\"scatterpolargl\":[{\"marker\":{\"colorbar\":{\"outlinewidth\":0,\"ticks\":\"\"}},\"type\":\"scatterpolargl\"}],\"scatterternary\":[{\"marker\":{\"colorbar\":{\"outlinewidth\":0,\"ticks\":\"\"}},\"type\":\"scatterternary\"}],\"surface\":[{\"colorbar\":{\"outlinewidth\":0,\"ticks\":\"\"},\"colorscale\":[[0.0,\"#0d0887\"],[0.1111111111111111,\"#46039f\"],[0.2222222222222222,\"#7201a8\"],[0.3333333333333333,\"#9c179e\"],[0.4444444444444444,\"#bd3786\"],[0.5555555555555556,\"#d8576b\"],[0.6666666666666666,\"#ed7953\"],[0.7777777777777778,\"#fb9f3a\"],[0.8888888888888888,\"#fdca26\"],[1.0,\"#f0f921\"]],\"type\":\"surface\"}],\"table\":[{\"cells\":{\"fill\":{\"color\":\"#EBF0F8\"},\"line\":{\"color\":\"white\"}},\"header\":{\"fill\":{\"color\":\"#C8D4E3\"},\"line\":{\"color\":\"white\"}},\"type\":\"table\"}]},\"layout\":{\"annotationdefaults\":{\"arrowcolor\":\"#2a3f5f\",\"arrowhead\":0,\"arrowwidth\":1},\"autotypenumbers\":\"strict\",\"coloraxis\":{\"colorbar\":{\"outlinewidth\":0,\"ticks\":\"\"}},\"colorscale\":{\"diverging\":[[0,\"#8e0152\"],[0.1,\"#c51b7d\"],[0.2,\"#de77ae\"],[0.3,\"#f1b6da\"],[0.4,\"#fde0ef\"],[0.5,\"#f7f7f7\"],[0.6,\"#e6f5d0\"],[0.7,\"#b8e186\"],[0.8,\"#7fbc41\"],[0.9,\"#4d9221\"],[1,\"#276419\"]],\"sequential\":[[0.0,\"#0d0887\"],[0.1111111111111111,\"#46039f\"],[0.2222222222222222,\"#7201a8\"],[0.3333333333333333,\"#9c179e\"],[0.4444444444444444,\"#bd3786\"],[0.5555555555555556,\"#d8576b\"],[0.6666666666666666,\"#ed7953\"],[0.7777777777777778,\"#fb9f3a\"],[0.8888888888888888,\"#fdca26\"],[1.0,\"#f0f921\"]],\"sequentialminus\":[[0.0,\"#0d0887\"],[0.1111111111111111,\"#46039f\"],[0.2222222222222222,\"#7201a8\"],[0.3333333333333333,\"#9c179e\"],[0.4444444444444444,\"#bd3786\"],[0.5555555555555556,\"#d8576b\"],[0.6666666666666666,\"#ed7953\"],[0.7777777777777778,\"#fb9f3a\"],[0.8888888888888888,\"#fdca26\"],[1.0,\"#f0f921\"]]},\"colorway\":[\"#636efa\",\"#EF553B\",\"#00cc96\",\"#ab63fa\",\"#FFA15A\",\"#19d3f3\",\"#FF6692\",\"#B6E880\",\"#FF97FF\",\"#FECB52\"],\"font\":{\"color\":\"#2a3f5f\"},\"geo\":{\"bgcolor\":\"white\",\"lakecolor\":\"white\",\"landcolor\":\"#E5ECF6\",\"showlakes\":true,\"showland\":true,\"subunitcolor\":\"white\"},\"hoverlabel\":{\"align\":\"left\"},\"hovermode\":\"closest\",\"mapbox\":{\"style\":\"light\"},\"paper_bgcolor\":\"white\",\"plot_bgcolor\":\"#E5ECF6\",\"polar\":{\"angularaxis\":{\"gridcolor\":\"white\",\"linecolor\":\"white\",\"ticks\":\"\"},\"bgcolor\":\"#E5ECF6\",\"radialaxis\":{\"gridcolor\":\"white\",\"linecolor\":\"white\",\"ticks\":\"\"}},\"scene\":{\"xaxis\":{\"backgroundcolor\":\"#E5ECF6\",\"gridcolor\":\"white\",\"gridwidth\":2,\"linecolor\":\"white\",\"showbackground\":true,\"ticks\":\"\",\"zerolinecolor\":\"white\"},\"yaxis\":{\"backgroundcolor\":\"#E5ECF6\",\"gridcolor\":\"white\",\"gridwidth\":2,\"linecolor\":\"white\",\"showbackground\":true,\"ticks\":\"\",\"zerolinecolor\":\"white\"},\"zaxis\":{\"backgroundcolor\":\"#E5ECF6\",\"gridcolor\":\"white\",\"gridwidth\":2,\"linecolor\":\"white\",\"showbackground\":true,\"ticks\":\"\",\"zerolinecolor\":\"white\"}},\"shapedefaults\":{\"line\":{\"color\":\"#2a3f5f\"}},\"ternary\":{\"aaxis\":{\"gridcolor\":\"white\",\"linecolor\":\"white\",\"ticks\":\"\"},\"baxis\":{\"gridcolor\":\"white\",\"linecolor\":\"white\",\"ticks\":\"\"},\"bgcolor\":\"#E5ECF6\",\"caxis\":{\"gridcolor\":\"white\",\"linecolor\":\"white\",\"ticks\":\"\"}},\"title\":{\"x\":0.05},\"xaxis\":{\"automargin\":true,\"gridcolor\":\"white\",\"linecolor\":\"white\",\"ticks\":\"\",\"title\":{\"standoff\":15},\"zerolinecolor\":\"white\",\"zerolinewidth\":2},\"yaxis\":{\"automargin\":true,\"gridcolor\":\"white\",\"linecolor\":\"white\",\"ticks\":\"\",\"title\":{\"standoff\":15},\"zerolinecolor\":\"white\",\"zerolinewidth\":2}}}},                        {\"responsive\": true}                    ).then(function(){\n",
              "                            \n",
              "var gd = document.getElementById('59c2a813-55ab-40ab-a0f7-a32be051650b');\n",
              "var x = new MutationObserver(function (mutations, observer) {{\n",
              "        var display = window.getComputedStyle(gd).display;\n",
              "        if (!display || display === 'none') {{\n",
              "            console.log([gd, 'removed!']);\n",
              "            Plotly.purge(gd);\n",
              "            observer.disconnect();\n",
              "        }}\n",
              "}});\n",
              "\n",
              "// Listen for the removal of the full notebook cells\n",
              "var notebookContainer = gd.closest('#notebook-container');\n",
              "if (notebookContainer) {{\n",
              "    x.observe(notebookContainer, {childList: true});\n",
              "}}\n",
              "\n",
              "// Listen for the clearing of the current output cell\n",
              "var outputEl = gd.closest('.output');\n",
              "if (outputEl) {{\n",
              "    x.observe(outputEl, {childList: true});\n",
              "}}\n",
              "\n",
              "                        })                };                            </script>        </div>\n",
              "</body>\n",
              "</html>"
            ]
          },
          "metadata": {}
        }
      ]
    },
    {
      "cell_type": "code",
      "source": [
        "#colors = ['lightskyblue','lightyellow']\n",
        "data = [go.Bar(x = train['Profession'].unique(), y = train['Profession'].value_counts(),marker={'color': train['Profession'].value_counts(),'colorscale': 'Viridis'})]\n",
        "layout = go.Layout(title = 'Profession')\n",
        "fig = go.Figure(data = data, layout = layout)\n",
        "fig.show()"
      ],
      "metadata": {
        "colab": {
          "base_uri": "https://localhost:8080/",
          "height": 542
        },
        "id": "PHzIzlLi6Exh",
        "outputId": "6d5bfc14-ac79-45af-a5b6-077555015622"
      },
      "execution_count": null,
      "outputs": [
        {
          "output_type": "display_data",
          "data": {
            "text/html": [
              "<html>\n",
              "<head><meta charset=\"utf-8\" /></head>\n",
              "<body>\n",
              "    <div>            <script src=\"https://cdnjs.cloudflare.com/ajax/libs/mathjax/2.7.5/MathJax.js?config=TeX-AMS-MML_SVG\"></script><script type=\"text/javascript\">if (window.MathJax) {MathJax.Hub.Config({SVG: {font: \"STIX-Web\"}});}</script>                <script type=\"text/javascript\">window.PlotlyConfig = {MathJaxConfig: 'local'};</script>\n",
              "        <script src=\"https://cdn.plot.ly/plotly-2.8.3.min.js\"></script>                <div id=\"62cb8c38-fe3f-4b45-9166-4ac248add437\" class=\"plotly-graph-div\" style=\"height:525px; width:100%;\"></div>            <script type=\"text/javascript\">                                    window.PLOTLYENV=window.PLOTLYENV || {};                                    if (document.getElementById(\"62cb8c38-fe3f-4b45-9166-4ac248add437\")) {                    Plotly.newPlot(                        \"62cb8c38-fe3f-4b45-9166-4ac248add437\",                        [{\"marker\":{\"color\":[2516,1332,949,699,688,623,599,292,246],\"colorscale\":[[0.0,\"#440154\"],[0.1111111111111111,\"#482878\"],[0.2222222222222222,\"#3e4989\"],[0.3333333333333333,\"#31688e\"],[0.4444444444444444,\"#26828e\"],[0.5555555555555556,\"#1f9e89\"],[0.6666666666666666,\"#35b779\"],[0.7777777777777778,\"#6ece58\"],[0.8888888888888888,\"#b5de2b\"],[1.0,\"#fde725\"]]},\"x\":[\"Healthcare\",\"Engineer\",\"Lawyer\",\"Entertainment\",\"Artist\",\"Executive\",\"Doctor\",\"Homemaker\",\"Marketing\",null],\"y\":[2516,1332,949,699,688,623,599,292,246],\"type\":\"bar\"}],                        {\"title\":{\"text\":\"Profession\"},\"template\":{\"data\":{\"bar\":[{\"error_x\":{\"color\":\"#2a3f5f\"},\"error_y\":{\"color\":\"#2a3f5f\"},\"marker\":{\"line\":{\"color\":\"#E5ECF6\",\"width\":0.5},\"pattern\":{\"fillmode\":\"overlay\",\"size\":10,\"solidity\":0.2}},\"type\":\"bar\"}],\"barpolar\":[{\"marker\":{\"line\":{\"color\":\"#E5ECF6\",\"width\":0.5},\"pattern\":{\"fillmode\":\"overlay\",\"size\":10,\"solidity\":0.2}},\"type\":\"barpolar\"}],\"carpet\":[{\"aaxis\":{\"endlinecolor\":\"#2a3f5f\",\"gridcolor\":\"white\",\"linecolor\":\"white\",\"minorgridcolor\":\"white\",\"startlinecolor\":\"#2a3f5f\"},\"baxis\":{\"endlinecolor\":\"#2a3f5f\",\"gridcolor\":\"white\",\"linecolor\":\"white\",\"minorgridcolor\":\"white\",\"startlinecolor\":\"#2a3f5f\"},\"type\":\"carpet\"}],\"choropleth\":[{\"colorbar\":{\"outlinewidth\":0,\"ticks\":\"\"},\"type\":\"choropleth\"}],\"contour\":[{\"colorbar\":{\"outlinewidth\":0,\"ticks\":\"\"},\"colorscale\":[[0.0,\"#0d0887\"],[0.1111111111111111,\"#46039f\"],[0.2222222222222222,\"#7201a8\"],[0.3333333333333333,\"#9c179e\"],[0.4444444444444444,\"#bd3786\"],[0.5555555555555556,\"#d8576b\"],[0.6666666666666666,\"#ed7953\"],[0.7777777777777778,\"#fb9f3a\"],[0.8888888888888888,\"#fdca26\"],[1.0,\"#f0f921\"]],\"type\":\"contour\"}],\"contourcarpet\":[{\"colorbar\":{\"outlinewidth\":0,\"ticks\":\"\"},\"type\":\"contourcarpet\"}],\"heatmap\":[{\"colorbar\":{\"outlinewidth\":0,\"ticks\":\"\"},\"colorscale\":[[0.0,\"#0d0887\"],[0.1111111111111111,\"#46039f\"],[0.2222222222222222,\"#7201a8\"],[0.3333333333333333,\"#9c179e\"],[0.4444444444444444,\"#bd3786\"],[0.5555555555555556,\"#d8576b\"],[0.6666666666666666,\"#ed7953\"],[0.7777777777777778,\"#fb9f3a\"],[0.8888888888888888,\"#fdca26\"],[1.0,\"#f0f921\"]],\"type\":\"heatmap\"}],\"heatmapgl\":[{\"colorbar\":{\"outlinewidth\":0,\"ticks\":\"\"},\"colorscale\":[[0.0,\"#0d0887\"],[0.1111111111111111,\"#46039f\"],[0.2222222222222222,\"#7201a8\"],[0.3333333333333333,\"#9c179e\"],[0.4444444444444444,\"#bd3786\"],[0.5555555555555556,\"#d8576b\"],[0.6666666666666666,\"#ed7953\"],[0.7777777777777778,\"#fb9f3a\"],[0.8888888888888888,\"#fdca26\"],[1.0,\"#f0f921\"]],\"type\":\"heatmapgl\"}],\"histogram\":[{\"marker\":{\"pattern\":{\"fillmode\":\"overlay\",\"size\":10,\"solidity\":0.2}},\"type\":\"histogram\"}],\"histogram2d\":[{\"colorbar\":{\"outlinewidth\":0,\"ticks\":\"\"},\"colorscale\":[[0.0,\"#0d0887\"],[0.1111111111111111,\"#46039f\"],[0.2222222222222222,\"#7201a8\"],[0.3333333333333333,\"#9c179e\"],[0.4444444444444444,\"#bd3786\"],[0.5555555555555556,\"#d8576b\"],[0.6666666666666666,\"#ed7953\"],[0.7777777777777778,\"#fb9f3a\"],[0.8888888888888888,\"#fdca26\"],[1.0,\"#f0f921\"]],\"type\":\"histogram2d\"}],\"histogram2dcontour\":[{\"colorbar\":{\"outlinewidth\":0,\"ticks\":\"\"},\"colorscale\":[[0.0,\"#0d0887\"],[0.1111111111111111,\"#46039f\"],[0.2222222222222222,\"#7201a8\"],[0.3333333333333333,\"#9c179e\"],[0.4444444444444444,\"#bd3786\"],[0.5555555555555556,\"#d8576b\"],[0.6666666666666666,\"#ed7953\"],[0.7777777777777778,\"#fb9f3a\"],[0.8888888888888888,\"#fdca26\"],[1.0,\"#f0f921\"]],\"type\":\"histogram2dcontour\"}],\"mesh3d\":[{\"colorbar\":{\"outlinewidth\":0,\"ticks\":\"\"},\"type\":\"mesh3d\"}],\"parcoords\":[{\"line\":{\"colorbar\":{\"outlinewidth\":0,\"ticks\":\"\"}},\"type\":\"parcoords\"}],\"pie\":[{\"automargin\":true,\"type\":\"pie\"}],\"scatter\":[{\"marker\":{\"colorbar\":{\"outlinewidth\":0,\"ticks\":\"\"}},\"type\":\"scatter\"}],\"scatter3d\":[{\"line\":{\"colorbar\":{\"outlinewidth\":0,\"ticks\":\"\"}},\"marker\":{\"colorbar\":{\"outlinewidth\":0,\"ticks\":\"\"}},\"type\":\"scatter3d\"}],\"scattercarpet\":[{\"marker\":{\"colorbar\":{\"outlinewidth\":0,\"ticks\":\"\"}},\"type\":\"scattercarpet\"}],\"scattergeo\":[{\"marker\":{\"colorbar\":{\"outlinewidth\":0,\"ticks\":\"\"}},\"type\":\"scattergeo\"}],\"scattergl\":[{\"marker\":{\"colorbar\":{\"outlinewidth\":0,\"ticks\":\"\"}},\"type\":\"scattergl\"}],\"scattermapbox\":[{\"marker\":{\"colorbar\":{\"outlinewidth\":0,\"ticks\":\"\"}},\"type\":\"scattermapbox\"}],\"scatterpolar\":[{\"marker\":{\"colorbar\":{\"outlinewidth\":0,\"ticks\":\"\"}},\"type\":\"scatterpolar\"}],\"scatterpolargl\":[{\"marker\":{\"colorbar\":{\"outlinewidth\":0,\"ticks\":\"\"}},\"type\":\"scatterpolargl\"}],\"scatterternary\":[{\"marker\":{\"colorbar\":{\"outlinewidth\":0,\"ticks\":\"\"}},\"type\":\"scatterternary\"}],\"surface\":[{\"colorbar\":{\"outlinewidth\":0,\"ticks\":\"\"},\"colorscale\":[[0.0,\"#0d0887\"],[0.1111111111111111,\"#46039f\"],[0.2222222222222222,\"#7201a8\"],[0.3333333333333333,\"#9c179e\"],[0.4444444444444444,\"#bd3786\"],[0.5555555555555556,\"#d8576b\"],[0.6666666666666666,\"#ed7953\"],[0.7777777777777778,\"#fb9f3a\"],[0.8888888888888888,\"#fdca26\"],[1.0,\"#f0f921\"]],\"type\":\"surface\"}],\"table\":[{\"cells\":{\"fill\":{\"color\":\"#EBF0F8\"},\"line\":{\"color\":\"white\"}},\"header\":{\"fill\":{\"color\":\"#C8D4E3\"},\"line\":{\"color\":\"white\"}},\"type\":\"table\"}]},\"layout\":{\"annotationdefaults\":{\"arrowcolor\":\"#2a3f5f\",\"arrowhead\":0,\"arrowwidth\":1},\"autotypenumbers\":\"strict\",\"coloraxis\":{\"colorbar\":{\"outlinewidth\":0,\"ticks\":\"\"}},\"colorscale\":{\"diverging\":[[0,\"#8e0152\"],[0.1,\"#c51b7d\"],[0.2,\"#de77ae\"],[0.3,\"#f1b6da\"],[0.4,\"#fde0ef\"],[0.5,\"#f7f7f7\"],[0.6,\"#e6f5d0\"],[0.7,\"#b8e186\"],[0.8,\"#7fbc41\"],[0.9,\"#4d9221\"],[1,\"#276419\"]],\"sequential\":[[0.0,\"#0d0887\"],[0.1111111111111111,\"#46039f\"],[0.2222222222222222,\"#7201a8\"],[0.3333333333333333,\"#9c179e\"],[0.4444444444444444,\"#bd3786\"],[0.5555555555555556,\"#d8576b\"],[0.6666666666666666,\"#ed7953\"],[0.7777777777777778,\"#fb9f3a\"],[0.8888888888888888,\"#fdca26\"],[1.0,\"#f0f921\"]],\"sequentialminus\":[[0.0,\"#0d0887\"],[0.1111111111111111,\"#46039f\"],[0.2222222222222222,\"#7201a8\"],[0.3333333333333333,\"#9c179e\"],[0.4444444444444444,\"#bd3786\"],[0.5555555555555556,\"#d8576b\"],[0.6666666666666666,\"#ed7953\"],[0.7777777777777778,\"#fb9f3a\"],[0.8888888888888888,\"#fdca26\"],[1.0,\"#f0f921\"]]},\"colorway\":[\"#636efa\",\"#EF553B\",\"#00cc96\",\"#ab63fa\",\"#FFA15A\",\"#19d3f3\",\"#FF6692\",\"#B6E880\",\"#FF97FF\",\"#FECB52\"],\"font\":{\"color\":\"#2a3f5f\"},\"geo\":{\"bgcolor\":\"white\",\"lakecolor\":\"white\",\"landcolor\":\"#E5ECF6\",\"showlakes\":true,\"showland\":true,\"subunitcolor\":\"white\"},\"hoverlabel\":{\"align\":\"left\"},\"hovermode\":\"closest\",\"mapbox\":{\"style\":\"light\"},\"paper_bgcolor\":\"white\",\"plot_bgcolor\":\"#E5ECF6\",\"polar\":{\"angularaxis\":{\"gridcolor\":\"white\",\"linecolor\":\"white\",\"ticks\":\"\"},\"bgcolor\":\"#E5ECF6\",\"radialaxis\":{\"gridcolor\":\"white\",\"linecolor\":\"white\",\"ticks\":\"\"}},\"scene\":{\"xaxis\":{\"backgroundcolor\":\"#E5ECF6\",\"gridcolor\":\"white\",\"gridwidth\":2,\"linecolor\":\"white\",\"showbackground\":true,\"ticks\":\"\",\"zerolinecolor\":\"white\"},\"yaxis\":{\"backgroundcolor\":\"#E5ECF6\",\"gridcolor\":\"white\",\"gridwidth\":2,\"linecolor\":\"white\",\"showbackground\":true,\"ticks\":\"\",\"zerolinecolor\":\"white\"},\"zaxis\":{\"backgroundcolor\":\"#E5ECF6\",\"gridcolor\":\"white\",\"gridwidth\":2,\"linecolor\":\"white\",\"showbackground\":true,\"ticks\":\"\",\"zerolinecolor\":\"white\"}},\"shapedefaults\":{\"line\":{\"color\":\"#2a3f5f\"}},\"ternary\":{\"aaxis\":{\"gridcolor\":\"white\",\"linecolor\":\"white\",\"ticks\":\"\"},\"baxis\":{\"gridcolor\":\"white\",\"linecolor\":\"white\",\"ticks\":\"\"},\"bgcolor\":\"#E5ECF6\",\"caxis\":{\"gridcolor\":\"white\",\"linecolor\":\"white\",\"ticks\":\"\"}},\"title\":{\"x\":0.05},\"xaxis\":{\"automargin\":true,\"gridcolor\":\"white\",\"linecolor\":\"white\",\"ticks\":\"\",\"title\":{\"standoff\":15},\"zerolinecolor\":\"white\",\"zerolinewidth\":2},\"yaxis\":{\"automargin\":true,\"gridcolor\":\"white\",\"linecolor\":\"white\",\"ticks\":\"\",\"title\":{\"standoff\":15},\"zerolinecolor\":\"white\",\"zerolinewidth\":2}}}},                        {\"responsive\": true}                    ).then(function(){\n",
              "                            \n",
              "var gd = document.getElementById('62cb8c38-fe3f-4b45-9166-4ac248add437');\n",
              "var x = new MutationObserver(function (mutations, observer) {{\n",
              "        var display = window.getComputedStyle(gd).display;\n",
              "        if (!display || display === 'none') {{\n",
              "            console.log([gd, 'removed!']);\n",
              "            Plotly.purge(gd);\n",
              "            observer.disconnect();\n",
              "        }}\n",
              "}});\n",
              "\n",
              "// Listen for the removal of the full notebook cells\n",
              "var notebookContainer = gd.closest('#notebook-container');\n",
              "if (notebookContainer) {{\n",
              "    x.observe(notebookContainer, {childList: true});\n",
              "}}\n",
              "\n",
              "// Listen for the clearing of the current output cell\n",
              "var outputEl = gd.closest('.output');\n",
              "if (outputEl) {{\n",
              "    x.observe(outputEl, {childList: true});\n",
              "}}\n",
              "\n",
              "                        })                };                            </script>        </div>\n",
              "</body>\n",
              "</html>"
            ]
          },
          "metadata": {}
        }
      ]
    },
    {
      "cell_type": "code",
      "source": [
        "colors = ['black','red','white']\n",
        "data = [go.Bar(x = train['Spending_Score'].unique(), y = train['Spending_Score'].value_counts(),marker_color = colors)]\n",
        "layout = go.Layout(title = 'Spendings')\n",
        "fig = go.Figure(data = data, layout = layout)\n",
        "fig.show()"
      ],
      "metadata": {
        "colab": {
          "base_uri": "https://localhost:8080/",
          "height": 542
        },
        "id": "efMiElGk6N_0",
        "outputId": "d60ff76a-5746-4451-b6b8-04057e17cefc"
      },
      "execution_count": null,
      "outputs": [
        {
          "output_type": "display_data",
          "data": {
            "text/html": [
              "<html>\n",
              "<head><meta charset=\"utf-8\" /></head>\n",
              "<body>\n",
              "    <div>            <script src=\"https://cdnjs.cloudflare.com/ajax/libs/mathjax/2.7.5/MathJax.js?config=TeX-AMS-MML_SVG\"></script><script type=\"text/javascript\">if (window.MathJax) {MathJax.Hub.Config({SVG: {font: \"STIX-Web\"}});}</script>                <script type=\"text/javascript\">window.PlotlyConfig = {MathJaxConfig: 'local'};</script>\n",
              "        <script src=\"https://cdn.plot.ly/plotly-2.8.3.min.js\"></script>                <div id=\"c09afcc9-0391-4a8f-98e6-1ecf2cdb66a1\" class=\"plotly-graph-div\" style=\"height:525px; width:100%;\"></div>            <script type=\"text/javascript\">                                    window.PLOTLYENV=window.PLOTLYENV || {};                                    if (document.getElementById(\"c09afcc9-0391-4a8f-98e6-1ecf2cdb66a1\")) {                    Plotly.newPlot(                        \"c09afcc9-0391-4a8f-98e6-1ecf2cdb66a1\",                        [{\"marker\":{\"color\":[\"black\",\"red\",\"white\"]},\"x\":[\"Low\",\"Average\",\"High\"],\"y\":[4878,1974,1216],\"type\":\"bar\"}],                        {\"title\":{\"text\":\"Spendings\"},\"template\":{\"data\":{\"bar\":[{\"error_x\":{\"color\":\"#2a3f5f\"},\"error_y\":{\"color\":\"#2a3f5f\"},\"marker\":{\"line\":{\"color\":\"#E5ECF6\",\"width\":0.5},\"pattern\":{\"fillmode\":\"overlay\",\"size\":10,\"solidity\":0.2}},\"type\":\"bar\"}],\"barpolar\":[{\"marker\":{\"line\":{\"color\":\"#E5ECF6\",\"width\":0.5},\"pattern\":{\"fillmode\":\"overlay\",\"size\":10,\"solidity\":0.2}},\"type\":\"barpolar\"}],\"carpet\":[{\"aaxis\":{\"endlinecolor\":\"#2a3f5f\",\"gridcolor\":\"white\",\"linecolor\":\"white\",\"minorgridcolor\":\"white\",\"startlinecolor\":\"#2a3f5f\"},\"baxis\":{\"endlinecolor\":\"#2a3f5f\",\"gridcolor\":\"white\",\"linecolor\":\"white\",\"minorgridcolor\":\"white\",\"startlinecolor\":\"#2a3f5f\"},\"type\":\"carpet\"}],\"choropleth\":[{\"colorbar\":{\"outlinewidth\":0,\"ticks\":\"\"},\"type\":\"choropleth\"}],\"contour\":[{\"colorbar\":{\"outlinewidth\":0,\"ticks\":\"\"},\"colorscale\":[[0.0,\"#0d0887\"],[0.1111111111111111,\"#46039f\"],[0.2222222222222222,\"#7201a8\"],[0.3333333333333333,\"#9c179e\"],[0.4444444444444444,\"#bd3786\"],[0.5555555555555556,\"#d8576b\"],[0.6666666666666666,\"#ed7953\"],[0.7777777777777778,\"#fb9f3a\"],[0.8888888888888888,\"#fdca26\"],[1.0,\"#f0f921\"]],\"type\":\"contour\"}],\"contourcarpet\":[{\"colorbar\":{\"outlinewidth\":0,\"ticks\":\"\"},\"type\":\"contourcarpet\"}],\"heatmap\":[{\"colorbar\":{\"outlinewidth\":0,\"ticks\":\"\"},\"colorscale\":[[0.0,\"#0d0887\"],[0.1111111111111111,\"#46039f\"],[0.2222222222222222,\"#7201a8\"],[0.3333333333333333,\"#9c179e\"],[0.4444444444444444,\"#bd3786\"],[0.5555555555555556,\"#d8576b\"],[0.6666666666666666,\"#ed7953\"],[0.7777777777777778,\"#fb9f3a\"],[0.8888888888888888,\"#fdca26\"],[1.0,\"#f0f921\"]],\"type\":\"heatmap\"}],\"heatmapgl\":[{\"colorbar\":{\"outlinewidth\":0,\"ticks\":\"\"},\"colorscale\":[[0.0,\"#0d0887\"],[0.1111111111111111,\"#46039f\"],[0.2222222222222222,\"#7201a8\"],[0.3333333333333333,\"#9c179e\"],[0.4444444444444444,\"#bd3786\"],[0.5555555555555556,\"#d8576b\"],[0.6666666666666666,\"#ed7953\"],[0.7777777777777778,\"#fb9f3a\"],[0.8888888888888888,\"#fdca26\"],[1.0,\"#f0f921\"]],\"type\":\"heatmapgl\"}],\"histogram\":[{\"marker\":{\"pattern\":{\"fillmode\":\"overlay\",\"size\":10,\"solidity\":0.2}},\"type\":\"histogram\"}],\"histogram2d\":[{\"colorbar\":{\"outlinewidth\":0,\"ticks\":\"\"},\"colorscale\":[[0.0,\"#0d0887\"],[0.1111111111111111,\"#46039f\"],[0.2222222222222222,\"#7201a8\"],[0.3333333333333333,\"#9c179e\"],[0.4444444444444444,\"#bd3786\"],[0.5555555555555556,\"#d8576b\"],[0.6666666666666666,\"#ed7953\"],[0.7777777777777778,\"#fb9f3a\"],[0.8888888888888888,\"#fdca26\"],[1.0,\"#f0f921\"]],\"type\":\"histogram2d\"}],\"histogram2dcontour\":[{\"colorbar\":{\"outlinewidth\":0,\"ticks\":\"\"},\"colorscale\":[[0.0,\"#0d0887\"],[0.1111111111111111,\"#46039f\"],[0.2222222222222222,\"#7201a8\"],[0.3333333333333333,\"#9c179e\"],[0.4444444444444444,\"#bd3786\"],[0.5555555555555556,\"#d8576b\"],[0.6666666666666666,\"#ed7953\"],[0.7777777777777778,\"#fb9f3a\"],[0.8888888888888888,\"#fdca26\"],[1.0,\"#f0f921\"]],\"type\":\"histogram2dcontour\"}],\"mesh3d\":[{\"colorbar\":{\"outlinewidth\":0,\"ticks\":\"\"},\"type\":\"mesh3d\"}],\"parcoords\":[{\"line\":{\"colorbar\":{\"outlinewidth\":0,\"ticks\":\"\"}},\"type\":\"parcoords\"}],\"pie\":[{\"automargin\":true,\"type\":\"pie\"}],\"scatter\":[{\"marker\":{\"colorbar\":{\"outlinewidth\":0,\"ticks\":\"\"}},\"type\":\"scatter\"}],\"scatter3d\":[{\"line\":{\"colorbar\":{\"outlinewidth\":0,\"ticks\":\"\"}},\"marker\":{\"colorbar\":{\"outlinewidth\":0,\"ticks\":\"\"}},\"type\":\"scatter3d\"}],\"scattercarpet\":[{\"marker\":{\"colorbar\":{\"outlinewidth\":0,\"ticks\":\"\"}},\"type\":\"scattercarpet\"}],\"scattergeo\":[{\"marker\":{\"colorbar\":{\"outlinewidth\":0,\"ticks\":\"\"}},\"type\":\"scattergeo\"}],\"scattergl\":[{\"marker\":{\"colorbar\":{\"outlinewidth\":0,\"ticks\":\"\"}},\"type\":\"scattergl\"}],\"scattermapbox\":[{\"marker\":{\"colorbar\":{\"outlinewidth\":0,\"ticks\":\"\"}},\"type\":\"scattermapbox\"}],\"scatterpolar\":[{\"marker\":{\"colorbar\":{\"outlinewidth\":0,\"ticks\":\"\"}},\"type\":\"scatterpolar\"}],\"scatterpolargl\":[{\"marker\":{\"colorbar\":{\"outlinewidth\":0,\"ticks\":\"\"}},\"type\":\"scatterpolargl\"}],\"scatterternary\":[{\"marker\":{\"colorbar\":{\"outlinewidth\":0,\"ticks\":\"\"}},\"type\":\"scatterternary\"}],\"surface\":[{\"colorbar\":{\"outlinewidth\":0,\"ticks\":\"\"},\"colorscale\":[[0.0,\"#0d0887\"],[0.1111111111111111,\"#46039f\"],[0.2222222222222222,\"#7201a8\"],[0.3333333333333333,\"#9c179e\"],[0.4444444444444444,\"#bd3786\"],[0.5555555555555556,\"#d8576b\"],[0.6666666666666666,\"#ed7953\"],[0.7777777777777778,\"#fb9f3a\"],[0.8888888888888888,\"#fdca26\"],[1.0,\"#f0f921\"]],\"type\":\"surface\"}],\"table\":[{\"cells\":{\"fill\":{\"color\":\"#EBF0F8\"},\"line\":{\"color\":\"white\"}},\"header\":{\"fill\":{\"color\":\"#C8D4E3\"},\"line\":{\"color\":\"white\"}},\"type\":\"table\"}]},\"layout\":{\"annotationdefaults\":{\"arrowcolor\":\"#2a3f5f\",\"arrowhead\":0,\"arrowwidth\":1},\"autotypenumbers\":\"strict\",\"coloraxis\":{\"colorbar\":{\"outlinewidth\":0,\"ticks\":\"\"}},\"colorscale\":{\"diverging\":[[0,\"#8e0152\"],[0.1,\"#c51b7d\"],[0.2,\"#de77ae\"],[0.3,\"#f1b6da\"],[0.4,\"#fde0ef\"],[0.5,\"#f7f7f7\"],[0.6,\"#e6f5d0\"],[0.7,\"#b8e186\"],[0.8,\"#7fbc41\"],[0.9,\"#4d9221\"],[1,\"#276419\"]],\"sequential\":[[0.0,\"#0d0887\"],[0.1111111111111111,\"#46039f\"],[0.2222222222222222,\"#7201a8\"],[0.3333333333333333,\"#9c179e\"],[0.4444444444444444,\"#bd3786\"],[0.5555555555555556,\"#d8576b\"],[0.6666666666666666,\"#ed7953\"],[0.7777777777777778,\"#fb9f3a\"],[0.8888888888888888,\"#fdca26\"],[1.0,\"#f0f921\"]],\"sequentialminus\":[[0.0,\"#0d0887\"],[0.1111111111111111,\"#46039f\"],[0.2222222222222222,\"#7201a8\"],[0.3333333333333333,\"#9c179e\"],[0.4444444444444444,\"#bd3786\"],[0.5555555555555556,\"#d8576b\"],[0.6666666666666666,\"#ed7953\"],[0.7777777777777778,\"#fb9f3a\"],[0.8888888888888888,\"#fdca26\"],[1.0,\"#f0f921\"]]},\"colorway\":[\"#636efa\",\"#EF553B\",\"#00cc96\",\"#ab63fa\",\"#FFA15A\",\"#19d3f3\",\"#FF6692\",\"#B6E880\",\"#FF97FF\",\"#FECB52\"],\"font\":{\"color\":\"#2a3f5f\"},\"geo\":{\"bgcolor\":\"white\",\"lakecolor\":\"white\",\"landcolor\":\"#E5ECF6\",\"showlakes\":true,\"showland\":true,\"subunitcolor\":\"white\"},\"hoverlabel\":{\"align\":\"left\"},\"hovermode\":\"closest\",\"mapbox\":{\"style\":\"light\"},\"paper_bgcolor\":\"white\",\"plot_bgcolor\":\"#E5ECF6\",\"polar\":{\"angularaxis\":{\"gridcolor\":\"white\",\"linecolor\":\"white\",\"ticks\":\"\"},\"bgcolor\":\"#E5ECF6\",\"radialaxis\":{\"gridcolor\":\"white\",\"linecolor\":\"white\",\"ticks\":\"\"}},\"scene\":{\"xaxis\":{\"backgroundcolor\":\"#E5ECF6\",\"gridcolor\":\"white\",\"gridwidth\":2,\"linecolor\":\"white\",\"showbackground\":true,\"ticks\":\"\",\"zerolinecolor\":\"white\"},\"yaxis\":{\"backgroundcolor\":\"#E5ECF6\",\"gridcolor\":\"white\",\"gridwidth\":2,\"linecolor\":\"white\",\"showbackground\":true,\"ticks\":\"\",\"zerolinecolor\":\"white\"},\"zaxis\":{\"backgroundcolor\":\"#E5ECF6\",\"gridcolor\":\"white\",\"gridwidth\":2,\"linecolor\":\"white\",\"showbackground\":true,\"ticks\":\"\",\"zerolinecolor\":\"white\"}},\"shapedefaults\":{\"line\":{\"color\":\"#2a3f5f\"}},\"ternary\":{\"aaxis\":{\"gridcolor\":\"white\",\"linecolor\":\"white\",\"ticks\":\"\"},\"baxis\":{\"gridcolor\":\"white\",\"linecolor\":\"white\",\"ticks\":\"\"},\"bgcolor\":\"#E5ECF6\",\"caxis\":{\"gridcolor\":\"white\",\"linecolor\":\"white\",\"ticks\":\"\"}},\"title\":{\"x\":0.05},\"xaxis\":{\"automargin\":true,\"gridcolor\":\"white\",\"linecolor\":\"white\",\"ticks\":\"\",\"title\":{\"standoff\":15},\"zerolinecolor\":\"white\",\"zerolinewidth\":2},\"yaxis\":{\"automargin\":true,\"gridcolor\":\"white\",\"linecolor\":\"white\",\"ticks\":\"\",\"title\":{\"standoff\":15},\"zerolinecolor\":\"white\",\"zerolinewidth\":2}}}},                        {\"responsive\": true}                    ).then(function(){\n",
              "                            \n",
              "var gd = document.getElementById('c09afcc9-0391-4a8f-98e6-1ecf2cdb66a1');\n",
              "var x = new MutationObserver(function (mutations, observer) {{\n",
              "        var display = window.getComputedStyle(gd).display;\n",
              "        if (!display || display === 'none') {{\n",
              "            console.log([gd, 'removed!']);\n",
              "            Plotly.purge(gd);\n",
              "            observer.disconnect();\n",
              "        }}\n",
              "}});\n",
              "\n",
              "// Listen for the removal of the full notebook cells\n",
              "var notebookContainer = gd.closest('#notebook-container');\n",
              "if (notebookContainer) {{\n",
              "    x.observe(notebookContainer, {childList: true});\n",
              "}}\n",
              "\n",
              "// Listen for the clearing of the current output cell\n",
              "var outputEl = gd.closest('.output');\n",
              "if (outputEl) {{\n",
              "    x.observe(outputEl, {childList: true});\n",
              "}}\n",
              "\n",
              "                        })                };                            </script>        </div>\n",
              "</body>\n",
              "</html>"
            ]
          },
          "metadata": {}
        }
      ]
    },
    {
      "cell_type": "code",
      "source": [
        "data = [go.Bar(x = train['Var_1'].unique(), y = train['Var_1'].value_counts(),\n",
        "               marker={'color': train['Profession'].value_counts(),'colorscale': 'Inferno'})]\n",
        "layout = go.Layout(title = 'Anonymous')\n",
        "fig = go.Figure(data = data, layout = layout)\n",
        "fig.show()"
      ],
      "metadata": {
        "colab": {
          "base_uri": "https://localhost:8080/",
          "height": 542
        },
        "id": "p7XTqnOv6Y99",
        "outputId": "69b37eb9-2c63-4c64-fc7a-f7fac5933188"
      },
      "execution_count": null,
      "outputs": [
        {
          "output_type": "display_data",
          "data": {
            "text/html": [
              "<html>\n",
              "<head><meta charset=\"utf-8\" /></head>\n",
              "<body>\n",
              "    <div>            <script src=\"https://cdnjs.cloudflare.com/ajax/libs/mathjax/2.7.5/MathJax.js?config=TeX-AMS-MML_SVG\"></script><script type=\"text/javascript\">if (window.MathJax) {MathJax.Hub.Config({SVG: {font: \"STIX-Web\"}});}</script>                <script type=\"text/javascript\">window.PlotlyConfig = {MathJaxConfig: 'local'};</script>\n",
              "        <script src=\"https://cdn.plot.ly/plotly-2.8.3.min.js\"></script>                <div id=\"2f42a3be-500b-46fb-b70b-8d398251f0c7\" class=\"plotly-graph-div\" style=\"height:525px; width:100%;\"></div>            <script type=\"text/javascript\">                                    window.PLOTLYENV=window.PLOTLYENV || {};                                    if (document.getElementById(\"2f42a3be-500b-46fb-b70b-8d398251f0c7\")) {                    Plotly.newPlot(                        \"2f42a3be-500b-46fb-b70b-8d398251f0c7\",                        [{\"marker\":{\"color\":[2516,1332,949,699,688,623,599,292,246],\"colorscale\":[[0.0,\"#000004\"],[0.1111111111111111,\"#1b0c41\"],[0.2222222222222222,\"#4a0c6b\"],[0.3333333333333333,\"#781c6d\"],[0.4444444444444444,\"#a52c60\"],[0.5555555555555556,\"#cf4446\"],[0.6666666666666666,\"#ed6925\"],[0.7777777777777778,\"#fb9b06\"],[0.8888888888888888,\"#f7d13d\"],[1.0,\"#fcffa4\"]]},\"x\":[\"Cat_4\",\"Cat_6\",\"Cat_7\",\"Cat_3\",\"Cat_1\",\"Cat_2\",null,\"Cat_5\"],\"y\":[5238,1089,822,422,203,133,85],\"type\":\"bar\"}],                        {\"title\":{\"text\":\"Anonymous\"},\"template\":{\"data\":{\"bar\":[{\"error_x\":{\"color\":\"#2a3f5f\"},\"error_y\":{\"color\":\"#2a3f5f\"},\"marker\":{\"line\":{\"color\":\"#E5ECF6\",\"width\":0.5},\"pattern\":{\"fillmode\":\"overlay\",\"size\":10,\"solidity\":0.2}},\"type\":\"bar\"}],\"barpolar\":[{\"marker\":{\"line\":{\"color\":\"#E5ECF6\",\"width\":0.5},\"pattern\":{\"fillmode\":\"overlay\",\"size\":10,\"solidity\":0.2}},\"type\":\"barpolar\"}],\"carpet\":[{\"aaxis\":{\"endlinecolor\":\"#2a3f5f\",\"gridcolor\":\"white\",\"linecolor\":\"white\",\"minorgridcolor\":\"white\",\"startlinecolor\":\"#2a3f5f\"},\"baxis\":{\"endlinecolor\":\"#2a3f5f\",\"gridcolor\":\"white\",\"linecolor\":\"white\",\"minorgridcolor\":\"white\",\"startlinecolor\":\"#2a3f5f\"},\"type\":\"carpet\"}],\"choropleth\":[{\"colorbar\":{\"outlinewidth\":0,\"ticks\":\"\"},\"type\":\"choropleth\"}],\"contour\":[{\"colorbar\":{\"outlinewidth\":0,\"ticks\":\"\"},\"colorscale\":[[0.0,\"#0d0887\"],[0.1111111111111111,\"#46039f\"],[0.2222222222222222,\"#7201a8\"],[0.3333333333333333,\"#9c179e\"],[0.4444444444444444,\"#bd3786\"],[0.5555555555555556,\"#d8576b\"],[0.6666666666666666,\"#ed7953\"],[0.7777777777777778,\"#fb9f3a\"],[0.8888888888888888,\"#fdca26\"],[1.0,\"#f0f921\"]],\"type\":\"contour\"}],\"contourcarpet\":[{\"colorbar\":{\"outlinewidth\":0,\"ticks\":\"\"},\"type\":\"contourcarpet\"}],\"heatmap\":[{\"colorbar\":{\"outlinewidth\":0,\"ticks\":\"\"},\"colorscale\":[[0.0,\"#0d0887\"],[0.1111111111111111,\"#46039f\"],[0.2222222222222222,\"#7201a8\"],[0.3333333333333333,\"#9c179e\"],[0.4444444444444444,\"#bd3786\"],[0.5555555555555556,\"#d8576b\"],[0.6666666666666666,\"#ed7953\"],[0.7777777777777778,\"#fb9f3a\"],[0.8888888888888888,\"#fdca26\"],[1.0,\"#f0f921\"]],\"type\":\"heatmap\"}],\"heatmapgl\":[{\"colorbar\":{\"outlinewidth\":0,\"ticks\":\"\"},\"colorscale\":[[0.0,\"#0d0887\"],[0.1111111111111111,\"#46039f\"],[0.2222222222222222,\"#7201a8\"],[0.3333333333333333,\"#9c179e\"],[0.4444444444444444,\"#bd3786\"],[0.5555555555555556,\"#d8576b\"],[0.6666666666666666,\"#ed7953\"],[0.7777777777777778,\"#fb9f3a\"],[0.8888888888888888,\"#fdca26\"],[1.0,\"#f0f921\"]],\"type\":\"heatmapgl\"}],\"histogram\":[{\"marker\":{\"pattern\":{\"fillmode\":\"overlay\",\"size\":10,\"solidity\":0.2}},\"type\":\"histogram\"}],\"histogram2d\":[{\"colorbar\":{\"outlinewidth\":0,\"ticks\":\"\"},\"colorscale\":[[0.0,\"#0d0887\"],[0.1111111111111111,\"#46039f\"],[0.2222222222222222,\"#7201a8\"],[0.3333333333333333,\"#9c179e\"],[0.4444444444444444,\"#bd3786\"],[0.5555555555555556,\"#d8576b\"],[0.6666666666666666,\"#ed7953\"],[0.7777777777777778,\"#fb9f3a\"],[0.8888888888888888,\"#fdca26\"],[1.0,\"#f0f921\"]],\"type\":\"histogram2d\"}],\"histogram2dcontour\":[{\"colorbar\":{\"outlinewidth\":0,\"ticks\":\"\"},\"colorscale\":[[0.0,\"#0d0887\"],[0.1111111111111111,\"#46039f\"],[0.2222222222222222,\"#7201a8\"],[0.3333333333333333,\"#9c179e\"],[0.4444444444444444,\"#bd3786\"],[0.5555555555555556,\"#d8576b\"],[0.6666666666666666,\"#ed7953\"],[0.7777777777777778,\"#fb9f3a\"],[0.8888888888888888,\"#fdca26\"],[1.0,\"#f0f921\"]],\"type\":\"histogram2dcontour\"}],\"mesh3d\":[{\"colorbar\":{\"outlinewidth\":0,\"ticks\":\"\"},\"type\":\"mesh3d\"}],\"parcoords\":[{\"line\":{\"colorbar\":{\"outlinewidth\":0,\"ticks\":\"\"}},\"type\":\"parcoords\"}],\"pie\":[{\"automargin\":true,\"type\":\"pie\"}],\"scatter\":[{\"marker\":{\"colorbar\":{\"outlinewidth\":0,\"ticks\":\"\"}},\"type\":\"scatter\"}],\"scatter3d\":[{\"line\":{\"colorbar\":{\"outlinewidth\":0,\"ticks\":\"\"}},\"marker\":{\"colorbar\":{\"outlinewidth\":0,\"ticks\":\"\"}},\"type\":\"scatter3d\"}],\"scattercarpet\":[{\"marker\":{\"colorbar\":{\"outlinewidth\":0,\"ticks\":\"\"}},\"type\":\"scattercarpet\"}],\"scattergeo\":[{\"marker\":{\"colorbar\":{\"outlinewidth\":0,\"ticks\":\"\"}},\"type\":\"scattergeo\"}],\"scattergl\":[{\"marker\":{\"colorbar\":{\"outlinewidth\":0,\"ticks\":\"\"}},\"type\":\"scattergl\"}],\"scattermapbox\":[{\"marker\":{\"colorbar\":{\"outlinewidth\":0,\"ticks\":\"\"}},\"type\":\"scattermapbox\"}],\"scatterpolar\":[{\"marker\":{\"colorbar\":{\"outlinewidth\":0,\"ticks\":\"\"}},\"type\":\"scatterpolar\"}],\"scatterpolargl\":[{\"marker\":{\"colorbar\":{\"outlinewidth\":0,\"ticks\":\"\"}},\"type\":\"scatterpolargl\"}],\"scatterternary\":[{\"marker\":{\"colorbar\":{\"outlinewidth\":0,\"ticks\":\"\"}},\"type\":\"scatterternary\"}],\"surface\":[{\"colorbar\":{\"outlinewidth\":0,\"ticks\":\"\"},\"colorscale\":[[0.0,\"#0d0887\"],[0.1111111111111111,\"#46039f\"],[0.2222222222222222,\"#7201a8\"],[0.3333333333333333,\"#9c179e\"],[0.4444444444444444,\"#bd3786\"],[0.5555555555555556,\"#d8576b\"],[0.6666666666666666,\"#ed7953\"],[0.7777777777777778,\"#fb9f3a\"],[0.8888888888888888,\"#fdca26\"],[1.0,\"#f0f921\"]],\"type\":\"surface\"}],\"table\":[{\"cells\":{\"fill\":{\"color\":\"#EBF0F8\"},\"line\":{\"color\":\"white\"}},\"header\":{\"fill\":{\"color\":\"#C8D4E3\"},\"line\":{\"color\":\"white\"}},\"type\":\"table\"}]},\"layout\":{\"annotationdefaults\":{\"arrowcolor\":\"#2a3f5f\",\"arrowhead\":0,\"arrowwidth\":1},\"autotypenumbers\":\"strict\",\"coloraxis\":{\"colorbar\":{\"outlinewidth\":0,\"ticks\":\"\"}},\"colorscale\":{\"diverging\":[[0,\"#8e0152\"],[0.1,\"#c51b7d\"],[0.2,\"#de77ae\"],[0.3,\"#f1b6da\"],[0.4,\"#fde0ef\"],[0.5,\"#f7f7f7\"],[0.6,\"#e6f5d0\"],[0.7,\"#b8e186\"],[0.8,\"#7fbc41\"],[0.9,\"#4d9221\"],[1,\"#276419\"]],\"sequential\":[[0.0,\"#0d0887\"],[0.1111111111111111,\"#46039f\"],[0.2222222222222222,\"#7201a8\"],[0.3333333333333333,\"#9c179e\"],[0.4444444444444444,\"#bd3786\"],[0.5555555555555556,\"#d8576b\"],[0.6666666666666666,\"#ed7953\"],[0.7777777777777778,\"#fb9f3a\"],[0.8888888888888888,\"#fdca26\"],[1.0,\"#f0f921\"]],\"sequentialminus\":[[0.0,\"#0d0887\"],[0.1111111111111111,\"#46039f\"],[0.2222222222222222,\"#7201a8\"],[0.3333333333333333,\"#9c179e\"],[0.4444444444444444,\"#bd3786\"],[0.5555555555555556,\"#d8576b\"],[0.6666666666666666,\"#ed7953\"],[0.7777777777777778,\"#fb9f3a\"],[0.8888888888888888,\"#fdca26\"],[1.0,\"#f0f921\"]]},\"colorway\":[\"#636efa\",\"#EF553B\",\"#00cc96\",\"#ab63fa\",\"#FFA15A\",\"#19d3f3\",\"#FF6692\",\"#B6E880\",\"#FF97FF\",\"#FECB52\"],\"font\":{\"color\":\"#2a3f5f\"},\"geo\":{\"bgcolor\":\"white\",\"lakecolor\":\"white\",\"landcolor\":\"#E5ECF6\",\"showlakes\":true,\"showland\":true,\"subunitcolor\":\"white\"},\"hoverlabel\":{\"align\":\"left\"},\"hovermode\":\"closest\",\"mapbox\":{\"style\":\"light\"},\"paper_bgcolor\":\"white\",\"plot_bgcolor\":\"#E5ECF6\",\"polar\":{\"angularaxis\":{\"gridcolor\":\"white\",\"linecolor\":\"white\",\"ticks\":\"\"},\"bgcolor\":\"#E5ECF6\",\"radialaxis\":{\"gridcolor\":\"white\",\"linecolor\":\"white\",\"ticks\":\"\"}},\"scene\":{\"xaxis\":{\"backgroundcolor\":\"#E5ECF6\",\"gridcolor\":\"white\",\"gridwidth\":2,\"linecolor\":\"white\",\"showbackground\":true,\"ticks\":\"\",\"zerolinecolor\":\"white\"},\"yaxis\":{\"backgroundcolor\":\"#E5ECF6\",\"gridcolor\":\"white\",\"gridwidth\":2,\"linecolor\":\"white\",\"showbackground\":true,\"ticks\":\"\",\"zerolinecolor\":\"white\"},\"zaxis\":{\"backgroundcolor\":\"#E5ECF6\",\"gridcolor\":\"white\",\"gridwidth\":2,\"linecolor\":\"white\",\"showbackground\":true,\"ticks\":\"\",\"zerolinecolor\":\"white\"}},\"shapedefaults\":{\"line\":{\"color\":\"#2a3f5f\"}},\"ternary\":{\"aaxis\":{\"gridcolor\":\"white\",\"linecolor\":\"white\",\"ticks\":\"\"},\"baxis\":{\"gridcolor\":\"white\",\"linecolor\":\"white\",\"ticks\":\"\"},\"bgcolor\":\"#E5ECF6\",\"caxis\":{\"gridcolor\":\"white\",\"linecolor\":\"white\",\"ticks\":\"\"}},\"title\":{\"x\":0.05},\"xaxis\":{\"automargin\":true,\"gridcolor\":\"white\",\"linecolor\":\"white\",\"ticks\":\"\",\"title\":{\"standoff\":15},\"zerolinecolor\":\"white\",\"zerolinewidth\":2},\"yaxis\":{\"automargin\":true,\"gridcolor\":\"white\",\"linecolor\":\"white\",\"ticks\":\"\",\"title\":{\"standoff\":15},\"zerolinecolor\":\"white\",\"zerolinewidth\":2}}}},                        {\"responsive\": true}                    ).then(function(){\n",
              "                            \n",
              "var gd = document.getElementById('2f42a3be-500b-46fb-b70b-8d398251f0c7');\n",
              "var x = new MutationObserver(function (mutations, observer) {{\n",
              "        var display = window.getComputedStyle(gd).display;\n",
              "        if (!display || display === 'none') {{\n",
              "            console.log([gd, 'removed!']);\n",
              "            Plotly.purge(gd);\n",
              "            observer.disconnect();\n",
              "        }}\n",
              "}});\n",
              "\n",
              "// Listen for the removal of the full notebook cells\n",
              "var notebookContainer = gd.closest('#notebook-container');\n",
              "if (notebookContainer) {{\n",
              "    x.observe(notebookContainer, {childList: true});\n",
              "}}\n",
              "\n",
              "// Listen for the clearing of the current output cell\n",
              "var outputEl = gd.closest('.output');\n",
              "if (outputEl) {{\n",
              "    x.observe(outputEl, {childList: true});\n",
              "}}\n",
              "\n",
              "                        })                };                            </script>        </div>\n",
              "</body>\n",
              "</html>"
            ]
          },
          "metadata": {}
        }
      ]
    },
    {
      "cell_type": "code",
      "source": [
        "for col in nom_cols:\n",
        "    data = [go.Scatter(x=train[col], y =train.index, mode = 'markers')]\n",
        "    layout = go.Layout(title= col)\n",
        "    fig = go.Figure(data = data, layout = layout)\n",
        "    fig.show()"
      ],
      "metadata": {
        "colab": {
          "base_uri": "https://localhost:8080/",
          "height": 1000
        },
        "id": "noJTH7rR6dzG",
        "outputId": "255586df-3af7-4106-9243-d65609111c73"
      },
      "execution_count": null,
      "outputs": [
        {
          "output_type": "display_data",
          "data": {
            "text/html": [
              "<html>\n",
              "<head><meta charset=\"utf-8\" /></head>\n",
              "<body>\n",
              "    <div>            <script src=\"https://cdnjs.cloudflare.com/ajax/libs/mathjax/2.7.5/MathJax.js?config=TeX-AMS-MML_SVG\"></script><script type=\"text/javascript\">if (window.MathJax) {MathJax.Hub.Config({SVG: {font: \"STIX-Web\"}});}</script>                <script type=\"text/javascript\">window.PlotlyConfig = {MathJaxConfig: 'local'};</script>\n",
              "        <script src=\"https://cdn.plot.ly/plotly-2.8.3.min.js\"></script>                <div id=\"f1e0aa26-a87b-4769-a491-5b8b57b12c14\" class=\"plotly-graph-div\" style=\"height:525px; width:100%;\"></div>            <script type=\"text/javascript\">                                    window.PLOTLYENV=window.PLOTLYENV || {};                                    if (document.getElementById(\"f1e0aa26-a87b-4769-a491-5b8b57b12c14\")) {                    Plotly.newPlot(                        \"f1e0aa26-a87b-4769-a491-5b8b57b12c14\",                        [{\"mode\":\"markers\",\"x\":[22,38,67,67,40,56,32,33,61,55,26,19,19,70,58,41,32,31,58,79,49,18,33,36,58,56,31,49,35,35,45,42,19,26,83,27,32,28,28,56,47,22,27,49,40,79,41,29,19,45,61,36,40,57,76,32,25,32,45,72,48,55,74,56,59,25,31,27,57,39,27,51,47,33,56,33,36,51,45,49,30,26,63,35,19,32,52,36,42,40,39,47,61,32,55,58,38,63,58,30,60,68,52,38,35,18,30,86,19,25,59,39,50,47,43,36,80,36,27,37,46,55,47,28,39,27,42,72,28,35,39,69,18,46,50,30,41,39,29,37,39,48,32,78,43,29,28,80,28,71,67,26,47,43,27,45,76,43,78,35,49,25,37,32,60,45,49,32,40,59,48,82,70,31,72,50,23,20,22,31,36,52,29,40,40,38,85,21,41,40,53,42,42,48,59,41,31,49,67,35,26,19,25,39,63,23,23,53,33,50,69,37,20,85,49,18,52,25,56,62,35,28,28,20,27,56,45,25,40,25,74,23,67,21,38,28,32,33,56,53,57,59,25,59,36,37,22,43,41,21,49,38,47,70,31,82,51,42,38,18,50,46,72,33,25,75,72,72,36,40,28,28,19,43,35,65,52,40,69,22,47,29,46,32,38,59,26,26,28,53,43,27,32,26,31,39,43,25,40,40,63,27,27,19,86,41,27,70,53,49,55,57,83,43,36,74,30,37,22,19,70,89,18,25,45,35,37,39,32,62,58,32,25,56,36,30,19,27,38,46,29,51,55,69,26,83,39,35,19,60,35,53,86,29,26,36,22,19,20,43,42,43,50,25,61,28,38,25,18,43,27,60,75,31,23,36,30,56,52,39,35,33,25,27,35,41,49,46,31,49,26,43,30,70,28,89,42,37,29,68,25,29,48,51,40,47,39,35,19,21,46,86,66,42,73,72,53,39,27,63,23,30,39,26,50,45,62,27,57,30,32,18,47,32,32,67,77,79,31,42,18,50,71,72,47,45,40,36,42,30,29,28,22,85,40,52,47,26,55,20,87,28,38,42,42,29,32,38,59,22,26,78,32,37,37,67,47,68,30,48,43,33,31,32,21,29,35,46,38,32,28,68,45,58,28,32,30,42,22,41,18,29,33,47,57,36,57,18,52,52,51,37,36,29,45,61,52,49,40,31,42,51,42,29,33,27,21,35,42,41,39,28,45,61,62,65,45,26,25,45,43,49,55,37,65,32,39,40,72,38,26,30,51,57,31,39,30,43,27,46,43,69,28,43,27,28,33,30,58,38,31,32,45,66,51,59,40,46,20,84,41,51,57,33,25,55,56,77,30,23,43,39,29,37,45,48,27,60,45,31,33,18,48,83,57,26,51,67,38,40,45,48,69,21,48,18,72,85,21,48,37,28,55,56,50,21,18,68,47,75,50,31,30,41,41,35,37,60,50,36,26,62,22,19,45,31,56,62,25,73,62,46,51,25,66,27,87,47,57,60,40,32,28,39,47,39,28,69,42,46,23,45,38,71,26,60,46,39,18,26,53,40,76,26,65,37,25,21,25,23,30,30,42,81,49,32,43,26,67,88,40,48,18,39,61,51,25,35,46,53,48,75,23,29,46,61,37,23,21,33,74,41,58,25,33,43,25,26,22,28,36,28,85,30,43,82,48,18,53,50,39,35,28,33,35,48,50,47,50,56,26,21,61,88,72,61,45,51,42,59,45,68,85,46,32,70,37,30,33,61,37,32,52,42,47,52,66,28,47,52,27,56,53,45,37,36,25,45,72,35,72,31,47,20,73,29,25,52,27,52,49,60,45,59,18,18,55,59,22,52,51,35,26,38,43,41,27,60,25,18,47,71,32,60,33,37,48,33,68,51,52,31,39,60,50,19,18,37,50,20,19,31,53,26,37,49,70,48,21,19,61,31,65,73,50,70,58,58,18,32,40,49,35,40,30,35,28,30,39,39,26,36,26,21,45,45,63,45,27,47,36,49,25,32,41,50,63,69,62,63,36,31,45,45,26,49,38,74,61,26,70,30,57,35,20,19,52,31,22,27,39,28,59,57,25,40,53,32,70,48,75,62,41,55,35,20,20,35,56,39,42,35,35,33,42,35,27,33,32,35,22,40,51,88,82,43,29,38,37,32,26,39,43,51,52,51,20,33,36,39,48,78,46,26,26,37,75,19,22,27,57,32,37,33,57,35,26,31,53,56,65,23,68,32,21,61,25,36,25,58,66,42,36,58,36,28,45,35,59,49,51,40,49,74,27,70,62,37,40,47,52,57,37,60,43,37,59,60,69,49,23,43,22,29,26,36,55,59,83,55,53,62,73,45,28,28,25,52,61,27,31,40,27,60,40,32,42,32,27,29,43,48,62,42,25,31,61,26,27,40,23,45,37,28,70,37,19,48,56,36,63,68,27,30,33,25,37,30,66,31,31,45,42,46,76,25,41,49,32,55,66,68,21,39,26,22,20,50,84,43,63,37,31,26,41,62,45,28,89,20,40,23,41,78,43,57,55,27,51,35,49,33,60,52,42,28,43,25,51,42,20,80,41,71,42,56,41,72,30,25,33,26,38,60,79,38,56,73,22,42,72,33,53,25,46,18,60,22,22,18,39,19,30,23,23,48,39,56,63,71,70,84,39,42,46,63,55,42,58,88,43,73,35,30,30,46,43,36,47,63,35,31,45,26,37,26,37,53,55,42,46,30,63,52,28,20,60,42,46,37,42,46,49,89,38,48,51,73,30,46,65,36,25,31,43,33,30,21,25,49,31,33,27,33,35,19,25,57,45,47,20,33,45,27,38,38,87,30,57,63,50,68,33,37,25,29,32,68,86,49,32,28,26,83,63,65,38,61,46,30,46,53,22,42,57,49,25,31,25,33,29,38,62,59,27,51,59,78,37,37,30,43,40,40,30,40,62,22,66,67,50,27,28,45,59,19,62,72,19,28,25,36,33,59,20,23,27,46,74,26,76,41,32,30,70,50,39,42,40,39,88,43,19,45,30,39,35,53,21,22,38,36,63,31,25,52,19,35,30,59,25,77,58,38,29,56,37,49,41,55,28,35,23,43,18,30,20,84,42,28,73,61,42,49,84,22,42,31,49,58,72,45,49,20,31,50,65,78,45,29,25,62,28,49,29,52,23,18,26,51,27,20,62,63,53,28,33,45,61,62,42,52,51,49,51,29,53,40,25,29,60,25,55,66,27,51,35,65,20,32,79,21,36,70,28,25,36,20,49,28,49,18,46,47,32,47,49,28,58,21,53,67,26,26,40,25,41,45,47,27,50,51,28,39,60,39,65,43,58,31,38,27,58,62,48,57,42,68,38,31,51,59,36,32,25,48,37,70,42,26,25,36,42,35,22,36,47,19,36,28,52,50,47,29,23,50,21,56,32,32,63,50,52,49,62,55,27,45,31,33,52,42,38,84,67,32,33,30,18,47,29,63,55,48,27,43,50,29,73,57,47,32,25,79,41,36,19,49,26,28,84,81,35,55,50,78,36,47,48,69,38,36,52,46,18,22,18,30,32,43,49,40,55,33,31,35,40,69,46,63,50,61,50,25,53,35,19,26,38,26,39,39,72,45,47,30,48,76,71,41,29,57,49,21,18,22,33,53,55,73,89,59,38,42,83,22,46,37,42,71,18,41,27,53,28,35,18,19,32,30,36,82,37,45,31,27,18,22,22,42,69,43,89,26,43,30,60,38,29,45,20,51,36,41,46,30,23,39,63,60,20,89,31,43,70,35,42,39,29,38,74,41,51,50,23,36,36,50,23,37,65,26,55,65,72,51,25,38,55,46,39,62,37,28,32,31,31,43,67,72,57,58,36,21,47,25,41,29,21,66,27,27,52,46,23,27,52,65,42,59,45,18,61,53,37,63,33,50,62,49,46,27,53,42,28,49,35,27,58,41,32,33,69,31,68,39,21,39,41,49,38,36,52,46,28,55,41,47,52,45,32,78,45,39,38,50,53,43,59,38,42,65,79,41,42,28,49,58,69,35,47,25,38,25,76,23,38,49,56,71,39,41,66,27,23,35,33,21,49,42,39,68,57,38,35,41,40,32,53,38,68,30,52,80,31,38,87,23,45,36,41,48,70,84,39,39,50,40,39,38,71,35,27,33,37,74,20,30,22,43,36,29,43,38,40,68,57,35,23,50,32,59,30,35,48,29,40,38,36,20,29,42,35,37,52,53,30,65,23,32,36,27,36,37,29,29,27,35,40,37,19,29,53,25,38,48,26,30,30,69,57,56,27,21,71,39,87,59,32,40,58,19,31,31,43,47,35,46,69,69,45,38,39,65,23,58,84,35,22,30,23,41,50,50,28,37,19,30,43,73,19,50,51,32,39,43,33,61,70,66,72,71,18,33,28,27,38,63,70,26,36,47,28,26,65,20,30,41,40,47,40,53,28,60,27,43,33,56,70,70,73,38,40,88,29,27,40,82,38,39,39,47,75,37,84,42,39,42,40,52,52,31,37,27,35,79,28,31,88,51,38,53,43,55,35,25,58,32,49,53,31,39,42,20,50,26,46,30,60,84,37,63,38,51,20,25,33,31,57,42,40,66,21,73,46,66,27,35,53,80,63,41,43,47,18,33,30,85,46,48,80,33,36,27,28,35,26,39,56,26,31,21,39,51,45,33,62,80,77,29,33,29,20,43,18,53,28,43,31,28,65,33,49,33,53,47,31,52,61,31,30,63,69,29,56,72,88,30,31,41,31,20,26,48,26,20,41,20,63,88,39,55,32,32,38,62,18,67,42,45,46,20,41,35,52,63,51,29,27,37,29,50,74,72,83,37,19,30,46,65,88,43,50,35,67,66,39,46,32,40,88,30,32,43,55,47,73,39,22,39,31,27,19,69,37,45,22,26,39,61,74,29,29,36,63,69,35,81,71,31,41,35,52,19,39,45,19,23,77,84,47,29,35,40,35,20,43,56,53,22,32,51,41,37,55,42,20,42,38,52,48,37,27,48,25,56,68,21,72,43,52,50,41,40,32,57,25,74,38,46,50,50,69,29,84,73,38,82,71,50,56,19,29,26,31,42,33,35,46,67,35,28,43,40,73,21,32,36,32,25,40,19,48,36,27,82,23,30,30,30,28,60,52,19,19,40,38,71,40,68,50,21,29,29,39,41,28,22,35,49,26,33,27,50,37,43,35,50,31,29,20,66,37,52,45,27,46,43,32,87,40,59,63,23,65,47,45,79,65,38,28,20,36,22,56,32,33,68,53,38,22,49,43,33,57,65,50,36,43,18,43,75,27,39,61,73,26,52,50,51,50,53,40,86,26,32,22,36,62,69,39,81,28,28,52,40,68,37,26,31,68,42,56,37,58,33,31,27,25,51,37,69,45,38,51,19,32,31,19,41,39,21,30,23,65,31,74,73,42,47,19,45,25,28,40,40,30,50,26,82,33,50,83,37,37,55,61,39,40,55,50,26,53,28,32,31,30,31,47,49,37,47,52,20,79,47,20,23,29,33,21,18,70,56,42,28,41,81,30,53,26,51,19,75,51,70,38,21,80,19,33,48,33,33,31,48,49,38,39,46,41,31,37,58,49,47,30,41,33,33,27,45,45,35,21,36,56,28,89,48,47,23,18,58,42,22,50,40,73,27,40,81,37,39,83,55,51,42,27,53,40,62,21,40,27,84,26,26,33,27,46,28,25,47,32,21,73,35,52,40,31,88,39,41,73,45,41,75,39,89,45,50,43,50,53,37,40,76,27,41,50,56,28,46,72,41,28,27,32,20,45,59,46,46,41,70,25,42,60,37,18,52,32,74,29,37,45,22,60,51,59,55,22,18,84,35,50,73,23,30,21,18,46,32,36,37,42,35,42,33,35,59,70,53,80,56,39,73,58,30,23,59,56,40,68,29,55,21,19,41,41,33,31,41,35,41,81,26,42,53,33,39,83,25,40,22,37,65,49,38,65,48,52,73,48,25,31,25,21,20,25,25,29,72,48,28,42,32,49,55,40,37,27,32,36,28,72,18,36,29,88,38,87,51,51,31,47,70,31,29,20,41,68,28,32,75,39,18,42,48,70,45,29,50,22,46,39,81,49,43,66,53,29,86,70,36,35,42,49,20,27,56,67,51,49,51,26,59,31,43,59,35,18,48,88,30,22,66,81,36,30,50,51,66,39,28,35,50,27,60,52,32,42,48,75,26,21,53,32,56,36,83,42,66,62,40,38,18,62,23,56,42,32,28,77,35,30,53,27,53,52,29,36,41,72,50,79,23,25,40,27,62,29,31,37,28,26,33,59,57,43,50,29,29,28,37,75,19,42,22,28,45,51,40,42,49,46,46,29,72,26,50,33,57,35,51,52,20,33,58,37,38,27,43,18,29,86,32,52,53,29,58,22,72,39,40,23,79,70,27,47,58,26,40,35,31,43,21,29,18,28,27,47,52,42,57,61,33,41,39,40,52,48,33,43,51,36,38,30,39,46,43,70,41,39,51,20,30,26,31,33,21,83,70,60,33,71,29,41,55,29,76,23,18,49,19,81,35,59,32,35,56,63,21,77,36,22,26,82,18,35,36,59,61,37,25,28,56,29,86,45,33,20,25,59,51,20,62,75,47,32,62,43,69,38,29,56,51,53,37,28,48,74,51,88,50,19,28,32,45,56,33,29,53,18,45,86,26,46,35,32,36,25,63,23,26,46,70,40,33,48,39,45,61,52,26,45,40,42,19,38,73,29,35,26,39,28,37,36,41,39,74,23,25,50,67,30,66,29,43,56,42,39,40,26,39,46,40,78,45,58,31,57,32,27,27,25,57,18,69,59,36,19,40,20,63,42,42,30,25,48,52,35,74,33,45,49,37,40,29,72,49,26,55,28,52,59,19,52,41,22,56,51,57,60,27,50,40,69,41,70,32,20,73,19,70,33,49,89,25,35,39,47,48,45,20,46,84,26,31,51,52,53,42,47,41,52,30,47,61,33,31,31,47,86,31,30,32,41,37,51,46,65,38,38,21,21,75,68,22,35,35,72,68,27,33,69,22,47,53,63,32,41,38,25,57,37,33,48,22,68,35,27,52,46,40,46,62,43,46,42,31,19,36,43,32,40,48,38,68,38,35,52,60,26,28,75,25,35,56,41,37,36,31,68,30,62,39,72,31,65,68,39,52,28,43,77,42,31,21,85,26,35,76,37,33,52,40,79,47,78,50,46,47,37,35,51,51,71,80,77,60,53,43,49,30,42,62,22,48,66,25,26,42,52,18,58,37,39,19,46,68,41,25,50,30,59,52,31,80,51,39,29,23,53,33,69,33,52,48,28,29,47,40,72,63,27,38,59,38,22,25,49,45,21,26,52,27,32,89,39,41,26,45,40,26,63,40,53,41,77,32,30,60,59,72,63,42,53,81,76,40,28,27,41,29,43,57,31,68,46,32,51,19,26,32,62,47,28,48,61,25,74,38,28,27,56,25,37,50,48,48,48,39,36,63,36,37,42,39,28,40,88,57,51,43,28,42,18,27,62,68,42,18,46,48,35,56,88,25,43,25,78,53,33,49,31,65,51,19,41,57,35,40,26,86,52,50,82,41,36,22,23,27,75,32,51,58,50,55,30,29,69,41,47,76,21,30,35,33,25,31,25,38,56,21,47,52,63,39,20,21,42,38,43,28,21,50,72,25,58,37,23,81,23,77,33,35,25,22,42,25,33,51,31,32,32,45,37,23,52,42,59,66,79,52,47,42,48,84,39,61,46,33,31,41,32,66,20,43,28,38,42,51,78,69,89,47,84,58,21,23,40,19,40,41,52,45,33,43,39,51,35,37,40,28,69,27,62,57,62,28,52,40,53,73,26,53,42,67,70,68,22,65,43,39,89,37,29,27,88,48,70,40,52,25,48,42,50,39,56,67,29,46,31,41,27,56,32,59,87,41,59,55,52,61,46,46,36,36,58,25,65,89,27,39,89,59,47,41,66,19,74,35,50,23,28,59,42,35,56,50,39,45,52,76,36,26,39,18,43,63,36,33,81,37,47,67,36,30,40,19,32,32,33,27,73,29,28,69,33,67,73,42,32,53,42,50,19,82,82,38,27,38,48,22,30,31,35,27,40,62,30,67,38,37,26,61,22,47,67,38,36,36,29,29,28,25,40,41,35,39,73,22,40,30,32,38,31,41,26,41,56,61,48,40,83,22,22,22,72,27,35,84,42,30,73,68,46,48,49,26,49,81,26,56,26,36,32,56,40,19,66,76,30,26,33,25,27,42,35,29,68,72,21,50,49,33,52,89,46,87,50,30,22,58,32,29,32,53,27,68,43,39,20,40,38,26,31,22,35,37,26,51,35,36,46,46,53,18,26,32,69,60,60,51,26,48,51,72,43,35,29,19,27,40,52,23,31,35,25,47,37,20,68,28,22,25,20,32,18,79,36,49,49,45,28,57,41,37,36,45,39,40,29,89,73,28,53,25,19,52,31,35,47,68,42,38,25,37,31,21,28,50,46,19,37,28,71,66,57,86,40,49,41,42,87,80,60,38,74,30,20,43,32,53,23,52,45,22,63,81,35,39,37,83,47,65,25,40,27,19,61,56,53,39,55,65,26,28,40,40,42,37,22,33,28,51,32,33,40,36,27,18,81,59,53,38,20,40,37,31,40,35,35,39,79,42,42,32,52,59,51,32,49,40,61,86,29,46,28,53,65,32,31,25,33,38,43,20,33,50,37,38,43,27,35,36,20,53,36,32,55,37,27,43,32,40,87,86,42,37,25,19,42,33,41,27,84,22,32,83,50,30,23,27,35,23,56,41,25,41,27,43,40,60,45,82,28,63,35,89,20,40,46,25,46,49,47,30,40,39,61,28,18,55,39,47,29,66,46,52,23,84,27,37,46,22,42,35,39,27,65,39,22,31,48,58,74,40,26,35,43,49,26,74,56,49,19,39,37,41,26,38,35,49,60,38,52,70,21,58,28,57,37,52,35,30,35,31,37,71,66,25,26,31,67,51,39,60,46,36,18,30,69,32,60,40,83,51,33,43,71,50,57,35,66,46,26,21,42,40,27,37,70,35,28,27,81,25,72,33,40,52,23,48,31,35,63,63,28,37,67,37,22,46,41,59,23,84,89,50,52,74,48,47,45,53,53,29,19,50,42,29,40,18,46,68,72,66,63,41,82,43,53,29,53,87,62,43,36,30,37,59,35,39,19,75,40,62,43,43,29,27,23,42,65,57,46,30,51,39,41,29,76,33,23,33,43,35,32,65,49,48,39,27,36,76,35,35,48,23,42,41,29,36,60,46,31,20,31,26,28,18,30,39,74,52,25,66,55,31,41,59,39,48,79,43,26,88,66,56,26,41,36,38,81,25,42,32,28,29,28,26,47,50,70,38,39,60,63,68,47,40,46,42,48,53,65,26,35,27,86,30,43,38,66,74,25,89,30,33,37,69,51,19,45,32,22,26,43,19,48,61,20,22,31,25,41,36,48,27,35,39,38,57,38,80,57,61,29,23,83,37,35,41,38,81,58,38,18,37,43,36,76,33,43,47,81,27,29,38,19,37,47,33,51,86,56,59,33,31,71,32,26,89,70,30,37,30,23,42,48,28,65,28,85,18,35,27,68,52,20,35,21,42,50,25,32,19,22,27,22,55,22,40,46,65,18,53,35,59,32,39,88,61,21,31,58,27,51,48,25,89,51,40,56,36,38,47,61,89,55,88,43,28,42,33,60,59,31,31,43,42,29,53,21,41,48,31,26,18,19,42,52,50,33,75,71,59,85,29,43,52,36,59,23,39,39,46,33,53,50,62,46,40,62,31,25,23,22,47,68,25,30,27,38,33,46,37,41,29,19,82,48,67,77,56,69,40,61,46,31,39,89,30,59,47,22,42,69,30,39,27,30,47,81,42,43,31,39,57,35,43,31,28,58,71,36,43,69,77,50,50,40,43,37,35,65,46,35,86,63,40,55,37,31,28,48,38,57,48,79,81,21,33,38,37,33,38,39,59,57,80,42,75,29,33,63,33,22,36,53,35,29,31,38,22,57,42,78,77,79,53,42,72,71,25,74,61,48,28,43,18,82,40,32,27,55,21,28,43,38,63,25,41,27,37,57,86,56,27,70,22,35,31,40,43,38,84,28,39,48,41,29,45,45,41,28,20,69,53,47,81,48,45,28,57,51,27,27,30,21,38,57,78,46,75,39,61,52,25,37,31,18,36,59,39,52,25,47,32,38,52,21,70,31,23,33,37,77,42,73,40,33,18,22,43,29,37,59,32,42,46,53,41,21,62,31,58,36,28,47,36,36,33,46,49,33,49,25,80,36,26,45,41,69,53,41,43,51,45,50,57,70,59,84,30,43,40,74,33,63,41,60,62,31,28,37,70,78,19,38,19,28,73,84,21,79,20,59,42,55,41,48,72,52,25,56,80,83,48,47,47,83,38,29,50,52,67,33,36,65,25,27,22,51,42,46,23,80,40,48,55,36,41,32,37,30,79,65,49,53,20,78,32,23,40,30,45,25,20,28,27,19,27,26,55,41,25,67,25,87,26,37,42,31,20,51,88,33,55,22,39,62,37,26,27,29,31,40,56,45,40,30,23,46,39,65,40,36,18,73,67,50,38,18,19,19,39,26,58,28,53,18,49,19,20,55,32,27,72,59,35,32,28,19,52,29,51,27,47,61,75,19,48,59,42,86,33,37,49,52,41,26,23,35,37,43,50,50,26,20,31,31,41,84,22,57,23,69,68,30,26,79,32,36,18,30,46,33,19,33,65,26,30,33,27,65,77,20,27,78,51,18,63,36,43,46,51,43,43,37,63,30,37,53,26,40,41,66,80,37,42,38,53,33,52,33,19,53,50,26,20,53,41,48,56,66,35,50,51,30,30,50,61,19,22,35,47,32,33,25,28,32,50,37,53,49,72,60,48,32,48,33,26,38,56,41,43,51,47,28,20,38,57,28,39,89,81,33,32,79,41,43,68,58,51,47,55,39,33,62,51,29,48,41,42,20,60,72,25,57,40,35,31,78,41,57,41,49,40,89,61,38,58,46,22,39,58,38,28,35,70,30,55,57,22,63,42,27,43,69,67,72,89,26,53,49,28,52,43,38,27,18,59,22,32,35,51,22,49,42,32,55,31,36,32,18,31,53,42,75,30,19,67,46,51,32,53,46,45,50,36,40,40,43,19,42,29,37,38,79,25,29,33,26,26,38,63,60,33,71,45,60,31,26,42,35,20,25,23,53,49,35,60,86,31,18,38,39,45,28,65,41,48,52,26,43,30,77,37,65,61,32,49,19,50,31,45,82,33,39,20,85,49,76,37,62,23,33,53,46,28,87,45,21,51,37,67,49,66,42,45,32,47,38,50,51,32,53,45,32,22,59,21,62,67,73,85,40,27,41,46,41,38,55,43,48,88,66,73,49,48,39,52,30,61,33,68,48,39,36,76,69,79,39,32,56,23,71,48,37,46,66,25,26,23,32,84,57,39,71,48,39,60,43,46,55,62,57,29,33,60,58,52,30,52,31,67,62,38,60,47,53,71,45,37,58,38,28,56,49,50,56,28,70,52,75,48,51,62,43,22,32,43,35,68,36,36,47,37,20,40,40,26,56,35,56,47,88,31,50,43,47,18,56,88,45,28,57,46,85,35,40,38,18,31,48,58,31,46,31,31,32,81,66,22,51,22,33,29,41,18,48,78,25,46,53,56,47,40,27,18,41,31,40,47,43,81,62,51,20,42,33,59,36,55,59,39,39,53,32,35,40,60,37,52,35,27,28,85,29,78,51,33,29,29,73,43,33,23,56,65,41,58,48,36,36,23,68,27,42,29,31,45,50,42,55,43,30,32,27,33,51,31,31,36,70,37,52,28,42,52,29,61,38,30,39,74,47,38,40,48,40,38,63,58,51,38,26,60,51,56,25,43,73,22,66,53,21,45,57,35,40,35,40,50,43,49,37,40,41,39,25,32,39,38,25,61,31,72,60,26,51,56,35,55,39,42,60,36,25,25,29,27,52,36,41,31,45,32,55,28,70,82,26,22,29,48,48,32,29,35,39,26,20,35,18,56,40,37,57,23,52,45,20,20,61,23,52,25,21,59,37,72,50,19,20,32,36,29,25,22,66,50,53,39,60,70,18,33,53,27,68,27,37,42,32,28,31,88,35,36,33,40,25,67,18,62,21,28,36,27,36,53,30,53,33,36,53,29,28,47,23,35,87,56,26,75,77,66,55,61,39,61,40,43,57,37,41,20,68,43,21,38,62,30,32,18,35,28,25,42,29,40,40,39,18,39,49,25,33,38,85,51,26,35,33,41,41,77,41,46,63,37,58,51,28,46,28,48,28,36,50,32,55,43,30,32,82,33,33,55,40,89,33,22,58,32,48,62,39,35,47,35,78,42,37,43,48,22,31,51,42,58,50,71,82,49,53,31,21,61,35,47,28,38,39,55,19,58,76,19,51,39,22,47,32,30,35,35,42,35,36,18,75,46,68,67,50,32,21,48,37,41,63,42,49,23,31,45,21,55,26,51,27,41,43,28,47,25,72,23,48,33,31,72,66,33,70,35,38,51,67,46,47,55,51,47,31,30,26,60,21,19,60,25,21,25,36,52,83,56,47,40,67,41,40,29,41,50,38,33,48,37,37,36,63,22,41,42,26,35,78,57,61,18,50,51,19,65,26,50,36,71,75,52,31,80,33,57,67,30,82,23,62,70,38,32,43,59,28,42,87,26,59,30,30,19,31,88,40,21,38,36,47,30,35,58,52,46,47,45,60,35,71,36,53,53,31,20,66,37,47,66,25,43,30,45,33,37,35,21,50,56,56,20,59,21,37,68,33,26,43,52,37,55,57,35,33,68,60,52,18,25,35,18,77,18,18,25,49,37,49,26,45,42,48,23,52,81,60,57,21,43,32,50,25,25,56,36,46,27,21,49,22,53,41,53,79,33,23,72,37,35,42,28,36,38,43,47,22,82,32,87,47,33,68,68,45,49,18,45,62,75,59,39,39,68,62,50,47,20,57,51,41,45,40,27,43,73,43,82,55,41,25,62,37,51,69,89,29,28,40,38,18,81,45,42,36,30,33,37,35,31,53,36,37,80,30,39,18,32,49,67,47,35,26,43,30,29,20,67,41,40,40,18,29,51,32,48,22,35,51,46,27,56,50,59,61,32,26,23,50,22,29,46,43,33,85,57,43,18,87,40,25,18,48,56,32,38,31,36,37,40,18,26,23,27,20,47,50,37,49,29,37,58,59,21,42,29,33,38,37,60,55,50,36,47,52,42,32,33,25,68,36,51,47,62,32,66,48,70,60,45,48,76,53,83,79,49,76,37,37,35,31,21,71,27,52,72,43,46,88,29,27,55,48,20,38,22,29,48,65,51,21,42,56,86,59,86,59,38,31,45,48,33,38,49,48,37,28,33,20,27,39,87,30,30,51,46,55,39,63,84,41,28,27,35,47,51,32,31,38,20,31,55,19,83,41,38,61,48,40,47,53,29,72,50,63,42,40,63,25,49,28,69,31,36,21,36,41,31,51,55,31,61,31,55,33,50,71,18,73,58,65,75,62,38,27,19,43,50,27,33,26,28,45,25,37,37,60,76,47,42,66,20,40,21,42,57,23,52,42,28,43,30,26,86,52,43,26,53,33,25,55,47,43,27,38,69,19,28,65,33,22,25,52,37,29,31,36,73,51,89,60,40,22,28,52,28,37,53,23,75,71,53,30,31,27,65,27,52,52,51,30,42,19,50,41,36,43,85,70,22,43,47,60,30,37,31,36,82,49,33,37,35,50,21,59,20,49,62,61,43,41,21,42,38,36,51,48,29,30,25,19,88,43,38,32,38,43,76,30,31,23,70,25,29,50,71,18,42,35,45,41,20,27,27,18,41,67,28,29,45,36,79,33,87,52,32,42,22,18,26,66,66,69,25,55,49,61,47,59,38,55,25,36,41,39,20,33,78,87,19,23,60,77,43,51,18,46,20,27,26,57,53,38,41,81,38,30,37,28,43,21,33,78,18,23,27,45,31,42,37,33,32,21,32,36,43,37,41,41,55,61,38,62,33,53,38,51,41,36,45,71,26,84,56,27,36,70,25,40,22,48,41,77,72,21,29,33,29,18,38,48,48,37,32,33,31,47,63,26,65,22,42,43,23,27,42,45,33,58,21,85,41,76,57,38,50,25,33,62,26,25,63,19,26,26,30,36,22,40,27,42,21,38,63,47,25,69,53,36,27,59,19,29,51,43,42,72,37,66,39,21,21,28,56,40,26,18,23,45,65,87,56,47,68,18,40,41,23,35,66,22,23,18,60,40,30,28,42,46,23,43,20,27,27,82,21,25,60,71,39,83,35,19,53,23,20,20,50,35,32,33,53,47,37,50,23,30,28,39,81,65,53,37,30,40,28,28,60,48,70,39,42,38,35,43,83,43,46,50,38,69,38,26,37,72,52,85,29,26,33,40,32,79,25,35,68,28,33,36,51,36,25,37,39,35,21,55,20,35,39,83,45,40,27,51,35,26,57,20,49,52,35,39,69,26,36,25,60,37,42,22,41,75,37,77,57,43,31,33,60,61,29,25,83,38,28,65,61,46,51,36,55,43,46,43,57,35,65,37,35,37,38,19,41,27,36,61,53,45,27,42,18,83,36,37,42,80,18,61,57,36,43,33,31,52,38,45,72,43,29,45,51,29,43,42,47,26,60,41,47,27,18,46,35,25,18,22,56,35,40,50,42,61,33,69,38,42,61,20,46,40,51,58,33,26,58,65,41,42,25,30,33,25,79,51,26,37,25,41,83,35,21,28,45,51,25,29,45,29,47,56,40,65,40,42,45,58,30,35,53,58,88,27,39,41,28,35,76,33,59,45,81,33,86,19,20,37,25,89,33,62,55,39,30,37,40,38,52,48,60,36,59,71,78,37,51,22,28,22,48,23,31,37,50,42,50,43,20,28,33,49,43,40,21,36,49,36,56,41,32,48,66,43,69,27,67,32,51,43,36,43,36,23,36,23,50,22,62,35,52,68,46,28,49,37,53,70,43,83,25,45,29,43,65,46,59,30,29,58,71,53,31,36,33,32,41,49,84,30,26,41,25,26,27,41,80,50,28,66,58,42,37,49,39,21,69,50,37,61,52,23,35,49,27,43,35,52,31,43,48,37,26,49,37,30,43,42,60,71,23,81,45,33,25,38,25,62,45,63,39,25,67,81,31,22,73,33,42,70,25,66,41,40,50,36,31,63,57,40,39,45,32,25,22,38,37,78,37,43,23,43,43,71,38,20,27,48,35,53,41,28,22,27,43,68,28,48,42,38,42,43,46,43,28,48,82,49,41,66,22,31,49,77,41,78,41,39,50,35,52,35,50,52,63,47,41,38,32,31,36,67,41,53,51,56,45,72,42,26,29,37,18,31,29,70,19,46,53,50,43,23,61,27,63,83,32,58,67,19,88,35,45,35,27,35,20,41,33,58,86,61,32,20,32,69,35,72,37,22,25,33,40,55,23,51,69,73,72,20,53,46,53,53,50,66,86,27,42,33,82,26,38,32,20,27,22,80,32,77,22,32,47,49,55,28,59,42,37,20,43,73,46,28,35,48,32,66,47,28,35,75,48,41,25,52,58,26,49,28,53,27,33,89,40,47,27,37,56,48,32,39,39,39,60,33,50,58,20,29,37,25,37,68,20,22,30,83,52,19,36,31,51,53,31,57,36,35,41,69,37,41,49,59,37,68,29,42,52,46,49,33,33,25,32,87,52,27,63,89,86,31,41,35,50,70,55,36,66,47,49,65,23,45,33,48,28,27,45,49,46,56,21,29,33,57,65,61,32,35,82,37,26,32,81,49,46,20,66,27,66,31,53,29,70,60,43,73,47,47,20,38,56,51,27,30,49,30,26,58,42,23,49,59,31,49,31,32,41,71,62,26,41,41,38,53,46,50,40,49,30,36,66,31,37,26,27,70,43,42,28,38,48,36,41,40,57,50,42,20,21,38,27,26,46,27,25,87,27,48,51,81,48,52,68,35,39,53,41,41,25,23,47,35,51,38,62,43,60,47,22,31,38,42,50,38,55,71,38,77,33,72,43,35,33,27,21,41,19,50,29,46,46,53,36,36,56,25,32,61,61,53,69,47,26,39,47,69,46,50,37,50,52,28,42,43,42,45,57,48,18,88,51,29,28,47,25,38,37,22,61,42,60,73,60,27,49,72,43,50,49,38,35,82,63,73,38,61,42,43,31,69,42,32,39,48,39,55,60,51,61,43,86,55,43,45,50,40,19,25,89,25,49,46,83,35,71,50,58,29,35,67,35,61,29,49,46,47,37,18,23,29,52,43,66,45,67,49,38,38,32,48,42,50,33,50,30,89,27,43,25,19,27,43,37,27,61,41,50,60,20,66,36,65,30,56,20,38,31,30,81,52,57,30,55,38,70,59,39,58,30,73,25,40,38,45,25,36,53,27,49,51,33,67,72,61,47,36,40,32,40,77,42,72,84,27,32,52,53,32,47,63,35,27,49,31,20,61,30,23,42,47,48,57,39,43,56,48,26,28,71,42,50,62,43,32,61,39,46,50,39,35,85,35,33,21,46,37,26,79,33,25,51,53,41,46,32,62,43,36,57,49,49,51,40,48,59,40,58,43,39,29,37,49,26,63,26,21,56,27,35,39,30,84,41,51,19,59,25,40,42,73,30,29,47,27,35,23,48,33,45,23,42,69,33,28,19,21,42,87,81,38,31,45,83,22,69,36,70,40,21,19,39,28,40,29,53,42,40,48,29,71,82,50,40,18,42,39,32,50,60,38,60,40,40,65,38,37,53,39,62,47,38,30,62,69,19,18,35,49,36,35,36,30,47,23,42,47,40,59,38,73,45,71,60,27,57,26,18,42,49,40,40,19,42,50,72,67,37,38,42,26,32,51,61,38,73,30,62,40,42,30,46,68,38,40,50,28,71,37,51,41,65,48,63,68,47,28,38,36,27,36,65,27,69,80,59,50,77,68,50,26,46,36,40,33,56,25,61,42,49,48,36,47,70,21,51,46,33,26,37,47,38,36,29,41,20,36,23,53,69,28,31,36,28,45,25,30,78,60,61,22,50,43,51,31,27,45,32,22,42,30,30,60,33,27,36,50,29,18,42,45,61,83,41,40,21,66,43,18,59,22,50,47,29,62,21,36,38,25,38,35,30,30,28,53,48,31,28,26,57,37,52,86,41,25,51,32,40,41,23,52,49,30,46,25,36,47,57,61,19,19,39,37,55,22,46,32,36,23,18,30,71,47,45,42,32,25,28,35,47,41,19,66,29,38,31,87,41,63,33,23,36,45,26,41,23,51,81,61,77,50,29,43,69,21,30,49,49,81,29,50,57,45,66,53,21,62,70,82,39,49,28,35,50,35,55,61,26,61,60,25,45,35,62,53,49,43,19,38,27,18,43,36,53,26,59,36,35,63,33,42,31,22,51,42,28,53,62,27,53,20,28,31,58,31,79,52,30,42,43,33,19,40,67,22,45,60,41,29,32,37,28,88,42,36,28,23,81,82,70,82,38,43,42,29,38,38,36,53,25,58,52,36,19,67,31,28,65,60,74,52,63,18,25,41,20,68,69,31,43,62,42,25,23,21,40,27,32,26,32,39,49,59,39,46,62,36,70,58,39,29,58,43,66,40,35,33,55,28,19,28,40,73,66,35,33,60,19,51,28,85,52,55,30,60,41,35,23,88,19,88,41,30,46,27,74,28,29,35,35,38,48,63,40,76,50,87,62,38,53,46,52,32,53,20,51,56,26,31,28,50,41,82,47,31,18,33,38,27,43,43,36,79,50,48,42,67,56,27,30,47,46,55,32,89,65,30,79,36,36,72,27,53,27,33,77,31,30,23,66,25,46,46,38,25,22,37,63,68,37,35,60,47,43,56,28,32,61,31,19,50,66,56,53,47,36,33,51,33,53,30,31,41,18,67,57,35,22,27,35,56,27,32,20,19,38,33,39,61,30,49,55,19,49,43,35,32,26,65,29,20,23,82,29,19,21,39,29,30,30,62,30,22,37,84,49,25,52,70,37,42,33,87,31,38,38,56,56,51,20,23,62,40,28,45,43,29,38,81,35,31,28,66,69,25,18,40,39,50,52,59,50,32,81,52,39,37,23,49,18,63,85,31,39,48,65,41,22,35,33,27,37],\"y\":[0,1,2,3,4,5,6,7,8,9,10,11,12,13,14,15,16,17,18,19,20,21,22,23,24,25,26,27,28,29,30,31,32,33,34,35,36,37,38,39,40,41,42,43,44,45,46,47,48,49,50,51,52,53,54,55,56,57,58,59,60,61,62,63,64,65,66,67,68,69,70,71,72,73,74,75,76,77,78,79,80,81,82,83,84,85,86,87,88,89,90,91,92,93,94,95,96,97,98,99,100,101,102,103,104,105,106,107,108,109,110,111,112,113,114,115,116,117,118,119,120,121,122,123,124,125,126,127,128,129,130,131,132,133,134,135,136,137,138,139,140,141,142,143,144,145,146,147,148,149,150,151,152,153,154,155,156,157,158,159,160,161,162,163,164,165,166,167,168,169,170,171,172,173,174,175,176,177,178,179,180,181,182,183,184,185,186,187,188,189,190,191,192,193,194,195,196,197,198,199,200,201,202,203,204,205,206,207,208,209,210,211,212,213,214,215,216,217,218,219,220,221,222,223,224,225,226,227,228,229,230,231,232,233,234,235,236,237,238,239,240,241,242,243,244,245,246,247,248,249,250,251,252,253,254,255,256,257,258,259,260,261,262,263,264,265,266,267,268,269,270,271,272,273,274,275,276,277,278,279,280,281,282,283,284,285,286,287,288,289,290,291,292,293,294,295,296,297,298,299,300,301,302,303,304,305,306,307,308,309,310,311,312,313,314,315,316,317,318,319,320,321,322,323,324,325,326,327,328,329,330,331,332,333,334,335,336,337,338,339,340,341,342,343,344,345,346,347,348,349,350,351,352,353,354,355,356,357,358,359,360,361,362,363,364,365,366,367,368,369,370,371,372,373,374,375,376,377,378,379,380,381,382,383,384,385,386,387,388,389,390,391,392,393,394,395,396,397,398,399,400,401,402,403,404,405,406,407,408,409,410,411,412,413,414,415,416,417,418,419,420,421,422,423,424,425,426,427,428,429,430,431,432,433,434,435,436,437,438,439,440,441,442,443,444,445,446,447,448,449,450,451,452,453,454,455,456,457,458,459,460,461,462,463,464,465,466,467,468,469,470,471,472,473,474,475,476,477,478,479,480,481,482,483,484,485,486,487,488,489,490,491,492,493,494,495,496,497,498,499,500,501,502,503,504,505,506,507,508,509,510,511,512,513,514,515,516,517,518,519,520,521,522,523,524,525,526,527,528,529,530,531,532,533,534,535,536,537,538,539,540,541,542,543,544,545,546,547,548,549,550,551,552,553,554,555,556,557,558,559,560,561,562,563,564,565,566,567,568,569,570,571,572,573,574,575,576,577,578,579,580,581,582,583,584,585,586,587,588,589,590,591,592,593,594,595,596,597,598,599,600,601,602,603,604,605,606,607,608,609,610,611,612,613,614,615,616,617,618,619,620,621,622,623,624,625,626,627,628,629,630,631,632,633,634,635,636,637,638,639,640,641,642,643,644,645,646,647,648,649,650,651,652,653,654,655,656,657,658,659,660,661,662,663,664,665,666,667,668,669,670,671,672,673,674,675,676,677,678,679,680,681,682,683,684,685,686,687,688,689,690,691,692,693,694,695,696,697,698,699,700,701,702,703,704,705,706,707,708,709,710,711,712,713,714,715,716,717,718,719,720,721,722,723,724,725,726,727,728,729,730,731,732,733,734,735,736,737,738,739,740,741,742,743,744,745,746,747,748,749,750,751,752,753,754,755,756,757,758,759,760,761,762,763,764,765,766,767,768,769,770,771,772,773,774,775,776,777,778,779,780,781,782,783,784,785,786,787,788,789,790,791,792,793,794,795,796,797,798,799,800,801,802,803,804,805,806,807,808,809,810,811,812,813,814,815,816,817,818,819,820,821,822,823,824,825,826,827,828,829,830,831,832,833,834,835,836,837,838,839,840,841,842,843,844,845,846,847,848,849,850,851,852,853,854,855,856,857,858,859,860,861,862,863,864,865,866,867,868,869,870,871,872,873,874,875,876,877,878,879,880,881,882,883,884,885,886,887,888,889,890,891,892,893,894,895,896,897,898,899,900,901,902,903,904,905,906,907,908,909,910,911,912,913,914,915,916,917,918,919,920,921,922,923,924,925,926,927,928,929,930,931,932,933,934,935,936,937,938,939,940,941,942,943,944,945,946,947,948,949,950,951,952,953,954,955,956,957,958,959,960,961,962,963,964,965,966,967,968,969,970,971,972,973,974,975,976,977,978,979,980,981,982,983,984,985,986,987,988,989,990,991,992,993,994,995,996,997,998,999,1000,1001,1002,1003,1004,1005,1006,1007,1008,1009,1010,1011,1012,1013,1014,1015,1016,1017,1018,1019,1020,1021,1022,1023,1024,1025,1026,1027,1028,1029,1030,1031,1032,1033,1034,1035,1036,1037,1038,1039,1040,1041,1042,1043,1044,1045,1046,1047,1048,1049,1050,1051,1052,1053,1054,1055,1056,1057,1058,1059,1060,1061,1062,1063,1064,1065,1066,1067,1068,1069,1070,1071,1072,1073,1074,1075,1076,1077,1078,1079,1080,1081,1082,1083,1084,1085,1086,1087,1088,1089,1090,1091,1092,1093,1094,1095,1096,1097,1098,1099,1100,1101,1102,1103,1104,1105,1106,1107,1108,1109,1110,1111,1112,1113,1114,1115,1116,1117,1118,1119,1120,1121,1122,1123,1124,1125,1126,1127,1128,1129,1130,1131,1132,1133,1134,1135,1136,1137,1138,1139,1140,1141,1142,1143,1144,1145,1146,1147,1148,1149,1150,1151,1152,1153,1154,1155,1156,1157,1158,1159,1160,1161,1162,1163,1164,1165,1166,1167,1168,1169,1170,1171,1172,1173,1174,1175,1176,1177,1178,1179,1180,1181,1182,1183,1184,1185,1186,1187,1188,1189,1190,1191,1192,1193,1194,1195,1196,1197,1198,1199,1200,1201,1202,1203,1204,1205,1206,1207,1208,1209,1210,1211,1212,1213,1214,1215,1216,1217,1218,1219,1220,1221,1222,1223,1224,1225,1226,1227,1228,1229,1230,1231,1232,1233,1234,1235,1236,1237,1238,1239,1240,1241,1242,1243,1244,1245,1246,1247,1248,1249,1250,1251,1252,1253,1254,1255,1256,1257,1258,1259,1260,1261,1262,1263,1264,1265,1266,1267,1268,1269,1270,1271,1272,1273,1274,1275,1276,1277,1278,1279,1280,1281,1282,1283,1284,1285,1286,1287,1288,1289,1290,1291,1292,1293,1294,1295,1296,1297,1298,1299,1300,1301,1302,1303,1304,1305,1306,1307,1308,1309,1310,1311,1312,1313,1314,1315,1316,1317,1318,1319,1320,1321,1322,1323,1324,1325,1326,1327,1328,1329,1330,1331,1332,1333,1334,1335,1336,1337,1338,1339,1340,1341,1342,1343,1344,1345,1346,1347,1348,1349,1350,1351,1352,1353,1354,1355,1356,1357,1358,1359,1360,1361,1362,1363,1364,1365,1366,1367,1368,1369,1370,1371,1372,1373,1374,1375,1376,1377,1378,1379,1380,1381,1382,1383,1384,1385,1386,1387,1388,1389,1390,1391,1392,1393,1394,1395,1396,1397,1398,1399,1400,1401,1402,1403,1404,1405,1406,1407,1408,1409,1410,1411,1412,1413,1414,1415,1416,1417,1418,1419,1420,1421,1422,1423,1424,1425,1426,1427,1428,1429,1430,1431,1432,1433,1434,1435,1436,1437,1438,1439,1440,1441,1442,1443,1444,1445,1446,1447,1448,1449,1450,1451,1452,1453,1454,1455,1456,1457,1458,1459,1460,1461,1462,1463,1464,1465,1466,1467,1468,1469,1470,1471,1472,1473,1474,1475,1476,1477,1478,1479,1480,1481,1482,1483,1484,1485,1486,1487,1488,1489,1490,1491,1492,1493,1494,1495,1496,1497,1498,1499,1500,1501,1502,1503,1504,1505,1506,1507,1508,1509,1510,1511,1512,1513,1514,1515,1516,1517,1518,1519,1520,1521,1522,1523,1524,1525,1526,1527,1528,1529,1530,1531,1532,1533,1534,1535,1536,1537,1538,1539,1540,1541,1542,1543,1544,1545,1546,1547,1548,1549,1550,1551,1552,1553,1554,1555,1556,1557,1558,1559,1560,1561,1562,1563,1564,1565,1566,1567,1568,1569,1570,1571,1572,1573,1574,1575,1576,1577,1578,1579,1580,1581,1582,1583,1584,1585,1586,1587,1588,1589,1590,1591,1592,1593,1594,1595,1596,1597,1598,1599,1600,1601,1602,1603,1604,1605,1606,1607,1608,1609,1610,1611,1612,1613,1614,1615,1616,1617,1618,1619,1620,1621,1622,1623,1624,1625,1626,1627,1628,1629,1630,1631,1632,1633,1634,1635,1636,1637,1638,1639,1640,1641,1642,1643,1644,1645,1646,1647,1648,1649,1650,1651,1652,1653,1654,1655,1656,1657,1658,1659,1660,1661,1662,1663,1664,1665,1666,1667,1668,1669,1670,1671,1672,1673,1674,1675,1676,1677,1678,1679,1680,1681,1682,1683,1684,1685,1686,1687,1688,1689,1690,1691,1692,1693,1694,1695,1696,1697,1698,1699,1700,1701,1702,1703,1704,1705,1706,1707,1708,1709,1710,1711,1712,1713,1714,1715,1716,1717,1718,1719,1720,1721,1722,1723,1724,1725,1726,1727,1728,1729,1730,1731,1732,1733,1734,1735,1736,1737,1738,1739,1740,1741,1742,1743,1744,1745,1746,1747,1748,1749,1750,1751,1752,1753,1754,1755,1756,1757,1758,1759,1760,1761,1762,1763,1764,1765,1766,1767,1768,1769,1770,1771,1772,1773,1774,1775,1776,1777,1778,1779,1780,1781,1782,1783,1784,1785,1786,1787,1788,1789,1790,1791,1792,1793,1794,1795,1796,1797,1798,1799,1800,1801,1802,1803,1804,1805,1806,1807,1808,1809,1810,1811,1812,1813,1814,1815,1816,1817,1818,1819,1820,1821,1822,1823,1824,1825,1826,1827,1828,1829,1830,1831,1832,1833,1834,1835,1836,1837,1838,1839,1840,1841,1842,1843,1844,1845,1846,1847,1848,1849,1850,1851,1852,1853,1854,1855,1856,1857,1858,1859,1860,1861,1862,1863,1864,1865,1866,1867,1868,1869,1870,1871,1872,1873,1874,1875,1876,1877,1878,1879,1880,1881,1882,1883,1884,1885,1886,1887,1888,1889,1890,1891,1892,1893,1894,1895,1896,1897,1898,1899,1900,1901,1902,1903,1904,1905,1906,1907,1908,1909,1910,1911,1912,1913,1914,1915,1916,1917,1918,1919,1920,1921,1922,1923,1924,1925,1926,1927,1928,1929,1930,1931,1932,1933,1934,1935,1936,1937,1938,1939,1940,1941,1942,1943,1944,1945,1946,1947,1948,1949,1950,1951,1952,1953,1954,1955,1956,1957,1958,1959,1960,1961,1962,1963,1964,1965,1966,1967,1968,1969,1970,1971,1972,1973,1974,1975,1976,1977,1978,1979,1980,1981,1982,1983,1984,1985,1986,1987,1988,1989,1990,1991,1992,1993,1994,1995,1996,1997,1998,1999,2000,2001,2002,2003,2004,2005,2006,2007,2008,2009,2010,2011,2012,2013,2014,2015,2016,2017,2018,2019,2020,2021,2022,2023,2024,2025,2026,2027,2028,2029,2030,2031,2032,2033,2034,2035,2036,2037,2038,2039,2040,2041,2042,2043,2044,2045,2046,2047,2048,2049,2050,2051,2052,2053,2054,2055,2056,2057,2058,2059,2060,2061,2062,2063,2064,2065,2066,2067,2068,2069,2070,2071,2072,2073,2074,2075,2076,2077,2078,2079,2080,2081,2082,2083,2084,2085,2086,2087,2088,2089,2090,2091,2092,2093,2094,2095,2096,2097,2098,2099,2100,2101,2102,2103,2104,2105,2106,2107,2108,2109,2110,2111,2112,2113,2114,2115,2116,2117,2118,2119,2120,2121,2122,2123,2124,2125,2126,2127,2128,2129,2130,2131,2132,2133,2134,2135,2136,2137,2138,2139,2140,2141,2142,2143,2144,2145,2146,2147,2148,2149,2150,2151,2152,2153,2154,2155,2156,2157,2158,2159,2160,2161,2162,2163,2164,2165,2166,2167,2168,2169,2170,2171,2172,2173,2174,2175,2176,2177,2178,2179,2180,2181,2182,2183,2184,2185,2186,2187,2188,2189,2190,2191,2192,2193,2194,2195,2196,2197,2198,2199,2200,2201,2202,2203,2204,2205,2206,2207,2208,2209,2210,2211,2212,2213,2214,2215,2216,2217,2218,2219,2220,2221,2222,2223,2224,2225,2226,2227,2228,2229,2230,2231,2232,2233,2234,2235,2236,2237,2238,2239,2240,2241,2242,2243,2244,2245,2246,2247,2248,2249,2250,2251,2252,2253,2254,2255,2256,2257,2258,2259,2260,2261,2262,2263,2264,2265,2266,2267,2268,2269,2270,2271,2272,2273,2274,2275,2276,2277,2278,2279,2280,2281,2282,2283,2284,2285,2286,2287,2288,2289,2290,2291,2292,2293,2294,2295,2296,2297,2298,2299,2300,2301,2302,2303,2304,2305,2306,2307,2308,2309,2310,2311,2312,2313,2314,2315,2316,2317,2318,2319,2320,2321,2322,2323,2324,2325,2326,2327,2328,2329,2330,2331,2332,2333,2334,2335,2336,2337,2338,2339,2340,2341,2342,2343,2344,2345,2346,2347,2348,2349,2350,2351,2352,2353,2354,2355,2356,2357,2358,2359,2360,2361,2362,2363,2364,2365,2366,2367,2368,2369,2370,2371,2372,2373,2374,2375,2376,2377,2378,2379,2380,2381,2382,2383,2384,2385,2386,2387,2388,2389,2390,2391,2392,2393,2394,2395,2396,2397,2398,2399,2400,2401,2402,2403,2404,2405,2406,2407,2408,2409,2410,2411,2412,2413,2414,2415,2416,2417,2418,2419,2420,2421,2422,2423,2424,2425,2426,2427,2428,2429,2430,2431,2432,2433,2434,2435,2436,2437,2438,2439,2440,2441,2442,2443,2444,2445,2446,2447,2448,2449,2450,2451,2452,2453,2454,2455,2456,2457,2458,2459,2460,2461,2462,2463,2464,2465,2466,2467,2468,2469,2470,2471,2472,2473,2474,2475,2476,2477,2478,2479,2480,2481,2482,2483,2484,2485,2486,2487,2488,2489,2490,2491,2492,2493,2494,2495,2496,2497,2498,2499,2500,2501,2502,2503,2504,2505,2506,2507,2508,2509,2510,2511,2512,2513,2514,2515,2516,2517,2518,2519,2520,2521,2522,2523,2524,2525,2526,2527,2528,2529,2530,2531,2532,2533,2534,2535,2536,2537,2538,2539,2540,2541,2542,2543,2544,2545,2546,2547,2548,2549,2550,2551,2552,2553,2554,2555,2556,2557,2558,2559,2560,2561,2562,2563,2564,2565,2566,2567,2568,2569,2570,2571,2572,2573,2574,2575,2576,2577,2578,2579,2580,2581,2582,2583,2584,2585,2586,2587,2588,2589,2590,2591,2592,2593,2594,2595,2596,2597,2598,2599,2600,2601,2602,2603,2604,2605,2606,2607,2608,2609,2610,2611,2612,2613,2614,2615,2616,2617,2618,2619,2620,2621,2622,2623,2624,2625,2626,2627,2628,2629,2630,2631,2632,2633,2634,2635,2636,2637,2638,2639,2640,2641,2642,2643,2644,2645,2646,2647,2648,2649,2650,2651,2652,2653,2654,2655,2656,2657,2658,2659,2660,2661,2662,2663,2664,2665,2666,2667,2668,2669,2670,2671,2672,2673,2674,2675,2676,2677,2678,2679,2680,2681,2682,2683,2684,2685,2686,2687,2688,2689,2690,2691,2692,2693,2694,2695,2696,2697,2698,2699,2700,2701,2702,2703,2704,2705,2706,2707,2708,2709,2710,2711,2712,2713,2714,2715,2716,2717,2718,2719,2720,2721,2722,2723,2724,2725,2726,2727,2728,2729,2730,2731,2732,2733,2734,2735,2736,2737,2738,2739,2740,2741,2742,2743,2744,2745,2746,2747,2748,2749,2750,2751,2752,2753,2754,2755,2756,2757,2758,2759,2760,2761,2762,2763,2764,2765,2766,2767,2768,2769,2770,2771,2772,2773,2774,2775,2776,2777,2778,2779,2780,2781,2782,2783,2784,2785,2786,2787,2788,2789,2790,2791,2792,2793,2794,2795,2796,2797,2798,2799,2800,2801,2802,2803,2804,2805,2806,2807,2808,2809,2810,2811,2812,2813,2814,2815,2816,2817,2818,2819,2820,2821,2822,2823,2824,2825,2826,2827,2828,2829,2830,2831,2832,2833,2834,2835,2836,2837,2838,2839,2840,2841,2842,2843,2844,2845,2846,2847,2848,2849,2850,2851,2852,2853,2854,2855,2856,2857,2858,2859,2860,2861,2862,2863,2864,2865,2866,2867,2868,2869,2870,2871,2872,2873,2874,2875,2876,2877,2878,2879,2880,2881,2882,2883,2884,2885,2886,2887,2888,2889,2890,2891,2892,2893,2894,2895,2896,2897,2898,2899,2900,2901,2902,2903,2904,2905,2906,2907,2908,2909,2910,2911,2912,2913,2914,2915,2916,2917,2918,2919,2920,2921,2922,2923,2924,2925,2926,2927,2928,2929,2930,2931,2932,2933,2934,2935,2936,2937,2938,2939,2940,2941,2942,2943,2944,2945,2946,2947,2948,2949,2950,2951,2952,2953,2954,2955,2956,2957,2958,2959,2960,2961,2962,2963,2964,2965,2966,2967,2968,2969,2970,2971,2972,2973,2974,2975,2976,2977,2978,2979,2980,2981,2982,2983,2984,2985,2986,2987,2988,2989,2990,2991,2992,2993,2994,2995,2996,2997,2998,2999,3000,3001,3002,3003,3004,3005,3006,3007,3008,3009,3010,3011,3012,3013,3014,3015,3016,3017,3018,3019,3020,3021,3022,3023,3024,3025,3026,3027,3028,3029,3030,3031,3032,3033,3034,3035,3036,3037,3038,3039,3040,3041,3042,3043,3044,3045,3046,3047,3048,3049,3050,3051,3052,3053,3054,3055,3056,3057,3058,3059,3060,3061,3062,3063,3064,3065,3066,3067,3068,3069,3070,3071,3072,3073,3074,3075,3076,3077,3078,3079,3080,3081,3082,3083,3084,3085,3086,3087,3088,3089,3090,3091,3092,3093,3094,3095,3096,3097,3098,3099,3100,3101,3102,3103,3104,3105,3106,3107,3108,3109,3110,3111,3112,3113,3114,3115,3116,3117,3118,3119,3120,3121,3122,3123,3124,3125,3126,3127,3128,3129,3130,3131,3132,3133,3134,3135,3136,3137,3138,3139,3140,3141,3142,3143,3144,3145,3146,3147,3148,3149,3150,3151,3152,3153,3154,3155,3156,3157,3158,3159,3160,3161,3162,3163,3164,3165,3166,3167,3168,3169,3170,3171,3172,3173,3174,3175,3176,3177,3178,3179,3180,3181,3182,3183,3184,3185,3186,3187,3188,3189,3190,3191,3192,3193,3194,3195,3196,3197,3198,3199,3200,3201,3202,3203,3204,3205,3206,3207,3208,3209,3210,3211,3212,3213,3214,3215,3216,3217,3218,3219,3220,3221,3222,3223,3224,3225,3226,3227,3228,3229,3230,3231,3232,3233,3234,3235,3236,3237,3238,3239,3240,3241,3242,3243,3244,3245,3246,3247,3248,3249,3250,3251,3252,3253,3254,3255,3256,3257,3258,3259,3260,3261,3262,3263,3264,3265,3266,3267,3268,3269,3270,3271,3272,3273,3274,3275,3276,3277,3278,3279,3280,3281,3282,3283,3284,3285,3286,3287,3288,3289,3290,3291,3292,3293,3294,3295,3296,3297,3298,3299,3300,3301,3302,3303,3304,3305,3306,3307,3308,3309,3310,3311,3312,3313,3314,3315,3316,3317,3318,3319,3320,3321,3322,3323,3324,3325,3326,3327,3328,3329,3330,3331,3332,3333,3334,3335,3336,3337,3338,3339,3340,3341,3342,3343,3344,3345,3346,3347,3348,3349,3350,3351,3352,3353,3354,3355,3356,3357,3358,3359,3360,3361,3362,3363,3364,3365,3366,3367,3368,3369,3370,3371,3372,3373,3374,3375,3376,3377,3378,3379,3380,3381,3382,3383,3384,3385,3386,3387,3388,3389,3390,3391,3392,3393,3394,3395,3396,3397,3398,3399,3400,3401,3402,3403,3404,3405,3406,3407,3408,3409,3410,3411,3412,3413,3414,3415,3416,3417,3418,3419,3420,3421,3422,3423,3424,3425,3426,3427,3428,3429,3430,3431,3432,3433,3434,3435,3436,3437,3438,3439,3440,3441,3442,3443,3444,3445,3446,3447,3448,3449,3450,3451,3452,3453,3454,3455,3456,3457,3458,3459,3460,3461,3462,3463,3464,3465,3466,3467,3468,3469,3470,3471,3472,3473,3474,3475,3476,3477,3478,3479,3480,3481,3482,3483,3484,3485,3486,3487,3488,3489,3490,3491,3492,3493,3494,3495,3496,3497,3498,3499,3500,3501,3502,3503,3504,3505,3506,3507,3508,3509,3510,3511,3512,3513,3514,3515,3516,3517,3518,3519,3520,3521,3522,3523,3524,3525,3526,3527,3528,3529,3530,3531,3532,3533,3534,3535,3536,3537,3538,3539,3540,3541,3542,3543,3544,3545,3546,3547,3548,3549,3550,3551,3552,3553,3554,3555,3556,3557,3558,3559,3560,3561,3562,3563,3564,3565,3566,3567,3568,3569,3570,3571,3572,3573,3574,3575,3576,3577,3578,3579,3580,3581,3582,3583,3584,3585,3586,3587,3588,3589,3590,3591,3592,3593,3594,3595,3596,3597,3598,3599,3600,3601,3602,3603,3604,3605,3606,3607,3608,3609,3610,3611,3612,3613,3614,3615,3616,3617,3618,3619,3620,3621,3622,3623,3624,3625,3626,3627,3628,3629,3630,3631,3632,3633,3634,3635,3636,3637,3638,3639,3640,3641,3642,3643,3644,3645,3646,3647,3648,3649,3650,3651,3652,3653,3654,3655,3656,3657,3658,3659,3660,3661,3662,3663,3664,3665,3666,3667,3668,3669,3670,3671,3672,3673,3674,3675,3676,3677,3678,3679,3680,3681,3682,3683,3684,3685,3686,3687,3688,3689,3690,3691,3692,3693,3694,3695,3696,3697,3698,3699,3700,3701,3702,3703,3704,3705,3706,3707,3708,3709,3710,3711,3712,3713,3714,3715,3716,3717,3718,3719,3720,3721,3722,3723,3724,3725,3726,3727,3728,3729,3730,3731,3732,3733,3734,3735,3736,3737,3738,3739,3740,3741,3742,3743,3744,3745,3746,3747,3748,3749,3750,3751,3752,3753,3754,3755,3756,3757,3758,3759,3760,3761,3762,3763,3764,3765,3766,3767,3768,3769,3770,3771,3772,3773,3774,3775,3776,3777,3778,3779,3780,3781,3782,3783,3784,3785,3786,3787,3788,3789,3790,3791,3792,3793,3794,3795,3796,3797,3798,3799,3800,3801,3802,3803,3804,3805,3806,3807,3808,3809,3810,3811,3812,3813,3814,3815,3816,3817,3818,3819,3820,3821,3822,3823,3824,3825,3826,3827,3828,3829,3830,3831,3832,3833,3834,3835,3836,3837,3838,3839,3840,3841,3842,3843,3844,3845,3846,3847,3848,3849,3850,3851,3852,3853,3854,3855,3856,3857,3858,3859,3860,3861,3862,3863,3864,3865,3866,3867,3868,3869,3870,3871,3872,3873,3874,3875,3876,3877,3878,3879,3880,3881,3882,3883,3884,3885,3886,3887,3888,3889,3890,3891,3892,3893,3894,3895,3896,3897,3898,3899,3900,3901,3902,3903,3904,3905,3906,3907,3908,3909,3910,3911,3912,3913,3914,3915,3916,3917,3918,3919,3920,3921,3922,3923,3924,3925,3926,3927,3928,3929,3930,3931,3932,3933,3934,3935,3936,3937,3938,3939,3940,3941,3942,3943,3944,3945,3946,3947,3948,3949,3950,3951,3952,3953,3954,3955,3956,3957,3958,3959,3960,3961,3962,3963,3964,3965,3966,3967,3968,3969,3970,3971,3972,3973,3974,3975,3976,3977,3978,3979,3980,3981,3982,3983,3984,3985,3986,3987,3988,3989,3990,3991,3992,3993,3994,3995,3996,3997,3998,3999,4000,4001,4002,4003,4004,4005,4006,4007,4008,4009,4010,4011,4012,4013,4014,4015,4016,4017,4018,4019,4020,4021,4022,4023,4024,4025,4026,4027,4028,4029,4030,4031,4032,4033,4034,4035,4036,4037,4038,4039,4040,4041,4042,4043,4044,4045,4046,4047,4048,4049,4050,4051,4052,4053,4054,4055,4056,4057,4058,4059,4060,4061,4062,4063,4064,4065,4066,4067,4068,4069,4070,4071,4072,4073,4074,4075,4076,4077,4078,4079,4080,4081,4082,4083,4084,4085,4086,4087,4088,4089,4090,4091,4092,4093,4094,4095,4096,4097,4098,4099,4100,4101,4102,4103,4104,4105,4106,4107,4108,4109,4110,4111,4112,4113,4114,4115,4116,4117,4118,4119,4120,4121,4122,4123,4124,4125,4126,4127,4128,4129,4130,4131,4132,4133,4134,4135,4136,4137,4138,4139,4140,4141,4142,4143,4144,4145,4146,4147,4148,4149,4150,4151,4152,4153,4154,4155,4156,4157,4158,4159,4160,4161,4162,4163,4164,4165,4166,4167,4168,4169,4170,4171,4172,4173,4174,4175,4176,4177,4178,4179,4180,4181,4182,4183,4184,4185,4186,4187,4188,4189,4190,4191,4192,4193,4194,4195,4196,4197,4198,4199,4200,4201,4202,4203,4204,4205,4206,4207,4208,4209,4210,4211,4212,4213,4214,4215,4216,4217,4218,4219,4220,4221,4222,4223,4224,4225,4226,4227,4228,4229,4230,4231,4232,4233,4234,4235,4236,4237,4238,4239,4240,4241,4242,4243,4244,4245,4246,4247,4248,4249,4250,4251,4252,4253,4254,4255,4256,4257,4258,4259,4260,4261,4262,4263,4264,4265,4266,4267,4268,4269,4270,4271,4272,4273,4274,4275,4276,4277,4278,4279,4280,4281,4282,4283,4284,4285,4286,4287,4288,4289,4290,4291,4292,4293,4294,4295,4296,4297,4298,4299,4300,4301,4302,4303,4304,4305,4306,4307,4308,4309,4310,4311,4312,4313,4314,4315,4316,4317,4318,4319,4320,4321,4322,4323,4324,4325,4326,4327,4328,4329,4330,4331,4332,4333,4334,4335,4336,4337,4338,4339,4340,4341,4342,4343,4344,4345,4346,4347,4348,4349,4350,4351,4352,4353,4354,4355,4356,4357,4358,4359,4360,4361,4362,4363,4364,4365,4366,4367,4368,4369,4370,4371,4372,4373,4374,4375,4376,4377,4378,4379,4380,4381,4382,4383,4384,4385,4386,4387,4388,4389,4390,4391,4392,4393,4394,4395,4396,4397,4398,4399,4400,4401,4402,4403,4404,4405,4406,4407,4408,4409,4410,4411,4412,4413,4414,4415,4416,4417,4418,4419,4420,4421,4422,4423,4424,4425,4426,4427,4428,4429,4430,4431,4432,4433,4434,4435,4436,4437,4438,4439,4440,4441,4442,4443,4444,4445,4446,4447,4448,4449,4450,4451,4452,4453,4454,4455,4456,4457,4458,4459,4460,4461,4462,4463,4464,4465,4466,4467,4468,4469,4470,4471,4472,4473,4474,4475,4476,4477,4478,4479,4480,4481,4482,4483,4484,4485,4486,4487,4488,4489,4490,4491,4492,4493,4494,4495,4496,4497,4498,4499,4500,4501,4502,4503,4504,4505,4506,4507,4508,4509,4510,4511,4512,4513,4514,4515,4516,4517,4518,4519,4520,4521,4522,4523,4524,4525,4526,4527,4528,4529,4530,4531,4532,4533,4534,4535,4536,4537,4538,4539,4540,4541,4542,4543,4544,4545,4546,4547,4548,4549,4550,4551,4552,4553,4554,4555,4556,4557,4558,4559,4560,4561,4562,4563,4564,4565,4566,4567,4568,4569,4570,4571,4572,4573,4574,4575,4576,4577,4578,4579,4580,4581,4582,4583,4584,4585,4586,4587,4588,4589,4590,4591,4592,4593,4594,4595,4596,4597,4598,4599,4600,4601,4602,4603,4604,4605,4606,4607,4608,4609,4610,4611,4612,4613,4614,4615,4616,4617,4618,4619,4620,4621,4622,4623,4624,4625,4626,4627,4628,4629,4630,4631,4632,4633,4634,4635,4636,4637,4638,4639,4640,4641,4642,4643,4644,4645,4646,4647,4648,4649,4650,4651,4652,4653,4654,4655,4656,4657,4658,4659,4660,4661,4662,4663,4664,4665,4666,4667,4668,4669,4670,4671,4672,4673,4674,4675,4676,4677,4678,4679,4680,4681,4682,4683,4684,4685,4686,4687,4688,4689,4690,4691,4692,4693,4694,4695,4696,4697,4698,4699,4700,4701,4702,4703,4704,4705,4706,4707,4708,4709,4710,4711,4712,4713,4714,4715,4716,4717,4718,4719,4720,4721,4722,4723,4724,4725,4726,4727,4728,4729,4730,4731,4732,4733,4734,4735,4736,4737,4738,4739,4740,4741,4742,4743,4744,4745,4746,4747,4748,4749,4750,4751,4752,4753,4754,4755,4756,4757,4758,4759,4760,4761,4762,4763,4764,4765,4766,4767,4768,4769,4770,4771,4772,4773,4774,4775,4776,4777,4778,4779,4780,4781,4782,4783,4784,4785,4786,4787,4788,4789,4790,4791,4792,4793,4794,4795,4796,4797,4798,4799,4800,4801,4802,4803,4804,4805,4806,4807,4808,4809,4810,4811,4812,4813,4814,4815,4816,4817,4818,4819,4820,4821,4822,4823,4824,4825,4826,4827,4828,4829,4830,4831,4832,4833,4834,4835,4836,4837,4838,4839,4840,4841,4842,4843,4844,4845,4846,4847,4848,4849,4850,4851,4852,4853,4854,4855,4856,4857,4858,4859,4860,4861,4862,4863,4864,4865,4866,4867,4868,4869,4870,4871,4872,4873,4874,4875,4876,4877,4878,4879,4880,4881,4882,4883,4884,4885,4886,4887,4888,4889,4890,4891,4892,4893,4894,4895,4896,4897,4898,4899,4900,4901,4902,4903,4904,4905,4906,4907,4908,4909,4910,4911,4912,4913,4914,4915,4916,4917,4918,4919,4920,4921,4922,4923,4924,4925,4926,4927,4928,4929,4930,4931,4932,4933,4934,4935,4936,4937,4938,4939,4940,4941,4942,4943,4944,4945,4946,4947,4948,4949,4950,4951,4952,4953,4954,4955,4956,4957,4958,4959,4960,4961,4962,4963,4964,4965,4966,4967,4968,4969,4970,4971,4972,4973,4974,4975,4976,4977,4978,4979,4980,4981,4982,4983,4984,4985,4986,4987,4988,4989,4990,4991,4992,4993,4994,4995,4996,4997,4998,4999,5000,5001,5002,5003,5004,5005,5006,5007,5008,5009,5010,5011,5012,5013,5014,5015,5016,5017,5018,5019,5020,5021,5022,5023,5024,5025,5026,5027,5028,5029,5030,5031,5032,5033,5034,5035,5036,5037,5038,5039,5040,5041,5042,5043,5044,5045,5046,5047,5048,5049,5050,5051,5052,5053,5054,5055,5056,5057,5058,5059,5060,5061,5062,5063,5064,5065,5066,5067,5068,5069,5070,5071,5072,5073,5074,5075,5076,5077,5078,5079,5080,5081,5082,5083,5084,5085,5086,5087,5088,5089,5090,5091,5092,5093,5094,5095,5096,5097,5098,5099,5100,5101,5102,5103,5104,5105,5106,5107,5108,5109,5110,5111,5112,5113,5114,5115,5116,5117,5118,5119,5120,5121,5122,5123,5124,5125,5126,5127,5128,5129,5130,5131,5132,5133,5134,5135,5136,5137,5138,5139,5140,5141,5142,5143,5144,5145,5146,5147,5148,5149,5150,5151,5152,5153,5154,5155,5156,5157,5158,5159,5160,5161,5162,5163,5164,5165,5166,5167,5168,5169,5170,5171,5172,5173,5174,5175,5176,5177,5178,5179,5180,5181,5182,5183,5184,5185,5186,5187,5188,5189,5190,5191,5192,5193,5194,5195,5196,5197,5198,5199,5200,5201,5202,5203,5204,5205,5206,5207,5208,5209,5210,5211,5212,5213,5214,5215,5216,5217,5218,5219,5220,5221,5222,5223,5224,5225,5226,5227,5228,5229,5230,5231,5232,5233,5234,5235,5236,5237,5238,5239,5240,5241,5242,5243,5244,5245,5246,5247,5248,5249,5250,5251,5252,5253,5254,5255,5256,5257,5258,5259,5260,5261,5262,5263,5264,5265,5266,5267,5268,5269,5270,5271,5272,5273,5274,5275,5276,5277,5278,5279,5280,5281,5282,5283,5284,5285,5286,5287,5288,5289,5290,5291,5292,5293,5294,5295,5296,5297,5298,5299,5300,5301,5302,5303,5304,5305,5306,5307,5308,5309,5310,5311,5312,5313,5314,5315,5316,5317,5318,5319,5320,5321,5322,5323,5324,5325,5326,5327,5328,5329,5330,5331,5332,5333,5334,5335,5336,5337,5338,5339,5340,5341,5342,5343,5344,5345,5346,5347,5348,5349,5350,5351,5352,5353,5354,5355,5356,5357,5358,5359,5360,5361,5362,5363,5364,5365,5366,5367,5368,5369,5370,5371,5372,5373,5374,5375,5376,5377,5378,5379,5380,5381,5382,5383,5384,5385,5386,5387,5388,5389,5390,5391,5392,5393,5394,5395,5396,5397,5398,5399,5400,5401,5402,5403,5404,5405,5406,5407,5408,5409,5410,5411,5412,5413,5414,5415,5416,5417,5418,5419,5420,5421,5422,5423,5424,5425,5426,5427,5428,5429,5430,5431,5432,5433,5434,5435,5436,5437,5438,5439,5440,5441,5442,5443,5444,5445,5446,5447,5448,5449,5450,5451,5452,5453,5454,5455,5456,5457,5458,5459,5460,5461,5462,5463,5464,5465,5466,5467,5468,5469,5470,5471,5472,5473,5474,5475,5476,5477,5478,5479,5480,5481,5482,5483,5484,5485,5486,5487,5488,5489,5490,5491,5492,5493,5494,5495,5496,5497,5498,5499,5500,5501,5502,5503,5504,5505,5506,5507,5508,5509,5510,5511,5512,5513,5514,5515,5516,5517,5518,5519,5520,5521,5522,5523,5524,5525,5526,5527,5528,5529,5530,5531,5532,5533,5534,5535,5536,5537,5538,5539,5540,5541,5542,5543,5544,5545,5546,5547,5548,5549,5550,5551,5552,5553,5554,5555,5556,5557,5558,5559,5560,5561,5562,5563,5564,5565,5566,5567,5568,5569,5570,5571,5572,5573,5574,5575,5576,5577,5578,5579,5580,5581,5582,5583,5584,5585,5586,5587,5588,5589,5590,5591,5592,5593,5594,5595,5596,5597,5598,5599,5600,5601,5602,5603,5604,5605,5606,5607,5608,5609,5610,5611,5612,5613,5614,5615,5616,5617,5618,5619,5620,5621,5622,5623,5624,5625,5626,5627,5628,5629,5630,5631,5632,5633,5634,5635,5636,5637,5638,5639,5640,5641,5642,5643,5644,5645,5646,5647,5648,5649,5650,5651,5652,5653,5654,5655,5656,5657,5658,5659,5660,5661,5662,5663,5664,5665,5666,5667,5668,5669,5670,5671,5672,5673,5674,5675,5676,5677,5678,5679,5680,5681,5682,5683,5684,5685,5686,5687,5688,5689,5690,5691,5692,5693,5694,5695,5696,5697,5698,5699,5700,5701,5702,5703,5704,5705,5706,5707,5708,5709,5710,5711,5712,5713,5714,5715,5716,5717,5718,5719,5720,5721,5722,5723,5724,5725,5726,5727,5728,5729,5730,5731,5732,5733,5734,5735,5736,5737,5738,5739,5740,5741,5742,5743,5744,5745,5746,5747,5748,5749,5750,5751,5752,5753,5754,5755,5756,5757,5758,5759,5760,5761,5762,5763,5764,5765,5766,5767,5768,5769,5770,5771,5772,5773,5774,5775,5776,5777,5778,5779,5780,5781,5782,5783,5784,5785,5786,5787,5788,5789,5790,5791,5792,5793,5794,5795,5796,5797,5798,5799,5800,5801,5802,5803,5804,5805,5806,5807,5808,5809,5810,5811,5812,5813,5814,5815,5816,5817,5818,5819,5820,5821,5822,5823,5824,5825,5826,5827,5828,5829,5830,5831,5832,5833,5834,5835,5836,5837,5838,5839,5840,5841,5842,5843,5844,5845,5846,5847,5848,5849,5850,5851,5852,5853,5854,5855,5856,5857,5858,5859,5860,5861,5862,5863,5864,5865,5866,5867,5868,5869,5870,5871,5872,5873,5874,5875,5876,5877,5878,5879,5880,5881,5882,5883,5884,5885,5886,5887,5888,5889,5890,5891,5892,5893,5894,5895,5896,5897,5898,5899,5900,5901,5902,5903,5904,5905,5906,5907,5908,5909,5910,5911,5912,5913,5914,5915,5916,5917,5918,5919,5920,5921,5922,5923,5924,5925,5926,5927,5928,5929,5930,5931,5932,5933,5934,5935,5936,5937,5938,5939,5940,5941,5942,5943,5944,5945,5946,5947,5948,5949,5950,5951,5952,5953,5954,5955,5956,5957,5958,5959,5960,5961,5962,5963,5964,5965,5966,5967,5968,5969,5970,5971,5972,5973,5974,5975,5976,5977,5978,5979,5980,5981,5982,5983,5984,5985,5986,5987,5988,5989,5990,5991,5992,5993,5994,5995,5996,5997,5998,5999,6000,6001,6002,6003,6004,6005,6006,6007,6008,6009,6010,6011,6012,6013,6014,6015,6016,6017,6018,6019,6020,6021,6022,6023,6024,6025,6026,6027,6028,6029,6030,6031,6032,6033,6034,6035,6036,6037,6038,6039,6040,6041,6042,6043,6044,6045,6046,6047,6048,6049,6050,6051,6052,6053,6054,6055,6056,6057,6058,6059,6060,6061,6062,6063,6064,6065,6066,6067,6068,6069,6070,6071,6072,6073,6074,6075,6076,6077,6078,6079,6080,6081,6082,6083,6084,6085,6086,6087,6088,6089,6090,6091,6092,6093,6094,6095,6096,6097,6098,6099,6100,6101,6102,6103,6104,6105,6106,6107,6108,6109,6110,6111,6112,6113,6114,6115,6116,6117,6118,6119,6120,6121,6122,6123,6124,6125,6126,6127,6128,6129,6130,6131,6132,6133,6134,6135,6136,6137,6138,6139,6140,6141,6142,6143,6144,6145,6146,6147,6148,6149,6150,6151,6152,6153,6154,6155,6156,6157,6158,6159,6160,6161,6162,6163,6164,6165,6166,6167,6168,6169,6170,6171,6172,6173,6174,6175,6176,6177,6178,6179,6180,6181,6182,6183,6184,6185,6186,6187,6188,6189,6190,6191,6192,6193,6194,6195,6196,6197,6198,6199,6200,6201,6202,6203,6204,6205,6206,6207,6208,6209,6210,6211,6212,6213,6214,6215,6216,6217,6218,6219,6220,6221,6222,6223,6224,6225,6226,6227,6228,6229,6230,6231,6232,6233,6234,6235,6236,6237,6238,6239,6240,6241,6242,6243,6244,6245,6246,6247,6248,6249,6250,6251,6252,6253,6254,6255,6256,6257,6258,6259,6260,6261,6262,6263,6264,6265,6266,6267,6268,6269,6270,6271,6272,6273,6274,6275,6276,6277,6278,6279,6280,6281,6282,6283,6284,6285,6286,6287,6288,6289,6290,6291,6292,6293,6294,6295,6296,6297,6298,6299,6300,6301,6302,6303,6304,6305,6306,6307,6308,6309,6310,6311,6312,6313,6314,6315,6316,6317,6318,6319,6320,6321,6322,6323,6324,6325,6326,6327,6328,6329,6330,6331,6332,6333,6334,6335,6336,6337,6338,6339,6340,6341,6342,6343,6344,6345,6346,6347,6348,6349,6350,6351,6352,6353,6354,6355,6356,6357,6358,6359,6360,6361,6362,6363,6364,6365,6366,6367,6368,6369,6370,6371,6372,6373,6374,6375,6376,6377,6378,6379,6380,6381,6382,6383,6384,6385,6386,6387,6388,6389,6390,6391,6392,6393,6394,6395,6396,6397,6398,6399,6400,6401,6402,6403,6404,6405,6406,6407,6408,6409,6410,6411,6412,6413,6414,6415,6416,6417,6418,6419,6420,6421,6422,6423,6424,6425,6426,6427,6428,6429,6430,6431,6432,6433,6434,6435,6436,6437,6438,6439,6440,6441,6442,6443,6444,6445,6446,6447,6448,6449,6450,6451,6452,6453,6454,6455,6456,6457,6458,6459,6460,6461,6462,6463,6464,6465,6466,6467,6468,6469,6470,6471,6472,6473,6474,6475,6476,6477,6478,6479,6480,6481,6482,6483,6484,6485,6486,6487,6488,6489,6490,6491,6492,6493,6494,6495,6496,6497,6498,6499,6500,6501,6502,6503,6504,6505,6506,6507,6508,6509,6510,6511,6512,6513,6514,6515,6516,6517,6518,6519,6520,6521,6522,6523,6524,6525,6526,6527,6528,6529,6530,6531,6532,6533,6534,6535,6536,6537,6538,6539,6540,6541,6542,6543,6544,6545,6546,6547,6548,6549,6550,6551,6552,6553,6554,6555,6556,6557,6558,6559,6560,6561,6562,6563,6564,6565,6566,6567,6568,6569,6570,6571,6572,6573,6574,6575,6576,6577,6578,6579,6580,6581,6582,6583,6584,6585,6586,6587,6588,6589,6590,6591,6592,6593,6594,6595,6596,6597,6598,6599,6600,6601,6602,6603,6604,6605,6606,6607,6608,6609,6610,6611,6612,6613,6614,6615,6616,6617,6618,6619,6620,6621,6622,6623,6624,6625,6626,6627,6628,6629,6630,6631,6632,6633,6634,6635,6636,6637,6638,6639,6640,6641,6642,6643,6644,6645,6646,6647,6648,6649,6650,6651,6652,6653,6654,6655,6656,6657,6658,6659,6660,6661,6662,6663,6664,6665,6666,6667,6668,6669,6670,6671,6672,6673,6674,6675,6676,6677,6678,6679,6680,6681,6682,6683,6684,6685,6686,6687,6688,6689,6690,6691,6692,6693,6694,6695,6696,6697,6698,6699,6700,6701,6702,6703,6704,6705,6706,6707,6708,6709,6710,6711,6712,6713,6714,6715,6716,6717,6718,6719,6720,6721,6722,6723,6724,6725,6726,6727,6728,6729,6730,6731,6732,6733,6734,6735,6736,6737,6738,6739,6740,6741,6742,6743,6744,6745,6746,6747,6748,6749,6750,6751,6752,6753,6754,6755,6756,6757,6758,6759,6760,6761,6762,6763,6764,6765,6766,6767,6768,6769,6770,6771,6772,6773,6774,6775,6776,6777,6778,6779,6780,6781,6782,6783,6784,6785,6786,6787,6788,6789,6790,6791,6792,6793,6794,6795,6796,6797,6798,6799,6800,6801,6802,6803,6804,6805,6806,6807,6808,6809,6810,6811,6812,6813,6814,6815,6816,6817,6818,6819,6820,6821,6822,6823,6824,6825,6826,6827,6828,6829,6830,6831,6832,6833,6834,6835,6836,6837,6838,6839,6840,6841,6842,6843,6844,6845,6846,6847,6848,6849,6850,6851,6852,6853,6854,6855,6856,6857,6858,6859,6860,6861,6862,6863,6864,6865,6866,6867,6868,6869,6870,6871,6872,6873,6874,6875,6876,6877,6878,6879,6880,6881,6882,6883,6884,6885,6886,6887,6888,6889,6890,6891,6892,6893,6894,6895,6896,6897,6898,6899,6900,6901,6902,6903,6904,6905,6906,6907,6908,6909,6910,6911,6912,6913,6914,6915,6916,6917,6918,6919,6920,6921,6922,6923,6924,6925,6926,6927,6928,6929,6930,6931,6932,6933,6934,6935,6936,6937,6938,6939,6940,6941,6942,6943,6944,6945,6946,6947,6948,6949,6950,6951,6952,6953,6954,6955,6956,6957,6958,6959,6960,6961,6962,6963,6964,6965,6966,6967,6968,6969,6970,6971,6972,6973,6974,6975,6976,6977,6978,6979,6980,6981,6982,6983,6984,6985,6986,6987,6988,6989,6990,6991,6992,6993,6994,6995,6996,6997,6998,6999,7000,7001,7002,7003,7004,7005,7006,7007,7008,7009,7010,7011,7012,7013,7014,7015,7016,7017,7018,7019,7020,7021,7022,7023,7024,7025,7026,7027,7028,7029,7030,7031,7032,7033,7034,7035,7036,7037,7038,7039,7040,7041,7042,7043,7044,7045,7046,7047,7048,7049,7050,7051,7052,7053,7054,7055,7056,7057,7058,7059,7060,7061,7062,7063,7064,7065,7066,7067,7068,7069,7070,7071,7072,7073,7074,7075,7076,7077,7078,7079,7080,7081,7082,7083,7084,7085,7086,7087,7088,7089,7090,7091,7092,7093,7094,7095,7096,7097,7098,7099,7100,7101,7102,7103,7104,7105,7106,7107,7108,7109,7110,7111,7112,7113,7114,7115,7116,7117,7118,7119,7120,7121,7122,7123,7124,7125,7126,7127,7128,7129,7130,7131,7132,7133,7134,7135,7136,7137,7138,7139,7140,7141,7142,7143,7144,7145,7146,7147,7148,7149,7150,7151,7152,7153,7154,7155,7156,7157,7158,7159,7160,7161,7162,7163,7164,7165,7166,7167,7168,7169,7170,7171,7172,7173,7174,7175,7176,7177,7178,7179,7180,7181,7182,7183,7184,7185,7186,7187,7188,7189,7190,7191,7192,7193,7194,7195,7196,7197,7198,7199,7200,7201,7202,7203,7204,7205,7206,7207,7208,7209,7210,7211,7212,7213,7214,7215,7216,7217,7218,7219,7220,7221,7222,7223,7224,7225,7226,7227,7228,7229,7230,7231,7232,7233,7234,7235,7236,7237,7238,7239,7240,7241,7242,7243,7244,7245,7246,7247,7248,7249,7250,7251,7252,7253,7254,7255,7256,7257,7258,7259,7260,7261,7262,7263,7264,7265,7266,7267,7268,7269,7270,7271,7272,7273,7274,7275,7276,7277,7278,7279,7280,7281,7282,7283,7284,7285,7286,7287,7288,7289,7290,7291,7292,7293,7294,7295,7296,7297,7298,7299,7300,7301,7302,7303,7304,7305,7306,7307,7308,7309,7310,7311,7312,7313,7314,7315,7316,7317,7318,7319,7320,7321,7322,7323,7324,7325,7326,7327,7328,7329,7330,7331,7332,7333,7334,7335,7336,7337,7338,7339,7340,7341,7342,7343,7344,7345,7346,7347,7348,7349,7350,7351,7352,7353,7354,7355,7356,7357,7358,7359,7360,7361,7362,7363,7364,7365,7366,7367,7368,7369,7370,7371,7372,7373,7374,7375,7376,7377,7378,7379,7380,7381,7382,7383,7384,7385,7386,7387,7388,7389,7390,7391,7392,7393,7394,7395,7396,7397,7398,7399,7400,7401,7402,7403,7404,7405,7406,7407,7408,7409,7410,7411,7412,7413,7414,7415,7416,7417,7418,7419,7420,7421,7422,7423,7424,7425,7426,7427,7428,7429,7430,7431,7432,7433,7434,7435,7436,7437,7438,7439,7440,7441,7442,7443,7444,7445,7446,7447,7448,7449,7450,7451,7452,7453,7454,7455,7456,7457,7458,7459,7460,7461,7462,7463,7464,7465,7466,7467,7468,7469,7470,7471,7472,7473,7474,7475,7476,7477,7478,7479,7480,7481,7482,7483,7484,7485,7486,7487,7488,7489,7490,7491,7492,7493,7494,7495,7496,7497,7498,7499,7500,7501,7502,7503,7504,7505,7506,7507,7508,7509,7510,7511,7512,7513,7514,7515,7516,7517,7518,7519,7520,7521,7522,7523,7524,7525,7526,7527,7528,7529,7530,7531,7532,7533,7534,7535,7536,7537,7538,7539,7540,7541,7542,7543,7544,7545,7546,7547,7548,7549,7550,7551,7552,7553,7554,7555,7556,7557,7558,7559,7560,7561,7562,7563,7564,7565,7566,7567,7568,7569,7570,7571,7572,7573,7574,7575,7576,7577,7578,7579,7580,7581,7582,7583,7584,7585,7586,7587,7588,7589,7590,7591,7592,7593,7594,7595,7596,7597,7598,7599,7600,7601,7602,7603,7604,7605,7606,7607,7608,7609,7610,7611,7612,7613,7614,7615,7616,7617,7618,7619,7620,7621,7622,7623,7624,7625,7626,7627,7628,7629,7630,7631,7632,7633,7634,7635,7636,7637,7638,7639,7640,7641,7642,7643,7644,7645,7646,7647,7648,7649,7650,7651,7652,7653,7654,7655,7656,7657,7658,7659,7660,7661,7662,7663,7664,7665,7666,7667,7668,7669,7670,7671,7672,7673,7674,7675,7676,7677,7678,7679,7680,7681,7682,7683,7684,7685,7686,7687,7688,7689,7690,7691,7692,7693,7694,7695,7696,7697,7698,7699,7700,7701,7702,7703,7704,7705,7706,7707,7708,7709,7710,7711,7712,7713,7714,7715,7716,7717,7718,7719,7720,7721,7722,7723,7724,7725,7726,7727,7728,7729,7730,7731,7732,7733,7734,7735,7736,7737,7738,7739,7740,7741,7742,7743,7744,7745,7746,7747,7748,7749,7750,7751,7752,7753,7754,7755,7756,7757,7758,7759,7760,7761,7762,7763,7764,7765,7766,7767,7768,7769,7770,7771,7772,7773,7774,7775,7776,7777,7778,7779,7780,7781,7782,7783,7784,7785,7786,7787,7788,7789,7790,7791,7792,7793,7794,7795,7796,7797,7798,7799,7800,7801,7802,7803,7804,7805,7806,7807,7808,7809,7810,7811,7812,7813,7814,7815,7816,7817,7818,7819,7820,7821,7822,7823,7824,7825,7826,7827,7828,7829,7830,7831,7832,7833,7834,7835,7836,7837,7838,7839,7840,7841,7842,7843,7844,7845,7846,7847,7848,7849,7850,7851,7852,7853,7854,7855,7856,7857,7858,7859,7860,7861,7862,7863,7864,7865,7866,7867,7868,7869,7870,7871,7872,7873,7874,7875,7876,7877,7878,7879,7880,7881,7882,7883,7884,7885,7886,7887,7888,7889,7890,7891,7892,7893,7894,7895,7896,7897,7898,7899,7900,7901,7902,7903,7904,7905,7906,7907,7908,7909,7910,7911,7912,7913,7914,7915,7916,7917,7918,7919,7920,7921,7922,7923,7924,7925,7926,7927,7928,7929,7930,7931,7932,7933,7934,7935,7936,7937,7938,7939,7940,7941,7942,7943,7944,7945,7946,7947,7948,7949,7950,7951,7952,7953,7954,7955,7956,7957,7958,7959,7960,7961,7962,7963,7964,7965,7966,7967,7968,7969,7970,7971,7972,7973,7974,7975,7976,7977,7978,7979,7980,7981,7982,7983,7984,7985,7986,7987,7988,7989,7990,7991,7992,7993,7994,7995,7996,7997,7998,7999,8000,8001,8002,8003,8004,8005,8006,8007,8008,8009,8010,8011,8012,8013,8014,8015,8016,8017,8018,8019,8020,8021,8022,8023,8024,8025,8026,8027,8028,8029,8030,8031,8032,8033,8034,8035,8036,8037,8038,8039,8040,8041,8042,8043,8044,8045,8046,8047,8048,8049,8050,8051,8052,8053,8054,8055,8056,8057,8058,8059,8060,8061,8062,8063,8064,8065,8066,8067],\"type\":\"scatter\"}],                        {\"title\":{\"text\":\"Age\"},\"template\":{\"data\":{\"bar\":[{\"error_x\":{\"color\":\"#2a3f5f\"},\"error_y\":{\"color\":\"#2a3f5f\"},\"marker\":{\"line\":{\"color\":\"#E5ECF6\",\"width\":0.5},\"pattern\":{\"fillmode\":\"overlay\",\"size\":10,\"solidity\":0.2}},\"type\":\"bar\"}],\"barpolar\":[{\"marker\":{\"line\":{\"color\":\"#E5ECF6\",\"width\":0.5},\"pattern\":{\"fillmode\":\"overlay\",\"size\":10,\"solidity\":0.2}},\"type\":\"barpolar\"}],\"carpet\":[{\"aaxis\":{\"endlinecolor\":\"#2a3f5f\",\"gridcolor\":\"white\",\"linecolor\":\"white\",\"minorgridcolor\":\"white\",\"startlinecolor\":\"#2a3f5f\"},\"baxis\":{\"endlinecolor\":\"#2a3f5f\",\"gridcolor\":\"white\",\"linecolor\":\"white\",\"minorgridcolor\":\"white\",\"startlinecolor\":\"#2a3f5f\"},\"type\":\"carpet\"}],\"choropleth\":[{\"colorbar\":{\"outlinewidth\":0,\"ticks\":\"\"},\"type\":\"choropleth\"}],\"contour\":[{\"colorbar\":{\"outlinewidth\":0,\"ticks\":\"\"},\"colorscale\":[[0.0,\"#0d0887\"],[0.1111111111111111,\"#46039f\"],[0.2222222222222222,\"#7201a8\"],[0.3333333333333333,\"#9c179e\"],[0.4444444444444444,\"#bd3786\"],[0.5555555555555556,\"#d8576b\"],[0.6666666666666666,\"#ed7953\"],[0.7777777777777778,\"#fb9f3a\"],[0.8888888888888888,\"#fdca26\"],[1.0,\"#f0f921\"]],\"type\":\"contour\"}],\"contourcarpet\":[{\"colorbar\":{\"outlinewidth\":0,\"ticks\":\"\"},\"type\":\"contourcarpet\"}],\"heatmap\":[{\"colorbar\":{\"outlinewidth\":0,\"ticks\":\"\"},\"colorscale\":[[0.0,\"#0d0887\"],[0.1111111111111111,\"#46039f\"],[0.2222222222222222,\"#7201a8\"],[0.3333333333333333,\"#9c179e\"],[0.4444444444444444,\"#bd3786\"],[0.5555555555555556,\"#d8576b\"],[0.6666666666666666,\"#ed7953\"],[0.7777777777777778,\"#fb9f3a\"],[0.8888888888888888,\"#fdca26\"],[1.0,\"#f0f921\"]],\"type\":\"heatmap\"}],\"heatmapgl\":[{\"colorbar\":{\"outlinewidth\":0,\"ticks\":\"\"},\"colorscale\":[[0.0,\"#0d0887\"],[0.1111111111111111,\"#46039f\"],[0.2222222222222222,\"#7201a8\"],[0.3333333333333333,\"#9c179e\"],[0.4444444444444444,\"#bd3786\"],[0.5555555555555556,\"#d8576b\"],[0.6666666666666666,\"#ed7953\"],[0.7777777777777778,\"#fb9f3a\"],[0.8888888888888888,\"#fdca26\"],[1.0,\"#f0f921\"]],\"type\":\"heatmapgl\"}],\"histogram\":[{\"marker\":{\"pattern\":{\"fillmode\":\"overlay\",\"size\":10,\"solidity\":0.2}},\"type\":\"histogram\"}],\"histogram2d\":[{\"colorbar\":{\"outlinewidth\":0,\"ticks\":\"\"},\"colorscale\":[[0.0,\"#0d0887\"],[0.1111111111111111,\"#46039f\"],[0.2222222222222222,\"#7201a8\"],[0.3333333333333333,\"#9c179e\"],[0.4444444444444444,\"#bd3786\"],[0.5555555555555556,\"#d8576b\"],[0.6666666666666666,\"#ed7953\"],[0.7777777777777778,\"#fb9f3a\"],[0.8888888888888888,\"#fdca26\"],[1.0,\"#f0f921\"]],\"type\":\"histogram2d\"}],\"histogram2dcontour\":[{\"colorbar\":{\"outlinewidth\":0,\"ticks\":\"\"},\"colorscale\":[[0.0,\"#0d0887\"],[0.1111111111111111,\"#46039f\"],[0.2222222222222222,\"#7201a8\"],[0.3333333333333333,\"#9c179e\"],[0.4444444444444444,\"#bd3786\"],[0.5555555555555556,\"#d8576b\"],[0.6666666666666666,\"#ed7953\"],[0.7777777777777778,\"#fb9f3a\"],[0.8888888888888888,\"#fdca26\"],[1.0,\"#f0f921\"]],\"type\":\"histogram2dcontour\"}],\"mesh3d\":[{\"colorbar\":{\"outlinewidth\":0,\"ticks\":\"\"},\"type\":\"mesh3d\"}],\"parcoords\":[{\"line\":{\"colorbar\":{\"outlinewidth\":0,\"ticks\":\"\"}},\"type\":\"parcoords\"}],\"pie\":[{\"automargin\":true,\"type\":\"pie\"}],\"scatter\":[{\"marker\":{\"colorbar\":{\"outlinewidth\":0,\"ticks\":\"\"}},\"type\":\"scatter\"}],\"scatter3d\":[{\"line\":{\"colorbar\":{\"outlinewidth\":0,\"ticks\":\"\"}},\"marker\":{\"colorbar\":{\"outlinewidth\":0,\"ticks\":\"\"}},\"type\":\"scatter3d\"}],\"scattercarpet\":[{\"marker\":{\"colorbar\":{\"outlinewidth\":0,\"ticks\":\"\"}},\"type\":\"scattercarpet\"}],\"scattergeo\":[{\"marker\":{\"colorbar\":{\"outlinewidth\":0,\"ticks\":\"\"}},\"type\":\"scattergeo\"}],\"scattergl\":[{\"marker\":{\"colorbar\":{\"outlinewidth\":0,\"ticks\":\"\"}},\"type\":\"scattergl\"}],\"scattermapbox\":[{\"marker\":{\"colorbar\":{\"outlinewidth\":0,\"ticks\":\"\"}},\"type\":\"scattermapbox\"}],\"scatterpolar\":[{\"marker\":{\"colorbar\":{\"outlinewidth\":0,\"ticks\":\"\"}},\"type\":\"scatterpolar\"}],\"scatterpolargl\":[{\"marker\":{\"colorbar\":{\"outlinewidth\":0,\"ticks\":\"\"}},\"type\":\"scatterpolargl\"}],\"scatterternary\":[{\"marker\":{\"colorbar\":{\"outlinewidth\":0,\"ticks\":\"\"}},\"type\":\"scatterternary\"}],\"surface\":[{\"colorbar\":{\"outlinewidth\":0,\"ticks\":\"\"},\"colorscale\":[[0.0,\"#0d0887\"],[0.1111111111111111,\"#46039f\"],[0.2222222222222222,\"#7201a8\"],[0.3333333333333333,\"#9c179e\"],[0.4444444444444444,\"#bd3786\"],[0.5555555555555556,\"#d8576b\"],[0.6666666666666666,\"#ed7953\"],[0.7777777777777778,\"#fb9f3a\"],[0.8888888888888888,\"#fdca26\"],[1.0,\"#f0f921\"]],\"type\":\"surface\"}],\"table\":[{\"cells\":{\"fill\":{\"color\":\"#EBF0F8\"},\"line\":{\"color\":\"white\"}},\"header\":{\"fill\":{\"color\":\"#C8D4E3\"},\"line\":{\"color\":\"white\"}},\"type\":\"table\"}]},\"layout\":{\"annotationdefaults\":{\"arrowcolor\":\"#2a3f5f\",\"arrowhead\":0,\"arrowwidth\":1},\"autotypenumbers\":\"strict\",\"coloraxis\":{\"colorbar\":{\"outlinewidth\":0,\"ticks\":\"\"}},\"colorscale\":{\"diverging\":[[0,\"#8e0152\"],[0.1,\"#c51b7d\"],[0.2,\"#de77ae\"],[0.3,\"#f1b6da\"],[0.4,\"#fde0ef\"],[0.5,\"#f7f7f7\"],[0.6,\"#e6f5d0\"],[0.7,\"#b8e186\"],[0.8,\"#7fbc41\"],[0.9,\"#4d9221\"],[1,\"#276419\"]],\"sequential\":[[0.0,\"#0d0887\"],[0.1111111111111111,\"#46039f\"],[0.2222222222222222,\"#7201a8\"],[0.3333333333333333,\"#9c179e\"],[0.4444444444444444,\"#bd3786\"],[0.5555555555555556,\"#d8576b\"],[0.6666666666666666,\"#ed7953\"],[0.7777777777777778,\"#fb9f3a\"],[0.8888888888888888,\"#fdca26\"],[1.0,\"#f0f921\"]],\"sequentialminus\":[[0.0,\"#0d0887\"],[0.1111111111111111,\"#46039f\"],[0.2222222222222222,\"#7201a8\"],[0.3333333333333333,\"#9c179e\"],[0.4444444444444444,\"#bd3786\"],[0.5555555555555556,\"#d8576b\"],[0.6666666666666666,\"#ed7953\"],[0.7777777777777778,\"#fb9f3a\"],[0.8888888888888888,\"#fdca26\"],[1.0,\"#f0f921\"]]},\"colorway\":[\"#636efa\",\"#EF553B\",\"#00cc96\",\"#ab63fa\",\"#FFA15A\",\"#19d3f3\",\"#FF6692\",\"#B6E880\",\"#FF97FF\",\"#FECB52\"],\"font\":{\"color\":\"#2a3f5f\"},\"geo\":{\"bgcolor\":\"white\",\"lakecolor\":\"white\",\"landcolor\":\"#E5ECF6\",\"showlakes\":true,\"showland\":true,\"subunitcolor\":\"white\"},\"hoverlabel\":{\"align\":\"left\"},\"hovermode\":\"closest\",\"mapbox\":{\"style\":\"light\"},\"paper_bgcolor\":\"white\",\"plot_bgcolor\":\"#E5ECF6\",\"polar\":{\"angularaxis\":{\"gridcolor\":\"white\",\"linecolor\":\"white\",\"ticks\":\"\"},\"bgcolor\":\"#E5ECF6\",\"radialaxis\":{\"gridcolor\":\"white\",\"linecolor\":\"white\",\"ticks\":\"\"}},\"scene\":{\"xaxis\":{\"backgroundcolor\":\"#E5ECF6\",\"gridcolor\":\"white\",\"gridwidth\":2,\"linecolor\":\"white\",\"showbackground\":true,\"ticks\":\"\",\"zerolinecolor\":\"white\"},\"yaxis\":{\"backgroundcolor\":\"#E5ECF6\",\"gridcolor\":\"white\",\"gridwidth\":2,\"linecolor\":\"white\",\"showbackground\":true,\"ticks\":\"\",\"zerolinecolor\":\"white\"},\"zaxis\":{\"backgroundcolor\":\"#E5ECF6\",\"gridcolor\":\"white\",\"gridwidth\":2,\"linecolor\":\"white\",\"showbackground\":true,\"ticks\":\"\",\"zerolinecolor\":\"white\"}},\"shapedefaults\":{\"line\":{\"color\":\"#2a3f5f\"}},\"ternary\":{\"aaxis\":{\"gridcolor\":\"white\",\"linecolor\":\"white\",\"ticks\":\"\"},\"baxis\":{\"gridcolor\":\"white\",\"linecolor\":\"white\",\"ticks\":\"\"},\"bgcolor\":\"#E5ECF6\",\"caxis\":{\"gridcolor\":\"white\",\"linecolor\":\"white\",\"ticks\":\"\"}},\"title\":{\"x\":0.05},\"xaxis\":{\"automargin\":true,\"gridcolor\":\"white\",\"linecolor\":\"white\",\"ticks\":\"\",\"title\":{\"standoff\":15},\"zerolinecolor\":\"white\",\"zerolinewidth\":2},\"yaxis\":{\"automargin\":true,\"gridcolor\":\"white\",\"linecolor\":\"white\",\"ticks\":\"\",\"title\":{\"standoff\":15},\"zerolinecolor\":\"white\",\"zerolinewidth\":2}}}},                        {\"responsive\": true}                    ).then(function(){\n",
              "                            \n",
              "var gd = document.getElementById('f1e0aa26-a87b-4769-a491-5b8b57b12c14');\n",
              "var x = new MutationObserver(function (mutations, observer) {{\n",
              "        var display = window.getComputedStyle(gd).display;\n",
              "        if (!display || display === 'none') {{\n",
              "            console.log([gd, 'removed!']);\n",
              "            Plotly.purge(gd);\n",
              "            observer.disconnect();\n",
              "        }}\n",
              "}});\n",
              "\n",
              "// Listen for the removal of the full notebook cells\n",
              "var notebookContainer = gd.closest('#notebook-container');\n",
              "if (notebookContainer) {{\n",
              "    x.observe(notebookContainer, {childList: true});\n",
              "}}\n",
              "\n",
              "// Listen for the clearing of the current output cell\n",
              "var outputEl = gd.closest('.output');\n",
              "if (outputEl) {{\n",
              "    x.observe(outputEl, {childList: true});\n",
              "}}\n",
              "\n",
              "                        })                };                            </script>        </div>\n",
              "</body>\n",
              "</html>"
            ]
          },
          "metadata": {}
        },
        {
          "output_type": "display_data",
          "data": {
            "text/html": [
              "<html>\n",
              "<head><meta charset=\"utf-8\" /></head>\n",
              "<body>\n",
              "    <div>            <script src=\"https://cdnjs.cloudflare.com/ajax/libs/mathjax/2.7.5/MathJax.js?config=TeX-AMS-MML_SVG\"></script><script type=\"text/javascript\">if (window.MathJax) {MathJax.Hub.Config({SVG: {font: \"STIX-Web\"}});}</script>                <script type=\"text/javascript\">window.PlotlyConfig = {MathJaxConfig: 'local'};</script>\n",
              "        <script src=\"https://cdn.plot.ly/plotly-2.8.3.min.js\"></script>                <div id=\"b684cc17-0d21-4ec1-a9c7-4396891cadfe\" class=\"plotly-graph-div\" style=\"height:525px; width:100%;\"></div>            <script type=\"text/javascript\">                                    window.PLOTLYENV=window.PLOTLYENV || {};                                    if (document.getElementById(\"b684cc17-0d21-4ec1-a9c7-4396891cadfe\")) {                    Plotly.newPlot(                        \"b684cc17-0d21-4ec1-a9c7-4396891cadfe\",                        [{\"mode\":\"markers\",\"x\":[1.0,null,1.0,0.0,null,0.0,1.0,1.0,0.0,1.0,1.0,4.0,0.0,null,0.0,1.0,9.0,1.0,1.0,0.0,12.0,3.0,13.0,5.0,1.0,1.0,9.0,1.0,0.0,5.0,0.0,1.0,1.0,9.0,1.0,3.0,5.0,1.0,8.0,null,4.0,0.0,14.0,1.0,8.0,null,0.0,null,0.0,1.0,1.0,1.0,1.0,0.0,1.0,14.0,9.0,8.0,1.0,1.0,0.0,9.0,0.0,1.0,7.0,0.0,0.0,8.0,0.0,null,8.0,8.0,0.0,8.0,0.0,0.0,0.0,4.0,2.0,1.0,0.0,6.0,8.0,8.0,1.0,7.0,0.0,5.0,7.0,0.0,0.0,1.0,1.0,1.0,0.0,null,0.0,0.0,1.0,3.0,0.0,1.0,0.0,0.0,10.0,1.0,3.0,1.0,6.0,9.0,null,0.0,1.0,1.0,0.0,8.0,1.0,0.0,2.0,1.0,0.0,1.0,9.0,1.0,9.0,1.0,0.0,0.0,0.0,8.0,9.0,0.0,6.0,null,1.0,5.0,null,3.0,8.0,4.0,0.0,0.0,0.0,1.0,0.0,8.0,9.0,1.0,7.0,6.0,0.0,0.0,0.0,2.0,0.0,8.0,1.0,3.0,1.0,3.0,1.0,1.0,0.0,1.0,0.0,5.0,9.0,0.0,0.0,2.0,3.0,0.0,0.0,5.0,0.0,3.0,11.0,2.0,4.0,8.0,7.0,null,null,4.0,1.0,null,null,1.0,4.0,0.0,1.0,5.0,8.0,null,7.0,1.0,0.0,1.0,1.0,4.0,0.0,9.0,6.0,4.0,0.0,8.0,0.0,2.0,0.0,null,0.0,2.0,3.0,0.0,1.0,0.0,0.0,null,null,0.0,0.0,0.0,7.0,0.0,8.0,null,4.0,1.0,1.0,null,null,0.0,0.0,0.0,9.0,0.0,1.0,0.0,1.0,1.0,1.0,0.0,1.0,0.0,0.0,7.0,1.0,1.0,1.0,0.0,1.0,8.0,null,1.0,1.0,0.0,null,11.0,8.0,0.0,6.0,1.0,1.0,null,1.0,2.0,1.0,0.0,6.0,1.0,0.0,0.0,0.0,0.0,1.0,1.0,7.0,1.0,9.0,3.0,1.0,1.0,1.0,1.0,0.0,0.0,1.0,1.0,0.0,1.0,null,1.0,null,0.0,0.0,1.0,1.0,1.0,3.0,7.0,null,null,1.0,1.0,0.0,null,4.0,0.0,8.0,null,3.0,0.0,null,0.0,6.0,0.0,0.0,5.0,0.0,0.0,4.0,13.0,null,6.0,4.0,3.0,7.0,4.0,1.0,2.0,0.0,null,0.0,0.0,10.0,8.0,1.0,0.0,14.0,8.0,3.0,1.0,0.0,1.0,1.0,0.0,9.0,9.0,2.0,null,null,null,null,1.0,0.0,8.0,0.0,0.0,1.0,3.0,null,1.0,4.0,1.0,1.0,0.0,1.0,12.0,9.0,1.0,8.0,1.0,2.0,null,6.0,8.0,1.0,1.0,2.0,0.0,5.0,0.0,0.0,0.0,1.0,1.0,null,8.0,null,null,9.0,13.0,8.0,1.0,null,3.0,6.0,6.0,1.0,1.0,1.0,1.0,0.0,1.0,1.0,0.0,null,1.0,2.0,7.0,0.0,0.0,0.0,1.0,1.0,1.0,0.0,8.0,9.0,1.0,1.0,0.0,5.0,1.0,7.0,1.0,2.0,1.0,1.0,1.0,7.0,null,3.0,4.0,5.0,1.0,0.0,0.0,1.0,0.0,0.0,1.0,0.0,1.0,null,9.0,9.0,4.0,null,4.0,2.0,0.0,null,null,1.0,14.0,0.0,6.0,3.0,4.0,0.0,0.0,2.0,1.0,0.0,1.0,0.0,null,1.0,0.0,9.0,1.0,0.0,0.0,1.0,null,0.0,0.0,3.0,2.0,6.0,9.0,0.0,1.0,1.0,2.0,1.0,0.0,9.0,1.0,3.0,3.0,4.0,0.0,1.0,12.0,1.0,3.0,null,null,6.0,8.0,0.0,1.0,1.0,1.0,1.0,1.0,1.0,1.0,6.0,0.0,0.0,9.0,1.0,0.0,1.0,14.0,null,1.0,1.0,1.0,8.0,1.0,8.0,null,0.0,9.0,0.0,2.0,0.0,14.0,3.0,1.0,0.0,1.0,1.0,9.0,4.0,1.0,0.0,1.0,1.0,3.0,1.0,10.0,0.0,2.0,1.0,5.0,0.0,1.0,1.0,1.0,1.0,0.0,0.0,0.0,8.0,0.0,1.0,null,8.0,9.0,null,1.0,null,0.0,4.0,8.0,1.0,4.0,4.0,1.0,1.0,null,null,11.0,1.0,1.0,null,null,8.0,0.0,3.0,null,null,1.0,1.0,6.0,2.0,5.0,1.0,null,2.0,2.0,0.0,9.0,4.0,null,1.0,6.0,null,null,null,null,8.0,2.0,9.0,0.0,5.0,0.0,0.0,9.0,1.0,null,0.0,null,1.0,1.0,6.0,1.0,1.0,0.0,1.0,1.0,0.0,0.0,13.0,1.0,3.0,0.0,0.0,0.0,6.0,2.0,0.0,0.0,0.0,0.0,3.0,7.0,0.0,0.0,0.0,0.0,0.0,8.0,1.0,1.0,1.0,0.0,null,1.0,0.0,1.0,1.0,0.0,1.0,0.0,null,7.0,2.0,4.0,9.0,8.0,1.0,0.0,0.0,1.0,3.0,1.0,1.0,1.0,0.0,8.0,1.0,1.0,1.0,1.0,1.0,1.0,null,0.0,0.0,12.0,0.0,0.0,0.0,4.0,1.0,0.0,0.0,null,1.0,0.0,null,9.0,1.0,0.0,8.0,0.0,7.0,5.0,7.0,null,0.0,6.0,0.0,2.0,9.0,1.0,1.0,1.0,0.0,1.0,1.0,6.0,null,7.0,0.0,0.0,null,8.0,2.0,0.0,1.0,0.0,1.0,0.0,7.0,1.0,1.0,0.0,7.0,1.0,null,3.0,1.0,0.0,9.0,2.0,null,1.0,1.0,0.0,1.0,0.0,4.0,null,10.0,0.0,1.0,0.0,1.0,1.0,8.0,1.0,6.0,8.0,4.0,null,0.0,1.0,0.0,0.0,null,1.0,1.0,null,0.0,6.0,0.0,0.0,3.0,9.0,0.0,null,1.0,1.0,2.0,0.0,7.0,1.0,1.0,2.0,2.0,1.0,9.0,1.0,1.0,1.0,4.0,7.0,1.0,null,3.0,0.0,1.0,1.0,0.0,null,0.0,4.0,8.0,0.0,1.0,1.0,0.0,0.0,1.0,0.0,8.0,1.0,1.0,1.0,8.0,0.0,null,null,0.0,1.0,1.0,1.0,0.0,9.0,9.0,7.0,1.0,0.0,1.0,13.0,1.0,1.0,4.0,null,0.0,0.0,1.0,0.0,1.0,0.0,14.0,12.0,8.0,null,null,1.0,0.0,0.0,0.0,null,0.0,1.0,1.0,0.0,0.0,14.0,1.0,0.0,4.0,0.0,8.0,0.0,12.0,5.0,0.0,8.0,1.0,1.0,6.0,0.0,9.0,1.0,2.0,10.0,0.0,1.0,9.0,0.0,6.0,null,7.0,0.0,6.0,9.0,0.0,null,1.0,1.0,5.0,8.0,8.0,1.0,1.0,null,8.0,1.0,1.0,0.0,1.0,null,1.0,8.0,1.0,5.0,1.0,null,0.0,9.0,1.0,8.0,null,1.0,1.0,0.0,1.0,9.0,0.0,0.0,1.0,0.0,1.0,0.0,8.0,4.0,0.0,0.0,1.0,1.0,null,1.0,1.0,0.0,1.0,5.0,0.0,6.0,9.0,4.0,0.0,3.0,3.0,null,1.0,6.0,9.0,9.0,0.0,0.0,5.0,0.0,0.0,11.0,0.0,1.0,null,0.0,null,null,0.0,1.0,1.0,null,0.0,7.0,1.0,null,1.0,6.0,3.0,null,0.0,1.0,0.0,0.0,1.0,1.0,1.0,2.0,0.0,7.0,1.0,9.0,0.0,null,1.0,0.0,3.0,9.0,1.0,1.0,13.0,9.0,0.0,2.0,4.0,10.0,11.0,0.0,0.0,5.0,2.0,1.0,4.0,0.0,0.0,9.0,8.0,0.0,1.0,0.0,8.0,1.0,7.0,4.0,1.0,2.0,1.0,1.0,1.0,2.0,1.0,0.0,0.0,1.0,1.0,0.0,null,3.0,2.0,1.0,0.0,9.0,4.0,1.0,0.0,1.0,11.0,1.0,8.0,1.0,1.0,6.0,6.0,5.0,1.0,0.0,9.0,1.0,0.0,1.0,1.0,7.0,8.0,1.0,1.0,8.0,1.0,0.0,0.0,0.0,9.0,null,1.0,1.0,1.0,1.0,0.0,null,1.0,1.0,1.0,1.0,0.0,2.0,1.0,0.0,8.0,0.0,9.0,8.0,0.0,1.0,1.0,8.0,1.0,0.0,0.0,0.0,3.0,0.0,7.0,0.0,1.0,null,0.0,1.0,1.0,12.0,0.0,9.0,5.0,1.0,2.0,1.0,0.0,6.0,0.0,0.0,9.0,0.0,4.0,1.0,0.0,0.0,1.0,11.0,1.0,9.0,1.0,7.0,1.0,8.0,1.0,2.0,5.0,0.0,null,1.0,null,0.0,1.0,0.0,0.0,1.0,6.0,7.0,1.0,0.0,0.0,null,5.0,9.0,1.0,9.0,1.0,2.0,0.0,1.0,0.0,0.0,1.0,1.0,0.0,0.0,1.0,2.0,9.0,3.0,0.0,7.0,7.0,4.0,1.0,4.0,9.0,0.0,5.0,1.0,1.0,1.0,0.0,6.0,4.0,0.0,0.0,1.0,null,1.0,5.0,1.0,8.0,0.0,11.0,1.0,2.0,1.0,2.0,1.0,7.0,9.0,null,2.0,4.0,1.0,0.0,1.0,1.0,9.0,0.0,null,0.0,0.0,12.0,0.0,4.0,0.0,1.0,1.0,8.0,1.0,0.0,0.0,4.0,0.0,3.0,1.0,1.0,1.0,1.0,0.0,0.0,8.0,0.0,0.0,14.0,null,8.0,4.0,9.0,1.0,14.0,11.0,1.0,1.0,0.0,4.0,1.0,3.0,1.0,9.0,3.0,1.0,0.0,0.0,1.0,0.0,0.0,9.0,9.0,0.0,1.0,0.0,0.0,0.0,3.0,0.0,1.0,0.0,12.0,1.0,9.0,1.0,14.0,0.0,1.0,1.0,8.0,1.0,null,1.0,0.0,1.0,0.0,6.0,1.0,0.0,1.0,0.0,9.0,0.0,8.0,0.0,3.0,0.0,0.0,null,12.0,9.0,0.0,0.0,5.0,6.0,1.0,9.0,2.0,0.0,1.0,10.0,1.0,5.0,1.0,1.0,1.0,1.0,1.0,0.0,0.0,6.0,1.0,0.0,2.0,0.0,4.0,0.0,1.0,10.0,1.0,8.0,null,1.0,null,0.0,1.0,1.0,null,null,1.0,8.0,1.0,0.0,1.0,6.0,null,2.0,0.0,0.0,1.0,0.0,1.0,9.0,0.0,1.0,3.0,1.0,1.0,null,0.0,0.0,1.0,0.0,1.0,6.0,1.0,1.0,1.0,1.0,2.0,1.0,0.0,1.0,1.0,4.0,null,1.0,1.0,0.0,null,1.0,1.0,null,9.0,2.0,null,null,6.0,0.0,0.0,0.0,0.0,6.0,0.0,1.0,1.0,0.0,null,3.0,1.0,null,0.0,null,0.0,1.0,7.0,0.0,1.0,null,9.0,1.0,10.0,1.0,0.0,4.0,0.0,0.0,1.0,0.0,1.0,0.0,9.0,1.0,1.0,1.0,0.0,0.0,null,3.0,8.0,5.0,0.0,5.0,8.0,0.0,8.0,1.0,0.0,1.0,null,0.0,null,0.0,0.0,1.0,1.0,7.0,8.0,0.0,0.0,null,6.0,2.0,1.0,0.0,null,0.0,null,0.0,1.0,9.0,1.0,1.0,1.0,0.0,0.0,0.0,1.0,5.0,0.0,null,null,null,0.0,1.0,0.0,1.0,1.0,6.0,null,0.0,2.0,0.0,0.0,1.0,1.0,7.0,0.0,1.0,null,null,0.0,0.0,1.0,5.0,1.0,1.0,8.0,1.0,0.0,0.0,1.0,0.0,0.0,0.0,8.0,6.0,0.0,1.0,1.0,0.0,1.0,null,0.0,1.0,0.0,0.0,1.0,0.0,9.0,null,1.0,0.0,null,7.0,8.0,1.0,1.0,0.0,8.0,0.0,1.0,0.0,1.0,1.0,1.0,0.0,12.0,2.0,1.0,7.0,1.0,0.0,0.0,1.0,0.0,1.0,0.0,1.0,1.0,8.0,8.0,4.0,0.0,1.0,0.0,4.0,1.0,null,0.0,13.0,0.0,1.0,1.0,0.0,0.0,0.0,0.0,1.0,6.0,1.0,0.0,1.0,9.0,0.0,1.0,0.0,1.0,1.0,null,7.0,1.0,9.0,0.0,1.0,1.0,3.0,8.0,0.0,1.0,0.0,0.0,1.0,1.0,2.0,0.0,0.0,7.0,3.0,0.0,1.0,0.0,1.0,1.0,2.0,0.0,0.0,5.0,0.0,0.0,0.0,0.0,1.0,0.0,1.0,0.0,null,8.0,1.0,1.0,0.0,null,0.0,0.0,0.0,1.0,null,0.0,8.0,1.0,0.0,7.0,4.0,0.0,1.0,0.0,3.0,0.0,2.0,0.0,1.0,0.0,5.0,null,1.0,6.0,9.0,1.0,1.0,2.0,8.0,1.0,8.0,3.0,1.0,1.0,1.0,0.0,7.0,0.0,0.0,3.0,9.0,1.0,9.0,null,9.0,0.0,4.0,0.0,1.0,1.0,1.0,9.0,1.0,3.0,9.0,0.0,6.0,0.0,8.0,1.0,1.0,0.0,1.0,0.0,9.0,8.0,1.0,null,1.0,0.0,0.0,1.0,0.0,1.0,7.0,1.0,0.0,null,0.0,0.0,0.0,4.0,3.0,1.0,14.0,1.0,8.0,1.0,0.0,0.0,null,4.0,9.0,1.0,8.0,9.0,0.0,0.0,0.0,10.0,null,4.0,1.0,0.0,0.0,1.0,0.0,null,1.0,0.0,null,1.0,1.0,1.0,0.0,null,1.0,1.0,1.0,6.0,0.0,1.0,2.0,0.0,1.0,1.0,0.0,0.0,8.0,9.0,0.0,0.0,6.0,null,4.0,1.0,null,9.0,1.0,0.0,null,9.0,6.0,4.0,0.0,1.0,0.0,0.0,4.0,null,1.0,0.0,null,0.0,1.0,8.0,1.0,1.0,8.0,2.0,0.0,0.0,1.0,9.0,null,1.0,1.0,0.0,3.0,0.0,12.0,0.0,8.0,0.0,0.0,3.0,0.0,1.0,1.0,0.0,8.0,1.0,10.0,null,2.0,null,8.0,0.0,9.0,0.0,8.0,1.0,0.0,2.0,0.0,0.0,null,0.0,8.0,0.0,1.0,4.0,1.0,1.0,null,0.0,1.0,5.0,9.0,1.0,0.0,1.0,3.0,11.0,0.0,1.0,1.0,null,4.0,1.0,10.0,5.0,8.0,null,1.0,0.0,1.0,0.0,9.0,11.0,4.0,0.0,7.0,5.0,9.0,1.0,9.0,7.0,1.0,0.0,9.0,3.0,0.0,1.0,9.0,1.0,1.0,0.0,0.0,6.0,3.0,1.0,1.0,0.0,0.0,9.0,1.0,1.0,0.0,9.0,1.0,0.0,12.0,0.0,0.0,1.0,2.0,1.0,6.0,0.0,0.0,0.0,0.0,1.0,null,4.0,0.0,1.0,1.0,0.0,4.0,8.0,0.0,0.0,8.0,1.0,6.0,8.0,7.0,0.0,null,0.0,null,null,1.0,0.0,8.0,1.0,0.0,3.0,0.0,5.0,4.0,2.0,0.0,0.0,5.0,1.0,null,0.0,3.0,4.0,0.0,8.0,1.0,null,null,3.0,1.0,0.0,1.0,1.0,4.0,2.0,1.0,5.0,1.0,0.0,1.0,0.0,0.0,8.0,1.0,9.0,11.0,1.0,0.0,0.0,10.0,1.0,0.0,9.0,1.0,null,1.0,0.0,8.0,1.0,1.0,2.0,0.0,null,1.0,8.0,2.0,7.0,0.0,1.0,1.0,null,null,6.0,null,1.0,null,0.0,1.0,7.0,0.0,0.0,0.0,0.0,0.0,1.0,6.0,0.0,0.0,1.0,1.0,5.0,0.0,1.0,3.0,4.0,0.0,1.0,0.0,0.0,4.0,null,0.0,8.0,0.0,4.0,1.0,6.0,1.0,1.0,9.0,9.0,1.0,1.0,1.0,1.0,0.0,1.0,0.0,6.0,0.0,null,6.0,0.0,0.0,0.0,14.0,0.0,0.0,1.0,1.0,2.0,0.0,0.0,1.0,0.0,0.0,0.0,null,1.0,8.0,1.0,9.0,1.0,1.0,9.0,1.0,9.0,1.0,null,null,null,8.0,4.0,3.0,0.0,0.0,1.0,null,1.0,13.0,4.0,0.0,1.0,0.0,0.0,11.0,0.0,null,1.0,null,7.0,1.0,1.0,1.0,1.0,3.0,3.0,1.0,1.0,null,1.0,0.0,0.0,1.0,6.0,7.0,1.0,1.0,2.0,null,1.0,null,9.0,0.0,1.0,1.0,null,1.0,1.0,2.0,9.0,null,7.0,null,null,1.0,4.0,4.0,1.0,1.0,null,1.0,null,1.0,0.0,1.0,1.0,1.0,9.0,0.0,0.0,2.0,0.0,7.0,6.0,1.0,5.0,0.0,0.0,1.0,null,0.0,1.0,3.0,1.0,1.0,0.0,1.0,1.0,1.0,1.0,0.0,9.0,8.0,0.0,0.0,3.0,0.0,8.0,6.0,0.0,8.0,1.0,1.0,3.0,0.0,1.0,null,0.0,0.0,0.0,null,0.0,0.0,null,0.0,1.0,0.0,1.0,1.0,1.0,4.0,5.0,0.0,0.0,0.0,12.0,1.0,1.0,10.0,9.0,1.0,6.0,null,0.0,0.0,1.0,2.0,0.0,0.0,1.0,6.0,8.0,14.0,1.0,0.0,0.0,0.0,3.0,1.0,1.0,2.0,1.0,2.0,4.0,3.0,1.0,12.0,1.0,3.0,9.0,5.0,1.0,3.0,5.0,3.0,1.0,0.0,8.0,1.0,8.0,0.0,0.0,8.0,8.0,5.0,13.0,0.0,null,0.0,1.0,0.0,0.0,0.0,null,1.0,9.0,0.0,0.0,0.0,0.0,4.0,12.0,1.0,1.0,0.0,1.0,1.0,0.0,0.0,7.0,8.0,8.0,3.0,0.0,8.0,1.0,null,13.0,14.0,5.0,0.0,5.0,3.0,1.0,0.0,9.0,14.0,8.0,1.0,1.0,0.0,1.0,null,0.0,1.0,8.0,1.0,1.0,0.0,null,0.0,null,0.0,1.0,0.0,null,0.0,null,3.0,8.0,null,0.0,8.0,5.0,0.0,13.0,1.0,7.0,null,0.0,1.0,1.0,2.0,7.0,2.0,1.0,9.0,8.0,9.0,null,1.0,1.0,0.0,null,0.0,9.0,0.0,1.0,0.0,null,2.0,1.0,0.0,0.0,5.0,1.0,1.0,null,7.0,null,0.0,null,0.0,1.0,2.0,null,0.0,4.0,1.0,1.0,0.0,null,11.0,2.0,null,0.0,7.0,1.0,1.0,1.0,9.0,5.0,null,0.0,9.0,5.0,1.0,4.0,0.0,1.0,0.0,9.0,6.0,1.0,4.0,0.0,0.0,1.0,8.0,0.0,1.0,1.0,1.0,1.0,7.0,8.0,0.0,7.0,1.0,8.0,1.0,1.0,0.0,null,0.0,6.0,1.0,13.0,0.0,null,1.0,0.0,0.0,0.0,4.0,null,1.0,9.0,0.0,0.0,3.0,null,0.0,null,1.0,8.0,1.0,8.0,0.0,0.0,1.0,0.0,9.0,6.0,1.0,0.0,3.0,0.0,2.0,1.0,13.0,1.0,null,7.0,0.0,0.0,0.0,4.0,3.0,1.0,13.0,0.0,null,0.0,1.0,1.0,1.0,9.0,10.0,0.0,8.0,0.0,0.0,2.0,1.0,null,9.0,9.0,0.0,9.0,1.0,9.0,0.0,0.0,3.0,0.0,0.0,0.0,null,1.0,1.0,8.0,0.0,1.0,1.0,1.0,1.0,0.0,2.0,8.0,0.0,8.0,1.0,1.0,2.0,1.0,6.0,0.0,0.0,null,8.0,1.0,null,1.0,9.0,0.0,0.0,0.0,1.0,0.0,null,3.0,2.0,9.0,0.0,2.0,null,0.0,null,1.0,1.0,1.0,0.0,0.0,0.0,null,5.0,1.0,1.0,1.0,0.0,null,1.0,1.0,0.0,4.0,11.0,1.0,0.0,9.0,null,1.0,null,3.0,6.0,1.0,0.0,1.0,1.0,null,1.0,null,1.0,null,7.0,0.0,0.0,9.0,0.0,0.0,1.0,6.0,4.0,0.0,2.0,8.0,1.0,null,1.0,3.0,8.0,0.0,0.0,1.0,null,0.0,8.0,2.0,9.0,1.0,1.0,1.0,1.0,9.0,1.0,null,9.0,1.0,9.0,0.0,1.0,2.0,8.0,1.0,0.0,1.0,1.0,0.0,8.0,0.0,1.0,2.0,null,0.0,null,0.0,5.0,1.0,null,0.0,1.0,0.0,9.0,6.0,9.0,1.0,1.0,9.0,9.0,1.0,0.0,1.0,1.0,1.0,null,0.0,null,0.0,8.0,0.0,9.0,0.0,8.0,1.0,1.0,1.0,1.0,1.0,1.0,4.0,1.0,null,6.0,0.0,9.0,null,0.0,3.0,0.0,3.0,0.0,null,6.0,0.0,0.0,1.0,0.0,0.0,1.0,0.0,0.0,1.0,2.0,1.0,8.0,9.0,8.0,0.0,0.0,0.0,8.0,1.0,7.0,0.0,1.0,3.0,8.0,0.0,1.0,0.0,0.0,3.0,4.0,7.0,11.0,0.0,1.0,1.0,null,1.0,null,null,8.0,1.0,3.0,1.0,null,null,0.0,0.0,1.0,4.0,null,0.0,1.0,0.0,1.0,2.0,0.0,0.0,1.0,0.0,1.0,0.0,0.0,null,8.0,1.0,1.0,1.0,0.0,12.0,0.0,1.0,1.0,1.0,0.0,null,0.0,1.0,4.0,1.0,0.0,1.0,1.0,1.0,null,1.0,1.0,7.0,4.0,14.0,9.0,1.0,12.0,6.0,1.0,0.0,14.0,null,1.0,1.0,0.0,8.0,0.0,null,1.0,null,1.0,1.0,4.0,0.0,1.0,null,8.0,0.0,7.0,0.0,1.0,8.0,0.0,1.0,null,0.0,0.0,2.0,1.0,3.0,1.0,0.0,8.0,0.0,0.0,0.0,8.0,8.0,1.0,1.0,8.0,1.0,3.0,6.0,0.0,0.0,1.0,0.0,4.0,0.0,1.0,2.0,4.0,2.0,6.0,null,1.0,1.0,1.0,null,null,1.0,0.0,14.0,0.0,null,5.0,2.0,0.0,1.0,1.0,0.0,0.0,0.0,1.0,12.0,3.0,null,8.0,1.0,0.0,0.0,2.0,0.0,null,7.0,1.0,0.0,5.0,1.0,0.0,null,1.0,14.0,8.0,0.0,0.0,2.0,7.0,0.0,1.0,9.0,2.0,null,0.0,0.0,12.0,3.0,14.0,0.0,0.0,1.0,3.0,null,6.0,1.0,0.0,1.0,4.0,1.0,1.0,0.0,0.0,8.0,1.0,5.0,2.0,0.0,0.0,11.0,9.0,4.0,1.0,null,null,0.0,0.0,6.0,8.0,0.0,1.0,1.0,3.0,0.0,9.0,1.0,0.0,1.0,null,10.0,4.0,0.0,null,null,0.0,null,1.0,1.0,5.0,1.0,1.0,1.0,1.0,0.0,7.0,6.0,9.0,1.0,9.0,0.0,1.0,null,null,1.0,0.0,0.0,2.0,0.0,5.0,7.0,2.0,0.0,0.0,1.0,0.0,0.0,1.0,0.0,null,0.0,1.0,0.0,9.0,1.0,null,1.0,9.0,3.0,1.0,0.0,2.0,8.0,2.0,1.0,1.0,1.0,1.0,0.0,null,9.0,1.0,1.0,null,0.0,1.0,0.0,0.0,1.0,5.0,6.0,1.0,null,1.0,null,1.0,1.0,1.0,0.0,9.0,7.0,6.0,8.0,null,8.0,0.0,9.0,9.0,1.0,0.0,1.0,6.0,10.0,9.0,null,1.0,1.0,1.0,8.0,1.0,1.0,0.0,null,2.0,9.0,9.0,1.0,4.0,1.0,1.0,8.0,0.0,1.0,1.0,0.0,3.0,0.0,null,2.0,0.0,0.0,4.0,0.0,1.0,7.0,0.0,null,0.0,1.0,1.0,0.0,8.0,0.0,0.0,1.0,0.0,6.0,6.0,9.0,1.0,11.0,0.0,1.0,7.0,1.0,9.0,8.0,1.0,null,3.0,null,7.0,1.0,0.0,8.0,0.0,8.0,11.0,1.0,8.0,0.0,0.0,2.0,2.0,0.0,0.0,14.0,1.0,null,null,null,0.0,8.0,0.0,9.0,0.0,0.0,14.0,0.0,2.0,9.0,1.0,1.0,1.0,null,0.0,7.0,1.0,9.0,1.0,1.0,6.0,5.0,5.0,0.0,1.0,5.0,null,2.0,1.0,1.0,null,0.0,9.0,9.0,4.0,9.0,0.0,2.0,0.0,0.0,0.0,null,9.0,0.0,1.0,0.0,0.0,0.0,0.0,7.0,3.0,1.0,1.0,null,8.0,0.0,7.0,0.0,3.0,0.0,1.0,9.0,1.0,0.0,2.0,7.0,1.0,1.0,0.0,1.0,8.0,null,8.0,5.0,0.0,0.0,0.0,null,0.0,null,0.0,1.0,13.0,1.0,1.0,8.0,0.0,null,1.0,8.0,null,9.0,null,1.0,null,5.0,9.0,8.0,0.0,7.0,2.0,null,2.0,null,0.0,1.0,5.0,1.0,2.0,8.0,0.0,2.0,null,1.0,0.0,0.0,1.0,1.0,10.0,0.0,1.0,1.0,1.0,1.0,null,8.0,8.0,1.0,13.0,14.0,null,0.0,1.0,0.0,1.0,9.0,2.0,null,0.0,0.0,0.0,3.0,0.0,1.0,null,0.0,11.0,9.0,1.0,8.0,7.0,0.0,0.0,null,0.0,11.0,8.0,null,1.0,1.0,0.0,0.0,0.0,1.0,null,0.0,5.0,1.0,0.0,2.0,0.0,9.0,0.0,0.0,0.0,1.0,1.0,1.0,0.0,4.0,0.0,1.0,2.0,1.0,null,4.0,11.0,0.0,1.0,null,9.0,8.0,8.0,0.0,14.0,0.0,1.0,0.0,9.0,4.0,11.0,1.0,3.0,1.0,0.0,7.0,0.0,8.0,1.0,12.0,1.0,1.0,3.0,0.0,7.0,14.0,1.0,3.0,12.0,4.0,1.0,1.0,0.0,null,4.0,7.0,1.0,4.0,1.0,0.0,9.0,5.0,null,1.0,0.0,null,null,11.0,1.0,9.0,1.0,0.0,0.0,5.0,1.0,9.0,null,1.0,1.0,13.0,2.0,0.0,1.0,1.0,1.0,9.0,1.0,0.0,0.0,7.0,0.0,3.0,0.0,0.0,9.0,9.0,1.0,1.0,6.0,2.0,1.0,0.0,0.0,0.0,7.0,1.0,8.0,1.0,8.0,6.0,0.0,null,0.0,0.0,7.0,0.0,0.0,1.0,0.0,1.0,null,6.0,1.0,1.0,4.0,10.0,1.0,1.0,5.0,4.0,1.0,4.0,0.0,0.0,8.0,0.0,null,null,0.0,0.0,1.0,2.0,2.0,0.0,1.0,0.0,0.0,1.0,0.0,8.0,1.0,11.0,null,0.0,1.0,0.0,1.0,null,0.0,null,3.0,null,1.0,4.0,null,null,null,1.0,1.0,1.0,0.0,4.0,1.0,null,0.0,2.0,10.0,4.0,7.0,null,0.0,1.0,5.0,5.0,null,0.0,0.0,null,1.0,4.0,0.0,0.0,1.0,1.0,0.0,8.0,12.0,0.0,0.0,1.0,null,9.0,0.0,1.0,0.0,1.0,0.0,1.0,0.0,1.0,0.0,3.0,1.0,1.0,2.0,7.0,9.0,null,5.0,2.0,0.0,6.0,1.0,5.0,1.0,1.0,1.0,0.0,0.0,null,1.0,1.0,1.0,9.0,0.0,1.0,4.0,1.0,3.0,8.0,1.0,1.0,1.0,9.0,3.0,1.0,0.0,8.0,6.0,0.0,0.0,0.0,0.0,0.0,8.0,0.0,7.0,6.0,6.0,0.0,0.0,1.0,1.0,9.0,1.0,0.0,0.0,1.0,0.0,1.0,1.0,1.0,0.0,0.0,12.0,6.0,3.0,0.0,null,1.0,11.0,0.0,1.0,2.0,null,1.0,4.0,0.0,1.0,2.0,4.0,0.0,0.0,null,1.0,1.0,1.0,1.0,1.0,8.0,1.0,0.0,2.0,7.0,1.0,0.0,1.0,3.0,1.0,0.0,7.0,null,0.0,1.0,3.0,1.0,1.0,8.0,11.0,8.0,0.0,8.0,1.0,4.0,1.0,1.0,0.0,1.0,6.0,9.0,8.0,1.0,1.0,5.0,2.0,0.0,9.0,1.0,0.0,1.0,0.0,12.0,2.0,null,1.0,null,1.0,1.0,0.0,0.0,1.0,1.0,1.0,0.0,1.0,9.0,1.0,0.0,9.0,3.0,0.0,0.0,7.0,null,0.0,1.0,9.0,0.0,1.0,2.0,6.0,0.0,8.0,8.0,1.0,0.0,7.0,5.0,2.0,1.0,0.0,1.0,1.0,null,0.0,0.0,0.0,1.0,null,0.0,1.0,0.0,9.0,1.0,4.0,8.0,0.0,1.0,1.0,null,0.0,8.0,0.0,2.0,0.0,0.0,0.0,6.0,1.0,9.0,0.0,0.0,0.0,5.0,null,0.0,1.0,0.0,1.0,0.0,1.0,0.0,0.0,1.0,7.0,null,4.0,4.0,9.0,0.0,5.0,1.0,1.0,0.0,null,6.0,9.0,1.0,5.0,9.0,1.0,2.0,0.0,2.0,0.0,1.0,0.0,1.0,6.0,7.0,2.0,6.0,null,1.0,0.0,2.0,8.0,0.0,8.0,1.0,3.0,2.0,2.0,null,1.0,6.0,0.0,6.0,0.0,1.0,6.0,1.0,0.0,8.0,6.0,12.0,9.0,9.0,null,10.0,1.0,0.0,8.0,0.0,3.0,0.0,null,0.0,1.0,1.0,1.0,1.0,0.0,5.0,8.0,0.0,1.0,1.0,0.0,null,0.0,1.0,0.0,1.0,1.0,null,1.0,1.0,8.0,null,0.0,1.0,1.0,7.0,0.0,0.0,1.0,1.0,4.0,1.0,3.0,1.0,4.0,0.0,7.0,1.0,null,1.0,4.0,2.0,2.0,5.0,0.0,9.0,2.0,null,1.0,2.0,13.0,1.0,7.0,0.0,1.0,0.0,1.0,0.0,13.0,1.0,14.0,0.0,0.0,9.0,1.0,0.0,8.0,2.0,0.0,null,6.0,null,1.0,1.0,9.0,4.0,1.0,7.0,1.0,2.0,7.0,4.0,1.0,0.0,null,0.0,8.0,0.0,null,10.0,1.0,1.0,9.0,0.0,0.0,9.0,0.0,1.0,0.0,0.0,0.0,0.0,1.0,null,5.0,1.0,1.0,0.0,0.0,0.0,null,1.0,2.0,1.0,5.0,8.0,0.0,null,0.0,0.0,null,1.0,7.0,9.0,8.0,null,0.0,0.0,5.0,2.0,8.0,1.0,9.0,1.0,1.0,4.0,0.0,1.0,1.0,3.0,8.0,10.0,1.0,8.0,1.0,null,0.0,6.0,9.0,null,0.0,0.0,1.0,1.0,0.0,null,5.0,10.0,1.0,0.0,0.0,7.0,6.0,null,0.0,1.0,0.0,null,1.0,null,0.0,1.0,13.0,11.0,0.0,null,0.0,7.0,0.0,8.0,null,null,10.0,1.0,0.0,1.0,4.0,null,9.0,8.0,1.0,0.0,1.0,1.0,null,14.0,3.0,1.0,1.0,4.0,0.0,1.0,0.0,13.0,1.0,null,null,3.0,8.0,6.0,2.0,1.0,0.0,0.0,7.0,1.0,1.0,0.0,0.0,5.0,8.0,10.0,1.0,1.0,0.0,0.0,1.0,5.0,1.0,9.0,0.0,0.0,1.0,5.0,0.0,1.0,0.0,null,4.0,1.0,1.0,1.0,12.0,2.0,0.0,8.0,5.0,7.0,null,null,2.0,1.0,2.0,0.0,0.0,8.0,1.0,0.0,0.0,0.0,0.0,null,1.0,9.0,8.0,5.0,0.0,1.0,1.0,0.0,4.0,0.0,14.0,0.0,0.0,0.0,9.0,0.0,8.0,0.0,1.0,7.0,2.0,4.0,9.0,0.0,0.0,null,8.0,1.0,6.0,0.0,0.0,0.0,1.0,0.0,1.0,1.0,2.0,0.0,0.0,1.0,1.0,8.0,1.0,0.0,2.0,null,9.0,0.0,6.0,1.0,0.0,1.0,0.0,7.0,3.0,0.0,2.0,0.0,1.0,0.0,1.0,1.0,7.0,9.0,1.0,7.0,4.0,6.0,1.0,8.0,0.0,1.0,1.0,0.0,12.0,0.0,1.0,0.0,null,0.0,8.0,0.0,1.0,0.0,8.0,null,1.0,0.0,null,0.0,1.0,null,8.0,1.0,0.0,0.0,0.0,0.0,1.0,0.0,1.0,8.0,0.0,8.0,0.0,8.0,7.0,0.0,1.0,10.0,8.0,3.0,6.0,9.0,1.0,6.0,8.0,9.0,1.0,0.0,0.0,0.0,10.0,1.0,9.0,0.0,null,8.0,8.0,3.0,1.0,0.0,1.0,1.0,1.0,8.0,1.0,2.0,0.0,9.0,8.0,4.0,0.0,5.0,0.0,null,0.0,0.0,1.0,null,8.0,0.0,0.0,1.0,7.0,7.0,11.0,1.0,9.0,null,null,9.0,0.0,0.0,1.0,8.0,0.0,9.0,null,1.0,0.0,0.0,null,7.0,1.0,4.0,3.0,0.0,5.0,null,0.0,9.0,1.0,7.0,8.0,1.0,1.0,1.0,null,1.0,0.0,0.0,1.0,0.0,1.0,1.0,6.0,0.0,1.0,0.0,0.0,0.0,0.0,0.0,1.0,8.0,4.0,1.0,1.0,null,0.0,10.0,0.0,3.0,0.0,6.0,10.0,0.0,0.0,3.0,1.0,0.0,7.0,1.0,1.0,1.0,0.0,9.0,9.0,8.0,9.0,1.0,1.0,1.0,0.0,0.0,7.0,1.0,1.0,null,9.0,5.0,1.0,1.0,0.0,0.0,9.0,null,1.0,2.0,8.0,10.0,1.0,4.0,4.0,0.0,14.0,1.0,1.0,8.0,10.0,1.0,4.0,9.0,0.0,1.0,null,1.0,1.0,1.0,3.0,0.0,0.0,null,3.0,3.0,1.0,1.0,5.0,9.0,0.0,0.0,0.0,1.0,0.0,3.0,0.0,null,1.0,4.0,1.0,0.0,0.0,5.0,7.0,0.0,1.0,0.0,0.0,1.0,8.0,0.0,1.0,0.0,1.0,8.0,0.0,1.0,3.0,0.0,2.0,5.0,0.0,8.0,1.0,7.0,9.0,1.0,1.0,1.0,3.0,1.0,0.0,3.0,0.0,0.0,6.0,2.0,9.0,5.0,1.0,1.0,0.0,2.0,null,4.0,10.0,0.0,1.0,null,1.0,0.0,2.0,14.0,10.0,7.0,3.0,8.0,7.0,0.0,1.0,4.0,0.0,8.0,1.0,9.0,4.0,1.0,0.0,0.0,8.0,0.0,1.0,4.0,1.0,null,0.0,1.0,0.0,1.0,5.0,0.0,0.0,8.0,1.0,1.0,0.0,1.0,null,1.0,0.0,3.0,1.0,0.0,5.0,0.0,0.0,2.0,null,5.0,1.0,0.0,1.0,1.0,1.0,1.0,1.0,0.0,1.0,0.0,null,0.0,0.0,1.0,0.0,0.0,null,1.0,0.0,0.0,7.0,0.0,0.0,12.0,1.0,1.0,7.0,0.0,0.0,1.0,11.0,8.0,0.0,null,0.0,0.0,1.0,0.0,0.0,0.0,1.0,1.0,0.0,1.0,1.0,6.0,9.0,null,null,0.0,0.0,1.0,0.0,7.0,9.0,10.0,1.0,0.0,4.0,1.0,null,1.0,null,4.0,1.0,1.0,1.0,0.0,null,10.0,8.0,1.0,0.0,null,1.0,6.0,2.0,9.0,1.0,1.0,9.0,8.0,8.0,0.0,6.0,6.0,0.0,0.0,9.0,1.0,1.0,null,6.0,1.0,3.0,1.0,1.0,1.0,9.0,null,0.0,5.0,0.0,0.0,null,0.0,14.0,9.0,null,null,3.0,10.0,3.0,0.0,5.0,3.0,8.0,null,1.0,0.0,0.0,1.0,9.0,1.0,8.0,5.0,2.0,1.0,0.0,9.0,null,1.0,2.0,1.0,8.0,0.0,1.0,null,5.0,9.0,0.0,1.0,1.0,1.0,1.0,9.0,8.0,null,0.0,null,0.0,8.0,1.0,1.0,1.0,1.0,1.0,8.0,1.0,null,1.0,4.0,0.0,null,2.0,1.0,null,3.0,0.0,1.0,9.0,7.0,1.0,1.0,3.0,0.0,0.0,8.0,0.0,1.0,null,1.0,8.0,1.0,1.0,0.0,0.0,6.0,1.0,1.0,8.0,1.0,8.0,null,1.0,1.0,1.0,1.0,0.0,null,1.0,4.0,0.0,1.0,9.0,0.0,0.0,0.0,0.0,0.0,8.0,9.0,3.0,8.0,7.0,1.0,null,0.0,1.0,8.0,1.0,1.0,1.0,4.0,0.0,3.0,1.0,null,0.0,null,7.0,0.0,0.0,2.0,null,1.0,0.0,3.0,9.0,1.0,0.0,0.0,9.0,8.0,0.0,9.0,0.0,1.0,7.0,0.0,0.0,null,0.0,0.0,0.0,1.0,1.0,null,8.0,0.0,null,0.0,1.0,1.0,1.0,1.0,1.0,3.0,0.0,6.0,null,1.0,1.0,7.0,1.0,4.0,1.0,0.0,1.0,null,1.0,0.0,12.0,0.0,3.0,1.0,12.0,0.0,8.0,0.0,1.0,0.0,0.0,1.0,8.0,1.0,6.0,3.0,1.0,0.0,0.0,1.0,0.0,6.0,1.0,0.0,1.0,0.0,0.0,8.0,0.0,1.0,null,0.0,9.0,4.0,1.0,6.0,0.0,null,0.0,8.0,1.0,1.0,1.0,0.0,13.0,9.0,9.0,1.0,1.0,9.0,0.0,1.0,5.0,9.0,1.0,0.0,8.0,0.0,0.0,null,3.0,1.0,null,1.0,4.0,0.0,9.0,0.0,9.0,5.0,7.0,1.0,1.0,4.0,7.0,0.0,0.0,2.0,0.0,10.0,1.0,1.0,0.0,9.0,10.0,1.0,2.0,1.0,12.0,1.0,0.0,1.0,0.0,1.0,0.0,3.0,8.0,1.0,9.0,null,3.0,null,null,1.0,1.0,1.0,2.0,7.0,1.0,1.0,3.0,8.0,9.0,9.0,1.0,1.0,8.0,1.0,0.0,0.0,4.0,8.0,1.0,1.0,0.0,1.0,0.0,8.0,9.0,0.0,2.0,0.0,13.0,6.0,6.0,1.0,0.0,0.0,1.0,0.0,6.0,null,1.0,13.0,5.0,1.0,1.0,0.0,0.0,0.0,0.0,1.0,0.0,null,5.0,8.0,6.0,0.0,0.0,2.0,null,0.0,1.0,1.0,1.0,5.0,7.0,null,1.0,null,0.0,0.0,1.0,0.0,0.0,0.0,0.0,0.0,8.0,0.0,3.0,8.0,1.0,9.0,null,0.0,0.0,9.0,0.0,12.0,11.0,null,1.0,null,1.0,null,1.0,1.0,1.0,0.0,4.0,1.0,1.0,0.0,7.0,1.0,0.0,1.0,0.0,0.0,7.0,1.0,1.0,0.0,1.0,1.0,1.0,1.0,0.0,1.0,5.0,0.0,1.0,9.0,8.0,7.0,1.0,0.0,13.0,9.0,1.0,9.0,0.0,8.0,4.0,9.0,9.0,0.0,0.0,1.0,9.0,1.0,8.0,9.0,1.0,1.0,9.0,0.0,9.0,1.0,1.0,0.0,0.0,3.0,5.0,0.0,null,6.0,1.0,8.0,1.0,7.0,1.0,4.0,1.0,null,0.0,0.0,null,4.0,1.0,0.0,1.0,0.0,1.0,0.0,9.0,1.0,1.0,1.0,null,8.0,9.0,5.0,1.0,1.0,0.0,0.0,5.0,8.0,null,null,1.0,null,null,7.0,1.0,0.0,4.0,0.0,8.0,null,7.0,1.0,null,1.0,1.0,1.0,9.0,5.0,3.0,1.0,1.0,8.0,null,1.0,8.0,6.0,1.0,9.0,14.0,0.0,2.0,1.0,1.0,null,1.0,9.0,1.0,1.0,0.0,1.0,null,0.0,0.0,8.0,1.0,13.0,1.0,4.0,0.0,0.0,null,1.0,5.0,0.0,0.0,2.0,0.0,8.0,1.0,0.0,0.0,0.0,1.0,7.0,null,1.0,0.0,1.0,4.0,0.0,0.0,2.0,0.0,1.0,1.0,0.0,6.0,0.0,5.0,9.0,1.0,0.0,1.0,1.0,0.0,0.0,2.0,0.0,0.0,null,6.0,1.0,3.0,1.0,0.0,9.0,0.0,1.0,2.0,1.0,1.0,null,1.0,8.0,null,7.0,1.0,1.0,9.0,0.0,2.0,1.0,null,1.0,0.0,0.0,0.0,0.0,null,9.0,0.0,null,7.0,1.0,9.0,1.0,0.0,1.0,1.0,9.0,0.0,0.0,4.0,8.0,3.0,0.0,0.0,1.0,0.0,1.0,1.0,2.0,0.0,9.0,null,null,0.0,1.0,0.0,1.0,0.0,null,0.0,0.0,6.0,null,2.0,0.0,4.0,1.0,1.0,7.0,1.0,14.0,1.0,6.0,1.0,0.0,0.0,null,7.0,6.0,0.0,9.0,1.0,0.0,1.0,2.0,1.0,3.0,1.0,3.0,0.0,10.0,null,7.0,1.0,null,null,1.0,1.0,null,null,0.0,1.0,1.0,5.0,1.0,1.0,0.0,null,0.0,9.0,5.0,0.0,null,0.0,0.0,9.0,1.0,2.0,2.0,1.0,0.0,1.0,1.0,1.0,0.0,1.0,0.0,0.0,null,1.0,null,1.0,3.0,0.0,0.0,null,0.0,0.0,0.0,6.0,6.0,8.0,4.0,0.0,0.0,1.0,0.0,3.0,5.0,1.0,1.0,3.0,0.0,0.0,0.0,10.0,7.0,1.0,4.0,0.0,null,0.0,4.0,2.0,2.0,6.0,8.0,2.0,1.0,1.0,null,1.0,0.0,1.0,1.0,0.0,null,9.0,0.0,0.0,8.0,2.0,1.0,1.0,0.0,null,1.0,5.0,0.0,1.0,9.0,0.0,1.0,1.0,8.0,1.0,null,0.0,6.0,0.0,0.0,0.0,0.0,9.0,8.0,0.0,0.0,1.0,11.0,1.0,0.0,9.0,9.0,4.0,6.0,4.0,0.0,0.0,1.0,11.0,null,8.0,0.0,8.0,1.0,5.0,9.0,1.0,null,1.0,1.0,9.0,0.0,2.0,0.0,9.0,9.0,3.0,0.0,0.0,5.0,6.0,3.0,0.0,3.0,9.0,1.0,0.0,0.0,3.0,1.0,0.0,1.0,6.0,6.0,1.0,3.0,null,0.0,6.0,1.0,null,1.0,0.0,1.0,3.0,null,1.0,0.0,null,5.0,0.0,7.0,0.0,0.0,8.0,1.0,null,0.0,0.0,1.0,3.0,0.0,0.0,9.0,2.0,0.0,13.0,0.0,1.0,1.0,1.0,2.0,2.0,2.0,0.0,0.0,1.0,5.0,0.0,1.0,null,0.0,8.0,0.0,0.0,1.0,1.0,5.0,1.0,2.0,0.0,1.0,0.0,0.0,1.0,0.0,6.0,0.0,2.0,1.0,0.0,3.0,0.0,null,3.0,null,0.0,1.0,0.0,5.0,2.0,1.0,0.0,0.0,8.0,1.0,0.0,1.0,0.0,0.0,0.0,0.0,0.0,0.0,0.0,null,3.0,1.0,null,null,9.0,1.0,8.0,0.0,0.0,0.0,9.0,0.0,0.0,4.0,1.0,3.0,7.0,1.0,0.0,0.0,null,9.0,13.0,1.0,1.0,1.0,8.0,0.0,null,null,0.0,1.0,0.0,0.0,8.0,1.0,null,0.0,8.0,8.0,1.0,1.0,0.0,3.0,0.0,0.0,1.0,null,2.0,0.0,null,1.0,9.0,2.0,0.0,1.0,0.0,2.0,null,1.0,9.0,1.0,1.0,1.0,null,0.0,0.0,1.0,3.0,1.0,8.0,5.0,9.0,1.0,4.0,0.0,0.0,1.0,null,8.0,8.0,1.0,8.0,1.0,1.0,1.0,0.0,2.0,0.0,0.0,5.0,1.0,8.0,1.0,null,1.0,null,1.0,6.0,0.0,5.0,1.0,9.0,9.0,0.0,8.0,8.0,0.0,null,null,1.0,6.0,null,0.0,null,0.0,8.0,0.0,1.0,14.0,null,1.0,7.0,0.0,0.0,1.0,0.0,1.0,0.0,2.0,0.0,null,1.0,1.0,1.0,1.0,9.0,4.0,1.0,9.0,0.0,1.0,0.0,null,0.0,1.0,1.0,0.0,null,1.0,null,8.0,5.0,0.0,null,8.0,0.0,13.0,13.0,1.0,12.0,7.0,0.0,1.0,3.0,0.0,1.0,1.0,0.0,1.0,9.0,9.0,0.0,0.0,9.0,1.0,0.0,0.0,9.0,0.0,0.0,2.0,null,1.0,11.0,null,0.0,1.0,8.0,0.0,0.0,1.0,8.0,9.0,8.0,1.0,0.0,0.0,7.0,1.0,1.0,1.0,3.0,0.0,1.0,9.0,0.0,9.0,0.0,0.0,0.0,null,0.0,1.0,0.0,0.0,null,7.0,1.0,1.0,0.0,0.0,1.0,0.0,0.0,0.0,1.0,10.0,1.0,9.0,9.0,0.0,8.0,1.0,0.0,0.0,1.0,3.0,12.0,0.0,0.0,null,4.0,4.0,4.0,1.0,8.0,8.0,1.0,1.0,0.0,5.0,2.0,0.0,0.0,4.0,null,0.0,0.0,1.0,0.0,null,1.0,1.0,1.0,4.0,11.0,0.0,null,0.0,1.0,null,0.0,0.0,1.0,9.0,1.0,8.0,0.0,0.0,8.0,1.0,6.0,1.0,1.0,9.0,1.0,0.0,0.0,null,0.0,null,12.0,0.0,0.0,0.0,1.0,9.0,2.0,0.0,8.0,0.0,1.0,1.0,2.0,9.0,1.0,1.0,0.0,5.0,1.0,13.0,4.0,4.0,8.0,1.0,0.0,1.0,1.0,9.0,9.0,0.0,1.0,8.0,null,0.0,1.0,8.0,0.0,1.0,0.0,null,null,0.0,0.0,0.0,0.0,0.0,0.0,0.0,0.0,1.0,1.0,0.0,0.0,0.0,1.0,4.0,1.0,0.0,1.0,1.0,0.0,0.0,0.0,13.0,1.0,1.0,9.0,0.0,null,null,1.0,null,2.0,1.0,0.0,0.0,1.0,1.0,1.0,0.0,9.0,null,1.0,1.0,0.0,4.0,0.0,1.0,1.0,null,0.0,1.0,3.0,1.0,null,8.0,0.0,0.0,0.0,5.0,0.0,0.0,1.0,1.0,1.0,0.0,0.0,8.0,3.0,1.0,1.0,0.0,1.0,1.0,6.0,3.0,1.0,0.0,null,0.0,1.0,1.0,4.0,0.0,null,0.0,6.0,null,0.0,null,7.0,3.0,1.0,2.0,1.0,0.0,0.0,0.0,0.0,9.0,0.0,0.0,9.0,0.0,2.0,8.0,null,null,3.0,0.0,0.0,1.0,1.0,0.0,1.0,null,0.0,0.0,null,4.0,14.0,null,null,2.0,7.0,6.0,1.0,1.0,1.0,2.0,8.0,1.0,0.0,4.0,0.0,0.0,9.0,1.0,null,null,0.0,4.0,1.0,null,null,0.0,null,9.0,0.0,1.0,1.0,1.0,null,1.0,0.0,1.0,7.0,1.0,9.0,0.0,1.0,5.0,0.0,null,9.0,1.0,1.0,1.0,0.0,1.0,1.0,6.0,0.0,1.0,0.0,null,0.0,null,9.0,0.0,1.0,0.0,1.0,null,9.0,6.0,0.0,0.0,null,1.0,1.0,4.0,null,null,0.0,4.0,null,0.0,8.0,0.0,2.0,1.0,1.0,4.0,1.0,1.0,0.0,0.0,12.0,null,0.0,12.0,1.0,1.0,1.0,null,1.0,2.0,0.0,1.0,1.0,0.0,null,8.0,4.0,1.0,0.0,1.0,1.0,0.0,1.0,0.0,0.0,1.0,9.0,0.0,1.0,4.0,3.0,0.0,1.0,10.0,9.0,9.0,1.0,8.0,null,7.0,0.0,0.0,0.0,3.0,0.0,1.0,null,1.0,1.0,3.0,0.0,1.0,0.0,7.0,null,2.0,3.0,6.0,0.0,8.0,1.0,0.0,1.0,8.0,1.0,0.0,0.0,0.0,1.0,5.0,12.0,1.0,0.0,4.0,null,1.0,1.0,0.0,5.0,14.0,1.0,13.0,2.0,0.0,0.0,0.0,1.0,9.0,1.0,12.0,13.0,7.0,1.0,null,1.0,1.0,1.0,0.0,1.0,1.0,null,1.0,0.0,5.0,1.0,0.0,0.0,3.0,0.0,null,0.0,9.0,9.0,0.0,8.0,1.0,7.0,6.0,5.0,8.0,1.0,0.0,8.0,0.0,null,9.0,13.0,8.0,5.0,4.0,2.0,1.0,0.0,9.0,3.0,1.0,0.0,0.0,0.0,5.0,1.0,3.0,9.0,1.0,9.0,null,9.0,8.0,2.0,1.0,9.0,1.0,2.0,0.0,11.0,1.0,0.0,0.0,0.0,9.0,0.0,2.0,1.0,0.0,null,9.0,9.0,1.0,0.0,5.0,2.0,0.0,0.0,null,0.0,12.0,0.0,0.0,0.0,null,0.0,3.0,8.0,8.0,11.0,9.0,0.0,0.0,14.0,0.0,0.0,null,5.0,null,1.0,0.0,0.0,5.0,0.0,null,0.0,1.0,null,4.0,1.0,1.0,1.0,1.0,1.0,9.0,0.0,0.0,null,5.0,1.0,null,1.0,null,null,2.0,null,1.0,6.0,0.0,1.0,1.0,2.0,10.0,8.0,0.0,0.0,9.0,1.0,0.0,0.0,1.0,1.0,1.0,1.0,0.0,8.0,null,8.0,2.0,0.0,14.0,1.0,0.0,9.0,1.0,0.0,8.0,1.0,8.0,null,1.0,1.0,3.0,1.0,1.0,8.0,2.0,1.0,0.0,6.0,1.0,null,1.0,6.0,3.0,0.0,0.0,3.0,8.0,1.0,2.0,0.0,1.0,1.0,0.0,0.0,0.0,1.0,0.0,1.0,1.0,5.0,6.0,0.0,0.0,1.0,0.0,0.0,0.0,6.0,2.0,1.0,0.0,0.0,0.0,2.0,9.0,1.0,0.0,1.0,1.0,0.0,1.0,9.0,1.0,0.0,2.0,1.0,9.0,1.0,1.0,7.0,0.0,9.0,null,0.0,1.0,1.0,9.0,13.0,0.0,0.0,1.0,0.0,2.0,2.0,null,0.0,2.0,0.0,1.0,0.0,8.0,3.0,1.0,8.0,0.0,0.0,4.0,9.0,0.0,6.0,1.0,3.0,null,7.0,0.0,0.0,3.0,1.0,3.0,9.0,3.0,null,0.0,1.0,5.0,11.0,1.0,4.0,8.0,null,5.0,7.0,1.0,9.0,0.0,0.0,4.0,1.0,1.0,0.0,0.0,0.0,null,1.0,null,1.0,12.0,1.0,null,null,9.0,3.0,0.0,1.0,4.0,9.0,1.0,1.0,0.0,0.0,null,8.0,1.0,9.0,1.0,1.0,0.0,1.0,0.0,6.0,5.0,1.0,null,7.0,0.0,1.0,5.0,1.0,8.0,0.0,9.0,1.0,8.0,1.0,1.0,1.0,0.0,5.0,1.0,1.0,1.0,6.0,0.0,1.0,9.0,1.0,8.0,0.0,1.0,0.0,0.0,null,1.0,6.0,1.0,9.0,0.0,0.0,5.0,4.0,0.0,0.0,null,0.0,0.0,7.0,null,1.0,1.0,0.0,4.0,8.0,null,4.0,4.0,11.0,5.0,1.0,0.0,0.0,0.0,9.0,9.0,3.0,1.0,1.0,0.0,null,0.0,0.0,8.0,4.0,0.0,1.0,1.0,3.0,7.0,5.0,1.0,0.0,1.0,1.0,8.0,0.0,0.0,8.0,1.0,1.0,0.0,0.0,0.0,1.0,1.0,6.0,0.0,0.0,0.0,null,2.0,null,1.0,0.0,null,null,7.0,3.0,11.0,8.0,null,8.0,0.0,1.0,1.0,null,1.0,6.0,1.0,1.0,9.0,1.0,7.0,1.0,0.0,0.0,1.0,4.0,1.0,1.0,1.0,0.0,6.0,8.0,6.0,0.0,1.0,0.0,9.0,2.0,0.0,null,0.0,1.0,1.0,8.0,1.0,1.0,1.0,8.0,1.0,2.0,7.0,0.0,0.0,0.0,0.0,4.0,2.0,2.0,null,0.0,8.0,4.0,0.0,0.0,0.0,4.0,1.0,0.0,1.0,8.0,null,0.0,2.0,1.0,0.0,1.0,1.0,0.0,0.0,0.0,null,1.0,1.0,0.0,1.0,0.0,0.0,8.0,7.0,1.0,null,4.0,7.0,0.0,9.0,8.0,1.0,8.0,13.0,7.0,0.0,9.0,1.0,1.0,5.0,1.0,7.0,null,8.0,null,2.0,null,1.0,1.0,9.0,9.0,8.0,null,1.0,1.0,1.0,4.0,1.0,3.0,4.0,1.0,5.0,1.0,4.0,1.0,0.0,4.0,0.0,1.0,0.0,14.0,10.0,1.0,null,1.0,0.0,1.0,2.0,0.0,0.0,1.0,0.0,3.0,0.0,0.0,0.0,1.0,2.0,1.0,8.0,8.0,null,8.0,1.0,2.0,8.0,2.0,1.0,1.0,10.0,9.0,0.0,1.0,0.0,9.0,null,1.0,9.0,1.0,0.0,5.0,0.0,null,1.0,0.0,null,0.0,null,0.0,null,0.0,0.0,4.0,0.0,3.0,0.0,0.0,6.0,1.0,1.0,1.0,9.0,0.0,0.0,0.0,1.0,0.0,1.0,1.0,1.0,1.0,1.0,1.0,1.0,1.0,null,1.0,1.0,0.0,0.0,7.0,0.0,6.0,9.0,0.0,1.0,1.0,0.0,null,2.0,8.0,4.0,null,null,3.0,null,1.0,3.0,null,null,0.0,6.0,9.0,3.0,0.0,4.0,8.0,1.0,null,0.0,0.0,0.0,1.0,null,0.0,0.0,9.0,7.0,8.0,0.0,9.0,0.0,1.0,9.0,0.0,0.0,8.0,0.0,5.0,9.0,1.0,1.0,1.0,8.0,0.0,0.0,null,0.0,1.0,0.0,1.0,5.0,4.0,9.0,0.0,0.0,0.0,1.0,null,0.0,1.0,0.0,0.0,0.0,3.0,null,0.0,1.0,8.0,1.0,1.0,1.0,null,0.0,9.0,1.0,1.0,1.0,null,0.0,0.0,0.0,8.0,1.0,0.0,13.0,0.0,0.0,0.0,1.0,4.0,9.0,2.0,1.0,8.0,1.0,8.0,1.0,1.0,1.0,0.0,1.0,0.0,1.0,1.0,1.0,null,1.0,8.0,null,4.0,null,1.0,1.0,0.0,8.0,9.0,0.0,0.0,0.0,null,8.0,0.0,1.0,0.0,1.0,9.0,1.0,2.0,5.0,1.0,0.0,2.0,3.0,8.0,13.0,0.0,9.0,null,1.0,0.0,0.0,1.0,null,3.0,null,0.0,1.0,14.0,0.0,6.0,1.0,1.0,1.0,1.0,0.0,1.0,1.0,0.0,0.0,0.0,9.0,3.0,1.0,0.0,0.0,7.0,3.0,0.0,3.0,1.0,null,4.0,null,0.0,0.0,null,4.0,2.0,0.0,1.0,0.0,null,8.0,0.0,0.0,null,1.0,2.0,9.0,9.0,1.0,1.0,1.0,1.0,0.0,1.0,5.0,1.0,0.0,1.0,0.0,0.0,9.0,4.0,1.0,5.0,1.0,1.0,8.0,0.0,7.0,0.0,9.0,0.0,4.0,2.0,12.0,1.0,0.0,0.0,7.0,0.0,0.0,0.0,0.0,9.0,1.0,0.0,0.0,0.0,4.0,0.0,1.0,1.0,1.0,0.0,0.0,4.0,1.0,1.0,0.0,0.0,0.0,0.0,1.0,1.0,8.0,8.0,11.0,1.0,8.0,0.0,6.0,1.0,0.0,0.0,0.0,null,0.0,1.0,0.0,9.0,1.0,0.0,1.0,null,1.0,8.0,1.0,0.0,0.0,1.0,0.0,9.0,3.0,0.0,0.0,8.0,1.0,3.0,1.0,1.0,1.0,1.0,0.0,0.0,null,0.0,9.0,0.0,0.0,0.0,0.0,1.0,null,10.0,1.0,0.0,2.0,0.0,1.0,null,9.0,1.0,9.0,0.0,null,1.0,null,0.0,1.0,11.0,0.0,2.0,9.0,1.0,0.0,0.0,7.0,11.0,1.0,0.0,8.0,1.0,0.0,0.0,null,1.0,0.0,11.0,0.0,0.0,0.0,2.0,3.0,null,1.0,0.0,1.0,1.0,1.0,1.0,null,0.0,0.0,0.0,14.0,6.0,1.0,null,1.0,0.0,null,1.0,0.0,1.0,8.0,4.0,null,5.0,1.0,1.0,3.0,1.0,1.0,5.0,0.0,1.0,2.0,null,1.0,null,0.0,null,0.0,1.0,1.0,0.0,1.0,1.0,1.0,0.0,2.0,1.0,0.0,1.0,null,0.0,9.0,6.0,0.0,4.0,0.0,null,1.0,4.0,5.0,null,0.0,1.0,0.0,5.0,0.0,4.0,2.0,1.0,0.0,9.0,null,3.0,0.0,1.0,3.0,8.0,0.0,null,9.0,5.0,1.0,0.0,null,0.0,2.0,null,3.0,2.0,1.0,1.0,9.0,9.0,0.0,0.0,null,0.0,1.0,0.0,null,null,1.0,1.0,null,6.0,9.0,0.0,1.0,0.0,null,5.0,null,1.0,null,0.0,9.0,4.0,0.0,8.0,0.0,1.0,6.0,1.0,null,7.0,0.0,0.0,3.0,9.0,2.0,1.0,11.0,1.0,7.0,1.0,0.0,1.0,1.0,10.0,8.0,1.0,1.0,0.0,0.0,3.0,6.0,1.0,5.0,0.0,1.0,10.0,1.0,1.0,0.0,9.0,0.0,1.0,0.0,0.0,0.0,null,1.0,9.0,8.0,1.0,3.0,1.0,0.0,null,1.0,null,1.0,1.0,0.0,1.0,4.0,5.0,9.0,0.0,7.0,8.0,null,1.0,6.0,0.0,5.0,3.0,null,null,1.0,1.0,0.0,1.0,null,3.0,1.0,null,0.0,8.0,4.0,1.0,9.0,0.0,0.0,1.0,1.0,6.0,8.0,1.0,3.0,1.0,1.0,0.0,5.0,0.0,1.0,9.0,11.0,4.0,null,10.0,0.0,14.0,null,1.0,9.0,3.0,0.0,6.0,9.0,1.0,1.0,0.0,1.0,1.0,2.0,1.0,0.0,1.0,1.0,0.0,3.0,2.0,1.0,0.0,1.0,0.0,6.0,1.0,0.0,12.0,null,1.0,0.0,0.0,1.0,0.0,0.0,null,0.0,4.0,9.0,0.0,11.0,null,1.0,0.0,1.0,1.0,9.0,1.0,1.0,10.0,8.0,7.0,8.0,null,0.0,8.0,0.0,1.0,1.0,1.0,4.0,12.0,1.0,1.0,1.0,1.0,0.0,0.0,1.0,0.0,1.0,5.0,1.0,null,null,1.0,0.0,0.0,null,0.0,4.0,0.0,1.0,1.0,8.0,0.0,0.0,1.0,9.0,11.0,1.0,5.0,0.0,1.0,null,1.0,null,3.0,0.0,6.0,6.0,0.0,null,1.0,6.0,0.0,0.0,2.0,1.0,9.0,0.0,null,1.0,0.0,null,1.0,1.0,null,8.0,2.0,4.0,2.0,9.0,0.0,8.0,0.0,5.0,9.0,1.0,8.0,4.0,0.0,0.0,0.0,6.0,1.0,0.0,null,0.0,8.0,1.0,0.0,1.0,1.0,9.0,1.0,5.0,0.0,1.0,0.0,1.0,1.0,7.0,1.0,1.0,9.0,1.0,0.0,null,9.0,1.0,null,1.0,10.0,3.0,8.0,0.0,1.0,0.0,0.0,0.0,null,null,null,1.0,1.0,0.0,0.0,0.0,9.0,13.0,9.0,0.0,1.0,0.0,10.0,1.0,1.0,9.0,1.0,8.0,13.0,1.0,9.0,null,null,0.0,7.0,0.0,1.0,0.0,1.0,9.0,null,6.0,1.0,1.0,6.0,null,0.0,1.0,1.0,1.0,1.0,9.0,1.0,2.0,7.0,null,null,8.0,8.0,1.0,1.0,0.0,0.0,2.0,0.0,null,1.0,7.0,0.0,5.0,0.0,null,1.0,1.0,null,12.0,4.0,5.0,0.0,4.0,1.0,6.0,0.0,9.0,null,null,1.0,null,0.0,3.0,2.0,1.0,0.0,1.0,0.0,1.0,8.0,1.0,null,null,1.0,8.0,0.0,0.0,null,null,7.0,0.0,8.0,null,8.0,1.0,0.0,8.0,1.0,0.0,3.0,1.0,0.0,0.0,0.0,0.0,0.0,1.0,null,4.0,11.0,8.0,5.0,8.0,1.0,0.0,2.0,1.0,3.0,null,null,1.0,1.0,1.0,5.0,0.0,1.0,1.0,0.0,0.0,8.0,9.0,9.0,0.0,9.0,0.0,0.0,1.0,1.0,3.0,0.0,1.0,0.0,0.0,null,null,0.0,9.0,0.0,1.0,null,null,0.0,9.0,null,0.0,null,4.0,null,null,0.0,5.0,2.0,null,4.0,9.0,1.0,2.0,1.0,0.0,1.0,1.0,3.0,0.0,1.0,1.0,5.0,0.0,null,1.0,0.0,2.0,0.0,8.0,6.0,1.0,7.0,0.0,0.0,1.0,null,0.0,null,6.0,1.0,1.0,1.0,0.0,6.0,1.0,null,11.0,0.0,null,1.0,0.0,1.0,7.0,6.0,2.0,3.0,0.0,9.0,0.0,1.0,1.0,0.0,1.0,0.0,2.0,9.0,null,null,1.0,0.0,9.0,3.0,0.0,0.0,0.0,9.0,null,1.0,1.0,0.0,5.0,2.0,8.0,5.0,4.0,0.0,0.0,9.0,3.0,1.0,0.0,4.0,1.0,1.0,5.0,1.0,6.0,0.0,0.0,null,1.0,0.0,2.0,1.0,0.0,0.0,1.0,1.0,0.0,9.0,8.0,1.0,1.0,0.0,0.0,null,0.0,0.0,0.0,4.0,1.0,1.0,0.0,13.0,2.0,2.0,null,0.0,1.0,0.0,1.0,9.0,8.0,null,null,3.0,0.0,3.0,0.0,2.0,0.0,1.0,1.0,2.0,7.0,null,0.0,5.0,6.0,6.0,9.0,1.0,1.0,0.0,1.0,0.0,4.0,1.0,0.0,1.0,1.0,3.0,null,1.0,1.0,0.0,1.0,1.0,0.0,0.0,9.0,6.0,0.0,null,0.0,0.0,null,null,0.0,0.0,9.0,0.0,1.0,0.0,0.0,0.0,13.0,1.0,0.0,9.0,0.0,9.0,8.0,0.0,null,0.0,0.0,1.0,8.0,1.0,1.0,0.0,1.0,0.0,1.0,1.0,2.0,0.0,0.0,1.0,8.0,0.0,4.0,0.0,9.0,1.0,1.0,9.0,0.0,null,0.0,1.0,1.0,3.0,1.0,null,3.0,0.0,9.0,2.0,0.0,9.0,4.0,0.0,0.0,1.0,null,4.0,null,2.0,0.0,8.0,1.0,0.0,0.0,0.0,1.0,5.0,9.0,8.0,1.0,9.0,0.0,7.0,0.0,0.0,0.0,0.0,13.0,6.0,0.0,null,9.0,1.0,1.0,1.0,8.0,1.0,12.0,0.0,1.0,7.0,1.0,0.0,0.0,1.0,1.0,5.0,8.0,0.0,5.0,1.0,0.0,1.0,8.0,0.0,4.0,9.0,3.0,8.0,null,4.0,9.0,8.0,1.0,13.0,1.0,1.0,5.0,1.0,8.0,1.0,2.0,2.0,8.0,6.0,3.0,2.0,1.0,1.0,null,null,1.0,0.0,0.0,1.0,1.0,1.0,1.0,0.0,1.0,1.0,1.0,0.0,0.0,null,0.0,0.0,1.0,1.0,12.0,5.0,8.0,0.0,1.0,9.0,0.0,1.0,1.0,9.0,8.0,9.0,0.0,1.0,null,0.0,1.0,0.0,8.0,1.0,1.0,0.0,2.0,0.0,5.0,0.0,null,0.0,0.0,1.0,3.0,0.0,0.0,0.0,1.0,9.0,null,9.0,1.0,9.0,0.0,0.0,1.0,0.0,0.0,5.0,3.0,1.0,1.0,1.0,1.0,0.0,3.0,8.0,1.0,null,1.0,9.0,9.0,1.0,8.0,1.0,1.0,null,0.0,1.0,0.0,6.0,1.0,0.0,0.0,1.0,1.0,null,1.0,0.0,1.0,0.0,0.0,0.0,0.0,1.0,7.0,0.0,0.0,3.0,3.0,1.0,1.0,0.0,3.0,0.0,1.0,0.0,1.0,6.0,1.0,0.0,2.0,1.0,1.0,1.0,0.0,1.0,0.0,9.0,1.0,1.0,null,1.0,4.0,1.0,1.0,6.0,1.0,1.0,1.0,null,0.0,0.0,14.0,7.0,4.0,1.0,1.0,8.0,1.0,null,0.0,1.0,0.0,0.0,1.0,0.0,7.0,0.0,9.0,0.0,null,null,0.0,0.0,9.0,2.0,1.0,1.0,8.0,8.0,0.0,7.0,null,0.0,1.0,1.0,0.0,1.0,4.0,9.0,13.0,null,1.0,0.0,4.0,6.0,1.0,3.0,8.0,1.0,0.0,0.0,null,4.0,1.0,14.0,1.0,3.0,0.0,null,9.0,null,0.0,8.0,8.0,1.0,1.0,0.0,8.0,1.0,0.0,3.0,0.0,0.0,0.0,0.0,3.0,1.0,1.0,0.0],\"y\":[0,1,2,3,4,5,6,7,8,9,10,11,12,13,14,15,16,17,18,19,20,21,22,23,24,25,26,27,28,29,30,31,32,33,34,35,36,37,38,39,40,41,42,43,44,45,46,47,48,49,50,51,52,53,54,55,56,57,58,59,60,61,62,63,64,65,66,67,68,69,70,71,72,73,74,75,76,77,78,79,80,81,82,83,84,85,86,87,88,89,90,91,92,93,94,95,96,97,98,99,100,101,102,103,104,105,106,107,108,109,110,111,112,113,114,115,116,117,118,119,120,121,122,123,124,125,126,127,128,129,130,131,132,133,134,135,136,137,138,139,140,141,142,143,144,145,146,147,148,149,150,151,152,153,154,155,156,157,158,159,160,161,162,163,164,165,166,167,168,169,170,171,172,173,174,175,176,177,178,179,180,181,182,183,184,185,186,187,188,189,190,191,192,193,194,195,196,197,198,199,200,201,202,203,204,205,206,207,208,209,210,211,212,213,214,215,216,217,218,219,220,221,222,223,224,225,226,227,228,229,230,231,232,233,234,235,236,237,238,239,240,241,242,243,244,245,246,247,248,249,250,251,252,253,254,255,256,257,258,259,260,261,262,263,264,265,266,267,268,269,270,271,272,273,274,275,276,277,278,279,280,281,282,283,284,285,286,287,288,289,290,291,292,293,294,295,296,297,298,299,300,301,302,303,304,305,306,307,308,309,310,311,312,313,314,315,316,317,318,319,320,321,322,323,324,325,326,327,328,329,330,331,332,333,334,335,336,337,338,339,340,341,342,343,344,345,346,347,348,349,350,351,352,353,354,355,356,357,358,359,360,361,362,363,364,365,366,367,368,369,370,371,372,373,374,375,376,377,378,379,380,381,382,383,384,385,386,387,388,389,390,391,392,393,394,395,396,397,398,399,400,401,402,403,404,405,406,407,408,409,410,411,412,413,414,415,416,417,418,419,420,421,422,423,424,425,426,427,428,429,430,431,432,433,434,435,436,437,438,439,440,441,442,443,444,445,446,447,448,449,450,451,452,453,454,455,456,457,458,459,460,461,462,463,464,465,466,467,468,469,470,471,472,473,474,475,476,477,478,479,480,481,482,483,484,485,486,487,488,489,490,491,492,493,494,495,496,497,498,499,500,501,502,503,504,505,506,507,508,509,510,511,512,513,514,515,516,517,518,519,520,521,522,523,524,525,526,527,528,529,530,531,532,533,534,535,536,537,538,539,540,541,542,543,544,545,546,547,548,549,550,551,552,553,554,555,556,557,558,559,560,561,562,563,564,565,566,567,568,569,570,571,572,573,574,575,576,577,578,579,580,581,582,583,584,585,586,587,588,589,590,591,592,593,594,595,596,597,598,599,600,601,602,603,604,605,606,607,608,609,610,611,612,613,614,615,616,617,618,619,620,621,622,623,624,625,626,627,628,629,630,631,632,633,634,635,636,637,638,639,640,641,642,643,644,645,646,647,648,649,650,651,652,653,654,655,656,657,658,659,660,661,662,663,664,665,666,667,668,669,670,671,672,673,674,675,676,677,678,679,680,681,682,683,684,685,686,687,688,689,690,691,692,693,694,695,696,697,698,699,700,701,702,703,704,705,706,707,708,709,710,711,712,713,714,715,716,717,718,719,720,721,722,723,724,725,726,727,728,729,730,731,732,733,734,735,736,737,738,739,740,741,742,743,744,745,746,747,748,749,750,751,752,753,754,755,756,757,758,759,760,761,762,763,764,765,766,767,768,769,770,771,772,773,774,775,776,777,778,779,780,781,782,783,784,785,786,787,788,789,790,791,792,793,794,795,796,797,798,799,800,801,802,803,804,805,806,807,808,809,810,811,812,813,814,815,816,817,818,819,820,821,822,823,824,825,826,827,828,829,830,831,832,833,834,835,836,837,838,839,840,841,842,843,844,845,846,847,848,849,850,851,852,853,854,855,856,857,858,859,860,861,862,863,864,865,866,867,868,869,870,871,872,873,874,875,876,877,878,879,880,881,882,883,884,885,886,887,888,889,890,891,892,893,894,895,896,897,898,899,900,901,902,903,904,905,906,907,908,909,910,911,912,913,914,915,916,917,918,919,920,921,922,923,924,925,926,927,928,929,930,931,932,933,934,935,936,937,938,939,940,941,942,943,944,945,946,947,948,949,950,951,952,953,954,955,956,957,958,959,960,961,962,963,964,965,966,967,968,969,970,971,972,973,974,975,976,977,978,979,980,981,982,983,984,985,986,987,988,989,990,991,992,993,994,995,996,997,998,999,1000,1001,1002,1003,1004,1005,1006,1007,1008,1009,1010,1011,1012,1013,1014,1015,1016,1017,1018,1019,1020,1021,1022,1023,1024,1025,1026,1027,1028,1029,1030,1031,1032,1033,1034,1035,1036,1037,1038,1039,1040,1041,1042,1043,1044,1045,1046,1047,1048,1049,1050,1051,1052,1053,1054,1055,1056,1057,1058,1059,1060,1061,1062,1063,1064,1065,1066,1067,1068,1069,1070,1071,1072,1073,1074,1075,1076,1077,1078,1079,1080,1081,1082,1083,1084,1085,1086,1087,1088,1089,1090,1091,1092,1093,1094,1095,1096,1097,1098,1099,1100,1101,1102,1103,1104,1105,1106,1107,1108,1109,1110,1111,1112,1113,1114,1115,1116,1117,1118,1119,1120,1121,1122,1123,1124,1125,1126,1127,1128,1129,1130,1131,1132,1133,1134,1135,1136,1137,1138,1139,1140,1141,1142,1143,1144,1145,1146,1147,1148,1149,1150,1151,1152,1153,1154,1155,1156,1157,1158,1159,1160,1161,1162,1163,1164,1165,1166,1167,1168,1169,1170,1171,1172,1173,1174,1175,1176,1177,1178,1179,1180,1181,1182,1183,1184,1185,1186,1187,1188,1189,1190,1191,1192,1193,1194,1195,1196,1197,1198,1199,1200,1201,1202,1203,1204,1205,1206,1207,1208,1209,1210,1211,1212,1213,1214,1215,1216,1217,1218,1219,1220,1221,1222,1223,1224,1225,1226,1227,1228,1229,1230,1231,1232,1233,1234,1235,1236,1237,1238,1239,1240,1241,1242,1243,1244,1245,1246,1247,1248,1249,1250,1251,1252,1253,1254,1255,1256,1257,1258,1259,1260,1261,1262,1263,1264,1265,1266,1267,1268,1269,1270,1271,1272,1273,1274,1275,1276,1277,1278,1279,1280,1281,1282,1283,1284,1285,1286,1287,1288,1289,1290,1291,1292,1293,1294,1295,1296,1297,1298,1299,1300,1301,1302,1303,1304,1305,1306,1307,1308,1309,1310,1311,1312,1313,1314,1315,1316,1317,1318,1319,1320,1321,1322,1323,1324,1325,1326,1327,1328,1329,1330,1331,1332,1333,1334,1335,1336,1337,1338,1339,1340,1341,1342,1343,1344,1345,1346,1347,1348,1349,1350,1351,1352,1353,1354,1355,1356,1357,1358,1359,1360,1361,1362,1363,1364,1365,1366,1367,1368,1369,1370,1371,1372,1373,1374,1375,1376,1377,1378,1379,1380,1381,1382,1383,1384,1385,1386,1387,1388,1389,1390,1391,1392,1393,1394,1395,1396,1397,1398,1399,1400,1401,1402,1403,1404,1405,1406,1407,1408,1409,1410,1411,1412,1413,1414,1415,1416,1417,1418,1419,1420,1421,1422,1423,1424,1425,1426,1427,1428,1429,1430,1431,1432,1433,1434,1435,1436,1437,1438,1439,1440,1441,1442,1443,1444,1445,1446,1447,1448,1449,1450,1451,1452,1453,1454,1455,1456,1457,1458,1459,1460,1461,1462,1463,1464,1465,1466,1467,1468,1469,1470,1471,1472,1473,1474,1475,1476,1477,1478,1479,1480,1481,1482,1483,1484,1485,1486,1487,1488,1489,1490,1491,1492,1493,1494,1495,1496,1497,1498,1499,1500,1501,1502,1503,1504,1505,1506,1507,1508,1509,1510,1511,1512,1513,1514,1515,1516,1517,1518,1519,1520,1521,1522,1523,1524,1525,1526,1527,1528,1529,1530,1531,1532,1533,1534,1535,1536,1537,1538,1539,1540,1541,1542,1543,1544,1545,1546,1547,1548,1549,1550,1551,1552,1553,1554,1555,1556,1557,1558,1559,1560,1561,1562,1563,1564,1565,1566,1567,1568,1569,1570,1571,1572,1573,1574,1575,1576,1577,1578,1579,1580,1581,1582,1583,1584,1585,1586,1587,1588,1589,1590,1591,1592,1593,1594,1595,1596,1597,1598,1599,1600,1601,1602,1603,1604,1605,1606,1607,1608,1609,1610,1611,1612,1613,1614,1615,1616,1617,1618,1619,1620,1621,1622,1623,1624,1625,1626,1627,1628,1629,1630,1631,1632,1633,1634,1635,1636,1637,1638,1639,1640,1641,1642,1643,1644,1645,1646,1647,1648,1649,1650,1651,1652,1653,1654,1655,1656,1657,1658,1659,1660,1661,1662,1663,1664,1665,1666,1667,1668,1669,1670,1671,1672,1673,1674,1675,1676,1677,1678,1679,1680,1681,1682,1683,1684,1685,1686,1687,1688,1689,1690,1691,1692,1693,1694,1695,1696,1697,1698,1699,1700,1701,1702,1703,1704,1705,1706,1707,1708,1709,1710,1711,1712,1713,1714,1715,1716,1717,1718,1719,1720,1721,1722,1723,1724,1725,1726,1727,1728,1729,1730,1731,1732,1733,1734,1735,1736,1737,1738,1739,1740,1741,1742,1743,1744,1745,1746,1747,1748,1749,1750,1751,1752,1753,1754,1755,1756,1757,1758,1759,1760,1761,1762,1763,1764,1765,1766,1767,1768,1769,1770,1771,1772,1773,1774,1775,1776,1777,1778,1779,1780,1781,1782,1783,1784,1785,1786,1787,1788,1789,1790,1791,1792,1793,1794,1795,1796,1797,1798,1799,1800,1801,1802,1803,1804,1805,1806,1807,1808,1809,1810,1811,1812,1813,1814,1815,1816,1817,1818,1819,1820,1821,1822,1823,1824,1825,1826,1827,1828,1829,1830,1831,1832,1833,1834,1835,1836,1837,1838,1839,1840,1841,1842,1843,1844,1845,1846,1847,1848,1849,1850,1851,1852,1853,1854,1855,1856,1857,1858,1859,1860,1861,1862,1863,1864,1865,1866,1867,1868,1869,1870,1871,1872,1873,1874,1875,1876,1877,1878,1879,1880,1881,1882,1883,1884,1885,1886,1887,1888,1889,1890,1891,1892,1893,1894,1895,1896,1897,1898,1899,1900,1901,1902,1903,1904,1905,1906,1907,1908,1909,1910,1911,1912,1913,1914,1915,1916,1917,1918,1919,1920,1921,1922,1923,1924,1925,1926,1927,1928,1929,1930,1931,1932,1933,1934,1935,1936,1937,1938,1939,1940,1941,1942,1943,1944,1945,1946,1947,1948,1949,1950,1951,1952,1953,1954,1955,1956,1957,1958,1959,1960,1961,1962,1963,1964,1965,1966,1967,1968,1969,1970,1971,1972,1973,1974,1975,1976,1977,1978,1979,1980,1981,1982,1983,1984,1985,1986,1987,1988,1989,1990,1991,1992,1993,1994,1995,1996,1997,1998,1999,2000,2001,2002,2003,2004,2005,2006,2007,2008,2009,2010,2011,2012,2013,2014,2015,2016,2017,2018,2019,2020,2021,2022,2023,2024,2025,2026,2027,2028,2029,2030,2031,2032,2033,2034,2035,2036,2037,2038,2039,2040,2041,2042,2043,2044,2045,2046,2047,2048,2049,2050,2051,2052,2053,2054,2055,2056,2057,2058,2059,2060,2061,2062,2063,2064,2065,2066,2067,2068,2069,2070,2071,2072,2073,2074,2075,2076,2077,2078,2079,2080,2081,2082,2083,2084,2085,2086,2087,2088,2089,2090,2091,2092,2093,2094,2095,2096,2097,2098,2099,2100,2101,2102,2103,2104,2105,2106,2107,2108,2109,2110,2111,2112,2113,2114,2115,2116,2117,2118,2119,2120,2121,2122,2123,2124,2125,2126,2127,2128,2129,2130,2131,2132,2133,2134,2135,2136,2137,2138,2139,2140,2141,2142,2143,2144,2145,2146,2147,2148,2149,2150,2151,2152,2153,2154,2155,2156,2157,2158,2159,2160,2161,2162,2163,2164,2165,2166,2167,2168,2169,2170,2171,2172,2173,2174,2175,2176,2177,2178,2179,2180,2181,2182,2183,2184,2185,2186,2187,2188,2189,2190,2191,2192,2193,2194,2195,2196,2197,2198,2199,2200,2201,2202,2203,2204,2205,2206,2207,2208,2209,2210,2211,2212,2213,2214,2215,2216,2217,2218,2219,2220,2221,2222,2223,2224,2225,2226,2227,2228,2229,2230,2231,2232,2233,2234,2235,2236,2237,2238,2239,2240,2241,2242,2243,2244,2245,2246,2247,2248,2249,2250,2251,2252,2253,2254,2255,2256,2257,2258,2259,2260,2261,2262,2263,2264,2265,2266,2267,2268,2269,2270,2271,2272,2273,2274,2275,2276,2277,2278,2279,2280,2281,2282,2283,2284,2285,2286,2287,2288,2289,2290,2291,2292,2293,2294,2295,2296,2297,2298,2299,2300,2301,2302,2303,2304,2305,2306,2307,2308,2309,2310,2311,2312,2313,2314,2315,2316,2317,2318,2319,2320,2321,2322,2323,2324,2325,2326,2327,2328,2329,2330,2331,2332,2333,2334,2335,2336,2337,2338,2339,2340,2341,2342,2343,2344,2345,2346,2347,2348,2349,2350,2351,2352,2353,2354,2355,2356,2357,2358,2359,2360,2361,2362,2363,2364,2365,2366,2367,2368,2369,2370,2371,2372,2373,2374,2375,2376,2377,2378,2379,2380,2381,2382,2383,2384,2385,2386,2387,2388,2389,2390,2391,2392,2393,2394,2395,2396,2397,2398,2399,2400,2401,2402,2403,2404,2405,2406,2407,2408,2409,2410,2411,2412,2413,2414,2415,2416,2417,2418,2419,2420,2421,2422,2423,2424,2425,2426,2427,2428,2429,2430,2431,2432,2433,2434,2435,2436,2437,2438,2439,2440,2441,2442,2443,2444,2445,2446,2447,2448,2449,2450,2451,2452,2453,2454,2455,2456,2457,2458,2459,2460,2461,2462,2463,2464,2465,2466,2467,2468,2469,2470,2471,2472,2473,2474,2475,2476,2477,2478,2479,2480,2481,2482,2483,2484,2485,2486,2487,2488,2489,2490,2491,2492,2493,2494,2495,2496,2497,2498,2499,2500,2501,2502,2503,2504,2505,2506,2507,2508,2509,2510,2511,2512,2513,2514,2515,2516,2517,2518,2519,2520,2521,2522,2523,2524,2525,2526,2527,2528,2529,2530,2531,2532,2533,2534,2535,2536,2537,2538,2539,2540,2541,2542,2543,2544,2545,2546,2547,2548,2549,2550,2551,2552,2553,2554,2555,2556,2557,2558,2559,2560,2561,2562,2563,2564,2565,2566,2567,2568,2569,2570,2571,2572,2573,2574,2575,2576,2577,2578,2579,2580,2581,2582,2583,2584,2585,2586,2587,2588,2589,2590,2591,2592,2593,2594,2595,2596,2597,2598,2599,2600,2601,2602,2603,2604,2605,2606,2607,2608,2609,2610,2611,2612,2613,2614,2615,2616,2617,2618,2619,2620,2621,2622,2623,2624,2625,2626,2627,2628,2629,2630,2631,2632,2633,2634,2635,2636,2637,2638,2639,2640,2641,2642,2643,2644,2645,2646,2647,2648,2649,2650,2651,2652,2653,2654,2655,2656,2657,2658,2659,2660,2661,2662,2663,2664,2665,2666,2667,2668,2669,2670,2671,2672,2673,2674,2675,2676,2677,2678,2679,2680,2681,2682,2683,2684,2685,2686,2687,2688,2689,2690,2691,2692,2693,2694,2695,2696,2697,2698,2699,2700,2701,2702,2703,2704,2705,2706,2707,2708,2709,2710,2711,2712,2713,2714,2715,2716,2717,2718,2719,2720,2721,2722,2723,2724,2725,2726,2727,2728,2729,2730,2731,2732,2733,2734,2735,2736,2737,2738,2739,2740,2741,2742,2743,2744,2745,2746,2747,2748,2749,2750,2751,2752,2753,2754,2755,2756,2757,2758,2759,2760,2761,2762,2763,2764,2765,2766,2767,2768,2769,2770,2771,2772,2773,2774,2775,2776,2777,2778,2779,2780,2781,2782,2783,2784,2785,2786,2787,2788,2789,2790,2791,2792,2793,2794,2795,2796,2797,2798,2799,2800,2801,2802,2803,2804,2805,2806,2807,2808,2809,2810,2811,2812,2813,2814,2815,2816,2817,2818,2819,2820,2821,2822,2823,2824,2825,2826,2827,2828,2829,2830,2831,2832,2833,2834,2835,2836,2837,2838,2839,2840,2841,2842,2843,2844,2845,2846,2847,2848,2849,2850,2851,2852,2853,2854,2855,2856,2857,2858,2859,2860,2861,2862,2863,2864,2865,2866,2867,2868,2869,2870,2871,2872,2873,2874,2875,2876,2877,2878,2879,2880,2881,2882,2883,2884,2885,2886,2887,2888,2889,2890,2891,2892,2893,2894,2895,2896,2897,2898,2899,2900,2901,2902,2903,2904,2905,2906,2907,2908,2909,2910,2911,2912,2913,2914,2915,2916,2917,2918,2919,2920,2921,2922,2923,2924,2925,2926,2927,2928,2929,2930,2931,2932,2933,2934,2935,2936,2937,2938,2939,2940,2941,2942,2943,2944,2945,2946,2947,2948,2949,2950,2951,2952,2953,2954,2955,2956,2957,2958,2959,2960,2961,2962,2963,2964,2965,2966,2967,2968,2969,2970,2971,2972,2973,2974,2975,2976,2977,2978,2979,2980,2981,2982,2983,2984,2985,2986,2987,2988,2989,2990,2991,2992,2993,2994,2995,2996,2997,2998,2999,3000,3001,3002,3003,3004,3005,3006,3007,3008,3009,3010,3011,3012,3013,3014,3015,3016,3017,3018,3019,3020,3021,3022,3023,3024,3025,3026,3027,3028,3029,3030,3031,3032,3033,3034,3035,3036,3037,3038,3039,3040,3041,3042,3043,3044,3045,3046,3047,3048,3049,3050,3051,3052,3053,3054,3055,3056,3057,3058,3059,3060,3061,3062,3063,3064,3065,3066,3067,3068,3069,3070,3071,3072,3073,3074,3075,3076,3077,3078,3079,3080,3081,3082,3083,3084,3085,3086,3087,3088,3089,3090,3091,3092,3093,3094,3095,3096,3097,3098,3099,3100,3101,3102,3103,3104,3105,3106,3107,3108,3109,3110,3111,3112,3113,3114,3115,3116,3117,3118,3119,3120,3121,3122,3123,3124,3125,3126,3127,3128,3129,3130,3131,3132,3133,3134,3135,3136,3137,3138,3139,3140,3141,3142,3143,3144,3145,3146,3147,3148,3149,3150,3151,3152,3153,3154,3155,3156,3157,3158,3159,3160,3161,3162,3163,3164,3165,3166,3167,3168,3169,3170,3171,3172,3173,3174,3175,3176,3177,3178,3179,3180,3181,3182,3183,3184,3185,3186,3187,3188,3189,3190,3191,3192,3193,3194,3195,3196,3197,3198,3199,3200,3201,3202,3203,3204,3205,3206,3207,3208,3209,3210,3211,3212,3213,3214,3215,3216,3217,3218,3219,3220,3221,3222,3223,3224,3225,3226,3227,3228,3229,3230,3231,3232,3233,3234,3235,3236,3237,3238,3239,3240,3241,3242,3243,3244,3245,3246,3247,3248,3249,3250,3251,3252,3253,3254,3255,3256,3257,3258,3259,3260,3261,3262,3263,3264,3265,3266,3267,3268,3269,3270,3271,3272,3273,3274,3275,3276,3277,3278,3279,3280,3281,3282,3283,3284,3285,3286,3287,3288,3289,3290,3291,3292,3293,3294,3295,3296,3297,3298,3299,3300,3301,3302,3303,3304,3305,3306,3307,3308,3309,3310,3311,3312,3313,3314,3315,3316,3317,3318,3319,3320,3321,3322,3323,3324,3325,3326,3327,3328,3329,3330,3331,3332,3333,3334,3335,3336,3337,3338,3339,3340,3341,3342,3343,3344,3345,3346,3347,3348,3349,3350,3351,3352,3353,3354,3355,3356,3357,3358,3359,3360,3361,3362,3363,3364,3365,3366,3367,3368,3369,3370,3371,3372,3373,3374,3375,3376,3377,3378,3379,3380,3381,3382,3383,3384,3385,3386,3387,3388,3389,3390,3391,3392,3393,3394,3395,3396,3397,3398,3399,3400,3401,3402,3403,3404,3405,3406,3407,3408,3409,3410,3411,3412,3413,3414,3415,3416,3417,3418,3419,3420,3421,3422,3423,3424,3425,3426,3427,3428,3429,3430,3431,3432,3433,3434,3435,3436,3437,3438,3439,3440,3441,3442,3443,3444,3445,3446,3447,3448,3449,3450,3451,3452,3453,3454,3455,3456,3457,3458,3459,3460,3461,3462,3463,3464,3465,3466,3467,3468,3469,3470,3471,3472,3473,3474,3475,3476,3477,3478,3479,3480,3481,3482,3483,3484,3485,3486,3487,3488,3489,3490,3491,3492,3493,3494,3495,3496,3497,3498,3499,3500,3501,3502,3503,3504,3505,3506,3507,3508,3509,3510,3511,3512,3513,3514,3515,3516,3517,3518,3519,3520,3521,3522,3523,3524,3525,3526,3527,3528,3529,3530,3531,3532,3533,3534,3535,3536,3537,3538,3539,3540,3541,3542,3543,3544,3545,3546,3547,3548,3549,3550,3551,3552,3553,3554,3555,3556,3557,3558,3559,3560,3561,3562,3563,3564,3565,3566,3567,3568,3569,3570,3571,3572,3573,3574,3575,3576,3577,3578,3579,3580,3581,3582,3583,3584,3585,3586,3587,3588,3589,3590,3591,3592,3593,3594,3595,3596,3597,3598,3599,3600,3601,3602,3603,3604,3605,3606,3607,3608,3609,3610,3611,3612,3613,3614,3615,3616,3617,3618,3619,3620,3621,3622,3623,3624,3625,3626,3627,3628,3629,3630,3631,3632,3633,3634,3635,3636,3637,3638,3639,3640,3641,3642,3643,3644,3645,3646,3647,3648,3649,3650,3651,3652,3653,3654,3655,3656,3657,3658,3659,3660,3661,3662,3663,3664,3665,3666,3667,3668,3669,3670,3671,3672,3673,3674,3675,3676,3677,3678,3679,3680,3681,3682,3683,3684,3685,3686,3687,3688,3689,3690,3691,3692,3693,3694,3695,3696,3697,3698,3699,3700,3701,3702,3703,3704,3705,3706,3707,3708,3709,3710,3711,3712,3713,3714,3715,3716,3717,3718,3719,3720,3721,3722,3723,3724,3725,3726,3727,3728,3729,3730,3731,3732,3733,3734,3735,3736,3737,3738,3739,3740,3741,3742,3743,3744,3745,3746,3747,3748,3749,3750,3751,3752,3753,3754,3755,3756,3757,3758,3759,3760,3761,3762,3763,3764,3765,3766,3767,3768,3769,3770,3771,3772,3773,3774,3775,3776,3777,3778,3779,3780,3781,3782,3783,3784,3785,3786,3787,3788,3789,3790,3791,3792,3793,3794,3795,3796,3797,3798,3799,3800,3801,3802,3803,3804,3805,3806,3807,3808,3809,3810,3811,3812,3813,3814,3815,3816,3817,3818,3819,3820,3821,3822,3823,3824,3825,3826,3827,3828,3829,3830,3831,3832,3833,3834,3835,3836,3837,3838,3839,3840,3841,3842,3843,3844,3845,3846,3847,3848,3849,3850,3851,3852,3853,3854,3855,3856,3857,3858,3859,3860,3861,3862,3863,3864,3865,3866,3867,3868,3869,3870,3871,3872,3873,3874,3875,3876,3877,3878,3879,3880,3881,3882,3883,3884,3885,3886,3887,3888,3889,3890,3891,3892,3893,3894,3895,3896,3897,3898,3899,3900,3901,3902,3903,3904,3905,3906,3907,3908,3909,3910,3911,3912,3913,3914,3915,3916,3917,3918,3919,3920,3921,3922,3923,3924,3925,3926,3927,3928,3929,3930,3931,3932,3933,3934,3935,3936,3937,3938,3939,3940,3941,3942,3943,3944,3945,3946,3947,3948,3949,3950,3951,3952,3953,3954,3955,3956,3957,3958,3959,3960,3961,3962,3963,3964,3965,3966,3967,3968,3969,3970,3971,3972,3973,3974,3975,3976,3977,3978,3979,3980,3981,3982,3983,3984,3985,3986,3987,3988,3989,3990,3991,3992,3993,3994,3995,3996,3997,3998,3999,4000,4001,4002,4003,4004,4005,4006,4007,4008,4009,4010,4011,4012,4013,4014,4015,4016,4017,4018,4019,4020,4021,4022,4023,4024,4025,4026,4027,4028,4029,4030,4031,4032,4033,4034,4035,4036,4037,4038,4039,4040,4041,4042,4043,4044,4045,4046,4047,4048,4049,4050,4051,4052,4053,4054,4055,4056,4057,4058,4059,4060,4061,4062,4063,4064,4065,4066,4067,4068,4069,4070,4071,4072,4073,4074,4075,4076,4077,4078,4079,4080,4081,4082,4083,4084,4085,4086,4087,4088,4089,4090,4091,4092,4093,4094,4095,4096,4097,4098,4099,4100,4101,4102,4103,4104,4105,4106,4107,4108,4109,4110,4111,4112,4113,4114,4115,4116,4117,4118,4119,4120,4121,4122,4123,4124,4125,4126,4127,4128,4129,4130,4131,4132,4133,4134,4135,4136,4137,4138,4139,4140,4141,4142,4143,4144,4145,4146,4147,4148,4149,4150,4151,4152,4153,4154,4155,4156,4157,4158,4159,4160,4161,4162,4163,4164,4165,4166,4167,4168,4169,4170,4171,4172,4173,4174,4175,4176,4177,4178,4179,4180,4181,4182,4183,4184,4185,4186,4187,4188,4189,4190,4191,4192,4193,4194,4195,4196,4197,4198,4199,4200,4201,4202,4203,4204,4205,4206,4207,4208,4209,4210,4211,4212,4213,4214,4215,4216,4217,4218,4219,4220,4221,4222,4223,4224,4225,4226,4227,4228,4229,4230,4231,4232,4233,4234,4235,4236,4237,4238,4239,4240,4241,4242,4243,4244,4245,4246,4247,4248,4249,4250,4251,4252,4253,4254,4255,4256,4257,4258,4259,4260,4261,4262,4263,4264,4265,4266,4267,4268,4269,4270,4271,4272,4273,4274,4275,4276,4277,4278,4279,4280,4281,4282,4283,4284,4285,4286,4287,4288,4289,4290,4291,4292,4293,4294,4295,4296,4297,4298,4299,4300,4301,4302,4303,4304,4305,4306,4307,4308,4309,4310,4311,4312,4313,4314,4315,4316,4317,4318,4319,4320,4321,4322,4323,4324,4325,4326,4327,4328,4329,4330,4331,4332,4333,4334,4335,4336,4337,4338,4339,4340,4341,4342,4343,4344,4345,4346,4347,4348,4349,4350,4351,4352,4353,4354,4355,4356,4357,4358,4359,4360,4361,4362,4363,4364,4365,4366,4367,4368,4369,4370,4371,4372,4373,4374,4375,4376,4377,4378,4379,4380,4381,4382,4383,4384,4385,4386,4387,4388,4389,4390,4391,4392,4393,4394,4395,4396,4397,4398,4399,4400,4401,4402,4403,4404,4405,4406,4407,4408,4409,4410,4411,4412,4413,4414,4415,4416,4417,4418,4419,4420,4421,4422,4423,4424,4425,4426,4427,4428,4429,4430,4431,4432,4433,4434,4435,4436,4437,4438,4439,4440,4441,4442,4443,4444,4445,4446,4447,4448,4449,4450,4451,4452,4453,4454,4455,4456,4457,4458,4459,4460,4461,4462,4463,4464,4465,4466,4467,4468,4469,4470,4471,4472,4473,4474,4475,4476,4477,4478,4479,4480,4481,4482,4483,4484,4485,4486,4487,4488,4489,4490,4491,4492,4493,4494,4495,4496,4497,4498,4499,4500,4501,4502,4503,4504,4505,4506,4507,4508,4509,4510,4511,4512,4513,4514,4515,4516,4517,4518,4519,4520,4521,4522,4523,4524,4525,4526,4527,4528,4529,4530,4531,4532,4533,4534,4535,4536,4537,4538,4539,4540,4541,4542,4543,4544,4545,4546,4547,4548,4549,4550,4551,4552,4553,4554,4555,4556,4557,4558,4559,4560,4561,4562,4563,4564,4565,4566,4567,4568,4569,4570,4571,4572,4573,4574,4575,4576,4577,4578,4579,4580,4581,4582,4583,4584,4585,4586,4587,4588,4589,4590,4591,4592,4593,4594,4595,4596,4597,4598,4599,4600,4601,4602,4603,4604,4605,4606,4607,4608,4609,4610,4611,4612,4613,4614,4615,4616,4617,4618,4619,4620,4621,4622,4623,4624,4625,4626,4627,4628,4629,4630,4631,4632,4633,4634,4635,4636,4637,4638,4639,4640,4641,4642,4643,4644,4645,4646,4647,4648,4649,4650,4651,4652,4653,4654,4655,4656,4657,4658,4659,4660,4661,4662,4663,4664,4665,4666,4667,4668,4669,4670,4671,4672,4673,4674,4675,4676,4677,4678,4679,4680,4681,4682,4683,4684,4685,4686,4687,4688,4689,4690,4691,4692,4693,4694,4695,4696,4697,4698,4699,4700,4701,4702,4703,4704,4705,4706,4707,4708,4709,4710,4711,4712,4713,4714,4715,4716,4717,4718,4719,4720,4721,4722,4723,4724,4725,4726,4727,4728,4729,4730,4731,4732,4733,4734,4735,4736,4737,4738,4739,4740,4741,4742,4743,4744,4745,4746,4747,4748,4749,4750,4751,4752,4753,4754,4755,4756,4757,4758,4759,4760,4761,4762,4763,4764,4765,4766,4767,4768,4769,4770,4771,4772,4773,4774,4775,4776,4777,4778,4779,4780,4781,4782,4783,4784,4785,4786,4787,4788,4789,4790,4791,4792,4793,4794,4795,4796,4797,4798,4799,4800,4801,4802,4803,4804,4805,4806,4807,4808,4809,4810,4811,4812,4813,4814,4815,4816,4817,4818,4819,4820,4821,4822,4823,4824,4825,4826,4827,4828,4829,4830,4831,4832,4833,4834,4835,4836,4837,4838,4839,4840,4841,4842,4843,4844,4845,4846,4847,4848,4849,4850,4851,4852,4853,4854,4855,4856,4857,4858,4859,4860,4861,4862,4863,4864,4865,4866,4867,4868,4869,4870,4871,4872,4873,4874,4875,4876,4877,4878,4879,4880,4881,4882,4883,4884,4885,4886,4887,4888,4889,4890,4891,4892,4893,4894,4895,4896,4897,4898,4899,4900,4901,4902,4903,4904,4905,4906,4907,4908,4909,4910,4911,4912,4913,4914,4915,4916,4917,4918,4919,4920,4921,4922,4923,4924,4925,4926,4927,4928,4929,4930,4931,4932,4933,4934,4935,4936,4937,4938,4939,4940,4941,4942,4943,4944,4945,4946,4947,4948,4949,4950,4951,4952,4953,4954,4955,4956,4957,4958,4959,4960,4961,4962,4963,4964,4965,4966,4967,4968,4969,4970,4971,4972,4973,4974,4975,4976,4977,4978,4979,4980,4981,4982,4983,4984,4985,4986,4987,4988,4989,4990,4991,4992,4993,4994,4995,4996,4997,4998,4999,5000,5001,5002,5003,5004,5005,5006,5007,5008,5009,5010,5011,5012,5013,5014,5015,5016,5017,5018,5019,5020,5021,5022,5023,5024,5025,5026,5027,5028,5029,5030,5031,5032,5033,5034,5035,5036,5037,5038,5039,5040,5041,5042,5043,5044,5045,5046,5047,5048,5049,5050,5051,5052,5053,5054,5055,5056,5057,5058,5059,5060,5061,5062,5063,5064,5065,5066,5067,5068,5069,5070,5071,5072,5073,5074,5075,5076,5077,5078,5079,5080,5081,5082,5083,5084,5085,5086,5087,5088,5089,5090,5091,5092,5093,5094,5095,5096,5097,5098,5099,5100,5101,5102,5103,5104,5105,5106,5107,5108,5109,5110,5111,5112,5113,5114,5115,5116,5117,5118,5119,5120,5121,5122,5123,5124,5125,5126,5127,5128,5129,5130,5131,5132,5133,5134,5135,5136,5137,5138,5139,5140,5141,5142,5143,5144,5145,5146,5147,5148,5149,5150,5151,5152,5153,5154,5155,5156,5157,5158,5159,5160,5161,5162,5163,5164,5165,5166,5167,5168,5169,5170,5171,5172,5173,5174,5175,5176,5177,5178,5179,5180,5181,5182,5183,5184,5185,5186,5187,5188,5189,5190,5191,5192,5193,5194,5195,5196,5197,5198,5199,5200,5201,5202,5203,5204,5205,5206,5207,5208,5209,5210,5211,5212,5213,5214,5215,5216,5217,5218,5219,5220,5221,5222,5223,5224,5225,5226,5227,5228,5229,5230,5231,5232,5233,5234,5235,5236,5237,5238,5239,5240,5241,5242,5243,5244,5245,5246,5247,5248,5249,5250,5251,5252,5253,5254,5255,5256,5257,5258,5259,5260,5261,5262,5263,5264,5265,5266,5267,5268,5269,5270,5271,5272,5273,5274,5275,5276,5277,5278,5279,5280,5281,5282,5283,5284,5285,5286,5287,5288,5289,5290,5291,5292,5293,5294,5295,5296,5297,5298,5299,5300,5301,5302,5303,5304,5305,5306,5307,5308,5309,5310,5311,5312,5313,5314,5315,5316,5317,5318,5319,5320,5321,5322,5323,5324,5325,5326,5327,5328,5329,5330,5331,5332,5333,5334,5335,5336,5337,5338,5339,5340,5341,5342,5343,5344,5345,5346,5347,5348,5349,5350,5351,5352,5353,5354,5355,5356,5357,5358,5359,5360,5361,5362,5363,5364,5365,5366,5367,5368,5369,5370,5371,5372,5373,5374,5375,5376,5377,5378,5379,5380,5381,5382,5383,5384,5385,5386,5387,5388,5389,5390,5391,5392,5393,5394,5395,5396,5397,5398,5399,5400,5401,5402,5403,5404,5405,5406,5407,5408,5409,5410,5411,5412,5413,5414,5415,5416,5417,5418,5419,5420,5421,5422,5423,5424,5425,5426,5427,5428,5429,5430,5431,5432,5433,5434,5435,5436,5437,5438,5439,5440,5441,5442,5443,5444,5445,5446,5447,5448,5449,5450,5451,5452,5453,5454,5455,5456,5457,5458,5459,5460,5461,5462,5463,5464,5465,5466,5467,5468,5469,5470,5471,5472,5473,5474,5475,5476,5477,5478,5479,5480,5481,5482,5483,5484,5485,5486,5487,5488,5489,5490,5491,5492,5493,5494,5495,5496,5497,5498,5499,5500,5501,5502,5503,5504,5505,5506,5507,5508,5509,5510,5511,5512,5513,5514,5515,5516,5517,5518,5519,5520,5521,5522,5523,5524,5525,5526,5527,5528,5529,5530,5531,5532,5533,5534,5535,5536,5537,5538,5539,5540,5541,5542,5543,5544,5545,5546,5547,5548,5549,5550,5551,5552,5553,5554,5555,5556,5557,5558,5559,5560,5561,5562,5563,5564,5565,5566,5567,5568,5569,5570,5571,5572,5573,5574,5575,5576,5577,5578,5579,5580,5581,5582,5583,5584,5585,5586,5587,5588,5589,5590,5591,5592,5593,5594,5595,5596,5597,5598,5599,5600,5601,5602,5603,5604,5605,5606,5607,5608,5609,5610,5611,5612,5613,5614,5615,5616,5617,5618,5619,5620,5621,5622,5623,5624,5625,5626,5627,5628,5629,5630,5631,5632,5633,5634,5635,5636,5637,5638,5639,5640,5641,5642,5643,5644,5645,5646,5647,5648,5649,5650,5651,5652,5653,5654,5655,5656,5657,5658,5659,5660,5661,5662,5663,5664,5665,5666,5667,5668,5669,5670,5671,5672,5673,5674,5675,5676,5677,5678,5679,5680,5681,5682,5683,5684,5685,5686,5687,5688,5689,5690,5691,5692,5693,5694,5695,5696,5697,5698,5699,5700,5701,5702,5703,5704,5705,5706,5707,5708,5709,5710,5711,5712,5713,5714,5715,5716,5717,5718,5719,5720,5721,5722,5723,5724,5725,5726,5727,5728,5729,5730,5731,5732,5733,5734,5735,5736,5737,5738,5739,5740,5741,5742,5743,5744,5745,5746,5747,5748,5749,5750,5751,5752,5753,5754,5755,5756,5757,5758,5759,5760,5761,5762,5763,5764,5765,5766,5767,5768,5769,5770,5771,5772,5773,5774,5775,5776,5777,5778,5779,5780,5781,5782,5783,5784,5785,5786,5787,5788,5789,5790,5791,5792,5793,5794,5795,5796,5797,5798,5799,5800,5801,5802,5803,5804,5805,5806,5807,5808,5809,5810,5811,5812,5813,5814,5815,5816,5817,5818,5819,5820,5821,5822,5823,5824,5825,5826,5827,5828,5829,5830,5831,5832,5833,5834,5835,5836,5837,5838,5839,5840,5841,5842,5843,5844,5845,5846,5847,5848,5849,5850,5851,5852,5853,5854,5855,5856,5857,5858,5859,5860,5861,5862,5863,5864,5865,5866,5867,5868,5869,5870,5871,5872,5873,5874,5875,5876,5877,5878,5879,5880,5881,5882,5883,5884,5885,5886,5887,5888,5889,5890,5891,5892,5893,5894,5895,5896,5897,5898,5899,5900,5901,5902,5903,5904,5905,5906,5907,5908,5909,5910,5911,5912,5913,5914,5915,5916,5917,5918,5919,5920,5921,5922,5923,5924,5925,5926,5927,5928,5929,5930,5931,5932,5933,5934,5935,5936,5937,5938,5939,5940,5941,5942,5943,5944,5945,5946,5947,5948,5949,5950,5951,5952,5953,5954,5955,5956,5957,5958,5959,5960,5961,5962,5963,5964,5965,5966,5967,5968,5969,5970,5971,5972,5973,5974,5975,5976,5977,5978,5979,5980,5981,5982,5983,5984,5985,5986,5987,5988,5989,5990,5991,5992,5993,5994,5995,5996,5997,5998,5999,6000,6001,6002,6003,6004,6005,6006,6007,6008,6009,6010,6011,6012,6013,6014,6015,6016,6017,6018,6019,6020,6021,6022,6023,6024,6025,6026,6027,6028,6029,6030,6031,6032,6033,6034,6035,6036,6037,6038,6039,6040,6041,6042,6043,6044,6045,6046,6047,6048,6049,6050,6051,6052,6053,6054,6055,6056,6057,6058,6059,6060,6061,6062,6063,6064,6065,6066,6067,6068,6069,6070,6071,6072,6073,6074,6075,6076,6077,6078,6079,6080,6081,6082,6083,6084,6085,6086,6087,6088,6089,6090,6091,6092,6093,6094,6095,6096,6097,6098,6099,6100,6101,6102,6103,6104,6105,6106,6107,6108,6109,6110,6111,6112,6113,6114,6115,6116,6117,6118,6119,6120,6121,6122,6123,6124,6125,6126,6127,6128,6129,6130,6131,6132,6133,6134,6135,6136,6137,6138,6139,6140,6141,6142,6143,6144,6145,6146,6147,6148,6149,6150,6151,6152,6153,6154,6155,6156,6157,6158,6159,6160,6161,6162,6163,6164,6165,6166,6167,6168,6169,6170,6171,6172,6173,6174,6175,6176,6177,6178,6179,6180,6181,6182,6183,6184,6185,6186,6187,6188,6189,6190,6191,6192,6193,6194,6195,6196,6197,6198,6199,6200,6201,6202,6203,6204,6205,6206,6207,6208,6209,6210,6211,6212,6213,6214,6215,6216,6217,6218,6219,6220,6221,6222,6223,6224,6225,6226,6227,6228,6229,6230,6231,6232,6233,6234,6235,6236,6237,6238,6239,6240,6241,6242,6243,6244,6245,6246,6247,6248,6249,6250,6251,6252,6253,6254,6255,6256,6257,6258,6259,6260,6261,6262,6263,6264,6265,6266,6267,6268,6269,6270,6271,6272,6273,6274,6275,6276,6277,6278,6279,6280,6281,6282,6283,6284,6285,6286,6287,6288,6289,6290,6291,6292,6293,6294,6295,6296,6297,6298,6299,6300,6301,6302,6303,6304,6305,6306,6307,6308,6309,6310,6311,6312,6313,6314,6315,6316,6317,6318,6319,6320,6321,6322,6323,6324,6325,6326,6327,6328,6329,6330,6331,6332,6333,6334,6335,6336,6337,6338,6339,6340,6341,6342,6343,6344,6345,6346,6347,6348,6349,6350,6351,6352,6353,6354,6355,6356,6357,6358,6359,6360,6361,6362,6363,6364,6365,6366,6367,6368,6369,6370,6371,6372,6373,6374,6375,6376,6377,6378,6379,6380,6381,6382,6383,6384,6385,6386,6387,6388,6389,6390,6391,6392,6393,6394,6395,6396,6397,6398,6399,6400,6401,6402,6403,6404,6405,6406,6407,6408,6409,6410,6411,6412,6413,6414,6415,6416,6417,6418,6419,6420,6421,6422,6423,6424,6425,6426,6427,6428,6429,6430,6431,6432,6433,6434,6435,6436,6437,6438,6439,6440,6441,6442,6443,6444,6445,6446,6447,6448,6449,6450,6451,6452,6453,6454,6455,6456,6457,6458,6459,6460,6461,6462,6463,6464,6465,6466,6467,6468,6469,6470,6471,6472,6473,6474,6475,6476,6477,6478,6479,6480,6481,6482,6483,6484,6485,6486,6487,6488,6489,6490,6491,6492,6493,6494,6495,6496,6497,6498,6499,6500,6501,6502,6503,6504,6505,6506,6507,6508,6509,6510,6511,6512,6513,6514,6515,6516,6517,6518,6519,6520,6521,6522,6523,6524,6525,6526,6527,6528,6529,6530,6531,6532,6533,6534,6535,6536,6537,6538,6539,6540,6541,6542,6543,6544,6545,6546,6547,6548,6549,6550,6551,6552,6553,6554,6555,6556,6557,6558,6559,6560,6561,6562,6563,6564,6565,6566,6567,6568,6569,6570,6571,6572,6573,6574,6575,6576,6577,6578,6579,6580,6581,6582,6583,6584,6585,6586,6587,6588,6589,6590,6591,6592,6593,6594,6595,6596,6597,6598,6599,6600,6601,6602,6603,6604,6605,6606,6607,6608,6609,6610,6611,6612,6613,6614,6615,6616,6617,6618,6619,6620,6621,6622,6623,6624,6625,6626,6627,6628,6629,6630,6631,6632,6633,6634,6635,6636,6637,6638,6639,6640,6641,6642,6643,6644,6645,6646,6647,6648,6649,6650,6651,6652,6653,6654,6655,6656,6657,6658,6659,6660,6661,6662,6663,6664,6665,6666,6667,6668,6669,6670,6671,6672,6673,6674,6675,6676,6677,6678,6679,6680,6681,6682,6683,6684,6685,6686,6687,6688,6689,6690,6691,6692,6693,6694,6695,6696,6697,6698,6699,6700,6701,6702,6703,6704,6705,6706,6707,6708,6709,6710,6711,6712,6713,6714,6715,6716,6717,6718,6719,6720,6721,6722,6723,6724,6725,6726,6727,6728,6729,6730,6731,6732,6733,6734,6735,6736,6737,6738,6739,6740,6741,6742,6743,6744,6745,6746,6747,6748,6749,6750,6751,6752,6753,6754,6755,6756,6757,6758,6759,6760,6761,6762,6763,6764,6765,6766,6767,6768,6769,6770,6771,6772,6773,6774,6775,6776,6777,6778,6779,6780,6781,6782,6783,6784,6785,6786,6787,6788,6789,6790,6791,6792,6793,6794,6795,6796,6797,6798,6799,6800,6801,6802,6803,6804,6805,6806,6807,6808,6809,6810,6811,6812,6813,6814,6815,6816,6817,6818,6819,6820,6821,6822,6823,6824,6825,6826,6827,6828,6829,6830,6831,6832,6833,6834,6835,6836,6837,6838,6839,6840,6841,6842,6843,6844,6845,6846,6847,6848,6849,6850,6851,6852,6853,6854,6855,6856,6857,6858,6859,6860,6861,6862,6863,6864,6865,6866,6867,6868,6869,6870,6871,6872,6873,6874,6875,6876,6877,6878,6879,6880,6881,6882,6883,6884,6885,6886,6887,6888,6889,6890,6891,6892,6893,6894,6895,6896,6897,6898,6899,6900,6901,6902,6903,6904,6905,6906,6907,6908,6909,6910,6911,6912,6913,6914,6915,6916,6917,6918,6919,6920,6921,6922,6923,6924,6925,6926,6927,6928,6929,6930,6931,6932,6933,6934,6935,6936,6937,6938,6939,6940,6941,6942,6943,6944,6945,6946,6947,6948,6949,6950,6951,6952,6953,6954,6955,6956,6957,6958,6959,6960,6961,6962,6963,6964,6965,6966,6967,6968,6969,6970,6971,6972,6973,6974,6975,6976,6977,6978,6979,6980,6981,6982,6983,6984,6985,6986,6987,6988,6989,6990,6991,6992,6993,6994,6995,6996,6997,6998,6999,7000,7001,7002,7003,7004,7005,7006,7007,7008,7009,7010,7011,7012,7013,7014,7015,7016,7017,7018,7019,7020,7021,7022,7023,7024,7025,7026,7027,7028,7029,7030,7031,7032,7033,7034,7035,7036,7037,7038,7039,7040,7041,7042,7043,7044,7045,7046,7047,7048,7049,7050,7051,7052,7053,7054,7055,7056,7057,7058,7059,7060,7061,7062,7063,7064,7065,7066,7067,7068,7069,7070,7071,7072,7073,7074,7075,7076,7077,7078,7079,7080,7081,7082,7083,7084,7085,7086,7087,7088,7089,7090,7091,7092,7093,7094,7095,7096,7097,7098,7099,7100,7101,7102,7103,7104,7105,7106,7107,7108,7109,7110,7111,7112,7113,7114,7115,7116,7117,7118,7119,7120,7121,7122,7123,7124,7125,7126,7127,7128,7129,7130,7131,7132,7133,7134,7135,7136,7137,7138,7139,7140,7141,7142,7143,7144,7145,7146,7147,7148,7149,7150,7151,7152,7153,7154,7155,7156,7157,7158,7159,7160,7161,7162,7163,7164,7165,7166,7167,7168,7169,7170,7171,7172,7173,7174,7175,7176,7177,7178,7179,7180,7181,7182,7183,7184,7185,7186,7187,7188,7189,7190,7191,7192,7193,7194,7195,7196,7197,7198,7199,7200,7201,7202,7203,7204,7205,7206,7207,7208,7209,7210,7211,7212,7213,7214,7215,7216,7217,7218,7219,7220,7221,7222,7223,7224,7225,7226,7227,7228,7229,7230,7231,7232,7233,7234,7235,7236,7237,7238,7239,7240,7241,7242,7243,7244,7245,7246,7247,7248,7249,7250,7251,7252,7253,7254,7255,7256,7257,7258,7259,7260,7261,7262,7263,7264,7265,7266,7267,7268,7269,7270,7271,7272,7273,7274,7275,7276,7277,7278,7279,7280,7281,7282,7283,7284,7285,7286,7287,7288,7289,7290,7291,7292,7293,7294,7295,7296,7297,7298,7299,7300,7301,7302,7303,7304,7305,7306,7307,7308,7309,7310,7311,7312,7313,7314,7315,7316,7317,7318,7319,7320,7321,7322,7323,7324,7325,7326,7327,7328,7329,7330,7331,7332,7333,7334,7335,7336,7337,7338,7339,7340,7341,7342,7343,7344,7345,7346,7347,7348,7349,7350,7351,7352,7353,7354,7355,7356,7357,7358,7359,7360,7361,7362,7363,7364,7365,7366,7367,7368,7369,7370,7371,7372,7373,7374,7375,7376,7377,7378,7379,7380,7381,7382,7383,7384,7385,7386,7387,7388,7389,7390,7391,7392,7393,7394,7395,7396,7397,7398,7399,7400,7401,7402,7403,7404,7405,7406,7407,7408,7409,7410,7411,7412,7413,7414,7415,7416,7417,7418,7419,7420,7421,7422,7423,7424,7425,7426,7427,7428,7429,7430,7431,7432,7433,7434,7435,7436,7437,7438,7439,7440,7441,7442,7443,7444,7445,7446,7447,7448,7449,7450,7451,7452,7453,7454,7455,7456,7457,7458,7459,7460,7461,7462,7463,7464,7465,7466,7467,7468,7469,7470,7471,7472,7473,7474,7475,7476,7477,7478,7479,7480,7481,7482,7483,7484,7485,7486,7487,7488,7489,7490,7491,7492,7493,7494,7495,7496,7497,7498,7499,7500,7501,7502,7503,7504,7505,7506,7507,7508,7509,7510,7511,7512,7513,7514,7515,7516,7517,7518,7519,7520,7521,7522,7523,7524,7525,7526,7527,7528,7529,7530,7531,7532,7533,7534,7535,7536,7537,7538,7539,7540,7541,7542,7543,7544,7545,7546,7547,7548,7549,7550,7551,7552,7553,7554,7555,7556,7557,7558,7559,7560,7561,7562,7563,7564,7565,7566,7567,7568,7569,7570,7571,7572,7573,7574,7575,7576,7577,7578,7579,7580,7581,7582,7583,7584,7585,7586,7587,7588,7589,7590,7591,7592,7593,7594,7595,7596,7597,7598,7599,7600,7601,7602,7603,7604,7605,7606,7607,7608,7609,7610,7611,7612,7613,7614,7615,7616,7617,7618,7619,7620,7621,7622,7623,7624,7625,7626,7627,7628,7629,7630,7631,7632,7633,7634,7635,7636,7637,7638,7639,7640,7641,7642,7643,7644,7645,7646,7647,7648,7649,7650,7651,7652,7653,7654,7655,7656,7657,7658,7659,7660,7661,7662,7663,7664,7665,7666,7667,7668,7669,7670,7671,7672,7673,7674,7675,7676,7677,7678,7679,7680,7681,7682,7683,7684,7685,7686,7687,7688,7689,7690,7691,7692,7693,7694,7695,7696,7697,7698,7699,7700,7701,7702,7703,7704,7705,7706,7707,7708,7709,7710,7711,7712,7713,7714,7715,7716,7717,7718,7719,7720,7721,7722,7723,7724,7725,7726,7727,7728,7729,7730,7731,7732,7733,7734,7735,7736,7737,7738,7739,7740,7741,7742,7743,7744,7745,7746,7747,7748,7749,7750,7751,7752,7753,7754,7755,7756,7757,7758,7759,7760,7761,7762,7763,7764,7765,7766,7767,7768,7769,7770,7771,7772,7773,7774,7775,7776,7777,7778,7779,7780,7781,7782,7783,7784,7785,7786,7787,7788,7789,7790,7791,7792,7793,7794,7795,7796,7797,7798,7799,7800,7801,7802,7803,7804,7805,7806,7807,7808,7809,7810,7811,7812,7813,7814,7815,7816,7817,7818,7819,7820,7821,7822,7823,7824,7825,7826,7827,7828,7829,7830,7831,7832,7833,7834,7835,7836,7837,7838,7839,7840,7841,7842,7843,7844,7845,7846,7847,7848,7849,7850,7851,7852,7853,7854,7855,7856,7857,7858,7859,7860,7861,7862,7863,7864,7865,7866,7867,7868,7869,7870,7871,7872,7873,7874,7875,7876,7877,7878,7879,7880,7881,7882,7883,7884,7885,7886,7887,7888,7889,7890,7891,7892,7893,7894,7895,7896,7897,7898,7899,7900,7901,7902,7903,7904,7905,7906,7907,7908,7909,7910,7911,7912,7913,7914,7915,7916,7917,7918,7919,7920,7921,7922,7923,7924,7925,7926,7927,7928,7929,7930,7931,7932,7933,7934,7935,7936,7937,7938,7939,7940,7941,7942,7943,7944,7945,7946,7947,7948,7949,7950,7951,7952,7953,7954,7955,7956,7957,7958,7959,7960,7961,7962,7963,7964,7965,7966,7967,7968,7969,7970,7971,7972,7973,7974,7975,7976,7977,7978,7979,7980,7981,7982,7983,7984,7985,7986,7987,7988,7989,7990,7991,7992,7993,7994,7995,7996,7997,7998,7999,8000,8001,8002,8003,8004,8005,8006,8007,8008,8009,8010,8011,8012,8013,8014,8015,8016,8017,8018,8019,8020,8021,8022,8023,8024,8025,8026,8027,8028,8029,8030,8031,8032,8033,8034,8035,8036,8037,8038,8039,8040,8041,8042,8043,8044,8045,8046,8047,8048,8049,8050,8051,8052,8053,8054,8055,8056,8057,8058,8059,8060,8061,8062,8063,8064,8065,8066,8067],\"type\":\"scatter\"}],                        {\"title\":{\"text\":\"Work_Experience\"},\"template\":{\"data\":{\"bar\":[{\"error_x\":{\"color\":\"#2a3f5f\"},\"error_y\":{\"color\":\"#2a3f5f\"},\"marker\":{\"line\":{\"color\":\"#E5ECF6\",\"width\":0.5},\"pattern\":{\"fillmode\":\"overlay\",\"size\":10,\"solidity\":0.2}},\"type\":\"bar\"}],\"barpolar\":[{\"marker\":{\"line\":{\"color\":\"#E5ECF6\",\"width\":0.5},\"pattern\":{\"fillmode\":\"overlay\",\"size\":10,\"solidity\":0.2}},\"type\":\"barpolar\"}],\"carpet\":[{\"aaxis\":{\"endlinecolor\":\"#2a3f5f\",\"gridcolor\":\"white\",\"linecolor\":\"white\",\"minorgridcolor\":\"white\",\"startlinecolor\":\"#2a3f5f\"},\"baxis\":{\"endlinecolor\":\"#2a3f5f\",\"gridcolor\":\"white\",\"linecolor\":\"white\",\"minorgridcolor\":\"white\",\"startlinecolor\":\"#2a3f5f\"},\"type\":\"carpet\"}],\"choropleth\":[{\"colorbar\":{\"outlinewidth\":0,\"ticks\":\"\"},\"type\":\"choropleth\"}],\"contour\":[{\"colorbar\":{\"outlinewidth\":0,\"ticks\":\"\"},\"colorscale\":[[0.0,\"#0d0887\"],[0.1111111111111111,\"#46039f\"],[0.2222222222222222,\"#7201a8\"],[0.3333333333333333,\"#9c179e\"],[0.4444444444444444,\"#bd3786\"],[0.5555555555555556,\"#d8576b\"],[0.6666666666666666,\"#ed7953\"],[0.7777777777777778,\"#fb9f3a\"],[0.8888888888888888,\"#fdca26\"],[1.0,\"#f0f921\"]],\"type\":\"contour\"}],\"contourcarpet\":[{\"colorbar\":{\"outlinewidth\":0,\"ticks\":\"\"},\"type\":\"contourcarpet\"}],\"heatmap\":[{\"colorbar\":{\"outlinewidth\":0,\"ticks\":\"\"},\"colorscale\":[[0.0,\"#0d0887\"],[0.1111111111111111,\"#46039f\"],[0.2222222222222222,\"#7201a8\"],[0.3333333333333333,\"#9c179e\"],[0.4444444444444444,\"#bd3786\"],[0.5555555555555556,\"#d8576b\"],[0.6666666666666666,\"#ed7953\"],[0.7777777777777778,\"#fb9f3a\"],[0.8888888888888888,\"#fdca26\"],[1.0,\"#f0f921\"]],\"type\":\"heatmap\"}],\"heatmapgl\":[{\"colorbar\":{\"outlinewidth\":0,\"ticks\":\"\"},\"colorscale\":[[0.0,\"#0d0887\"],[0.1111111111111111,\"#46039f\"],[0.2222222222222222,\"#7201a8\"],[0.3333333333333333,\"#9c179e\"],[0.4444444444444444,\"#bd3786\"],[0.5555555555555556,\"#d8576b\"],[0.6666666666666666,\"#ed7953\"],[0.7777777777777778,\"#fb9f3a\"],[0.8888888888888888,\"#fdca26\"],[1.0,\"#f0f921\"]],\"type\":\"heatmapgl\"}],\"histogram\":[{\"marker\":{\"pattern\":{\"fillmode\":\"overlay\",\"size\":10,\"solidity\":0.2}},\"type\":\"histogram\"}],\"histogram2d\":[{\"colorbar\":{\"outlinewidth\":0,\"ticks\":\"\"},\"colorscale\":[[0.0,\"#0d0887\"],[0.1111111111111111,\"#46039f\"],[0.2222222222222222,\"#7201a8\"],[0.3333333333333333,\"#9c179e\"],[0.4444444444444444,\"#bd3786\"],[0.5555555555555556,\"#d8576b\"],[0.6666666666666666,\"#ed7953\"],[0.7777777777777778,\"#fb9f3a\"],[0.8888888888888888,\"#fdca26\"],[1.0,\"#f0f921\"]],\"type\":\"histogram2d\"}],\"histogram2dcontour\":[{\"colorbar\":{\"outlinewidth\":0,\"ticks\":\"\"},\"colorscale\":[[0.0,\"#0d0887\"],[0.1111111111111111,\"#46039f\"],[0.2222222222222222,\"#7201a8\"],[0.3333333333333333,\"#9c179e\"],[0.4444444444444444,\"#bd3786\"],[0.5555555555555556,\"#d8576b\"],[0.6666666666666666,\"#ed7953\"],[0.7777777777777778,\"#fb9f3a\"],[0.8888888888888888,\"#fdca26\"],[1.0,\"#f0f921\"]],\"type\":\"histogram2dcontour\"}],\"mesh3d\":[{\"colorbar\":{\"outlinewidth\":0,\"ticks\":\"\"},\"type\":\"mesh3d\"}],\"parcoords\":[{\"line\":{\"colorbar\":{\"outlinewidth\":0,\"ticks\":\"\"}},\"type\":\"parcoords\"}],\"pie\":[{\"automargin\":true,\"type\":\"pie\"}],\"scatter\":[{\"marker\":{\"colorbar\":{\"outlinewidth\":0,\"ticks\":\"\"}},\"type\":\"scatter\"}],\"scatter3d\":[{\"line\":{\"colorbar\":{\"outlinewidth\":0,\"ticks\":\"\"}},\"marker\":{\"colorbar\":{\"outlinewidth\":0,\"ticks\":\"\"}},\"type\":\"scatter3d\"}],\"scattercarpet\":[{\"marker\":{\"colorbar\":{\"outlinewidth\":0,\"ticks\":\"\"}},\"type\":\"scattercarpet\"}],\"scattergeo\":[{\"marker\":{\"colorbar\":{\"outlinewidth\":0,\"ticks\":\"\"}},\"type\":\"scattergeo\"}],\"scattergl\":[{\"marker\":{\"colorbar\":{\"outlinewidth\":0,\"ticks\":\"\"}},\"type\":\"scattergl\"}],\"scattermapbox\":[{\"marker\":{\"colorbar\":{\"outlinewidth\":0,\"ticks\":\"\"}},\"type\":\"scattermapbox\"}],\"scatterpolar\":[{\"marker\":{\"colorbar\":{\"outlinewidth\":0,\"ticks\":\"\"}},\"type\":\"scatterpolar\"}],\"scatterpolargl\":[{\"marker\":{\"colorbar\":{\"outlinewidth\":0,\"ticks\":\"\"}},\"type\":\"scatterpolargl\"}],\"scatterternary\":[{\"marker\":{\"colorbar\":{\"outlinewidth\":0,\"ticks\":\"\"}},\"type\":\"scatterternary\"}],\"surface\":[{\"colorbar\":{\"outlinewidth\":0,\"ticks\":\"\"},\"colorscale\":[[0.0,\"#0d0887\"],[0.1111111111111111,\"#46039f\"],[0.2222222222222222,\"#7201a8\"],[0.3333333333333333,\"#9c179e\"],[0.4444444444444444,\"#bd3786\"],[0.5555555555555556,\"#d8576b\"],[0.6666666666666666,\"#ed7953\"],[0.7777777777777778,\"#fb9f3a\"],[0.8888888888888888,\"#fdca26\"],[1.0,\"#f0f921\"]],\"type\":\"surface\"}],\"table\":[{\"cells\":{\"fill\":{\"color\":\"#EBF0F8\"},\"line\":{\"color\":\"white\"}},\"header\":{\"fill\":{\"color\":\"#C8D4E3\"},\"line\":{\"color\":\"white\"}},\"type\":\"table\"}]},\"layout\":{\"annotationdefaults\":{\"arrowcolor\":\"#2a3f5f\",\"arrowhead\":0,\"arrowwidth\":1},\"autotypenumbers\":\"strict\",\"coloraxis\":{\"colorbar\":{\"outlinewidth\":0,\"ticks\":\"\"}},\"colorscale\":{\"diverging\":[[0,\"#8e0152\"],[0.1,\"#c51b7d\"],[0.2,\"#de77ae\"],[0.3,\"#f1b6da\"],[0.4,\"#fde0ef\"],[0.5,\"#f7f7f7\"],[0.6,\"#e6f5d0\"],[0.7,\"#b8e186\"],[0.8,\"#7fbc41\"],[0.9,\"#4d9221\"],[1,\"#276419\"]],\"sequential\":[[0.0,\"#0d0887\"],[0.1111111111111111,\"#46039f\"],[0.2222222222222222,\"#7201a8\"],[0.3333333333333333,\"#9c179e\"],[0.4444444444444444,\"#bd3786\"],[0.5555555555555556,\"#d8576b\"],[0.6666666666666666,\"#ed7953\"],[0.7777777777777778,\"#fb9f3a\"],[0.8888888888888888,\"#fdca26\"],[1.0,\"#f0f921\"]],\"sequentialminus\":[[0.0,\"#0d0887\"],[0.1111111111111111,\"#46039f\"],[0.2222222222222222,\"#7201a8\"],[0.3333333333333333,\"#9c179e\"],[0.4444444444444444,\"#bd3786\"],[0.5555555555555556,\"#d8576b\"],[0.6666666666666666,\"#ed7953\"],[0.7777777777777778,\"#fb9f3a\"],[0.8888888888888888,\"#fdca26\"],[1.0,\"#f0f921\"]]},\"colorway\":[\"#636efa\",\"#EF553B\",\"#00cc96\",\"#ab63fa\",\"#FFA15A\",\"#19d3f3\",\"#FF6692\",\"#B6E880\",\"#FF97FF\",\"#FECB52\"],\"font\":{\"color\":\"#2a3f5f\"},\"geo\":{\"bgcolor\":\"white\",\"lakecolor\":\"white\",\"landcolor\":\"#E5ECF6\",\"showlakes\":true,\"showland\":true,\"subunitcolor\":\"white\"},\"hoverlabel\":{\"align\":\"left\"},\"hovermode\":\"closest\",\"mapbox\":{\"style\":\"light\"},\"paper_bgcolor\":\"white\",\"plot_bgcolor\":\"#E5ECF6\",\"polar\":{\"angularaxis\":{\"gridcolor\":\"white\",\"linecolor\":\"white\",\"ticks\":\"\"},\"bgcolor\":\"#E5ECF6\",\"radialaxis\":{\"gridcolor\":\"white\",\"linecolor\":\"white\",\"ticks\":\"\"}},\"scene\":{\"xaxis\":{\"backgroundcolor\":\"#E5ECF6\",\"gridcolor\":\"white\",\"gridwidth\":2,\"linecolor\":\"white\",\"showbackground\":true,\"ticks\":\"\",\"zerolinecolor\":\"white\"},\"yaxis\":{\"backgroundcolor\":\"#E5ECF6\",\"gridcolor\":\"white\",\"gridwidth\":2,\"linecolor\":\"white\",\"showbackground\":true,\"ticks\":\"\",\"zerolinecolor\":\"white\"},\"zaxis\":{\"backgroundcolor\":\"#E5ECF6\",\"gridcolor\":\"white\",\"gridwidth\":2,\"linecolor\":\"white\",\"showbackground\":true,\"ticks\":\"\",\"zerolinecolor\":\"white\"}},\"shapedefaults\":{\"line\":{\"color\":\"#2a3f5f\"}},\"ternary\":{\"aaxis\":{\"gridcolor\":\"white\",\"linecolor\":\"white\",\"ticks\":\"\"},\"baxis\":{\"gridcolor\":\"white\",\"linecolor\":\"white\",\"ticks\":\"\"},\"bgcolor\":\"#E5ECF6\",\"caxis\":{\"gridcolor\":\"white\",\"linecolor\":\"white\",\"ticks\":\"\"}},\"title\":{\"x\":0.05},\"xaxis\":{\"automargin\":true,\"gridcolor\":\"white\",\"linecolor\":\"white\",\"ticks\":\"\",\"title\":{\"standoff\":15},\"zerolinecolor\":\"white\",\"zerolinewidth\":2},\"yaxis\":{\"automargin\":true,\"gridcolor\":\"white\",\"linecolor\":\"white\",\"ticks\":\"\",\"title\":{\"standoff\":15},\"zerolinecolor\":\"white\",\"zerolinewidth\":2}}}},                        {\"responsive\": true}                    ).then(function(){\n",
              "                            \n",
              "var gd = document.getElementById('b684cc17-0d21-4ec1-a9c7-4396891cadfe');\n",
              "var x = new MutationObserver(function (mutations, observer) {{\n",
              "        var display = window.getComputedStyle(gd).display;\n",
              "        if (!display || display === 'none') {{\n",
              "            console.log([gd, 'removed!']);\n",
              "            Plotly.purge(gd);\n",
              "            observer.disconnect();\n",
              "        }}\n",
              "}});\n",
              "\n",
              "// Listen for the removal of the full notebook cells\n",
              "var notebookContainer = gd.closest('#notebook-container');\n",
              "if (notebookContainer) {{\n",
              "    x.observe(notebookContainer, {childList: true});\n",
              "}}\n",
              "\n",
              "// Listen for the clearing of the current output cell\n",
              "var outputEl = gd.closest('.output');\n",
              "if (outputEl) {{\n",
              "    x.observe(outputEl, {childList: true});\n",
              "}}\n",
              "\n",
              "                        })                };                            </script>        </div>\n",
              "</body>\n",
              "</html>"
            ]
          },
          "metadata": {}
        },
        {
          "output_type": "display_data",
          "data": {
            "text/html": [
              "<html>\n",
              "<head><meta charset=\"utf-8\" /></head>\n",
              "<body>\n",
              "    <div>            <script src=\"https://cdnjs.cloudflare.com/ajax/libs/mathjax/2.7.5/MathJax.js?config=TeX-AMS-MML_SVG\"></script><script type=\"text/javascript\">if (window.MathJax) {MathJax.Hub.Config({SVG: {font: \"STIX-Web\"}});}</script>                <script type=\"text/javascript\">window.PlotlyConfig = {MathJaxConfig: 'local'};</script>\n",
              "        <script src=\"https://cdn.plot.ly/plotly-2.8.3.min.js\"></script>                <div id=\"86e56e8c-43dc-47a8-b99b-c3c9dbe6ed2a\" class=\"plotly-graph-div\" style=\"height:525px; width:100%;\"></div>            <script type=\"text/javascript\">                                    window.PLOTLYENV=window.PLOTLYENV || {};                                    if (document.getElementById(\"86e56e8c-43dc-47a8-b99b-c3c9dbe6ed2a\")) {                    Plotly.newPlot(                        \"86e56e8c-43dc-47a8-b99b-c3c9dbe6ed2a\",                        [{\"mode\":\"markers\",\"x\":[4.0,3.0,1.0,2.0,6.0,2.0,3.0,3.0,3.0,4.0,3.0,4.0,null,1.0,1.0,2.0,5.0,6.0,4.0,1.0,1.0,4.0,2.0,2.0,3.0,3.0,8.0,3.0,1.0,4.0,3.0,2.0,3.0,null,2.0,4.0,1.0,5.0,2.0,2.0,1.0,2.0,3.0,2.0,1.0,2.0,4.0,1.0,4.0,1.0,2.0,2.0,1.0,2.0,1.0,2.0,4.0,2.0,3.0,null,2.0,2.0,3.0,2.0,2.0,2.0,2.0,4.0,4.0,2.0,2.0,2.0,5.0,4.0,4.0,3.0,2.0,3.0,2.0,1.0,4.0,3.0,1.0,4.0,3.0,5.0,3.0,2.0,3.0,2.0,3.0,4.0,2.0,2.0,1.0,1.0,1.0,2.0,2.0,3.0,4.0,7.0,3.0,5.0,2.0,2.0,2.0,1.0,5.0,3.0,4.0,1.0,null,1.0,3.0,4.0,1.0,2.0,7.0,2.0,3.0,4.0,4.0,3.0,2.0,2.0,null,2.0,2.0,5.0,5.0,2.0,4.0,1.0,2.0,5.0,2.0,4.0,4.0,4.0,2.0,5.0,3.0,null,5.0,5.0,2.0,1.0,4.0,3.0,9.0,1.0,2.0,2.0,4.0,4.0,1.0,4.0,2.0,3.0,1.0,5.0,5.0,5.0,2.0,3.0,3.0,5.0,3.0,2.0,5.0,2.0,2.0,2.0,2.0,4.0,1.0,6.0,3.0,1.0,2.0,5.0,1.0,4.0,1.0,2.0,null,3.0,2.0,2.0,3.0,2.0,2.0,4.0,2.0,3.0,2.0,5.0,2.0,2.0,3.0,3.0,8.0,2.0,2.0,3.0,3.0,1.0,2.0,4.0,2.0,1.0,4.0,1.0,4.0,3.0,2.0,2.0,2.0,1.0,3.0,2.0,3.0,5.0,1.0,1.0,4.0,4.0,1.0,2.0,2.0,4.0,2.0,4.0,1.0,4.0,5.0,4.0,4.0,2.0,5.0,3.0,4.0,6.0,4.0,2.0,3.0,2.0,2.0,5.0,null,1.0,4.0,3.0,4.0,2.0,1.0,null,3.0,4.0,3.0,null,3.0,4.0,7.0,2.0,1.0,3.0,6.0,2.0,4.0,3.0,3.0,2.0,2.0,2.0,4.0,1.0,3.0,3.0,4.0,2.0,3.0,2.0,1.0,1.0,1.0,2.0,1.0,3.0,1.0,3.0,8.0,4.0,2.0,3.0,3.0,2.0,3.0,2.0,3.0,2.0,3.0,2.0,2.0,2.0,2.0,2.0,4.0,4.0,null,4.0,1.0,4.0,3.0,2.0,4.0,2.0,1.0,4.0,2.0,1.0,4.0,1.0,1.0,1.0,1.0,2.0,5.0,3.0,4.0,4.0,5.0,4.0,2.0,3.0,5.0,2.0,1.0,2.0,1.0,4.0,1.0,1.0,8.0,3.0,1.0,1.0,5.0,4.0,4.0,1.0,null,3.0,1.0,1.0,4.0,5.0,3.0,3.0,3.0,2.0,3.0,2.0,2.0,2.0,1.0,3.0,5.0,5.0,1.0,2.0,1.0,4.0,4.0,1.0,1.0,2.0,2.0,1.0,1.0,2.0,6.0,2.0,3.0,2.0,3.0,2.0,2.0,1.0,1.0,2.0,4.0,4.0,1.0,1.0,4.0,3.0,3.0,2.0,1.0,null,2.0,3.0,5.0,6.0,3.0,4.0,3.0,null,3.0,1.0,2.0,5.0,2.0,1.0,3.0,2.0,1.0,null,3.0,4.0,2.0,3.0,3.0,2.0,1.0,3.0,null,7.0,4.0,5.0,3.0,4.0,3.0,4.0,2.0,2.0,1.0,3.0,6.0,4.0,5.0,3.0,3.0,2.0,5.0,1.0,1.0,4.0,4.0,5.0,2.0,1.0,2.0,2.0,null,6.0,1.0,4.0,2.0,2.0,2.0,2.0,6.0,4.0,4.0,5.0,2.0,2.0,null,2.0,3.0,4.0,4.0,2.0,4.0,2.0,5.0,1.0,1.0,2.0,5.0,2.0,4.0,4.0,2.0,3.0,2.0,3.0,7.0,1.0,1.0,3.0,2.0,3.0,1.0,4.0,6.0,3.0,4.0,3.0,3.0,null,2.0,3.0,3.0,2.0,5.0,6.0,4.0,2.0,1.0,3.0,4.0,1.0,4.0,1.0,2.0,5.0,3.0,5.0,1.0,4.0,1.0,3.0,4.0,3.0,1.0,1.0,3.0,1.0,null,2.0,4.0,2.0,2.0,2.0,5.0,4.0,4.0,3.0,2.0,1.0,2.0,5.0,3.0,2.0,3.0,1.0,5.0,3.0,null,4.0,1.0,1.0,4.0,3.0,1.0,4.0,2.0,1.0,4.0,1.0,5.0,3.0,4.0,1.0,2.0,4.0,4.0,5.0,4.0,3.0,3.0,2.0,1.0,5.0,6.0,2.0,1.0,3.0,5.0,1.0,3.0,3.0,4.0,1.0,2.0,5.0,4.0,1.0,2.0,2.0,2.0,2.0,4.0,4.0,3.0,1.0,4.0,4.0,3.0,2.0,4.0,3.0,5.0,1.0,2.0,1.0,2.0,4.0,2.0,5.0,null,3.0,3.0,1.0,5.0,1.0,null,5.0,2.0,2.0,2.0,4.0,6.0,2.0,1.0,2.0,4.0,4.0,3.0,4.0,2.0,1.0,1.0,null,3.0,2.0,3.0,2.0,4.0,3.0,5.0,4.0,3.0,5.0,3.0,1.0,4.0,3.0,null,2.0,2.0,2.0,2.0,1.0,4.0,4.0,5.0,null,3.0,3.0,1.0,null,null,3.0,1.0,1.0,3.0,5.0,4.0,3.0,2.0,2.0,2.0,4.0,3.0,2.0,2.0,2.0,7.0,3.0,2.0,2.0,4.0,5.0,4.0,5.0,6.0,4.0,4.0,2.0,5.0,3.0,4.0,4.0,2.0,1.0,4.0,4.0,3.0,3.0,5.0,4.0,2.0,3.0,2.0,3.0,1.0,2.0,3.0,2.0,2.0,1.0,1.0,5.0,8.0,4.0,null,2.0,4.0,2.0,3.0,2.0,2.0,1.0,5.0,2.0,1.0,3.0,4.0,null,2.0,2.0,5.0,3.0,2.0,4.0,6.0,6.0,3.0,3.0,3.0,4.0,3.0,4.0,1.0,4.0,1.0,4.0,4.0,2.0,2.0,2.0,null,5.0,2.0,3.0,1.0,3.0,2.0,4.0,2.0,1.0,null,4.0,2.0,3.0,1.0,2.0,2.0,3.0,2.0,2.0,3.0,6.0,1.0,3.0,4.0,5.0,6.0,4.0,1.0,4.0,3.0,2.0,null,3.0,2.0,4.0,3.0,3.0,2.0,2.0,2.0,4.0,6.0,4.0,1.0,4.0,1.0,1.0,5.0,3.0,1.0,1.0,2.0,4.0,3.0,5.0,3.0,2.0,4.0,2.0,null,1.0,4.0,5.0,4.0,1.0,3.0,3.0,null,1.0,1.0,5.0,2.0,3.0,4.0,4.0,1.0,1.0,3.0,4.0,6.0,2.0,3.0,null,6.0,4.0,2.0,2.0,3.0,2.0,1.0,2.0,4.0,4.0,null,3.0,3.0,1.0,3.0,1.0,1.0,6.0,2.0,4.0,1.0,5.0,1.0,2.0,4.0,1.0,5.0,1.0,2.0,8.0,7.0,3.0,null,3.0,1.0,4.0,3.0,1.0,2.0,7.0,4.0,2.0,4.0,7.0,3.0,4.0,2.0,4.0,1.0,3.0,2.0,2.0,2.0,4.0,3.0,4.0,3.0,2.0,1.0,null,2.0,3.0,4.0,4.0,3.0,4.0,3.0,6.0,3.0,null,3.0,null,4.0,3.0,4.0,3.0,2.0,1.0,2.0,1.0,2.0,1.0,6.0,3.0,null,3.0,3.0,5.0,3.0,7.0,3.0,2.0,1.0,2.0,2.0,2.0,3.0,2.0,1.0,2.0,9.0,4.0,2.0,null,2.0,3.0,4.0,1.0,3.0,6.0,4.0,4.0,1.0,2.0,2.0,1.0,4.0,5.0,1.0,6.0,2.0,2.0,1.0,4.0,7.0,null,null,5.0,4.0,3.0,3.0,5.0,4.0,3.0,1.0,3.0,3.0,2.0,null,2.0,1.0,3.0,2.0,1.0,5.0,2.0,2.0,3.0,1.0,4.0,2.0,2.0,2.0,2.0,1.0,4.0,2.0,2.0,3.0,1.0,1.0,2.0,2.0,1.0,2.0,2.0,2.0,1.0,3.0,1.0,4.0,2.0,3.0,1.0,3.0,1.0,3.0,3.0,3.0,4.0,5.0,3.0,7.0,4.0,2.0,4.0,1.0,1.0,2.0,null,3.0,3.0,3.0,4.0,8.0,4.0,2.0,3.0,3.0,4.0,2.0,4.0,3.0,1.0,2.0,2.0,2.0,2.0,2.0,5.0,5.0,2.0,6.0,2.0,2.0,null,4.0,1.0,4.0,2.0,4.0,4.0,1.0,2.0,2.0,2.0,4.0,4.0,5.0,3.0,5.0,2.0,4.0,3.0,3.0,2.0,2.0,3.0,2.0,1.0,3.0,5.0,3.0,2.0,2.0,4.0,3.0,2.0,5.0,2.0,2.0,1.0,null,null,2.0,null,4.0,3.0,2.0,5.0,4.0,1.0,3.0,3.0,3.0,2.0,4.0,3.0,2.0,4.0,2.0,4.0,1.0,2.0,1.0,4.0,3.0,1.0,4.0,4.0,3.0,2.0,2.0,3.0,2.0,3.0,3.0,4.0,2.0,3.0,5.0,1.0,4.0,2.0,2.0,2.0,2.0,2.0,4.0,6.0,4.0,null,3.0,2.0,3.0,4.0,1.0,1.0,7.0,3.0,2.0,3.0,4.0,5.0,3.0,3.0,1.0,4.0,5.0,5.0,3.0,5.0,1.0,5.0,7.0,1.0,1.0,1.0,2.0,4.0,2.0,1.0,6.0,4.0,2.0,3.0,3.0,2.0,2.0,1.0,2.0,3.0,null,5.0,2.0,3.0,2.0,3.0,1.0,1.0,2.0,2.0,4.0,2.0,2.0,2.0,5.0,3.0,1.0,6.0,2.0,6.0,1.0,4.0,2.0,5.0,3.0,4.0,6.0,2.0,1.0,4.0,7.0,2.0,1.0,2.0,4.0,2.0,4.0,null,2.0,1.0,3.0,3.0,4.0,2.0,1.0,4.0,2.0,4.0,1.0,3.0,8.0,3.0,2.0,5.0,5.0,4.0,4.0,3.0,3.0,2.0,1.0,3.0,1.0,3.0,1.0,3.0,7.0,2.0,3.0,2.0,2.0,2.0,6.0,5.0,2.0,1.0,2.0,3.0,2.0,4.0,null,1.0,1.0,2.0,3.0,1.0,2.0,2.0,5.0,null,5.0,2.0,7.0,2.0,3.0,1.0,5.0,5.0,6.0,4.0,2.0,1.0,5.0,3.0,3.0,1.0,1.0,4.0,2.0,2.0,2.0,2.0,5.0,2.0,3.0,8.0,2.0,1.0,3.0,3.0,3.0,2.0,2.0,2.0,4.0,null,4.0,3.0,4.0,2.0,2.0,4.0,4.0,5.0,6.0,2.0,2.0,1.0,1.0,3.0,null,2.0,2.0,3.0,4.0,2.0,3.0,1.0,2.0,1.0,3.0,1.0,4.0,1.0,1.0,3.0,4.0,3.0,3.0,3.0,4.0,2.0,1.0,2.0,4.0,1.0,4.0,5.0,3.0,1.0,2.0,4.0,4.0,3.0,2.0,4.0,1.0,3.0,1.0,2.0,3.0,2.0,null,4.0,3.0,2.0,1.0,1.0,2.0,4.0,1.0,2.0,2.0,4.0,1.0,4.0,4.0,2.0,5.0,4.0,5.0,3.0,4.0,2.0,1.0,2.0,3.0,4.0,3.0,5.0,1.0,1.0,1.0,1.0,4.0,3.0,2.0,4.0,3.0,3.0,1.0,8.0,1.0,3.0,3.0,2.0,2.0,4.0,3.0,4.0,1.0,2.0,2.0,4.0,2.0,1.0,4.0,2.0,5.0,3.0,2.0,2.0,6.0,4.0,2.0,2.0,4.0,5.0,2.0,3.0,1.0,2.0,3.0,1.0,2.0,4.0,2.0,2.0,6.0,4.0,5.0,2.0,1.0,2.0,4.0,9.0,3.0,4.0,2.0,3.0,5.0,3.0,2.0,3.0,1.0,3.0,2.0,3.0,4.0,2.0,4.0,1.0,3.0,6.0,1.0,1.0,6.0,2.0,1.0,3.0,2.0,2.0,1.0,2.0,5.0,2.0,4.0,3.0,4.0,4.0,2.0,3.0,2.0,1.0,1.0,2.0,3.0,2.0,4.0,3.0,1.0,7.0,2.0,1.0,3.0,4.0,2.0,3.0,4.0,4.0,4.0,1.0,4.0,4.0,4.0,1.0,2.0,9.0,2.0,2.0,4.0,4.0,1.0,7.0,3.0,1.0,2.0,5.0,2.0,2.0,3.0,2.0,3.0,5.0,2.0,5.0,4.0,2.0,4.0,4.0,2.0,null,4.0,1.0,null,3.0,null,1.0,1.0,3.0,2.0,2.0,1.0,2.0,9.0,5.0,2.0,2.0,1.0,2.0,1.0,2.0,5.0,5.0,4.0,1.0,5.0,2.0,4.0,4.0,4.0,1.0,6.0,4.0,6.0,3.0,3.0,4.0,3.0,2.0,3.0,7.0,5.0,6.0,3.0,3.0,4.0,2.0,null,2.0,1.0,null,3.0,2.0,3.0,4.0,4.0,1.0,3.0,4.0,null,1.0,4.0,5.0,2.0,2.0,2.0,1.0,null,5.0,1.0,8.0,3.0,3.0,1.0,3.0,2.0,4.0,2.0,2.0,2.0,2.0,2.0,4.0,4.0,2.0,3.0,2.0,3.0,1.0,5.0,1.0,3.0,2.0,2.0,4.0,4.0,4.0,1.0,2.0,1.0,1.0,1.0,4.0,5.0,4.0,6.0,1.0,1.0,2.0,2.0,4.0,3.0,2.0,2.0,4.0,4.0,2.0,4.0,1.0,4.0,3.0,5.0,1.0,5.0,2.0,4.0,3.0,3.0,2.0,2.0,4.0,2.0,1.0,2.0,2.0,2.0,null,1.0,2.0,4.0,3.0,3.0,3.0,1.0,2.0,4.0,1.0,4.0,1.0,3.0,2.0,2.0,2.0,5.0,3.0,2.0,null,3.0,2.0,2.0,7.0,6.0,2.0,3.0,null,2.0,1.0,3.0,3.0,2.0,1.0,5.0,3.0,2.0,4.0,3.0,1.0,2.0,4.0,1.0,3.0,4.0,5.0,3.0,2.0,3.0,2.0,1.0,null,3.0,4.0,2.0,5.0,5.0,3.0,2.0,8.0,3.0,null,4.0,2.0,1.0,4.0,2.0,null,2.0,2.0,2.0,2.0,5.0,4.0,3.0,3.0,5.0,3.0,1.0,4.0,2.0,null,4.0,2.0,3.0,5.0,1.0,2.0,3.0,4.0,3.0,1.0,1.0,7.0,4.0,4.0,4.0,1.0,3.0,2.0,2.0,2.0,2.0,1.0,2.0,7.0,2.0,2.0,3.0,1.0,2.0,1.0,2.0,3.0,1.0,5.0,null,3.0,1.0,2.0,3.0,3.0,null,1.0,3.0,2.0,2.0,null,1.0,3.0,1.0,1.0,1.0,1.0,5.0,3.0,4.0,3.0,4.0,3.0,2.0,2.0,5.0,1.0,7.0,4.0,2.0,4.0,1.0,4.0,2.0,4.0,5.0,2.0,2.0,1.0,4.0,5.0,2.0,3.0,2.0,1.0,5.0,3.0,3.0,2.0,2.0,4.0,4.0,1.0,2.0,2.0,6.0,1.0,5.0,4.0,null,2.0,4.0,1.0,5.0,1.0,5.0,1.0,2.0,4.0,2.0,3.0,1.0,4.0,3.0,3.0,1.0,6.0,4.0,2.0,6.0,2.0,3.0,3.0,1.0,3.0,2.0,1.0,3.0,5.0,6.0,1.0,1.0,4.0,5.0,4.0,2.0,null,1.0,6.0,1.0,4.0,2.0,3.0,1.0,2.0,4.0,6.0,4.0,4.0,2.0,3.0,1.0,4.0,3.0,5.0,9.0,4.0,2.0,5.0,4.0,2.0,2.0,3.0,5.0,4.0,3.0,null,5.0,6.0,2.0,2.0,2.0,4.0,2.0,3.0,3.0,4.0,1.0,2.0,6.0,5.0,null,2.0,null,3.0,2.0,2.0,1.0,4.0,2.0,3.0,2.0,2.0,1.0,2.0,9.0,2.0,1.0,2.0,5.0,7.0,3.0,1.0,2.0,3.0,2.0,5.0,2.0,3.0,2.0,2.0,1.0,4.0,5.0,3.0,2.0,2.0,1.0,2.0,3.0,2.0,2.0,2.0,3.0,2.0,3.0,null,4.0,2.0,2.0,1.0,1.0,3.0,2.0,1.0,2.0,4.0,2.0,2.0,2.0,2.0,2.0,1.0,1.0,4.0,2.0,1.0,4.0,2.0,4.0,4.0,3.0,1.0,2.0,2.0,2.0,2.0,2.0,2.0,4.0,6.0,4.0,2.0,4.0,2.0,1.0,5.0,2.0,6.0,3.0,2.0,2.0,1.0,1.0,1.0,2.0,4.0,4.0,3.0,5.0,1.0,3.0,4.0,5.0,3.0,4.0,2.0,2.0,2.0,2.0,null,4.0,1.0,3.0,1.0,4.0,3.0,5.0,4.0,3.0,2.0,null,2.0,2.0,null,7.0,2.0,5.0,3.0,3.0,3.0,4.0,2.0,2.0,2.0,4.0,1.0,4.0,null,1.0,2.0,1.0,5.0,5.0,3.0,null,2.0,3.0,3.0,3.0,4.0,3.0,2.0,2.0,2.0,6.0,4.0,2.0,4.0,7.0,4.0,2.0,7.0,2.0,2.0,2.0,4.0,5.0,3.0,1.0,4.0,4.0,3.0,7.0,5.0,3.0,5.0,null,4.0,4.0,5.0,3.0,1.0,3.0,4.0,null,2.0,3.0,1.0,5.0,2.0,2.0,1.0,3.0,4.0,3.0,4.0,2.0,4.0,3.0,2.0,4.0,1.0,2.0,2.0,1.0,3.0,2.0,3.0,3.0,1.0,2.0,2.0,2.0,2.0,3.0,2.0,1.0,1.0,2.0,null,1.0,1.0,3.0,5.0,1.0,2.0,2.0,3.0,null,1.0,4.0,5.0,7.0,3.0,4.0,2.0,2.0,2.0,3.0,3.0,3.0,2.0,2.0,1.0,1.0,3.0,2.0,5.0,2.0,1.0,2.0,2.0,4.0,3.0,1.0,4.0,1.0,2.0,4.0,5.0,2.0,1.0,4.0,3.0,3.0,2.0,1.0,3.0,2.0,1.0,1.0,3.0,4.0,5.0,null,4.0,4.0,2.0,5.0,2.0,5.0,1.0,1.0,2.0,3.0,4.0,2.0,1.0,1.0,4.0,2.0,2.0,2.0,5.0,1.0,2.0,2.0,2.0,2.0,2.0,4.0,2.0,1.0,2.0,2.0,1.0,3.0,null,5.0,1.0,null,3.0,2.0,3.0,3.0,3.0,5.0,2.0,1.0,5.0,3.0,2.0,2.0,3.0,1.0,null,3.0,4.0,3.0,null,3.0,3.0,1.0,3.0,5.0,3.0,3.0,2.0,4.0,3.0,4.0,3.0,5.0,2.0,2.0,null,2.0,5.0,1.0,2.0,3.0,2.0,4.0,4.0,3.0,1.0,4.0,4.0,1.0,3.0,1.0,2.0,2.0,1.0,2.0,2.0,2.0,2.0,1.0,1.0,1.0,2.0,2.0,2.0,2.0,2.0,5.0,6.0,4.0,1.0,6.0,4.0,5.0,2.0,3.0,8.0,2.0,1.0,2.0,1.0,2.0,2.0,2.0,3.0,2.0,4.0,4.0,3.0,1.0,2.0,3.0,3.0,5.0,4.0,2.0,1.0,2.0,6.0,1.0,2.0,7.0,5.0,2.0,1.0,4.0,2.0,2.0,5.0,5.0,4.0,1.0,1.0,3.0,5.0,4.0,1.0,3.0,4.0,3.0,4.0,3.0,1.0,2.0,2.0,2.0,5.0,5.0,5.0,null,2.0,5.0,1.0,2.0,3.0,6.0,2.0,1.0,1.0,1.0,3.0,4.0,2.0,3.0,4.0,1.0,2.0,4.0,4.0,3.0,5.0,3.0,3.0,6.0,4.0,null,6.0,2.0,5.0,null,2.0,2.0,1.0,5.0,9.0,7.0,3.0,2.0,4.0,null,4.0,2.0,1.0,2.0,2.0,1.0,1.0,2.0,3.0,2.0,1.0,2.0,1.0,1.0,3.0,1.0,5.0,3.0,1.0,4.0,4.0,1.0,2.0,3.0,4.0,2.0,7.0,2.0,6.0,4.0,4.0,4.0,1.0,4.0,4.0,2.0,2.0,2.0,2.0,4.0,1.0,2.0,2.0,4.0,3.0,7.0,2.0,1.0,2.0,1.0,4.0,1.0,2.0,1.0,6.0,3.0,3.0,4.0,2.0,8.0,1.0,1.0,2.0,2.0,3.0,2.0,1.0,2.0,1.0,4.0,1.0,2.0,4.0,1.0,2.0,1.0,null,4.0,2.0,1.0,5.0,2.0,4.0,5.0,3.0,4.0,2.0,3.0,3.0,1.0,2.0,2.0,null,3.0,null,3.0,2.0,3.0,1.0,3.0,4.0,4.0,2.0,7.0,9.0,5.0,2.0,3.0,2.0,null,4.0,1.0,1.0,5.0,5.0,3.0,3.0,4.0,4.0,4.0,2.0,1.0,2.0,1.0,2.0,1.0,2.0,2.0,5.0,4.0,2.0,2.0,2.0,1.0,2.0,2.0,4.0,null,3.0,2.0,1.0,2.0,2.0,2.0,5.0,2.0,null,2.0,1.0,2.0,2.0,4.0,4.0,5.0,2.0,1.0,3.0,2.0,2.0,1.0,3.0,9.0,1.0,7.0,3.0,4.0,1.0,2.0,3.0,3.0,4.0,null,2.0,2.0,2.0,3.0,4.0,2.0,1.0,3.0,3.0,4.0,5.0,5.0,4.0,3.0,2.0,3.0,2.0,1.0,null,2.0,1.0,2.0,5.0,1.0,1.0,2.0,3.0,2.0,3.0,5.0,9.0,3.0,4.0,2.0,1.0,2.0,6.0,3.0,4.0,4.0,4.0,1.0,2.0,2.0,1.0,4.0,2.0,2.0,3.0,5.0,2.0,3.0,2.0,2.0,3.0,2.0,4.0,2.0,2.0,2.0,2.0,2.0,5.0,4.0,1.0,1.0,2.0,3.0,9.0,null,4.0,3.0,2.0,3.0,3.0,2.0,5.0,3.0,3.0,1.0,2.0,3.0,3.0,4.0,2.0,4.0,1.0,null,4.0,1.0,3.0,2.0,1.0,1.0,3.0,4.0,2.0,3.0,2.0,4.0,6.0,null,null,2.0,2.0,4.0,1.0,1.0,3.0,2.0,4.0,2.0,2.0,4.0,3.0,6.0,2.0,2.0,2.0,3.0,null,2.0,2.0,1.0,2.0,3.0,2.0,2.0,2.0,3.0,3.0,9.0,1.0,1.0,1.0,3.0,3.0,9.0,3.0,1.0,3.0,5.0,1.0,null,2.0,2.0,6.0,3.0,2.0,2.0,2.0,2.0,1.0,2.0,3.0,2.0,5.0,3.0,1.0,2.0,5.0,4.0,3.0,1.0,2.0,2.0,2.0,7.0,1.0,3.0,2.0,4.0,2.0,2.0,2.0,2.0,4.0,1.0,5.0,2.0,4.0,2.0,1.0,4.0,5.0,null,4.0,null,2.0,1.0,4.0,4.0,3.0,3.0,1.0,4.0,2.0,2.0,4.0,1.0,1.0,2.0,7.0,2.0,2.0,2.0,4.0,5.0,3.0,4.0,2.0,1.0,4.0,2.0,5.0,8.0,2.0,4.0,6.0,1.0,5.0,2.0,4.0,3.0,1.0,1.0,1.0,3.0,2.0,3.0,2.0,3.0,3.0,3.0,1.0,2.0,6.0,6.0,2.0,6.0,3.0,1.0,4.0,1.0,2.0,5.0,3.0,2.0,5.0,6.0,4.0,3.0,1.0,5.0,null,4.0,3.0,5.0,3.0,2.0,6.0,2.0,4.0,6.0,5.0,2.0,2.0,4.0,3.0,3.0,3.0,3.0,4.0,2.0,4.0,2.0,3.0,2.0,3.0,4.0,3.0,2.0,3.0,2.0,3.0,1.0,1.0,2.0,2.0,5.0,4.0,2.0,4.0,2.0,1.0,1.0,2.0,4.0,2.0,1.0,1.0,3.0,null,2.0,2.0,3.0,null,1.0,2.0,1.0,2.0,4.0,1.0,null,3.0,3.0,5.0,3.0,1.0,2.0,5.0,4.0,3.0,1.0,3.0,3.0,1.0,5.0,4.0,1.0,4.0,2.0,2.0,2.0,2.0,1.0,5.0,4.0,2.0,4.0,2.0,2.0,1.0,4.0,5.0,3.0,4.0,3.0,3.0,1.0,null,1.0,4.0,1.0,1.0,3.0,4.0,1.0,3.0,1.0,1.0,5.0,3.0,2.0,4.0,1.0,2.0,7.0,null,1.0,3.0,3.0,2.0,3.0,4.0,3.0,1.0,null,4.0,2.0,2.0,6.0,2.0,2.0,4.0,4.0,8.0,3.0,2.0,4.0,1.0,3.0,2.0,2.0,3.0,3.0,2.0,null,2.0,null,null,1.0,2.0,5.0,4.0,4.0,3.0,5.0,2.0,2.0,3.0,1.0,1.0,3.0,5.0,5.0,2.0,3.0,2.0,2.0,1.0,1.0,3.0,1.0,1.0,1.0,1.0,2.0,3.0,2.0,4.0,2.0,4.0,4.0,4.0,4.0,4.0,4.0,2.0,1.0,2.0,2.0,2.0,3.0,2.0,5.0,3.0,1.0,4.0,3.0,2.0,4.0,3.0,2.0,1.0,4.0,9.0,1.0,2.0,5.0,3.0,7.0,4.0,null,4.0,2.0,1.0,2.0,null,3.0,1.0,6.0,2.0,1.0,2.0,4.0,3.0,3.0,1.0,2.0,1.0,1.0,1.0,4.0,1.0,5.0,2.0,2.0,5.0,3.0,1.0,2.0,null,2.0,1.0,5.0,null,2.0,1.0,2.0,1.0,5.0,4.0,1.0,2.0,3.0,3.0,4.0,5.0,2.0,4.0,2.0,2.0,null,3.0,2.0,2.0,5.0,3.0,2.0,2.0,1.0,4.0,2.0,1.0,1.0,5.0,5.0,2.0,2.0,5.0,1.0,4.0,2.0,1.0,3.0,1.0,2.0,5.0,2.0,1.0,2.0,1.0,null,2.0,3.0,2.0,1.0,5.0,4.0,6.0,2.0,1.0,4.0,4.0,1.0,4.0,4.0,1.0,1.0,null,1.0,4.0,6.0,2.0,2.0,4.0,2.0,2.0,1.0,3.0,4.0,3.0,1.0,2.0,5.0,4.0,1.0,2.0,2.0,1.0,2.0,1.0,2.0,2.0,2.0,4.0,2.0,1.0,7.0,3.0,4.0,1.0,4.0,2.0,4.0,2.0,2.0,1.0,4.0,4.0,3.0,2.0,1.0,2.0,1.0,4.0,4.0,1.0,1.0,3.0,2.0,4.0,2.0,1.0,2.0,2.0,3.0,1.0,2.0,null,1.0,3.0,3.0,1.0,2.0,3.0,2.0,4.0,null,2.0,1.0,3.0,5.0,4.0,4.0,4.0,2.0,4.0,5.0,3.0,1.0,2.0,2.0,1.0,5.0,2.0,null,4.0,7.0,1.0,4.0,4.0,4.0,5.0,5.0,9.0,4.0,3.0,3.0,3.0,2.0,1.0,1.0,6.0,2.0,4.0,4.0,5.0,4.0,3.0,4.0,4.0,1.0,2.0,3.0,3.0,4.0,5.0,4.0,2.0,2.0,3.0,3.0,2.0,1.0,2.0,1.0,4.0,1.0,null,2.0,4.0,1.0,4.0,2.0,3.0,1.0,2.0,2.0,2.0,3.0,1.0,2.0,2.0,1.0,1.0,1.0,4.0,1.0,1.0,4.0,4.0,3.0,4.0,4.0,5.0,2.0,2.0,2.0,null,2.0,4.0,2.0,2.0,2.0,1.0,4.0,3.0,2.0,2.0,1.0,1.0,4.0,2.0,2.0,1.0,4.0,2.0,3.0,2.0,1.0,1.0,2.0,2.0,3.0,5.0,4.0,4.0,7.0,2.0,3.0,1.0,2.0,4.0,2.0,4.0,2.0,2.0,null,3.0,1.0,4.0,1.0,6.0,2.0,1.0,4.0,null,2.0,2.0,3.0,2.0,2.0,1.0,5.0,2.0,2.0,2.0,2.0,2.0,2.0,9.0,7.0,4.0,2.0,3.0,2.0,4.0,2.0,4.0,1.0,1.0,2.0,5.0,5.0,1.0,3.0,1.0,2.0,5.0,3.0,4.0,5.0,3.0,2.0,3.0,2.0,6.0,3.0,3.0,null,4.0,5.0,5.0,1.0,1.0,4.0,2.0,2.0,5.0,2.0,3.0,5.0,2.0,3.0,2.0,2.0,3.0,3.0,3.0,4.0,3.0,5.0,5.0,4.0,5.0,1.0,1.0,3.0,4.0,1.0,2.0,5.0,3.0,1.0,4.0,5.0,3.0,4.0,2.0,1.0,2.0,2.0,2.0,4.0,2.0,2.0,2.0,4.0,2.0,3.0,4.0,2.0,3.0,1.0,3.0,2.0,6.0,2.0,4.0,5.0,null,2.0,3.0,1.0,1.0,2.0,4.0,1.0,2.0,2.0,3.0,3.0,1.0,4.0,4.0,null,2.0,3.0,2.0,4.0,6.0,3.0,1.0,1.0,2.0,2.0,3.0,1.0,null,2.0,3.0,5.0,1.0,4.0,2.0,2.0,2.0,2.0,3.0,1.0,2.0,2.0,null,1.0,5.0,2.0,1.0,3.0,1.0,null,2.0,8.0,4.0,4.0,2.0,8.0,3.0,2.0,4.0,1.0,3.0,1.0,5.0,3.0,2.0,1.0,2.0,2.0,4.0,4.0,1.0,2.0,3.0,3.0,2.0,3.0,4.0,2.0,2.0,3.0,4.0,2.0,2.0,3.0,3.0,2.0,3.0,1.0,2.0,3.0,4.0,4.0,2.0,4.0,2.0,1.0,2.0,2.0,4.0,2.0,2.0,2.0,3.0,2.0,2.0,4.0,1.0,1.0,3.0,1.0,4.0,1.0,5.0,5.0,7.0,2.0,2.0,3.0,null,4.0,2.0,1.0,2.0,2.0,5.0,2.0,2.0,3.0,1.0,2.0,1.0,2.0,5.0,1.0,4.0,2.0,3.0,4.0,6.0,3.0,1.0,2.0,3.0,2.0,4.0,2.0,4.0,3.0,5.0,2.0,6.0,4.0,1.0,8.0,4.0,8.0,1.0,null,7.0,5.0,1.0,2.0,3.0,5.0,4.0,2.0,3.0,4.0,2.0,4.0,3.0,2.0,2.0,2.0,4.0,3.0,4.0,5.0,3.0,1.0,2.0,3.0,2.0,3.0,2.0,2.0,2.0,1.0,1.0,5.0,3.0,2.0,2.0,4.0,2.0,3.0,3.0,3.0,1.0,1.0,4.0,5.0,1.0,1.0,2.0,3.0,1.0,2.0,4.0,2.0,3.0,3.0,4.0,6.0,2.0,2.0,2.0,4.0,1.0,6.0,2.0,4.0,2.0,2.0,3.0,2.0,4.0,1.0,4.0,3.0,2.0,1.0,1.0,3.0,null,3.0,2.0,4.0,4.0,2.0,null,2.0,1.0,3.0,2.0,3.0,1.0,3.0,3.0,4.0,2.0,3.0,2.0,2.0,9.0,2.0,1.0,4.0,4.0,2.0,1.0,1.0,6.0,8.0,5.0,3.0,4.0,3.0,2.0,2.0,1.0,2.0,4.0,2.0,3.0,5.0,5.0,null,3.0,7.0,1.0,5.0,1.0,4.0,4.0,3.0,null,1.0,3.0,3.0,2.0,2.0,1.0,3.0,2.0,3.0,1.0,1.0,null,5.0,2.0,3.0,2.0,2.0,2.0,2.0,null,3.0,1.0,null,6.0,3.0,8.0,2.0,3.0,2.0,1.0,1.0,2.0,2.0,2.0,2.0,1.0,3.0,4.0,3.0,2.0,1.0,4.0,2.0,5.0,4.0,1.0,4.0,3.0,6.0,1.0,4.0,null,5.0,2.0,3.0,3.0,7.0,2.0,2.0,2.0,5.0,3.0,6.0,3.0,3.0,2.0,2.0,1.0,4.0,2.0,6.0,3.0,4.0,1.0,4.0,4.0,5.0,5.0,3.0,2.0,3.0,1.0,null,2.0,1.0,3.0,2.0,2.0,3.0,4.0,2.0,1.0,2.0,2.0,3.0,4.0,2.0,3.0,1.0,2.0,3.0,4.0,3.0,2.0,3.0,1.0,1.0,2.0,1.0,2.0,2.0,4.0,3.0,1.0,null,6.0,3.0,4.0,3.0,2.0,2.0,2.0,2.0,3.0,4.0,7.0,null,4.0,5.0,3.0,2.0,1.0,1.0,2.0,3.0,2.0,null,7.0,null,1.0,1.0,1.0,1.0,1.0,7.0,4.0,5.0,4.0,2.0,2.0,null,4.0,2.0,3.0,3.0,4.0,4.0,8.0,1.0,2.0,3.0,null,3.0,2.0,1.0,2.0,5.0,2.0,4.0,2.0,1.0,4.0,2.0,2.0,4.0,1.0,2.0,3.0,3.0,4.0,2.0,2.0,1.0,5.0,5.0,4.0,3.0,4.0,2.0,null,5.0,2.0,1.0,3.0,4.0,2.0,3.0,3.0,1.0,3.0,2.0,2.0,3.0,4.0,2.0,3.0,3.0,4.0,6.0,2.0,null,3.0,4.0,1.0,1.0,1.0,4.0,2.0,3.0,2.0,8.0,3.0,4.0,1.0,2.0,3.0,3.0,2.0,3.0,1.0,5.0,2.0,3.0,1.0,5.0,1.0,2.0,3.0,5.0,2.0,2.0,3.0,2.0,2.0,1.0,2.0,4.0,4.0,6.0,5.0,1.0,2.0,null,2.0,3.0,1.0,2.0,null,2.0,2.0,2.0,null,5.0,4.0,5.0,5.0,2.0,2.0,3.0,1.0,1.0,3.0,2.0,2.0,4.0,2.0,null,3.0,1.0,2.0,1.0,2.0,2.0,5.0,2.0,1.0,4.0,4.0,4.0,1.0,1.0,2.0,2.0,2.0,3.0,1.0,4.0,3.0,2.0,2.0,5.0,3.0,2.0,3.0,null,2.0,3.0,4.0,5.0,3.0,4.0,1.0,3.0,5.0,1.0,4.0,2.0,4.0,3.0,2.0,2.0,2.0,2.0,2.0,3.0,2.0,1.0,3.0,3.0,2.0,4.0,3.0,2.0,3.0,1.0,4.0,5.0,3.0,5.0,null,2.0,2.0,4.0,2.0,2.0,2.0,3.0,4.0,3.0,5.0,2.0,3.0,4.0,2.0,1.0,4.0,2.0,null,4.0,2.0,2.0,4.0,2.0,1.0,2.0,4.0,2.0,3.0,null,1.0,2.0,4.0,1.0,3.0,1.0,3.0,3.0,2.0,2.0,3.0,1.0,4.0,4.0,2.0,2.0,6.0,6.0,1.0,2.0,1.0,2.0,3.0,2.0,4.0,4.0,4.0,2.0,2.0,3.0,null,1.0,2.0,3.0,4.0,5.0,1.0,3.0,1.0,1.0,3.0,1.0,5.0,1.0,4.0,4.0,5.0,4.0,2.0,2.0,1.0,1.0,2.0,3.0,2.0,1.0,2.0,3.0,3.0,5.0,3.0,2.0,4.0,1.0,4.0,2.0,4.0,3.0,1.0,2.0,2.0,null,1.0,4.0,5.0,3.0,2.0,2.0,3.0,2.0,5.0,4.0,6.0,3.0,2.0,3.0,2.0,2.0,4.0,3.0,3.0,3.0,3.0,5.0,1.0,1.0,3.0,3.0,3.0,1.0,2.0,2.0,2.0,4.0,4.0,1.0,3.0,6.0,2.0,2.0,1.0,1.0,1.0,2.0,4.0,2.0,1.0,2.0,1.0,5.0,7.0,2.0,3.0,5.0,3.0,4.0,5.0,1.0,5.0,5.0,2.0,2.0,2.0,2.0,2.0,2.0,6.0,2.0,2.0,2.0,4.0,6.0,9.0,3.0,2.0,4.0,7.0,2.0,5.0,1.0,4.0,2.0,1.0,3.0,6.0,5.0,3.0,4.0,3.0,2.0,1.0,6.0,5.0,4.0,3.0,4.0,3.0,1.0,2.0,1.0,3.0,4.0,4.0,1.0,5.0,3.0,3.0,1.0,3.0,4.0,4.0,4.0,3.0,2.0,4.0,3.0,2.0,4.0,1.0,1.0,3.0,5.0,4.0,4.0,2.0,1.0,3.0,2.0,3.0,4.0,null,2.0,1.0,null,null,2.0,3.0,2.0,null,7.0,2.0,3.0,4.0,3.0,5.0,null,3.0,5.0,2.0,null,2.0,3.0,2.0,2.0,3.0,5.0,1.0,2.0,4.0,3.0,1.0,2.0,2.0,4.0,4.0,1.0,1.0,5.0,2.0,4.0,2.0,3.0,null,6.0,6.0,2.0,2.0,null,6.0,3.0,1.0,5.0,2.0,2.0,1.0,5.0,2.0,1.0,2.0,2.0,2.0,null,3.0,1.0,5.0,4.0,3.0,3.0,3.0,4.0,2.0,3.0,3.0,2.0,5.0,7.0,1.0,3.0,4.0,2.0,3.0,1.0,5.0,3.0,4.0,2.0,null,3.0,6.0,2.0,2.0,2.0,3.0,2.0,1.0,4.0,4.0,2.0,2.0,1.0,null,3.0,4.0,4.0,2.0,1.0,5.0,1.0,4.0,1.0,4.0,3.0,2.0,5.0,1.0,null,1.0,8.0,2.0,2.0,3.0,1.0,2.0,4.0,2.0,4.0,1.0,3.0,1.0,2.0,2.0,2.0,6.0,4.0,2.0,3.0,5.0,2.0,1.0,4.0,8.0,3.0,6.0,1.0,2.0,2.0,4.0,2.0,2.0,2.0,1.0,2.0,3.0,3.0,4.0,2.0,3.0,2.0,1.0,3.0,4.0,5.0,2.0,2.0,3.0,5.0,4.0,2.0,3.0,1.0,3.0,1.0,1.0,8.0,1.0,2.0,4.0,2.0,2.0,4.0,2.0,2.0,null,4.0,null,1.0,2.0,3.0,3.0,5.0,2.0,3.0,3.0,2.0,3.0,5.0,2.0,5.0,2.0,2.0,3.0,3.0,3.0,3.0,2.0,4.0,2.0,3.0,2.0,3.0,2.0,1.0,5.0,1.0,3.0,3.0,2.0,4.0,2.0,5.0,2.0,1.0,1.0,1.0,2.0,2.0,4.0,6.0,1.0,4.0,4.0,3.0,2.0,2.0,2.0,3.0,6.0,3.0,3.0,3.0,2.0,4.0,6.0,2.0,4.0,1.0,1.0,3.0,3.0,3.0,2.0,null,1.0,1.0,2.0,4.0,null,null,5.0,4.0,2.0,5.0,2.0,4.0,1.0,4.0,1.0,1.0,4.0,2.0,4.0,2.0,4.0,2.0,6.0,3.0,4.0,2.0,3.0,1.0,5.0,4.0,1.0,1.0,3.0,1.0,5.0,3.0,null,4.0,2.0,2.0,2.0,2.0,3.0,8.0,3.0,1.0,3.0,2.0,4.0,2.0,null,1.0,3.0,4.0,2.0,null,4.0,6.0,1.0,2.0,2.0,7.0,2.0,2.0,2.0,2.0,1.0,3.0,4.0,4.0,2.0,8.0,6.0,4.0,9.0,4.0,4.0,3.0,1.0,4.0,3.0,2.0,6.0,2.0,1.0,3.0,2.0,3.0,2.0,2.0,1.0,4.0,4.0,4.0,5.0,2.0,5.0,2.0,2.0,3.0,4.0,2.0,4.0,3.0,3.0,3.0,null,4.0,2.0,3.0,4.0,2.0,2.0,1.0,6.0,1.0,1.0,4.0,3.0,4.0,1.0,4.0,1.0,3.0,3.0,3.0,3.0,1.0,2.0,4.0,1.0,5.0,2.0,5.0,1.0,3.0,4.0,2.0,2.0,9.0,1.0,null,4.0,2.0,4.0,3.0,3.0,5.0,4.0,4.0,null,2.0,2.0,2.0,2.0,2.0,4.0,3.0,4.0,2.0,3.0,4.0,5.0,1.0,3.0,1.0,2.0,2.0,1.0,3.0,4.0,5.0,1.0,1.0,2.0,1.0,2.0,2.0,1.0,1.0,4.0,2.0,5.0,3.0,3.0,null,5.0,3.0,2.0,2.0,2.0,1.0,null,3.0,2.0,3.0,5.0,1.0,5.0,5.0,4.0,1.0,2.0,4.0,1.0,1.0,null,1.0,5.0,4.0,1.0,2.0,5.0,4.0,1.0,2.0,1.0,4.0,4.0,2.0,2.0,4.0,7.0,null,4.0,4.0,1.0,3.0,4.0,4.0,3.0,1.0,2.0,1.0,5.0,5.0,2.0,3.0,7.0,2.0,4.0,1.0,1.0,5.0,4.0,2.0,1.0,2.0,7.0,4.0,3.0,3.0,8.0,2.0,3.0,4.0,2.0,3.0,4.0,1.0,4.0,2.0,2.0,3.0,4.0,1.0,1.0,5.0,2.0,1.0,4.0,4.0,2.0,2.0,4.0,2.0,6.0,3.0,1.0,2.0,1.0,3.0,1.0,4.0,2.0,1.0,2.0,4.0,1.0,null,4.0,2.0,2.0,3.0,2.0,3.0,3.0,2.0,1.0,2.0,2.0,4.0,2.0,1.0,3.0,2.0,2.0,2.0,5.0,2.0,3.0,1.0,5.0,1.0,4.0,3.0,1.0,7.0,1.0,3.0,4.0,2.0,1.0,4.0,4.0,2.0,2.0,1.0,1.0,3.0,3.0,2.0,2.0,2.0,2.0,3.0,3.0,2.0,3.0,2.0,4.0,2.0,2.0,4.0,2.0,4.0,null,1.0,6.0,4.0,1.0,3.0,1.0,4.0,null,1.0,null,3.0,1.0,4.0,5.0,4.0,4.0,5.0,2.0,4.0,3.0,3.0,4.0,2.0,4.0,6.0,3.0,null,3.0,1.0,null,2.0,3.0,4.0,3.0,7.0,3.0,2.0,3.0,4.0,null,2.0,2.0,9.0,2.0,1.0,1.0,3.0,3.0,1.0,2.0,9.0,5.0,2.0,1.0,2.0,1.0,1.0,7.0,5.0,1.0,6.0,4.0,2.0,null,3.0,7.0,1.0,2.0,2.0,2.0,1.0,1.0,1.0,3.0,5.0,2.0,5.0,2.0,1.0,3.0,1.0,4.0,2.0,4.0,2.0,1.0,4.0,2.0,1.0,3.0,4.0,1.0,1.0,4.0,1.0,1.0,5.0,2.0,5.0,3.0,4.0,3.0,5.0,2.0,2.0,3.0,3.0,5.0,5.0,2.0,2.0,4.0,3.0,6.0,1.0,3.0,3.0,2.0,2.0,2.0,4.0,1.0,4.0,3.0,4.0,3.0,2.0,3.0,4.0,1.0,3.0,4.0,2.0,2.0,null,1.0,4.0,2.0,1.0,4.0,3.0,2.0,1.0,1.0,1.0,2.0,2.0,3.0,3.0,3.0,4.0,2.0,4.0,3.0,2.0,2.0,2.0,2.0,4.0,2.0,1.0,2.0,7.0,1.0,2.0,3.0,2.0,2.0,2.0,1.0,3.0,6.0,9.0,5.0,2.0,3.0,3.0,2.0,1.0,7.0,4.0,3.0,6.0,1.0,1.0,4.0,2.0,3.0,3.0,4.0,1.0,3.0,null,1.0,1.0,4.0,4.0,4.0,1.0,4.0,3.0,3.0,2.0,null,4.0,4.0,3.0,6.0,1.0,1.0,3.0,2.0,1.0,3.0,1.0,4.0,4.0,4.0,2.0,1.0,1.0,2.0,1.0,2.0,3.0,1.0,6.0,4.0,3.0,2.0,4.0,1.0,3.0,3.0,4.0,2.0,4.0,1.0,2.0,2.0,2.0,2.0,3.0,2.0,2.0,5.0,2.0,3.0,1.0,3.0,1.0,1.0,3.0,1.0,1.0,4.0,2.0,1.0,3.0,1.0,3.0,1.0,3.0,null,2.0,4.0,2.0,4.0,1.0,1.0,2.0,2.0,2.0,null,6.0,1.0,2.0,4.0,1.0,2.0,3.0,2.0,2.0,3.0,1.0,1.0,4.0,null,4.0,4.0,1.0,2.0,1.0,1.0,4.0,2.0,5.0,1.0,4.0,2.0,2.0,3.0,2.0,3.0,4.0,4.0,1.0,4.0,4.0,3.0,4.0,4.0,2.0,1.0,4.0,2.0,2.0,2.0,2.0,5.0,2.0,3.0,2.0,null,5.0,3.0,1.0,3.0,2.0,2.0,2.0,5.0,1.0,3.0,3.0,2.0,2.0,2.0,3.0,1.0,3.0,1.0,1.0,2.0,1.0,1.0,5.0,1.0,4.0,4.0,3.0,2.0,1.0,5.0,3.0,3.0,5.0,4.0,3.0,4.0,2.0,null,3.0,2.0,2.0,1.0,1.0,2.0,2.0,2.0,1.0,3.0,3.0,2.0,8.0,3.0,3.0,3.0,1.0,2.0,2.0,4.0,2.0,2.0,4.0,4.0,1.0,4.0,4.0,2.0,1.0,1.0,5.0,4.0,2.0,2.0,1.0,4.0,4.0,2.0,6.0,3.0,4.0,1.0,1.0,1.0,2.0,1.0,5.0,2.0,2.0,1.0,2.0,1.0,6.0,1.0,2.0,3.0,5.0,5.0,1.0,2.0,4.0,2.0,4.0,4.0,3.0,3.0,2.0,1.0,7.0,4.0,null,1.0,2.0,4.0,5.0,3.0,4.0,2.0,4.0,1.0,3.0,2.0,1.0,1.0,3.0,4.0,1.0,7.0,4.0,6.0,7.0,4.0,2.0,2.0,6.0,6.0,3.0,2.0,1.0,null,8.0,4.0,2.0,2.0,null,4.0,1.0,4.0,3.0,2.0,2.0,2.0,3.0,2.0,2.0,3.0,2.0,3.0,2.0,4.0,7.0,1.0,4.0,null,1.0,4.0,2.0,1.0,2.0,2.0,3.0,2.0,2.0,4.0,1.0,3.0,4.0,4.0,5.0,3.0,3.0,3.0,3.0,4.0,8.0,1.0,4.0,4.0,1.0,4.0,9.0,3.0,2.0,3.0,2.0,6.0,3.0,2.0,4.0,3.0,1.0,2.0,2.0,2.0,2.0,4.0,5.0,4.0,5.0,7.0,3.0,5.0,1.0,4.0,4.0,null,4.0,null,3.0,null,3.0,3.0,6.0,null,1.0,1.0,1.0,3.0,3.0,3.0,3.0,1.0,3.0,1.0,2.0,3.0,1.0,2.0,2.0,2.0,2.0,5.0,2.0,1.0,3.0,1.0,3.0,3.0,4.0,1.0,2.0,2.0,2.0,2.0,4.0,5.0,1.0,1.0,4.0,3.0,2.0,3.0,5.0,2.0,2.0,5.0,1.0,3.0,5.0,4.0,1.0,1.0,3.0,5.0,5.0,1.0,1.0,2.0,4.0,2.0,2.0,5.0,2.0,1.0,7.0,2.0,2.0,2.0,2.0,3.0,1.0,2.0,3.0,2.0,2.0,4.0,2.0,2.0,3.0,5.0,4.0,2.0,7.0,2.0,null,2.0,2.0,5.0,2.0,1.0,2.0,2.0,4.0,4.0,5.0,4.0,2.0,2.0,5.0,1.0,5.0,4.0,3.0,1.0,3.0,4.0,2.0,1.0,3.0,4.0,8.0,2.0,3.0,null,2.0,4.0,3.0,3.0,null,2.0,2.0,4.0,2.0,1.0,1.0,4.0,2.0,2.0,1.0,1.0,2.0,1.0,1.0,9.0,4.0,4.0,4.0,3.0,3.0,3.0,null,2.0,2.0,5.0,2.0,5.0,4.0,2.0,2.0,2.0,4.0,3.0,1.0,4.0,2.0,4.0,4.0,1.0,2.0,3.0,1.0,4.0,3.0,1.0,5.0,3.0,2.0,1.0,2.0,3.0,6.0,1.0,null,2.0,3.0,2.0,null,null,2.0,1.0,3.0,1.0,3.0,4.0,2.0,4.0,2.0,4.0,2.0,2.0,4.0,6.0,2.0,4.0,5.0,3.0,1.0,4.0,null,3.0,2.0,4.0,2.0,2.0,3.0,2.0,1.0,1.0,1.0,4.0,2.0,3.0,5.0,4.0,4.0,5.0,2.0,2.0,2.0,5.0,1.0,3.0,1.0,2.0,2.0,2.0,5.0,3.0,3.0,1.0,5.0,4.0,8.0,3.0,4.0,4.0,1.0,4.0,3.0,3.0,2.0,4.0,3.0,1.0,2.0,2.0,2.0,5.0,1.0,5.0,4.0,3.0,1.0,null,1.0,2.0,3.0,1.0,3.0,6.0,2.0,5.0,3.0,5.0,1.0,1.0,2.0,2.0,1.0,1.0,5.0,4.0,2.0,1.0,1.0,2.0,4.0,4.0,3.0,2.0,3.0,4.0,4.0,2.0,1.0,3.0,4.0,1.0,2.0,2.0,2.0,2.0,2.0,3.0,4.0,2.0,2.0,3.0,null,3.0,2.0,1.0,3.0,4.0,3.0,4.0,3.0,2.0,2.0,2.0,2.0,2.0,4.0,3.0,8.0,1.0,1.0,1.0,4.0,4.0,5.0,2.0,3.0,4.0,4.0,2.0,2.0,2.0,1.0,4.0,5.0,5.0,null,2.0,2.0,1.0,2.0,2.0,2.0,1.0,2.0,2.0,1.0,4.0,6.0,3.0,3.0,2.0,4.0,2.0,4.0,5.0,1.0,2.0,3.0,2.0,3.0,2.0,4.0,1.0,2.0,1.0,2.0,3.0,null,3.0,5.0,4.0,1.0,6.0,5.0,1.0,null,2.0,2.0,3.0,2.0,2.0,2.0,4.0,5.0,5.0,1.0,1.0,3.0,2.0,1.0,1.0,5.0,4.0,4.0,3.0,1.0,1.0,5.0,4.0,6.0,4.0,3.0,3.0,4.0,null,1.0,null,2.0,4.0,1.0,2.0,2.0,3.0,3.0,2.0,3.0,7.0,2.0,5.0,2.0,2.0,4.0,6.0,2.0,2.0,3.0,4.0,3.0,3.0,2.0,3.0,3.0,null,3.0,5.0,4.0,6.0,5.0,2.0,3.0,3.0,1.0,2.0,3.0,2.0,2.0,5.0,3.0,2.0,1.0,2.0,2.0,4.0,5.0,2.0,5.0,2.0,1.0,2.0,2.0,1.0,2.0,2.0,3.0,3.0,2.0,1.0,2.0,5.0,6.0,2.0,2.0,5.0,2.0,4.0,4.0,null,4.0,2.0,1.0,6.0,5.0,4.0,3.0,5.0,1.0,3.0,6.0,4.0,1.0,7.0,5.0,1.0,3.0,2.0,4.0,2.0,2.0,2.0,1.0,1.0,2.0,4.0,3.0,4.0,2.0,3.0,4.0,2.0,4.0,1.0,4.0,1.0,4.0,null,5.0,5.0,1.0,4.0,4.0,2.0,2.0,1.0,4.0,1.0,2.0,1.0,3.0,2.0,4.0,3.0,6.0,2.0,null,1.0,2.0,2.0,2.0,1.0,2.0,1.0,4.0,4.0,1.0,4.0,1.0,2.0,3.0,5.0,3.0,4.0,6.0,2.0,5.0,5.0,4.0,2.0,1.0,2.0,4.0,3.0,2.0,2.0,3.0,4.0,5.0,5.0,2.0,4.0,2.0,4.0,2.0,2.0,1.0,5.0,7.0,3.0,4.0,2.0,1.0,3.0,3.0,4.0,2.0,1.0,1.0,3.0,6.0,2.0,4.0,1.0,4.0,5.0,3.0,6.0,1.0,2.0,3.0,4.0,2.0,4.0,3.0,2.0,6.0,2.0,2.0,1.0,null,3.0,1.0,2.0,1.0,4.0,null,4.0,4.0,9.0,5.0,2.0,2.0,null,4.0,3.0,2.0,2.0,2.0,3.0,1.0,1.0,2.0,null,2.0,2.0,4.0,2.0,3.0,4.0,2.0,3.0,6.0,2.0,2.0,4.0,2.0,2.0,5.0,1.0,3.0,2.0,2.0,6.0,5.0,2.0,8.0,4.0,4.0,4.0,2.0,1.0,4.0,4.0,2.0,2.0,2.0,null,1.0,2.0,2.0,null,3.0,1.0,7.0,4.0,1.0,4.0,2.0,5.0,1.0,4.0,5.0,2.0,3.0,3.0,3.0,6.0,4.0,2.0,2.0,1.0,1.0,1.0,4.0,1.0,4.0,2.0,2.0,2.0,3.0,2.0,5.0,4.0,3.0,3.0,1.0,2.0,3.0,2.0,5.0,null,1.0,2.0,1.0,3.0,2.0,2.0,4.0,2.0,2.0,2.0,null,4.0,4.0,2.0,3.0,2.0,1.0,3.0,7.0,5.0,4.0,4.0,2.0,4.0,2.0,5.0,2.0,2.0,2.0,1.0,5.0,4.0,2.0,1.0,4.0,1.0,3.0,3.0,5.0,3.0,1.0,6.0,2.0,4.0,2.0,1.0,3.0,5.0,2.0,5.0,5.0,2.0,3.0,2.0,2.0,3.0,2.0,3.0,1.0,3.0,2.0,3.0,5.0,3.0,2.0,6.0,5.0,2.0,3.0,1.0,2.0,3.0,2.0,3.0,3.0,4.0,2.0,2.0,3.0,2.0,2.0,2.0,4.0,2.0,6.0,4.0,2.0,3.0,4.0,null,4.0,4.0,1.0,6.0,1.0,2.0,4.0,3.0,3.0,null,2.0,4.0,1.0,2.0,2.0,1.0,3.0,4.0,3.0,7.0,2.0,2.0,2.0,2.0,1.0,5.0,5.0,8.0,5.0,3.0,2.0,2.0,4.0,1.0,1.0,4.0,4.0,1.0,3.0,6.0,4.0,3.0,1.0,3.0,2.0,1.0,5.0,5.0,1.0,4.0,1.0,6.0,2.0,3.0,3.0,2.0,1.0,3.0,1.0,9.0,1.0,4.0,5.0,2.0,3.0,4.0,5.0,3.0,2.0,1.0,2.0,5.0,null,3.0,2.0,1.0,1.0,1.0,2.0,2.0,2.0,2.0,5.0,4.0,2.0,4.0,null,1.0,6.0,8.0,5.0,3.0,1.0,4.0,2.0,1.0,3.0,1.0,1.0,4.0,1.0,2.0,3.0,4.0,4.0,1.0,1.0,8.0,2.0,2.0,2.0,4.0,1.0,6.0,null,2.0,1.0,4.0,4.0,2.0,2.0,1.0,1.0,2.0,4.0,1.0,9.0,null,3.0,1.0,4.0,2.0,3.0,3.0,4.0,1.0,4.0,3.0,1.0,2.0,1.0,2.0,2.0,3.0,null,2.0,1.0,6.0,9.0,4.0,3.0,1.0,2.0,5.0,2.0,1.0,3.0,1.0,1.0,4.0,3.0,1.0,2.0,2.0,3.0,5.0,2.0,4.0,2.0,3.0,4.0,6.0,1.0,7.0,2.0,1.0,1.0,1.0,null,4.0,5.0,5.0,null,4.0,2.0,2.0,2.0,4.0,4.0,4.0,3.0,1.0,2.0,2.0,2.0,5.0,3.0,3.0,null,2.0,4.0,1.0,2.0,3.0,3.0,2.0,2.0,4.0,2.0,1.0,2.0,1.0,4.0,4.0,1.0,2.0,2.0,2.0,4.0,4.0,2.0,4.0,2.0,1.0,4.0,2.0,1.0,4.0,2.0,4.0,2.0,2.0,3.0,2.0,4.0,4.0,2.0,3.0,1.0,2.0,3.0,2.0,2.0,3.0,3.0,null,null,1.0,2.0,6.0,1.0,6.0,6.0,null,2.0,1.0,1.0,3.0,2.0,5.0,null,2.0,2.0,1.0,null,3.0,null,1.0,4.0,2.0,2.0,2.0,2.0,null,1.0,3.0,3.0,6.0,3.0,3.0,2.0,4.0,3.0,3.0,1.0,2.0,2.0,3.0,3.0,3.0,2.0,null,2.0,1.0,null,6.0,2.0,2.0,5.0,6.0,6.0,2.0,4.0,2.0,5.0,5.0,2.0,3.0,2.0,2.0,2.0,1.0,6.0,1.0,null,1.0,3.0,4.0,4.0,2.0,2.0,3.0,3.0,7.0,3.0,2.0,4.0,3.0,3.0,2.0,1.0,5.0,2.0,2.0,1.0,1.0,2.0,3.0,1.0,3.0,2.0,1.0,2.0,2.0,3.0,1.0,1.0,4.0,3.0,2.0,1.0,2.0,1.0,2.0,3.0,2.0,4.0,4.0,2.0,8.0,1.0,3.0,2.0,4.0,1.0,6.0,2.0,1.0,4.0,2.0,5.0,5.0,1.0,2.0,3.0,1.0,2.0,1.0,3.0,2.0,8.0,2.0,4.0,8.0,5.0,4.0,4.0,1.0,1.0,4.0,4.0,6.0,1.0,5.0,1.0,3.0,5.0,3.0,2.0,2.0,1.0,1.0,2.0,2.0,1.0,8.0,4.0,1.0,2.0,3.0,3.0,2.0,3.0,5.0,4.0,2.0,3.0,2.0,4.0,3.0,3.0,2.0,3.0,2.0,1.0,1.0,2.0,2.0,1.0,4.0,2.0,2.0,4.0,1.0,2.0,1.0,4.0,1.0,2.0,2.0,1.0,5.0,5.0,3.0,4.0,4.0,3.0,5.0,1.0,2.0,4.0,4.0,3.0,5.0,3.0,5.0,3.0,1.0,3.0,3.0,2.0,5.0,3.0,3.0,1.0,2.0,5.0,3.0,5.0,2.0,2.0,4.0,4.0,3.0,4.0,7.0,2.0,1.0,1.0,2.0,null,4.0,3.0,5.0,2.0,1.0,4.0,1.0,3.0,2.0,null,7.0,1.0,1.0,2.0,2.0,5.0,2.0,2.0,4.0,2.0,2.0,1.0,1.0,1.0,4.0,4.0,2.0,2.0,5.0,1.0,8.0,2.0,2.0,1.0,2.0,1.0,4.0,2.0,4.0,1.0,4.0,3.0,null,3.0,4.0,3.0,2.0,2.0,2.0,2.0,4.0,1.0,2.0,2.0,1.0,1.0,null,4.0,2.0,3.0,2.0,2.0,6.0,3.0,2.0,2.0,2.0,6.0,2.0,4.0,3.0,2.0,2.0,2.0,6.0,4.0,2.0,2.0,2.0,2.0,5.0,3.0,5.0,2.0,2.0,1.0,1.0,2.0,3.0,2.0,3.0,null,4.0,1.0,4.0,3.0,4.0,2.0,2.0,6.0,3.0,1.0,1.0,4.0,1.0,2.0,null,4.0,2.0,2.0,null,2.0,4.0,3.0,7.0,1.0,5.0,2.0,4.0,1.0,3.0,4.0,2.0,2.0,3.0,1.0,2.0,5.0,3.0,5.0,2.0,2.0,4.0,4.0,2.0,3.0,3.0,3.0,6.0,1.0,2.0,5.0,3.0,3.0,4.0,2.0,4.0,2.0,1.0,null,null,1.0,4.0,2.0,9.0,1.0,3.0,2.0,null,3.0,1.0,4.0,4.0,5.0,4.0,3.0,2.0,1.0,1.0,9.0,2.0,2.0,4.0,7.0,5.0,3.0,4.0,3.0,3.0,1.0,2.0,2.0,null,2.0,9.0,2.0,null,1.0,null,3.0,6.0,1.0,3.0,2.0,2.0,3.0,3.0,2.0,2.0,2.0,2.0,2.0,3.0,4.0,3.0,3.0,2.0,1.0,3.0,5.0,1.0,4.0,4.0,2.0,1.0,4.0,5.0,6.0,3.0,5.0,1.0,3.0,4.0,1.0,4.0,2.0,4.0,2.0,4.0,4.0,1.0,2.0,6.0,1.0,3.0,3.0,6.0,2.0,1.0,1.0,2.0,4.0,2.0,2.0,1.0,4.0,5.0,3.0,2.0,1.0,2.0,1.0,1.0,3.0,2.0,4.0,3.0,2.0,3.0,4.0,3.0,5.0,3.0,3.0,3.0,2.0,4.0,8.0,2.0,2.0,4.0,2.0,1.0,2.0,7.0,2.0,3.0,5.0,1.0,2.0,5.0,4.0,4.0,4.0,5.0,3.0,4.0,8.0,3.0,3.0,1.0,2.0,1.0,2.0,3.0,4.0,1.0,5.0,4.0,1.0,2.0,4.0,5.0,3.0,2.0,1.0,3.0,4.0,null,3.0,4.0,3.0,2.0,5.0,2.0,5.0,6.0,1.0,null,3.0,3.0,2.0,9.0,5.0,2.0,2.0,4.0,6.0,2.0,6.0,4.0,null,5.0,4.0,null,5.0,4.0,2.0,1.0,4.0,3.0,4.0,1.0,2.0,1.0,3.0,4.0,3.0,1.0,1.0,3.0,4.0,3.0,4.0,null,null,4.0,1.0,3.0,3.0,1.0,1.0,2.0,2.0,2.0,2.0,2.0,4.0,7.0,5.0,7.0,2.0,4.0,null,5.0,6.0,5.0,2.0,3.0,1.0,4.0,2.0,2.0,2.0,2.0,3.0,1.0,2.0,2.0,2.0,1.0,2.0,5.0,2.0,3.0,1.0,1.0,null,6.0,4.0,4.0,3.0,2.0,5.0,3.0,3.0,3.0,2.0,4.0,1.0,3.0,2.0,4.0,3.0,3.0,2.0,6.0,2.0,6.0,4.0,3.0,1.0,1.0,1.0,4.0,2.0,5.0,2.0,4.0,3.0,2.0,2.0,4.0,1.0,7.0,1.0,4.0,1.0,2.0,1.0,3.0,1.0,4.0,4.0,2.0,1.0,2.0,5.0,2.0,3.0,3.0,1.0,2.0,5.0,3.0,4.0,null,4.0,1.0,4.0,2.0,2.0,2.0,4.0,2.0,4.0,1.0,2.0,2.0,2.0,2.0,2.0,3.0,2.0,1.0,2.0,1.0,2.0,1.0,2.0,1.0,1.0,3.0,2.0,4.0,4.0,2.0,2.0,2.0,1.0,3.0,1.0,2.0,3.0,5.0,3.0,5.0,2.0,3.0,1.0,1.0,null,3.0,5.0,2.0,4.0,2.0,3.0,2.0,2.0,4.0,2.0,5.0,3.0,2.0,null,5.0,5.0,2.0,3.0,2.0,3.0,4.0,4.0,5.0,3.0,1.0,2.0,4.0,2.0,1.0,2.0,1.0,3.0,2.0,3.0,6.0,null,2.0,4.0,2.0,5.0,3.0,1.0,4.0,9.0,2.0,2.0,1.0,2.0,4.0,2.0,1.0,2.0,1.0,3.0,4.0,1.0,2.0,3.0,2.0,1.0,1.0,3.0,3.0,1.0,2.0,1.0,3.0,3.0,2.0,2.0,1.0,null,2.0,3.0,5.0,2.0,3.0,4.0,2.0,5.0,7.0,2.0,null,2.0,1.0,1.0,null,2.0,5.0,2.0,2.0,4.0,1.0,1.0,2.0,3.0,6.0,5.0,4.0,4.0,5.0,1.0,1.0,1.0,2.0,2.0,5.0,3.0,2.0,1.0,5.0,null,2.0,3.0,2.0,null,1.0,5.0,2.0,3.0,9.0,3.0,3.0,4.0,1.0,2.0,2.0,3.0,4.0,1.0,null,2.0,1.0,3.0,1.0,1.0,7.0,2.0,2.0,3.0,1.0,4.0,1.0,5.0,null,null,null,3.0,3.0,4.0,1.0,4.0,null,3.0,5.0,3.0,3.0,2.0,1.0,2.0,1.0,4.0,2.0,2.0,5.0,5.0,3.0,3.0,null,2.0,null,1.0,1.0,5.0,4.0,1.0,3.0,4.0,1.0,2.0,5.0,4.0,4.0,2.0,3.0,3.0,1.0,2.0,2.0,3.0,8.0,4.0,6.0,4.0,4.0,2.0,2.0,2.0,2.0,1.0,1.0,5.0,1.0,null,4.0,1.0,2.0,5.0,6.0,4.0,3.0,2.0,4.0,null,null,2.0,2.0,1.0,2.0,3.0,2.0,2.0,2.0,4.0,4.0,2.0,1.0,2.0,3.0,1.0,3.0,1.0,2.0,1.0,2.0,1.0,1.0,null,2.0,2.0,4.0,2.0,3.0,2.0,2.0,4.0,1.0,1.0,2.0,3.0,2.0,1.0,4.0,4.0,4.0,4.0,3.0,3.0,2.0,2.0,1.0,4.0,2.0,2.0,2.0,3.0,null,2.0,4.0,2.0,9.0,3.0,2.0,1.0,2.0,3.0,1.0,4.0,3.0,4.0,5.0,1.0,3.0,3.0,1.0,null,2.0,4.0,3.0,1.0,1.0,1.0,4.0,5.0,3.0,2.0,1.0,2.0,4.0,4.0,4.0,2.0,3.0,null,2.0,2.0,1.0,2.0,4.0,3.0,4.0,1.0,2.0,null,4.0,9.0,2.0,3.0,3.0,5.0,4.0,2.0,5.0,5.0,2.0,1.0,2.0,4.0,4.0,3.0,3.0,1.0,3.0,4.0,1.0,2.0,2.0,3.0,2.0,3.0,2.0,1.0,2.0,4.0,3.0,1.0,6.0,3.0,2.0,3.0,1.0,2.0,9.0,3.0,1.0,3.0,1.0,5.0,2.0,4.0,2.0,3.0,3.0,null,7.0,2.0,2.0,3.0,1.0,4.0,1.0,2.0,3.0,1.0,1.0,4.0,5.0,5.0,3.0,2.0,null,1.0,4.0,1.0,3.0,3.0,2.0,2.0,2.0,4.0,2.0,2.0,6.0,5.0,4.0,2.0,3.0,null,6.0,1.0,3.0,4.0,3.0,1.0,2.0,6.0,1.0,1.0,3.0,2.0,3.0,2.0,1.0,2.0,1.0,2.0,1.0,4.0,2.0,3.0,2.0,4.0,4.0,2.0,3.0,1.0,1.0,2.0,null,3.0,2.0,4.0,2.0,2.0,2.0,4.0,1.0,3.0,3.0,3.0,4.0,4.0,4.0,4.0,3.0,1.0,6.0,4.0,3.0,2.0,3.0,2.0,3.0,2.0,3.0,2.0,2.0,3.0,3.0,4.0,2.0,2.0,2.0,1.0,5.0,5.0,2.0,4.0,2.0,2.0,5.0,4.0,1.0,4.0,3.0,1.0,4.0,2.0,5.0,1.0,2.0,3.0,2.0,2.0,6.0,2.0,2.0,2.0,4.0,2.0,3.0,2.0,3.0,2.0,2.0,2.0,2.0,3.0,2.0,1.0,3.0,2.0,3.0,3.0,2.0,4.0,6.0,1.0,3.0,3.0,2.0,1.0,3.0,7.0,1.0,2.0,null,1.0,9.0,4.0,3.0,3.0,2.0,1.0,4.0,3.0,4.0,1.0,3.0,3.0,4.0,5.0,2.0,3.0,1.0,4.0,null,3.0,2.0,2.0,2.0,2.0,3.0,4.0,2.0,2.0,3.0,5.0,1.0,9.0,5.0,2.0,1.0,1.0,3.0,3.0,1.0,2.0,1.0,1.0,2.0,1.0,2.0,null,3.0,3.0,3.0,1.0,null,2.0,4.0,1.0,8.0,2.0,4.0,1.0,3.0,2.0,1.0,4.0,3.0,3.0,3.0,3.0,4.0,1.0,1.0,5.0,6.0,3.0,2.0,3.0,5.0,5.0,1.0,1.0,null,1.0,2.0,3.0,1.0,4.0,4.0,3.0,3.0,2.0,2.0,1.0,2.0,2.0,2.0,2.0,2.0,2.0,2.0,4.0,2.0,2.0,2.0,4.0,2.0,2.0,4.0,7.0,2.0,2.0,4.0,3.0,3.0,1.0,5.0,1.0,5.0,2.0,5.0,2.0,4.0,2.0,4.0,2.0,2.0,4.0,4.0,3.0,2.0,null,4.0,1.0,2.0,4.0,7.0,3.0,1.0,2.0,2.0,2.0,5.0,4.0,2.0,4.0,4.0,1.0,2.0,5.0,3.0,2.0,6.0,3.0,3.0,1.0,9.0,2.0,1.0,9.0,6.0,4.0,2.0,5.0,4.0,4.0,3.0,1.0,2.0,1.0,3.0,4.0,2.0,4.0,4.0,3.0,2.0,2.0,5.0,2.0,4.0,2.0,2.0,1.0,4.0,null,5.0,4.0,5.0,2.0,2.0,3.0,4.0,4.0,2.0,4.0,null,2.0,6.0,2.0,5.0,2.0,3.0,2.0,1.0,2.0,1.0,3.0,5.0,2.0,2.0,4.0,3.0,7.0,5.0,4.0,2.0,2.0,2.0,4.0,2.0,5.0,3.0,3.0,3.0,3.0,2.0,5.0,4.0,1.0,6.0,2.0,4.0,1.0,2.0,4.0,3.0,3.0,5.0,6.0,2.0,2.0,2.0,5.0,1.0,2.0,5.0,4.0,4.0,1.0,4.0,null,8.0,1.0,9.0,6.0,4.0,3.0,2.0,3.0,5.0,1.0,4.0,3.0,4.0,2.0,1.0,5.0,6.0,2.0,1.0,2.0,3.0,2.0,2.0,1.0,null,1.0,2.0,4.0,2.0,2.0,5.0,null,2.0,4.0,2.0,1.0,3.0,null,2.0,6.0,2.0,3.0,1.0,5.0,5.0,1.0,4.0,1.0,4.0,2.0,2.0,2.0,2.0,2.0,2.0,4.0,2.0,6.0,4.0,2.0,3.0,3.0,2.0,3.0,1.0,3.0,2.0,6.0,2.0,5.0,7.0,4.0,1.0,4.0,3.0],\"y\":[0,1,2,3,4,5,6,7,8,9,10,11,12,13,14,15,16,17,18,19,20,21,22,23,24,25,26,27,28,29,30,31,32,33,34,35,36,37,38,39,40,41,42,43,44,45,46,47,48,49,50,51,52,53,54,55,56,57,58,59,60,61,62,63,64,65,66,67,68,69,70,71,72,73,74,75,76,77,78,79,80,81,82,83,84,85,86,87,88,89,90,91,92,93,94,95,96,97,98,99,100,101,102,103,104,105,106,107,108,109,110,111,112,113,114,115,116,117,118,119,120,121,122,123,124,125,126,127,128,129,130,131,132,133,134,135,136,137,138,139,140,141,142,143,144,145,146,147,148,149,150,151,152,153,154,155,156,157,158,159,160,161,162,163,164,165,166,167,168,169,170,171,172,173,174,175,176,177,178,179,180,181,182,183,184,185,186,187,188,189,190,191,192,193,194,195,196,197,198,199,200,201,202,203,204,205,206,207,208,209,210,211,212,213,214,215,216,217,218,219,220,221,222,223,224,225,226,227,228,229,230,231,232,233,234,235,236,237,238,239,240,241,242,243,244,245,246,247,248,249,250,251,252,253,254,255,256,257,258,259,260,261,262,263,264,265,266,267,268,269,270,271,272,273,274,275,276,277,278,279,280,281,282,283,284,285,286,287,288,289,290,291,292,293,294,295,296,297,298,299,300,301,302,303,304,305,306,307,308,309,310,311,312,313,314,315,316,317,318,319,320,321,322,323,324,325,326,327,328,329,330,331,332,333,334,335,336,337,338,339,340,341,342,343,344,345,346,347,348,349,350,351,352,353,354,355,356,357,358,359,360,361,362,363,364,365,366,367,368,369,370,371,372,373,374,375,376,377,378,379,380,381,382,383,384,385,386,387,388,389,390,391,392,393,394,395,396,397,398,399,400,401,402,403,404,405,406,407,408,409,410,411,412,413,414,415,416,417,418,419,420,421,422,423,424,425,426,427,428,429,430,431,432,433,434,435,436,437,438,439,440,441,442,443,444,445,446,447,448,449,450,451,452,453,454,455,456,457,458,459,460,461,462,463,464,465,466,467,468,469,470,471,472,473,474,475,476,477,478,479,480,481,482,483,484,485,486,487,488,489,490,491,492,493,494,495,496,497,498,499,500,501,502,503,504,505,506,507,508,509,510,511,512,513,514,515,516,517,518,519,520,521,522,523,524,525,526,527,528,529,530,531,532,533,534,535,536,537,538,539,540,541,542,543,544,545,546,547,548,549,550,551,552,553,554,555,556,557,558,559,560,561,562,563,564,565,566,567,568,569,570,571,572,573,574,575,576,577,578,579,580,581,582,583,584,585,586,587,588,589,590,591,592,593,594,595,596,597,598,599,600,601,602,603,604,605,606,607,608,609,610,611,612,613,614,615,616,617,618,619,620,621,622,623,624,625,626,627,628,629,630,631,632,633,634,635,636,637,638,639,640,641,642,643,644,645,646,647,648,649,650,651,652,653,654,655,656,657,658,659,660,661,662,663,664,665,666,667,668,669,670,671,672,673,674,675,676,677,678,679,680,681,682,683,684,685,686,687,688,689,690,691,692,693,694,695,696,697,698,699,700,701,702,703,704,705,706,707,708,709,710,711,712,713,714,715,716,717,718,719,720,721,722,723,724,725,726,727,728,729,730,731,732,733,734,735,736,737,738,739,740,741,742,743,744,745,746,747,748,749,750,751,752,753,754,755,756,757,758,759,760,761,762,763,764,765,766,767,768,769,770,771,772,773,774,775,776,777,778,779,780,781,782,783,784,785,786,787,788,789,790,791,792,793,794,795,796,797,798,799,800,801,802,803,804,805,806,807,808,809,810,811,812,813,814,815,816,817,818,819,820,821,822,823,824,825,826,827,828,829,830,831,832,833,834,835,836,837,838,839,840,841,842,843,844,845,846,847,848,849,850,851,852,853,854,855,856,857,858,859,860,861,862,863,864,865,866,867,868,869,870,871,872,873,874,875,876,877,878,879,880,881,882,883,884,885,886,887,888,889,890,891,892,893,894,895,896,897,898,899,900,901,902,903,904,905,906,907,908,909,910,911,912,913,914,915,916,917,918,919,920,921,922,923,924,925,926,927,928,929,930,931,932,933,934,935,936,937,938,939,940,941,942,943,944,945,946,947,948,949,950,951,952,953,954,955,956,957,958,959,960,961,962,963,964,965,966,967,968,969,970,971,972,973,974,975,976,977,978,979,980,981,982,983,984,985,986,987,988,989,990,991,992,993,994,995,996,997,998,999,1000,1001,1002,1003,1004,1005,1006,1007,1008,1009,1010,1011,1012,1013,1014,1015,1016,1017,1018,1019,1020,1021,1022,1023,1024,1025,1026,1027,1028,1029,1030,1031,1032,1033,1034,1035,1036,1037,1038,1039,1040,1041,1042,1043,1044,1045,1046,1047,1048,1049,1050,1051,1052,1053,1054,1055,1056,1057,1058,1059,1060,1061,1062,1063,1064,1065,1066,1067,1068,1069,1070,1071,1072,1073,1074,1075,1076,1077,1078,1079,1080,1081,1082,1083,1084,1085,1086,1087,1088,1089,1090,1091,1092,1093,1094,1095,1096,1097,1098,1099,1100,1101,1102,1103,1104,1105,1106,1107,1108,1109,1110,1111,1112,1113,1114,1115,1116,1117,1118,1119,1120,1121,1122,1123,1124,1125,1126,1127,1128,1129,1130,1131,1132,1133,1134,1135,1136,1137,1138,1139,1140,1141,1142,1143,1144,1145,1146,1147,1148,1149,1150,1151,1152,1153,1154,1155,1156,1157,1158,1159,1160,1161,1162,1163,1164,1165,1166,1167,1168,1169,1170,1171,1172,1173,1174,1175,1176,1177,1178,1179,1180,1181,1182,1183,1184,1185,1186,1187,1188,1189,1190,1191,1192,1193,1194,1195,1196,1197,1198,1199,1200,1201,1202,1203,1204,1205,1206,1207,1208,1209,1210,1211,1212,1213,1214,1215,1216,1217,1218,1219,1220,1221,1222,1223,1224,1225,1226,1227,1228,1229,1230,1231,1232,1233,1234,1235,1236,1237,1238,1239,1240,1241,1242,1243,1244,1245,1246,1247,1248,1249,1250,1251,1252,1253,1254,1255,1256,1257,1258,1259,1260,1261,1262,1263,1264,1265,1266,1267,1268,1269,1270,1271,1272,1273,1274,1275,1276,1277,1278,1279,1280,1281,1282,1283,1284,1285,1286,1287,1288,1289,1290,1291,1292,1293,1294,1295,1296,1297,1298,1299,1300,1301,1302,1303,1304,1305,1306,1307,1308,1309,1310,1311,1312,1313,1314,1315,1316,1317,1318,1319,1320,1321,1322,1323,1324,1325,1326,1327,1328,1329,1330,1331,1332,1333,1334,1335,1336,1337,1338,1339,1340,1341,1342,1343,1344,1345,1346,1347,1348,1349,1350,1351,1352,1353,1354,1355,1356,1357,1358,1359,1360,1361,1362,1363,1364,1365,1366,1367,1368,1369,1370,1371,1372,1373,1374,1375,1376,1377,1378,1379,1380,1381,1382,1383,1384,1385,1386,1387,1388,1389,1390,1391,1392,1393,1394,1395,1396,1397,1398,1399,1400,1401,1402,1403,1404,1405,1406,1407,1408,1409,1410,1411,1412,1413,1414,1415,1416,1417,1418,1419,1420,1421,1422,1423,1424,1425,1426,1427,1428,1429,1430,1431,1432,1433,1434,1435,1436,1437,1438,1439,1440,1441,1442,1443,1444,1445,1446,1447,1448,1449,1450,1451,1452,1453,1454,1455,1456,1457,1458,1459,1460,1461,1462,1463,1464,1465,1466,1467,1468,1469,1470,1471,1472,1473,1474,1475,1476,1477,1478,1479,1480,1481,1482,1483,1484,1485,1486,1487,1488,1489,1490,1491,1492,1493,1494,1495,1496,1497,1498,1499,1500,1501,1502,1503,1504,1505,1506,1507,1508,1509,1510,1511,1512,1513,1514,1515,1516,1517,1518,1519,1520,1521,1522,1523,1524,1525,1526,1527,1528,1529,1530,1531,1532,1533,1534,1535,1536,1537,1538,1539,1540,1541,1542,1543,1544,1545,1546,1547,1548,1549,1550,1551,1552,1553,1554,1555,1556,1557,1558,1559,1560,1561,1562,1563,1564,1565,1566,1567,1568,1569,1570,1571,1572,1573,1574,1575,1576,1577,1578,1579,1580,1581,1582,1583,1584,1585,1586,1587,1588,1589,1590,1591,1592,1593,1594,1595,1596,1597,1598,1599,1600,1601,1602,1603,1604,1605,1606,1607,1608,1609,1610,1611,1612,1613,1614,1615,1616,1617,1618,1619,1620,1621,1622,1623,1624,1625,1626,1627,1628,1629,1630,1631,1632,1633,1634,1635,1636,1637,1638,1639,1640,1641,1642,1643,1644,1645,1646,1647,1648,1649,1650,1651,1652,1653,1654,1655,1656,1657,1658,1659,1660,1661,1662,1663,1664,1665,1666,1667,1668,1669,1670,1671,1672,1673,1674,1675,1676,1677,1678,1679,1680,1681,1682,1683,1684,1685,1686,1687,1688,1689,1690,1691,1692,1693,1694,1695,1696,1697,1698,1699,1700,1701,1702,1703,1704,1705,1706,1707,1708,1709,1710,1711,1712,1713,1714,1715,1716,1717,1718,1719,1720,1721,1722,1723,1724,1725,1726,1727,1728,1729,1730,1731,1732,1733,1734,1735,1736,1737,1738,1739,1740,1741,1742,1743,1744,1745,1746,1747,1748,1749,1750,1751,1752,1753,1754,1755,1756,1757,1758,1759,1760,1761,1762,1763,1764,1765,1766,1767,1768,1769,1770,1771,1772,1773,1774,1775,1776,1777,1778,1779,1780,1781,1782,1783,1784,1785,1786,1787,1788,1789,1790,1791,1792,1793,1794,1795,1796,1797,1798,1799,1800,1801,1802,1803,1804,1805,1806,1807,1808,1809,1810,1811,1812,1813,1814,1815,1816,1817,1818,1819,1820,1821,1822,1823,1824,1825,1826,1827,1828,1829,1830,1831,1832,1833,1834,1835,1836,1837,1838,1839,1840,1841,1842,1843,1844,1845,1846,1847,1848,1849,1850,1851,1852,1853,1854,1855,1856,1857,1858,1859,1860,1861,1862,1863,1864,1865,1866,1867,1868,1869,1870,1871,1872,1873,1874,1875,1876,1877,1878,1879,1880,1881,1882,1883,1884,1885,1886,1887,1888,1889,1890,1891,1892,1893,1894,1895,1896,1897,1898,1899,1900,1901,1902,1903,1904,1905,1906,1907,1908,1909,1910,1911,1912,1913,1914,1915,1916,1917,1918,1919,1920,1921,1922,1923,1924,1925,1926,1927,1928,1929,1930,1931,1932,1933,1934,1935,1936,1937,1938,1939,1940,1941,1942,1943,1944,1945,1946,1947,1948,1949,1950,1951,1952,1953,1954,1955,1956,1957,1958,1959,1960,1961,1962,1963,1964,1965,1966,1967,1968,1969,1970,1971,1972,1973,1974,1975,1976,1977,1978,1979,1980,1981,1982,1983,1984,1985,1986,1987,1988,1989,1990,1991,1992,1993,1994,1995,1996,1997,1998,1999,2000,2001,2002,2003,2004,2005,2006,2007,2008,2009,2010,2011,2012,2013,2014,2015,2016,2017,2018,2019,2020,2021,2022,2023,2024,2025,2026,2027,2028,2029,2030,2031,2032,2033,2034,2035,2036,2037,2038,2039,2040,2041,2042,2043,2044,2045,2046,2047,2048,2049,2050,2051,2052,2053,2054,2055,2056,2057,2058,2059,2060,2061,2062,2063,2064,2065,2066,2067,2068,2069,2070,2071,2072,2073,2074,2075,2076,2077,2078,2079,2080,2081,2082,2083,2084,2085,2086,2087,2088,2089,2090,2091,2092,2093,2094,2095,2096,2097,2098,2099,2100,2101,2102,2103,2104,2105,2106,2107,2108,2109,2110,2111,2112,2113,2114,2115,2116,2117,2118,2119,2120,2121,2122,2123,2124,2125,2126,2127,2128,2129,2130,2131,2132,2133,2134,2135,2136,2137,2138,2139,2140,2141,2142,2143,2144,2145,2146,2147,2148,2149,2150,2151,2152,2153,2154,2155,2156,2157,2158,2159,2160,2161,2162,2163,2164,2165,2166,2167,2168,2169,2170,2171,2172,2173,2174,2175,2176,2177,2178,2179,2180,2181,2182,2183,2184,2185,2186,2187,2188,2189,2190,2191,2192,2193,2194,2195,2196,2197,2198,2199,2200,2201,2202,2203,2204,2205,2206,2207,2208,2209,2210,2211,2212,2213,2214,2215,2216,2217,2218,2219,2220,2221,2222,2223,2224,2225,2226,2227,2228,2229,2230,2231,2232,2233,2234,2235,2236,2237,2238,2239,2240,2241,2242,2243,2244,2245,2246,2247,2248,2249,2250,2251,2252,2253,2254,2255,2256,2257,2258,2259,2260,2261,2262,2263,2264,2265,2266,2267,2268,2269,2270,2271,2272,2273,2274,2275,2276,2277,2278,2279,2280,2281,2282,2283,2284,2285,2286,2287,2288,2289,2290,2291,2292,2293,2294,2295,2296,2297,2298,2299,2300,2301,2302,2303,2304,2305,2306,2307,2308,2309,2310,2311,2312,2313,2314,2315,2316,2317,2318,2319,2320,2321,2322,2323,2324,2325,2326,2327,2328,2329,2330,2331,2332,2333,2334,2335,2336,2337,2338,2339,2340,2341,2342,2343,2344,2345,2346,2347,2348,2349,2350,2351,2352,2353,2354,2355,2356,2357,2358,2359,2360,2361,2362,2363,2364,2365,2366,2367,2368,2369,2370,2371,2372,2373,2374,2375,2376,2377,2378,2379,2380,2381,2382,2383,2384,2385,2386,2387,2388,2389,2390,2391,2392,2393,2394,2395,2396,2397,2398,2399,2400,2401,2402,2403,2404,2405,2406,2407,2408,2409,2410,2411,2412,2413,2414,2415,2416,2417,2418,2419,2420,2421,2422,2423,2424,2425,2426,2427,2428,2429,2430,2431,2432,2433,2434,2435,2436,2437,2438,2439,2440,2441,2442,2443,2444,2445,2446,2447,2448,2449,2450,2451,2452,2453,2454,2455,2456,2457,2458,2459,2460,2461,2462,2463,2464,2465,2466,2467,2468,2469,2470,2471,2472,2473,2474,2475,2476,2477,2478,2479,2480,2481,2482,2483,2484,2485,2486,2487,2488,2489,2490,2491,2492,2493,2494,2495,2496,2497,2498,2499,2500,2501,2502,2503,2504,2505,2506,2507,2508,2509,2510,2511,2512,2513,2514,2515,2516,2517,2518,2519,2520,2521,2522,2523,2524,2525,2526,2527,2528,2529,2530,2531,2532,2533,2534,2535,2536,2537,2538,2539,2540,2541,2542,2543,2544,2545,2546,2547,2548,2549,2550,2551,2552,2553,2554,2555,2556,2557,2558,2559,2560,2561,2562,2563,2564,2565,2566,2567,2568,2569,2570,2571,2572,2573,2574,2575,2576,2577,2578,2579,2580,2581,2582,2583,2584,2585,2586,2587,2588,2589,2590,2591,2592,2593,2594,2595,2596,2597,2598,2599,2600,2601,2602,2603,2604,2605,2606,2607,2608,2609,2610,2611,2612,2613,2614,2615,2616,2617,2618,2619,2620,2621,2622,2623,2624,2625,2626,2627,2628,2629,2630,2631,2632,2633,2634,2635,2636,2637,2638,2639,2640,2641,2642,2643,2644,2645,2646,2647,2648,2649,2650,2651,2652,2653,2654,2655,2656,2657,2658,2659,2660,2661,2662,2663,2664,2665,2666,2667,2668,2669,2670,2671,2672,2673,2674,2675,2676,2677,2678,2679,2680,2681,2682,2683,2684,2685,2686,2687,2688,2689,2690,2691,2692,2693,2694,2695,2696,2697,2698,2699,2700,2701,2702,2703,2704,2705,2706,2707,2708,2709,2710,2711,2712,2713,2714,2715,2716,2717,2718,2719,2720,2721,2722,2723,2724,2725,2726,2727,2728,2729,2730,2731,2732,2733,2734,2735,2736,2737,2738,2739,2740,2741,2742,2743,2744,2745,2746,2747,2748,2749,2750,2751,2752,2753,2754,2755,2756,2757,2758,2759,2760,2761,2762,2763,2764,2765,2766,2767,2768,2769,2770,2771,2772,2773,2774,2775,2776,2777,2778,2779,2780,2781,2782,2783,2784,2785,2786,2787,2788,2789,2790,2791,2792,2793,2794,2795,2796,2797,2798,2799,2800,2801,2802,2803,2804,2805,2806,2807,2808,2809,2810,2811,2812,2813,2814,2815,2816,2817,2818,2819,2820,2821,2822,2823,2824,2825,2826,2827,2828,2829,2830,2831,2832,2833,2834,2835,2836,2837,2838,2839,2840,2841,2842,2843,2844,2845,2846,2847,2848,2849,2850,2851,2852,2853,2854,2855,2856,2857,2858,2859,2860,2861,2862,2863,2864,2865,2866,2867,2868,2869,2870,2871,2872,2873,2874,2875,2876,2877,2878,2879,2880,2881,2882,2883,2884,2885,2886,2887,2888,2889,2890,2891,2892,2893,2894,2895,2896,2897,2898,2899,2900,2901,2902,2903,2904,2905,2906,2907,2908,2909,2910,2911,2912,2913,2914,2915,2916,2917,2918,2919,2920,2921,2922,2923,2924,2925,2926,2927,2928,2929,2930,2931,2932,2933,2934,2935,2936,2937,2938,2939,2940,2941,2942,2943,2944,2945,2946,2947,2948,2949,2950,2951,2952,2953,2954,2955,2956,2957,2958,2959,2960,2961,2962,2963,2964,2965,2966,2967,2968,2969,2970,2971,2972,2973,2974,2975,2976,2977,2978,2979,2980,2981,2982,2983,2984,2985,2986,2987,2988,2989,2990,2991,2992,2993,2994,2995,2996,2997,2998,2999,3000,3001,3002,3003,3004,3005,3006,3007,3008,3009,3010,3011,3012,3013,3014,3015,3016,3017,3018,3019,3020,3021,3022,3023,3024,3025,3026,3027,3028,3029,3030,3031,3032,3033,3034,3035,3036,3037,3038,3039,3040,3041,3042,3043,3044,3045,3046,3047,3048,3049,3050,3051,3052,3053,3054,3055,3056,3057,3058,3059,3060,3061,3062,3063,3064,3065,3066,3067,3068,3069,3070,3071,3072,3073,3074,3075,3076,3077,3078,3079,3080,3081,3082,3083,3084,3085,3086,3087,3088,3089,3090,3091,3092,3093,3094,3095,3096,3097,3098,3099,3100,3101,3102,3103,3104,3105,3106,3107,3108,3109,3110,3111,3112,3113,3114,3115,3116,3117,3118,3119,3120,3121,3122,3123,3124,3125,3126,3127,3128,3129,3130,3131,3132,3133,3134,3135,3136,3137,3138,3139,3140,3141,3142,3143,3144,3145,3146,3147,3148,3149,3150,3151,3152,3153,3154,3155,3156,3157,3158,3159,3160,3161,3162,3163,3164,3165,3166,3167,3168,3169,3170,3171,3172,3173,3174,3175,3176,3177,3178,3179,3180,3181,3182,3183,3184,3185,3186,3187,3188,3189,3190,3191,3192,3193,3194,3195,3196,3197,3198,3199,3200,3201,3202,3203,3204,3205,3206,3207,3208,3209,3210,3211,3212,3213,3214,3215,3216,3217,3218,3219,3220,3221,3222,3223,3224,3225,3226,3227,3228,3229,3230,3231,3232,3233,3234,3235,3236,3237,3238,3239,3240,3241,3242,3243,3244,3245,3246,3247,3248,3249,3250,3251,3252,3253,3254,3255,3256,3257,3258,3259,3260,3261,3262,3263,3264,3265,3266,3267,3268,3269,3270,3271,3272,3273,3274,3275,3276,3277,3278,3279,3280,3281,3282,3283,3284,3285,3286,3287,3288,3289,3290,3291,3292,3293,3294,3295,3296,3297,3298,3299,3300,3301,3302,3303,3304,3305,3306,3307,3308,3309,3310,3311,3312,3313,3314,3315,3316,3317,3318,3319,3320,3321,3322,3323,3324,3325,3326,3327,3328,3329,3330,3331,3332,3333,3334,3335,3336,3337,3338,3339,3340,3341,3342,3343,3344,3345,3346,3347,3348,3349,3350,3351,3352,3353,3354,3355,3356,3357,3358,3359,3360,3361,3362,3363,3364,3365,3366,3367,3368,3369,3370,3371,3372,3373,3374,3375,3376,3377,3378,3379,3380,3381,3382,3383,3384,3385,3386,3387,3388,3389,3390,3391,3392,3393,3394,3395,3396,3397,3398,3399,3400,3401,3402,3403,3404,3405,3406,3407,3408,3409,3410,3411,3412,3413,3414,3415,3416,3417,3418,3419,3420,3421,3422,3423,3424,3425,3426,3427,3428,3429,3430,3431,3432,3433,3434,3435,3436,3437,3438,3439,3440,3441,3442,3443,3444,3445,3446,3447,3448,3449,3450,3451,3452,3453,3454,3455,3456,3457,3458,3459,3460,3461,3462,3463,3464,3465,3466,3467,3468,3469,3470,3471,3472,3473,3474,3475,3476,3477,3478,3479,3480,3481,3482,3483,3484,3485,3486,3487,3488,3489,3490,3491,3492,3493,3494,3495,3496,3497,3498,3499,3500,3501,3502,3503,3504,3505,3506,3507,3508,3509,3510,3511,3512,3513,3514,3515,3516,3517,3518,3519,3520,3521,3522,3523,3524,3525,3526,3527,3528,3529,3530,3531,3532,3533,3534,3535,3536,3537,3538,3539,3540,3541,3542,3543,3544,3545,3546,3547,3548,3549,3550,3551,3552,3553,3554,3555,3556,3557,3558,3559,3560,3561,3562,3563,3564,3565,3566,3567,3568,3569,3570,3571,3572,3573,3574,3575,3576,3577,3578,3579,3580,3581,3582,3583,3584,3585,3586,3587,3588,3589,3590,3591,3592,3593,3594,3595,3596,3597,3598,3599,3600,3601,3602,3603,3604,3605,3606,3607,3608,3609,3610,3611,3612,3613,3614,3615,3616,3617,3618,3619,3620,3621,3622,3623,3624,3625,3626,3627,3628,3629,3630,3631,3632,3633,3634,3635,3636,3637,3638,3639,3640,3641,3642,3643,3644,3645,3646,3647,3648,3649,3650,3651,3652,3653,3654,3655,3656,3657,3658,3659,3660,3661,3662,3663,3664,3665,3666,3667,3668,3669,3670,3671,3672,3673,3674,3675,3676,3677,3678,3679,3680,3681,3682,3683,3684,3685,3686,3687,3688,3689,3690,3691,3692,3693,3694,3695,3696,3697,3698,3699,3700,3701,3702,3703,3704,3705,3706,3707,3708,3709,3710,3711,3712,3713,3714,3715,3716,3717,3718,3719,3720,3721,3722,3723,3724,3725,3726,3727,3728,3729,3730,3731,3732,3733,3734,3735,3736,3737,3738,3739,3740,3741,3742,3743,3744,3745,3746,3747,3748,3749,3750,3751,3752,3753,3754,3755,3756,3757,3758,3759,3760,3761,3762,3763,3764,3765,3766,3767,3768,3769,3770,3771,3772,3773,3774,3775,3776,3777,3778,3779,3780,3781,3782,3783,3784,3785,3786,3787,3788,3789,3790,3791,3792,3793,3794,3795,3796,3797,3798,3799,3800,3801,3802,3803,3804,3805,3806,3807,3808,3809,3810,3811,3812,3813,3814,3815,3816,3817,3818,3819,3820,3821,3822,3823,3824,3825,3826,3827,3828,3829,3830,3831,3832,3833,3834,3835,3836,3837,3838,3839,3840,3841,3842,3843,3844,3845,3846,3847,3848,3849,3850,3851,3852,3853,3854,3855,3856,3857,3858,3859,3860,3861,3862,3863,3864,3865,3866,3867,3868,3869,3870,3871,3872,3873,3874,3875,3876,3877,3878,3879,3880,3881,3882,3883,3884,3885,3886,3887,3888,3889,3890,3891,3892,3893,3894,3895,3896,3897,3898,3899,3900,3901,3902,3903,3904,3905,3906,3907,3908,3909,3910,3911,3912,3913,3914,3915,3916,3917,3918,3919,3920,3921,3922,3923,3924,3925,3926,3927,3928,3929,3930,3931,3932,3933,3934,3935,3936,3937,3938,3939,3940,3941,3942,3943,3944,3945,3946,3947,3948,3949,3950,3951,3952,3953,3954,3955,3956,3957,3958,3959,3960,3961,3962,3963,3964,3965,3966,3967,3968,3969,3970,3971,3972,3973,3974,3975,3976,3977,3978,3979,3980,3981,3982,3983,3984,3985,3986,3987,3988,3989,3990,3991,3992,3993,3994,3995,3996,3997,3998,3999,4000,4001,4002,4003,4004,4005,4006,4007,4008,4009,4010,4011,4012,4013,4014,4015,4016,4017,4018,4019,4020,4021,4022,4023,4024,4025,4026,4027,4028,4029,4030,4031,4032,4033,4034,4035,4036,4037,4038,4039,4040,4041,4042,4043,4044,4045,4046,4047,4048,4049,4050,4051,4052,4053,4054,4055,4056,4057,4058,4059,4060,4061,4062,4063,4064,4065,4066,4067,4068,4069,4070,4071,4072,4073,4074,4075,4076,4077,4078,4079,4080,4081,4082,4083,4084,4085,4086,4087,4088,4089,4090,4091,4092,4093,4094,4095,4096,4097,4098,4099,4100,4101,4102,4103,4104,4105,4106,4107,4108,4109,4110,4111,4112,4113,4114,4115,4116,4117,4118,4119,4120,4121,4122,4123,4124,4125,4126,4127,4128,4129,4130,4131,4132,4133,4134,4135,4136,4137,4138,4139,4140,4141,4142,4143,4144,4145,4146,4147,4148,4149,4150,4151,4152,4153,4154,4155,4156,4157,4158,4159,4160,4161,4162,4163,4164,4165,4166,4167,4168,4169,4170,4171,4172,4173,4174,4175,4176,4177,4178,4179,4180,4181,4182,4183,4184,4185,4186,4187,4188,4189,4190,4191,4192,4193,4194,4195,4196,4197,4198,4199,4200,4201,4202,4203,4204,4205,4206,4207,4208,4209,4210,4211,4212,4213,4214,4215,4216,4217,4218,4219,4220,4221,4222,4223,4224,4225,4226,4227,4228,4229,4230,4231,4232,4233,4234,4235,4236,4237,4238,4239,4240,4241,4242,4243,4244,4245,4246,4247,4248,4249,4250,4251,4252,4253,4254,4255,4256,4257,4258,4259,4260,4261,4262,4263,4264,4265,4266,4267,4268,4269,4270,4271,4272,4273,4274,4275,4276,4277,4278,4279,4280,4281,4282,4283,4284,4285,4286,4287,4288,4289,4290,4291,4292,4293,4294,4295,4296,4297,4298,4299,4300,4301,4302,4303,4304,4305,4306,4307,4308,4309,4310,4311,4312,4313,4314,4315,4316,4317,4318,4319,4320,4321,4322,4323,4324,4325,4326,4327,4328,4329,4330,4331,4332,4333,4334,4335,4336,4337,4338,4339,4340,4341,4342,4343,4344,4345,4346,4347,4348,4349,4350,4351,4352,4353,4354,4355,4356,4357,4358,4359,4360,4361,4362,4363,4364,4365,4366,4367,4368,4369,4370,4371,4372,4373,4374,4375,4376,4377,4378,4379,4380,4381,4382,4383,4384,4385,4386,4387,4388,4389,4390,4391,4392,4393,4394,4395,4396,4397,4398,4399,4400,4401,4402,4403,4404,4405,4406,4407,4408,4409,4410,4411,4412,4413,4414,4415,4416,4417,4418,4419,4420,4421,4422,4423,4424,4425,4426,4427,4428,4429,4430,4431,4432,4433,4434,4435,4436,4437,4438,4439,4440,4441,4442,4443,4444,4445,4446,4447,4448,4449,4450,4451,4452,4453,4454,4455,4456,4457,4458,4459,4460,4461,4462,4463,4464,4465,4466,4467,4468,4469,4470,4471,4472,4473,4474,4475,4476,4477,4478,4479,4480,4481,4482,4483,4484,4485,4486,4487,4488,4489,4490,4491,4492,4493,4494,4495,4496,4497,4498,4499,4500,4501,4502,4503,4504,4505,4506,4507,4508,4509,4510,4511,4512,4513,4514,4515,4516,4517,4518,4519,4520,4521,4522,4523,4524,4525,4526,4527,4528,4529,4530,4531,4532,4533,4534,4535,4536,4537,4538,4539,4540,4541,4542,4543,4544,4545,4546,4547,4548,4549,4550,4551,4552,4553,4554,4555,4556,4557,4558,4559,4560,4561,4562,4563,4564,4565,4566,4567,4568,4569,4570,4571,4572,4573,4574,4575,4576,4577,4578,4579,4580,4581,4582,4583,4584,4585,4586,4587,4588,4589,4590,4591,4592,4593,4594,4595,4596,4597,4598,4599,4600,4601,4602,4603,4604,4605,4606,4607,4608,4609,4610,4611,4612,4613,4614,4615,4616,4617,4618,4619,4620,4621,4622,4623,4624,4625,4626,4627,4628,4629,4630,4631,4632,4633,4634,4635,4636,4637,4638,4639,4640,4641,4642,4643,4644,4645,4646,4647,4648,4649,4650,4651,4652,4653,4654,4655,4656,4657,4658,4659,4660,4661,4662,4663,4664,4665,4666,4667,4668,4669,4670,4671,4672,4673,4674,4675,4676,4677,4678,4679,4680,4681,4682,4683,4684,4685,4686,4687,4688,4689,4690,4691,4692,4693,4694,4695,4696,4697,4698,4699,4700,4701,4702,4703,4704,4705,4706,4707,4708,4709,4710,4711,4712,4713,4714,4715,4716,4717,4718,4719,4720,4721,4722,4723,4724,4725,4726,4727,4728,4729,4730,4731,4732,4733,4734,4735,4736,4737,4738,4739,4740,4741,4742,4743,4744,4745,4746,4747,4748,4749,4750,4751,4752,4753,4754,4755,4756,4757,4758,4759,4760,4761,4762,4763,4764,4765,4766,4767,4768,4769,4770,4771,4772,4773,4774,4775,4776,4777,4778,4779,4780,4781,4782,4783,4784,4785,4786,4787,4788,4789,4790,4791,4792,4793,4794,4795,4796,4797,4798,4799,4800,4801,4802,4803,4804,4805,4806,4807,4808,4809,4810,4811,4812,4813,4814,4815,4816,4817,4818,4819,4820,4821,4822,4823,4824,4825,4826,4827,4828,4829,4830,4831,4832,4833,4834,4835,4836,4837,4838,4839,4840,4841,4842,4843,4844,4845,4846,4847,4848,4849,4850,4851,4852,4853,4854,4855,4856,4857,4858,4859,4860,4861,4862,4863,4864,4865,4866,4867,4868,4869,4870,4871,4872,4873,4874,4875,4876,4877,4878,4879,4880,4881,4882,4883,4884,4885,4886,4887,4888,4889,4890,4891,4892,4893,4894,4895,4896,4897,4898,4899,4900,4901,4902,4903,4904,4905,4906,4907,4908,4909,4910,4911,4912,4913,4914,4915,4916,4917,4918,4919,4920,4921,4922,4923,4924,4925,4926,4927,4928,4929,4930,4931,4932,4933,4934,4935,4936,4937,4938,4939,4940,4941,4942,4943,4944,4945,4946,4947,4948,4949,4950,4951,4952,4953,4954,4955,4956,4957,4958,4959,4960,4961,4962,4963,4964,4965,4966,4967,4968,4969,4970,4971,4972,4973,4974,4975,4976,4977,4978,4979,4980,4981,4982,4983,4984,4985,4986,4987,4988,4989,4990,4991,4992,4993,4994,4995,4996,4997,4998,4999,5000,5001,5002,5003,5004,5005,5006,5007,5008,5009,5010,5011,5012,5013,5014,5015,5016,5017,5018,5019,5020,5021,5022,5023,5024,5025,5026,5027,5028,5029,5030,5031,5032,5033,5034,5035,5036,5037,5038,5039,5040,5041,5042,5043,5044,5045,5046,5047,5048,5049,5050,5051,5052,5053,5054,5055,5056,5057,5058,5059,5060,5061,5062,5063,5064,5065,5066,5067,5068,5069,5070,5071,5072,5073,5074,5075,5076,5077,5078,5079,5080,5081,5082,5083,5084,5085,5086,5087,5088,5089,5090,5091,5092,5093,5094,5095,5096,5097,5098,5099,5100,5101,5102,5103,5104,5105,5106,5107,5108,5109,5110,5111,5112,5113,5114,5115,5116,5117,5118,5119,5120,5121,5122,5123,5124,5125,5126,5127,5128,5129,5130,5131,5132,5133,5134,5135,5136,5137,5138,5139,5140,5141,5142,5143,5144,5145,5146,5147,5148,5149,5150,5151,5152,5153,5154,5155,5156,5157,5158,5159,5160,5161,5162,5163,5164,5165,5166,5167,5168,5169,5170,5171,5172,5173,5174,5175,5176,5177,5178,5179,5180,5181,5182,5183,5184,5185,5186,5187,5188,5189,5190,5191,5192,5193,5194,5195,5196,5197,5198,5199,5200,5201,5202,5203,5204,5205,5206,5207,5208,5209,5210,5211,5212,5213,5214,5215,5216,5217,5218,5219,5220,5221,5222,5223,5224,5225,5226,5227,5228,5229,5230,5231,5232,5233,5234,5235,5236,5237,5238,5239,5240,5241,5242,5243,5244,5245,5246,5247,5248,5249,5250,5251,5252,5253,5254,5255,5256,5257,5258,5259,5260,5261,5262,5263,5264,5265,5266,5267,5268,5269,5270,5271,5272,5273,5274,5275,5276,5277,5278,5279,5280,5281,5282,5283,5284,5285,5286,5287,5288,5289,5290,5291,5292,5293,5294,5295,5296,5297,5298,5299,5300,5301,5302,5303,5304,5305,5306,5307,5308,5309,5310,5311,5312,5313,5314,5315,5316,5317,5318,5319,5320,5321,5322,5323,5324,5325,5326,5327,5328,5329,5330,5331,5332,5333,5334,5335,5336,5337,5338,5339,5340,5341,5342,5343,5344,5345,5346,5347,5348,5349,5350,5351,5352,5353,5354,5355,5356,5357,5358,5359,5360,5361,5362,5363,5364,5365,5366,5367,5368,5369,5370,5371,5372,5373,5374,5375,5376,5377,5378,5379,5380,5381,5382,5383,5384,5385,5386,5387,5388,5389,5390,5391,5392,5393,5394,5395,5396,5397,5398,5399,5400,5401,5402,5403,5404,5405,5406,5407,5408,5409,5410,5411,5412,5413,5414,5415,5416,5417,5418,5419,5420,5421,5422,5423,5424,5425,5426,5427,5428,5429,5430,5431,5432,5433,5434,5435,5436,5437,5438,5439,5440,5441,5442,5443,5444,5445,5446,5447,5448,5449,5450,5451,5452,5453,5454,5455,5456,5457,5458,5459,5460,5461,5462,5463,5464,5465,5466,5467,5468,5469,5470,5471,5472,5473,5474,5475,5476,5477,5478,5479,5480,5481,5482,5483,5484,5485,5486,5487,5488,5489,5490,5491,5492,5493,5494,5495,5496,5497,5498,5499,5500,5501,5502,5503,5504,5505,5506,5507,5508,5509,5510,5511,5512,5513,5514,5515,5516,5517,5518,5519,5520,5521,5522,5523,5524,5525,5526,5527,5528,5529,5530,5531,5532,5533,5534,5535,5536,5537,5538,5539,5540,5541,5542,5543,5544,5545,5546,5547,5548,5549,5550,5551,5552,5553,5554,5555,5556,5557,5558,5559,5560,5561,5562,5563,5564,5565,5566,5567,5568,5569,5570,5571,5572,5573,5574,5575,5576,5577,5578,5579,5580,5581,5582,5583,5584,5585,5586,5587,5588,5589,5590,5591,5592,5593,5594,5595,5596,5597,5598,5599,5600,5601,5602,5603,5604,5605,5606,5607,5608,5609,5610,5611,5612,5613,5614,5615,5616,5617,5618,5619,5620,5621,5622,5623,5624,5625,5626,5627,5628,5629,5630,5631,5632,5633,5634,5635,5636,5637,5638,5639,5640,5641,5642,5643,5644,5645,5646,5647,5648,5649,5650,5651,5652,5653,5654,5655,5656,5657,5658,5659,5660,5661,5662,5663,5664,5665,5666,5667,5668,5669,5670,5671,5672,5673,5674,5675,5676,5677,5678,5679,5680,5681,5682,5683,5684,5685,5686,5687,5688,5689,5690,5691,5692,5693,5694,5695,5696,5697,5698,5699,5700,5701,5702,5703,5704,5705,5706,5707,5708,5709,5710,5711,5712,5713,5714,5715,5716,5717,5718,5719,5720,5721,5722,5723,5724,5725,5726,5727,5728,5729,5730,5731,5732,5733,5734,5735,5736,5737,5738,5739,5740,5741,5742,5743,5744,5745,5746,5747,5748,5749,5750,5751,5752,5753,5754,5755,5756,5757,5758,5759,5760,5761,5762,5763,5764,5765,5766,5767,5768,5769,5770,5771,5772,5773,5774,5775,5776,5777,5778,5779,5780,5781,5782,5783,5784,5785,5786,5787,5788,5789,5790,5791,5792,5793,5794,5795,5796,5797,5798,5799,5800,5801,5802,5803,5804,5805,5806,5807,5808,5809,5810,5811,5812,5813,5814,5815,5816,5817,5818,5819,5820,5821,5822,5823,5824,5825,5826,5827,5828,5829,5830,5831,5832,5833,5834,5835,5836,5837,5838,5839,5840,5841,5842,5843,5844,5845,5846,5847,5848,5849,5850,5851,5852,5853,5854,5855,5856,5857,5858,5859,5860,5861,5862,5863,5864,5865,5866,5867,5868,5869,5870,5871,5872,5873,5874,5875,5876,5877,5878,5879,5880,5881,5882,5883,5884,5885,5886,5887,5888,5889,5890,5891,5892,5893,5894,5895,5896,5897,5898,5899,5900,5901,5902,5903,5904,5905,5906,5907,5908,5909,5910,5911,5912,5913,5914,5915,5916,5917,5918,5919,5920,5921,5922,5923,5924,5925,5926,5927,5928,5929,5930,5931,5932,5933,5934,5935,5936,5937,5938,5939,5940,5941,5942,5943,5944,5945,5946,5947,5948,5949,5950,5951,5952,5953,5954,5955,5956,5957,5958,5959,5960,5961,5962,5963,5964,5965,5966,5967,5968,5969,5970,5971,5972,5973,5974,5975,5976,5977,5978,5979,5980,5981,5982,5983,5984,5985,5986,5987,5988,5989,5990,5991,5992,5993,5994,5995,5996,5997,5998,5999,6000,6001,6002,6003,6004,6005,6006,6007,6008,6009,6010,6011,6012,6013,6014,6015,6016,6017,6018,6019,6020,6021,6022,6023,6024,6025,6026,6027,6028,6029,6030,6031,6032,6033,6034,6035,6036,6037,6038,6039,6040,6041,6042,6043,6044,6045,6046,6047,6048,6049,6050,6051,6052,6053,6054,6055,6056,6057,6058,6059,6060,6061,6062,6063,6064,6065,6066,6067,6068,6069,6070,6071,6072,6073,6074,6075,6076,6077,6078,6079,6080,6081,6082,6083,6084,6085,6086,6087,6088,6089,6090,6091,6092,6093,6094,6095,6096,6097,6098,6099,6100,6101,6102,6103,6104,6105,6106,6107,6108,6109,6110,6111,6112,6113,6114,6115,6116,6117,6118,6119,6120,6121,6122,6123,6124,6125,6126,6127,6128,6129,6130,6131,6132,6133,6134,6135,6136,6137,6138,6139,6140,6141,6142,6143,6144,6145,6146,6147,6148,6149,6150,6151,6152,6153,6154,6155,6156,6157,6158,6159,6160,6161,6162,6163,6164,6165,6166,6167,6168,6169,6170,6171,6172,6173,6174,6175,6176,6177,6178,6179,6180,6181,6182,6183,6184,6185,6186,6187,6188,6189,6190,6191,6192,6193,6194,6195,6196,6197,6198,6199,6200,6201,6202,6203,6204,6205,6206,6207,6208,6209,6210,6211,6212,6213,6214,6215,6216,6217,6218,6219,6220,6221,6222,6223,6224,6225,6226,6227,6228,6229,6230,6231,6232,6233,6234,6235,6236,6237,6238,6239,6240,6241,6242,6243,6244,6245,6246,6247,6248,6249,6250,6251,6252,6253,6254,6255,6256,6257,6258,6259,6260,6261,6262,6263,6264,6265,6266,6267,6268,6269,6270,6271,6272,6273,6274,6275,6276,6277,6278,6279,6280,6281,6282,6283,6284,6285,6286,6287,6288,6289,6290,6291,6292,6293,6294,6295,6296,6297,6298,6299,6300,6301,6302,6303,6304,6305,6306,6307,6308,6309,6310,6311,6312,6313,6314,6315,6316,6317,6318,6319,6320,6321,6322,6323,6324,6325,6326,6327,6328,6329,6330,6331,6332,6333,6334,6335,6336,6337,6338,6339,6340,6341,6342,6343,6344,6345,6346,6347,6348,6349,6350,6351,6352,6353,6354,6355,6356,6357,6358,6359,6360,6361,6362,6363,6364,6365,6366,6367,6368,6369,6370,6371,6372,6373,6374,6375,6376,6377,6378,6379,6380,6381,6382,6383,6384,6385,6386,6387,6388,6389,6390,6391,6392,6393,6394,6395,6396,6397,6398,6399,6400,6401,6402,6403,6404,6405,6406,6407,6408,6409,6410,6411,6412,6413,6414,6415,6416,6417,6418,6419,6420,6421,6422,6423,6424,6425,6426,6427,6428,6429,6430,6431,6432,6433,6434,6435,6436,6437,6438,6439,6440,6441,6442,6443,6444,6445,6446,6447,6448,6449,6450,6451,6452,6453,6454,6455,6456,6457,6458,6459,6460,6461,6462,6463,6464,6465,6466,6467,6468,6469,6470,6471,6472,6473,6474,6475,6476,6477,6478,6479,6480,6481,6482,6483,6484,6485,6486,6487,6488,6489,6490,6491,6492,6493,6494,6495,6496,6497,6498,6499,6500,6501,6502,6503,6504,6505,6506,6507,6508,6509,6510,6511,6512,6513,6514,6515,6516,6517,6518,6519,6520,6521,6522,6523,6524,6525,6526,6527,6528,6529,6530,6531,6532,6533,6534,6535,6536,6537,6538,6539,6540,6541,6542,6543,6544,6545,6546,6547,6548,6549,6550,6551,6552,6553,6554,6555,6556,6557,6558,6559,6560,6561,6562,6563,6564,6565,6566,6567,6568,6569,6570,6571,6572,6573,6574,6575,6576,6577,6578,6579,6580,6581,6582,6583,6584,6585,6586,6587,6588,6589,6590,6591,6592,6593,6594,6595,6596,6597,6598,6599,6600,6601,6602,6603,6604,6605,6606,6607,6608,6609,6610,6611,6612,6613,6614,6615,6616,6617,6618,6619,6620,6621,6622,6623,6624,6625,6626,6627,6628,6629,6630,6631,6632,6633,6634,6635,6636,6637,6638,6639,6640,6641,6642,6643,6644,6645,6646,6647,6648,6649,6650,6651,6652,6653,6654,6655,6656,6657,6658,6659,6660,6661,6662,6663,6664,6665,6666,6667,6668,6669,6670,6671,6672,6673,6674,6675,6676,6677,6678,6679,6680,6681,6682,6683,6684,6685,6686,6687,6688,6689,6690,6691,6692,6693,6694,6695,6696,6697,6698,6699,6700,6701,6702,6703,6704,6705,6706,6707,6708,6709,6710,6711,6712,6713,6714,6715,6716,6717,6718,6719,6720,6721,6722,6723,6724,6725,6726,6727,6728,6729,6730,6731,6732,6733,6734,6735,6736,6737,6738,6739,6740,6741,6742,6743,6744,6745,6746,6747,6748,6749,6750,6751,6752,6753,6754,6755,6756,6757,6758,6759,6760,6761,6762,6763,6764,6765,6766,6767,6768,6769,6770,6771,6772,6773,6774,6775,6776,6777,6778,6779,6780,6781,6782,6783,6784,6785,6786,6787,6788,6789,6790,6791,6792,6793,6794,6795,6796,6797,6798,6799,6800,6801,6802,6803,6804,6805,6806,6807,6808,6809,6810,6811,6812,6813,6814,6815,6816,6817,6818,6819,6820,6821,6822,6823,6824,6825,6826,6827,6828,6829,6830,6831,6832,6833,6834,6835,6836,6837,6838,6839,6840,6841,6842,6843,6844,6845,6846,6847,6848,6849,6850,6851,6852,6853,6854,6855,6856,6857,6858,6859,6860,6861,6862,6863,6864,6865,6866,6867,6868,6869,6870,6871,6872,6873,6874,6875,6876,6877,6878,6879,6880,6881,6882,6883,6884,6885,6886,6887,6888,6889,6890,6891,6892,6893,6894,6895,6896,6897,6898,6899,6900,6901,6902,6903,6904,6905,6906,6907,6908,6909,6910,6911,6912,6913,6914,6915,6916,6917,6918,6919,6920,6921,6922,6923,6924,6925,6926,6927,6928,6929,6930,6931,6932,6933,6934,6935,6936,6937,6938,6939,6940,6941,6942,6943,6944,6945,6946,6947,6948,6949,6950,6951,6952,6953,6954,6955,6956,6957,6958,6959,6960,6961,6962,6963,6964,6965,6966,6967,6968,6969,6970,6971,6972,6973,6974,6975,6976,6977,6978,6979,6980,6981,6982,6983,6984,6985,6986,6987,6988,6989,6990,6991,6992,6993,6994,6995,6996,6997,6998,6999,7000,7001,7002,7003,7004,7005,7006,7007,7008,7009,7010,7011,7012,7013,7014,7015,7016,7017,7018,7019,7020,7021,7022,7023,7024,7025,7026,7027,7028,7029,7030,7031,7032,7033,7034,7035,7036,7037,7038,7039,7040,7041,7042,7043,7044,7045,7046,7047,7048,7049,7050,7051,7052,7053,7054,7055,7056,7057,7058,7059,7060,7061,7062,7063,7064,7065,7066,7067,7068,7069,7070,7071,7072,7073,7074,7075,7076,7077,7078,7079,7080,7081,7082,7083,7084,7085,7086,7087,7088,7089,7090,7091,7092,7093,7094,7095,7096,7097,7098,7099,7100,7101,7102,7103,7104,7105,7106,7107,7108,7109,7110,7111,7112,7113,7114,7115,7116,7117,7118,7119,7120,7121,7122,7123,7124,7125,7126,7127,7128,7129,7130,7131,7132,7133,7134,7135,7136,7137,7138,7139,7140,7141,7142,7143,7144,7145,7146,7147,7148,7149,7150,7151,7152,7153,7154,7155,7156,7157,7158,7159,7160,7161,7162,7163,7164,7165,7166,7167,7168,7169,7170,7171,7172,7173,7174,7175,7176,7177,7178,7179,7180,7181,7182,7183,7184,7185,7186,7187,7188,7189,7190,7191,7192,7193,7194,7195,7196,7197,7198,7199,7200,7201,7202,7203,7204,7205,7206,7207,7208,7209,7210,7211,7212,7213,7214,7215,7216,7217,7218,7219,7220,7221,7222,7223,7224,7225,7226,7227,7228,7229,7230,7231,7232,7233,7234,7235,7236,7237,7238,7239,7240,7241,7242,7243,7244,7245,7246,7247,7248,7249,7250,7251,7252,7253,7254,7255,7256,7257,7258,7259,7260,7261,7262,7263,7264,7265,7266,7267,7268,7269,7270,7271,7272,7273,7274,7275,7276,7277,7278,7279,7280,7281,7282,7283,7284,7285,7286,7287,7288,7289,7290,7291,7292,7293,7294,7295,7296,7297,7298,7299,7300,7301,7302,7303,7304,7305,7306,7307,7308,7309,7310,7311,7312,7313,7314,7315,7316,7317,7318,7319,7320,7321,7322,7323,7324,7325,7326,7327,7328,7329,7330,7331,7332,7333,7334,7335,7336,7337,7338,7339,7340,7341,7342,7343,7344,7345,7346,7347,7348,7349,7350,7351,7352,7353,7354,7355,7356,7357,7358,7359,7360,7361,7362,7363,7364,7365,7366,7367,7368,7369,7370,7371,7372,7373,7374,7375,7376,7377,7378,7379,7380,7381,7382,7383,7384,7385,7386,7387,7388,7389,7390,7391,7392,7393,7394,7395,7396,7397,7398,7399,7400,7401,7402,7403,7404,7405,7406,7407,7408,7409,7410,7411,7412,7413,7414,7415,7416,7417,7418,7419,7420,7421,7422,7423,7424,7425,7426,7427,7428,7429,7430,7431,7432,7433,7434,7435,7436,7437,7438,7439,7440,7441,7442,7443,7444,7445,7446,7447,7448,7449,7450,7451,7452,7453,7454,7455,7456,7457,7458,7459,7460,7461,7462,7463,7464,7465,7466,7467,7468,7469,7470,7471,7472,7473,7474,7475,7476,7477,7478,7479,7480,7481,7482,7483,7484,7485,7486,7487,7488,7489,7490,7491,7492,7493,7494,7495,7496,7497,7498,7499,7500,7501,7502,7503,7504,7505,7506,7507,7508,7509,7510,7511,7512,7513,7514,7515,7516,7517,7518,7519,7520,7521,7522,7523,7524,7525,7526,7527,7528,7529,7530,7531,7532,7533,7534,7535,7536,7537,7538,7539,7540,7541,7542,7543,7544,7545,7546,7547,7548,7549,7550,7551,7552,7553,7554,7555,7556,7557,7558,7559,7560,7561,7562,7563,7564,7565,7566,7567,7568,7569,7570,7571,7572,7573,7574,7575,7576,7577,7578,7579,7580,7581,7582,7583,7584,7585,7586,7587,7588,7589,7590,7591,7592,7593,7594,7595,7596,7597,7598,7599,7600,7601,7602,7603,7604,7605,7606,7607,7608,7609,7610,7611,7612,7613,7614,7615,7616,7617,7618,7619,7620,7621,7622,7623,7624,7625,7626,7627,7628,7629,7630,7631,7632,7633,7634,7635,7636,7637,7638,7639,7640,7641,7642,7643,7644,7645,7646,7647,7648,7649,7650,7651,7652,7653,7654,7655,7656,7657,7658,7659,7660,7661,7662,7663,7664,7665,7666,7667,7668,7669,7670,7671,7672,7673,7674,7675,7676,7677,7678,7679,7680,7681,7682,7683,7684,7685,7686,7687,7688,7689,7690,7691,7692,7693,7694,7695,7696,7697,7698,7699,7700,7701,7702,7703,7704,7705,7706,7707,7708,7709,7710,7711,7712,7713,7714,7715,7716,7717,7718,7719,7720,7721,7722,7723,7724,7725,7726,7727,7728,7729,7730,7731,7732,7733,7734,7735,7736,7737,7738,7739,7740,7741,7742,7743,7744,7745,7746,7747,7748,7749,7750,7751,7752,7753,7754,7755,7756,7757,7758,7759,7760,7761,7762,7763,7764,7765,7766,7767,7768,7769,7770,7771,7772,7773,7774,7775,7776,7777,7778,7779,7780,7781,7782,7783,7784,7785,7786,7787,7788,7789,7790,7791,7792,7793,7794,7795,7796,7797,7798,7799,7800,7801,7802,7803,7804,7805,7806,7807,7808,7809,7810,7811,7812,7813,7814,7815,7816,7817,7818,7819,7820,7821,7822,7823,7824,7825,7826,7827,7828,7829,7830,7831,7832,7833,7834,7835,7836,7837,7838,7839,7840,7841,7842,7843,7844,7845,7846,7847,7848,7849,7850,7851,7852,7853,7854,7855,7856,7857,7858,7859,7860,7861,7862,7863,7864,7865,7866,7867,7868,7869,7870,7871,7872,7873,7874,7875,7876,7877,7878,7879,7880,7881,7882,7883,7884,7885,7886,7887,7888,7889,7890,7891,7892,7893,7894,7895,7896,7897,7898,7899,7900,7901,7902,7903,7904,7905,7906,7907,7908,7909,7910,7911,7912,7913,7914,7915,7916,7917,7918,7919,7920,7921,7922,7923,7924,7925,7926,7927,7928,7929,7930,7931,7932,7933,7934,7935,7936,7937,7938,7939,7940,7941,7942,7943,7944,7945,7946,7947,7948,7949,7950,7951,7952,7953,7954,7955,7956,7957,7958,7959,7960,7961,7962,7963,7964,7965,7966,7967,7968,7969,7970,7971,7972,7973,7974,7975,7976,7977,7978,7979,7980,7981,7982,7983,7984,7985,7986,7987,7988,7989,7990,7991,7992,7993,7994,7995,7996,7997,7998,7999,8000,8001,8002,8003,8004,8005,8006,8007,8008,8009,8010,8011,8012,8013,8014,8015,8016,8017,8018,8019,8020,8021,8022,8023,8024,8025,8026,8027,8028,8029,8030,8031,8032,8033,8034,8035,8036,8037,8038,8039,8040,8041,8042,8043,8044,8045,8046,8047,8048,8049,8050,8051,8052,8053,8054,8055,8056,8057,8058,8059,8060,8061,8062,8063,8064,8065,8066,8067],\"type\":\"scatter\"}],                        {\"title\":{\"text\":\"Family_Size\"},\"template\":{\"data\":{\"bar\":[{\"error_x\":{\"color\":\"#2a3f5f\"},\"error_y\":{\"color\":\"#2a3f5f\"},\"marker\":{\"line\":{\"color\":\"#E5ECF6\",\"width\":0.5},\"pattern\":{\"fillmode\":\"overlay\",\"size\":10,\"solidity\":0.2}},\"type\":\"bar\"}],\"barpolar\":[{\"marker\":{\"line\":{\"color\":\"#E5ECF6\",\"width\":0.5},\"pattern\":{\"fillmode\":\"overlay\",\"size\":10,\"solidity\":0.2}},\"type\":\"barpolar\"}],\"carpet\":[{\"aaxis\":{\"endlinecolor\":\"#2a3f5f\",\"gridcolor\":\"white\",\"linecolor\":\"white\",\"minorgridcolor\":\"white\",\"startlinecolor\":\"#2a3f5f\"},\"baxis\":{\"endlinecolor\":\"#2a3f5f\",\"gridcolor\":\"white\",\"linecolor\":\"white\",\"minorgridcolor\":\"white\",\"startlinecolor\":\"#2a3f5f\"},\"type\":\"carpet\"}],\"choropleth\":[{\"colorbar\":{\"outlinewidth\":0,\"ticks\":\"\"},\"type\":\"choropleth\"}],\"contour\":[{\"colorbar\":{\"outlinewidth\":0,\"ticks\":\"\"},\"colorscale\":[[0.0,\"#0d0887\"],[0.1111111111111111,\"#46039f\"],[0.2222222222222222,\"#7201a8\"],[0.3333333333333333,\"#9c179e\"],[0.4444444444444444,\"#bd3786\"],[0.5555555555555556,\"#d8576b\"],[0.6666666666666666,\"#ed7953\"],[0.7777777777777778,\"#fb9f3a\"],[0.8888888888888888,\"#fdca26\"],[1.0,\"#f0f921\"]],\"type\":\"contour\"}],\"contourcarpet\":[{\"colorbar\":{\"outlinewidth\":0,\"ticks\":\"\"},\"type\":\"contourcarpet\"}],\"heatmap\":[{\"colorbar\":{\"outlinewidth\":0,\"ticks\":\"\"},\"colorscale\":[[0.0,\"#0d0887\"],[0.1111111111111111,\"#46039f\"],[0.2222222222222222,\"#7201a8\"],[0.3333333333333333,\"#9c179e\"],[0.4444444444444444,\"#bd3786\"],[0.5555555555555556,\"#d8576b\"],[0.6666666666666666,\"#ed7953\"],[0.7777777777777778,\"#fb9f3a\"],[0.8888888888888888,\"#fdca26\"],[1.0,\"#f0f921\"]],\"type\":\"heatmap\"}],\"heatmapgl\":[{\"colorbar\":{\"outlinewidth\":0,\"ticks\":\"\"},\"colorscale\":[[0.0,\"#0d0887\"],[0.1111111111111111,\"#46039f\"],[0.2222222222222222,\"#7201a8\"],[0.3333333333333333,\"#9c179e\"],[0.4444444444444444,\"#bd3786\"],[0.5555555555555556,\"#d8576b\"],[0.6666666666666666,\"#ed7953\"],[0.7777777777777778,\"#fb9f3a\"],[0.8888888888888888,\"#fdca26\"],[1.0,\"#f0f921\"]],\"type\":\"heatmapgl\"}],\"histogram\":[{\"marker\":{\"pattern\":{\"fillmode\":\"overlay\",\"size\":10,\"solidity\":0.2}},\"type\":\"histogram\"}],\"histogram2d\":[{\"colorbar\":{\"outlinewidth\":0,\"ticks\":\"\"},\"colorscale\":[[0.0,\"#0d0887\"],[0.1111111111111111,\"#46039f\"],[0.2222222222222222,\"#7201a8\"],[0.3333333333333333,\"#9c179e\"],[0.4444444444444444,\"#bd3786\"],[0.5555555555555556,\"#d8576b\"],[0.6666666666666666,\"#ed7953\"],[0.7777777777777778,\"#fb9f3a\"],[0.8888888888888888,\"#fdca26\"],[1.0,\"#f0f921\"]],\"type\":\"histogram2d\"}],\"histogram2dcontour\":[{\"colorbar\":{\"outlinewidth\":0,\"ticks\":\"\"},\"colorscale\":[[0.0,\"#0d0887\"],[0.1111111111111111,\"#46039f\"],[0.2222222222222222,\"#7201a8\"],[0.3333333333333333,\"#9c179e\"],[0.4444444444444444,\"#bd3786\"],[0.5555555555555556,\"#d8576b\"],[0.6666666666666666,\"#ed7953\"],[0.7777777777777778,\"#fb9f3a\"],[0.8888888888888888,\"#fdca26\"],[1.0,\"#f0f921\"]],\"type\":\"histogram2dcontour\"}],\"mesh3d\":[{\"colorbar\":{\"outlinewidth\":0,\"ticks\":\"\"},\"type\":\"mesh3d\"}],\"parcoords\":[{\"line\":{\"colorbar\":{\"outlinewidth\":0,\"ticks\":\"\"}},\"type\":\"parcoords\"}],\"pie\":[{\"automargin\":true,\"type\":\"pie\"}],\"scatter\":[{\"marker\":{\"colorbar\":{\"outlinewidth\":0,\"ticks\":\"\"}},\"type\":\"scatter\"}],\"scatter3d\":[{\"line\":{\"colorbar\":{\"outlinewidth\":0,\"ticks\":\"\"}},\"marker\":{\"colorbar\":{\"outlinewidth\":0,\"ticks\":\"\"}},\"type\":\"scatter3d\"}],\"scattercarpet\":[{\"marker\":{\"colorbar\":{\"outlinewidth\":0,\"ticks\":\"\"}},\"type\":\"scattercarpet\"}],\"scattergeo\":[{\"marker\":{\"colorbar\":{\"outlinewidth\":0,\"ticks\":\"\"}},\"type\":\"scattergeo\"}],\"scattergl\":[{\"marker\":{\"colorbar\":{\"outlinewidth\":0,\"ticks\":\"\"}},\"type\":\"scattergl\"}],\"scattermapbox\":[{\"marker\":{\"colorbar\":{\"outlinewidth\":0,\"ticks\":\"\"}},\"type\":\"scattermapbox\"}],\"scatterpolar\":[{\"marker\":{\"colorbar\":{\"outlinewidth\":0,\"ticks\":\"\"}},\"type\":\"scatterpolar\"}],\"scatterpolargl\":[{\"marker\":{\"colorbar\":{\"outlinewidth\":0,\"ticks\":\"\"}},\"type\":\"scatterpolargl\"}],\"scatterternary\":[{\"marker\":{\"colorbar\":{\"outlinewidth\":0,\"ticks\":\"\"}},\"type\":\"scatterternary\"}],\"surface\":[{\"colorbar\":{\"outlinewidth\":0,\"ticks\":\"\"},\"colorscale\":[[0.0,\"#0d0887\"],[0.1111111111111111,\"#46039f\"],[0.2222222222222222,\"#7201a8\"],[0.3333333333333333,\"#9c179e\"],[0.4444444444444444,\"#bd3786\"],[0.5555555555555556,\"#d8576b\"],[0.6666666666666666,\"#ed7953\"],[0.7777777777777778,\"#fb9f3a\"],[0.8888888888888888,\"#fdca26\"],[1.0,\"#f0f921\"]],\"type\":\"surface\"}],\"table\":[{\"cells\":{\"fill\":{\"color\":\"#EBF0F8\"},\"line\":{\"color\":\"white\"}},\"header\":{\"fill\":{\"color\":\"#C8D4E3\"},\"line\":{\"color\":\"white\"}},\"type\":\"table\"}]},\"layout\":{\"annotationdefaults\":{\"arrowcolor\":\"#2a3f5f\",\"arrowhead\":0,\"arrowwidth\":1},\"autotypenumbers\":\"strict\",\"coloraxis\":{\"colorbar\":{\"outlinewidth\":0,\"ticks\":\"\"}},\"colorscale\":{\"diverging\":[[0,\"#8e0152\"],[0.1,\"#c51b7d\"],[0.2,\"#de77ae\"],[0.3,\"#f1b6da\"],[0.4,\"#fde0ef\"],[0.5,\"#f7f7f7\"],[0.6,\"#e6f5d0\"],[0.7,\"#b8e186\"],[0.8,\"#7fbc41\"],[0.9,\"#4d9221\"],[1,\"#276419\"]],\"sequential\":[[0.0,\"#0d0887\"],[0.1111111111111111,\"#46039f\"],[0.2222222222222222,\"#7201a8\"],[0.3333333333333333,\"#9c179e\"],[0.4444444444444444,\"#bd3786\"],[0.5555555555555556,\"#d8576b\"],[0.6666666666666666,\"#ed7953\"],[0.7777777777777778,\"#fb9f3a\"],[0.8888888888888888,\"#fdca26\"],[1.0,\"#f0f921\"]],\"sequentialminus\":[[0.0,\"#0d0887\"],[0.1111111111111111,\"#46039f\"],[0.2222222222222222,\"#7201a8\"],[0.3333333333333333,\"#9c179e\"],[0.4444444444444444,\"#bd3786\"],[0.5555555555555556,\"#d8576b\"],[0.6666666666666666,\"#ed7953\"],[0.7777777777777778,\"#fb9f3a\"],[0.8888888888888888,\"#fdca26\"],[1.0,\"#f0f921\"]]},\"colorway\":[\"#636efa\",\"#EF553B\",\"#00cc96\",\"#ab63fa\",\"#FFA15A\",\"#19d3f3\",\"#FF6692\",\"#B6E880\",\"#FF97FF\",\"#FECB52\"],\"font\":{\"color\":\"#2a3f5f\"},\"geo\":{\"bgcolor\":\"white\",\"lakecolor\":\"white\",\"landcolor\":\"#E5ECF6\",\"showlakes\":true,\"showland\":true,\"subunitcolor\":\"white\"},\"hoverlabel\":{\"align\":\"left\"},\"hovermode\":\"closest\",\"mapbox\":{\"style\":\"light\"},\"paper_bgcolor\":\"white\",\"plot_bgcolor\":\"#E5ECF6\",\"polar\":{\"angularaxis\":{\"gridcolor\":\"white\",\"linecolor\":\"white\",\"ticks\":\"\"},\"bgcolor\":\"#E5ECF6\",\"radialaxis\":{\"gridcolor\":\"white\",\"linecolor\":\"white\",\"ticks\":\"\"}},\"scene\":{\"xaxis\":{\"backgroundcolor\":\"#E5ECF6\",\"gridcolor\":\"white\",\"gridwidth\":2,\"linecolor\":\"white\",\"showbackground\":true,\"ticks\":\"\",\"zerolinecolor\":\"white\"},\"yaxis\":{\"backgroundcolor\":\"#E5ECF6\",\"gridcolor\":\"white\",\"gridwidth\":2,\"linecolor\":\"white\",\"showbackground\":true,\"ticks\":\"\",\"zerolinecolor\":\"white\"},\"zaxis\":{\"backgroundcolor\":\"#E5ECF6\",\"gridcolor\":\"white\",\"gridwidth\":2,\"linecolor\":\"white\",\"showbackground\":true,\"ticks\":\"\",\"zerolinecolor\":\"white\"}},\"shapedefaults\":{\"line\":{\"color\":\"#2a3f5f\"}},\"ternary\":{\"aaxis\":{\"gridcolor\":\"white\",\"linecolor\":\"white\",\"ticks\":\"\"},\"baxis\":{\"gridcolor\":\"white\",\"linecolor\":\"white\",\"ticks\":\"\"},\"bgcolor\":\"#E5ECF6\",\"caxis\":{\"gridcolor\":\"white\",\"linecolor\":\"white\",\"ticks\":\"\"}},\"title\":{\"x\":0.05},\"xaxis\":{\"automargin\":true,\"gridcolor\":\"white\",\"linecolor\":\"white\",\"ticks\":\"\",\"title\":{\"standoff\":15},\"zerolinecolor\":\"white\",\"zerolinewidth\":2},\"yaxis\":{\"automargin\":true,\"gridcolor\":\"white\",\"linecolor\":\"white\",\"ticks\":\"\",\"title\":{\"standoff\":15},\"zerolinecolor\":\"white\",\"zerolinewidth\":2}}}},                        {\"responsive\": true}                    ).then(function(){\n",
              "                            \n",
              "var gd = document.getElementById('86e56e8c-43dc-47a8-b99b-c3c9dbe6ed2a');\n",
              "var x = new MutationObserver(function (mutations, observer) {{\n",
              "        var display = window.getComputedStyle(gd).display;\n",
              "        if (!display || display === 'none') {{\n",
              "            console.log([gd, 'removed!']);\n",
              "            Plotly.purge(gd);\n",
              "            observer.disconnect();\n",
              "        }}\n",
              "}});\n",
              "\n",
              "// Listen for the removal of the full notebook cells\n",
              "var notebookContainer = gd.closest('#notebook-container');\n",
              "if (notebookContainer) {{\n",
              "    x.observe(notebookContainer, {childList: true});\n",
              "}}\n",
              "\n",
              "// Listen for the clearing of the current output cell\n",
              "var outputEl = gd.closest('.output');\n",
              "if (outputEl) {{\n",
              "    x.observe(outputEl, {childList: true});\n",
              "}}\n",
              "\n",
              "                        })                };                            </script>        </div>\n",
              "</body>\n",
              "</html>"
            ]
          },
          "metadata": {}
        }
      ]
    },
    {
      "cell_type": "code",
      "source": [
        "for col in nom_cols:\n",
        "    data = [go.Box(x=train[col]),]\n",
        "    layout = go.Layout(title= col)\n",
        "    fig = go.Figure(data = data, layout = layout)\n",
        "    fig.show()"
      ],
      "metadata": {
        "colab": {
          "base_uri": "https://localhost:8080/",
          "height": 1000
        },
        "id": "qpUJWxVn7TzY",
        "outputId": "c2bc9d9e-19b5-443b-80e3-8047b9610e7c"
      },
      "execution_count": null,
      "outputs": [
        {
          "output_type": "display_data",
          "data": {
            "text/html": [
              "<html>\n",
              "<head><meta charset=\"utf-8\" /></head>\n",
              "<body>\n",
              "    <div>            <script src=\"https://cdnjs.cloudflare.com/ajax/libs/mathjax/2.7.5/MathJax.js?config=TeX-AMS-MML_SVG\"></script><script type=\"text/javascript\">if (window.MathJax) {MathJax.Hub.Config({SVG: {font: \"STIX-Web\"}});}</script>                <script type=\"text/javascript\">window.PlotlyConfig = {MathJaxConfig: 'local'};</script>\n",
              "        <script src=\"https://cdn.plot.ly/plotly-2.8.3.min.js\"></script>                <div id=\"34007be5-918f-42e9-8125-6cf917633948\" class=\"plotly-graph-div\" style=\"height:525px; width:100%;\"></div>            <script type=\"text/javascript\">                                    window.PLOTLYENV=window.PLOTLYENV || {};                                    if (document.getElementById(\"34007be5-918f-42e9-8125-6cf917633948\")) {                    Plotly.newPlot(                        \"34007be5-918f-42e9-8125-6cf917633948\",                        [{\"x\":[22,38,67,67,40,56,32,33,61,55,26,19,19,70,58,41,32,31,58,79,49,18,33,36,58,56,31,49,35,35,45,42,19,26,83,27,32,28,28,56,47,22,27,49,40,79,41,29,19,45,61,36,40,57,76,32,25,32,45,72,48,55,74,56,59,25,31,27,57,39,27,51,47,33,56,33,36,51,45,49,30,26,63,35,19,32,52,36,42,40,39,47,61,32,55,58,38,63,58,30,60,68,52,38,35,18,30,86,19,25,59,39,50,47,43,36,80,36,27,37,46,55,47,28,39,27,42,72,28,35,39,69,18,46,50,30,41,39,29,37,39,48,32,78,43,29,28,80,28,71,67,26,47,43,27,45,76,43,78,35,49,25,37,32,60,45,49,32,40,59,48,82,70,31,72,50,23,20,22,31,36,52,29,40,40,38,85,21,41,40,53,42,42,48,59,41,31,49,67,35,26,19,25,39,63,23,23,53,33,50,69,37,20,85,49,18,52,25,56,62,35,28,28,20,27,56,45,25,40,25,74,23,67,21,38,28,32,33,56,53,57,59,25,59,36,37,22,43,41,21,49,38,47,70,31,82,51,42,38,18,50,46,72,33,25,75,72,72,36,40,28,28,19,43,35,65,52,40,69,22,47,29,46,32,38,59,26,26,28,53,43,27,32,26,31,39,43,25,40,40,63,27,27,19,86,41,27,70,53,49,55,57,83,43,36,74,30,37,22,19,70,89,18,25,45,35,37,39,32,62,58,32,25,56,36,30,19,27,38,46,29,51,55,69,26,83,39,35,19,60,35,53,86,29,26,36,22,19,20,43,42,43,50,25,61,28,38,25,18,43,27,60,75,31,23,36,30,56,52,39,35,33,25,27,35,41,49,46,31,49,26,43,30,70,28,89,42,37,29,68,25,29,48,51,40,47,39,35,19,21,46,86,66,42,73,72,53,39,27,63,23,30,39,26,50,45,62,27,57,30,32,18,47,32,32,67,77,79,31,42,18,50,71,72,47,45,40,36,42,30,29,28,22,85,40,52,47,26,55,20,87,28,38,42,42,29,32,38,59,22,26,78,32,37,37,67,47,68,30,48,43,33,31,32,21,29,35,46,38,32,28,68,45,58,28,32,30,42,22,41,18,29,33,47,57,36,57,18,52,52,51,37,36,29,45,61,52,49,40,31,42,51,42,29,33,27,21,35,42,41,39,28,45,61,62,65,45,26,25,45,43,49,55,37,65,32,39,40,72,38,26,30,51,57,31,39,30,43,27,46,43,69,28,43,27,28,33,30,58,38,31,32,45,66,51,59,40,46,20,84,41,51,57,33,25,55,56,77,30,23,43,39,29,37,45,48,27,60,45,31,33,18,48,83,57,26,51,67,38,40,45,48,69,21,48,18,72,85,21,48,37,28,55,56,50,21,18,68,47,75,50,31,30,41,41,35,37,60,50,36,26,62,22,19,45,31,56,62,25,73,62,46,51,25,66,27,87,47,57,60,40,32,28,39,47,39,28,69,42,46,23,45,38,71,26,60,46,39,18,26,53,40,76,26,65,37,25,21,25,23,30,30,42,81,49,32,43,26,67,88,40,48,18,39,61,51,25,35,46,53,48,75,23,29,46,61,37,23,21,33,74,41,58,25,33,43,25,26,22,28,36,28,85,30,43,82,48,18,53,50,39,35,28,33,35,48,50,47,50,56,26,21,61,88,72,61,45,51,42,59,45,68,85,46,32,70,37,30,33,61,37,32,52,42,47,52,66,28,47,52,27,56,53,45,37,36,25,45,72,35,72,31,47,20,73,29,25,52,27,52,49,60,45,59,18,18,55,59,22,52,51,35,26,38,43,41,27,60,25,18,47,71,32,60,33,37,48,33,68,51,52,31,39,60,50,19,18,37,50,20,19,31,53,26,37,49,70,48,21,19,61,31,65,73,50,70,58,58,18,32,40,49,35,40,30,35,28,30,39,39,26,36,26,21,45,45,63,45,27,47,36,49,25,32,41,50,63,69,62,63,36,31,45,45,26,49,38,74,61,26,70,30,57,35,20,19,52,31,22,27,39,28,59,57,25,40,53,32,70,48,75,62,41,55,35,20,20,35,56,39,42,35,35,33,42,35,27,33,32,35,22,40,51,88,82,43,29,38,37,32,26,39,43,51,52,51,20,33,36,39,48,78,46,26,26,37,75,19,22,27,57,32,37,33,57,35,26,31,53,56,65,23,68,32,21,61,25,36,25,58,66,42,36,58,36,28,45,35,59,49,51,40,49,74,27,70,62,37,40,47,52,57,37,60,43,37,59,60,69,49,23,43,22,29,26,36,55,59,83,55,53,62,73,45,28,28,25,52,61,27,31,40,27,60,40,32,42,32,27,29,43,48,62,42,25,31,61,26,27,40,23,45,37,28,70,37,19,48,56,36,63,68,27,30,33,25,37,30,66,31,31,45,42,46,76,25,41,49,32,55,66,68,21,39,26,22,20,50,84,43,63,37,31,26,41,62,45,28,89,20,40,23,41,78,43,57,55,27,51,35,49,33,60,52,42,28,43,25,51,42,20,80,41,71,42,56,41,72,30,25,33,26,38,60,79,38,56,73,22,42,72,33,53,25,46,18,60,22,22,18,39,19,30,23,23,48,39,56,63,71,70,84,39,42,46,63,55,42,58,88,43,73,35,30,30,46,43,36,47,63,35,31,45,26,37,26,37,53,55,42,46,30,63,52,28,20,60,42,46,37,42,46,49,89,38,48,51,73,30,46,65,36,25,31,43,33,30,21,25,49,31,33,27,33,35,19,25,57,45,47,20,33,45,27,38,38,87,30,57,63,50,68,33,37,25,29,32,68,86,49,32,28,26,83,63,65,38,61,46,30,46,53,22,42,57,49,25,31,25,33,29,38,62,59,27,51,59,78,37,37,30,43,40,40,30,40,62,22,66,67,50,27,28,45,59,19,62,72,19,28,25,36,33,59,20,23,27,46,74,26,76,41,32,30,70,50,39,42,40,39,88,43,19,45,30,39,35,53,21,22,38,36,63,31,25,52,19,35,30,59,25,77,58,38,29,56,37,49,41,55,28,35,23,43,18,30,20,84,42,28,73,61,42,49,84,22,42,31,49,58,72,45,49,20,31,50,65,78,45,29,25,62,28,49,29,52,23,18,26,51,27,20,62,63,53,28,33,45,61,62,42,52,51,49,51,29,53,40,25,29,60,25,55,66,27,51,35,65,20,32,79,21,36,70,28,25,36,20,49,28,49,18,46,47,32,47,49,28,58,21,53,67,26,26,40,25,41,45,47,27,50,51,28,39,60,39,65,43,58,31,38,27,58,62,48,57,42,68,38,31,51,59,36,32,25,48,37,70,42,26,25,36,42,35,22,36,47,19,36,28,52,50,47,29,23,50,21,56,32,32,63,50,52,49,62,55,27,45,31,33,52,42,38,84,67,32,33,30,18,47,29,63,55,48,27,43,50,29,73,57,47,32,25,79,41,36,19,49,26,28,84,81,35,55,50,78,36,47,48,69,38,36,52,46,18,22,18,30,32,43,49,40,55,33,31,35,40,69,46,63,50,61,50,25,53,35,19,26,38,26,39,39,72,45,47,30,48,76,71,41,29,57,49,21,18,22,33,53,55,73,89,59,38,42,83,22,46,37,42,71,18,41,27,53,28,35,18,19,32,30,36,82,37,45,31,27,18,22,22,42,69,43,89,26,43,30,60,38,29,45,20,51,36,41,46,30,23,39,63,60,20,89,31,43,70,35,42,39,29,38,74,41,51,50,23,36,36,50,23,37,65,26,55,65,72,51,25,38,55,46,39,62,37,28,32,31,31,43,67,72,57,58,36,21,47,25,41,29,21,66,27,27,52,46,23,27,52,65,42,59,45,18,61,53,37,63,33,50,62,49,46,27,53,42,28,49,35,27,58,41,32,33,69,31,68,39,21,39,41,49,38,36,52,46,28,55,41,47,52,45,32,78,45,39,38,50,53,43,59,38,42,65,79,41,42,28,49,58,69,35,47,25,38,25,76,23,38,49,56,71,39,41,66,27,23,35,33,21,49,42,39,68,57,38,35,41,40,32,53,38,68,30,52,80,31,38,87,23,45,36,41,48,70,84,39,39,50,40,39,38,71,35,27,33,37,74,20,30,22,43,36,29,43,38,40,68,57,35,23,50,32,59,30,35,48,29,40,38,36,20,29,42,35,37,52,53,30,65,23,32,36,27,36,37,29,29,27,35,40,37,19,29,53,25,38,48,26,30,30,69,57,56,27,21,71,39,87,59,32,40,58,19,31,31,43,47,35,46,69,69,45,38,39,65,23,58,84,35,22,30,23,41,50,50,28,37,19,30,43,73,19,50,51,32,39,43,33,61,70,66,72,71,18,33,28,27,38,63,70,26,36,47,28,26,65,20,30,41,40,47,40,53,28,60,27,43,33,56,70,70,73,38,40,88,29,27,40,82,38,39,39,47,75,37,84,42,39,42,40,52,52,31,37,27,35,79,28,31,88,51,38,53,43,55,35,25,58,32,49,53,31,39,42,20,50,26,46,30,60,84,37,63,38,51,20,25,33,31,57,42,40,66,21,73,46,66,27,35,53,80,63,41,43,47,18,33,30,85,46,48,80,33,36,27,28,35,26,39,56,26,31,21,39,51,45,33,62,80,77,29,33,29,20,43,18,53,28,43,31,28,65,33,49,33,53,47,31,52,61,31,30,63,69,29,56,72,88,30,31,41,31,20,26,48,26,20,41,20,63,88,39,55,32,32,38,62,18,67,42,45,46,20,41,35,52,63,51,29,27,37,29,50,74,72,83,37,19,30,46,65,88,43,50,35,67,66,39,46,32,40,88,30,32,43,55,47,73,39,22,39,31,27,19,69,37,45,22,26,39,61,74,29,29,36,63,69,35,81,71,31,41,35,52,19,39,45,19,23,77,84,47,29,35,40,35,20,43,56,53,22,32,51,41,37,55,42,20,42,38,52,48,37,27,48,25,56,68,21,72,43,52,50,41,40,32,57,25,74,38,46,50,50,69,29,84,73,38,82,71,50,56,19,29,26,31,42,33,35,46,67,35,28,43,40,73,21,32,36,32,25,40,19,48,36,27,82,23,30,30,30,28,60,52,19,19,40,38,71,40,68,50,21,29,29,39,41,28,22,35,49,26,33,27,50,37,43,35,50,31,29,20,66,37,52,45,27,46,43,32,87,40,59,63,23,65,47,45,79,65,38,28,20,36,22,56,32,33,68,53,38,22,49,43,33,57,65,50,36,43,18,43,75,27,39,61,73,26,52,50,51,50,53,40,86,26,32,22,36,62,69,39,81,28,28,52,40,68,37,26,31,68,42,56,37,58,33,31,27,25,51,37,69,45,38,51,19,32,31,19,41,39,21,30,23,65,31,74,73,42,47,19,45,25,28,40,40,30,50,26,82,33,50,83,37,37,55,61,39,40,55,50,26,53,28,32,31,30,31,47,49,37,47,52,20,79,47,20,23,29,33,21,18,70,56,42,28,41,81,30,53,26,51,19,75,51,70,38,21,80,19,33,48,33,33,31,48,49,38,39,46,41,31,37,58,49,47,30,41,33,33,27,45,45,35,21,36,56,28,89,48,47,23,18,58,42,22,50,40,73,27,40,81,37,39,83,55,51,42,27,53,40,62,21,40,27,84,26,26,33,27,46,28,25,47,32,21,73,35,52,40,31,88,39,41,73,45,41,75,39,89,45,50,43,50,53,37,40,76,27,41,50,56,28,46,72,41,28,27,32,20,45,59,46,46,41,70,25,42,60,37,18,52,32,74,29,37,45,22,60,51,59,55,22,18,84,35,50,73,23,30,21,18,46,32,36,37,42,35,42,33,35,59,70,53,80,56,39,73,58,30,23,59,56,40,68,29,55,21,19,41,41,33,31,41,35,41,81,26,42,53,33,39,83,25,40,22,37,65,49,38,65,48,52,73,48,25,31,25,21,20,25,25,29,72,48,28,42,32,49,55,40,37,27,32,36,28,72,18,36,29,88,38,87,51,51,31,47,70,31,29,20,41,68,28,32,75,39,18,42,48,70,45,29,50,22,46,39,81,49,43,66,53,29,86,70,36,35,42,49,20,27,56,67,51,49,51,26,59,31,43,59,35,18,48,88,30,22,66,81,36,30,50,51,66,39,28,35,50,27,60,52,32,42,48,75,26,21,53,32,56,36,83,42,66,62,40,38,18,62,23,56,42,32,28,77,35,30,53,27,53,52,29,36,41,72,50,79,23,25,40,27,62,29,31,37,28,26,33,59,57,43,50,29,29,28,37,75,19,42,22,28,45,51,40,42,49,46,46,29,72,26,50,33,57,35,51,52,20,33,58,37,38,27,43,18,29,86,32,52,53,29,58,22,72,39,40,23,79,70,27,47,58,26,40,35,31,43,21,29,18,28,27,47,52,42,57,61,33,41,39,40,52,48,33,43,51,36,38,30,39,46,43,70,41,39,51,20,30,26,31,33,21,83,70,60,33,71,29,41,55,29,76,23,18,49,19,81,35,59,32,35,56,63,21,77,36,22,26,82,18,35,36,59,61,37,25,28,56,29,86,45,33,20,25,59,51,20,62,75,47,32,62,43,69,38,29,56,51,53,37,28,48,74,51,88,50,19,28,32,45,56,33,29,53,18,45,86,26,46,35,32,36,25,63,23,26,46,70,40,33,48,39,45,61,52,26,45,40,42,19,38,73,29,35,26,39,28,37,36,41,39,74,23,25,50,67,30,66,29,43,56,42,39,40,26,39,46,40,78,45,58,31,57,32,27,27,25,57,18,69,59,36,19,40,20,63,42,42,30,25,48,52,35,74,33,45,49,37,40,29,72,49,26,55,28,52,59,19,52,41,22,56,51,57,60,27,50,40,69,41,70,32,20,73,19,70,33,49,89,25,35,39,47,48,45,20,46,84,26,31,51,52,53,42,47,41,52,30,47,61,33,31,31,47,86,31,30,32,41,37,51,46,65,38,38,21,21,75,68,22,35,35,72,68,27,33,69,22,47,53,63,32,41,38,25,57,37,33,48,22,68,35,27,52,46,40,46,62,43,46,42,31,19,36,43,32,40,48,38,68,38,35,52,60,26,28,75,25,35,56,41,37,36,31,68,30,62,39,72,31,65,68,39,52,28,43,77,42,31,21,85,26,35,76,37,33,52,40,79,47,78,50,46,47,37,35,51,51,71,80,77,60,53,43,49,30,42,62,22,48,66,25,26,42,52,18,58,37,39,19,46,68,41,25,50,30,59,52,31,80,51,39,29,23,53,33,69,33,52,48,28,29,47,40,72,63,27,38,59,38,22,25,49,45,21,26,52,27,32,89,39,41,26,45,40,26,63,40,53,41,77,32,30,60,59,72,63,42,53,81,76,40,28,27,41,29,43,57,31,68,46,32,51,19,26,32,62,47,28,48,61,25,74,38,28,27,56,25,37,50,48,48,48,39,36,63,36,37,42,39,28,40,88,57,51,43,28,42,18,27,62,68,42,18,46,48,35,56,88,25,43,25,78,53,33,49,31,65,51,19,41,57,35,40,26,86,52,50,82,41,36,22,23,27,75,32,51,58,50,55,30,29,69,41,47,76,21,30,35,33,25,31,25,38,56,21,47,52,63,39,20,21,42,38,43,28,21,50,72,25,58,37,23,81,23,77,33,35,25,22,42,25,33,51,31,32,32,45,37,23,52,42,59,66,79,52,47,42,48,84,39,61,46,33,31,41,32,66,20,43,28,38,42,51,78,69,89,47,84,58,21,23,40,19,40,41,52,45,33,43,39,51,35,37,40,28,69,27,62,57,62,28,52,40,53,73,26,53,42,67,70,68,22,65,43,39,89,37,29,27,88,48,70,40,52,25,48,42,50,39,56,67,29,46,31,41,27,56,32,59,87,41,59,55,52,61,46,46,36,36,58,25,65,89,27,39,89,59,47,41,66,19,74,35,50,23,28,59,42,35,56,50,39,45,52,76,36,26,39,18,43,63,36,33,81,37,47,67,36,30,40,19,32,32,33,27,73,29,28,69,33,67,73,42,32,53,42,50,19,82,82,38,27,38,48,22,30,31,35,27,40,62,30,67,38,37,26,61,22,47,67,38,36,36,29,29,28,25,40,41,35,39,73,22,40,30,32,38,31,41,26,41,56,61,48,40,83,22,22,22,72,27,35,84,42,30,73,68,46,48,49,26,49,81,26,56,26,36,32,56,40,19,66,76,30,26,33,25,27,42,35,29,68,72,21,50,49,33,52,89,46,87,50,30,22,58,32,29,32,53,27,68,43,39,20,40,38,26,31,22,35,37,26,51,35,36,46,46,53,18,26,32,69,60,60,51,26,48,51,72,43,35,29,19,27,40,52,23,31,35,25,47,37,20,68,28,22,25,20,32,18,79,36,49,49,45,28,57,41,37,36,45,39,40,29,89,73,28,53,25,19,52,31,35,47,68,42,38,25,37,31,21,28,50,46,19,37,28,71,66,57,86,40,49,41,42,87,80,60,38,74,30,20,43,32,53,23,52,45,22,63,81,35,39,37,83,47,65,25,40,27,19,61,56,53,39,55,65,26,28,40,40,42,37,22,33,28,51,32,33,40,36,27,18,81,59,53,38,20,40,37,31,40,35,35,39,79,42,42,32,52,59,51,32,49,40,61,86,29,46,28,53,65,32,31,25,33,38,43,20,33,50,37,38,43,27,35,36,20,53,36,32,55,37,27,43,32,40,87,86,42,37,25,19,42,33,41,27,84,22,32,83,50,30,23,27,35,23,56,41,25,41,27,43,40,60,45,82,28,63,35,89,20,40,46,25,46,49,47,30,40,39,61,28,18,55,39,47,29,66,46,52,23,84,27,37,46,22,42,35,39,27,65,39,22,31,48,58,74,40,26,35,43,49,26,74,56,49,19,39,37,41,26,38,35,49,60,38,52,70,21,58,28,57,37,52,35,30,35,31,37,71,66,25,26,31,67,51,39,60,46,36,18,30,69,32,60,40,83,51,33,43,71,50,57,35,66,46,26,21,42,40,27,37,70,35,28,27,81,25,72,33,40,52,23,48,31,35,63,63,28,37,67,37,22,46,41,59,23,84,89,50,52,74,48,47,45,53,53,29,19,50,42,29,40,18,46,68,72,66,63,41,82,43,53,29,53,87,62,43,36,30,37,59,35,39,19,75,40,62,43,43,29,27,23,42,65,57,46,30,51,39,41,29,76,33,23,33,43,35,32,65,49,48,39,27,36,76,35,35,48,23,42,41,29,36,60,46,31,20,31,26,28,18,30,39,74,52,25,66,55,31,41,59,39,48,79,43,26,88,66,56,26,41,36,38,81,25,42,32,28,29,28,26,47,50,70,38,39,60,63,68,47,40,46,42,48,53,65,26,35,27,86,30,43,38,66,74,25,89,30,33,37,69,51,19,45,32,22,26,43,19,48,61,20,22,31,25,41,36,48,27,35,39,38,57,38,80,57,61,29,23,83,37,35,41,38,81,58,38,18,37,43,36,76,33,43,47,81,27,29,38,19,37,47,33,51,86,56,59,33,31,71,32,26,89,70,30,37,30,23,42,48,28,65,28,85,18,35,27,68,52,20,35,21,42,50,25,32,19,22,27,22,55,22,40,46,65,18,53,35,59,32,39,88,61,21,31,58,27,51,48,25,89,51,40,56,36,38,47,61,89,55,88,43,28,42,33,60,59,31,31,43,42,29,53,21,41,48,31,26,18,19,42,52,50,33,75,71,59,85,29,43,52,36,59,23,39,39,46,33,53,50,62,46,40,62,31,25,23,22,47,68,25,30,27,38,33,46,37,41,29,19,82,48,67,77,56,69,40,61,46,31,39,89,30,59,47,22,42,69,30,39,27,30,47,81,42,43,31,39,57,35,43,31,28,58,71,36,43,69,77,50,50,40,43,37,35,65,46,35,86,63,40,55,37,31,28,48,38,57,48,79,81,21,33,38,37,33,38,39,59,57,80,42,75,29,33,63,33,22,36,53,35,29,31,38,22,57,42,78,77,79,53,42,72,71,25,74,61,48,28,43,18,82,40,32,27,55,21,28,43,38,63,25,41,27,37,57,86,56,27,70,22,35,31,40,43,38,84,28,39,48,41,29,45,45,41,28,20,69,53,47,81,48,45,28,57,51,27,27,30,21,38,57,78,46,75,39,61,52,25,37,31,18,36,59,39,52,25,47,32,38,52,21,70,31,23,33,37,77,42,73,40,33,18,22,43,29,37,59,32,42,46,53,41,21,62,31,58,36,28,47,36,36,33,46,49,33,49,25,80,36,26,45,41,69,53,41,43,51,45,50,57,70,59,84,30,43,40,74,33,63,41,60,62,31,28,37,70,78,19,38,19,28,73,84,21,79,20,59,42,55,41,48,72,52,25,56,80,83,48,47,47,83,38,29,50,52,67,33,36,65,25,27,22,51,42,46,23,80,40,48,55,36,41,32,37,30,79,65,49,53,20,78,32,23,40,30,45,25,20,28,27,19,27,26,55,41,25,67,25,87,26,37,42,31,20,51,88,33,55,22,39,62,37,26,27,29,31,40,56,45,40,30,23,46,39,65,40,36,18,73,67,50,38,18,19,19,39,26,58,28,53,18,49,19,20,55,32,27,72,59,35,32,28,19,52,29,51,27,47,61,75,19,48,59,42,86,33,37,49,52,41,26,23,35,37,43,50,50,26,20,31,31,41,84,22,57,23,69,68,30,26,79,32,36,18,30,46,33,19,33,65,26,30,33,27,65,77,20,27,78,51,18,63,36,43,46,51,43,43,37,63,30,37,53,26,40,41,66,80,37,42,38,53,33,52,33,19,53,50,26,20,53,41,48,56,66,35,50,51,30,30,50,61,19,22,35,47,32,33,25,28,32,50,37,53,49,72,60,48,32,48,33,26,38,56,41,43,51,47,28,20,38,57,28,39,89,81,33,32,79,41,43,68,58,51,47,55,39,33,62,51,29,48,41,42,20,60,72,25,57,40,35,31,78,41,57,41,49,40,89,61,38,58,46,22,39,58,38,28,35,70,30,55,57,22,63,42,27,43,69,67,72,89,26,53,49,28,52,43,38,27,18,59,22,32,35,51,22,49,42,32,55,31,36,32,18,31,53,42,75,30,19,67,46,51,32,53,46,45,50,36,40,40,43,19,42,29,37,38,79,25,29,33,26,26,38,63,60,33,71,45,60,31,26,42,35,20,25,23,53,49,35,60,86,31,18,38,39,45,28,65,41,48,52,26,43,30,77,37,65,61,32,49,19,50,31,45,82,33,39,20,85,49,76,37,62,23,33,53,46,28,87,45,21,51,37,67,49,66,42,45,32,47,38,50,51,32,53,45,32,22,59,21,62,67,73,85,40,27,41,46,41,38,55,43,48,88,66,73,49,48,39,52,30,61,33,68,48,39,36,76,69,79,39,32,56,23,71,48,37,46,66,25,26,23,32,84,57,39,71,48,39,60,43,46,55,62,57,29,33,60,58,52,30,52,31,67,62,38,60,47,53,71,45,37,58,38,28,56,49,50,56,28,70,52,75,48,51,62,43,22,32,43,35,68,36,36,47,37,20,40,40,26,56,35,56,47,88,31,50,43,47,18,56,88,45,28,57,46,85,35,40,38,18,31,48,58,31,46,31,31,32,81,66,22,51,22,33,29,41,18,48,78,25,46,53,56,47,40,27,18,41,31,40,47,43,81,62,51,20,42,33,59,36,55,59,39,39,53,32,35,40,60,37,52,35,27,28,85,29,78,51,33,29,29,73,43,33,23,56,65,41,58,48,36,36,23,68,27,42,29,31,45,50,42,55,43,30,32,27,33,51,31,31,36,70,37,52,28,42,52,29,61,38,30,39,74,47,38,40,48,40,38,63,58,51,38,26,60,51,56,25,43,73,22,66,53,21,45,57,35,40,35,40,50,43,49,37,40,41,39,25,32,39,38,25,61,31,72,60,26,51,56,35,55,39,42,60,36,25,25,29,27,52,36,41,31,45,32,55,28,70,82,26,22,29,48,48,32,29,35,39,26,20,35,18,56,40,37,57,23,52,45,20,20,61,23,52,25,21,59,37,72,50,19,20,32,36,29,25,22,66,50,53,39,60,70,18,33,53,27,68,27,37,42,32,28,31,88,35,36,33,40,25,67,18,62,21,28,36,27,36,53,30,53,33,36,53,29,28,47,23,35,87,56,26,75,77,66,55,61,39,61,40,43,57,37,41,20,68,43,21,38,62,30,32,18,35,28,25,42,29,40,40,39,18,39,49,25,33,38,85,51,26,35,33,41,41,77,41,46,63,37,58,51,28,46,28,48,28,36,50,32,55,43,30,32,82,33,33,55,40,89,33,22,58,32,48,62,39,35,47,35,78,42,37,43,48,22,31,51,42,58,50,71,82,49,53,31,21,61,35,47,28,38,39,55,19,58,76,19,51,39,22,47,32,30,35,35,42,35,36,18,75,46,68,67,50,32,21,48,37,41,63,42,49,23,31,45,21,55,26,51,27,41,43,28,47,25,72,23,48,33,31,72,66,33,70,35,38,51,67,46,47,55,51,47,31,30,26,60,21,19,60,25,21,25,36,52,83,56,47,40,67,41,40,29,41,50,38,33,48,37,37,36,63,22,41,42,26,35,78,57,61,18,50,51,19,65,26,50,36,71,75,52,31,80,33,57,67,30,82,23,62,70,38,32,43,59,28,42,87,26,59,30,30,19,31,88,40,21,38,36,47,30,35,58,52,46,47,45,60,35,71,36,53,53,31,20,66,37,47,66,25,43,30,45,33,37,35,21,50,56,56,20,59,21,37,68,33,26,43,52,37,55,57,35,33,68,60,52,18,25,35,18,77,18,18,25,49,37,49,26,45,42,48,23,52,81,60,57,21,43,32,50,25,25,56,36,46,27,21,49,22,53,41,53,79,33,23,72,37,35,42,28,36,38,43,47,22,82,32,87,47,33,68,68,45,49,18,45,62,75,59,39,39,68,62,50,47,20,57,51,41,45,40,27,43,73,43,82,55,41,25,62,37,51,69,89,29,28,40,38,18,81,45,42,36,30,33,37,35,31,53,36,37,80,30,39,18,32,49,67,47,35,26,43,30,29,20,67,41,40,40,18,29,51,32,48,22,35,51,46,27,56,50,59,61,32,26,23,50,22,29,46,43,33,85,57,43,18,87,40,25,18,48,56,32,38,31,36,37,40,18,26,23,27,20,47,50,37,49,29,37,58,59,21,42,29,33,38,37,60,55,50,36,47,52,42,32,33,25,68,36,51,47,62,32,66,48,70,60,45,48,76,53,83,79,49,76,37,37,35,31,21,71,27,52,72,43,46,88,29,27,55,48,20,38,22,29,48,65,51,21,42,56,86,59,86,59,38,31,45,48,33,38,49,48,37,28,33,20,27,39,87,30,30,51,46,55,39,63,84,41,28,27,35,47,51,32,31,38,20,31,55,19,83,41,38,61,48,40,47,53,29,72,50,63,42,40,63,25,49,28,69,31,36,21,36,41,31,51,55,31,61,31,55,33,50,71,18,73,58,65,75,62,38,27,19,43,50,27,33,26,28,45,25,37,37,60,76,47,42,66,20,40,21,42,57,23,52,42,28,43,30,26,86,52,43,26,53,33,25,55,47,43,27,38,69,19,28,65,33,22,25,52,37,29,31,36,73,51,89,60,40,22,28,52,28,37,53,23,75,71,53,30,31,27,65,27,52,52,51,30,42,19,50,41,36,43,85,70,22,43,47,60,30,37,31,36,82,49,33,37,35,50,21,59,20,49,62,61,43,41,21,42,38,36,51,48,29,30,25,19,88,43,38,32,38,43,76,30,31,23,70,25,29,50,71,18,42,35,45,41,20,27,27,18,41,67,28,29,45,36,79,33,87,52,32,42,22,18,26,66,66,69,25,55,49,61,47,59,38,55,25,36,41,39,20,33,78,87,19,23,60,77,43,51,18,46,20,27,26,57,53,38,41,81,38,30,37,28,43,21,33,78,18,23,27,45,31,42,37,33,32,21,32,36,43,37,41,41,55,61,38,62,33,53,38,51,41,36,45,71,26,84,56,27,36,70,25,40,22,48,41,77,72,21,29,33,29,18,38,48,48,37,32,33,31,47,63,26,65,22,42,43,23,27,42,45,33,58,21,85,41,76,57,38,50,25,33,62,26,25,63,19,26,26,30,36,22,40,27,42,21,38,63,47,25,69,53,36,27,59,19,29,51,43,42,72,37,66,39,21,21,28,56,40,26,18,23,45,65,87,56,47,68,18,40,41,23,35,66,22,23,18,60,40,30,28,42,46,23,43,20,27,27,82,21,25,60,71,39,83,35,19,53,23,20,20,50,35,32,33,53,47,37,50,23,30,28,39,81,65,53,37,30,40,28,28,60,48,70,39,42,38,35,43,83,43,46,50,38,69,38,26,37,72,52,85,29,26,33,40,32,79,25,35,68,28,33,36,51,36,25,37,39,35,21,55,20,35,39,83,45,40,27,51,35,26,57,20,49,52,35,39,69,26,36,25,60,37,42,22,41,75,37,77,57,43,31,33,60,61,29,25,83,38,28,65,61,46,51,36,55,43,46,43,57,35,65,37,35,37,38,19,41,27,36,61,53,45,27,42,18,83,36,37,42,80,18,61,57,36,43,33,31,52,38,45,72,43,29,45,51,29,43,42,47,26,60,41,47,27,18,46,35,25,18,22,56,35,40,50,42,61,33,69,38,42,61,20,46,40,51,58,33,26,58,65,41,42,25,30,33,25,79,51,26,37,25,41,83,35,21,28,45,51,25,29,45,29,47,56,40,65,40,42,45,58,30,35,53,58,88,27,39,41,28,35,76,33,59,45,81,33,86,19,20,37,25,89,33,62,55,39,30,37,40,38,52,48,60,36,59,71,78,37,51,22,28,22,48,23,31,37,50,42,50,43,20,28,33,49,43,40,21,36,49,36,56,41,32,48,66,43,69,27,67,32,51,43,36,43,36,23,36,23,50,22,62,35,52,68,46,28,49,37,53,70,43,83,25,45,29,43,65,46,59,30,29,58,71,53,31,36,33,32,41,49,84,30,26,41,25,26,27,41,80,50,28,66,58,42,37,49,39,21,69,50,37,61,52,23,35,49,27,43,35,52,31,43,48,37,26,49,37,30,43,42,60,71,23,81,45,33,25,38,25,62,45,63,39,25,67,81,31,22,73,33,42,70,25,66,41,40,50,36,31,63,57,40,39,45,32,25,22,38,37,78,37,43,23,43,43,71,38,20,27,48,35,53,41,28,22,27,43,68,28,48,42,38,42,43,46,43,28,48,82,49,41,66,22,31,49,77,41,78,41,39,50,35,52,35,50,52,63,47,41,38,32,31,36,67,41,53,51,56,45,72,42,26,29,37,18,31,29,70,19,46,53,50,43,23,61,27,63,83,32,58,67,19,88,35,45,35,27,35,20,41,33,58,86,61,32,20,32,69,35,72,37,22,25,33,40,55,23,51,69,73,72,20,53,46,53,53,50,66,86,27,42,33,82,26,38,32,20,27,22,80,32,77,22,32,47,49,55,28,59,42,37,20,43,73,46,28,35,48,32,66,47,28,35,75,48,41,25,52,58,26,49,28,53,27,33,89,40,47,27,37,56,48,32,39,39,39,60,33,50,58,20,29,37,25,37,68,20,22,30,83,52,19,36,31,51,53,31,57,36,35,41,69,37,41,49,59,37,68,29,42,52,46,49,33,33,25,32,87,52,27,63,89,86,31,41,35,50,70,55,36,66,47,49,65,23,45,33,48,28,27,45,49,46,56,21,29,33,57,65,61,32,35,82,37,26,32,81,49,46,20,66,27,66,31,53,29,70,60,43,73,47,47,20,38,56,51,27,30,49,30,26,58,42,23,49,59,31,49,31,32,41,71,62,26,41,41,38,53,46,50,40,49,30,36,66,31,37,26,27,70,43,42,28,38,48,36,41,40,57,50,42,20,21,38,27,26,46,27,25,87,27,48,51,81,48,52,68,35,39,53,41,41,25,23,47,35,51,38,62,43,60,47,22,31,38,42,50,38,55,71,38,77,33,72,43,35,33,27,21,41,19,50,29,46,46,53,36,36,56,25,32,61,61,53,69,47,26,39,47,69,46,50,37,50,52,28,42,43,42,45,57,48,18,88,51,29,28,47,25,38,37,22,61,42,60,73,60,27,49,72,43,50,49,38,35,82,63,73,38,61,42,43,31,69,42,32,39,48,39,55,60,51,61,43,86,55,43,45,50,40,19,25,89,25,49,46,83,35,71,50,58,29,35,67,35,61,29,49,46,47,37,18,23,29,52,43,66,45,67,49,38,38,32,48,42,50,33,50,30,89,27,43,25,19,27,43,37,27,61,41,50,60,20,66,36,65,30,56,20,38,31,30,81,52,57,30,55,38,70,59,39,58,30,73,25,40,38,45,25,36,53,27,49,51,33,67,72,61,47,36,40,32,40,77,42,72,84,27,32,52,53,32,47,63,35,27,49,31,20,61,30,23,42,47,48,57,39,43,56,48,26,28,71,42,50,62,43,32,61,39,46,50,39,35,85,35,33,21,46,37,26,79,33,25,51,53,41,46,32,62,43,36,57,49,49,51,40,48,59,40,58,43,39,29,37,49,26,63,26,21,56,27,35,39,30,84,41,51,19,59,25,40,42,73,30,29,47,27,35,23,48,33,45,23,42,69,33,28,19,21,42,87,81,38,31,45,83,22,69,36,70,40,21,19,39,28,40,29,53,42,40,48,29,71,82,50,40,18,42,39,32,50,60,38,60,40,40,65,38,37,53,39,62,47,38,30,62,69,19,18,35,49,36,35,36,30,47,23,42,47,40,59,38,73,45,71,60,27,57,26,18,42,49,40,40,19,42,50,72,67,37,38,42,26,32,51,61,38,73,30,62,40,42,30,46,68,38,40,50,28,71,37,51,41,65,48,63,68,47,28,38,36,27,36,65,27,69,80,59,50,77,68,50,26,46,36,40,33,56,25,61,42,49,48,36,47,70,21,51,46,33,26,37,47,38,36,29,41,20,36,23,53,69,28,31,36,28,45,25,30,78,60,61,22,50,43,51,31,27,45,32,22,42,30,30,60,33,27,36,50,29,18,42,45,61,83,41,40,21,66,43,18,59,22,50,47,29,62,21,36,38,25,38,35,30,30,28,53,48,31,28,26,57,37,52,86,41,25,51,32,40,41,23,52,49,30,46,25,36,47,57,61,19,19,39,37,55,22,46,32,36,23,18,30,71,47,45,42,32,25,28,35,47,41,19,66,29,38,31,87,41,63,33,23,36,45,26,41,23,51,81,61,77,50,29,43,69,21,30,49,49,81,29,50,57,45,66,53,21,62,70,82,39,49,28,35,50,35,55,61,26,61,60,25,45,35,62,53,49,43,19,38,27,18,43,36,53,26,59,36,35,63,33,42,31,22,51,42,28,53,62,27,53,20,28,31,58,31,79,52,30,42,43,33,19,40,67,22,45,60,41,29,32,37,28,88,42,36,28,23,81,82,70,82,38,43,42,29,38,38,36,53,25,58,52,36,19,67,31,28,65,60,74,52,63,18,25,41,20,68,69,31,43,62,42,25,23,21,40,27,32,26,32,39,49,59,39,46,62,36,70,58,39,29,58,43,66,40,35,33,55,28,19,28,40,73,66,35,33,60,19,51,28,85,52,55,30,60,41,35,23,88,19,88,41,30,46,27,74,28,29,35,35,38,48,63,40,76,50,87,62,38,53,46,52,32,53,20,51,56,26,31,28,50,41,82,47,31,18,33,38,27,43,43,36,79,50,48,42,67,56,27,30,47,46,55,32,89,65,30,79,36,36,72,27,53,27,33,77,31,30,23,66,25,46,46,38,25,22,37,63,68,37,35,60,47,43,56,28,32,61,31,19,50,66,56,53,47,36,33,51,33,53,30,31,41,18,67,57,35,22,27,35,56,27,32,20,19,38,33,39,61,30,49,55,19,49,43,35,32,26,65,29,20,23,82,29,19,21,39,29,30,30,62,30,22,37,84,49,25,52,70,37,42,33,87,31,38,38,56,56,51,20,23,62,40,28,45,43,29,38,81,35,31,28,66,69,25,18,40,39,50,52,59,50,32,81,52,39,37,23,49,18,63,85,31,39,48,65,41,22,35,33,27,37],\"type\":\"box\"}],                        {\"title\":{\"text\":\"Age\"},\"template\":{\"data\":{\"bar\":[{\"error_x\":{\"color\":\"#2a3f5f\"},\"error_y\":{\"color\":\"#2a3f5f\"},\"marker\":{\"line\":{\"color\":\"#E5ECF6\",\"width\":0.5},\"pattern\":{\"fillmode\":\"overlay\",\"size\":10,\"solidity\":0.2}},\"type\":\"bar\"}],\"barpolar\":[{\"marker\":{\"line\":{\"color\":\"#E5ECF6\",\"width\":0.5},\"pattern\":{\"fillmode\":\"overlay\",\"size\":10,\"solidity\":0.2}},\"type\":\"barpolar\"}],\"carpet\":[{\"aaxis\":{\"endlinecolor\":\"#2a3f5f\",\"gridcolor\":\"white\",\"linecolor\":\"white\",\"minorgridcolor\":\"white\",\"startlinecolor\":\"#2a3f5f\"},\"baxis\":{\"endlinecolor\":\"#2a3f5f\",\"gridcolor\":\"white\",\"linecolor\":\"white\",\"minorgridcolor\":\"white\",\"startlinecolor\":\"#2a3f5f\"},\"type\":\"carpet\"}],\"choropleth\":[{\"colorbar\":{\"outlinewidth\":0,\"ticks\":\"\"},\"type\":\"choropleth\"}],\"contour\":[{\"colorbar\":{\"outlinewidth\":0,\"ticks\":\"\"},\"colorscale\":[[0.0,\"#0d0887\"],[0.1111111111111111,\"#46039f\"],[0.2222222222222222,\"#7201a8\"],[0.3333333333333333,\"#9c179e\"],[0.4444444444444444,\"#bd3786\"],[0.5555555555555556,\"#d8576b\"],[0.6666666666666666,\"#ed7953\"],[0.7777777777777778,\"#fb9f3a\"],[0.8888888888888888,\"#fdca26\"],[1.0,\"#f0f921\"]],\"type\":\"contour\"}],\"contourcarpet\":[{\"colorbar\":{\"outlinewidth\":0,\"ticks\":\"\"},\"type\":\"contourcarpet\"}],\"heatmap\":[{\"colorbar\":{\"outlinewidth\":0,\"ticks\":\"\"},\"colorscale\":[[0.0,\"#0d0887\"],[0.1111111111111111,\"#46039f\"],[0.2222222222222222,\"#7201a8\"],[0.3333333333333333,\"#9c179e\"],[0.4444444444444444,\"#bd3786\"],[0.5555555555555556,\"#d8576b\"],[0.6666666666666666,\"#ed7953\"],[0.7777777777777778,\"#fb9f3a\"],[0.8888888888888888,\"#fdca26\"],[1.0,\"#f0f921\"]],\"type\":\"heatmap\"}],\"heatmapgl\":[{\"colorbar\":{\"outlinewidth\":0,\"ticks\":\"\"},\"colorscale\":[[0.0,\"#0d0887\"],[0.1111111111111111,\"#46039f\"],[0.2222222222222222,\"#7201a8\"],[0.3333333333333333,\"#9c179e\"],[0.4444444444444444,\"#bd3786\"],[0.5555555555555556,\"#d8576b\"],[0.6666666666666666,\"#ed7953\"],[0.7777777777777778,\"#fb9f3a\"],[0.8888888888888888,\"#fdca26\"],[1.0,\"#f0f921\"]],\"type\":\"heatmapgl\"}],\"histogram\":[{\"marker\":{\"pattern\":{\"fillmode\":\"overlay\",\"size\":10,\"solidity\":0.2}},\"type\":\"histogram\"}],\"histogram2d\":[{\"colorbar\":{\"outlinewidth\":0,\"ticks\":\"\"},\"colorscale\":[[0.0,\"#0d0887\"],[0.1111111111111111,\"#46039f\"],[0.2222222222222222,\"#7201a8\"],[0.3333333333333333,\"#9c179e\"],[0.4444444444444444,\"#bd3786\"],[0.5555555555555556,\"#d8576b\"],[0.6666666666666666,\"#ed7953\"],[0.7777777777777778,\"#fb9f3a\"],[0.8888888888888888,\"#fdca26\"],[1.0,\"#f0f921\"]],\"type\":\"histogram2d\"}],\"histogram2dcontour\":[{\"colorbar\":{\"outlinewidth\":0,\"ticks\":\"\"},\"colorscale\":[[0.0,\"#0d0887\"],[0.1111111111111111,\"#46039f\"],[0.2222222222222222,\"#7201a8\"],[0.3333333333333333,\"#9c179e\"],[0.4444444444444444,\"#bd3786\"],[0.5555555555555556,\"#d8576b\"],[0.6666666666666666,\"#ed7953\"],[0.7777777777777778,\"#fb9f3a\"],[0.8888888888888888,\"#fdca26\"],[1.0,\"#f0f921\"]],\"type\":\"histogram2dcontour\"}],\"mesh3d\":[{\"colorbar\":{\"outlinewidth\":0,\"ticks\":\"\"},\"type\":\"mesh3d\"}],\"parcoords\":[{\"line\":{\"colorbar\":{\"outlinewidth\":0,\"ticks\":\"\"}},\"type\":\"parcoords\"}],\"pie\":[{\"automargin\":true,\"type\":\"pie\"}],\"scatter\":[{\"marker\":{\"colorbar\":{\"outlinewidth\":0,\"ticks\":\"\"}},\"type\":\"scatter\"}],\"scatter3d\":[{\"line\":{\"colorbar\":{\"outlinewidth\":0,\"ticks\":\"\"}},\"marker\":{\"colorbar\":{\"outlinewidth\":0,\"ticks\":\"\"}},\"type\":\"scatter3d\"}],\"scattercarpet\":[{\"marker\":{\"colorbar\":{\"outlinewidth\":0,\"ticks\":\"\"}},\"type\":\"scattercarpet\"}],\"scattergeo\":[{\"marker\":{\"colorbar\":{\"outlinewidth\":0,\"ticks\":\"\"}},\"type\":\"scattergeo\"}],\"scattergl\":[{\"marker\":{\"colorbar\":{\"outlinewidth\":0,\"ticks\":\"\"}},\"type\":\"scattergl\"}],\"scattermapbox\":[{\"marker\":{\"colorbar\":{\"outlinewidth\":0,\"ticks\":\"\"}},\"type\":\"scattermapbox\"}],\"scatterpolar\":[{\"marker\":{\"colorbar\":{\"outlinewidth\":0,\"ticks\":\"\"}},\"type\":\"scatterpolar\"}],\"scatterpolargl\":[{\"marker\":{\"colorbar\":{\"outlinewidth\":0,\"ticks\":\"\"}},\"type\":\"scatterpolargl\"}],\"scatterternary\":[{\"marker\":{\"colorbar\":{\"outlinewidth\":0,\"ticks\":\"\"}},\"type\":\"scatterternary\"}],\"surface\":[{\"colorbar\":{\"outlinewidth\":0,\"ticks\":\"\"},\"colorscale\":[[0.0,\"#0d0887\"],[0.1111111111111111,\"#46039f\"],[0.2222222222222222,\"#7201a8\"],[0.3333333333333333,\"#9c179e\"],[0.4444444444444444,\"#bd3786\"],[0.5555555555555556,\"#d8576b\"],[0.6666666666666666,\"#ed7953\"],[0.7777777777777778,\"#fb9f3a\"],[0.8888888888888888,\"#fdca26\"],[1.0,\"#f0f921\"]],\"type\":\"surface\"}],\"table\":[{\"cells\":{\"fill\":{\"color\":\"#EBF0F8\"},\"line\":{\"color\":\"white\"}},\"header\":{\"fill\":{\"color\":\"#C8D4E3\"},\"line\":{\"color\":\"white\"}},\"type\":\"table\"}]},\"layout\":{\"annotationdefaults\":{\"arrowcolor\":\"#2a3f5f\",\"arrowhead\":0,\"arrowwidth\":1},\"autotypenumbers\":\"strict\",\"coloraxis\":{\"colorbar\":{\"outlinewidth\":0,\"ticks\":\"\"}},\"colorscale\":{\"diverging\":[[0,\"#8e0152\"],[0.1,\"#c51b7d\"],[0.2,\"#de77ae\"],[0.3,\"#f1b6da\"],[0.4,\"#fde0ef\"],[0.5,\"#f7f7f7\"],[0.6,\"#e6f5d0\"],[0.7,\"#b8e186\"],[0.8,\"#7fbc41\"],[0.9,\"#4d9221\"],[1,\"#276419\"]],\"sequential\":[[0.0,\"#0d0887\"],[0.1111111111111111,\"#46039f\"],[0.2222222222222222,\"#7201a8\"],[0.3333333333333333,\"#9c179e\"],[0.4444444444444444,\"#bd3786\"],[0.5555555555555556,\"#d8576b\"],[0.6666666666666666,\"#ed7953\"],[0.7777777777777778,\"#fb9f3a\"],[0.8888888888888888,\"#fdca26\"],[1.0,\"#f0f921\"]],\"sequentialminus\":[[0.0,\"#0d0887\"],[0.1111111111111111,\"#46039f\"],[0.2222222222222222,\"#7201a8\"],[0.3333333333333333,\"#9c179e\"],[0.4444444444444444,\"#bd3786\"],[0.5555555555555556,\"#d8576b\"],[0.6666666666666666,\"#ed7953\"],[0.7777777777777778,\"#fb9f3a\"],[0.8888888888888888,\"#fdca26\"],[1.0,\"#f0f921\"]]},\"colorway\":[\"#636efa\",\"#EF553B\",\"#00cc96\",\"#ab63fa\",\"#FFA15A\",\"#19d3f3\",\"#FF6692\",\"#B6E880\",\"#FF97FF\",\"#FECB52\"],\"font\":{\"color\":\"#2a3f5f\"},\"geo\":{\"bgcolor\":\"white\",\"lakecolor\":\"white\",\"landcolor\":\"#E5ECF6\",\"showlakes\":true,\"showland\":true,\"subunitcolor\":\"white\"},\"hoverlabel\":{\"align\":\"left\"},\"hovermode\":\"closest\",\"mapbox\":{\"style\":\"light\"},\"paper_bgcolor\":\"white\",\"plot_bgcolor\":\"#E5ECF6\",\"polar\":{\"angularaxis\":{\"gridcolor\":\"white\",\"linecolor\":\"white\",\"ticks\":\"\"},\"bgcolor\":\"#E5ECF6\",\"radialaxis\":{\"gridcolor\":\"white\",\"linecolor\":\"white\",\"ticks\":\"\"}},\"scene\":{\"xaxis\":{\"backgroundcolor\":\"#E5ECF6\",\"gridcolor\":\"white\",\"gridwidth\":2,\"linecolor\":\"white\",\"showbackground\":true,\"ticks\":\"\",\"zerolinecolor\":\"white\"},\"yaxis\":{\"backgroundcolor\":\"#E5ECF6\",\"gridcolor\":\"white\",\"gridwidth\":2,\"linecolor\":\"white\",\"showbackground\":true,\"ticks\":\"\",\"zerolinecolor\":\"white\"},\"zaxis\":{\"backgroundcolor\":\"#E5ECF6\",\"gridcolor\":\"white\",\"gridwidth\":2,\"linecolor\":\"white\",\"showbackground\":true,\"ticks\":\"\",\"zerolinecolor\":\"white\"}},\"shapedefaults\":{\"line\":{\"color\":\"#2a3f5f\"}},\"ternary\":{\"aaxis\":{\"gridcolor\":\"white\",\"linecolor\":\"white\",\"ticks\":\"\"},\"baxis\":{\"gridcolor\":\"white\",\"linecolor\":\"white\",\"ticks\":\"\"},\"bgcolor\":\"#E5ECF6\",\"caxis\":{\"gridcolor\":\"white\",\"linecolor\":\"white\",\"ticks\":\"\"}},\"title\":{\"x\":0.05},\"xaxis\":{\"automargin\":true,\"gridcolor\":\"white\",\"linecolor\":\"white\",\"ticks\":\"\",\"title\":{\"standoff\":15},\"zerolinecolor\":\"white\",\"zerolinewidth\":2},\"yaxis\":{\"automargin\":true,\"gridcolor\":\"white\",\"linecolor\":\"white\",\"ticks\":\"\",\"title\":{\"standoff\":15},\"zerolinecolor\":\"white\",\"zerolinewidth\":2}}}},                        {\"responsive\": true}                    ).then(function(){\n",
              "                            \n",
              "var gd = document.getElementById('34007be5-918f-42e9-8125-6cf917633948');\n",
              "var x = new MutationObserver(function (mutations, observer) {{\n",
              "        var display = window.getComputedStyle(gd).display;\n",
              "        if (!display || display === 'none') {{\n",
              "            console.log([gd, 'removed!']);\n",
              "            Plotly.purge(gd);\n",
              "            observer.disconnect();\n",
              "        }}\n",
              "}});\n",
              "\n",
              "// Listen for the removal of the full notebook cells\n",
              "var notebookContainer = gd.closest('#notebook-container');\n",
              "if (notebookContainer) {{\n",
              "    x.observe(notebookContainer, {childList: true});\n",
              "}}\n",
              "\n",
              "// Listen for the clearing of the current output cell\n",
              "var outputEl = gd.closest('.output');\n",
              "if (outputEl) {{\n",
              "    x.observe(outputEl, {childList: true});\n",
              "}}\n",
              "\n",
              "                        })                };                            </script>        </div>\n",
              "</body>\n",
              "</html>"
            ]
          },
          "metadata": {}
        },
        {
          "output_type": "display_data",
          "data": {
            "text/html": [
              "<html>\n",
              "<head><meta charset=\"utf-8\" /></head>\n",
              "<body>\n",
              "    <div>            <script src=\"https://cdnjs.cloudflare.com/ajax/libs/mathjax/2.7.5/MathJax.js?config=TeX-AMS-MML_SVG\"></script><script type=\"text/javascript\">if (window.MathJax) {MathJax.Hub.Config({SVG: {font: \"STIX-Web\"}});}</script>                <script type=\"text/javascript\">window.PlotlyConfig = {MathJaxConfig: 'local'};</script>\n",
              "        <script src=\"https://cdn.plot.ly/plotly-2.8.3.min.js\"></script>                <div id=\"ddfba4de-e995-4b62-96c0-c0ac6a9a53f7\" class=\"plotly-graph-div\" style=\"height:525px; width:100%;\"></div>            <script type=\"text/javascript\">                                    window.PLOTLYENV=window.PLOTLYENV || {};                                    if (document.getElementById(\"ddfba4de-e995-4b62-96c0-c0ac6a9a53f7\")) {                    Plotly.newPlot(                        \"ddfba4de-e995-4b62-96c0-c0ac6a9a53f7\",                        [{\"x\":[1.0,null,1.0,0.0,null,0.0,1.0,1.0,0.0,1.0,1.0,4.0,0.0,null,0.0,1.0,9.0,1.0,1.0,0.0,12.0,3.0,13.0,5.0,1.0,1.0,9.0,1.0,0.0,5.0,0.0,1.0,1.0,9.0,1.0,3.0,5.0,1.0,8.0,null,4.0,0.0,14.0,1.0,8.0,null,0.0,null,0.0,1.0,1.0,1.0,1.0,0.0,1.0,14.0,9.0,8.0,1.0,1.0,0.0,9.0,0.0,1.0,7.0,0.0,0.0,8.0,0.0,null,8.0,8.0,0.0,8.0,0.0,0.0,0.0,4.0,2.0,1.0,0.0,6.0,8.0,8.0,1.0,7.0,0.0,5.0,7.0,0.0,0.0,1.0,1.0,1.0,0.0,null,0.0,0.0,1.0,3.0,0.0,1.0,0.0,0.0,10.0,1.0,3.0,1.0,6.0,9.0,null,0.0,1.0,1.0,0.0,8.0,1.0,0.0,2.0,1.0,0.0,1.0,9.0,1.0,9.0,1.0,0.0,0.0,0.0,8.0,9.0,0.0,6.0,null,1.0,5.0,null,3.0,8.0,4.0,0.0,0.0,0.0,1.0,0.0,8.0,9.0,1.0,7.0,6.0,0.0,0.0,0.0,2.0,0.0,8.0,1.0,3.0,1.0,3.0,1.0,1.0,0.0,1.0,0.0,5.0,9.0,0.0,0.0,2.0,3.0,0.0,0.0,5.0,0.0,3.0,11.0,2.0,4.0,8.0,7.0,null,null,4.0,1.0,null,null,1.0,4.0,0.0,1.0,5.0,8.0,null,7.0,1.0,0.0,1.0,1.0,4.0,0.0,9.0,6.0,4.0,0.0,8.0,0.0,2.0,0.0,null,0.0,2.0,3.0,0.0,1.0,0.0,0.0,null,null,0.0,0.0,0.0,7.0,0.0,8.0,null,4.0,1.0,1.0,null,null,0.0,0.0,0.0,9.0,0.0,1.0,0.0,1.0,1.0,1.0,0.0,1.0,0.0,0.0,7.0,1.0,1.0,1.0,0.0,1.0,8.0,null,1.0,1.0,0.0,null,11.0,8.0,0.0,6.0,1.0,1.0,null,1.0,2.0,1.0,0.0,6.0,1.0,0.0,0.0,0.0,0.0,1.0,1.0,7.0,1.0,9.0,3.0,1.0,1.0,1.0,1.0,0.0,0.0,1.0,1.0,0.0,1.0,null,1.0,null,0.0,0.0,1.0,1.0,1.0,3.0,7.0,null,null,1.0,1.0,0.0,null,4.0,0.0,8.0,null,3.0,0.0,null,0.0,6.0,0.0,0.0,5.0,0.0,0.0,4.0,13.0,null,6.0,4.0,3.0,7.0,4.0,1.0,2.0,0.0,null,0.0,0.0,10.0,8.0,1.0,0.0,14.0,8.0,3.0,1.0,0.0,1.0,1.0,0.0,9.0,9.0,2.0,null,null,null,null,1.0,0.0,8.0,0.0,0.0,1.0,3.0,null,1.0,4.0,1.0,1.0,0.0,1.0,12.0,9.0,1.0,8.0,1.0,2.0,null,6.0,8.0,1.0,1.0,2.0,0.0,5.0,0.0,0.0,0.0,1.0,1.0,null,8.0,null,null,9.0,13.0,8.0,1.0,null,3.0,6.0,6.0,1.0,1.0,1.0,1.0,0.0,1.0,1.0,0.0,null,1.0,2.0,7.0,0.0,0.0,0.0,1.0,1.0,1.0,0.0,8.0,9.0,1.0,1.0,0.0,5.0,1.0,7.0,1.0,2.0,1.0,1.0,1.0,7.0,null,3.0,4.0,5.0,1.0,0.0,0.0,1.0,0.0,0.0,1.0,0.0,1.0,null,9.0,9.0,4.0,null,4.0,2.0,0.0,null,null,1.0,14.0,0.0,6.0,3.0,4.0,0.0,0.0,2.0,1.0,0.0,1.0,0.0,null,1.0,0.0,9.0,1.0,0.0,0.0,1.0,null,0.0,0.0,3.0,2.0,6.0,9.0,0.0,1.0,1.0,2.0,1.0,0.0,9.0,1.0,3.0,3.0,4.0,0.0,1.0,12.0,1.0,3.0,null,null,6.0,8.0,0.0,1.0,1.0,1.0,1.0,1.0,1.0,1.0,6.0,0.0,0.0,9.0,1.0,0.0,1.0,14.0,null,1.0,1.0,1.0,8.0,1.0,8.0,null,0.0,9.0,0.0,2.0,0.0,14.0,3.0,1.0,0.0,1.0,1.0,9.0,4.0,1.0,0.0,1.0,1.0,3.0,1.0,10.0,0.0,2.0,1.0,5.0,0.0,1.0,1.0,1.0,1.0,0.0,0.0,0.0,8.0,0.0,1.0,null,8.0,9.0,null,1.0,null,0.0,4.0,8.0,1.0,4.0,4.0,1.0,1.0,null,null,11.0,1.0,1.0,null,null,8.0,0.0,3.0,null,null,1.0,1.0,6.0,2.0,5.0,1.0,null,2.0,2.0,0.0,9.0,4.0,null,1.0,6.0,null,null,null,null,8.0,2.0,9.0,0.0,5.0,0.0,0.0,9.0,1.0,null,0.0,null,1.0,1.0,6.0,1.0,1.0,0.0,1.0,1.0,0.0,0.0,13.0,1.0,3.0,0.0,0.0,0.0,6.0,2.0,0.0,0.0,0.0,0.0,3.0,7.0,0.0,0.0,0.0,0.0,0.0,8.0,1.0,1.0,1.0,0.0,null,1.0,0.0,1.0,1.0,0.0,1.0,0.0,null,7.0,2.0,4.0,9.0,8.0,1.0,0.0,0.0,1.0,3.0,1.0,1.0,1.0,0.0,8.0,1.0,1.0,1.0,1.0,1.0,1.0,null,0.0,0.0,12.0,0.0,0.0,0.0,4.0,1.0,0.0,0.0,null,1.0,0.0,null,9.0,1.0,0.0,8.0,0.0,7.0,5.0,7.0,null,0.0,6.0,0.0,2.0,9.0,1.0,1.0,1.0,0.0,1.0,1.0,6.0,null,7.0,0.0,0.0,null,8.0,2.0,0.0,1.0,0.0,1.0,0.0,7.0,1.0,1.0,0.0,7.0,1.0,null,3.0,1.0,0.0,9.0,2.0,null,1.0,1.0,0.0,1.0,0.0,4.0,null,10.0,0.0,1.0,0.0,1.0,1.0,8.0,1.0,6.0,8.0,4.0,null,0.0,1.0,0.0,0.0,null,1.0,1.0,null,0.0,6.0,0.0,0.0,3.0,9.0,0.0,null,1.0,1.0,2.0,0.0,7.0,1.0,1.0,2.0,2.0,1.0,9.0,1.0,1.0,1.0,4.0,7.0,1.0,null,3.0,0.0,1.0,1.0,0.0,null,0.0,4.0,8.0,0.0,1.0,1.0,0.0,0.0,1.0,0.0,8.0,1.0,1.0,1.0,8.0,0.0,null,null,0.0,1.0,1.0,1.0,0.0,9.0,9.0,7.0,1.0,0.0,1.0,13.0,1.0,1.0,4.0,null,0.0,0.0,1.0,0.0,1.0,0.0,14.0,12.0,8.0,null,null,1.0,0.0,0.0,0.0,null,0.0,1.0,1.0,0.0,0.0,14.0,1.0,0.0,4.0,0.0,8.0,0.0,12.0,5.0,0.0,8.0,1.0,1.0,6.0,0.0,9.0,1.0,2.0,10.0,0.0,1.0,9.0,0.0,6.0,null,7.0,0.0,6.0,9.0,0.0,null,1.0,1.0,5.0,8.0,8.0,1.0,1.0,null,8.0,1.0,1.0,0.0,1.0,null,1.0,8.0,1.0,5.0,1.0,null,0.0,9.0,1.0,8.0,null,1.0,1.0,0.0,1.0,9.0,0.0,0.0,1.0,0.0,1.0,0.0,8.0,4.0,0.0,0.0,1.0,1.0,null,1.0,1.0,0.0,1.0,5.0,0.0,6.0,9.0,4.0,0.0,3.0,3.0,null,1.0,6.0,9.0,9.0,0.0,0.0,5.0,0.0,0.0,11.0,0.0,1.0,null,0.0,null,null,0.0,1.0,1.0,null,0.0,7.0,1.0,null,1.0,6.0,3.0,null,0.0,1.0,0.0,0.0,1.0,1.0,1.0,2.0,0.0,7.0,1.0,9.0,0.0,null,1.0,0.0,3.0,9.0,1.0,1.0,13.0,9.0,0.0,2.0,4.0,10.0,11.0,0.0,0.0,5.0,2.0,1.0,4.0,0.0,0.0,9.0,8.0,0.0,1.0,0.0,8.0,1.0,7.0,4.0,1.0,2.0,1.0,1.0,1.0,2.0,1.0,0.0,0.0,1.0,1.0,0.0,null,3.0,2.0,1.0,0.0,9.0,4.0,1.0,0.0,1.0,11.0,1.0,8.0,1.0,1.0,6.0,6.0,5.0,1.0,0.0,9.0,1.0,0.0,1.0,1.0,7.0,8.0,1.0,1.0,8.0,1.0,0.0,0.0,0.0,9.0,null,1.0,1.0,1.0,1.0,0.0,null,1.0,1.0,1.0,1.0,0.0,2.0,1.0,0.0,8.0,0.0,9.0,8.0,0.0,1.0,1.0,8.0,1.0,0.0,0.0,0.0,3.0,0.0,7.0,0.0,1.0,null,0.0,1.0,1.0,12.0,0.0,9.0,5.0,1.0,2.0,1.0,0.0,6.0,0.0,0.0,9.0,0.0,4.0,1.0,0.0,0.0,1.0,11.0,1.0,9.0,1.0,7.0,1.0,8.0,1.0,2.0,5.0,0.0,null,1.0,null,0.0,1.0,0.0,0.0,1.0,6.0,7.0,1.0,0.0,0.0,null,5.0,9.0,1.0,9.0,1.0,2.0,0.0,1.0,0.0,0.0,1.0,1.0,0.0,0.0,1.0,2.0,9.0,3.0,0.0,7.0,7.0,4.0,1.0,4.0,9.0,0.0,5.0,1.0,1.0,1.0,0.0,6.0,4.0,0.0,0.0,1.0,null,1.0,5.0,1.0,8.0,0.0,11.0,1.0,2.0,1.0,2.0,1.0,7.0,9.0,null,2.0,4.0,1.0,0.0,1.0,1.0,9.0,0.0,null,0.0,0.0,12.0,0.0,4.0,0.0,1.0,1.0,8.0,1.0,0.0,0.0,4.0,0.0,3.0,1.0,1.0,1.0,1.0,0.0,0.0,8.0,0.0,0.0,14.0,null,8.0,4.0,9.0,1.0,14.0,11.0,1.0,1.0,0.0,4.0,1.0,3.0,1.0,9.0,3.0,1.0,0.0,0.0,1.0,0.0,0.0,9.0,9.0,0.0,1.0,0.0,0.0,0.0,3.0,0.0,1.0,0.0,12.0,1.0,9.0,1.0,14.0,0.0,1.0,1.0,8.0,1.0,null,1.0,0.0,1.0,0.0,6.0,1.0,0.0,1.0,0.0,9.0,0.0,8.0,0.0,3.0,0.0,0.0,null,12.0,9.0,0.0,0.0,5.0,6.0,1.0,9.0,2.0,0.0,1.0,10.0,1.0,5.0,1.0,1.0,1.0,1.0,1.0,0.0,0.0,6.0,1.0,0.0,2.0,0.0,4.0,0.0,1.0,10.0,1.0,8.0,null,1.0,null,0.0,1.0,1.0,null,null,1.0,8.0,1.0,0.0,1.0,6.0,null,2.0,0.0,0.0,1.0,0.0,1.0,9.0,0.0,1.0,3.0,1.0,1.0,null,0.0,0.0,1.0,0.0,1.0,6.0,1.0,1.0,1.0,1.0,2.0,1.0,0.0,1.0,1.0,4.0,null,1.0,1.0,0.0,null,1.0,1.0,null,9.0,2.0,null,null,6.0,0.0,0.0,0.0,0.0,6.0,0.0,1.0,1.0,0.0,null,3.0,1.0,null,0.0,null,0.0,1.0,7.0,0.0,1.0,null,9.0,1.0,10.0,1.0,0.0,4.0,0.0,0.0,1.0,0.0,1.0,0.0,9.0,1.0,1.0,1.0,0.0,0.0,null,3.0,8.0,5.0,0.0,5.0,8.0,0.0,8.0,1.0,0.0,1.0,null,0.0,null,0.0,0.0,1.0,1.0,7.0,8.0,0.0,0.0,null,6.0,2.0,1.0,0.0,null,0.0,null,0.0,1.0,9.0,1.0,1.0,1.0,0.0,0.0,0.0,1.0,5.0,0.0,null,null,null,0.0,1.0,0.0,1.0,1.0,6.0,null,0.0,2.0,0.0,0.0,1.0,1.0,7.0,0.0,1.0,null,null,0.0,0.0,1.0,5.0,1.0,1.0,8.0,1.0,0.0,0.0,1.0,0.0,0.0,0.0,8.0,6.0,0.0,1.0,1.0,0.0,1.0,null,0.0,1.0,0.0,0.0,1.0,0.0,9.0,null,1.0,0.0,null,7.0,8.0,1.0,1.0,0.0,8.0,0.0,1.0,0.0,1.0,1.0,1.0,0.0,12.0,2.0,1.0,7.0,1.0,0.0,0.0,1.0,0.0,1.0,0.0,1.0,1.0,8.0,8.0,4.0,0.0,1.0,0.0,4.0,1.0,null,0.0,13.0,0.0,1.0,1.0,0.0,0.0,0.0,0.0,1.0,6.0,1.0,0.0,1.0,9.0,0.0,1.0,0.0,1.0,1.0,null,7.0,1.0,9.0,0.0,1.0,1.0,3.0,8.0,0.0,1.0,0.0,0.0,1.0,1.0,2.0,0.0,0.0,7.0,3.0,0.0,1.0,0.0,1.0,1.0,2.0,0.0,0.0,5.0,0.0,0.0,0.0,0.0,1.0,0.0,1.0,0.0,null,8.0,1.0,1.0,0.0,null,0.0,0.0,0.0,1.0,null,0.0,8.0,1.0,0.0,7.0,4.0,0.0,1.0,0.0,3.0,0.0,2.0,0.0,1.0,0.0,5.0,null,1.0,6.0,9.0,1.0,1.0,2.0,8.0,1.0,8.0,3.0,1.0,1.0,1.0,0.0,7.0,0.0,0.0,3.0,9.0,1.0,9.0,null,9.0,0.0,4.0,0.0,1.0,1.0,1.0,9.0,1.0,3.0,9.0,0.0,6.0,0.0,8.0,1.0,1.0,0.0,1.0,0.0,9.0,8.0,1.0,null,1.0,0.0,0.0,1.0,0.0,1.0,7.0,1.0,0.0,null,0.0,0.0,0.0,4.0,3.0,1.0,14.0,1.0,8.0,1.0,0.0,0.0,null,4.0,9.0,1.0,8.0,9.0,0.0,0.0,0.0,10.0,null,4.0,1.0,0.0,0.0,1.0,0.0,null,1.0,0.0,null,1.0,1.0,1.0,0.0,null,1.0,1.0,1.0,6.0,0.0,1.0,2.0,0.0,1.0,1.0,0.0,0.0,8.0,9.0,0.0,0.0,6.0,null,4.0,1.0,null,9.0,1.0,0.0,null,9.0,6.0,4.0,0.0,1.0,0.0,0.0,4.0,null,1.0,0.0,null,0.0,1.0,8.0,1.0,1.0,8.0,2.0,0.0,0.0,1.0,9.0,null,1.0,1.0,0.0,3.0,0.0,12.0,0.0,8.0,0.0,0.0,3.0,0.0,1.0,1.0,0.0,8.0,1.0,10.0,null,2.0,null,8.0,0.0,9.0,0.0,8.0,1.0,0.0,2.0,0.0,0.0,null,0.0,8.0,0.0,1.0,4.0,1.0,1.0,null,0.0,1.0,5.0,9.0,1.0,0.0,1.0,3.0,11.0,0.0,1.0,1.0,null,4.0,1.0,10.0,5.0,8.0,null,1.0,0.0,1.0,0.0,9.0,11.0,4.0,0.0,7.0,5.0,9.0,1.0,9.0,7.0,1.0,0.0,9.0,3.0,0.0,1.0,9.0,1.0,1.0,0.0,0.0,6.0,3.0,1.0,1.0,0.0,0.0,9.0,1.0,1.0,0.0,9.0,1.0,0.0,12.0,0.0,0.0,1.0,2.0,1.0,6.0,0.0,0.0,0.0,0.0,1.0,null,4.0,0.0,1.0,1.0,0.0,4.0,8.0,0.0,0.0,8.0,1.0,6.0,8.0,7.0,0.0,null,0.0,null,null,1.0,0.0,8.0,1.0,0.0,3.0,0.0,5.0,4.0,2.0,0.0,0.0,5.0,1.0,null,0.0,3.0,4.0,0.0,8.0,1.0,null,null,3.0,1.0,0.0,1.0,1.0,4.0,2.0,1.0,5.0,1.0,0.0,1.0,0.0,0.0,8.0,1.0,9.0,11.0,1.0,0.0,0.0,10.0,1.0,0.0,9.0,1.0,null,1.0,0.0,8.0,1.0,1.0,2.0,0.0,null,1.0,8.0,2.0,7.0,0.0,1.0,1.0,null,null,6.0,null,1.0,null,0.0,1.0,7.0,0.0,0.0,0.0,0.0,0.0,1.0,6.0,0.0,0.0,1.0,1.0,5.0,0.0,1.0,3.0,4.0,0.0,1.0,0.0,0.0,4.0,null,0.0,8.0,0.0,4.0,1.0,6.0,1.0,1.0,9.0,9.0,1.0,1.0,1.0,1.0,0.0,1.0,0.0,6.0,0.0,null,6.0,0.0,0.0,0.0,14.0,0.0,0.0,1.0,1.0,2.0,0.0,0.0,1.0,0.0,0.0,0.0,null,1.0,8.0,1.0,9.0,1.0,1.0,9.0,1.0,9.0,1.0,null,null,null,8.0,4.0,3.0,0.0,0.0,1.0,null,1.0,13.0,4.0,0.0,1.0,0.0,0.0,11.0,0.0,null,1.0,null,7.0,1.0,1.0,1.0,1.0,3.0,3.0,1.0,1.0,null,1.0,0.0,0.0,1.0,6.0,7.0,1.0,1.0,2.0,null,1.0,null,9.0,0.0,1.0,1.0,null,1.0,1.0,2.0,9.0,null,7.0,null,null,1.0,4.0,4.0,1.0,1.0,null,1.0,null,1.0,0.0,1.0,1.0,1.0,9.0,0.0,0.0,2.0,0.0,7.0,6.0,1.0,5.0,0.0,0.0,1.0,null,0.0,1.0,3.0,1.0,1.0,0.0,1.0,1.0,1.0,1.0,0.0,9.0,8.0,0.0,0.0,3.0,0.0,8.0,6.0,0.0,8.0,1.0,1.0,3.0,0.0,1.0,null,0.0,0.0,0.0,null,0.0,0.0,null,0.0,1.0,0.0,1.0,1.0,1.0,4.0,5.0,0.0,0.0,0.0,12.0,1.0,1.0,10.0,9.0,1.0,6.0,null,0.0,0.0,1.0,2.0,0.0,0.0,1.0,6.0,8.0,14.0,1.0,0.0,0.0,0.0,3.0,1.0,1.0,2.0,1.0,2.0,4.0,3.0,1.0,12.0,1.0,3.0,9.0,5.0,1.0,3.0,5.0,3.0,1.0,0.0,8.0,1.0,8.0,0.0,0.0,8.0,8.0,5.0,13.0,0.0,null,0.0,1.0,0.0,0.0,0.0,null,1.0,9.0,0.0,0.0,0.0,0.0,4.0,12.0,1.0,1.0,0.0,1.0,1.0,0.0,0.0,7.0,8.0,8.0,3.0,0.0,8.0,1.0,null,13.0,14.0,5.0,0.0,5.0,3.0,1.0,0.0,9.0,14.0,8.0,1.0,1.0,0.0,1.0,null,0.0,1.0,8.0,1.0,1.0,0.0,null,0.0,null,0.0,1.0,0.0,null,0.0,null,3.0,8.0,null,0.0,8.0,5.0,0.0,13.0,1.0,7.0,null,0.0,1.0,1.0,2.0,7.0,2.0,1.0,9.0,8.0,9.0,null,1.0,1.0,0.0,null,0.0,9.0,0.0,1.0,0.0,null,2.0,1.0,0.0,0.0,5.0,1.0,1.0,null,7.0,null,0.0,null,0.0,1.0,2.0,null,0.0,4.0,1.0,1.0,0.0,null,11.0,2.0,null,0.0,7.0,1.0,1.0,1.0,9.0,5.0,null,0.0,9.0,5.0,1.0,4.0,0.0,1.0,0.0,9.0,6.0,1.0,4.0,0.0,0.0,1.0,8.0,0.0,1.0,1.0,1.0,1.0,7.0,8.0,0.0,7.0,1.0,8.0,1.0,1.0,0.0,null,0.0,6.0,1.0,13.0,0.0,null,1.0,0.0,0.0,0.0,4.0,null,1.0,9.0,0.0,0.0,3.0,null,0.0,null,1.0,8.0,1.0,8.0,0.0,0.0,1.0,0.0,9.0,6.0,1.0,0.0,3.0,0.0,2.0,1.0,13.0,1.0,null,7.0,0.0,0.0,0.0,4.0,3.0,1.0,13.0,0.0,null,0.0,1.0,1.0,1.0,9.0,10.0,0.0,8.0,0.0,0.0,2.0,1.0,null,9.0,9.0,0.0,9.0,1.0,9.0,0.0,0.0,3.0,0.0,0.0,0.0,null,1.0,1.0,8.0,0.0,1.0,1.0,1.0,1.0,0.0,2.0,8.0,0.0,8.0,1.0,1.0,2.0,1.0,6.0,0.0,0.0,null,8.0,1.0,null,1.0,9.0,0.0,0.0,0.0,1.0,0.0,null,3.0,2.0,9.0,0.0,2.0,null,0.0,null,1.0,1.0,1.0,0.0,0.0,0.0,null,5.0,1.0,1.0,1.0,0.0,null,1.0,1.0,0.0,4.0,11.0,1.0,0.0,9.0,null,1.0,null,3.0,6.0,1.0,0.0,1.0,1.0,null,1.0,null,1.0,null,7.0,0.0,0.0,9.0,0.0,0.0,1.0,6.0,4.0,0.0,2.0,8.0,1.0,null,1.0,3.0,8.0,0.0,0.0,1.0,null,0.0,8.0,2.0,9.0,1.0,1.0,1.0,1.0,9.0,1.0,null,9.0,1.0,9.0,0.0,1.0,2.0,8.0,1.0,0.0,1.0,1.0,0.0,8.0,0.0,1.0,2.0,null,0.0,null,0.0,5.0,1.0,null,0.0,1.0,0.0,9.0,6.0,9.0,1.0,1.0,9.0,9.0,1.0,0.0,1.0,1.0,1.0,null,0.0,null,0.0,8.0,0.0,9.0,0.0,8.0,1.0,1.0,1.0,1.0,1.0,1.0,4.0,1.0,null,6.0,0.0,9.0,null,0.0,3.0,0.0,3.0,0.0,null,6.0,0.0,0.0,1.0,0.0,0.0,1.0,0.0,0.0,1.0,2.0,1.0,8.0,9.0,8.0,0.0,0.0,0.0,8.0,1.0,7.0,0.0,1.0,3.0,8.0,0.0,1.0,0.0,0.0,3.0,4.0,7.0,11.0,0.0,1.0,1.0,null,1.0,null,null,8.0,1.0,3.0,1.0,null,null,0.0,0.0,1.0,4.0,null,0.0,1.0,0.0,1.0,2.0,0.0,0.0,1.0,0.0,1.0,0.0,0.0,null,8.0,1.0,1.0,1.0,0.0,12.0,0.0,1.0,1.0,1.0,0.0,null,0.0,1.0,4.0,1.0,0.0,1.0,1.0,1.0,null,1.0,1.0,7.0,4.0,14.0,9.0,1.0,12.0,6.0,1.0,0.0,14.0,null,1.0,1.0,0.0,8.0,0.0,null,1.0,null,1.0,1.0,4.0,0.0,1.0,null,8.0,0.0,7.0,0.0,1.0,8.0,0.0,1.0,null,0.0,0.0,2.0,1.0,3.0,1.0,0.0,8.0,0.0,0.0,0.0,8.0,8.0,1.0,1.0,8.0,1.0,3.0,6.0,0.0,0.0,1.0,0.0,4.0,0.0,1.0,2.0,4.0,2.0,6.0,null,1.0,1.0,1.0,null,null,1.0,0.0,14.0,0.0,null,5.0,2.0,0.0,1.0,1.0,0.0,0.0,0.0,1.0,12.0,3.0,null,8.0,1.0,0.0,0.0,2.0,0.0,null,7.0,1.0,0.0,5.0,1.0,0.0,null,1.0,14.0,8.0,0.0,0.0,2.0,7.0,0.0,1.0,9.0,2.0,null,0.0,0.0,12.0,3.0,14.0,0.0,0.0,1.0,3.0,null,6.0,1.0,0.0,1.0,4.0,1.0,1.0,0.0,0.0,8.0,1.0,5.0,2.0,0.0,0.0,11.0,9.0,4.0,1.0,null,null,0.0,0.0,6.0,8.0,0.0,1.0,1.0,3.0,0.0,9.0,1.0,0.0,1.0,null,10.0,4.0,0.0,null,null,0.0,null,1.0,1.0,5.0,1.0,1.0,1.0,1.0,0.0,7.0,6.0,9.0,1.0,9.0,0.0,1.0,null,null,1.0,0.0,0.0,2.0,0.0,5.0,7.0,2.0,0.0,0.0,1.0,0.0,0.0,1.0,0.0,null,0.0,1.0,0.0,9.0,1.0,null,1.0,9.0,3.0,1.0,0.0,2.0,8.0,2.0,1.0,1.0,1.0,1.0,0.0,null,9.0,1.0,1.0,null,0.0,1.0,0.0,0.0,1.0,5.0,6.0,1.0,null,1.0,null,1.0,1.0,1.0,0.0,9.0,7.0,6.0,8.0,null,8.0,0.0,9.0,9.0,1.0,0.0,1.0,6.0,10.0,9.0,null,1.0,1.0,1.0,8.0,1.0,1.0,0.0,null,2.0,9.0,9.0,1.0,4.0,1.0,1.0,8.0,0.0,1.0,1.0,0.0,3.0,0.0,null,2.0,0.0,0.0,4.0,0.0,1.0,7.0,0.0,null,0.0,1.0,1.0,0.0,8.0,0.0,0.0,1.0,0.0,6.0,6.0,9.0,1.0,11.0,0.0,1.0,7.0,1.0,9.0,8.0,1.0,null,3.0,null,7.0,1.0,0.0,8.0,0.0,8.0,11.0,1.0,8.0,0.0,0.0,2.0,2.0,0.0,0.0,14.0,1.0,null,null,null,0.0,8.0,0.0,9.0,0.0,0.0,14.0,0.0,2.0,9.0,1.0,1.0,1.0,null,0.0,7.0,1.0,9.0,1.0,1.0,6.0,5.0,5.0,0.0,1.0,5.0,null,2.0,1.0,1.0,null,0.0,9.0,9.0,4.0,9.0,0.0,2.0,0.0,0.0,0.0,null,9.0,0.0,1.0,0.0,0.0,0.0,0.0,7.0,3.0,1.0,1.0,null,8.0,0.0,7.0,0.0,3.0,0.0,1.0,9.0,1.0,0.0,2.0,7.0,1.0,1.0,0.0,1.0,8.0,null,8.0,5.0,0.0,0.0,0.0,null,0.0,null,0.0,1.0,13.0,1.0,1.0,8.0,0.0,null,1.0,8.0,null,9.0,null,1.0,null,5.0,9.0,8.0,0.0,7.0,2.0,null,2.0,null,0.0,1.0,5.0,1.0,2.0,8.0,0.0,2.0,null,1.0,0.0,0.0,1.0,1.0,10.0,0.0,1.0,1.0,1.0,1.0,null,8.0,8.0,1.0,13.0,14.0,null,0.0,1.0,0.0,1.0,9.0,2.0,null,0.0,0.0,0.0,3.0,0.0,1.0,null,0.0,11.0,9.0,1.0,8.0,7.0,0.0,0.0,null,0.0,11.0,8.0,null,1.0,1.0,0.0,0.0,0.0,1.0,null,0.0,5.0,1.0,0.0,2.0,0.0,9.0,0.0,0.0,0.0,1.0,1.0,1.0,0.0,4.0,0.0,1.0,2.0,1.0,null,4.0,11.0,0.0,1.0,null,9.0,8.0,8.0,0.0,14.0,0.0,1.0,0.0,9.0,4.0,11.0,1.0,3.0,1.0,0.0,7.0,0.0,8.0,1.0,12.0,1.0,1.0,3.0,0.0,7.0,14.0,1.0,3.0,12.0,4.0,1.0,1.0,0.0,null,4.0,7.0,1.0,4.0,1.0,0.0,9.0,5.0,null,1.0,0.0,null,null,11.0,1.0,9.0,1.0,0.0,0.0,5.0,1.0,9.0,null,1.0,1.0,13.0,2.0,0.0,1.0,1.0,1.0,9.0,1.0,0.0,0.0,7.0,0.0,3.0,0.0,0.0,9.0,9.0,1.0,1.0,6.0,2.0,1.0,0.0,0.0,0.0,7.0,1.0,8.0,1.0,8.0,6.0,0.0,null,0.0,0.0,7.0,0.0,0.0,1.0,0.0,1.0,null,6.0,1.0,1.0,4.0,10.0,1.0,1.0,5.0,4.0,1.0,4.0,0.0,0.0,8.0,0.0,null,null,0.0,0.0,1.0,2.0,2.0,0.0,1.0,0.0,0.0,1.0,0.0,8.0,1.0,11.0,null,0.0,1.0,0.0,1.0,null,0.0,null,3.0,null,1.0,4.0,null,null,null,1.0,1.0,1.0,0.0,4.0,1.0,null,0.0,2.0,10.0,4.0,7.0,null,0.0,1.0,5.0,5.0,null,0.0,0.0,null,1.0,4.0,0.0,0.0,1.0,1.0,0.0,8.0,12.0,0.0,0.0,1.0,null,9.0,0.0,1.0,0.0,1.0,0.0,1.0,0.0,1.0,0.0,3.0,1.0,1.0,2.0,7.0,9.0,null,5.0,2.0,0.0,6.0,1.0,5.0,1.0,1.0,1.0,0.0,0.0,null,1.0,1.0,1.0,9.0,0.0,1.0,4.0,1.0,3.0,8.0,1.0,1.0,1.0,9.0,3.0,1.0,0.0,8.0,6.0,0.0,0.0,0.0,0.0,0.0,8.0,0.0,7.0,6.0,6.0,0.0,0.0,1.0,1.0,9.0,1.0,0.0,0.0,1.0,0.0,1.0,1.0,1.0,0.0,0.0,12.0,6.0,3.0,0.0,null,1.0,11.0,0.0,1.0,2.0,null,1.0,4.0,0.0,1.0,2.0,4.0,0.0,0.0,null,1.0,1.0,1.0,1.0,1.0,8.0,1.0,0.0,2.0,7.0,1.0,0.0,1.0,3.0,1.0,0.0,7.0,null,0.0,1.0,3.0,1.0,1.0,8.0,11.0,8.0,0.0,8.0,1.0,4.0,1.0,1.0,0.0,1.0,6.0,9.0,8.0,1.0,1.0,5.0,2.0,0.0,9.0,1.0,0.0,1.0,0.0,12.0,2.0,null,1.0,null,1.0,1.0,0.0,0.0,1.0,1.0,1.0,0.0,1.0,9.0,1.0,0.0,9.0,3.0,0.0,0.0,7.0,null,0.0,1.0,9.0,0.0,1.0,2.0,6.0,0.0,8.0,8.0,1.0,0.0,7.0,5.0,2.0,1.0,0.0,1.0,1.0,null,0.0,0.0,0.0,1.0,null,0.0,1.0,0.0,9.0,1.0,4.0,8.0,0.0,1.0,1.0,null,0.0,8.0,0.0,2.0,0.0,0.0,0.0,6.0,1.0,9.0,0.0,0.0,0.0,5.0,null,0.0,1.0,0.0,1.0,0.0,1.0,0.0,0.0,1.0,7.0,null,4.0,4.0,9.0,0.0,5.0,1.0,1.0,0.0,null,6.0,9.0,1.0,5.0,9.0,1.0,2.0,0.0,2.0,0.0,1.0,0.0,1.0,6.0,7.0,2.0,6.0,null,1.0,0.0,2.0,8.0,0.0,8.0,1.0,3.0,2.0,2.0,null,1.0,6.0,0.0,6.0,0.0,1.0,6.0,1.0,0.0,8.0,6.0,12.0,9.0,9.0,null,10.0,1.0,0.0,8.0,0.0,3.0,0.0,null,0.0,1.0,1.0,1.0,1.0,0.0,5.0,8.0,0.0,1.0,1.0,0.0,null,0.0,1.0,0.0,1.0,1.0,null,1.0,1.0,8.0,null,0.0,1.0,1.0,7.0,0.0,0.0,1.0,1.0,4.0,1.0,3.0,1.0,4.0,0.0,7.0,1.0,null,1.0,4.0,2.0,2.0,5.0,0.0,9.0,2.0,null,1.0,2.0,13.0,1.0,7.0,0.0,1.0,0.0,1.0,0.0,13.0,1.0,14.0,0.0,0.0,9.0,1.0,0.0,8.0,2.0,0.0,null,6.0,null,1.0,1.0,9.0,4.0,1.0,7.0,1.0,2.0,7.0,4.0,1.0,0.0,null,0.0,8.0,0.0,null,10.0,1.0,1.0,9.0,0.0,0.0,9.0,0.0,1.0,0.0,0.0,0.0,0.0,1.0,null,5.0,1.0,1.0,0.0,0.0,0.0,null,1.0,2.0,1.0,5.0,8.0,0.0,null,0.0,0.0,null,1.0,7.0,9.0,8.0,null,0.0,0.0,5.0,2.0,8.0,1.0,9.0,1.0,1.0,4.0,0.0,1.0,1.0,3.0,8.0,10.0,1.0,8.0,1.0,null,0.0,6.0,9.0,null,0.0,0.0,1.0,1.0,0.0,null,5.0,10.0,1.0,0.0,0.0,7.0,6.0,null,0.0,1.0,0.0,null,1.0,null,0.0,1.0,13.0,11.0,0.0,null,0.0,7.0,0.0,8.0,null,null,10.0,1.0,0.0,1.0,4.0,null,9.0,8.0,1.0,0.0,1.0,1.0,null,14.0,3.0,1.0,1.0,4.0,0.0,1.0,0.0,13.0,1.0,null,null,3.0,8.0,6.0,2.0,1.0,0.0,0.0,7.0,1.0,1.0,0.0,0.0,5.0,8.0,10.0,1.0,1.0,0.0,0.0,1.0,5.0,1.0,9.0,0.0,0.0,1.0,5.0,0.0,1.0,0.0,null,4.0,1.0,1.0,1.0,12.0,2.0,0.0,8.0,5.0,7.0,null,null,2.0,1.0,2.0,0.0,0.0,8.0,1.0,0.0,0.0,0.0,0.0,null,1.0,9.0,8.0,5.0,0.0,1.0,1.0,0.0,4.0,0.0,14.0,0.0,0.0,0.0,9.0,0.0,8.0,0.0,1.0,7.0,2.0,4.0,9.0,0.0,0.0,null,8.0,1.0,6.0,0.0,0.0,0.0,1.0,0.0,1.0,1.0,2.0,0.0,0.0,1.0,1.0,8.0,1.0,0.0,2.0,null,9.0,0.0,6.0,1.0,0.0,1.0,0.0,7.0,3.0,0.0,2.0,0.0,1.0,0.0,1.0,1.0,7.0,9.0,1.0,7.0,4.0,6.0,1.0,8.0,0.0,1.0,1.0,0.0,12.0,0.0,1.0,0.0,null,0.0,8.0,0.0,1.0,0.0,8.0,null,1.0,0.0,null,0.0,1.0,null,8.0,1.0,0.0,0.0,0.0,0.0,1.0,0.0,1.0,8.0,0.0,8.0,0.0,8.0,7.0,0.0,1.0,10.0,8.0,3.0,6.0,9.0,1.0,6.0,8.0,9.0,1.0,0.0,0.0,0.0,10.0,1.0,9.0,0.0,null,8.0,8.0,3.0,1.0,0.0,1.0,1.0,1.0,8.0,1.0,2.0,0.0,9.0,8.0,4.0,0.0,5.0,0.0,null,0.0,0.0,1.0,null,8.0,0.0,0.0,1.0,7.0,7.0,11.0,1.0,9.0,null,null,9.0,0.0,0.0,1.0,8.0,0.0,9.0,null,1.0,0.0,0.0,null,7.0,1.0,4.0,3.0,0.0,5.0,null,0.0,9.0,1.0,7.0,8.0,1.0,1.0,1.0,null,1.0,0.0,0.0,1.0,0.0,1.0,1.0,6.0,0.0,1.0,0.0,0.0,0.0,0.0,0.0,1.0,8.0,4.0,1.0,1.0,null,0.0,10.0,0.0,3.0,0.0,6.0,10.0,0.0,0.0,3.0,1.0,0.0,7.0,1.0,1.0,1.0,0.0,9.0,9.0,8.0,9.0,1.0,1.0,1.0,0.0,0.0,7.0,1.0,1.0,null,9.0,5.0,1.0,1.0,0.0,0.0,9.0,null,1.0,2.0,8.0,10.0,1.0,4.0,4.0,0.0,14.0,1.0,1.0,8.0,10.0,1.0,4.0,9.0,0.0,1.0,null,1.0,1.0,1.0,3.0,0.0,0.0,null,3.0,3.0,1.0,1.0,5.0,9.0,0.0,0.0,0.0,1.0,0.0,3.0,0.0,null,1.0,4.0,1.0,0.0,0.0,5.0,7.0,0.0,1.0,0.0,0.0,1.0,8.0,0.0,1.0,0.0,1.0,8.0,0.0,1.0,3.0,0.0,2.0,5.0,0.0,8.0,1.0,7.0,9.0,1.0,1.0,1.0,3.0,1.0,0.0,3.0,0.0,0.0,6.0,2.0,9.0,5.0,1.0,1.0,0.0,2.0,null,4.0,10.0,0.0,1.0,null,1.0,0.0,2.0,14.0,10.0,7.0,3.0,8.0,7.0,0.0,1.0,4.0,0.0,8.0,1.0,9.0,4.0,1.0,0.0,0.0,8.0,0.0,1.0,4.0,1.0,null,0.0,1.0,0.0,1.0,5.0,0.0,0.0,8.0,1.0,1.0,0.0,1.0,null,1.0,0.0,3.0,1.0,0.0,5.0,0.0,0.0,2.0,null,5.0,1.0,0.0,1.0,1.0,1.0,1.0,1.0,0.0,1.0,0.0,null,0.0,0.0,1.0,0.0,0.0,null,1.0,0.0,0.0,7.0,0.0,0.0,12.0,1.0,1.0,7.0,0.0,0.0,1.0,11.0,8.0,0.0,null,0.0,0.0,1.0,0.0,0.0,0.0,1.0,1.0,0.0,1.0,1.0,6.0,9.0,null,null,0.0,0.0,1.0,0.0,7.0,9.0,10.0,1.0,0.0,4.0,1.0,null,1.0,null,4.0,1.0,1.0,1.0,0.0,null,10.0,8.0,1.0,0.0,null,1.0,6.0,2.0,9.0,1.0,1.0,9.0,8.0,8.0,0.0,6.0,6.0,0.0,0.0,9.0,1.0,1.0,null,6.0,1.0,3.0,1.0,1.0,1.0,9.0,null,0.0,5.0,0.0,0.0,null,0.0,14.0,9.0,null,null,3.0,10.0,3.0,0.0,5.0,3.0,8.0,null,1.0,0.0,0.0,1.0,9.0,1.0,8.0,5.0,2.0,1.0,0.0,9.0,null,1.0,2.0,1.0,8.0,0.0,1.0,null,5.0,9.0,0.0,1.0,1.0,1.0,1.0,9.0,8.0,null,0.0,null,0.0,8.0,1.0,1.0,1.0,1.0,1.0,8.0,1.0,null,1.0,4.0,0.0,null,2.0,1.0,null,3.0,0.0,1.0,9.0,7.0,1.0,1.0,3.0,0.0,0.0,8.0,0.0,1.0,null,1.0,8.0,1.0,1.0,0.0,0.0,6.0,1.0,1.0,8.0,1.0,8.0,null,1.0,1.0,1.0,1.0,0.0,null,1.0,4.0,0.0,1.0,9.0,0.0,0.0,0.0,0.0,0.0,8.0,9.0,3.0,8.0,7.0,1.0,null,0.0,1.0,8.0,1.0,1.0,1.0,4.0,0.0,3.0,1.0,null,0.0,null,7.0,0.0,0.0,2.0,null,1.0,0.0,3.0,9.0,1.0,0.0,0.0,9.0,8.0,0.0,9.0,0.0,1.0,7.0,0.0,0.0,null,0.0,0.0,0.0,1.0,1.0,null,8.0,0.0,null,0.0,1.0,1.0,1.0,1.0,1.0,3.0,0.0,6.0,null,1.0,1.0,7.0,1.0,4.0,1.0,0.0,1.0,null,1.0,0.0,12.0,0.0,3.0,1.0,12.0,0.0,8.0,0.0,1.0,0.0,0.0,1.0,8.0,1.0,6.0,3.0,1.0,0.0,0.0,1.0,0.0,6.0,1.0,0.0,1.0,0.0,0.0,8.0,0.0,1.0,null,0.0,9.0,4.0,1.0,6.0,0.0,null,0.0,8.0,1.0,1.0,1.0,0.0,13.0,9.0,9.0,1.0,1.0,9.0,0.0,1.0,5.0,9.0,1.0,0.0,8.0,0.0,0.0,null,3.0,1.0,null,1.0,4.0,0.0,9.0,0.0,9.0,5.0,7.0,1.0,1.0,4.0,7.0,0.0,0.0,2.0,0.0,10.0,1.0,1.0,0.0,9.0,10.0,1.0,2.0,1.0,12.0,1.0,0.0,1.0,0.0,1.0,0.0,3.0,8.0,1.0,9.0,null,3.0,null,null,1.0,1.0,1.0,2.0,7.0,1.0,1.0,3.0,8.0,9.0,9.0,1.0,1.0,8.0,1.0,0.0,0.0,4.0,8.0,1.0,1.0,0.0,1.0,0.0,8.0,9.0,0.0,2.0,0.0,13.0,6.0,6.0,1.0,0.0,0.0,1.0,0.0,6.0,null,1.0,13.0,5.0,1.0,1.0,0.0,0.0,0.0,0.0,1.0,0.0,null,5.0,8.0,6.0,0.0,0.0,2.0,null,0.0,1.0,1.0,1.0,5.0,7.0,null,1.0,null,0.0,0.0,1.0,0.0,0.0,0.0,0.0,0.0,8.0,0.0,3.0,8.0,1.0,9.0,null,0.0,0.0,9.0,0.0,12.0,11.0,null,1.0,null,1.0,null,1.0,1.0,1.0,0.0,4.0,1.0,1.0,0.0,7.0,1.0,0.0,1.0,0.0,0.0,7.0,1.0,1.0,0.0,1.0,1.0,1.0,1.0,0.0,1.0,5.0,0.0,1.0,9.0,8.0,7.0,1.0,0.0,13.0,9.0,1.0,9.0,0.0,8.0,4.0,9.0,9.0,0.0,0.0,1.0,9.0,1.0,8.0,9.0,1.0,1.0,9.0,0.0,9.0,1.0,1.0,0.0,0.0,3.0,5.0,0.0,null,6.0,1.0,8.0,1.0,7.0,1.0,4.0,1.0,null,0.0,0.0,null,4.0,1.0,0.0,1.0,0.0,1.0,0.0,9.0,1.0,1.0,1.0,null,8.0,9.0,5.0,1.0,1.0,0.0,0.0,5.0,8.0,null,null,1.0,null,null,7.0,1.0,0.0,4.0,0.0,8.0,null,7.0,1.0,null,1.0,1.0,1.0,9.0,5.0,3.0,1.0,1.0,8.0,null,1.0,8.0,6.0,1.0,9.0,14.0,0.0,2.0,1.0,1.0,null,1.0,9.0,1.0,1.0,0.0,1.0,null,0.0,0.0,8.0,1.0,13.0,1.0,4.0,0.0,0.0,null,1.0,5.0,0.0,0.0,2.0,0.0,8.0,1.0,0.0,0.0,0.0,1.0,7.0,null,1.0,0.0,1.0,4.0,0.0,0.0,2.0,0.0,1.0,1.0,0.0,6.0,0.0,5.0,9.0,1.0,0.0,1.0,1.0,0.0,0.0,2.0,0.0,0.0,null,6.0,1.0,3.0,1.0,0.0,9.0,0.0,1.0,2.0,1.0,1.0,null,1.0,8.0,null,7.0,1.0,1.0,9.0,0.0,2.0,1.0,null,1.0,0.0,0.0,0.0,0.0,null,9.0,0.0,null,7.0,1.0,9.0,1.0,0.0,1.0,1.0,9.0,0.0,0.0,4.0,8.0,3.0,0.0,0.0,1.0,0.0,1.0,1.0,2.0,0.0,9.0,null,null,0.0,1.0,0.0,1.0,0.0,null,0.0,0.0,6.0,null,2.0,0.0,4.0,1.0,1.0,7.0,1.0,14.0,1.0,6.0,1.0,0.0,0.0,null,7.0,6.0,0.0,9.0,1.0,0.0,1.0,2.0,1.0,3.0,1.0,3.0,0.0,10.0,null,7.0,1.0,null,null,1.0,1.0,null,null,0.0,1.0,1.0,5.0,1.0,1.0,0.0,null,0.0,9.0,5.0,0.0,null,0.0,0.0,9.0,1.0,2.0,2.0,1.0,0.0,1.0,1.0,1.0,0.0,1.0,0.0,0.0,null,1.0,null,1.0,3.0,0.0,0.0,null,0.0,0.0,0.0,6.0,6.0,8.0,4.0,0.0,0.0,1.0,0.0,3.0,5.0,1.0,1.0,3.0,0.0,0.0,0.0,10.0,7.0,1.0,4.0,0.0,null,0.0,4.0,2.0,2.0,6.0,8.0,2.0,1.0,1.0,null,1.0,0.0,1.0,1.0,0.0,null,9.0,0.0,0.0,8.0,2.0,1.0,1.0,0.0,null,1.0,5.0,0.0,1.0,9.0,0.0,1.0,1.0,8.0,1.0,null,0.0,6.0,0.0,0.0,0.0,0.0,9.0,8.0,0.0,0.0,1.0,11.0,1.0,0.0,9.0,9.0,4.0,6.0,4.0,0.0,0.0,1.0,11.0,null,8.0,0.0,8.0,1.0,5.0,9.0,1.0,null,1.0,1.0,9.0,0.0,2.0,0.0,9.0,9.0,3.0,0.0,0.0,5.0,6.0,3.0,0.0,3.0,9.0,1.0,0.0,0.0,3.0,1.0,0.0,1.0,6.0,6.0,1.0,3.0,null,0.0,6.0,1.0,null,1.0,0.0,1.0,3.0,null,1.0,0.0,null,5.0,0.0,7.0,0.0,0.0,8.0,1.0,null,0.0,0.0,1.0,3.0,0.0,0.0,9.0,2.0,0.0,13.0,0.0,1.0,1.0,1.0,2.0,2.0,2.0,0.0,0.0,1.0,5.0,0.0,1.0,null,0.0,8.0,0.0,0.0,1.0,1.0,5.0,1.0,2.0,0.0,1.0,0.0,0.0,1.0,0.0,6.0,0.0,2.0,1.0,0.0,3.0,0.0,null,3.0,null,0.0,1.0,0.0,5.0,2.0,1.0,0.0,0.0,8.0,1.0,0.0,1.0,0.0,0.0,0.0,0.0,0.0,0.0,0.0,null,3.0,1.0,null,null,9.0,1.0,8.0,0.0,0.0,0.0,9.0,0.0,0.0,4.0,1.0,3.0,7.0,1.0,0.0,0.0,null,9.0,13.0,1.0,1.0,1.0,8.0,0.0,null,null,0.0,1.0,0.0,0.0,8.0,1.0,null,0.0,8.0,8.0,1.0,1.0,0.0,3.0,0.0,0.0,1.0,null,2.0,0.0,null,1.0,9.0,2.0,0.0,1.0,0.0,2.0,null,1.0,9.0,1.0,1.0,1.0,null,0.0,0.0,1.0,3.0,1.0,8.0,5.0,9.0,1.0,4.0,0.0,0.0,1.0,null,8.0,8.0,1.0,8.0,1.0,1.0,1.0,0.0,2.0,0.0,0.0,5.0,1.0,8.0,1.0,null,1.0,null,1.0,6.0,0.0,5.0,1.0,9.0,9.0,0.0,8.0,8.0,0.0,null,null,1.0,6.0,null,0.0,null,0.0,8.0,0.0,1.0,14.0,null,1.0,7.0,0.0,0.0,1.0,0.0,1.0,0.0,2.0,0.0,null,1.0,1.0,1.0,1.0,9.0,4.0,1.0,9.0,0.0,1.0,0.0,null,0.0,1.0,1.0,0.0,null,1.0,null,8.0,5.0,0.0,null,8.0,0.0,13.0,13.0,1.0,12.0,7.0,0.0,1.0,3.0,0.0,1.0,1.0,0.0,1.0,9.0,9.0,0.0,0.0,9.0,1.0,0.0,0.0,9.0,0.0,0.0,2.0,null,1.0,11.0,null,0.0,1.0,8.0,0.0,0.0,1.0,8.0,9.0,8.0,1.0,0.0,0.0,7.0,1.0,1.0,1.0,3.0,0.0,1.0,9.0,0.0,9.0,0.0,0.0,0.0,null,0.0,1.0,0.0,0.0,null,7.0,1.0,1.0,0.0,0.0,1.0,0.0,0.0,0.0,1.0,10.0,1.0,9.0,9.0,0.0,8.0,1.0,0.0,0.0,1.0,3.0,12.0,0.0,0.0,null,4.0,4.0,4.0,1.0,8.0,8.0,1.0,1.0,0.0,5.0,2.0,0.0,0.0,4.0,null,0.0,0.0,1.0,0.0,null,1.0,1.0,1.0,4.0,11.0,0.0,null,0.0,1.0,null,0.0,0.0,1.0,9.0,1.0,8.0,0.0,0.0,8.0,1.0,6.0,1.0,1.0,9.0,1.0,0.0,0.0,null,0.0,null,12.0,0.0,0.0,0.0,1.0,9.0,2.0,0.0,8.0,0.0,1.0,1.0,2.0,9.0,1.0,1.0,0.0,5.0,1.0,13.0,4.0,4.0,8.0,1.0,0.0,1.0,1.0,9.0,9.0,0.0,1.0,8.0,null,0.0,1.0,8.0,0.0,1.0,0.0,null,null,0.0,0.0,0.0,0.0,0.0,0.0,0.0,0.0,1.0,1.0,0.0,0.0,0.0,1.0,4.0,1.0,0.0,1.0,1.0,0.0,0.0,0.0,13.0,1.0,1.0,9.0,0.0,null,null,1.0,null,2.0,1.0,0.0,0.0,1.0,1.0,1.0,0.0,9.0,null,1.0,1.0,0.0,4.0,0.0,1.0,1.0,null,0.0,1.0,3.0,1.0,null,8.0,0.0,0.0,0.0,5.0,0.0,0.0,1.0,1.0,1.0,0.0,0.0,8.0,3.0,1.0,1.0,0.0,1.0,1.0,6.0,3.0,1.0,0.0,null,0.0,1.0,1.0,4.0,0.0,null,0.0,6.0,null,0.0,null,7.0,3.0,1.0,2.0,1.0,0.0,0.0,0.0,0.0,9.0,0.0,0.0,9.0,0.0,2.0,8.0,null,null,3.0,0.0,0.0,1.0,1.0,0.0,1.0,null,0.0,0.0,null,4.0,14.0,null,null,2.0,7.0,6.0,1.0,1.0,1.0,2.0,8.0,1.0,0.0,4.0,0.0,0.0,9.0,1.0,null,null,0.0,4.0,1.0,null,null,0.0,null,9.0,0.0,1.0,1.0,1.0,null,1.0,0.0,1.0,7.0,1.0,9.0,0.0,1.0,5.0,0.0,null,9.0,1.0,1.0,1.0,0.0,1.0,1.0,6.0,0.0,1.0,0.0,null,0.0,null,9.0,0.0,1.0,0.0,1.0,null,9.0,6.0,0.0,0.0,null,1.0,1.0,4.0,null,null,0.0,4.0,null,0.0,8.0,0.0,2.0,1.0,1.0,4.0,1.0,1.0,0.0,0.0,12.0,null,0.0,12.0,1.0,1.0,1.0,null,1.0,2.0,0.0,1.0,1.0,0.0,null,8.0,4.0,1.0,0.0,1.0,1.0,0.0,1.0,0.0,0.0,1.0,9.0,0.0,1.0,4.0,3.0,0.0,1.0,10.0,9.0,9.0,1.0,8.0,null,7.0,0.0,0.0,0.0,3.0,0.0,1.0,null,1.0,1.0,3.0,0.0,1.0,0.0,7.0,null,2.0,3.0,6.0,0.0,8.0,1.0,0.0,1.0,8.0,1.0,0.0,0.0,0.0,1.0,5.0,12.0,1.0,0.0,4.0,null,1.0,1.0,0.0,5.0,14.0,1.0,13.0,2.0,0.0,0.0,0.0,1.0,9.0,1.0,12.0,13.0,7.0,1.0,null,1.0,1.0,1.0,0.0,1.0,1.0,null,1.0,0.0,5.0,1.0,0.0,0.0,3.0,0.0,null,0.0,9.0,9.0,0.0,8.0,1.0,7.0,6.0,5.0,8.0,1.0,0.0,8.0,0.0,null,9.0,13.0,8.0,5.0,4.0,2.0,1.0,0.0,9.0,3.0,1.0,0.0,0.0,0.0,5.0,1.0,3.0,9.0,1.0,9.0,null,9.0,8.0,2.0,1.0,9.0,1.0,2.0,0.0,11.0,1.0,0.0,0.0,0.0,9.0,0.0,2.0,1.0,0.0,null,9.0,9.0,1.0,0.0,5.0,2.0,0.0,0.0,null,0.0,12.0,0.0,0.0,0.0,null,0.0,3.0,8.0,8.0,11.0,9.0,0.0,0.0,14.0,0.0,0.0,null,5.0,null,1.0,0.0,0.0,5.0,0.0,null,0.0,1.0,null,4.0,1.0,1.0,1.0,1.0,1.0,9.0,0.0,0.0,null,5.0,1.0,null,1.0,null,null,2.0,null,1.0,6.0,0.0,1.0,1.0,2.0,10.0,8.0,0.0,0.0,9.0,1.0,0.0,0.0,1.0,1.0,1.0,1.0,0.0,8.0,null,8.0,2.0,0.0,14.0,1.0,0.0,9.0,1.0,0.0,8.0,1.0,8.0,null,1.0,1.0,3.0,1.0,1.0,8.0,2.0,1.0,0.0,6.0,1.0,null,1.0,6.0,3.0,0.0,0.0,3.0,8.0,1.0,2.0,0.0,1.0,1.0,0.0,0.0,0.0,1.0,0.0,1.0,1.0,5.0,6.0,0.0,0.0,1.0,0.0,0.0,0.0,6.0,2.0,1.0,0.0,0.0,0.0,2.0,9.0,1.0,0.0,1.0,1.0,0.0,1.0,9.0,1.0,0.0,2.0,1.0,9.0,1.0,1.0,7.0,0.0,9.0,null,0.0,1.0,1.0,9.0,13.0,0.0,0.0,1.0,0.0,2.0,2.0,null,0.0,2.0,0.0,1.0,0.0,8.0,3.0,1.0,8.0,0.0,0.0,4.0,9.0,0.0,6.0,1.0,3.0,null,7.0,0.0,0.0,3.0,1.0,3.0,9.0,3.0,null,0.0,1.0,5.0,11.0,1.0,4.0,8.0,null,5.0,7.0,1.0,9.0,0.0,0.0,4.0,1.0,1.0,0.0,0.0,0.0,null,1.0,null,1.0,12.0,1.0,null,null,9.0,3.0,0.0,1.0,4.0,9.0,1.0,1.0,0.0,0.0,null,8.0,1.0,9.0,1.0,1.0,0.0,1.0,0.0,6.0,5.0,1.0,null,7.0,0.0,1.0,5.0,1.0,8.0,0.0,9.0,1.0,8.0,1.0,1.0,1.0,0.0,5.0,1.0,1.0,1.0,6.0,0.0,1.0,9.0,1.0,8.0,0.0,1.0,0.0,0.0,null,1.0,6.0,1.0,9.0,0.0,0.0,5.0,4.0,0.0,0.0,null,0.0,0.0,7.0,null,1.0,1.0,0.0,4.0,8.0,null,4.0,4.0,11.0,5.0,1.0,0.0,0.0,0.0,9.0,9.0,3.0,1.0,1.0,0.0,null,0.0,0.0,8.0,4.0,0.0,1.0,1.0,3.0,7.0,5.0,1.0,0.0,1.0,1.0,8.0,0.0,0.0,8.0,1.0,1.0,0.0,0.0,0.0,1.0,1.0,6.0,0.0,0.0,0.0,null,2.0,null,1.0,0.0,null,null,7.0,3.0,11.0,8.0,null,8.0,0.0,1.0,1.0,null,1.0,6.0,1.0,1.0,9.0,1.0,7.0,1.0,0.0,0.0,1.0,4.0,1.0,1.0,1.0,0.0,6.0,8.0,6.0,0.0,1.0,0.0,9.0,2.0,0.0,null,0.0,1.0,1.0,8.0,1.0,1.0,1.0,8.0,1.0,2.0,7.0,0.0,0.0,0.0,0.0,4.0,2.0,2.0,null,0.0,8.0,4.0,0.0,0.0,0.0,4.0,1.0,0.0,1.0,8.0,null,0.0,2.0,1.0,0.0,1.0,1.0,0.0,0.0,0.0,null,1.0,1.0,0.0,1.0,0.0,0.0,8.0,7.0,1.0,null,4.0,7.0,0.0,9.0,8.0,1.0,8.0,13.0,7.0,0.0,9.0,1.0,1.0,5.0,1.0,7.0,null,8.0,null,2.0,null,1.0,1.0,9.0,9.0,8.0,null,1.0,1.0,1.0,4.0,1.0,3.0,4.0,1.0,5.0,1.0,4.0,1.0,0.0,4.0,0.0,1.0,0.0,14.0,10.0,1.0,null,1.0,0.0,1.0,2.0,0.0,0.0,1.0,0.0,3.0,0.0,0.0,0.0,1.0,2.0,1.0,8.0,8.0,null,8.0,1.0,2.0,8.0,2.0,1.0,1.0,10.0,9.0,0.0,1.0,0.0,9.0,null,1.0,9.0,1.0,0.0,5.0,0.0,null,1.0,0.0,null,0.0,null,0.0,null,0.0,0.0,4.0,0.0,3.0,0.0,0.0,6.0,1.0,1.0,1.0,9.0,0.0,0.0,0.0,1.0,0.0,1.0,1.0,1.0,1.0,1.0,1.0,1.0,1.0,null,1.0,1.0,0.0,0.0,7.0,0.0,6.0,9.0,0.0,1.0,1.0,0.0,null,2.0,8.0,4.0,null,null,3.0,null,1.0,3.0,null,null,0.0,6.0,9.0,3.0,0.0,4.0,8.0,1.0,null,0.0,0.0,0.0,1.0,null,0.0,0.0,9.0,7.0,8.0,0.0,9.0,0.0,1.0,9.0,0.0,0.0,8.0,0.0,5.0,9.0,1.0,1.0,1.0,8.0,0.0,0.0,null,0.0,1.0,0.0,1.0,5.0,4.0,9.0,0.0,0.0,0.0,1.0,null,0.0,1.0,0.0,0.0,0.0,3.0,null,0.0,1.0,8.0,1.0,1.0,1.0,null,0.0,9.0,1.0,1.0,1.0,null,0.0,0.0,0.0,8.0,1.0,0.0,13.0,0.0,0.0,0.0,1.0,4.0,9.0,2.0,1.0,8.0,1.0,8.0,1.0,1.0,1.0,0.0,1.0,0.0,1.0,1.0,1.0,null,1.0,8.0,null,4.0,null,1.0,1.0,0.0,8.0,9.0,0.0,0.0,0.0,null,8.0,0.0,1.0,0.0,1.0,9.0,1.0,2.0,5.0,1.0,0.0,2.0,3.0,8.0,13.0,0.0,9.0,null,1.0,0.0,0.0,1.0,null,3.0,null,0.0,1.0,14.0,0.0,6.0,1.0,1.0,1.0,1.0,0.0,1.0,1.0,0.0,0.0,0.0,9.0,3.0,1.0,0.0,0.0,7.0,3.0,0.0,3.0,1.0,null,4.0,null,0.0,0.0,null,4.0,2.0,0.0,1.0,0.0,null,8.0,0.0,0.0,null,1.0,2.0,9.0,9.0,1.0,1.0,1.0,1.0,0.0,1.0,5.0,1.0,0.0,1.0,0.0,0.0,9.0,4.0,1.0,5.0,1.0,1.0,8.0,0.0,7.0,0.0,9.0,0.0,4.0,2.0,12.0,1.0,0.0,0.0,7.0,0.0,0.0,0.0,0.0,9.0,1.0,0.0,0.0,0.0,4.0,0.0,1.0,1.0,1.0,0.0,0.0,4.0,1.0,1.0,0.0,0.0,0.0,0.0,1.0,1.0,8.0,8.0,11.0,1.0,8.0,0.0,6.0,1.0,0.0,0.0,0.0,null,0.0,1.0,0.0,9.0,1.0,0.0,1.0,null,1.0,8.0,1.0,0.0,0.0,1.0,0.0,9.0,3.0,0.0,0.0,8.0,1.0,3.0,1.0,1.0,1.0,1.0,0.0,0.0,null,0.0,9.0,0.0,0.0,0.0,0.0,1.0,null,10.0,1.0,0.0,2.0,0.0,1.0,null,9.0,1.0,9.0,0.0,null,1.0,null,0.0,1.0,11.0,0.0,2.0,9.0,1.0,0.0,0.0,7.0,11.0,1.0,0.0,8.0,1.0,0.0,0.0,null,1.0,0.0,11.0,0.0,0.0,0.0,2.0,3.0,null,1.0,0.0,1.0,1.0,1.0,1.0,null,0.0,0.0,0.0,14.0,6.0,1.0,null,1.0,0.0,null,1.0,0.0,1.0,8.0,4.0,null,5.0,1.0,1.0,3.0,1.0,1.0,5.0,0.0,1.0,2.0,null,1.0,null,0.0,null,0.0,1.0,1.0,0.0,1.0,1.0,1.0,0.0,2.0,1.0,0.0,1.0,null,0.0,9.0,6.0,0.0,4.0,0.0,null,1.0,4.0,5.0,null,0.0,1.0,0.0,5.0,0.0,4.0,2.0,1.0,0.0,9.0,null,3.0,0.0,1.0,3.0,8.0,0.0,null,9.0,5.0,1.0,0.0,null,0.0,2.0,null,3.0,2.0,1.0,1.0,9.0,9.0,0.0,0.0,null,0.0,1.0,0.0,null,null,1.0,1.0,null,6.0,9.0,0.0,1.0,0.0,null,5.0,null,1.0,null,0.0,9.0,4.0,0.0,8.0,0.0,1.0,6.0,1.0,null,7.0,0.0,0.0,3.0,9.0,2.0,1.0,11.0,1.0,7.0,1.0,0.0,1.0,1.0,10.0,8.0,1.0,1.0,0.0,0.0,3.0,6.0,1.0,5.0,0.0,1.0,10.0,1.0,1.0,0.0,9.0,0.0,1.0,0.0,0.0,0.0,null,1.0,9.0,8.0,1.0,3.0,1.0,0.0,null,1.0,null,1.0,1.0,0.0,1.0,4.0,5.0,9.0,0.0,7.0,8.0,null,1.0,6.0,0.0,5.0,3.0,null,null,1.0,1.0,0.0,1.0,null,3.0,1.0,null,0.0,8.0,4.0,1.0,9.0,0.0,0.0,1.0,1.0,6.0,8.0,1.0,3.0,1.0,1.0,0.0,5.0,0.0,1.0,9.0,11.0,4.0,null,10.0,0.0,14.0,null,1.0,9.0,3.0,0.0,6.0,9.0,1.0,1.0,0.0,1.0,1.0,2.0,1.0,0.0,1.0,1.0,0.0,3.0,2.0,1.0,0.0,1.0,0.0,6.0,1.0,0.0,12.0,null,1.0,0.0,0.0,1.0,0.0,0.0,null,0.0,4.0,9.0,0.0,11.0,null,1.0,0.0,1.0,1.0,9.0,1.0,1.0,10.0,8.0,7.0,8.0,null,0.0,8.0,0.0,1.0,1.0,1.0,4.0,12.0,1.0,1.0,1.0,1.0,0.0,0.0,1.0,0.0,1.0,5.0,1.0,null,null,1.0,0.0,0.0,null,0.0,4.0,0.0,1.0,1.0,8.0,0.0,0.0,1.0,9.0,11.0,1.0,5.0,0.0,1.0,null,1.0,null,3.0,0.0,6.0,6.0,0.0,null,1.0,6.0,0.0,0.0,2.0,1.0,9.0,0.0,null,1.0,0.0,null,1.0,1.0,null,8.0,2.0,4.0,2.0,9.0,0.0,8.0,0.0,5.0,9.0,1.0,8.0,4.0,0.0,0.0,0.0,6.0,1.0,0.0,null,0.0,8.0,1.0,0.0,1.0,1.0,9.0,1.0,5.0,0.0,1.0,0.0,1.0,1.0,7.0,1.0,1.0,9.0,1.0,0.0,null,9.0,1.0,null,1.0,10.0,3.0,8.0,0.0,1.0,0.0,0.0,0.0,null,null,null,1.0,1.0,0.0,0.0,0.0,9.0,13.0,9.0,0.0,1.0,0.0,10.0,1.0,1.0,9.0,1.0,8.0,13.0,1.0,9.0,null,null,0.0,7.0,0.0,1.0,0.0,1.0,9.0,null,6.0,1.0,1.0,6.0,null,0.0,1.0,1.0,1.0,1.0,9.0,1.0,2.0,7.0,null,null,8.0,8.0,1.0,1.0,0.0,0.0,2.0,0.0,null,1.0,7.0,0.0,5.0,0.0,null,1.0,1.0,null,12.0,4.0,5.0,0.0,4.0,1.0,6.0,0.0,9.0,null,null,1.0,null,0.0,3.0,2.0,1.0,0.0,1.0,0.0,1.0,8.0,1.0,null,null,1.0,8.0,0.0,0.0,null,null,7.0,0.0,8.0,null,8.0,1.0,0.0,8.0,1.0,0.0,3.0,1.0,0.0,0.0,0.0,0.0,0.0,1.0,null,4.0,11.0,8.0,5.0,8.0,1.0,0.0,2.0,1.0,3.0,null,null,1.0,1.0,1.0,5.0,0.0,1.0,1.0,0.0,0.0,8.0,9.0,9.0,0.0,9.0,0.0,0.0,1.0,1.0,3.0,0.0,1.0,0.0,0.0,null,null,0.0,9.0,0.0,1.0,null,null,0.0,9.0,null,0.0,null,4.0,null,null,0.0,5.0,2.0,null,4.0,9.0,1.0,2.0,1.0,0.0,1.0,1.0,3.0,0.0,1.0,1.0,5.0,0.0,null,1.0,0.0,2.0,0.0,8.0,6.0,1.0,7.0,0.0,0.0,1.0,null,0.0,null,6.0,1.0,1.0,1.0,0.0,6.0,1.0,null,11.0,0.0,null,1.0,0.0,1.0,7.0,6.0,2.0,3.0,0.0,9.0,0.0,1.0,1.0,0.0,1.0,0.0,2.0,9.0,null,null,1.0,0.0,9.0,3.0,0.0,0.0,0.0,9.0,null,1.0,1.0,0.0,5.0,2.0,8.0,5.0,4.0,0.0,0.0,9.0,3.0,1.0,0.0,4.0,1.0,1.0,5.0,1.0,6.0,0.0,0.0,null,1.0,0.0,2.0,1.0,0.0,0.0,1.0,1.0,0.0,9.0,8.0,1.0,1.0,0.0,0.0,null,0.0,0.0,0.0,4.0,1.0,1.0,0.0,13.0,2.0,2.0,null,0.0,1.0,0.0,1.0,9.0,8.0,null,null,3.0,0.0,3.0,0.0,2.0,0.0,1.0,1.0,2.0,7.0,null,0.0,5.0,6.0,6.0,9.0,1.0,1.0,0.0,1.0,0.0,4.0,1.0,0.0,1.0,1.0,3.0,null,1.0,1.0,0.0,1.0,1.0,0.0,0.0,9.0,6.0,0.0,null,0.0,0.0,null,null,0.0,0.0,9.0,0.0,1.0,0.0,0.0,0.0,13.0,1.0,0.0,9.0,0.0,9.0,8.0,0.0,null,0.0,0.0,1.0,8.0,1.0,1.0,0.0,1.0,0.0,1.0,1.0,2.0,0.0,0.0,1.0,8.0,0.0,4.0,0.0,9.0,1.0,1.0,9.0,0.0,null,0.0,1.0,1.0,3.0,1.0,null,3.0,0.0,9.0,2.0,0.0,9.0,4.0,0.0,0.0,1.0,null,4.0,null,2.0,0.0,8.0,1.0,0.0,0.0,0.0,1.0,5.0,9.0,8.0,1.0,9.0,0.0,7.0,0.0,0.0,0.0,0.0,13.0,6.0,0.0,null,9.0,1.0,1.0,1.0,8.0,1.0,12.0,0.0,1.0,7.0,1.0,0.0,0.0,1.0,1.0,5.0,8.0,0.0,5.0,1.0,0.0,1.0,8.0,0.0,4.0,9.0,3.0,8.0,null,4.0,9.0,8.0,1.0,13.0,1.0,1.0,5.0,1.0,8.0,1.0,2.0,2.0,8.0,6.0,3.0,2.0,1.0,1.0,null,null,1.0,0.0,0.0,1.0,1.0,1.0,1.0,0.0,1.0,1.0,1.0,0.0,0.0,null,0.0,0.0,1.0,1.0,12.0,5.0,8.0,0.0,1.0,9.0,0.0,1.0,1.0,9.0,8.0,9.0,0.0,1.0,null,0.0,1.0,0.0,8.0,1.0,1.0,0.0,2.0,0.0,5.0,0.0,null,0.0,0.0,1.0,3.0,0.0,0.0,0.0,1.0,9.0,null,9.0,1.0,9.0,0.0,0.0,1.0,0.0,0.0,5.0,3.0,1.0,1.0,1.0,1.0,0.0,3.0,8.0,1.0,null,1.0,9.0,9.0,1.0,8.0,1.0,1.0,null,0.0,1.0,0.0,6.0,1.0,0.0,0.0,1.0,1.0,null,1.0,0.0,1.0,0.0,0.0,0.0,0.0,1.0,7.0,0.0,0.0,3.0,3.0,1.0,1.0,0.0,3.0,0.0,1.0,0.0,1.0,6.0,1.0,0.0,2.0,1.0,1.0,1.0,0.0,1.0,0.0,9.0,1.0,1.0,null,1.0,4.0,1.0,1.0,6.0,1.0,1.0,1.0,null,0.0,0.0,14.0,7.0,4.0,1.0,1.0,8.0,1.0,null,0.0,1.0,0.0,0.0,1.0,0.0,7.0,0.0,9.0,0.0,null,null,0.0,0.0,9.0,2.0,1.0,1.0,8.0,8.0,0.0,7.0,null,0.0,1.0,1.0,0.0,1.0,4.0,9.0,13.0,null,1.0,0.0,4.0,6.0,1.0,3.0,8.0,1.0,0.0,0.0,null,4.0,1.0,14.0,1.0,3.0,0.0,null,9.0,null,0.0,8.0,8.0,1.0,1.0,0.0,8.0,1.0,0.0,3.0,0.0,0.0,0.0,0.0,3.0,1.0,1.0,0.0],\"type\":\"box\"}],                        {\"title\":{\"text\":\"Work_Experience\"},\"template\":{\"data\":{\"bar\":[{\"error_x\":{\"color\":\"#2a3f5f\"},\"error_y\":{\"color\":\"#2a3f5f\"},\"marker\":{\"line\":{\"color\":\"#E5ECF6\",\"width\":0.5},\"pattern\":{\"fillmode\":\"overlay\",\"size\":10,\"solidity\":0.2}},\"type\":\"bar\"}],\"barpolar\":[{\"marker\":{\"line\":{\"color\":\"#E5ECF6\",\"width\":0.5},\"pattern\":{\"fillmode\":\"overlay\",\"size\":10,\"solidity\":0.2}},\"type\":\"barpolar\"}],\"carpet\":[{\"aaxis\":{\"endlinecolor\":\"#2a3f5f\",\"gridcolor\":\"white\",\"linecolor\":\"white\",\"minorgridcolor\":\"white\",\"startlinecolor\":\"#2a3f5f\"},\"baxis\":{\"endlinecolor\":\"#2a3f5f\",\"gridcolor\":\"white\",\"linecolor\":\"white\",\"minorgridcolor\":\"white\",\"startlinecolor\":\"#2a3f5f\"},\"type\":\"carpet\"}],\"choropleth\":[{\"colorbar\":{\"outlinewidth\":0,\"ticks\":\"\"},\"type\":\"choropleth\"}],\"contour\":[{\"colorbar\":{\"outlinewidth\":0,\"ticks\":\"\"},\"colorscale\":[[0.0,\"#0d0887\"],[0.1111111111111111,\"#46039f\"],[0.2222222222222222,\"#7201a8\"],[0.3333333333333333,\"#9c179e\"],[0.4444444444444444,\"#bd3786\"],[0.5555555555555556,\"#d8576b\"],[0.6666666666666666,\"#ed7953\"],[0.7777777777777778,\"#fb9f3a\"],[0.8888888888888888,\"#fdca26\"],[1.0,\"#f0f921\"]],\"type\":\"contour\"}],\"contourcarpet\":[{\"colorbar\":{\"outlinewidth\":0,\"ticks\":\"\"},\"type\":\"contourcarpet\"}],\"heatmap\":[{\"colorbar\":{\"outlinewidth\":0,\"ticks\":\"\"},\"colorscale\":[[0.0,\"#0d0887\"],[0.1111111111111111,\"#46039f\"],[0.2222222222222222,\"#7201a8\"],[0.3333333333333333,\"#9c179e\"],[0.4444444444444444,\"#bd3786\"],[0.5555555555555556,\"#d8576b\"],[0.6666666666666666,\"#ed7953\"],[0.7777777777777778,\"#fb9f3a\"],[0.8888888888888888,\"#fdca26\"],[1.0,\"#f0f921\"]],\"type\":\"heatmap\"}],\"heatmapgl\":[{\"colorbar\":{\"outlinewidth\":0,\"ticks\":\"\"},\"colorscale\":[[0.0,\"#0d0887\"],[0.1111111111111111,\"#46039f\"],[0.2222222222222222,\"#7201a8\"],[0.3333333333333333,\"#9c179e\"],[0.4444444444444444,\"#bd3786\"],[0.5555555555555556,\"#d8576b\"],[0.6666666666666666,\"#ed7953\"],[0.7777777777777778,\"#fb9f3a\"],[0.8888888888888888,\"#fdca26\"],[1.0,\"#f0f921\"]],\"type\":\"heatmapgl\"}],\"histogram\":[{\"marker\":{\"pattern\":{\"fillmode\":\"overlay\",\"size\":10,\"solidity\":0.2}},\"type\":\"histogram\"}],\"histogram2d\":[{\"colorbar\":{\"outlinewidth\":0,\"ticks\":\"\"},\"colorscale\":[[0.0,\"#0d0887\"],[0.1111111111111111,\"#46039f\"],[0.2222222222222222,\"#7201a8\"],[0.3333333333333333,\"#9c179e\"],[0.4444444444444444,\"#bd3786\"],[0.5555555555555556,\"#d8576b\"],[0.6666666666666666,\"#ed7953\"],[0.7777777777777778,\"#fb9f3a\"],[0.8888888888888888,\"#fdca26\"],[1.0,\"#f0f921\"]],\"type\":\"histogram2d\"}],\"histogram2dcontour\":[{\"colorbar\":{\"outlinewidth\":0,\"ticks\":\"\"},\"colorscale\":[[0.0,\"#0d0887\"],[0.1111111111111111,\"#46039f\"],[0.2222222222222222,\"#7201a8\"],[0.3333333333333333,\"#9c179e\"],[0.4444444444444444,\"#bd3786\"],[0.5555555555555556,\"#d8576b\"],[0.6666666666666666,\"#ed7953\"],[0.7777777777777778,\"#fb9f3a\"],[0.8888888888888888,\"#fdca26\"],[1.0,\"#f0f921\"]],\"type\":\"histogram2dcontour\"}],\"mesh3d\":[{\"colorbar\":{\"outlinewidth\":0,\"ticks\":\"\"},\"type\":\"mesh3d\"}],\"parcoords\":[{\"line\":{\"colorbar\":{\"outlinewidth\":0,\"ticks\":\"\"}},\"type\":\"parcoords\"}],\"pie\":[{\"automargin\":true,\"type\":\"pie\"}],\"scatter\":[{\"marker\":{\"colorbar\":{\"outlinewidth\":0,\"ticks\":\"\"}},\"type\":\"scatter\"}],\"scatter3d\":[{\"line\":{\"colorbar\":{\"outlinewidth\":0,\"ticks\":\"\"}},\"marker\":{\"colorbar\":{\"outlinewidth\":0,\"ticks\":\"\"}},\"type\":\"scatter3d\"}],\"scattercarpet\":[{\"marker\":{\"colorbar\":{\"outlinewidth\":0,\"ticks\":\"\"}},\"type\":\"scattercarpet\"}],\"scattergeo\":[{\"marker\":{\"colorbar\":{\"outlinewidth\":0,\"ticks\":\"\"}},\"type\":\"scattergeo\"}],\"scattergl\":[{\"marker\":{\"colorbar\":{\"outlinewidth\":0,\"ticks\":\"\"}},\"type\":\"scattergl\"}],\"scattermapbox\":[{\"marker\":{\"colorbar\":{\"outlinewidth\":0,\"ticks\":\"\"}},\"type\":\"scattermapbox\"}],\"scatterpolar\":[{\"marker\":{\"colorbar\":{\"outlinewidth\":0,\"ticks\":\"\"}},\"type\":\"scatterpolar\"}],\"scatterpolargl\":[{\"marker\":{\"colorbar\":{\"outlinewidth\":0,\"ticks\":\"\"}},\"type\":\"scatterpolargl\"}],\"scatterternary\":[{\"marker\":{\"colorbar\":{\"outlinewidth\":0,\"ticks\":\"\"}},\"type\":\"scatterternary\"}],\"surface\":[{\"colorbar\":{\"outlinewidth\":0,\"ticks\":\"\"},\"colorscale\":[[0.0,\"#0d0887\"],[0.1111111111111111,\"#46039f\"],[0.2222222222222222,\"#7201a8\"],[0.3333333333333333,\"#9c179e\"],[0.4444444444444444,\"#bd3786\"],[0.5555555555555556,\"#d8576b\"],[0.6666666666666666,\"#ed7953\"],[0.7777777777777778,\"#fb9f3a\"],[0.8888888888888888,\"#fdca26\"],[1.0,\"#f0f921\"]],\"type\":\"surface\"}],\"table\":[{\"cells\":{\"fill\":{\"color\":\"#EBF0F8\"},\"line\":{\"color\":\"white\"}},\"header\":{\"fill\":{\"color\":\"#C8D4E3\"},\"line\":{\"color\":\"white\"}},\"type\":\"table\"}]},\"layout\":{\"annotationdefaults\":{\"arrowcolor\":\"#2a3f5f\",\"arrowhead\":0,\"arrowwidth\":1},\"autotypenumbers\":\"strict\",\"coloraxis\":{\"colorbar\":{\"outlinewidth\":0,\"ticks\":\"\"}},\"colorscale\":{\"diverging\":[[0,\"#8e0152\"],[0.1,\"#c51b7d\"],[0.2,\"#de77ae\"],[0.3,\"#f1b6da\"],[0.4,\"#fde0ef\"],[0.5,\"#f7f7f7\"],[0.6,\"#e6f5d0\"],[0.7,\"#b8e186\"],[0.8,\"#7fbc41\"],[0.9,\"#4d9221\"],[1,\"#276419\"]],\"sequential\":[[0.0,\"#0d0887\"],[0.1111111111111111,\"#46039f\"],[0.2222222222222222,\"#7201a8\"],[0.3333333333333333,\"#9c179e\"],[0.4444444444444444,\"#bd3786\"],[0.5555555555555556,\"#d8576b\"],[0.6666666666666666,\"#ed7953\"],[0.7777777777777778,\"#fb9f3a\"],[0.8888888888888888,\"#fdca26\"],[1.0,\"#f0f921\"]],\"sequentialminus\":[[0.0,\"#0d0887\"],[0.1111111111111111,\"#46039f\"],[0.2222222222222222,\"#7201a8\"],[0.3333333333333333,\"#9c179e\"],[0.4444444444444444,\"#bd3786\"],[0.5555555555555556,\"#d8576b\"],[0.6666666666666666,\"#ed7953\"],[0.7777777777777778,\"#fb9f3a\"],[0.8888888888888888,\"#fdca26\"],[1.0,\"#f0f921\"]]},\"colorway\":[\"#636efa\",\"#EF553B\",\"#00cc96\",\"#ab63fa\",\"#FFA15A\",\"#19d3f3\",\"#FF6692\",\"#B6E880\",\"#FF97FF\",\"#FECB52\"],\"font\":{\"color\":\"#2a3f5f\"},\"geo\":{\"bgcolor\":\"white\",\"lakecolor\":\"white\",\"landcolor\":\"#E5ECF6\",\"showlakes\":true,\"showland\":true,\"subunitcolor\":\"white\"},\"hoverlabel\":{\"align\":\"left\"},\"hovermode\":\"closest\",\"mapbox\":{\"style\":\"light\"},\"paper_bgcolor\":\"white\",\"plot_bgcolor\":\"#E5ECF6\",\"polar\":{\"angularaxis\":{\"gridcolor\":\"white\",\"linecolor\":\"white\",\"ticks\":\"\"},\"bgcolor\":\"#E5ECF6\",\"radialaxis\":{\"gridcolor\":\"white\",\"linecolor\":\"white\",\"ticks\":\"\"}},\"scene\":{\"xaxis\":{\"backgroundcolor\":\"#E5ECF6\",\"gridcolor\":\"white\",\"gridwidth\":2,\"linecolor\":\"white\",\"showbackground\":true,\"ticks\":\"\",\"zerolinecolor\":\"white\"},\"yaxis\":{\"backgroundcolor\":\"#E5ECF6\",\"gridcolor\":\"white\",\"gridwidth\":2,\"linecolor\":\"white\",\"showbackground\":true,\"ticks\":\"\",\"zerolinecolor\":\"white\"},\"zaxis\":{\"backgroundcolor\":\"#E5ECF6\",\"gridcolor\":\"white\",\"gridwidth\":2,\"linecolor\":\"white\",\"showbackground\":true,\"ticks\":\"\",\"zerolinecolor\":\"white\"}},\"shapedefaults\":{\"line\":{\"color\":\"#2a3f5f\"}},\"ternary\":{\"aaxis\":{\"gridcolor\":\"white\",\"linecolor\":\"white\",\"ticks\":\"\"},\"baxis\":{\"gridcolor\":\"white\",\"linecolor\":\"white\",\"ticks\":\"\"},\"bgcolor\":\"#E5ECF6\",\"caxis\":{\"gridcolor\":\"white\",\"linecolor\":\"white\",\"ticks\":\"\"}},\"title\":{\"x\":0.05},\"xaxis\":{\"automargin\":true,\"gridcolor\":\"white\",\"linecolor\":\"white\",\"ticks\":\"\",\"title\":{\"standoff\":15},\"zerolinecolor\":\"white\",\"zerolinewidth\":2},\"yaxis\":{\"automargin\":true,\"gridcolor\":\"white\",\"linecolor\":\"white\",\"ticks\":\"\",\"title\":{\"standoff\":15},\"zerolinecolor\":\"white\",\"zerolinewidth\":2}}}},                        {\"responsive\": true}                    ).then(function(){\n",
              "                            \n",
              "var gd = document.getElementById('ddfba4de-e995-4b62-96c0-c0ac6a9a53f7');\n",
              "var x = new MutationObserver(function (mutations, observer) {{\n",
              "        var display = window.getComputedStyle(gd).display;\n",
              "        if (!display || display === 'none') {{\n",
              "            console.log([gd, 'removed!']);\n",
              "            Plotly.purge(gd);\n",
              "            observer.disconnect();\n",
              "        }}\n",
              "}});\n",
              "\n",
              "// Listen for the removal of the full notebook cells\n",
              "var notebookContainer = gd.closest('#notebook-container');\n",
              "if (notebookContainer) {{\n",
              "    x.observe(notebookContainer, {childList: true});\n",
              "}}\n",
              "\n",
              "// Listen for the clearing of the current output cell\n",
              "var outputEl = gd.closest('.output');\n",
              "if (outputEl) {{\n",
              "    x.observe(outputEl, {childList: true});\n",
              "}}\n",
              "\n",
              "                        })                };                            </script>        </div>\n",
              "</body>\n",
              "</html>"
            ]
          },
          "metadata": {}
        },
        {
          "output_type": "display_data",
          "data": {
            "text/html": [
              "<html>\n",
              "<head><meta charset=\"utf-8\" /></head>\n",
              "<body>\n",
              "    <div>            <script src=\"https://cdnjs.cloudflare.com/ajax/libs/mathjax/2.7.5/MathJax.js?config=TeX-AMS-MML_SVG\"></script><script type=\"text/javascript\">if (window.MathJax) {MathJax.Hub.Config({SVG: {font: \"STIX-Web\"}});}</script>                <script type=\"text/javascript\">window.PlotlyConfig = {MathJaxConfig: 'local'};</script>\n",
              "        <script src=\"https://cdn.plot.ly/plotly-2.8.3.min.js\"></script>                <div id=\"40c5e671-834d-4b42-9ef6-efe7003927e1\" class=\"plotly-graph-div\" style=\"height:525px; width:100%;\"></div>            <script type=\"text/javascript\">                                    window.PLOTLYENV=window.PLOTLYENV || {};                                    if (document.getElementById(\"40c5e671-834d-4b42-9ef6-efe7003927e1\")) {                    Plotly.newPlot(                        \"40c5e671-834d-4b42-9ef6-efe7003927e1\",                        [{\"x\":[4.0,3.0,1.0,2.0,6.0,2.0,3.0,3.0,3.0,4.0,3.0,4.0,null,1.0,1.0,2.0,5.0,6.0,4.0,1.0,1.0,4.0,2.0,2.0,3.0,3.0,8.0,3.0,1.0,4.0,3.0,2.0,3.0,null,2.0,4.0,1.0,5.0,2.0,2.0,1.0,2.0,3.0,2.0,1.0,2.0,4.0,1.0,4.0,1.0,2.0,2.0,1.0,2.0,1.0,2.0,4.0,2.0,3.0,null,2.0,2.0,3.0,2.0,2.0,2.0,2.0,4.0,4.0,2.0,2.0,2.0,5.0,4.0,4.0,3.0,2.0,3.0,2.0,1.0,4.0,3.0,1.0,4.0,3.0,5.0,3.0,2.0,3.0,2.0,3.0,4.0,2.0,2.0,1.0,1.0,1.0,2.0,2.0,3.0,4.0,7.0,3.0,5.0,2.0,2.0,2.0,1.0,5.0,3.0,4.0,1.0,null,1.0,3.0,4.0,1.0,2.0,7.0,2.0,3.0,4.0,4.0,3.0,2.0,2.0,null,2.0,2.0,5.0,5.0,2.0,4.0,1.0,2.0,5.0,2.0,4.0,4.0,4.0,2.0,5.0,3.0,null,5.0,5.0,2.0,1.0,4.0,3.0,9.0,1.0,2.0,2.0,4.0,4.0,1.0,4.0,2.0,3.0,1.0,5.0,5.0,5.0,2.0,3.0,3.0,5.0,3.0,2.0,5.0,2.0,2.0,2.0,2.0,4.0,1.0,6.0,3.0,1.0,2.0,5.0,1.0,4.0,1.0,2.0,null,3.0,2.0,2.0,3.0,2.0,2.0,4.0,2.0,3.0,2.0,5.0,2.0,2.0,3.0,3.0,8.0,2.0,2.0,3.0,3.0,1.0,2.0,4.0,2.0,1.0,4.0,1.0,4.0,3.0,2.0,2.0,2.0,1.0,3.0,2.0,3.0,5.0,1.0,1.0,4.0,4.0,1.0,2.0,2.0,4.0,2.0,4.0,1.0,4.0,5.0,4.0,4.0,2.0,5.0,3.0,4.0,6.0,4.0,2.0,3.0,2.0,2.0,5.0,null,1.0,4.0,3.0,4.0,2.0,1.0,null,3.0,4.0,3.0,null,3.0,4.0,7.0,2.0,1.0,3.0,6.0,2.0,4.0,3.0,3.0,2.0,2.0,2.0,4.0,1.0,3.0,3.0,4.0,2.0,3.0,2.0,1.0,1.0,1.0,2.0,1.0,3.0,1.0,3.0,8.0,4.0,2.0,3.0,3.0,2.0,3.0,2.0,3.0,2.0,3.0,2.0,2.0,2.0,2.0,2.0,4.0,4.0,null,4.0,1.0,4.0,3.0,2.0,4.0,2.0,1.0,4.0,2.0,1.0,4.0,1.0,1.0,1.0,1.0,2.0,5.0,3.0,4.0,4.0,5.0,4.0,2.0,3.0,5.0,2.0,1.0,2.0,1.0,4.0,1.0,1.0,8.0,3.0,1.0,1.0,5.0,4.0,4.0,1.0,null,3.0,1.0,1.0,4.0,5.0,3.0,3.0,3.0,2.0,3.0,2.0,2.0,2.0,1.0,3.0,5.0,5.0,1.0,2.0,1.0,4.0,4.0,1.0,1.0,2.0,2.0,1.0,1.0,2.0,6.0,2.0,3.0,2.0,3.0,2.0,2.0,1.0,1.0,2.0,4.0,4.0,1.0,1.0,4.0,3.0,3.0,2.0,1.0,null,2.0,3.0,5.0,6.0,3.0,4.0,3.0,null,3.0,1.0,2.0,5.0,2.0,1.0,3.0,2.0,1.0,null,3.0,4.0,2.0,3.0,3.0,2.0,1.0,3.0,null,7.0,4.0,5.0,3.0,4.0,3.0,4.0,2.0,2.0,1.0,3.0,6.0,4.0,5.0,3.0,3.0,2.0,5.0,1.0,1.0,4.0,4.0,5.0,2.0,1.0,2.0,2.0,null,6.0,1.0,4.0,2.0,2.0,2.0,2.0,6.0,4.0,4.0,5.0,2.0,2.0,null,2.0,3.0,4.0,4.0,2.0,4.0,2.0,5.0,1.0,1.0,2.0,5.0,2.0,4.0,4.0,2.0,3.0,2.0,3.0,7.0,1.0,1.0,3.0,2.0,3.0,1.0,4.0,6.0,3.0,4.0,3.0,3.0,null,2.0,3.0,3.0,2.0,5.0,6.0,4.0,2.0,1.0,3.0,4.0,1.0,4.0,1.0,2.0,5.0,3.0,5.0,1.0,4.0,1.0,3.0,4.0,3.0,1.0,1.0,3.0,1.0,null,2.0,4.0,2.0,2.0,2.0,5.0,4.0,4.0,3.0,2.0,1.0,2.0,5.0,3.0,2.0,3.0,1.0,5.0,3.0,null,4.0,1.0,1.0,4.0,3.0,1.0,4.0,2.0,1.0,4.0,1.0,5.0,3.0,4.0,1.0,2.0,4.0,4.0,5.0,4.0,3.0,3.0,2.0,1.0,5.0,6.0,2.0,1.0,3.0,5.0,1.0,3.0,3.0,4.0,1.0,2.0,5.0,4.0,1.0,2.0,2.0,2.0,2.0,4.0,4.0,3.0,1.0,4.0,4.0,3.0,2.0,4.0,3.0,5.0,1.0,2.0,1.0,2.0,4.0,2.0,5.0,null,3.0,3.0,1.0,5.0,1.0,null,5.0,2.0,2.0,2.0,4.0,6.0,2.0,1.0,2.0,4.0,4.0,3.0,4.0,2.0,1.0,1.0,null,3.0,2.0,3.0,2.0,4.0,3.0,5.0,4.0,3.0,5.0,3.0,1.0,4.0,3.0,null,2.0,2.0,2.0,2.0,1.0,4.0,4.0,5.0,null,3.0,3.0,1.0,null,null,3.0,1.0,1.0,3.0,5.0,4.0,3.0,2.0,2.0,2.0,4.0,3.0,2.0,2.0,2.0,7.0,3.0,2.0,2.0,4.0,5.0,4.0,5.0,6.0,4.0,4.0,2.0,5.0,3.0,4.0,4.0,2.0,1.0,4.0,4.0,3.0,3.0,5.0,4.0,2.0,3.0,2.0,3.0,1.0,2.0,3.0,2.0,2.0,1.0,1.0,5.0,8.0,4.0,null,2.0,4.0,2.0,3.0,2.0,2.0,1.0,5.0,2.0,1.0,3.0,4.0,null,2.0,2.0,5.0,3.0,2.0,4.0,6.0,6.0,3.0,3.0,3.0,4.0,3.0,4.0,1.0,4.0,1.0,4.0,4.0,2.0,2.0,2.0,null,5.0,2.0,3.0,1.0,3.0,2.0,4.0,2.0,1.0,null,4.0,2.0,3.0,1.0,2.0,2.0,3.0,2.0,2.0,3.0,6.0,1.0,3.0,4.0,5.0,6.0,4.0,1.0,4.0,3.0,2.0,null,3.0,2.0,4.0,3.0,3.0,2.0,2.0,2.0,4.0,6.0,4.0,1.0,4.0,1.0,1.0,5.0,3.0,1.0,1.0,2.0,4.0,3.0,5.0,3.0,2.0,4.0,2.0,null,1.0,4.0,5.0,4.0,1.0,3.0,3.0,null,1.0,1.0,5.0,2.0,3.0,4.0,4.0,1.0,1.0,3.0,4.0,6.0,2.0,3.0,null,6.0,4.0,2.0,2.0,3.0,2.0,1.0,2.0,4.0,4.0,null,3.0,3.0,1.0,3.0,1.0,1.0,6.0,2.0,4.0,1.0,5.0,1.0,2.0,4.0,1.0,5.0,1.0,2.0,8.0,7.0,3.0,null,3.0,1.0,4.0,3.0,1.0,2.0,7.0,4.0,2.0,4.0,7.0,3.0,4.0,2.0,4.0,1.0,3.0,2.0,2.0,2.0,4.0,3.0,4.0,3.0,2.0,1.0,null,2.0,3.0,4.0,4.0,3.0,4.0,3.0,6.0,3.0,null,3.0,null,4.0,3.0,4.0,3.0,2.0,1.0,2.0,1.0,2.0,1.0,6.0,3.0,null,3.0,3.0,5.0,3.0,7.0,3.0,2.0,1.0,2.0,2.0,2.0,3.0,2.0,1.0,2.0,9.0,4.0,2.0,null,2.0,3.0,4.0,1.0,3.0,6.0,4.0,4.0,1.0,2.0,2.0,1.0,4.0,5.0,1.0,6.0,2.0,2.0,1.0,4.0,7.0,null,null,5.0,4.0,3.0,3.0,5.0,4.0,3.0,1.0,3.0,3.0,2.0,null,2.0,1.0,3.0,2.0,1.0,5.0,2.0,2.0,3.0,1.0,4.0,2.0,2.0,2.0,2.0,1.0,4.0,2.0,2.0,3.0,1.0,1.0,2.0,2.0,1.0,2.0,2.0,2.0,1.0,3.0,1.0,4.0,2.0,3.0,1.0,3.0,1.0,3.0,3.0,3.0,4.0,5.0,3.0,7.0,4.0,2.0,4.0,1.0,1.0,2.0,null,3.0,3.0,3.0,4.0,8.0,4.0,2.0,3.0,3.0,4.0,2.0,4.0,3.0,1.0,2.0,2.0,2.0,2.0,2.0,5.0,5.0,2.0,6.0,2.0,2.0,null,4.0,1.0,4.0,2.0,4.0,4.0,1.0,2.0,2.0,2.0,4.0,4.0,5.0,3.0,5.0,2.0,4.0,3.0,3.0,2.0,2.0,3.0,2.0,1.0,3.0,5.0,3.0,2.0,2.0,4.0,3.0,2.0,5.0,2.0,2.0,1.0,null,null,2.0,null,4.0,3.0,2.0,5.0,4.0,1.0,3.0,3.0,3.0,2.0,4.0,3.0,2.0,4.0,2.0,4.0,1.0,2.0,1.0,4.0,3.0,1.0,4.0,4.0,3.0,2.0,2.0,3.0,2.0,3.0,3.0,4.0,2.0,3.0,5.0,1.0,4.0,2.0,2.0,2.0,2.0,2.0,4.0,6.0,4.0,null,3.0,2.0,3.0,4.0,1.0,1.0,7.0,3.0,2.0,3.0,4.0,5.0,3.0,3.0,1.0,4.0,5.0,5.0,3.0,5.0,1.0,5.0,7.0,1.0,1.0,1.0,2.0,4.0,2.0,1.0,6.0,4.0,2.0,3.0,3.0,2.0,2.0,1.0,2.0,3.0,null,5.0,2.0,3.0,2.0,3.0,1.0,1.0,2.0,2.0,4.0,2.0,2.0,2.0,5.0,3.0,1.0,6.0,2.0,6.0,1.0,4.0,2.0,5.0,3.0,4.0,6.0,2.0,1.0,4.0,7.0,2.0,1.0,2.0,4.0,2.0,4.0,null,2.0,1.0,3.0,3.0,4.0,2.0,1.0,4.0,2.0,4.0,1.0,3.0,8.0,3.0,2.0,5.0,5.0,4.0,4.0,3.0,3.0,2.0,1.0,3.0,1.0,3.0,1.0,3.0,7.0,2.0,3.0,2.0,2.0,2.0,6.0,5.0,2.0,1.0,2.0,3.0,2.0,4.0,null,1.0,1.0,2.0,3.0,1.0,2.0,2.0,5.0,null,5.0,2.0,7.0,2.0,3.0,1.0,5.0,5.0,6.0,4.0,2.0,1.0,5.0,3.0,3.0,1.0,1.0,4.0,2.0,2.0,2.0,2.0,5.0,2.0,3.0,8.0,2.0,1.0,3.0,3.0,3.0,2.0,2.0,2.0,4.0,null,4.0,3.0,4.0,2.0,2.0,4.0,4.0,5.0,6.0,2.0,2.0,1.0,1.0,3.0,null,2.0,2.0,3.0,4.0,2.0,3.0,1.0,2.0,1.0,3.0,1.0,4.0,1.0,1.0,3.0,4.0,3.0,3.0,3.0,4.0,2.0,1.0,2.0,4.0,1.0,4.0,5.0,3.0,1.0,2.0,4.0,4.0,3.0,2.0,4.0,1.0,3.0,1.0,2.0,3.0,2.0,null,4.0,3.0,2.0,1.0,1.0,2.0,4.0,1.0,2.0,2.0,4.0,1.0,4.0,4.0,2.0,5.0,4.0,5.0,3.0,4.0,2.0,1.0,2.0,3.0,4.0,3.0,5.0,1.0,1.0,1.0,1.0,4.0,3.0,2.0,4.0,3.0,3.0,1.0,8.0,1.0,3.0,3.0,2.0,2.0,4.0,3.0,4.0,1.0,2.0,2.0,4.0,2.0,1.0,4.0,2.0,5.0,3.0,2.0,2.0,6.0,4.0,2.0,2.0,4.0,5.0,2.0,3.0,1.0,2.0,3.0,1.0,2.0,4.0,2.0,2.0,6.0,4.0,5.0,2.0,1.0,2.0,4.0,9.0,3.0,4.0,2.0,3.0,5.0,3.0,2.0,3.0,1.0,3.0,2.0,3.0,4.0,2.0,4.0,1.0,3.0,6.0,1.0,1.0,6.0,2.0,1.0,3.0,2.0,2.0,1.0,2.0,5.0,2.0,4.0,3.0,4.0,4.0,2.0,3.0,2.0,1.0,1.0,2.0,3.0,2.0,4.0,3.0,1.0,7.0,2.0,1.0,3.0,4.0,2.0,3.0,4.0,4.0,4.0,1.0,4.0,4.0,4.0,1.0,2.0,9.0,2.0,2.0,4.0,4.0,1.0,7.0,3.0,1.0,2.0,5.0,2.0,2.0,3.0,2.0,3.0,5.0,2.0,5.0,4.0,2.0,4.0,4.0,2.0,null,4.0,1.0,null,3.0,null,1.0,1.0,3.0,2.0,2.0,1.0,2.0,9.0,5.0,2.0,2.0,1.0,2.0,1.0,2.0,5.0,5.0,4.0,1.0,5.0,2.0,4.0,4.0,4.0,1.0,6.0,4.0,6.0,3.0,3.0,4.0,3.0,2.0,3.0,7.0,5.0,6.0,3.0,3.0,4.0,2.0,null,2.0,1.0,null,3.0,2.0,3.0,4.0,4.0,1.0,3.0,4.0,null,1.0,4.0,5.0,2.0,2.0,2.0,1.0,null,5.0,1.0,8.0,3.0,3.0,1.0,3.0,2.0,4.0,2.0,2.0,2.0,2.0,2.0,4.0,4.0,2.0,3.0,2.0,3.0,1.0,5.0,1.0,3.0,2.0,2.0,4.0,4.0,4.0,1.0,2.0,1.0,1.0,1.0,4.0,5.0,4.0,6.0,1.0,1.0,2.0,2.0,4.0,3.0,2.0,2.0,4.0,4.0,2.0,4.0,1.0,4.0,3.0,5.0,1.0,5.0,2.0,4.0,3.0,3.0,2.0,2.0,4.0,2.0,1.0,2.0,2.0,2.0,null,1.0,2.0,4.0,3.0,3.0,3.0,1.0,2.0,4.0,1.0,4.0,1.0,3.0,2.0,2.0,2.0,5.0,3.0,2.0,null,3.0,2.0,2.0,7.0,6.0,2.0,3.0,null,2.0,1.0,3.0,3.0,2.0,1.0,5.0,3.0,2.0,4.0,3.0,1.0,2.0,4.0,1.0,3.0,4.0,5.0,3.0,2.0,3.0,2.0,1.0,null,3.0,4.0,2.0,5.0,5.0,3.0,2.0,8.0,3.0,null,4.0,2.0,1.0,4.0,2.0,null,2.0,2.0,2.0,2.0,5.0,4.0,3.0,3.0,5.0,3.0,1.0,4.0,2.0,null,4.0,2.0,3.0,5.0,1.0,2.0,3.0,4.0,3.0,1.0,1.0,7.0,4.0,4.0,4.0,1.0,3.0,2.0,2.0,2.0,2.0,1.0,2.0,7.0,2.0,2.0,3.0,1.0,2.0,1.0,2.0,3.0,1.0,5.0,null,3.0,1.0,2.0,3.0,3.0,null,1.0,3.0,2.0,2.0,null,1.0,3.0,1.0,1.0,1.0,1.0,5.0,3.0,4.0,3.0,4.0,3.0,2.0,2.0,5.0,1.0,7.0,4.0,2.0,4.0,1.0,4.0,2.0,4.0,5.0,2.0,2.0,1.0,4.0,5.0,2.0,3.0,2.0,1.0,5.0,3.0,3.0,2.0,2.0,4.0,4.0,1.0,2.0,2.0,6.0,1.0,5.0,4.0,null,2.0,4.0,1.0,5.0,1.0,5.0,1.0,2.0,4.0,2.0,3.0,1.0,4.0,3.0,3.0,1.0,6.0,4.0,2.0,6.0,2.0,3.0,3.0,1.0,3.0,2.0,1.0,3.0,5.0,6.0,1.0,1.0,4.0,5.0,4.0,2.0,null,1.0,6.0,1.0,4.0,2.0,3.0,1.0,2.0,4.0,6.0,4.0,4.0,2.0,3.0,1.0,4.0,3.0,5.0,9.0,4.0,2.0,5.0,4.0,2.0,2.0,3.0,5.0,4.0,3.0,null,5.0,6.0,2.0,2.0,2.0,4.0,2.0,3.0,3.0,4.0,1.0,2.0,6.0,5.0,null,2.0,null,3.0,2.0,2.0,1.0,4.0,2.0,3.0,2.0,2.0,1.0,2.0,9.0,2.0,1.0,2.0,5.0,7.0,3.0,1.0,2.0,3.0,2.0,5.0,2.0,3.0,2.0,2.0,1.0,4.0,5.0,3.0,2.0,2.0,1.0,2.0,3.0,2.0,2.0,2.0,3.0,2.0,3.0,null,4.0,2.0,2.0,1.0,1.0,3.0,2.0,1.0,2.0,4.0,2.0,2.0,2.0,2.0,2.0,1.0,1.0,4.0,2.0,1.0,4.0,2.0,4.0,4.0,3.0,1.0,2.0,2.0,2.0,2.0,2.0,2.0,4.0,6.0,4.0,2.0,4.0,2.0,1.0,5.0,2.0,6.0,3.0,2.0,2.0,1.0,1.0,1.0,2.0,4.0,4.0,3.0,5.0,1.0,3.0,4.0,5.0,3.0,4.0,2.0,2.0,2.0,2.0,null,4.0,1.0,3.0,1.0,4.0,3.0,5.0,4.0,3.0,2.0,null,2.0,2.0,null,7.0,2.0,5.0,3.0,3.0,3.0,4.0,2.0,2.0,2.0,4.0,1.0,4.0,null,1.0,2.0,1.0,5.0,5.0,3.0,null,2.0,3.0,3.0,3.0,4.0,3.0,2.0,2.0,2.0,6.0,4.0,2.0,4.0,7.0,4.0,2.0,7.0,2.0,2.0,2.0,4.0,5.0,3.0,1.0,4.0,4.0,3.0,7.0,5.0,3.0,5.0,null,4.0,4.0,5.0,3.0,1.0,3.0,4.0,null,2.0,3.0,1.0,5.0,2.0,2.0,1.0,3.0,4.0,3.0,4.0,2.0,4.0,3.0,2.0,4.0,1.0,2.0,2.0,1.0,3.0,2.0,3.0,3.0,1.0,2.0,2.0,2.0,2.0,3.0,2.0,1.0,1.0,2.0,null,1.0,1.0,3.0,5.0,1.0,2.0,2.0,3.0,null,1.0,4.0,5.0,7.0,3.0,4.0,2.0,2.0,2.0,3.0,3.0,3.0,2.0,2.0,1.0,1.0,3.0,2.0,5.0,2.0,1.0,2.0,2.0,4.0,3.0,1.0,4.0,1.0,2.0,4.0,5.0,2.0,1.0,4.0,3.0,3.0,2.0,1.0,3.0,2.0,1.0,1.0,3.0,4.0,5.0,null,4.0,4.0,2.0,5.0,2.0,5.0,1.0,1.0,2.0,3.0,4.0,2.0,1.0,1.0,4.0,2.0,2.0,2.0,5.0,1.0,2.0,2.0,2.0,2.0,2.0,4.0,2.0,1.0,2.0,2.0,1.0,3.0,null,5.0,1.0,null,3.0,2.0,3.0,3.0,3.0,5.0,2.0,1.0,5.0,3.0,2.0,2.0,3.0,1.0,null,3.0,4.0,3.0,null,3.0,3.0,1.0,3.0,5.0,3.0,3.0,2.0,4.0,3.0,4.0,3.0,5.0,2.0,2.0,null,2.0,5.0,1.0,2.0,3.0,2.0,4.0,4.0,3.0,1.0,4.0,4.0,1.0,3.0,1.0,2.0,2.0,1.0,2.0,2.0,2.0,2.0,1.0,1.0,1.0,2.0,2.0,2.0,2.0,2.0,5.0,6.0,4.0,1.0,6.0,4.0,5.0,2.0,3.0,8.0,2.0,1.0,2.0,1.0,2.0,2.0,2.0,3.0,2.0,4.0,4.0,3.0,1.0,2.0,3.0,3.0,5.0,4.0,2.0,1.0,2.0,6.0,1.0,2.0,7.0,5.0,2.0,1.0,4.0,2.0,2.0,5.0,5.0,4.0,1.0,1.0,3.0,5.0,4.0,1.0,3.0,4.0,3.0,4.0,3.0,1.0,2.0,2.0,2.0,5.0,5.0,5.0,null,2.0,5.0,1.0,2.0,3.0,6.0,2.0,1.0,1.0,1.0,3.0,4.0,2.0,3.0,4.0,1.0,2.0,4.0,4.0,3.0,5.0,3.0,3.0,6.0,4.0,null,6.0,2.0,5.0,null,2.0,2.0,1.0,5.0,9.0,7.0,3.0,2.0,4.0,null,4.0,2.0,1.0,2.0,2.0,1.0,1.0,2.0,3.0,2.0,1.0,2.0,1.0,1.0,3.0,1.0,5.0,3.0,1.0,4.0,4.0,1.0,2.0,3.0,4.0,2.0,7.0,2.0,6.0,4.0,4.0,4.0,1.0,4.0,4.0,2.0,2.0,2.0,2.0,4.0,1.0,2.0,2.0,4.0,3.0,7.0,2.0,1.0,2.0,1.0,4.0,1.0,2.0,1.0,6.0,3.0,3.0,4.0,2.0,8.0,1.0,1.0,2.0,2.0,3.0,2.0,1.0,2.0,1.0,4.0,1.0,2.0,4.0,1.0,2.0,1.0,null,4.0,2.0,1.0,5.0,2.0,4.0,5.0,3.0,4.0,2.0,3.0,3.0,1.0,2.0,2.0,null,3.0,null,3.0,2.0,3.0,1.0,3.0,4.0,4.0,2.0,7.0,9.0,5.0,2.0,3.0,2.0,null,4.0,1.0,1.0,5.0,5.0,3.0,3.0,4.0,4.0,4.0,2.0,1.0,2.0,1.0,2.0,1.0,2.0,2.0,5.0,4.0,2.0,2.0,2.0,1.0,2.0,2.0,4.0,null,3.0,2.0,1.0,2.0,2.0,2.0,5.0,2.0,null,2.0,1.0,2.0,2.0,4.0,4.0,5.0,2.0,1.0,3.0,2.0,2.0,1.0,3.0,9.0,1.0,7.0,3.0,4.0,1.0,2.0,3.0,3.0,4.0,null,2.0,2.0,2.0,3.0,4.0,2.0,1.0,3.0,3.0,4.0,5.0,5.0,4.0,3.0,2.0,3.0,2.0,1.0,null,2.0,1.0,2.0,5.0,1.0,1.0,2.0,3.0,2.0,3.0,5.0,9.0,3.0,4.0,2.0,1.0,2.0,6.0,3.0,4.0,4.0,4.0,1.0,2.0,2.0,1.0,4.0,2.0,2.0,3.0,5.0,2.0,3.0,2.0,2.0,3.0,2.0,4.0,2.0,2.0,2.0,2.0,2.0,5.0,4.0,1.0,1.0,2.0,3.0,9.0,null,4.0,3.0,2.0,3.0,3.0,2.0,5.0,3.0,3.0,1.0,2.0,3.0,3.0,4.0,2.0,4.0,1.0,null,4.0,1.0,3.0,2.0,1.0,1.0,3.0,4.0,2.0,3.0,2.0,4.0,6.0,null,null,2.0,2.0,4.0,1.0,1.0,3.0,2.0,4.0,2.0,2.0,4.0,3.0,6.0,2.0,2.0,2.0,3.0,null,2.0,2.0,1.0,2.0,3.0,2.0,2.0,2.0,3.0,3.0,9.0,1.0,1.0,1.0,3.0,3.0,9.0,3.0,1.0,3.0,5.0,1.0,null,2.0,2.0,6.0,3.0,2.0,2.0,2.0,2.0,1.0,2.0,3.0,2.0,5.0,3.0,1.0,2.0,5.0,4.0,3.0,1.0,2.0,2.0,2.0,7.0,1.0,3.0,2.0,4.0,2.0,2.0,2.0,2.0,4.0,1.0,5.0,2.0,4.0,2.0,1.0,4.0,5.0,null,4.0,null,2.0,1.0,4.0,4.0,3.0,3.0,1.0,4.0,2.0,2.0,4.0,1.0,1.0,2.0,7.0,2.0,2.0,2.0,4.0,5.0,3.0,4.0,2.0,1.0,4.0,2.0,5.0,8.0,2.0,4.0,6.0,1.0,5.0,2.0,4.0,3.0,1.0,1.0,1.0,3.0,2.0,3.0,2.0,3.0,3.0,3.0,1.0,2.0,6.0,6.0,2.0,6.0,3.0,1.0,4.0,1.0,2.0,5.0,3.0,2.0,5.0,6.0,4.0,3.0,1.0,5.0,null,4.0,3.0,5.0,3.0,2.0,6.0,2.0,4.0,6.0,5.0,2.0,2.0,4.0,3.0,3.0,3.0,3.0,4.0,2.0,4.0,2.0,3.0,2.0,3.0,4.0,3.0,2.0,3.0,2.0,3.0,1.0,1.0,2.0,2.0,5.0,4.0,2.0,4.0,2.0,1.0,1.0,2.0,4.0,2.0,1.0,1.0,3.0,null,2.0,2.0,3.0,null,1.0,2.0,1.0,2.0,4.0,1.0,null,3.0,3.0,5.0,3.0,1.0,2.0,5.0,4.0,3.0,1.0,3.0,3.0,1.0,5.0,4.0,1.0,4.0,2.0,2.0,2.0,2.0,1.0,5.0,4.0,2.0,4.0,2.0,2.0,1.0,4.0,5.0,3.0,4.0,3.0,3.0,1.0,null,1.0,4.0,1.0,1.0,3.0,4.0,1.0,3.0,1.0,1.0,5.0,3.0,2.0,4.0,1.0,2.0,7.0,null,1.0,3.0,3.0,2.0,3.0,4.0,3.0,1.0,null,4.0,2.0,2.0,6.0,2.0,2.0,4.0,4.0,8.0,3.0,2.0,4.0,1.0,3.0,2.0,2.0,3.0,3.0,2.0,null,2.0,null,null,1.0,2.0,5.0,4.0,4.0,3.0,5.0,2.0,2.0,3.0,1.0,1.0,3.0,5.0,5.0,2.0,3.0,2.0,2.0,1.0,1.0,3.0,1.0,1.0,1.0,1.0,2.0,3.0,2.0,4.0,2.0,4.0,4.0,4.0,4.0,4.0,4.0,2.0,1.0,2.0,2.0,2.0,3.0,2.0,5.0,3.0,1.0,4.0,3.0,2.0,4.0,3.0,2.0,1.0,4.0,9.0,1.0,2.0,5.0,3.0,7.0,4.0,null,4.0,2.0,1.0,2.0,null,3.0,1.0,6.0,2.0,1.0,2.0,4.0,3.0,3.0,1.0,2.0,1.0,1.0,1.0,4.0,1.0,5.0,2.0,2.0,5.0,3.0,1.0,2.0,null,2.0,1.0,5.0,null,2.0,1.0,2.0,1.0,5.0,4.0,1.0,2.0,3.0,3.0,4.0,5.0,2.0,4.0,2.0,2.0,null,3.0,2.0,2.0,5.0,3.0,2.0,2.0,1.0,4.0,2.0,1.0,1.0,5.0,5.0,2.0,2.0,5.0,1.0,4.0,2.0,1.0,3.0,1.0,2.0,5.0,2.0,1.0,2.0,1.0,null,2.0,3.0,2.0,1.0,5.0,4.0,6.0,2.0,1.0,4.0,4.0,1.0,4.0,4.0,1.0,1.0,null,1.0,4.0,6.0,2.0,2.0,4.0,2.0,2.0,1.0,3.0,4.0,3.0,1.0,2.0,5.0,4.0,1.0,2.0,2.0,1.0,2.0,1.0,2.0,2.0,2.0,4.0,2.0,1.0,7.0,3.0,4.0,1.0,4.0,2.0,4.0,2.0,2.0,1.0,4.0,4.0,3.0,2.0,1.0,2.0,1.0,4.0,4.0,1.0,1.0,3.0,2.0,4.0,2.0,1.0,2.0,2.0,3.0,1.0,2.0,null,1.0,3.0,3.0,1.0,2.0,3.0,2.0,4.0,null,2.0,1.0,3.0,5.0,4.0,4.0,4.0,2.0,4.0,5.0,3.0,1.0,2.0,2.0,1.0,5.0,2.0,null,4.0,7.0,1.0,4.0,4.0,4.0,5.0,5.0,9.0,4.0,3.0,3.0,3.0,2.0,1.0,1.0,6.0,2.0,4.0,4.0,5.0,4.0,3.0,4.0,4.0,1.0,2.0,3.0,3.0,4.0,5.0,4.0,2.0,2.0,3.0,3.0,2.0,1.0,2.0,1.0,4.0,1.0,null,2.0,4.0,1.0,4.0,2.0,3.0,1.0,2.0,2.0,2.0,3.0,1.0,2.0,2.0,1.0,1.0,1.0,4.0,1.0,1.0,4.0,4.0,3.0,4.0,4.0,5.0,2.0,2.0,2.0,null,2.0,4.0,2.0,2.0,2.0,1.0,4.0,3.0,2.0,2.0,1.0,1.0,4.0,2.0,2.0,1.0,4.0,2.0,3.0,2.0,1.0,1.0,2.0,2.0,3.0,5.0,4.0,4.0,7.0,2.0,3.0,1.0,2.0,4.0,2.0,4.0,2.0,2.0,null,3.0,1.0,4.0,1.0,6.0,2.0,1.0,4.0,null,2.0,2.0,3.0,2.0,2.0,1.0,5.0,2.0,2.0,2.0,2.0,2.0,2.0,9.0,7.0,4.0,2.0,3.0,2.0,4.0,2.0,4.0,1.0,1.0,2.0,5.0,5.0,1.0,3.0,1.0,2.0,5.0,3.0,4.0,5.0,3.0,2.0,3.0,2.0,6.0,3.0,3.0,null,4.0,5.0,5.0,1.0,1.0,4.0,2.0,2.0,5.0,2.0,3.0,5.0,2.0,3.0,2.0,2.0,3.0,3.0,3.0,4.0,3.0,5.0,5.0,4.0,5.0,1.0,1.0,3.0,4.0,1.0,2.0,5.0,3.0,1.0,4.0,5.0,3.0,4.0,2.0,1.0,2.0,2.0,2.0,4.0,2.0,2.0,2.0,4.0,2.0,3.0,4.0,2.0,3.0,1.0,3.0,2.0,6.0,2.0,4.0,5.0,null,2.0,3.0,1.0,1.0,2.0,4.0,1.0,2.0,2.0,3.0,3.0,1.0,4.0,4.0,null,2.0,3.0,2.0,4.0,6.0,3.0,1.0,1.0,2.0,2.0,3.0,1.0,null,2.0,3.0,5.0,1.0,4.0,2.0,2.0,2.0,2.0,3.0,1.0,2.0,2.0,null,1.0,5.0,2.0,1.0,3.0,1.0,null,2.0,8.0,4.0,4.0,2.0,8.0,3.0,2.0,4.0,1.0,3.0,1.0,5.0,3.0,2.0,1.0,2.0,2.0,4.0,4.0,1.0,2.0,3.0,3.0,2.0,3.0,4.0,2.0,2.0,3.0,4.0,2.0,2.0,3.0,3.0,2.0,3.0,1.0,2.0,3.0,4.0,4.0,2.0,4.0,2.0,1.0,2.0,2.0,4.0,2.0,2.0,2.0,3.0,2.0,2.0,4.0,1.0,1.0,3.0,1.0,4.0,1.0,5.0,5.0,7.0,2.0,2.0,3.0,null,4.0,2.0,1.0,2.0,2.0,5.0,2.0,2.0,3.0,1.0,2.0,1.0,2.0,5.0,1.0,4.0,2.0,3.0,4.0,6.0,3.0,1.0,2.0,3.0,2.0,4.0,2.0,4.0,3.0,5.0,2.0,6.0,4.0,1.0,8.0,4.0,8.0,1.0,null,7.0,5.0,1.0,2.0,3.0,5.0,4.0,2.0,3.0,4.0,2.0,4.0,3.0,2.0,2.0,2.0,4.0,3.0,4.0,5.0,3.0,1.0,2.0,3.0,2.0,3.0,2.0,2.0,2.0,1.0,1.0,5.0,3.0,2.0,2.0,4.0,2.0,3.0,3.0,3.0,1.0,1.0,4.0,5.0,1.0,1.0,2.0,3.0,1.0,2.0,4.0,2.0,3.0,3.0,4.0,6.0,2.0,2.0,2.0,4.0,1.0,6.0,2.0,4.0,2.0,2.0,3.0,2.0,4.0,1.0,4.0,3.0,2.0,1.0,1.0,3.0,null,3.0,2.0,4.0,4.0,2.0,null,2.0,1.0,3.0,2.0,3.0,1.0,3.0,3.0,4.0,2.0,3.0,2.0,2.0,9.0,2.0,1.0,4.0,4.0,2.0,1.0,1.0,6.0,8.0,5.0,3.0,4.0,3.0,2.0,2.0,1.0,2.0,4.0,2.0,3.0,5.0,5.0,null,3.0,7.0,1.0,5.0,1.0,4.0,4.0,3.0,null,1.0,3.0,3.0,2.0,2.0,1.0,3.0,2.0,3.0,1.0,1.0,null,5.0,2.0,3.0,2.0,2.0,2.0,2.0,null,3.0,1.0,null,6.0,3.0,8.0,2.0,3.0,2.0,1.0,1.0,2.0,2.0,2.0,2.0,1.0,3.0,4.0,3.0,2.0,1.0,4.0,2.0,5.0,4.0,1.0,4.0,3.0,6.0,1.0,4.0,null,5.0,2.0,3.0,3.0,7.0,2.0,2.0,2.0,5.0,3.0,6.0,3.0,3.0,2.0,2.0,1.0,4.0,2.0,6.0,3.0,4.0,1.0,4.0,4.0,5.0,5.0,3.0,2.0,3.0,1.0,null,2.0,1.0,3.0,2.0,2.0,3.0,4.0,2.0,1.0,2.0,2.0,3.0,4.0,2.0,3.0,1.0,2.0,3.0,4.0,3.0,2.0,3.0,1.0,1.0,2.0,1.0,2.0,2.0,4.0,3.0,1.0,null,6.0,3.0,4.0,3.0,2.0,2.0,2.0,2.0,3.0,4.0,7.0,null,4.0,5.0,3.0,2.0,1.0,1.0,2.0,3.0,2.0,null,7.0,null,1.0,1.0,1.0,1.0,1.0,7.0,4.0,5.0,4.0,2.0,2.0,null,4.0,2.0,3.0,3.0,4.0,4.0,8.0,1.0,2.0,3.0,null,3.0,2.0,1.0,2.0,5.0,2.0,4.0,2.0,1.0,4.0,2.0,2.0,4.0,1.0,2.0,3.0,3.0,4.0,2.0,2.0,1.0,5.0,5.0,4.0,3.0,4.0,2.0,null,5.0,2.0,1.0,3.0,4.0,2.0,3.0,3.0,1.0,3.0,2.0,2.0,3.0,4.0,2.0,3.0,3.0,4.0,6.0,2.0,null,3.0,4.0,1.0,1.0,1.0,4.0,2.0,3.0,2.0,8.0,3.0,4.0,1.0,2.0,3.0,3.0,2.0,3.0,1.0,5.0,2.0,3.0,1.0,5.0,1.0,2.0,3.0,5.0,2.0,2.0,3.0,2.0,2.0,1.0,2.0,4.0,4.0,6.0,5.0,1.0,2.0,null,2.0,3.0,1.0,2.0,null,2.0,2.0,2.0,null,5.0,4.0,5.0,5.0,2.0,2.0,3.0,1.0,1.0,3.0,2.0,2.0,4.0,2.0,null,3.0,1.0,2.0,1.0,2.0,2.0,5.0,2.0,1.0,4.0,4.0,4.0,1.0,1.0,2.0,2.0,2.0,3.0,1.0,4.0,3.0,2.0,2.0,5.0,3.0,2.0,3.0,null,2.0,3.0,4.0,5.0,3.0,4.0,1.0,3.0,5.0,1.0,4.0,2.0,4.0,3.0,2.0,2.0,2.0,2.0,2.0,3.0,2.0,1.0,3.0,3.0,2.0,4.0,3.0,2.0,3.0,1.0,4.0,5.0,3.0,5.0,null,2.0,2.0,4.0,2.0,2.0,2.0,3.0,4.0,3.0,5.0,2.0,3.0,4.0,2.0,1.0,4.0,2.0,null,4.0,2.0,2.0,4.0,2.0,1.0,2.0,4.0,2.0,3.0,null,1.0,2.0,4.0,1.0,3.0,1.0,3.0,3.0,2.0,2.0,3.0,1.0,4.0,4.0,2.0,2.0,6.0,6.0,1.0,2.0,1.0,2.0,3.0,2.0,4.0,4.0,4.0,2.0,2.0,3.0,null,1.0,2.0,3.0,4.0,5.0,1.0,3.0,1.0,1.0,3.0,1.0,5.0,1.0,4.0,4.0,5.0,4.0,2.0,2.0,1.0,1.0,2.0,3.0,2.0,1.0,2.0,3.0,3.0,5.0,3.0,2.0,4.0,1.0,4.0,2.0,4.0,3.0,1.0,2.0,2.0,null,1.0,4.0,5.0,3.0,2.0,2.0,3.0,2.0,5.0,4.0,6.0,3.0,2.0,3.0,2.0,2.0,4.0,3.0,3.0,3.0,3.0,5.0,1.0,1.0,3.0,3.0,3.0,1.0,2.0,2.0,2.0,4.0,4.0,1.0,3.0,6.0,2.0,2.0,1.0,1.0,1.0,2.0,4.0,2.0,1.0,2.0,1.0,5.0,7.0,2.0,3.0,5.0,3.0,4.0,5.0,1.0,5.0,5.0,2.0,2.0,2.0,2.0,2.0,2.0,6.0,2.0,2.0,2.0,4.0,6.0,9.0,3.0,2.0,4.0,7.0,2.0,5.0,1.0,4.0,2.0,1.0,3.0,6.0,5.0,3.0,4.0,3.0,2.0,1.0,6.0,5.0,4.0,3.0,4.0,3.0,1.0,2.0,1.0,3.0,4.0,4.0,1.0,5.0,3.0,3.0,1.0,3.0,4.0,4.0,4.0,3.0,2.0,4.0,3.0,2.0,4.0,1.0,1.0,3.0,5.0,4.0,4.0,2.0,1.0,3.0,2.0,3.0,4.0,null,2.0,1.0,null,null,2.0,3.0,2.0,null,7.0,2.0,3.0,4.0,3.0,5.0,null,3.0,5.0,2.0,null,2.0,3.0,2.0,2.0,3.0,5.0,1.0,2.0,4.0,3.0,1.0,2.0,2.0,4.0,4.0,1.0,1.0,5.0,2.0,4.0,2.0,3.0,null,6.0,6.0,2.0,2.0,null,6.0,3.0,1.0,5.0,2.0,2.0,1.0,5.0,2.0,1.0,2.0,2.0,2.0,null,3.0,1.0,5.0,4.0,3.0,3.0,3.0,4.0,2.0,3.0,3.0,2.0,5.0,7.0,1.0,3.0,4.0,2.0,3.0,1.0,5.0,3.0,4.0,2.0,null,3.0,6.0,2.0,2.0,2.0,3.0,2.0,1.0,4.0,4.0,2.0,2.0,1.0,null,3.0,4.0,4.0,2.0,1.0,5.0,1.0,4.0,1.0,4.0,3.0,2.0,5.0,1.0,null,1.0,8.0,2.0,2.0,3.0,1.0,2.0,4.0,2.0,4.0,1.0,3.0,1.0,2.0,2.0,2.0,6.0,4.0,2.0,3.0,5.0,2.0,1.0,4.0,8.0,3.0,6.0,1.0,2.0,2.0,4.0,2.0,2.0,2.0,1.0,2.0,3.0,3.0,4.0,2.0,3.0,2.0,1.0,3.0,4.0,5.0,2.0,2.0,3.0,5.0,4.0,2.0,3.0,1.0,3.0,1.0,1.0,8.0,1.0,2.0,4.0,2.0,2.0,4.0,2.0,2.0,null,4.0,null,1.0,2.0,3.0,3.0,5.0,2.0,3.0,3.0,2.0,3.0,5.0,2.0,5.0,2.0,2.0,3.0,3.0,3.0,3.0,2.0,4.0,2.0,3.0,2.0,3.0,2.0,1.0,5.0,1.0,3.0,3.0,2.0,4.0,2.0,5.0,2.0,1.0,1.0,1.0,2.0,2.0,4.0,6.0,1.0,4.0,4.0,3.0,2.0,2.0,2.0,3.0,6.0,3.0,3.0,3.0,2.0,4.0,6.0,2.0,4.0,1.0,1.0,3.0,3.0,3.0,2.0,null,1.0,1.0,2.0,4.0,null,null,5.0,4.0,2.0,5.0,2.0,4.0,1.0,4.0,1.0,1.0,4.0,2.0,4.0,2.0,4.0,2.0,6.0,3.0,4.0,2.0,3.0,1.0,5.0,4.0,1.0,1.0,3.0,1.0,5.0,3.0,null,4.0,2.0,2.0,2.0,2.0,3.0,8.0,3.0,1.0,3.0,2.0,4.0,2.0,null,1.0,3.0,4.0,2.0,null,4.0,6.0,1.0,2.0,2.0,7.0,2.0,2.0,2.0,2.0,1.0,3.0,4.0,4.0,2.0,8.0,6.0,4.0,9.0,4.0,4.0,3.0,1.0,4.0,3.0,2.0,6.0,2.0,1.0,3.0,2.0,3.0,2.0,2.0,1.0,4.0,4.0,4.0,5.0,2.0,5.0,2.0,2.0,3.0,4.0,2.0,4.0,3.0,3.0,3.0,null,4.0,2.0,3.0,4.0,2.0,2.0,1.0,6.0,1.0,1.0,4.0,3.0,4.0,1.0,4.0,1.0,3.0,3.0,3.0,3.0,1.0,2.0,4.0,1.0,5.0,2.0,5.0,1.0,3.0,4.0,2.0,2.0,9.0,1.0,null,4.0,2.0,4.0,3.0,3.0,5.0,4.0,4.0,null,2.0,2.0,2.0,2.0,2.0,4.0,3.0,4.0,2.0,3.0,4.0,5.0,1.0,3.0,1.0,2.0,2.0,1.0,3.0,4.0,5.0,1.0,1.0,2.0,1.0,2.0,2.0,1.0,1.0,4.0,2.0,5.0,3.0,3.0,null,5.0,3.0,2.0,2.0,2.0,1.0,null,3.0,2.0,3.0,5.0,1.0,5.0,5.0,4.0,1.0,2.0,4.0,1.0,1.0,null,1.0,5.0,4.0,1.0,2.0,5.0,4.0,1.0,2.0,1.0,4.0,4.0,2.0,2.0,4.0,7.0,null,4.0,4.0,1.0,3.0,4.0,4.0,3.0,1.0,2.0,1.0,5.0,5.0,2.0,3.0,7.0,2.0,4.0,1.0,1.0,5.0,4.0,2.0,1.0,2.0,7.0,4.0,3.0,3.0,8.0,2.0,3.0,4.0,2.0,3.0,4.0,1.0,4.0,2.0,2.0,3.0,4.0,1.0,1.0,5.0,2.0,1.0,4.0,4.0,2.0,2.0,4.0,2.0,6.0,3.0,1.0,2.0,1.0,3.0,1.0,4.0,2.0,1.0,2.0,4.0,1.0,null,4.0,2.0,2.0,3.0,2.0,3.0,3.0,2.0,1.0,2.0,2.0,4.0,2.0,1.0,3.0,2.0,2.0,2.0,5.0,2.0,3.0,1.0,5.0,1.0,4.0,3.0,1.0,7.0,1.0,3.0,4.0,2.0,1.0,4.0,4.0,2.0,2.0,1.0,1.0,3.0,3.0,2.0,2.0,2.0,2.0,3.0,3.0,2.0,3.0,2.0,4.0,2.0,2.0,4.0,2.0,4.0,null,1.0,6.0,4.0,1.0,3.0,1.0,4.0,null,1.0,null,3.0,1.0,4.0,5.0,4.0,4.0,5.0,2.0,4.0,3.0,3.0,4.0,2.0,4.0,6.0,3.0,null,3.0,1.0,null,2.0,3.0,4.0,3.0,7.0,3.0,2.0,3.0,4.0,null,2.0,2.0,9.0,2.0,1.0,1.0,3.0,3.0,1.0,2.0,9.0,5.0,2.0,1.0,2.0,1.0,1.0,7.0,5.0,1.0,6.0,4.0,2.0,null,3.0,7.0,1.0,2.0,2.0,2.0,1.0,1.0,1.0,3.0,5.0,2.0,5.0,2.0,1.0,3.0,1.0,4.0,2.0,4.0,2.0,1.0,4.0,2.0,1.0,3.0,4.0,1.0,1.0,4.0,1.0,1.0,5.0,2.0,5.0,3.0,4.0,3.0,5.0,2.0,2.0,3.0,3.0,5.0,5.0,2.0,2.0,4.0,3.0,6.0,1.0,3.0,3.0,2.0,2.0,2.0,4.0,1.0,4.0,3.0,4.0,3.0,2.0,3.0,4.0,1.0,3.0,4.0,2.0,2.0,null,1.0,4.0,2.0,1.0,4.0,3.0,2.0,1.0,1.0,1.0,2.0,2.0,3.0,3.0,3.0,4.0,2.0,4.0,3.0,2.0,2.0,2.0,2.0,4.0,2.0,1.0,2.0,7.0,1.0,2.0,3.0,2.0,2.0,2.0,1.0,3.0,6.0,9.0,5.0,2.0,3.0,3.0,2.0,1.0,7.0,4.0,3.0,6.0,1.0,1.0,4.0,2.0,3.0,3.0,4.0,1.0,3.0,null,1.0,1.0,4.0,4.0,4.0,1.0,4.0,3.0,3.0,2.0,null,4.0,4.0,3.0,6.0,1.0,1.0,3.0,2.0,1.0,3.0,1.0,4.0,4.0,4.0,2.0,1.0,1.0,2.0,1.0,2.0,3.0,1.0,6.0,4.0,3.0,2.0,4.0,1.0,3.0,3.0,4.0,2.0,4.0,1.0,2.0,2.0,2.0,2.0,3.0,2.0,2.0,5.0,2.0,3.0,1.0,3.0,1.0,1.0,3.0,1.0,1.0,4.0,2.0,1.0,3.0,1.0,3.0,1.0,3.0,null,2.0,4.0,2.0,4.0,1.0,1.0,2.0,2.0,2.0,null,6.0,1.0,2.0,4.0,1.0,2.0,3.0,2.0,2.0,3.0,1.0,1.0,4.0,null,4.0,4.0,1.0,2.0,1.0,1.0,4.0,2.0,5.0,1.0,4.0,2.0,2.0,3.0,2.0,3.0,4.0,4.0,1.0,4.0,4.0,3.0,4.0,4.0,2.0,1.0,4.0,2.0,2.0,2.0,2.0,5.0,2.0,3.0,2.0,null,5.0,3.0,1.0,3.0,2.0,2.0,2.0,5.0,1.0,3.0,3.0,2.0,2.0,2.0,3.0,1.0,3.0,1.0,1.0,2.0,1.0,1.0,5.0,1.0,4.0,4.0,3.0,2.0,1.0,5.0,3.0,3.0,5.0,4.0,3.0,4.0,2.0,null,3.0,2.0,2.0,1.0,1.0,2.0,2.0,2.0,1.0,3.0,3.0,2.0,8.0,3.0,3.0,3.0,1.0,2.0,2.0,4.0,2.0,2.0,4.0,4.0,1.0,4.0,4.0,2.0,1.0,1.0,5.0,4.0,2.0,2.0,1.0,4.0,4.0,2.0,6.0,3.0,4.0,1.0,1.0,1.0,2.0,1.0,5.0,2.0,2.0,1.0,2.0,1.0,6.0,1.0,2.0,3.0,5.0,5.0,1.0,2.0,4.0,2.0,4.0,4.0,3.0,3.0,2.0,1.0,7.0,4.0,null,1.0,2.0,4.0,5.0,3.0,4.0,2.0,4.0,1.0,3.0,2.0,1.0,1.0,3.0,4.0,1.0,7.0,4.0,6.0,7.0,4.0,2.0,2.0,6.0,6.0,3.0,2.0,1.0,null,8.0,4.0,2.0,2.0,null,4.0,1.0,4.0,3.0,2.0,2.0,2.0,3.0,2.0,2.0,3.0,2.0,3.0,2.0,4.0,7.0,1.0,4.0,null,1.0,4.0,2.0,1.0,2.0,2.0,3.0,2.0,2.0,4.0,1.0,3.0,4.0,4.0,5.0,3.0,3.0,3.0,3.0,4.0,8.0,1.0,4.0,4.0,1.0,4.0,9.0,3.0,2.0,3.0,2.0,6.0,3.0,2.0,4.0,3.0,1.0,2.0,2.0,2.0,2.0,4.0,5.0,4.0,5.0,7.0,3.0,5.0,1.0,4.0,4.0,null,4.0,null,3.0,null,3.0,3.0,6.0,null,1.0,1.0,1.0,3.0,3.0,3.0,3.0,1.0,3.0,1.0,2.0,3.0,1.0,2.0,2.0,2.0,2.0,5.0,2.0,1.0,3.0,1.0,3.0,3.0,4.0,1.0,2.0,2.0,2.0,2.0,4.0,5.0,1.0,1.0,4.0,3.0,2.0,3.0,5.0,2.0,2.0,5.0,1.0,3.0,5.0,4.0,1.0,1.0,3.0,5.0,5.0,1.0,1.0,2.0,4.0,2.0,2.0,5.0,2.0,1.0,7.0,2.0,2.0,2.0,2.0,3.0,1.0,2.0,3.0,2.0,2.0,4.0,2.0,2.0,3.0,5.0,4.0,2.0,7.0,2.0,null,2.0,2.0,5.0,2.0,1.0,2.0,2.0,4.0,4.0,5.0,4.0,2.0,2.0,5.0,1.0,5.0,4.0,3.0,1.0,3.0,4.0,2.0,1.0,3.0,4.0,8.0,2.0,3.0,null,2.0,4.0,3.0,3.0,null,2.0,2.0,4.0,2.0,1.0,1.0,4.0,2.0,2.0,1.0,1.0,2.0,1.0,1.0,9.0,4.0,4.0,4.0,3.0,3.0,3.0,null,2.0,2.0,5.0,2.0,5.0,4.0,2.0,2.0,2.0,4.0,3.0,1.0,4.0,2.0,4.0,4.0,1.0,2.0,3.0,1.0,4.0,3.0,1.0,5.0,3.0,2.0,1.0,2.0,3.0,6.0,1.0,null,2.0,3.0,2.0,null,null,2.0,1.0,3.0,1.0,3.0,4.0,2.0,4.0,2.0,4.0,2.0,2.0,4.0,6.0,2.0,4.0,5.0,3.0,1.0,4.0,null,3.0,2.0,4.0,2.0,2.0,3.0,2.0,1.0,1.0,1.0,4.0,2.0,3.0,5.0,4.0,4.0,5.0,2.0,2.0,2.0,5.0,1.0,3.0,1.0,2.0,2.0,2.0,5.0,3.0,3.0,1.0,5.0,4.0,8.0,3.0,4.0,4.0,1.0,4.0,3.0,3.0,2.0,4.0,3.0,1.0,2.0,2.0,2.0,5.0,1.0,5.0,4.0,3.0,1.0,null,1.0,2.0,3.0,1.0,3.0,6.0,2.0,5.0,3.0,5.0,1.0,1.0,2.0,2.0,1.0,1.0,5.0,4.0,2.0,1.0,1.0,2.0,4.0,4.0,3.0,2.0,3.0,4.0,4.0,2.0,1.0,3.0,4.0,1.0,2.0,2.0,2.0,2.0,2.0,3.0,4.0,2.0,2.0,3.0,null,3.0,2.0,1.0,3.0,4.0,3.0,4.0,3.0,2.0,2.0,2.0,2.0,2.0,4.0,3.0,8.0,1.0,1.0,1.0,4.0,4.0,5.0,2.0,3.0,4.0,4.0,2.0,2.0,2.0,1.0,4.0,5.0,5.0,null,2.0,2.0,1.0,2.0,2.0,2.0,1.0,2.0,2.0,1.0,4.0,6.0,3.0,3.0,2.0,4.0,2.0,4.0,5.0,1.0,2.0,3.0,2.0,3.0,2.0,4.0,1.0,2.0,1.0,2.0,3.0,null,3.0,5.0,4.0,1.0,6.0,5.0,1.0,null,2.0,2.0,3.0,2.0,2.0,2.0,4.0,5.0,5.0,1.0,1.0,3.0,2.0,1.0,1.0,5.0,4.0,4.0,3.0,1.0,1.0,5.0,4.0,6.0,4.0,3.0,3.0,4.0,null,1.0,null,2.0,4.0,1.0,2.0,2.0,3.0,3.0,2.0,3.0,7.0,2.0,5.0,2.0,2.0,4.0,6.0,2.0,2.0,3.0,4.0,3.0,3.0,2.0,3.0,3.0,null,3.0,5.0,4.0,6.0,5.0,2.0,3.0,3.0,1.0,2.0,3.0,2.0,2.0,5.0,3.0,2.0,1.0,2.0,2.0,4.0,5.0,2.0,5.0,2.0,1.0,2.0,2.0,1.0,2.0,2.0,3.0,3.0,2.0,1.0,2.0,5.0,6.0,2.0,2.0,5.0,2.0,4.0,4.0,null,4.0,2.0,1.0,6.0,5.0,4.0,3.0,5.0,1.0,3.0,6.0,4.0,1.0,7.0,5.0,1.0,3.0,2.0,4.0,2.0,2.0,2.0,1.0,1.0,2.0,4.0,3.0,4.0,2.0,3.0,4.0,2.0,4.0,1.0,4.0,1.0,4.0,null,5.0,5.0,1.0,4.0,4.0,2.0,2.0,1.0,4.0,1.0,2.0,1.0,3.0,2.0,4.0,3.0,6.0,2.0,null,1.0,2.0,2.0,2.0,1.0,2.0,1.0,4.0,4.0,1.0,4.0,1.0,2.0,3.0,5.0,3.0,4.0,6.0,2.0,5.0,5.0,4.0,2.0,1.0,2.0,4.0,3.0,2.0,2.0,3.0,4.0,5.0,5.0,2.0,4.0,2.0,4.0,2.0,2.0,1.0,5.0,7.0,3.0,4.0,2.0,1.0,3.0,3.0,4.0,2.0,1.0,1.0,3.0,6.0,2.0,4.0,1.0,4.0,5.0,3.0,6.0,1.0,2.0,3.0,4.0,2.0,4.0,3.0,2.0,6.0,2.0,2.0,1.0,null,3.0,1.0,2.0,1.0,4.0,null,4.0,4.0,9.0,5.0,2.0,2.0,null,4.0,3.0,2.0,2.0,2.0,3.0,1.0,1.0,2.0,null,2.0,2.0,4.0,2.0,3.0,4.0,2.0,3.0,6.0,2.0,2.0,4.0,2.0,2.0,5.0,1.0,3.0,2.0,2.0,6.0,5.0,2.0,8.0,4.0,4.0,4.0,2.0,1.0,4.0,4.0,2.0,2.0,2.0,null,1.0,2.0,2.0,null,3.0,1.0,7.0,4.0,1.0,4.0,2.0,5.0,1.0,4.0,5.0,2.0,3.0,3.0,3.0,6.0,4.0,2.0,2.0,1.0,1.0,1.0,4.0,1.0,4.0,2.0,2.0,2.0,3.0,2.0,5.0,4.0,3.0,3.0,1.0,2.0,3.0,2.0,5.0,null,1.0,2.0,1.0,3.0,2.0,2.0,4.0,2.0,2.0,2.0,null,4.0,4.0,2.0,3.0,2.0,1.0,3.0,7.0,5.0,4.0,4.0,2.0,4.0,2.0,5.0,2.0,2.0,2.0,1.0,5.0,4.0,2.0,1.0,4.0,1.0,3.0,3.0,5.0,3.0,1.0,6.0,2.0,4.0,2.0,1.0,3.0,5.0,2.0,5.0,5.0,2.0,3.0,2.0,2.0,3.0,2.0,3.0,1.0,3.0,2.0,3.0,5.0,3.0,2.0,6.0,5.0,2.0,3.0,1.0,2.0,3.0,2.0,3.0,3.0,4.0,2.0,2.0,3.0,2.0,2.0,2.0,4.0,2.0,6.0,4.0,2.0,3.0,4.0,null,4.0,4.0,1.0,6.0,1.0,2.0,4.0,3.0,3.0,null,2.0,4.0,1.0,2.0,2.0,1.0,3.0,4.0,3.0,7.0,2.0,2.0,2.0,2.0,1.0,5.0,5.0,8.0,5.0,3.0,2.0,2.0,4.0,1.0,1.0,4.0,4.0,1.0,3.0,6.0,4.0,3.0,1.0,3.0,2.0,1.0,5.0,5.0,1.0,4.0,1.0,6.0,2.0,3.0,3.0,2.0,1.0,3.0,1.0,9.0,1.0,4.0,5.0,2.0,3.0,4.0,5.0,3.0,2.0,1.0,2.0,5.0,null,3.0,2.0,1.0,1.0,1.0,2.0,2.0,2.0,2.0,5.0,4.0,2.0,4.0,null,1.0,6.0,8.0,5.0,3.0,1.0,4.0,2.0,1.0,3.0,1.0,1.0,4.0,1.0,2.0,3.0,4.0,4.0,1.0,1.0,8.0,2.0,2.0,2.0,4.0,1.0,6.0,null,2.0,1.0,4.0,4.0,2.0,2.0,1.0,1.0,2.0,4.0,1.0,9.0,null,3.0,1.0,4.0,2.0,3.0,3.0,4.0,1.0,4.0,3.0,1.0,2.0,1.0,2.0,2.0,3.0,null,2.0,1.0,6.0,9.0,4.0,3.0,1.0,2.0,5.0,2.0,1.0,3.0,1.0,1.0,4.0,3.0,1.0,2.0,2.0,3.0,5.0,2.0,4.0,2.0,3.0,4.0,6.0,1.0,7.0,2.0,1.0,1.0,1.0,null,4.0,5.0,5.0,null,4.0,2.0,2.0,2.0,4.0,4.0,4.0,3.0,1.0,2.0,2.0,2.0,5.0,3.0,3.0,null,2.0,4.0,1.0,2.0,3.0,3.0,2.0,2.0,4.0,2.0,1.0,2.0,1.0,4.0,4.0,1.0,2.0,2.0,2.0,4.0,4.0,2.0,4.0,2.0,1.0,4.0,2.0,1.0,4.0,2.0,4.0,2.0,2.0,3.0,2.0,4.0,4.0,2.0,3.0,1.0,2.0,3.0,2.0,2.0,3.0,3.0,null,null,1.0,2.0,6.0,1.0,6.0,6.0,null,2.0,1.0,1.0,3.0,2.0,5.0,null,2.0,2.0,1.0,null,3.0,null,1.0,4.0,2.0,2.0,2.0,2.0,null,1.0,3.0,3.0,6.0,3.0,3.0,2.0,4.0,3.0,3.0,1.0,2.0,2.0,3.0,3.0,3.0,2.0,null,2.0,1.0,null,6.0,2.0,2.0,5.0,6.0,6.0,2.0,4.0,2.0,5.0,5.0,2.0,3.0,2.0,2.0,2.0,1.0,6.0,1.0,null,1.0,3.0,4.0,4.0,2.0,2.0,3.0,3.0,7.0,3.0,2.0,4.0,3.0,3.0,2.0,1.0,5.0,2.0,2.0,1.0,1.0,2.0,3.0,1.0,3.0,2.0,1.0,2.0,2.0,3.0,1.0,1.0,4.0,3.0,2.0,1.0,2.0,1.0,2.0,3.0,2.0,4.0,4.0,2.0,8.0,1.0,3.0,2.0,4.0,1.0,6.0,2.0,1.0,4.0,2.0,5.0,5.0,1.0,2.0,3.0,1.0,2.0,1.0,3.0,2.0,8.0,2.0,4.0,8.0,5.0,4.0,4.0,1.0,1.0,4.0,4.0,6.0,1.0,5.0,1.0,3.0,5.0,3.0,2.0,2.0,1.0,1.0,2.0,2.0,1.0,8.0,4.0,1.0,2.0,3.0,3.0,2.0,3.0,5.0,4.0,2.0,3.0,2.0,4.0,3.0,3.0,2.0,3.0,2.0,1.0,1.0,2.0,2.0,1.0,4.0,2.0,2.0,4.0,1.0,2.0,1.0,4.0,1.0,2.0,2.0,1.0,5.0,5.0,3.0,4.0,4.0,3.0,5.0,1.0,2.0,4.0,4.0,3.0,5.0,3.0,5.0,3.0,1.0,3.0,3.0,2.0,5.0,3.0,3.0,1.0,2.0,5.0,3.0,5.0,2.0,2.0,4.0,4.0,3.0,4.0,7.0,2.0,1.0,1.0,2.0,null,4.0,3.0,5.0,2.0,1.0,4.0,1.0,3.0,2.0,null,7.0,1.0,1.0,2.0,2.0,5.0,2.0,2.0,4.0,2.0,2.0,1.0,1.0,1.0,4.0,4.0,2.0,2.0,5.0,1.0,8.0,2.0,2.0,1.0,2.0,1.0,4.0,2.0,4.0,1.0,4.0,3.0,null,3.0,4.0,3.0,2.0,2.0,2.0,2.0,4.0,1.0,2.0,2.0,1.0,1.0,null,4.0,2.0,3.0,2.0,2.0,6.0,3.0,2.0,2.0,2.0,6.0,2.0,4.0,3.0,2.0,2.0,2.0,6.0,4.0,2.0,2.0,2.0,2.0,5.0,3.0,5.0,2.0,2.0,1.0,1.0,2.0,3.0,2.0,3.0,null,4.0,1.0,4.0,3.0,4.0,2.0,2.0,6.0,3.0,1.0,1.0,4.0,1.0,2.0,null,4.0,2.0,2.0,null,2.0,4.0,3.0,7.0,1.0,5.0,2.0,4.0,1.0,3.0,4.0,2.0,2.0,3.0,1.0,2.0,5.0,3.0,5.0,2.0,2.0,4.0,4.0,2.0,3.0,3.0,3.0,6.0,1.0,2.0,5.0,3.0,3.0,4.0,2.0,4.0,2.0,1.0,null,null,1.0,4.0,2.0,9.0,1.0,3.0,2.0,null,3.0,1.0,4.0,4.0,5.0,4.0,3.0,2.0,1.0,1.0,9.0,2.0,2.0,4.0,7.0,5.0,3.0,4.0,3.0,3.0,1.0,2.0,2.0,null,2.0,9.0,2.0,null,1.0,null,3.0,6.0,1.0,3.0,2.0,2.0,3.0,3.0,2.0,2.0,2.0,2.0,2.0,3.0,4.0,3.0,3.0,2.0,1.0,3.0,5.0,1.0,4.0,4.0,2.0,1.0,4.0,5.0,6.0,3.0,5.0,1.0,3.0,4.0,1.0,4.0,2.0,4.0,2.0,4.0,4.0,1.0,2.0,6.0,1.0,3.0,3.0,6.0,2.0,1.0,1.0,2.0,4.0,2.0,2.0,1.0,4.0,5.0,3.0,2.0,1.0,2.0,1.0,1.0,3.0,2.0,4.0,3.0,2.0,3.0,4.0,3.0,5.0,3.0,3.0,3.0,2.0,4.0,8.0,2.0,2.0,4.0,2.0,1.0,2.0,7.0,2.0,3.0,5.0,1.0,2.0,5.0,4.0,4.0,4.0,5.0,3.0,4.0,8.0,3.0,3.0,1.0,2.0,1.0,2.0,3.0,4.0,1.0,5.0,4.0,1.0,2.0,4.0,5.0,3.0,2.0,1.0,3.0,4.0,null,3.0,4.0,3.0,2.0,5.0,2.0,5.0,6.0,1.0,null,3.0,3.0,2.0,9.0,5.0,2.0,2.0,4.0,6.0,2.0,6.0,4.0,null,5.0,4.0,null,5.0,4.0,2.0,1.0,4.0,3.0,4.0,1.0,2.0,1.0,3.0,4.0,3.0,1.0,1.0,3.0,4.0,3.0,4.0,null,null,4.0,1.0,3.0,3.0,1.0,1.0,2.0,2.0,2.0,2.0,2.0,4.0,7.0,5.0,7.0,2.0,4.0,null,5.0,6.0,5.0,2.0,3.0,1.0,4.0,2.0,2.0,2.0,2.0,3.0,1.0,2.0,2.0,2.0,1.0,2.0,5.0,2.0,3.0,1.0,1.0,null,6.0,4.0,4.0,3.0,2.0,5.0,3.0,3.0,3.0,2.0,4.0,1.0,3.0,2.0,4.0,3.0,3.0,2.0,6.0,2.0,6.0,4.0,3.0,1.0,1.0,1.0,4.0,2.0,5.0,2.0,4.0,3.0,2.0,2.0,4.0,1.0,7.0,1.0,4.0,1.0,2.0,1.0,3.0,1.0,4.0,4.0,2.0,1.0,2.0,5.0,2.0,3.0,3.0,1.0,2.0,5.0,3.0,4.0,null,4.0,1.0,4.0,2.0,2.0,2.0,4.0,2.0,4.0,1.0,2.0,2.0,2.0,2.0,2.0,3.0,2.0,1.0,2.0,1.0,2.0,1.0,2.0,1.0,1.0,3.0,2.0,4.0,4.0,2.0,2.0,2.0,1.0,3.0,1.0,2.0,3.0,5.0,3.0,5.0,2.0,3.0,1.0,1.0,null,3.0,5.0,2.0,4.0,2.0,3.0,2.0,2.0,4.0,2.0,5.0,3.0,2.0,null,5.0,5.0,2.0,3.0,2.0,3.0,4.0,4.0,5.0,3.0,1.0,2.0,4.0,2.0,1.0,2.0,1.0,3.0,2.0,3.0,6.0,null,2.0,4.0,2.0,5.0,3.0,1.0,4.0,9.0,2.0,2.0,1.0,2.0,4.0,2.0,1.0,2.0,1.0,3.0,4.0,1.0,2.0,3.0,2.0,1.0,1.0,3.0,3.0,1.0,2.0,1.0,3.0,3.0,2.0,2.0,1.0,null,2.0,3.0,5.0,2.0,3.0,4.0,2.0,5.0,7.0,2.0,null,2.0,1.0,1.0,null,2.0,5.0,2.0,2.0,4.0,1.0,1.0,2.0,3.0,6.0,5.0,4.0,4.0,5.0,1.0,1.0,1.0,2.0,2.0,5.0,3.0,2.0,1.0,5.0,null,2.0,3.0,2.0,null,1.0,5.0,2.0,3.0,9.0,3.0,3.0,4.0,1.0,2.0,2.0,3.0,4.0,1.0,null,2.0,1.0,3.0,1.0,1.0,7.0,2.0,2.0,3.0,1.0,4.0,1.0,5.0,null,null,null,3.0,3.0,4.0,1.0,4.0,null,3.0,5.0,3.0,3.0,2.0,1.0,2.0,1.0,4.0,2.0,2.0,5.0,5.0,3.0,3.0,null,2.0,null,1.0,1.0,5.0,4.0,1.0,3.0,4.0,1.0,2.0,5.0,4.0,4.0,2.0,3.0,3.0,1.0,2.0,2.0,3.0,8.0,4.0,6.0,4.0,4.0,2.0,2.0,2.0,2.0,1.0,1.0,5.0,1.0,null,4.0,1.0,2.0,5.0,6.0,4.0,3.0,2.0,4.0,null,null,2.0,2.0,1.0,2.0,3.0,2.0,2.0,2.0,4.0,4.0,2.0,1.0,2.0,3.0,1.0,3.0,1.0,2.0,1.0,2.0,1.0,1.0,null,2.0,2.0,4.0,2.0,3.0,2.0,2.0,4.0,1.0,1.0,2.0,3.0,2.0,1.0,4.0,4.0,4.0,4.0,3.0,3.0,2.0,2.0,1.0,4.0,2.0,2.0,2.0,3.0,null,2.0,4.0,2.0,9.0,3.0,2.0,1.0,2.0,3.0,1.0,4.0,3.0,4.0,5.0,1.0,3.0,3.0,1.0,null,2.0,4.0,3.0,1.0,1.0,1.0,4.0,5.0,3.0,2.0,1.0,2.0,4.0,4.0,4.0,2.0,3.0,null,2.0,2.0,1.0,2.0,4.0,3.0,4.0,1.0,2.0,null,4.0,9.0,2.0,3.0,3.0,5.0,4.0,2.0,5.0,5.0,2.0,1.0,2.0,4.0,4.0,3.0,3.0,1.0,3.0,4.0,1.0,2.0,2.0,3.0,2.0,3.0,2.0,1.0,2.0,4.0,3.0,1.0,6.0,3.0,2.0,3.0,1.0,2.0,9.0,3.0,1.0,3.0,1.0,5.0,2.0,4.0,2.0,3.0,3.0,null,7.0,2.0,2.0,3.0,1.0,4.0,1.0,2.0,3.0,1.0,1.0,4.0,5.0,5.0,3.0,2.0,null,1.0,4.0,1.0,3.0,3.0,2.0,2.0,2.0,4.0,2.0,2.0,6.0,5.0,4.0,2.0,3.0,null,6.0,1.0,3.0,4.0,3.0,1.0,2.0,6.0,1.0,1.0,3.0,2.0,3.0,2.0,1.0,2.0,1.0,2.0,1.0,4.0,2.0,3.0,2.0,4.0,4.0,2.0,3.0,1.0,1.0,2.0,null,3.0,2.0,4.0,2.0,2.0,2.0,4.0,1.0,3.0,3.0,3.0,4.0,4.0,4.0,4.0,3.0,1.0,6.0,4.0,3.0,2.0,3.0,2.0,3.0,2.0,3.0,2.0,2.0,3.0,3.0,4.0,2.0,2.0,2.0,1.0,5.0,5.0,2.0,4.0,2.0,2.0,5.0,4.0,1.0,4.0,3.0,1.0,4.0,2.0,5.0,1.0,2.0,3.0,2.0,2.0,6.0,2.0,2.0,2.0,4.0,2.0,3.0,2.0,3.0,2.0,2.0,2.0,2.0,3.0,2.0,1.0,3.0,2.0,3.0,3.0,2.0,4.0,6.0,1.0,3.0,3.0,2.0,1.0,3.0,7.0,1.0,2.0,null,1.0,9.0,4.0,3.0,3.0,2.0,1.0,4.0,3.0,4.0,1.0,3.0,3.0,4.0,5.0,2.0,3.0,1.0,4.0,null,3.0,2.0,2.0,2.0,2.0,3.0,4.0,2.0,2.0,3.0,5.0,1.0,9.0,5.0,2.0,1.0,1.0,3.0,3.0,1.0,2.0,1.0,1.0,2.0,1.0,2.0,null,3.0,3.0,3.0,1.0,null,2.0,4.0,1.0,8.0,2.0,4.0,1.0,3.0,2.0,1.0,4.0,3.0,3.0,3.0,3.0,4.0,1.0,1.0,5.0,6.0,3.0,2.0,3.0,5.0,5.0,1.0,1.0,null,1.0,2.0,3.0,1.0,4.0,4.0,3.0,3.0,2.0,2.0,1.0,2.0,2.0,2.0,2.0,2.0,2.0,2.0,4.0,2.0,2.0,2.0,4.0,2.0,2.0,4.0,7.0,2.0,2.0,4.0,3.0,3.0,1.0,5.0,1.0,5.0,2.0,5.0,2.0,4.0,2.0,4.0,2.0,2.0,4.0,4.0,3.0,2.0,null,4.0,1.0,2.0,4.0,7.0,3.0,1.0,2.0,2.0,2.0,5.0,4.0,2.0,4.0,4.0,1.0,2.0,5.0,3.0,2.0,6.0,3.0,3.0,1.0,9.0,2.0,1.0,9.0,6.0,4.0,2.0,5.0,4.0,4.0,3.0,1.0,2.0,1.0,3.0,4.0,2.0,4.0,4.0,3.0,2.0,2.0,5.0,2.0,4.0,2.0,2.0,1.0,4.0,null,5.0,4.0,5.0,2.0,2.0,3.0,4.0,4.0,2.0,4.0,null,2.0,6.0,2.0,5.0,2.0,3.0,2.0,1.0,2.0,1.0,3.0,5.0,2.0,2.0,4.0,3.0,7.0,5.0,4.0,2.0,2.0,2.0,4.0,2.0,5.0,3.0,3.0,3.0,3.0,2.0,5.0,4.0,1.0,6.0,2.0,4.0,1.0,2.0,4.0,3.0,3.0,5.0,6.0,2.0,2.0,2.0,5.0,1.0,2.0,5.0,4.0,4.0,1.0,4.0,null,8.0,1.0,9.0,6.0,4.0,3.0,2.0,3.0,5.0,1.0,4.0,3.0,4.0,2.0,1.0,5.0,6.0,2.0,1.0,2.0,3.0,2.0,2.0,1.0,null,1.0,2.0,4.0,2.0,2.0,5.0,null,2.0,4.0,2.0,1.0,3.0,null,2.0,6.0,2.0,3.0,1.0,5.0,5.0,1.0,4.0,1.0,4.0,2.0,2.0,2.0,2.0,2.0,2.0,4.0,2.0,6.0,4.0,2.0,3.0,3.0,2.0,3.0,1.0,3.0,2.0,6.0,2.0,5.0,7.0,4.0,1.0,4.0,3.0],\"type\":\"box\"}],                        {\"title\":{\"text\":\"Family_Size\"},\"template\":{\"data\":{\"bar\":[{\"error_x\":{\"color\":\"#2a3f5f\"},\"error_y\":{\"color\":\"#2a3f5f\"},\"marker\":{\"line\":{\"color\":\"#E5ECF6\",\"width\":0.5},\"pattern\":{\"fillmode\":\"overlay\",\"size\":10,\"solidity\":0.2}},\"type\":\"bar\"}],\"barpolar\":[{\"marker\":{\"line\":{\"color\":\"#E5ECF6\",\"width\":0.5},\"pattern\":{\"fillmode\":\"overlay\",\"size\":10,\"solidity\":0.2}},\"type\":\"barpolar\"}],\"carpet\":[{\"aaxis\":{\"endlinecolor\":\"#2a3f5f\",\"gridcolor\":\"white\",\"linecolor\":\"white\",\"minorgridcolor\":\"white\",\"startlinecolor\":\"#2a3f5f\"},\"baxis\":{\"endlinecolor\":\"#2a3f5f\",\"gridcolor\":\"white\",\"linecolor\":\"white\",\"minorgridcolor\":\"white\",\"startlinecolor\":\"#2a3f5f\"},\"type\":\"carpet\"}],\"choropleth\":[{\"colorbar\":{\"outlinewidth\":0,\"ticks\":\"\"},\"type\":\"choropleth\"}],\"contour\":[{\"colorbar\":{\"outlinewidth\":0,\"ticks\":\"\"},\"colorscale\":[[0.0,\"#0d0887\"],[0.1111111111111111,\"#46039f\"],[0.2222222222222222,\"#7201a8\"],[0.3333333333333333,\"#9c179e\"],[0.4444444444444444,\"#bd3786\"],[0.5555555555555556,\"#d8576b\"],[0.6666666666666666,\"#ed7953\"],[0.7777777777777778,\"#fb9f3a\"],[0.8888888888888888,\"#fdca26\"],[1.0,\"#f0f921\"]],\"type\":\"contour\"}],\"contourcarpet\":[{\"colorbar\":{\"outlinewidth\":0,\"ticks\":\"\"},\"type\":\"contourcarpet\"}],\"heatmap\":[{\"colorbar\":{\"outlinewidth\":0,\"ticks\":\"\"},\"colorscale\":[[0.0,\"#0d0887\"],[0.1111111111111111,\"#46039f\"],[0.2222222222222222,\"#7201a8\"],[0.3333333333333333,\"#9c179e\"],[0.4444444444444444,\"#bd3786\"],[0.5555555555555556,\"#d8576b\"],[0.6666666666666666,\"#ed7953\"],[0.7777777777777778,\"#fb9f3a\"],[0.8888888888888888,\"#fdca26\"],[1.0,\"#f0f921\"]],\"type\":\"heatmap\"}],\"heatmapgl\":[{\"colorbar\":{\"outlinewidth\":0,\"ticks\":\"\"},\"colorscale\":[[0.0,\"#0d0887\"],[0.1111111111111111,\"#46039f\"],[0.2222222222222222,\"#7201a8\"],[0.3333333333333333,\"#9c179e\"],[0.4444444444444444,\"#bd3786\"],[0.5555555555555556,\"#d8576b\"],[0.6666666666666666,\"#ed7953\"],[0.7777777777777778,\"#fb9f3a\"],[0.8888888888888888,\"#fdca26\"],[1.0,\"#f0f921\"]],\"type\":\"heatmapgl\"}],\"histogram\":[{\"marker\":{\"pattern\":{\"fillmode\":\"overlay\",\"size\":10,\"solidity\":0.2}},\"type\":\"histogram\"}],\"histogram2d\":[{\"colorbar\":{\"outlinewidth\":0,\"ticks\":\"\"},\"colorscale\":[[0.0,\"#0d0887\"],[0.1111111111111111,\"#46039f\"],[0.2222222222222222,\"#7201a8\"],[0.3333333333333333,\"#9c179e\"],[0.4444444444444444,\"#bd3786\"],[0.5555555555555556,\"#d8576b\"],[0.6666666666666666,\"#ed7953\"],[0.7777777777777778,\"#fb9f3a\"],[0.8888888888888888,\"#fdca26\"],[1.0,\"#f0f921\"]],\"type\":\"histogram2d\"}],\"histogram2dcontour\":[{\"colorbar\":{\"outlinewidth\":0,\"ticks\":\"\"},\"colorscale\":[[0.0,\"#0d0887\"],[0.1111111111111111,\"#46039f\"],[0.2222222222222222,\"#7201a8\"],[0.3333333333333333,\"#9c179e\"],[0.4444444444444444,\"#bd3786\"],[0.5555555555555556,\"#d8576b\"],[0.6666666666666666,\"#ed7953\"],[0.7777777777777778,\"#fb9f3a\"],[0.8888888888888888,\"#fdca26\"],[1.0,\"#f0f921\"]],\"type\":\"histogram2dcontour\"}],\"mesh3d\":[{\"colorbar\":{\"outlinewidth\":0,\"ticks\":\"\"},\"type\":\"mesh3d\"}],\"parcoords\":[{\"line\":{\"colorbar\":{\"outlinewidth\":0,\"ticks\":\"\"}},\"type\":\"parcoords\"}],\"pie\":[{\"automargin\":true,\"type\":\"pie\"}],\"scatter\":[{\"marker\":{\"colorbar\":{\"outlinewidth\":0,\"ticks\":\"\"}},\"type\":\"scatter\"}],\"scatter3d\":[{\"line\":{\"colorbar\":{\"outlinewidth\":0,\"ticks\":\"\"}},\"marker\":{\"colorbar\":{\"outlinewidth\":0,\"ticks\":\"\"}},\"type\":\"scatter3d\"}],\"scattercarpet\":[{\"marker\":{\"colorbar\":{\"outlinewidth\":0,\"ticks\":\"\"}},\"type\":\"scattercarpet\"}],\"scattergeo\":[{\"marker\":{\"colorbar\":{\"outlinewidth\":0,\"ticks\":\"\"}},\"type\":\"scattergeo\"}],\"scattergl\":[{\"marker\":{\"colorbar\":{\"outlinewidth\":0,\"ticks\":\"\"}},\"type\":\"scattergl\"}],\"scattermapbox\":[{\"marker\":{\"colorbar\":{\"outlinewidth\":0,\"ticks\":\"\"}},\"type\":\"scattermapbox\"}],\"scatterpolar\":[{\"marker\":{\"colorbar\":{\"outlinewidth\":0,\"ticks\":\"\"}},\"type\":\"scatterpolar\"}],\"scatterpolargl\":[{\"marker\":{\"colorbar\":{\"outlinewidth\":0,\"ticks\":\"\"}},\"type\":\"scatterpolargl\"}],\"scatterternary\":[{\"marker\":{\"colorbar\":{\"outlinewidth\":0,\"ticks\":\"\"}},\"type\":\"scatterternary\"}],\"surface\":[{\"colorbar\":{\"outlinewidth\":0,\"ticks\":\"\"},\"colorscale\":[[0.0,\"#0d0887\"],[0.1111111111111111,\"#46039f\"],[0.2222222222222222,\"#7201a8\"],[0.3333333333333333,\"#9c179e\"],[0.4444444444444444,\"#bd3786\"],[0.5555555555555556,\"#d8576b\"],[0.6666666666666666,\"#ed7953\"],[0.7777777777777778,\"#fb9f3a\"],[0.8888888888888888,\"#fdca26\"],[1.0,\"#f0f921\"]],\"type\":\"surface\"}],\"table\":[{\"cells\":{\"fill\":{\"color\":\"#EBF0F8\"},\"line\":{\"color\":\"white\"}},\"header\":{\"fill\":{\"color\":\"#C8D4E3\"},\"line\":{\"color\":\"white\"}},\"type\":\"table\"}]},\"layout\":{\"annotationdefaults\":{\"arrowcolor\":\"#2a3f5f\",\"arrowhead\":0,\"arrowwidth\":1},\"autotypenumbers\":\"strict\",\"coloraxis\":{\"colorbar\":{\"outlinewidth\":0,\"ticks\":\"\"}},\"colorscale\":{\"diverging\":[[0,\"#8e0152\"],[0.1,\"#c51b7d\"],[0.2,\"#de77ae\"],[0.3,\"#f1b6da\"],[0.4,\"#fde0ef\"],[0.5,\"#f7f7f7\"],[0.6,\"#e6f5d0\"],[0.7,\"#b8e186\"],[0.8,\"#7fbc41\"],[0.9,\"#4d9221\"],[1,\"#276419\"]],\"sequential\":[[0.0,\"#0d0887\"],[0.1111111111111111,\"#46039f\"],[0.2222222222222222,\"#7201a8\"],[0.3333333333333333,\"#9c179e\"],[0.4444444444444444,\"#bd3786\"],[0.5555555555555556,\"#d8576b\"],[0.6666666666666666,\"#ed7953\"],[0.7777777777777778,\"#fb9f3a\"],[0.8888888888888888,\"#fdca26\"],[1.0,\"#f0f921\"]],\"sequentialminus\":[[0.0,\"#0d0887\"],[0.1111111111111111,\"#46039f\"],[0.2222222222222222,\"#7201a8\"],[0.3333333333333333,\"#9c179e\"],[0.4444444444444444,\"#bd3786\"],[0.5555555555555556,\"#d8576b\"],[0.6666666666666666,\"#ed7953\"],[0.7777777777777778,\"#fb9f3a\"],[0.8888888888888888,\"#fdca26\"],[1.0,\"#f0f921\"]]},\"colorway\":[\"#636efa\",\"#EF553B\",\"#00cc96\",\"#ab63fa\",\"#FFA15A\",\"#19d3f3\",\"#FF6692\",\"#B6E880\",\"#FF97FF\",\"#FECB52\"],\"font\":{\"color\":\"#2a3f5f\"},\"geo\":{\"bgcolor\":\"white\",\"lakecolor\":\"white\",\"landcolor\":\"#E5ECF6\",\"showlakes\":true,\"showland\":true,\"subunitcolor\":\"white\"},\"hoverlabel\":{\"align\":\"left\"},\"hovermode\":\"closest\",\"mapbox\":{\"style\":\"light\"},\"paper_bgcolor\":\"white\",\"plot_bgcolor\":\"#E5ECF6\",\"polar\":{\"angularaxis\":{\"gridcolor\":\"white\",\"linecolor\":\"white\",\"ticks\":\"\"},\"bgcolor\":\"#E5ECF6\",\"radialaxis\":{\"gridcolor\":\"white\",\"linecolor\":\"white\",\"ticks\":\"\"}},\"scene\":{\"xaxis\":{\"backgroundcolor\":\"#E5ECF6\",\"gridcolor\":\"white\",\"gridwidth\":2,\"linecolor\":\"white\",\"showbackground\":true,\"ticks\":\"\",\"zerolinecolor\":\"white\"},\"yaxis\":{\"backgroundcolor\":\"#E5ECF6\",\"gridcolor\":\"white\",\"gridwidth\":2,\"linecolor\":\"white\",\"showbackground\":true,\"ticks\":\"\",\"zerolinecolor\":\"white\"},\"zaxis\":{\"backgroundcolor\":\"#E5ECF6\",\"gridcolor\":\"white\",\"gridwidth\":2,\"linecolor\":\"white\",\"showbackground\":true,\"ticks\":\"\",\"zerolinecolor\":\"white\"}},\"shapedefaults\":{\"line\":{\"color\":\"#2a3f5f\"}},\"ternary\":{\"aaxis\":{\"gridcolor\":\"white\",\"linecolor\":\"white\",\"ticks\":\"\"},\"baxis\":{\"gridcolor\":\"white\",\"linecolor\":\"white\",\"ticks\":\"\"},\"bgcolor\":\"#E5ECF6\",\"caxis\":{\"gridcolor\":\"white\",\"linecolor\":\"white\",\"ticks\":\"\"}},\"title\":{\"x\":0.05},\"xaxis\":{\"automargin\":true,\"gridcolor\":\"white\",\"linecolor\":\"white\",\"ticks\":\"\",\"title\":{\"standoff\":15},\"zerolinecolor\":\"white\",\"zerolinewidth\":2},\"yaxis\":{\"automargin\":true,\"gridcolor\":\"white\",\"linecolor\":\"white\",\"ticks\":\"\",\"title\":{\"standoff\":15},\"zerolinecolor\":\"white\",\"zerolinewidth\":2}}}},                        {\"responsive\": true}                    ).then(function(){\n",
              "                            \n",
              "var gd = document.getElementById('40c5e671-834d-4b42-9ef6-efe7003927e1');\n",
              "var x = new MutationObserver(function (mutations, observer) {{\n",
              "        var display = window.getComputedStyle(gd).display;\n",
              "        if (!display || display === 'none') {{\n",
              "            console.log([gd, 'removed!']);\n",
              "            Plotly.purge(gd);\n",
              "            observer.disconnect();\n",
              "        }}\n",
              "}});\n",
              "\n",
              "// Listen for the removal of the full notebook cells\n",
              "var notebookContainer = gd.closest('#notebook-container');\n",
              "if (notebookContainer) {{\n",
              "    x.observe(notebookContainer, {childList: true});\n",
              "}}\n",
              "\n",
              "// Listen for the clearing of the current output cell\n",
              "var outputEl = gd.closest('.output');\n",
              "if (outputEl) {{\n",
              "    x.observe(outputEl, {childList: true});\n",
              "}}\n",
              "\n",
              "                        })                };                            </script>        </div>\n",
              "</body>\n",
              "</html>"
            ]
          },
          "metadata": {}
        }
      ]
    },
    {
      "cell_type": "code",
      "source": [
        "for col in cat_cols:\n",
        "    ct=pd.crosstab(train[col],train[tag]) \n",
        "    #print(ct.index)\n",
        "    #print(ct.columns)\n",
        "    data = []\n",
        "    for s in ct.columns:\n",
        "        #print(s)\n",
        "        trace1 = go.Bar(x=ct.index.unique(),y=ct[s],name = s)\n",
        "        data.append(trace1)\n",
        "    layout = go.Layout(title = col+' wise Segment')\n",
        "    fig = go.Figure(data = data, layout = layout)\n",
        "    fig.show()\n"
      ],
      "metadata": {
        "colab": {
          "base_uri": "https://localhost:8080/",
          "height": 1000
        },
        "id": "koMFIohb7bAA",
        "outputId": "1e754c33-940b-415e-f51d-43ed5ac46f3b"
      },
      "execution_count": null,
      "outputs": [
        {
          "output_type": "display_data",
          "data": {
            "text/html": [
              "<html>\n",
              "<head><meta charset=\"utf-8\" /></head>\n",
              "<body>\n",
              "    <div>            <script src=\"https://cdnjs.cloudflare.com/ajax/libs/mathjax/2.7.5/MathJax.js?config=TeX-AMS-MML_SVG\"></script><script type=\"text/javascript\">if (window.MathJax) {MathJax.Hub.Config({SVG: {font: \"STIX-Web\"}});}</script>                <script type=\"text/javascript\">window.PlotlyConfig = {MathJaxConfig: 'local'};</script>\n",
              "        <script src=\"https://cdn.plot.ly/plotly-2.8.3.min.js\"></script>                <div id=\"20ed5f6b-126b-478e-8133-d56a68409bf8\" class=\"plotly-graph-div\" style=\"height:525px; width:100%;\"></div>            <script type=\"text/javascript\">                                    window.PLOTLYENV=window.PLOTLYENV || {};                                    if (document.getElementById(\"20ed5f6b-126b-478e-8133-d56a68409bf8\")) {                    Plotly.newPlot(                        \"20ed5f6b-126b-478e-8133-d56a68409bf8\",                        [{\"name\":\"A\",\"x\":[\"Female\",\"Male\"],\"y\":[909,1063],\"type\":\"bar\"},{\"name\":\"B\",\"x\":[\"Female\",\"Male\"],\"y\":[861,997],\"type\":\"bar\"},{\"name\":\"C\",\"x\":[\"Female\",\"Male\"],\"y\":[922,1048],\"type\":\"bar\"},{\"name\":\"D\",\"x\":[\"Female\",\"Male\"],\"y\":[959,1309],\"type\":\"bar\"}],                        {\"title\":{\"text\":\"Gender wise Segment\"},\"template\":{\"data\":{\"bar\":[{\"error_x\":{\"color\":\"#2a3f5f\"},\"error_y\":{\"color\":\"#2a3f5f\"},\"marker\":{\"line\":{\"color\":\"#E5ECF6\",\"width\":0.5},\"pattern\":{\"fillmode\":\"overlay\",\"size\":10,\"solidity\":0.2}},\"type\":\"bar\"}],\"barpolar\":[{\"marker\":{\"line\":{\"color\":\"#E5ECF6\",\"width\":0.5},\"pattern\":{\"fillmode\":\"overlay\",\"size\":10,\"solidity\":0.2}},\"type\":\"barpolar\"}],\"carpet\":[{\"aaxis\":{\"endlinecolor\":\"#2a3f5f\",\"gridcolor\":\"white\",\"linecolor\":\"white\",\"minorgridcolor\":\"white\",\"startlinecolor\":\"#2a3f5f\"},\"baxis\":{\"endlinecolor\":\"#2a3f5f\",\"gridcolor\":\"white\",\"linecolor\":\"white\",\"minorgridcolor\":\"white\",\"startlinecolor\":\"#2a3f5f\"},\"type\":\"carpet\"}],\"choropleth\":[{\"colorbar\":{\"outlinewidth\":0,\"ticks\":\"\"},\"type\":\"choropleth\"}],\"contour\":[{\"colorbar\":{\"outlinewidth\":0,\"ticks\":\"\"},\"colorscale\":[[0.0,\"#0d0887\"],[0.1111111111111111,\"#46039f\"],[0.2222222222222222,\"#7201a8\"],[0.3333333333333333,\"#9c179e\"],[0.4444444444444444,\"#bd3786\"],[0.5555555555555556,\"#d8576b\"],[0.6666666666666666,\"#ed7953\"],[0.7777777777777778,\"#fb9f3a\"],[0.8888888888888888,\"#fdca26\"],[1.0,\"#f0f921\"]],\"type\":\"contour\"}],\"contourcarpet\":[{\"colorbar\":{\"outlinewidth\":0,\"ticks\":\"\"},\"type\":\"contourcarpet\"}],\"heatmap\":[{\"colorbar\":{\"outlinewidth\":0,\"ticks\":\"\"},\"colorscale\":[[0.0,\"#0d0887\"],[0.1111111111111111,\"#46039f\"],[0.2222222222222222,\"#7201a8\"],[0.3333333333333333,\"#9c179e\"],[0.4444444444444444,\"#bd3786\"],[0.5555555555555556,\"#d8576b\"],[0.6666666666666666,\"#ed7953\"],[0.7777777777777778,\"#fb9f3a\"],[0.8888888888888888,\"#fdca26\"],[1.0,\"#f0f921\"]],\"type\":\"heatmap\"}],\"heatmapgl\":[{\"colorbar\":{\"outlinewidth\":0,\"ticks\":\"\"},\"colorscale\":[[0.0,\"#0d0887\"],[0.1111111111111111,\"#46039f\"],[0.2222222222222222,\"#7201a8\"],[0.3333333333333333,\"#9c179e\"],[0.4444444444444444,\"#bd3786\"],[0.5555555555555556,\"#d8576b\"],[0.6666666666666666,\"#ed7953\"],[0.7777777777777778,\"#fb9f3a\"],[0.8888888888888888,\"#fdca26\"],[1.0,\"#f0f921\"]],\"type\":\"heatmapgl\"}],\"histogram\":[{\"marker\":{\"pattern\":{\"fillmode\":\"overlay\",\"size\":10,\"solidity\":0.2}},\"type\":\"histogram\"}],\"histogram2d\":[{\"colorbar\":{\"outlinewidth\":0,\"ticks\":\"\"},\"colorscale\":[[0.0,\"#0d0887\"],[0.1111111111111111,\"#46039f\"],[0.2222222222222222,\"#7201a8\"],[0.3333333333333333,\"#9c179e\"],[0.4444444444444444,\"#bd3786\"],[0.5555555555555556,\"#d8576b\"],[0.6666666666666666,\"#ed7953\"],[0.7777777777777778,\"#fb9f3a\"],[0.8888888888888888,\"#fdca26\"],[1.0,\"#f0f921\"]],\"type\":\"histogram2d\"}],\"histogram2dcontour\":[{\"colorbar\":{\"outlinewidth\":0,\"ticks\":\"\"},\"colorscale\":[[0.0,\"#0d0887\"],[0.1111111111111111,\"#46039f\"],[0.2222222222222222,\"#7201a8\"],[0.3333333333333333,\"#9c179e\"],[0.4444444444444444,\"#bd3786\"],[0.5555555555555556,\"#d8576b\"],[0.6666666666666666,\"#ed7953\"],[0.7777777777777778,\"#fb9f3a\"],[0.8888888888888888,\"#fdca26\"],[1.0,\"#f0f921\"]],\"type\":\"histogram2dcontour\"}],\"mesh3d\":[{\"colorbar\":{\"outlinewidth\":0,\"ticks\":\"\"},\"type\":\"mesh3d\"}],\"parcoords\":[{\"line\":{\"colorbar\":{\"outlinewidth\":0,\"ticks\":\"\"}},\"type\":\"parcoords\"}],\"pie\":[{\"automargin\":true,\"type\":\"pie\"}],\"scatter\":[{\"marker\":{\"colorbar\":{\"outlinewidth\":0,\"ticks\":\"\"}},\"type\":\"scatter\"}],\"scatter3d\":[{\"line\":{\"colorbar\":{\"outlinewidth\":0,\"ticks\":\"\"}},\"marker\":{\"colorbar\":{\"outlinewidth\":0,\"ticks\":\"\"}},\"type\":\"scatter3d\"}],\"scattercarpet\":[{\"marker\":{\"colorbar\":{\"outlinewidth\":0,\"ticks\":\"\"}},\"type\":\"scattercarpet\"}],\"scattergeo\":[{\"marker\":{\"colorbar\":{\"outlinewidth\":0,\"ticks\":\"\"}},\"type\":\"scattergeo\"}],\"scattergl\":[{\"marker\":{\"colorbar\":{\"outlinewidth\":0,\"ticks\":\"\"}},\"type\":\"scattergl\"}],\"scattermapbox\":[{\"marker\":{\"colorbar\":{\"outlinewidth\":0,\"ticks\":\"\"}},\"type\":\"scattermapbox\"}],\"scatterpolar\":[{\"marker\":{\"colorbar\":{\"outlinewidth\":0,\"ticks\":\"\"}},\"type\":\"scatterpolar\"}],\"scatterpolargl\":[{\"marker\":{\"colorbar\":{\"outlinewidth\":0,\"ticks\":\"\"}},\"type\":\"scatterpolargl\"}],\"scatterternary\":[{\"marker\":{\"colorbar\":{\"outlinewidth\":0,\"ticks\":\"\"}},\"type\":\"scatterternary\"}],\"surface\":[{\"colorbar\":{\"outlinewidth\":0,\"ticks\":\"\"},\"colorscale\":[[0.0,\"#0d0887\"],[0.1111111111111111,\"#46039f\"],[0.2222222222222222,\"#7201a8\"],[0.3333333333333333,\"#9c179e\"],[0.4444444444444444,\"#bd3786\"],[0.5555555555555556,\"#d8576b\"],[0.6666666666666666,\"#ed7953\"],[0.7777777777777778,\"#fb9f3a\"],[0.8888888888888888,\"#fdca26\"],[1.0,\"#f0f921\"]],\"type\":\"surface\"}],\"table\":[{\"cells\":{\"fill\":{\"color\":\"#EBF0F8\"},\"line\":{\"color\":\"white\"}},\"header\":{\"fill\":{\"color\":\"#C8D4E3\"},\"line\":{\"color\":\"white\"}},\"type\":\"table\"}]},\"layout\":{\"annotationdefaults\":{\"arrowcolor\":\"#2a3f5f\",\"arrowhead\":0,\"arrowwidth\":1},\"autotypenumbers\":\"strict\",\"coloraxis\":{\"colorbar\":{\"outlinewidth\":0,\"ticks\":\"\"}},\"colorscale\":{\"diverging\":[[0,\"#8e0152\"],[0.1,\"#c51b7d\"],[0.2,\"#de77ae\"],[0.3,\"#f1b6da\"],[0.4,\"#fde0ef\"],[0.5,\"#f7f7f7\"],[0.6,\"#e6f5d0\"],[0.7,\"#b8e186\"],[0.8,\"#7fbc41\"],[0.9,\"#4d9221\"],[1,\"#276419\"]],\"sequential\":[[0.0,\"#0d0887\"],[0.1111111111111111,\"#46039f\"],[0.2222222222222222,\"#7201a8\"],[0.3333333333333333,\"#9c179e\"],[0.4444444444444444,\"#bd3786\"],[0.5555555555555556,\"#d8576b\"],[0.6666666666666666,\"#ed7953\"],[0.7777777777777778,\"#fb9f3a\"],[0.8888888888888888,\"#fdca26\"],[1.0,\"#f0f921\"]],\"sequentialminus\":[[0.0,\"#0d0887\"],[0.1111111111111111,\"#46039f\"],[0.2222222222222222,\"#7201a8\"],[0.3333333333333333,\"#9c179e\"],[0.4444444444444444,\"#bd3786\"],[0.5555555555555556,\"#d8576b\"],[0.6666666666666666,\"#ed7953\"],[0.7777777777777778,\"#fb9f3a\"],[0.8888888888888888,\"#fdca26\"],[1.0,\"#f0f921\"]]},\"colorway\":[\"#636efa\",\"#EF553B\",\"#00cc96\",\"#ab63fa\",\"#FFA15A\",\"#19d3f3\",\"#FF6692\",\"#B6E880\",\"#FF97FF\",\"#FECB52\"],\"font\":{\"color\":\"#2a3f5f\"},\"geo\":{\"bgcolor\":\"white\",\"lakecolor\":\"white\",\"landcolor\":\"#E5ECF6\",\"showlakes\":true,\"showland\":true,\"subunitcolor\":\"white\"},\"hoverlabel\":{\"align\":\"left\"},\"hovermode\":\"closest\",\"mapbox\":{\"style\":\"light\"},\"paper_bgcolor\":\"white\",\"plot_bgcolor\":\"#E5ECF6\",\"polar\":{\"angularaxis\":{\"gridcolor\":\"white\",\"linecolor\":\"white\",\"ticks\":\"\"},\"bgcolor\":\"#E5ECF6\",\"radialaxis\":{\"gridcolor\":\"white\",\"linecolor\":\"white\",\"ticks\":\"\"}},\"scene\":{\"xaxis\":{\"backgroundcolor\":\"#E5ECF6\",\"gridcolor\":\"white\",\"gridwidth\":2,\"linecolor\":\"white\",\"showbackground\":true,\"ticks\":\"\",\"zerolinecolor\":\"white\"},\"yaxis\":{\"backgroundcolor\":\"#E5ECF6\",\"gridcolor\":\"white\",\"gridwidth\":2,\"linecolor\":\"white\",\"showbackground\":true,\"ticks\":\"\",\"zerolinecolor\":\"white\"},\"zaxis\":{\"backgroundcolor\":\"#E5ECF6\",\"gridcolor\":\"white\",\"gridwidth\":2,\"linecolor\":\"white\",\"showbackground\":true,\"ticks\":\"\",\"zerolinecolor\":\"white\"}},\"shapedefaults\":{\"line\":{\"color\":\"#2a3f5f\"}},\"ternary\":{\"aaxis\":{\"gridcolor\":\"white\",\"linecolor\":\"white\",\"ticks\":\"\"},\"baxis\":{\"gridcolor\":\"white\",\"linecolor\":\"white\",\"ticks\":\"\"},\"bgcolor\":\"#E5ECF6\",\"caxis\":{\"gridcolor\":\"white\",\"linecolor\":\"white\",\"ticks\":\"\"}},\"title\":{\"x\":0.05},\"xaxis\":{\"automargin\":true,\"gridcolor\":\"white\",\"linecolor\":\"white\",\"ticks\":\"\",\"title\":{\"standoff\":15},\"zerolinecolor\":\"white\",\"zerolinewidth\":2},\"yaxis\":{\"automargin\":true,\"gridcolor\":\"white\",\"linecolor\":\"white\",\"ticks\":\"\",\"title\":{\"standoff\":15},\"zerolinecolor\":\"white\",\"zerolinewidth\":2}}}},                        {\"responsive\": true}                    ).then(function(){\n",
              "                            \n",
              "var gd = document.getElementById('20ed5f6b-126b-478e-8133-d56a68409bf8');\n",
              "var x = new MutationObserver(function (mutations, observer) {{\n",
              "        var display = window.getComputedStyle(gd).display;\n",
              "        if (!display || display === 'none') {{\n",
              "            console.log([gd, 'removed!']);\n",
              "            Plotly.purge(gd);\n",
              "            observer.disconnect();\n",
              "        }}\n",
              "}});\n",
              "\n",
              "// Listen for the removal of the full notebook cells\n",
              "var notebookContainer = gd.closest('#notebook-container');\n",
              "if (notebookContainer) {{\n",
              "    x.observe(notebookContainer, {childList: true});\n",
              "}}\n",
              "\n",
              "// Listen for the clearing of the current output cell\n",
              "var outputEl = gd.closest('.output');\n",
              "if (outputEl) {{\n",
              "    x.observe(outputEl, {childList: true});\n",
              "}}\n",
              "\n",
              "                        })                };                            </script>        </div>\n",
              "</body>\n",
              "</html>"
            ]
          },
          "metadata": {}
        },
        {
          "output_type": "display_data",
          "data": {
            "text/html": [
              "<html>\n",
              "<head><meta charset=\"utf-8\" /></head>\n",
              "<body>\n",
              "    <div>            <script src=\"https://cdnjs.cloudflare.com/ajax/libs/mathjax/2.7.5/MathJax.js?config=TeX-AMS-MML_SVG\"></script><script type=\"text/javascript\">if (window.MathJax) {MathJax.Hub.Config({SVG: {font: \"STIX-Web\"}});}</script>                <script type=\"text/javascript\">window.PlotlyConfig = {MathJaxConfig: 'local'};</script>\n",
              "        <script src=\"https://cdn.plot.ly/plotly-2.8.3.min.js\"></script>                <div id=\"5c277eda-966b-4f6e-9c20-f4dd11d85f1f\" class=\"plotly-graph-div\" style=\"height:525px; width:100%;\"></div>            <script type=\"text/javascript\">                                    window.PLOTLYENV=window.PLOTLYENV || {};                                    if (document.getElementById(\"5c277eda-966b-4f6e-9c20-f4dd11d85f1f\")) {                    Plotly.newPlot(                        \"5c277eda-966b-4f6e-9c20-f4dd11d85f1f\",                        [{\"name\":\"A\",\"x\":[\"No\",\"Yes\"],\"y\":[801,1137],\"type\":\"bar\"},{\"name\":\"B\",\"x\":[\"No\",\"Yes\"],\"y\":[479,1348],\"type\":\"bar\"},{\"name\":\"C\",\"x\":[\"No\",\"Yes\"],\"y\":[398,1549],\"type\":\"bar\"},{\"name\":\"D\",\"x\":[\"No\",\"Yes\"],\"y\":[1607,609],\"type\":\"bar\"}],                        {\"title\":{\"text\":\"Ever_Married wise Segment\"},\"template\":{\"data\":{\"bar\":[{\"error_x\":{\"color\":\"#2a3f5f\"},\"error_y\":{\"color\":\"#2a3f5f\"},\"marker\":{\"line\":{\"color\":\"#E5ECF6\",\"width\":0.5},\"pattern\":{\"fillmode\":\"overlay\",\"size\":10,\"solidity\":0.2}},\"type\":\"bar\"}],\"barpolar\":[{\"marker\":{\"line\":{\"color\":\"#E5ECF6\",\"width\":0.5},\"pattern\":{\"fillmode\":\"overlay\",\"size\":10,\"solidity\":0.2}},\"type\":\"barpolar\"}],\"carpet\":[{\"aaxis\":{\"endlinecolor\":\"#2a3f5f\",\"gridcolor\":\"white\",\"linecolor\":\"white\",\"minorgridcolor\":\"white\",\"startlinecolor\":\"#2a3f5f\"},\"baxis\":{\"endlinecolor\":\"#2a3f5f\",\"gridcolor\":\"white\",\"linecolor\":\"white\",\"minorgridcolor\":\"white\",\"startlinecolor\":\"#2a3f5f\"},\"type\":\"carpet\"}],\"choropleth\":[{\"colorbar\":{\"outlinewidth\":0,\"ticks\":\"\"},\"type\":\"choropleth\"}],\"contour\":[{\"colorbar\":{\"outlinewidth\":0,\"ticks\":\"\"},\"colorscale\":[[0.0,\"#0d0887\"],[0.1111111111111111,\"#46039f\"],[0.2222222222222222,\"#7201a8\"],[0.3333333333333333,\"#9c179e\"],[0.4444444444444444,\"#bd3786\"],[0.5555555555555556,\"#d8576b\"],[0.6666666666666666,\"#ed7953\"],[0.7777777777777778,\"#fb9f3a\"],[0.8888888888888888,\"#fdca26\"],[1.0,\"#f0f921\"]],\"type\":\"contour\"}],\"contourcarpet\":[{\"colorbar\":{\"outlinewidth\":0,\"ticks\":\"\"},\"type\":\"contourcarpet\"}],\"heatmap\":[{\"colorbar\":{\"outlinewidth\":0,\"ticks\":\"\"},\"colorscale\":[[0.0,\"#0d0887\"],[0.1111111111111111,\"#46039f\"],[0.2222222222222222,\"#7201a8\"],[0.3333333333333333,\"#9c179e\"],[0.4444444444444444,\"#bd3786\"],[0.5555555555555556,\"#d8576b\"],[0.6666666666666666,\"#ed7953\"],[0.7777777777777778,\"#fb9f3a\"],[0.8888888888888888,\"#fdca26\"],[1.0,\"#f0f921\"]],\"type\":\"heatmap\"}],\"heatmapgl\":[{\"colorbar\":{\"outlinewidth\":0,\"ticks\":\"\"},\"colorscale\":[[0.0,\"#0d0887\"],[0.1111111111111111,\"#46039f\"],[0.2222222222222222,\"#7201a8\"],[0.3333333333333333,\"#9c179e\"],[0.4444444444444444,\"#bd3786\"],[0.5555555555555556,\"#d8576b\"],[0.6666666666666666,\"#ed7953\"],[0.7777777777777778,\"#fb9f3a\"],[0.8888888888888888,\"#fdca26\"],[1.0,\"#f0f921\"]],\"type\":\"heatmapgl\"}],\"histogram\":[{\"marker\":{\"pattern\":{\"fillmode\":\"overlay\",\"size\":10,\"solidity\":0.2}},\"type\":\"histogram\"}],\"histogram2d\":[{\"colorbar\":{\"outlinewidth\":0,\"ticks\":\"\"},\"colorscale\":[[0.0,\"#0d0887\"],[0.1111111111111111,\"#46039f\"],[0.2222222222222222,\"#7201a8\"],[0.3333333333333333,\"#9c179e\"],[0.4444444444444444,\"#bd3786\"],[0.5555555555555556,\"#d8576b\"],[0.6666666666666666,\"#ed7953\"],[0.7777777777777778,\"#fb9f3a\"],[0.8888888888888888,\"#fdca26\"],[1.0,\"#f0f921\"]],\"type\":\"histogram2d\"}],\"histogram2dcontour\":[{\"colorbar\":{\"outlinewidth\":0,\"ticks\":\"\"},\"colorscale\":[[0.0,\"#0d0887\"],[0.1111111111111111,\"#46039f\"],[0.2222222222222222,\"#7201a8\"],[0.3333333333333333,\"#9c179e\"],[0.4444444444444444,\"#bd3786\"],[0.5555555555555556,\"#d8576b\"],[0.6666666666666666,\"#ed7953\"],[0.7777777777777778,\"#fb9f3a\"],[0.8888888888888888,\"#fdca26\"],[1.0,\"#f0f921\"]],\"type\":\"histogram2dcontour\"}],\"mesh3d\":[{\"colorbar\":{\"outlinewidth\":0,\"ticks\":\"\"},\"type\":\"mesh3d\"}],\"parcoords\":[{\"line\":{\"colorbar\":{\"outlinewidth\":0,\"ticks\":\"\"}},\"type\":\"parcoords\"}],\"pie\":[{\"automargin\":true,\"type\":\"pie\"}],\"scatter\":[{\"marker\":{\"colorbar\":{\"outlinewidth\":0,\"ticks\":\"\"}},\"type\":\"scatter\"}],\"scatter3d\":[{\"line\":{\"colorbar\":{\"outlinewidth\":0,\"ticks\":\"\"}},\"marker\":{\"colorbar\":{\"outlinewidth\":0,\"ticks\":\"\"}},\"type\":\"scatter3d\"}],\"scattercarpet\":[{\"marker\":{\"colorbar\":{\"outlinewidth\":0,\"ticks\":\"\"}},\"type\":\"scattercarpet\"}],\"scattergeo\":[{\"marker\":{\"colorbar\":{\"outlinewidth\":0,\"ticks\":\"\"}},\"type\":\"scattergeo\"}],\"scattergl\":[{\"marker\":{\"colorbar\":{\"outlinewidth\":0,\"ticks\":\"\"}},\"type\":\"scattergl\"}],\"scattermapbox\":[{\"marker\":{\"colorbar\":{\"outlinewidth\":0,\"ticks\":\"\"}},\"type\":\"scattermapbox\"}],\"scatterpolar\":[{\"marker\":{\"colorbar\":{\"outlinewidth\":0,\"ticks\":\"\"}},\"type\":\"scatterpolar\"}],\"scatterpolargl\":[{\"marker\":{\"colorbar\":{\"outlinewidth\":0,\"ticks\":\"\"}},\"type\":\"scatterpolargl\"}],\"scatterternary\":[{\"marker\":{\"colorbar\":{\"outlinewidth\":0,\"ticks\":\"\"}},\"type\":\"scatterternary\"}],\"surface\":[{\"colorbar\":{\"outlinewidth\":0,\"ticks\":\"\"},\"colorscale\":[[0.0,\"#0d0887\"],[0.1111111111111111,\"#46039f\"],[0.2222222222222222,\"#7201a8\"],[0.3333333333333333,\"#9c179e\"],[0.4444444444444444,\"#bd3786\"],[0.5555555555555556,\"#d8576b\"],[0.6666666666666666,\"#ed7953\"],[0.7777777777777778,\"#fb9f3a\"],[0.8888888888888888,\"#fdca26\"],[1.0,\"#f0f921\"]],\"type\":\"surface\"}],\"table\":[{\"cells\":{\"fill\":{\"color\":\"#EBF0F8\"},\"line\":{\"color\":\"white\"}},\"header\":{\"fill\":{\"color\":\"#C8D4E3\"},\"line\":{\"color\":\"white\"}},\"type\":\"table\"}]},\"layout\":{\"annotationdefaults\":{\"arrowcolor\":\"#2a3f5f\",\"arrowhead\":0,\"arrowwidth\":1},\"autotypenumbers\":\"strict\",\"coloraxis\":{\"colorbar\":{\"outlinewidth\":0,\"ticks\":\"\"}},\"colorscale\":{\"diverging\":[[0,\"#8e0152\"],[0.1,\"#c51b7d\"],[0.2,\"#de77ae\"],[0.3,\"#f1b6da\"],[0.4,\"#fde0ef\"],[0.5,\"#f7f7f7\"],[0.6,\"#e6f5d0\"],[0.7,\"#b8e186\"],[0.8,\"#7fbc41\"],[0.9,\"#4d9221\"],[1,\"#276419\"]],\"sequential\":[[0.0,\"#0d0887\"],[0.1111111111111111,\"#46039f\"],[0.2222222222222222,\"#7201a8\"],[0.3333333333333333,\"#9c179e\"],[0.4444444444444444,\"#bd3786\"],[0.5555555555555556,\"#d8576b\"],[0.6666666666666666,\"#ed7953\"],[0.7777777777777778,\"#fb9f3a\"],[0.8888888888888888,\"#fdca26\"],[1.0,\"#f0f921\"]],\"sequentialminus\":[[0.0,\"#0d0887\"],[0.1111111111111111,\"#46039f\"],[0.2222222222222222,\"#7201a8\"],[0.3333333333333333,\"#9c179e\"],[0.4444444444444444,\"#bd3786\"],[0.5555555555555556,\"#d8576b\"],[0.6666666666666666,\"#ed7953\"],[0.7777777777777778,\"#fb9f3a\"],[0.8888888888888888,\"#fdca26\"],[1.0,\"#f0f921\"]]},\"colorway\":[\"#636efa\",\"#EF553B\",\"#00cc96\",\"#ab63fa\",\"#FFA15A\",\"#19d3f3\",\"#FF6692\",\"#B6E880\",\"#FF97FF\",\"#FECB52\"],\"font\":{\"color\":\"#2a3f5f\"},\"geo\":{\"bgcolor\":\"white\",\"lakecolor\":\"white\",\"landcolor\":\"#E5ECF6\",\"showlakes\":true,\"showland\":true,\"subunitcolor\":\"white\"},\"hoverlabel\":{\"align\":\"left\"},\"hovermode\":\"closest\",\"mapbox\":{\"style\":\"light\"},\"paper_bgcolor\":\"white\",\"plot_bgcolor\":\"#E5ECF6\",\"polar\":{\"angularaxis\":{\"gridcolor\":\"white\",\"linecolor\":\"white\",\"ticks\":\"\"},\"bgcolor\":\"#E5ECF6\",\"radialaxis\":{\"gridcolor\":\"white\",\"linecolor\":\"white\",\"ticks\":\"\"}},\"scene\":{\"xaxis\":{\"backgroundcolor\":\"#E5ECF6\",\"gridcolor\":\"white\",\"gridwidth\":2,\"linecolor\":\"white\",\"showbackground\":true,\"ticks\":\"\",\"zerolinecolor\":\"white\"},\"yaxis\":{\"backgroundcolor\":\"#E5ECF6\",\"gridcolor\":\"white\",\"gridwidth\":2,\"linecolor\":\"white\",\"showbackground\":true,\"ticks\":\"\",\"zerolinecolor\":\"white\"},\"zaxis\":{\"backgroundcolor\":\"#E5ECF6\",\"gridcolor\":\"white\",\"gridwidth\":2,\"linecolor\":\"white\",\"showbackground\":true,\"ticks\":\"\",\"zerolinecolor\":\"white\"}},\"shapedefaults\":{\"line\":{\"color\":\"#2a3f5f\"}},\"ternary\":{\"aaxis\":{\"gridcolor\":\"white\",\"linecolor\":\"white\",\"ticks\":\"\"},\"baxis\":{\"gridcolor\":\"white\",\"linecolor\":\"white\",\"ticks\":\"\"},\"bgcolor\":\"#E5ECF6\",\"caxis\":{\"gridcolor\":\"white\",\"linecolor\":\"white\",\"ticks\":\"\"}},\"title\":{\"x\":0.05},\"xaxis\":{\"automargin\":true,\"gridcolor\":\"white\",\"linecolor\":\"white\",\"ticks\":\"\",\"title\":{\"standoff\":15},\"zerolinecolor\":\"white\",\"zerolinewidth\":2},\"yaxis\":{\"automargin\":true,\"gridcolor\":\"white\",\"linecolor\":\"white\",\"ticks\":\"\",\"title\":{\"standoff\":15},\"zerolinecolor\":\"white\",\"zerolinewidth\":2}}}},                        {\"responsive\": true}                    ).then(function(){\n",
              "                            \n",
              "var gd = document.getElementById('5c277eda-966b-4f6e-9c20-f4dd11d85f1f');\n",
              "var x = new MutationObserver(function (mutations, observer) {{\n",
              "        var display = window.getComputedStyle(gd).display;\n",
              "        if (!display || display === 'none') {{\n",
              "            console.log([gd, 'removed!']);\n",
              "            Plotly.purge(gd);\n",
              "            observer.disconnect();\n",
              "        }}\n",
              "}});\n",
              "\n",
              "// Listen for the removal of the full notebook cells\n",
              "var notebookContainer = gd.closest('#notebook-container');\n",
              "if (notebookContainer) {{\n",
              "    x.observe(notebookContainer, {childList: true});\n",
              "}}\n",
              "\n",
              "// Listen for the clearing of the current output cell\n",
              "var outputEl = gd.closest('.output');\n",
              "if (outputEl) {{\n",
              "    x.observe(outputEl, {childList: true});\n",
              "}}\n",
              "\n",
              "                        })                };                            </script>        </div>\n",
              "</body>\n",
              "</html>"
            ]
          },
          "metadata": {}
        },
        {
          "output_type": "display_data",
          "data": {
            "text/html": [
              "<html>\n",
              "<head><meta charset=\"utf-8\" /></head>\n",
              "<body>\n",
              "    <div>            <script src=\"https://cdnjs.cloudflare.com/ajax/libs/mathjax/2.7.5/MathJax.js?config=TeX-AMS-MML_SVG\"></script><script type=\"text/javascript\">if (window.MathJax) {MathJax.Hub.Config({SVG: {font: \"STIX-Web\"}});}</script>                <script type=\"text/javascript\">window.PlotlyConfig = {MathJaxConfig: 'local'};</script>\n",
              "        <script src=\"https://cdn.plot.ly/plotly-2.8.3.min.js\"></script>                <div id=\"85bb9da5-f55d-4805-b84d-72b22ceb1a7f\" class=\"plotly-graph-div\" style=\"height:525px; width:100%;\"></div>            <script type=\"text/javascript\">                                    window.PLOTLYENV=window.PLOTLYENV || {};                                    if (document.getElementById(\"85bb9da5-f55d-4805-b84d-72b22ceb1a7f\")) {                    Plotly.newPlot(                        \"85bb9da5-f55d-4805-b84d-72b22ceb1a7f\",                        [{\"name\":\"A\",\"x\":[\"No\",\"Yes\"],\"y\":[729,1219],\"type\":\"bar\"},{\"name\":\"B\",\"x\":[\"No\",\"Yes\"],\"y\":[508,1332],\"type\":\"bar\"},{\"name\":\"C\",\"x\":[\"No\",\"Yes\"],\"y\":[348,1607],\"type\":\"bar\"},{\"name\":\"D\",\"x\":[\"No\",\"Yes\"],\"y\":[1437,810],\"type\":\"bar\"}],                        {\"title\":{\"text\":\"Graduated wise Segment\"},\"template\":{\"data\":{\"bar\":[{\"error_x\":{\"color\":\"#2a3f5f\"},\"error_y\":{\"color\":\"#2a3f5f\"},\"marker\":{\"line\":{\"color\":\"#E5ECF6\",\"width\":0.5},\"pattern\":{\"fillmode\":\"overlay\",\"size\":10,\"solidity\":0.2}},\"type\":\"bar\"}],\"barpolar\":[{\"marker\":{\"line\":{\"color\":\"#E5ECF6\",\"width\":0.5},\"pattern\":{\"fillmode\":\"overlay\",\"size\":10,\"solidity\":0.2}},\"type\":\"barpolar\"}],\"carpet\":[{\"aaxis\":{\"endlinecolor\":\"#2a3f5f\",\"gridcolor\":\"white\",\"linecolor\":\"white\",\"minorgridcolor\":\"white\",\"startlinecolor\":\"#2a3f5f\"},\"baxis\":{\"endlinecolor\":\"#2a3f5f\",\"gridcolor\":\"white\",\"linecolor\":\"white\",\"minorgridcolor\":\"white\",\"startlinecolor\":\"#2a3f5f\"},\"type\":\"carpet\"}],\"choropleth\":[{\"colorbar\":{\"outlinewidth\":0,\"ticks\":\"\"},\"type\":\"choropleth\"}],\"contour\":[{\"colorbar\":{\"outlinewidth\":0,\"ticks\":\"\"},\"colorscale\":[[0.0,\"#0d0887\"],[0.1111111111111111,\"#46039f\"],[0.2222222222222222,\"#7201a8\"],[0.3333333333333333,\"#9c179e\"],[0.4444444444444444,\"#bd3786\"],[0.5555555555555556,\"#d8576b\"],[0.6666666666666666,\"#ed7953\"],[0.7777777777777778,\"#fb9f3a\"],[0.8888888888888888,\"#fdca26\"],[1.0,\"#f0f921\"]],\"type\":\"contour\"}],\"contourcarpet\":[{\"colorbar\":{\"outlinewidth\":0,\"ticks\":\"\"},\"type\":\"contourcarpet\"}],\"heatmap\":[{\"colorbar\":{\"outlinewidth\":0,\"ticks\":\"\"},\"colorscale\":[[0.0,\"#0d0887\"],[0.1111111111111111,\"#46039f\"],[0.2222222222222222,\"#7201a8\"],[0.3333333333333333,\"#9c179e\"],[0.4444444444444444,\"#bd3786\"],[0.5555555555555556,\"#d8576b\"],[0.6666666666666666,\"#ed7953\"],[0.7777777777777778,\"#fb9f3a\"],[0.8888888888888888,\"#fdca26\"],[1.0,\"#f0f921\"]],\"type\":\"heatmap\"}],\"heatmapgl\":[{\"colorbar\":{\"outlinewidth\":0,\"ticks\":\"\"},\"colorscale\":[[0.0,\"#0d0887\"],[0.1111111111111111,\"#46039f\"],[0.2222222222222222,\"#7201a8\"],[0.3333333333333333,\"#9c179e\"],[0.4444444444444444,\"#bd3786\"],[0.5555555555555556,\"#d8576b\"],[0.6666666666666666,\"#ed7953\"],[0.7777777777777778,\"#fb9f3a\"],[0.8888888888888888,\"#fdca26\"],[1.0,\"#f0f921\"]],\"type\":\"heatmapgl\"}],\"histogram\":[{\"marker\":{\"pattern\":{\"fillmode\":\"overlay\",\"size\":10,\"solidity\":0.2}},\"type\":\"histogram\"}],\"histogram2d\":[{\"colorbar\":{\"outlinewidth\":0,\"ticks\":\"\"},\"colorscale\":[[0.0,\"#0d0887\"],[0.1111111111111111,\"#46039f\"],[0.2222222222222222,\"#7201a8\"],[0.3333333333333333,\"#9c179e\"],[0.4444444444444444,\"#bd3786\"],[0.5555555555555556,\"#d8576b\"],[0.6666666666666666,\"#ed7953\"],[0.7777777777777778,\"#fb9f3a\"],[0.8888888888888888,\"#fdca26\"],[1.0,\"#f0f921\"]],\"type\":\"histogram2d\"}],\"histogram2dcontour\":[{\"colorbar\":{\"outlinewidth\":0,\"ticks\":\"\"},\"colorscale\":[[0.0,\"#0d0887\"],[0.1111111111111111,\"#46039f\"],[0.2222222222222222,\"#7201a8\"],[0.3333333333333333,\"#9c179e\"],[0.4444444444444444,\"#bd3786\"],[0.5555555555555556,\"#d8576b\"],[0.6666666666666666,\"#ed7953\"],[0.7777777777777778,\"#fb9f3a\"],[0.8888888888888888,\"#fdca26\"],[1.0,\"#f0f921\"]],\"type\":\"histogram2dcontour\"}],\"mesh3d\":[{\"colorbar\":{\"outlinewidth\":0,\"ticks\":\"\"},\"type\":\"mesh3d\"}],\"parcoords\":[{\"line\":{\"colorbar\":{\"outlinewidth\":0,\"ticks\":\"\"}},\"type\":\"parcoords\"}],\"pie\":[{\"automargin\":true,\"type\":\"pie\"}],\"scatter\":[{\"marker\":{\"colorbar\":{\"outlinewidth\":0,\"ticks\":\"\"}},\"type\":\"scatter\"}],\"scatter3d\":[{\"line\":{\"colorbar\":{\"outlinewidth\":0,\"ticks\":\"\"}},\"marker\":{\"colorbar\":{\"outlinewidth\":0,\"ticks\":\"\"}},\"type\":\"scatter3d\"}],\"scattercarpet\":[{\"marker\":{\"colorbar\":{\"outlinewidth\":0,\"ticks\":\"\"}},\"type\":\"scattercarpet\"}],\"scattergeo\":[{\"marker\":{\"colorbar\":{\"outlinewidth\":0,\"ticks\":\"\"}},\"type\":\"scattergeo\"}],\"scattergl\":[{\"marker\":{\"colorbar\":{\"outlinewidth\":0,\"ticks\":\"\"}},\"type\":\"scattergl\"}],\"scattermapbox\":[{\"marker\":{\"colorbar\":{\"outlinewidth\":0,\"ticks\":\"\"}},\"type\":\"scattermapbox\"}],\"scatterpolar\":[{\"marker\":{\"colorbar\":{\"outlinewidth\":0,\"ticks\":\"\"}},\"type\":\"scatterpolar\"}],\"scatterpolargl\":[{\"marker\":{\"colorbar\":{\"outlinewidth\":0,\"ticks\":\"\"}},\"type\":\"scatterpolargl\"}],\"scatterternary\":[{\"marker\":{\"colorbar\":{\"outlinewidth\":0,\"ticks\":\"\"}},\"type\":\"scatterternary\"}],\"surface\":[{\"colorbar\":{\"outlinewidth\":0,\"ticks\":\"\"},\"colorscale\":[[0.0,\"#0d0887\"],[0.1111111111111111,\"#46039f\"],[0.2222222222222222,\"#7201a8\"],[0.3333333333333333,\"#9c179e\"],[0.4444444444444444,\"#bd3786\"],[0.5555555555555556,\"#d8576b\"],[0.6666666666666666,\"#ed7953\"],[0.7777777777777778,\"#fb9f3a\"],[0.8888888888888888,\"#fdca26\"],[1.0,\"#f0f921\"]],\"type\":\"surface\"}],\"table\":[{\"cells\":{\"fill\":{\"color\":\"#EBF0F8\"},\"line\":{\"color\":\"white\"}},\"header\":{\"fill\":{\"color\":\"#C8D4E3\"},\"line\":{\"color\":\"white\"}},\"type\":\"table\"}]},\"layout\":{\"annotationdefaults\":{\"arrowcolor\":\"#2a3f5f\",\"arrowhead\":0,\"arrowwidth\":1},\"autotypenumbers\":\"strict\",\"coloraxis\":{\"colorbar\":{\"outlinewidth\":0,\"ticks\":\"\"}},\"colorscale\":{\"diverging\":[[0,\"#8e0152\"],[0.1,\"#c51b7d\"],[0.2,\"#de77ae\"],[0.3,\"#f1b6da\"],[0.4,\"#fde0ef\"],[0.5,\"#f7f7f7\"],[0.6,\"#e6f5d0\"],[0.7,\"#b8e186\"],[0.8,\"#7fbc41\"],[0.9,\"#4d9221\"],[1,\"#276419\"]],\"sequential\":[[0.0,\"#0d0887\"],[0.1111111111111111,\"#46039f\"],[0.2222222222222222,\"#7201a8\"],[0.3333333333333333,\"#9c179e\"],[0.4444444444444444,\"#bd3786\"],[0.5555555555555556,\"#d8576b\"],[0.6666666666666666,\"#ed7953\"],[0.7777777777777778,\"#fb9f3a\"],[0.8888888888888888,\"#fdca26\"],[1.0,\"#f0f921\"]],\"sequentialminus\":[[0.0,\"#0d0887\"],[0.1111111111111111,\"#46039f\"],[0.2222222222222222,\"#7201a8\"],[0.3333333333333333,\"#9c179e\"],[0.4444444444444444,\"#bd3786\"],[0.5555555555555556,\"#d8576b\"],[0.6666666666666666,\"#ed7953\"],[0.7777777777777778,\"#fb9f3a\"],[0.8888888888888888,\"#fdca26\"],[1.0,\"#f0f921\"]]},\"colorway\":[\"#636efa\",\"#EF553B\",\"#00cc96\",\"#ab63fa\",\"#FFA15A\",\"#19d3f3\",\"#FF6692\",\"#B6E880\",\"#FF97FF\",\"#FECB52\"],\"font\":{\"color\":\"#2a3f5f\"},\"geo\":{\"bgcolor\":\"white\",\"lakecolor\":\"white\",\"landcolor\":\"#E5ECF6\",\"showlakes\":true,\"showland\":true,\"subunitcolor\":\"white\"},\"hoverlabel\":{\"align\":\"left\"},\"hovermode\":\"closest\",\"mapbox\":{\"style\":\"light\"},\"paper_bgcolor\":\"white\",\"plot_bgcolor\":\"#E5ECF6\",\"polar\":{\"angularaxis\":{\"gridcolor\":\"white\",\"linecolor\":\"white\",\"ticks\":\"\"},\"bgcolor\":\"#E5ECF6\",\"radialaxis\":{\"gridcolor\":\"white\",\"linecolor\":\"white\",\"ticks\":\"\"}},\"scene\":{\"xaxis\":{\"backgroundcolor\":\"#E5ECF6\",\"gridcolor\":\"white\",\"gridwidth\":2,\"linecolor\":\"white\",\"showbackground\":true,\"ticks\":\"\",\"zerolinecolor\":\"white\"},\"yaxis\":{\"backgroundcolor\":\"#E5ECF6\",\"gridcolor\":\"white\",\"gridwidth\":2,\"linecolor\":\"white\",\"showbackground\":true,\"ticks\":\"\",\"zerolinecolor\":\"white\"},\"zaxis\":{\"backgroundcolor\":\"#E5ECF6\",\"gridcolor\":\"white\",\"gridwidth\":2,\"linecolor\":\"white\",\"showbackground\":true,\"ticks\":\"\",\"zerolinecolor\":\"white\"}},\"shapedefaults\":{\"line\":{\"color\":\"#2a3f5f\"}},\"ternary\":{\"aaxis\":{\"gridcolor\":\"white\",\"linecolor\":\"white\",\"ticks\":\"\"},\"baxis\":{\"gridcolor\":\"white\",\"linecolor\":\"white\",\"ticks\":\"\"},\"bgcolor\":\"#E5ECF6\",\"caxis\":{\"gridcolor\":\"white\",\"linecolor\":\"white\",\"ticks\":\"\"}},\"title\":{\"x\":0.05},\"xaxis\":{\"automargin\":true,\"gridcolor\":\"white\",\"linecolor\":\"white\",\"ticks\":\"\",\"title\":{\"standoff\":15},\"zerolinecolor\":\"white\",\"zerolinewidth\":2},\"yaxis\":{\"automargin\":true,\"gridcolor\":\"white\",\"linecolor\":\"white\",\"ticks\":\"\",\"title\":{\"standoff\":15},\"zerolinecolor\":\"white\",\"zerolinewidth\":2}}}},                        {\"responsive\": true}                    ).then(function(){\n",
              "                            \n",
              "var gd = document.getElementById('85bb9da5-f55d-4805-b84d-72b22ceb1a7f');\n",
              "var x = new MutationObserver(function (mutations, observer) {{\n",
              "        var display = window.getComputedStyle(gd).display;\n",
              "        if (!display || display === 'none') {{\n",
              "            console.log([gd, 'removed!']);\n",
              "            Plotly.purge(gd);\n",
              "            observer.disconnect();\n",
              "        }}\n",
              "}});\n",
              "\n",
              "// Listen for the removal of the full notebook cells\n",
              "var notebookContainer = gd.closest('#notebook-container');\n",
              "if (notebookContainer) {{\n",
              "    x.observe(notebookContainer, {childList: true});\n",
              "}}\n",
              "\n",
              "// Listen for the clearing of the current output cell\n",
              "var outputEl = gd.closest('.output');\n",
              "if (outputEl) {{\n",
              "    x.observe(outputEl, {childList: true});\n",
              "}}\n",
              "\n",
              "                        })                };                            </script>        </div>\n",
              "</body>\n",
              "</html>"
            ]
          },
          "metadata": {}
        },
        {
          "output_type": "display_data",
          "data": {
            "text/html": [
              "<html>\n",
              "<head><meta charset=\"utf-8\" /></head>\n",
              "<body>\n",
              "    <div>            <script src=\"https://cdnjs.cloudflare.com/ajax/libs/mathjax/2.7.5/MathJax.js?config=TeX-AMS-MML_SVG\"></script><script type=\"text/javascript\">if (window.MathJax) {MathJax.Hub.Config({SVG: {font: \"STIX-Web\"}});}</script>                <script type=\"text/javascript\">window.PlotlyConfig = {MathJaxConfig: 'local'};</script>\n",
              "        <script src=\"https://cdn.plot.ly/plotly-2.8.3.min.js\"></script>                <div id=\"376162a6-4f02-406d-8839-a0c70d93d146\" class=\"plotly-graph-div\" style=\"height:525px; width:100%;\"></div>            <script type=\"text/javascript\">                                    window.PLOTLYENV=window.PLOTLYENV || {};                                    if (document.getElementById(\"376162a6-4f02-406d-8839-a0c70d93d146\")) {                    Plotly.newPlot(                        \"376162a6-4f02-406d-8839-a0c70d93d146\",                        [{\"name\":\"A\",\"x\":[\"Artist\",\"Doctor\",\"Engineer\",\"Entertainment\",\"Executive\",\"Healthcare\",\"Homemaker\",\"Lawyer\",\"Marketing\"],\"y\":[558,199,259,365,125,106,73,197,57],\"type\":\"bar\"},{\"name\":\"B\",\"x\":[\"Artist\",\"Doctor\",\"Engineer\",\"Entertainment\",\"Executive\",\"Healthcare\",\"Homemaker\",\"Lawyer\",\"Marketing\"],\"y\":[756,143,189,221,183,101,55,158,30],\"type\":\"bar\"},{\"name\":\"C\",\"x\":[\"Artist\",\"Doctor\",\"Engineer\",\"Entertainment\",\"Executive\",\"Healthcare\",\"Homemaker\",\"Lawyer\",\"Marketing\"],\"y\":[1065,140,75,148,175,146,28,140,35],\"type\":\"bar\"},{\"name\":\"D\",\"x\":[\"Artist\",\"Doctor\",\"Engineer\",\"Entertainment\",\"Executive\",\"Healthcare\",\"Homemaker\",\"Lawyer\",\"Marketing\"],\"y\":[137,206,176,215,116,979,90,128,170],\"type\":\"bar\"}],                        {\"title\":{\"text\":\"Profession wise Segment\"},\"template\":{\"data\":{\"bar\":[{\"error_x\":{\"color\":\"#2a3f5f\"},\"error_y\":{\"color\":\"#2a3f5f\"},\"marker\":{\"line\":{\"color\":\"#E5ECF6\",\"width\":0.5},\"pattern\":{\"fillmode\":\"overlay\",\"size\":10,\"solidity\":0.2}},\"type\":\"bar\"}],\"barpolar\":[{\"marker\":{\"line\":{\"color\":\"#E5ECF6\",\"width\":0.5},\"pattern\":{\"fillmode\":\"overlay\",\"size\":10,\"solidity\":0.2}},\"type\":\"barpolar\"}],\"carpet\":[{\"aaxis\":{\"endlinecolor\":\"#2a3f5f\",\"gridcolor\":\"white\",\"linecolor\":\"white\",\"minorgridcolor\":\"white\",\"startlinecolor\":\"#2a3f5f\"},\"baxis\":{\"endlinecolor\":\"#2a3f5f\",\"gridcolor\":\"white\",\"linecolor\":\"white\",\"minorgridcolor\":\"white\",\"startlinecolor\":\"#2a3f5f\"},\"type\":\"carpet\"}],\"choropleth\":[{\"colorbar\":{\"outlinewidth\":0,\"ticks\":\"\"},\"type\":\"choropleth\"}],\"contour\":[{\"colorbar\":{\"outlinewidth\":0,\"ticks\":\"\"},\"colorscale\":[[0.0,\"#0d0887\"],[0.1111111111111111,\"#46039f\"],[0.2222222222222222,\"#7201a8\"],[0.3333333333333333,\"#9c179e\"],[0.4444444444444444,\"#bd3786\"],[0.5555555555555556,\"#d8576b\"],[0.6666666666666666,\"#ed7953\"],[0.7777777777777778,\"#fb9f3a\"],[0.8888888888888888,\"#fdca26\"],[1.0,\"#f0f921\"]],\"type\":\"contour\"}],\"contourcarpet\":[{\"colorbar\":{\"outlinewidth\":0,\"ticks\":\"\"},\"type\":\"contourcarpet\"}],\"heatmap\":[{\"colorbar\":{\"outlinewidth\":0,\"ticks\":\"\"},\"colorscale\":[[0.0,\"#0d0887\"],[0.1111111111111111,\"#46039f\"],[0.2222222222222222,\"#7201a8\"],[0.3333333333333333,\"#9c179e\"],[0.4444444444444444,\"#bd3786\"],[0.5555555555555556,\"#d8576b\"],[0.6666666666666666,\"#ed7953\"],[0.7777777777777778,\"#fb9f3a\"],[0.8888888888888888,\"#fdca26\"],[1.0,\"#f0f921\"]],\"type\":\"heatmap\"}],\"heatmapgl\":[{\"colorbar\":{\"outlinewidth\":0,\"ticks\":\"\"},\"colorscale\":[[0.0,\"#0d0887\"],[0.1111111111111111,\"#46039f\"],[0.2222222222222222,\"#7201a8\"],[0.3333333333333333,\"#9c179e\"],[0.4444444444444444,\"#bd3786\"],[0.5555555555555556,\"#d8576b\"],[0.6666666666666666,\"#ed7953\"],[0.7777777777777778,\"#fb9f3a\"],[0.8888888888888888,\"#fdca26\"],[1.0,\"#f0f921\"]],\"type\":\"heatmapgl\"}],\"histogram\":[{\"marker\":{\"pattern\":{\"fillmode\":\"overlay\",\"size\":10,\"solidity\":0.2}},\"type\":\"histogram\"}],\"histogram2d\":[{\"colorbar\":{\"outlinewidth\":0,\"ticks\":\"\"},\"colorscale\":[[0.0,\"#0d0887\"],[0.1111111111111111,\"#46039f\"],[0.2222222222222222,\"#7201a8\"],[0.3333333333333333,\"#9c179e\"],[0.4444444444444444,\"#bd3786\"],[0.5555555555555556,\"#d8576b\"],[0.6666666666666666,\"#ed7953\"],[0.7777777777777778,\"#fb9f3a\"],[0.8888888888888888,\"#fdca26\"],[1.0,\"#f0f921\"]],\"type\":\"histogram2d\"}],\"histogram2dcontour\":[{\"colorbar\":{\"outlinewidth\":0,\"ticks\":\"\"},\"colorscale\":[[0.0,\"#0d0887\"],[0.1111111111111111,\"#46039f\"],[0.2222222222222222,\"#7201a8\"],[0.3333333333333333,\"#9c179e\"],[0.4444444444444444,\"#bd3786\"],[0.5555555555555556,\"#d8576b\"],[0.6666666666666666,\"#ed7953\"],[0.7777777777777778,\"#fb9f3a\"],[0.8888888888888888,\"#fdca26\"],[1.0,\"#f0f921\"]],\"type\":\"histogram2dcontour\"}],\"mesh3d\":[{\"colorbar\":{\"outlinewidth\":0,\"ticks\":\"\"},\"type\":\"mesh3d\"}],\"parcoords\":[{\"line\":{\"colorbar\":{\"outlinewidth\":0,\"ticks\":\"\"}},\"type\":\"parcoords\"}],\"pie\":[{\"automargin\":true,\"type\":\"pie\"}],\"scatter\":[{\"marker\":{\"colorbar\":{\"outlinewidth\":0,\"ticks\":\"\"}},\"type\":\"scatter\"}],\"scatter3d\":[{\"line\":{\"colorbar\":{\"outlinewidth\":0,\"ticks\":\"\"}},\"marker\":{\"colorbar\":{\"outlinewidth\":0,\"ticks\":\"\"}},\"type\":\"scatter3d\"}],\"scattercarpet\":[{\"marker\":{\"colorbar\":{\"outlinewidth\":0,\"ticks\":\"\"}},\"type\":\"scattercarpet\"}],\"scattergeo\":[{\"marker\":{\"colorbar\":{\"outlinewidth\":0,\"ticks\":\"\"}},\"type\":\"scattergeo\"}],\"scattergl\":[{\"marker\":{\"colorbar\":{\"outlinewidth\":0,\"ticks\":\"\"}},\"type\":\"scattergl\"}],\"scattermapbox\":[{\"marker\":{\"colorbar\":{\"outlinewidth\":0,\"ticks\":\"\"}},\"type\":\"scattermapbox\"}],\"scatterpolar\":[{\"marker\":{\"colorbar\":{\"outlinewidth\":0,\"ticks\":\"\"}},\"type\":\"scatterpolar\"}],\"scatterpolargl\":[{\"marker\":{\"colorbar\":{\"outlinewidth\":0,\"ticks\":\"\"}},\"type\":\"scatterpolargl\"}],\"scatterternary\":[{\"marker\":{\"colorbar\":{\"outlinewidth\":0,\"ticks\":\"\"}},\"type\":\"scatterternary\"}],\"surface\":[{\"colorbar\":{\"outlinewidth\":0,\"ticks\":\"\"},\"colorscale\":[[0.0,\"#0d0887\"],[0.1111111111111111,\"#46039f\"],[0.2222222222222222,\"#7201a8\"],[0.3333333333333333,\"#9c179e\"],[0.4444444444444444,\"#bd3786\"],[0.5555555555555556,\"#d8576b\"],[0.6666666666666666,\"#ed7953\"],[0.7777777777777778,\"#fb9f3a\"],[0.8888888888888888,\"#fdca26\"],[1.0,\"#f0f921\"]],\"type\":\"surface\"}],\"table\":[{\"cells\":{\"fill\":{\"color\":\"#EBF0F8\"},\"line\":{\"color\":\"white\"}},\"header\":{\"fill\":{\"color\":\"#C8D4E3\"},\"line\":{\"color\":\"white\"}},\"type\":\"table\"}]},\"layout\":{\"annotationdefaults\":{\"arrowcolor\":\"#2a3f5f\",\"arrowhead\":0,\"arrowwidth\":1},\"autotypenumbers\":\"strict\",\"coloraxis\":{\"colorbar\":{\"outlinewidth\":0,\"ticks\":\"\"}},\"colorscale\":{\"diverging\":[[0,\"#8e0152\"],[0.1,\"#c51b7d\"],[0.2,\"#de77ae\"],[0.3,\"#f1b6da\"],[0.4,\"#fde0ef\"],[0.5,\"#f7f7f7\"],[0.6,\"#e6f5d0\"],[0.7,\"#b8e186\"],[0.8,\"#7fbc41\"],[0.9,\"#4d9221\"],[1,\"#276419\"]],\"sequential\":[[0.0,\"#0d0887\"],[0.1111111111111111,\"#46039f\"],[0.2222222222222222,\"#7201a8\"],[0.3333333333333333,\"#9c179e\"],[0.4444444444444444,\"#bd3786\"],[0.5555555555555556,\"#d8576b\"],[0.6666666666666666,\"#ed7953\"],[0.7777777777777778,\"#fb9f3a\"],[0.8888888888888888,\"#fdca26\"],[1.0,\"#f0f921\"]],\"sequentialminus\":[[0.0,\"#0d0887\"],[0.1111111111111111,\"#46039f\"],[0.2222222222222222,\"#7201a8\"],[0.3333333333333333,\"#9c179e\"],[0.4444444444444444,\"#bd3786\"],[0.5555555555555556,\"#d8576b\"],[0.6666666666666666,\"#ed7953\"],[0.7777777777777778,\"#fb9f3a\"],[0.8888888888888888,\"#fdca26\"],[1.0,\"#f0f921\"]]},\"colorway\":[\"#636efa\",\"#EF553B\",\"#00cc96\",\"#ab63fa\",\"#FFA15A\",\"#19d3f3\",\"#FF6692\",\"#B6E880\",\"#FF97FF\",\"#FECB52\"],\"font\":{\"color\":\"#2a3f5f\"},\"geo\":{\"bgcolor\":\"white\",\"lakecolor\":\"white\",\"landcolor\":\"#E5ECF6\",\"showlakes\":true,\"showland\":true,\"subunitcolor\":\"white\"},\"hoverlabel\":{\"align\":\"left\"},\"hovermode\":\"closest\",\"mapbox\":{\"style\":\"light\"},\"paper_bgcolor\":\"white\",\"plot_bgcolor\":\"#E5ECF6\",\"polar\":{\"angularaxis\":{\"gridcolor\":\"white\",\"linecolor\":\"white\",\"ticks\":\"\"},\"bgcolor\":\"#E5ECF6\",\"radialaxis\":{\"gridcolor\":\"white\",\"linecolor\":\"white\",\"ticks\":\"\"}},\"scene\":{\"xaxis\":{\"backgroundcolor\":\"#E5ECF6\",\"gridcolor\":\"white\",\"gridwidth\":2,\"linecolor\":\"white\",\"showbackground\":true,\"ticks\":\"\",\"zerolinecolor\":\"white\"},\"yaxis\":{\"backgroundcolor\":\"#E5ECF6\",\"gridcolor\":\"white\",\"gridwidth\":2,\"linecolor\":\"white\",\"showbackground\":true,\"ticks\":\"\",\"zerolinecolor\":\"white\"},\"zaxis\":{\"backgroundcolor\":\"#E5ECF6\",\"gridcolor\":\"white\",\"gridwidth\":2,\"linecolor\":\"white\",\"showbackground\":true,\"ticks\":\"\",\"zerolinecolor\":\"white\"}},\"shapedefaults\":{\"line\":{\"color\":\"#2a3f5f\"}},\"ternary\":{\"aaxis\":{\"gridcolor\":\"white\",\"linecolor\":\"white\",\"ticks\":\"\"},\"baxis\":{\"gridcolor\":\"white\",\"linecolor\":\"white\",\"ticks\":\"\"},\"bgcolor\":\"#E5ECF6\",\"caxis\":{\"gridcolor\":\"white\",\"linecolor\":\"white\",\"ticks\":\"\"}},\"title\":{\"x\":0.05},\"xaxis\":{\"automargin\":true,\"gridcolor\":\"white\",\"linecolor\":\"white\",\"ticks\":\"\",\"title\":{\"standoff\":15},\"zerolinecolor\":\"white\",\"zerolinewidth\":2},\"yaxis\":{\"automargin\":true,\"gridcolor\":\"white\",\"linecolor\":\"white\",\"ticks\":\"\",\"title\":{\"standoff\":15},\"zerolinecolor\":\"white\",\"zerolinewidth\":2}}}},                        {\"responsive\": true}                    ).then(function(){\n",
              "                            \n",
              "var gd = document.getElementById('376162a6-4f02-406d-8839-a0c70d93d146');\n",
              "var x = new MutationObserver(function (mutations, observer) {{\n",
              "        var display = window.getComputedStyle(gd).display;\n",
              "        if (!display || display === 'none') {{\n",
              "            console.log([gd, 'removed!']);\n",
              "            Plotly.purge(gd);\n",
              "            observer.disconnect();\n",
              "        }}\n",
              "}});\n",
              "\n",
              "// Listen for the removal of the full notebook cells\n",
              "var notebookContainer = gd.closest('#notebook-container');\n",
              "if (notebookContainer) {{\n",
              "    x.observe(notebookContainer, {childList: true});\n",
              "}}\n",
              "\n",
              "// Listen for the clearing of the current output cell\n",
              "var outputEl = gd.closest('.output');\n",
              "if (outputEl) {{\n",
              "    x.observe(outputEl, {childList: true});\n",
              "}}\n",
              "\n",
              "                        })                };                            </script>        </div>\n",
              "</body>\n",
              "</html>"
            ]
          },
          "metadata": {}
        },
        {
          "output_type": "display_data",
          "data": {
            "text/html": [
              "<html>\n",
              "<head><meta charset=\"utf-8\" /></head>\n",
              "<body>\n",
              "    <div>            <script src=\"https://cdnjs.cloudflare.com/ajax/libs/mathjax/2.7.5/MathJax.js?config=TeX-AMS-MML_SVG\"></script><script type=\"text/javascript\">if (window.MathJax) {MathJax.Hub.Config({SVG: {font: \"STIX-Web\"}});}</script>                <script type=\"text/javascript\">window.PlotlyConfig = {MathJaxConfig: 'local'};</script>\n",
              "        <script src=\"https://cdn.plot.ly/plotly-2.8.3.min.js\"></script>                <div id=\"e870698d-af69-4712-a329-0397bc6b7904\" class=\"plotly-graph-div\" style=\"height:525px; width:100%;\"></div>            <script type=\"text/javascript\">                                    window.PLOTLYENV=window.PLOTLYENV || {};                                    if (document.getElementById(\"e870698d-af69-4712-a329-0397bc6b7904\")) {                    Plotly.newPlot(                        \"e870698d-af69-4712-a329-0397bc6b7904\",                        [{\"name\":\"A\",\"x\":[\"Average\",\"High\",\"Low\"],\"y\":[343,271,1358],\"type\":\"bar\"},{\"name\":\"B\",\"x\":[\"Average\",\"High\",\"Low\"],\"y\":[590,384,884],\"type\":\"bar\"},{\"name\":\"C\",\"x\":[\"Average\",\"High\",\"Low\"],\"y\":[903,405,662],\"type\":\"bar\"},{\"name\":\"D\",\"x\":[\"Average\",\"High\",\"Low\"],\"y\":[138,156,1974],\"type\":\"bar\"}],                        {\"title\":{\"text\":\"Spending_Score wise Segment\"},\"template\":{\"data\":{\"bar\":[{\"error_x\":{\"color\":\"#2a3f5f\"},\"error_y\":{\"color\":\"#2a3f5f\"},\"marker\":{\"line\":{\"color\":\"#E5ECF6\",\"width\":0.5},\"pattern\":{\"fillmode\":\"overlay\",\"size\":10,\"solidity\":0.2}},\"type\":\"bar\"}],\"barpolar\":[{\"marker\":{\"line\":{\"color\":\"#E5ECF6\",\"width\":0.5},\"pattern\":{\"fillmode\":\"overlay\",\"size\":10,\"solidity\":0.2}},\"type\":\"barpolar\"}],\"carpet\":[{\"aaxis\":{\"endlinecolor\":\"#2a3f5f\",\"gridcolor\":\"white\",\"linecolor\":\"white\",\"minorgridcolor\":\"white\",\"startlinecolor\":\"#2a3f5f\"},\"baxis\":{\"endlinecolor\":\"#2a3f5f\",\"gridcolor\":\"white\",\"linecolor\":\"white\",\"minorgridcolor\":\"white\",\"startlinecolor\":\"#2a3f5f\"},\"type\":\"carpet\"}],\"choropleth\":[{\"colorbar\":{\"outlinewidth\":0,\"ticks\":\"\"},\"type\":\"choropleth\"}],\"contour\":[{\"colorbar\":{\"outlinewidth\":0,\"ticks\":\"\"},\"colorscale\":[[0.0,\"#0d0887\"],[0.1111111111111111,\"#46039f\"],[0.2222222222222222,\"#7201a8\"],[0.3333333333333333,\"#9c179e\"],[0.4444444444444444,\"#bd3786\"],[0.5555555555555556,\"#d8576b\"],[0.6666666666666666,\"#ed7953\"],[0.7777777777777778,\"#fb9f3a\"],[0.8888888888888888,\"#fdca26\"],[1.0,\"#f0f921\"]],\"type\":\"contour\"}],\"contourcarpet\":[{\"colorbar\":{\"outlinewidth\":0,\"ticks\":\"\"},\"type\":\"contourcarpet\"}],\"heatmap\":[{\"colorbar\":{\"outlinewidth\":0,\"ticks\":\"\"},\"colorscale\":[[0.0,\"#0d0887\"],[0.1111111111111111,\"#46039f\"],[0.2222222222222222,\"#7201a8\"],[0.3333333333333333,\"#9c179e\"],[0.4444444444444444,\"#bd3786\"],[0.5555555555555556,\"#d8576b\"],[0.6666666666666666,\"#ed7953\"],[0.7777777777777778,\"#fb9f3a\"],[0.8888888888888888,\"#fdca26\"],[1.0,\"#f0f921\"]],\"type\":\"heatmap\"}],\"heatmapgl\":[{\"colorbar\":{\"outlinewidth\":0,\"ticks\":\"\"},\"colorscale\":[[0.0,\"#0d0887\"],[0.1111111111111111,\"#46039f\"],[0.2222222222222222,\"#7201a8\"],[0.3333333333333333,\"#9c179e\"],[0.4444444444444444,\"#bd3786\"],[0.5555555555555556,\"#d8576b\"],[0.6666666666666666,\"#ed7953\"],[0.7777777777777778,\"#fb9f3a\"],[0.8888888888888888,\"#fdca26\"],[1.0,\"#f0f921\"]],\"type\":\"heatmapgl\"}],\"histogram\":[{\"marker\":{\"pattern\":{\"fillmode\":\"overlay\",\"size\":10,\"solidity\":0.2}},\"type\":\"histogram\"}],\"histogram2d\":[{\"colorbar\":{\"outlinewidth\":0,\"ticks\":\"\"},\"colorscale\":[[0.0,\"#0d0887\"],[0.1111111111111111,\"#46039f\"],[0.2222222222222222,\"#7201a8\"],[0.3333333333333333,\"#9c179e\"],[0.4444444444444444,\"#bd3786\"],[0.5555555555555556,\"#d8576b\"],[0.6666666666666666,\"#ed7953\"],[0.7777777777777778,\"#fb9f3a\"],[0.8888888888888888,\"#fdca26\"],[1.0,\"#f0f921\"]],\"type\":\"histogram2d\"}],\"histogram2dcontour\":[{\"colorbar\":{\"outlinewidth\":0,\"ticks\":\"\"},\"colorscale\":[[0.0,\"#0d0887\"],[0.1111111111111111,\"#46039f\"],[0.2222222222222222,\"#7201a8\"],[0.3333333333333333,\"#9c179e\"],[0.4444444444444444,\"#bd3786\"],[0.5555555555555556,\"#d8576b\"],[0.6666666666666666,\"#ed7953\"],[0.7777777777777778,\"#fb9f3a\"],[0.8888888888888888,\"#fdca26\"],[1.0,\"#f0f921\"]],\"type\":\"histogram2dcontour\"}],\"mesh3d\":[{\"colorbar\":{\"outlinewidth\":0,\"ticks\":\"\"},\"type\":\"mesh3d\"}],\"parcoords\":[{\"line\":{\"colorbar\":{\"outlinewidth\":0,\"ticks\":\"\"}},\"type\":\"parcoords\"}],\"pie\":[{\"automargin\":true,\"type\":\"pie\"}],\"scatter\":[{\"marker\":{\"colorbar\":{\"outlinewidth\":0,\"ticks\":\"\"}},\"type\":\"scatter\"}],\"scatter3d\":[{\"line\":{\"colorbar\":{\"outlinewidth\":0,\"ticks\":\"\"}},\"marker\":{\"colorbar\":{\"outlinewidth\":0,\"ticks\":\"\"}},\"type\":\"scatter3d\"}],\"scattercarpet\":[{\"marker\":{\"colorbar\":{\"outlinewidth\":0,\"ticks\":\"\"}},\"type\":\"scattercarpet\"}],\"scattergeo\":[{\"marker\":{\"colorbar\":{\"outlinewidth\":0,\"ticks\":\"\"}},\"type\":\"scattergeo\"}],\"scattergl\":[{\"marker\":{\"colorbar\":{\"outlinewidth\":0,\"ticks\":\"\"}},\"type\":\"scattergl\"}],\"scattermapbox\":[{\"marker\":{\"colorbar\":{\"outlinewidth\":0,\"ticks\":\"\"}},\"type\":\"scattermapbox\"}],\"scatterpolar\":[{\"marker\":{\"colorbar\":{\"outlinewidth\":0,\"ticks\":\"\"}},\"type\":\"scatterpolar\"}],\"scatterpolargl\":[{\"marker\":{\"colorbar\":{\"outlinewidth\":0,\"ticks\":\"\"}},\"type\":\"scatterpolargl\"}],\"scatterternary\":[{\"marker\":{\"colorbar\":{\"outlinewidth\":0,\"ticks\":\"\"}},\"type\":\"scatterternary\"}],\"surface\":[{\"colorbar\":{\"outlinewidth\":0,\"ticks\":\"\"},\"colorscale\":[[0.0,\"#0d0887\"],[0.1111111111111111,\"#46039f\"],[0.2222222222222222,\"#7201a8\"],[0.3333333333333333,\"#9c179e\"],[0.4444444444444444,\"#bd3786\"],[0.5555555555555556,\"#d8576b\"],[0.6666666666666666,\"#ed7953\"],[0.7777777777777778,\"#fb9f3a\"],[0.8888888888888888,\"#fdca26\"],[1.0,\"#f0f921\"]],\"type\":\"surface\"}],\"table\":[{\"cells\":{\"fill\":{\"color\":\"#EBF0F8\"},\"line\":{\"color\":\"white\"}},\"header\":{\"fill\":{\"color\":\"#C8D4E3\"},\"line\":{\"color\":\"white\"}},\"type\":\"table\"}]},\"layout\":{\"annotationdefaults\":{\"arrowcolor\":\"#2a3f5f\",\"arrowhead\":0,\"arrowwidth\":1},\"autotypenumbers\":\"strict\",\"coloraxis\":{\"colorbar\":{\"outlinewidth\":0,\"ticks\":\"\"}},\"colorscale\":{\"diverging\":[[0,\"#8e0152\"],[0.1,\"#c51b7d\"],[0.2,\"#de77ae\"],[0.3,\"#f1b6da\"],[0.4,\"#fde0ef\"],[0.5,\"#f7f7f7\"],[0.6,\"#e6f5d0\"],[0.7,\"#b8e186\"],[0.8,\"#7fbc41\"],[0.9,\"#4d9221\"],[1,\"#276419\"]],\"sequential\":[[0.0,\"#0d0887\"],[0.1111111111111111,\"#46039f\"],[0.2222222222222222,\"#7201a8\"],[0.3333333333333333,\"#9c179e\"],[0.4444444444444444,\"#bd3786\"],[0.5555555555555556,\"#d8576b\"],[0.6666666666666666,\"#ed7953\"],[0.7777777777777778,\"#fb9f3a\"],[0.8888888888888888,\"#fdca26\"],[1.0,\"#f0f921\"]],\"sequentialminus\":[[0.0,\"#0d0887\"],[0.1111111111111111,\"#46039f\"],[0.2222222222222222,\"#7201a8\"],[0.3333333333333333,\"#9c179e\"],[0.4444444444444444,\"#bd3786\"],[0.5555555555555556,\"#d8576b\"],[0.6666666666666666,\"#ed7953\"],[0.7777777777777778,\"#fb9f3a\"],[0.8888888888888888,\"#fdca26\"],[1.0,\"#f0f921\"]]},\"colorway\":[\"#636efa\",\"#EF553B\",\"#00cc96\",\"#ab63fa\",\"#FFA15A\",\"#19d3f3\",\"#FF6692\",\"#B6E880\",\"#FF97FF\",\"#FECB52\"],\"font\":{\"color\":\"#2a3f5f\"},\"geo\":{\"bgcolor\":\"white\",\"lakecolor\":\"white\",\"landcolor\":\"#E5ECF6\",\"showlakes\":true,\"showland\":true,\"subunitcolor\":\"white\"},\"hoverlabel\":{\"align\":\"left\"},\"hovermode\":\"closest\",\"mapbox\":{\"style\":\"light\"},\"paper_bgcolor\":\"white\",\"plot_bgcolor\":\"#E5ECF6\",\"polar\":{\"angularaxis\":{\"gridcolor\":\"white\",\"linecolor\":\"white\",\"ticks\":\"\"},\"bgcolor\":\"#E5ECF6\",\"radialaxis\":{\"gridcolor\":\"white\",\"linecolor\":\"white\",\"ticks\":\"\"}},\"scene\":{\"xaxis\":{\"backgroundcolor\":\"#E5ECF6\",\"gridcolor\":\"white\",\"gridwidth\":2,\"linecolor\":\"white\",\"showbackground\":true,\"ticks\":\"\",\"zerolinecolor\":\"white\"},\"yaxis\":{\"backgroundcolor\":\"#E5ECF6\",\"gridcolor\":\"white\",\"gridwidth\":2,\"linecolor\":\"white\",\"showbackground\":true,\"ticks\":\"\",\"zerolinecolor\":\"white\"},\"zaxis\":{\"backgroundcolor\":\"#E5ECF6\",\"gridcolor\":\"white\",\"gridwidth\":2,\"linecolor\":\"white\",\"showbackground\":true,\"ticks\":\"\",\"zerolinecolor\":\"white\"}},\"shapedefaults\":{\"line\":{\"color\":\"#2a3f5f\"}},\"ternary\":{\"aaxis\":{\"gridcolor\":\"white\",\"linecolor\":\"white\",\"ticks\":\"\"},\"baxis\":{\"gridcolor\":\"white\",\"linecolor\":\"white\",\"ticks\":\"\"},\"bgcolor\":\"#E5ECF6\",\"caxis\":{\"gridcolor\":\"white\",\"linecolor\":\"white\",\"ticks\":\"\"}},\"title\":{\"x\":0.05},\"xaxis\":{\"automargin\":true,\"gridcolor\":\"white\",\"linecolor\":\"white\",\"ticks\":\"\",\"title\":{\"standoff\":15},\"zerolinecolor\":\"white\",\"zerolinewidth\":2},\"yaxis\":{\"automargin\":true,\"gridcolor\":\"white\",\"linecolor\":\"white\",\"ticks\":\"\",\"title\":{\"standoff\":15},\"zerolinecolor\":\"white\",\"zerolinewidth\":2}}}},                        {\"responsive\": true}                    ).then(function(){\n",
              "                            \n",
              "var gd = document.getElementById('e870698d-af69-4712-a329-0397bc6b7904');\n",
              "var x = new MutationObserver(function (mutations, observer) {{\n",
              "        var display = window.getComputedStyle(gd).display;\n",
              "        if (!display || display === 'none') {{\n",
              "            console.log([gd, 'removed!']);\n",
              "            Plotly.purge(gd);\n",
              "            observer.disconnect();\n",
              "        }}\n",
              "}});\n",
              "\n",
              "// Listen for the removal of the full notebook cells\n",
              "var notebookContainer = gd.closest('#notebook-container');\n",
              "if (notebookContainer) {{\n",
              "    x.observe(notebookContainer, {childList: true});\n",
              "}}\n",
              "\n",
              "// Listen for the clearing of the current output cell\n",
              "var outputEl = gd.closest('.output');\n",
              "if (outputEl) {{\n",
              "    x.observe(outputEl, {childList: true});\n",
              "}}\n",
              "\n",
              "                        })                };                            </script>        </div>\n",
              "</body>\n",
              "</html>"
            ]
          },
          "metadata": {}
        },
        {
          "output_type": "display_data",
          "data": {
            "text/html": [
              "<html>\n",
              "<head><meta charset=\"utf-8\" /></head>\n",
              "<body>\n",
              "    <div>            <script src=\"https://cdnjs.cloudflare.com/ajax/libs/mathjax/2.7.5/MathJax.js?config=TeX-AMS-MML_SVG\"></script><script type=\"text/javascript\">if (window.MathJax) {MathJax.Hub.Config({SVG: {font: \"STIX-Web\"}});}</script>                <script type=\"text/javascript\">window.PlotlyConfig = {MathJaxConfig: 'local'};</script>\n",
              "        <script src=\"https://cdn.plot.ly/plotly-2.8.3.min.js\"></script>                <div id=\"a657611e-ca00-43dd-9501-5c65dce6d7e9\" class=\"plotly-graph-div\" style=\"height:525px; width:100%;\"></div>            <script type=\"text/javascript\">                                    window.PLOTLYENV=window.PLOTLYENV || {};                                    if (document.getElementById(\"a657611e-ca00-43dd-9501-5c65dce6d7e9\")) {                    Plotly.newPlot(                        \"a657611e-ca00-43dd-9501-5c65dce6d7e9\",                        [{\"name\":\"A\",\"x\":[\"Cat_1\",\"Cat_2\",\"Cat_3\",\"Cat_4\",\"Cat_5\",\"Cat_6\",\"Cat_7\"],\"y\":[31,83,223,333,19,1213,51],\"type\":\"bar\"},{\"name\":\"B\",\"x\":[\"Cat_1\",\"Cat_2\",\"Cat_3\",\"Cat_4\",\"Cat_5\",\"Cat_6\",\"Cat_7\"],\"y\":[26,106,186,232,20,1232,43],\"type\":\"bar\"},{\"name\":\"C\",\"x\":[\"Cat_1\",\"Cat_2\",\"Cat_3\",\"Cat_4\",\"Cat_5\",\"Cat_6\",\"Cat_7\"],\"y\":[26,99,154,109,18,1496,47],\"type\":\"bar\"},{\"name\":\"D\",\"x\":[\"Cat_1\",\"Cat_2\",\"Cat_3\",\"Cat_4\",\"Cat_5\",\"Cat_6\",\"Cat_7\"],\"y\":[50,134,259,415,28,1297,62],\"type\":\"bar\"}],                        {\"title\":{\"text\":\"Var_1 wise Segment\"},\"template\":{\"data\":{\"bar\":[{\"error_x\":{\"color\":\"#2a3f5f\"},\"error_y\":{\"color\":\"#2a3f5f\"},\"marker\":{\"line\":{\"color\":\"#E5ECF6\",\"width\":0.5},\"pattern\":{\"fillmode\":\"overlay\",\"size\":10,\"solidity\":0.2}},\"type\":\"bar\"}],\"barpolar\":[{\"marker\":{\"line\":{\"color\":\"#E5ECF6\",\"width\":0.5},\"pattern\":{\"fillmode\":\"overlay\",\"size\":10,\"solidity\":0.2}},\"type\":\"barpolar\"}],\"carpet\":[{\"aaxis\":{\"endlinecolor\":\"#2a3f5f\",\"gridcolor\":\"white\",\"linecolor\":\"white\",\"minorgridcolor\":\"white\",\"startlinecolor\":\"#2a3f5f\"},\"baxis\":{\"endlinecolor\":\"#2a3f5f\",\"gridcolor\":\"white\",\"linecolor\":\"white\",\"minorgridcolor\":\"white\",\"startlinecolor\":\"#2a3f5f\"},\"type\":\"carpet\"}],\"choropleth\":[{\"colorbar\":{\"outlinewidth\":0,\"ticks\":\"\"},\"type\":\"choropleth\"}],\"contour\":[{\"colorbar\":{\"outlinewidth\":0,\"ticks\":\"\"},\"colorscale\":[[0.0,\"#0d0887\"],[0.1111111111111111,\"#46039f\"],[0.2222222222222222,\"#7201a8\"],[0.3333333333333333,\"#9c179e\"],[0.4444444444444444,\"#bd3786\"],[0.5555555555555556,\"#d8576b\"],[0.6666666666666666,\"#ed7953\"],[0.7777777777777778,\"#fb9f3a\"],[0.8888888888888888,\"#fdca26\"],[1.0,\"#f0f921\"]],\"type\":\"contour\"}],\"contourcarpet\":[{\"colorbar\":{\"outlinewidth\":0,\"ticks\":\"\"},\"type\":\"contourcarpet\"}],\"heatmap\":[{\"colorbar\":{\"outlinewidth\":0,\"ticks\":\"\"},\"colorscale\":[[0.0,\"#0d0887\"],[0.1111111111111111,\"#46039f\"],[0.2222222222222222,\"#7201a8\"],[0.3333333333333333,\"#9c179e\"],[0.4444444444444444,\"#bd3786\"],[0.5555555555555556,\"#d8576b\"],[0.6666666666666666,\"#ed7953\"],[0.7777777777777778,\"#fb9f3a\"],[0.8888888888888888,\"#fdca26\"],[1.0,\"#f0f921\"]],\"type\":\"heatmap\"}],\"heatmapgl\":[{\"colorbar\":{\"outlinewidth\":0,\"ticks\":\"\"},\"colorscale\":[[0.0,\"#0d0887\"],[0.1111111111111111,\"#46039f\"],[0.2222222222222222,\"#7201a8\"],[0.3333333333333333,\"#9c179e\"],[0.4444444444444444,\"#bd3786\"],[0.5555555555555556,\"#d8576b\"],[0.6666666666666666,\"#ed7953\"],[0.7777777777777778,\"#fb9f3a\"],[0.8888888888888888,\"#fdca26\"],[1.0,\"#f0f921\"]],\"type\":\"heatmapgl\"}],\"histogram\":[{\"marker\":{\"pattern\":{\"fillmode\":\"overlay\",\"size\":10,\"solidity\":0.2}},\"type\":\"histogram\"}],\"histogram2d\":[{\"colorbar\":{\"outlinewidth\":0,\"ticks\":\"\"},\"colorscale\":[[0.0,\"#0d0887\"],[0.1111111111111111,\"#46039f\"],[0.2222222222222222,\"#7201a8\"],[0.3333333333333333,\"#9c179e\"],[0.4444444444444444,\"#bd3786\"],[0.5555555555555556,\"#d8576b\"],[0.6666666666666666,\"#ed7953\"],[0.7777777777777778,\"#fb9f3a\"],[0.8888888888888888,\"#fdca26\"],[1.0,\"#f0f921\"]],\"type\":\"histogram2d\"}],\"histogram2dcontour\":[{\"colorbar\":{\"outlinewidth\":0,\"ticks\":\"\"},\"colorscale\":[[0.0,\"#0d0887\"],[0.1111111111111111,\"#46039f\"],[0.2222222222222222,\"#7201a8\"],[0.3333333333333333,\"#9c179e\"],[0.4444444444444444,\"#bd3786\"],[0.5555555555555556,\"#d8576b\"],[0.6666666666666666,\"#ed7953\"],[0.7777777777777778,\"#fb9f3a\"],[0.8888888888888888,\"#fdca26\"],[1.0,\"#f0f921\"]],\"type\":\"histogram2dcontour\"}],\"mesh3d\":[{\"colorbar\":{\"outlinewidth\":0,\"ticks\":\"\"},\"type\":\"mesh3d\"}],\"parcoords\":[{\"line\":{\"colorbar\":{\"outlinewidth\":0,\"ticks\":\"\"}},\"type\":\"parcoords\"}],\"pie\":[{\"automargin\":true,\"type\":\"pie\"}],\"scatter\":[{\"marker\":{\"colorbar\":{\"outlinewidth\":0,\"ticks\":\"\"}},\"type\":\"scatter\"}],\"scatter3d\":[{\"line\":{\"colorbar\":{\"outlinewidth\":0,\"ticks\":\"\"}},\"marker\":{\"colorbar\":{\"outlinewidth\":0,\"ticks\":\"\"}},\"type\":\"scatter3d\"}],\"scattercarpet\":[{\"marker\":{\"colorbar\":{\"outlinewidth\":0,\"ticks\":\"\"}},\"type\":\"scattercarpet\"}],\"scattergeo\":[{\"marker\":{\"colorbar\":{\"outlinewidth\":0,\"ticks\":\"\"}},\"type\":\"scattergeo\"}],\"scattergl\":[{\"marker\":{\"colorbar\":{\"outlinewidth\":0,\"ticks\":\"\"}},\"type\":\"scattergl\"}],\"scattermapbox\":[{\"marker\":{\"colorbar\":{\"outlinewidth\":0,\"ticks\":\"\"}},\"type\":\"scattermapbox\"}],\"scatterpolar\":[{\"marker\":{\"colorbar\":{\"outlinewidth\":0,\"ticks\":\"\"}},\"type\":\"scatterpolar\"}],\"scatterpolargl\":[{\"marker\":{\"colorbar\":{\"outlinewidth\":0,\"ticks\":\"\"}},\"type\":\"scatterpolargl\"}],\"scatterternary\":[{\"marker\":{\"colorbar\":{\"outlinewidth\":0,\"ticks\":\"\"}},\"type\":\"scatterternary\"}],\"surface\":[{\"colorbar\":{\"outlinewidth\":0,\"ticks\":\"\"},\"colorscale\":[[0.0,\"#0d0887\"],[0.1111111111111111,\"#46039f\"],[0.2222222222222222,\"#7201a8\"],[0.3333333333333333,\"#9c179e\"],[0.4444444444444444,\"#bd3786\"],[0.5555555555555556,\"#d8576b\"],[0.6666666666666666,\"#ed7953\"],[0.7777777777777778,\"#fb9f3a\"],[0.8888888888888888,\"#fdca26\"],[1.0,\"#f0f921\"]],\"type\":\"surface\"}],\"table\":[{\"cells\":{\"fill\":{\"color\":\"#EBF0F8\"},\"line\":{\"color\":\"white\"}},\"header\":{\"fill\":{\"color\":\"#C8D4E3\"},\"line\":{\"color\":\"white\"}},\"type\":\"table\"}]},\"layout\":{\"annotationdefaults\":{\"arrowcolor\":\"#2a3f5f\",\"arrowhead\":0,\"arrowwidth\":1},\"autotypenumbers\":\"strict\",\"coloraxis\":{\"colorbar\":{\"outlinewidth\":0,\"ticks\":\"\"}},\"colorscale\":{\"diverging\":[[0,\"#8e0152\"],[0.1,\"#c51b7d\"],[0.2,\"#de77ae\"],[0.3,\"#f1b6da\"],[0.4,\"#fde0ef\"],[0.5,\"#f7f7f7\"],[0.6,\"#e6f5d0\"],[0.7,\"#b8e186\"],[0.8,\"#7fbc41\"],[0.9,\"#4d9221\"],[1,\"#276419\"]],\"sequential\":[[0.0,\"#0d0887\"],[0.1111111111111111,\"#46039f\"],[0.2222222222222222,\"#7201a8\"],[0.3333333333333333,\"#9c179e\"],[0.4444444444444444,\"#bd3786\"],[0.5555555555555556,\"#d8576b\"],[0.6666666666666666,\"#ed7953\"],[0.7777777777777778,\"#fb9f3a\"],[0.8888888888888888,\"#fdca26\"],[1.0,\"#f0f921\"]],\"sequentialminus\":[[0.0,\"#0d0887\"],[0.1111111111111111,\"#46039f\"],[0.2222222222222222,\"#7201a8\"],[0.3333333333333333,\"#9c179e\"],[0.4444444444444444,\"#bd3786\"],[0.5555555555555556,\"#d8576b\"],[0.6666666666666666,\"#ed7953\"],[0.7777777777777778,\"#fb9f3a\"],[0.8888888888888888,\"#fdca26\"],[1.0,\"#f0f921\"]]},\"colorway\":[\"#636efa\",\"#EF553B\",\"#00cc96\",\"#ab63fa\",\"#FFA15A\",\"#19d3f3\",\"#FF6692\",\"#B6E880\",\"#FF97FF\",\"#FECB52\"],\"font\":{\"color\":\"#2a3f5f\"},\"geo\":{\"bgcolor\":\"white\",\"lakecolor\":\"white\",\"landcolor\":\"#E5ECF6\",\"showlakes\":true,\"showland\":true,\"subunitcolor\":\"white\"},\"hoverlabel\":{\"align\":\"left\"},\"hovermode\":\"closest\",\"mapbox\":{\"style\":\"light\"},\"paper_bgcolor\":\"white\",\"plot_bgcolor\":\"#E5ECF6\",\"polar\":{\"angularaxis\":{\"gridcolor\":\"white\",\"linecolor\":\"white\",\"ticks\":\"\"},\"bgcolor\":\"#E5ECF6\",\"radialaxis\":{\"gridcolor\":\"white\",\"linecolor\":\"white\",\"ticks\":\"\"}},\"scene\":{\"xaxis\":{\"backgroundcolor\":\"#E5ECF6\",\"gridcolor\":\"white\",\"gridwidth\":2,\"linecolor\":\"white\",\"showbackground\":true,\"ticks\":\"\",\"zerolinecolor\":\"white\"},\"yaxis\":{\"backgroundcolor\":\"#E5ECF6\",\"gridcolor\":\"white\",\"gridwidth\":2,\"linecolor\":\"white\",\"showbackground\":true,\"ticks\":\"\",\"zerolinecolor\":\"white\"},\"zaxis\":{\"backgroundcolor\":\"#E5ECF6\",\"gridcolor\":\"white\",\"gridwidth\":2,\"linecolor\":\"white\",\"showbackground\":true,\"ticks\":\"\",\"zerolinecolor\":\"white\"}},\"shapedefaults\":{\"line\":{\"color\":\"#2a3f5f\"}},\"ternary\":{\"aaxis\":{\"gridcolor\":\"white\",\"linecolor\":\"white\",\"ticks\":\"\"},\"baxis\":{\"gridcolor\":\"white\",\"linecolor\":\"white\",\"ticks\":\"\"},\"bgcolor\":\"#E5ECF6\",\"caxis\":{\"gridcolor\":\"white\",\"linecolor\":\"white\",\"ticks\":\"\"}},\"title\":{\"x\":0.05},\"xaxis\":{\"automargin\":true,\"gridcolor\":\"white\",\"linecolor\":\"white\",\"ticks\":\"\",\"title\":{\"standoff\":15},\"zerolinecolor\":\"white\",\"zerolinewidth\":2},\"yaxis\":{\"automargin\":true,\"gridcolor\":\"white\",\"linecolor\":\"white\",\"ticks\":\"\",\"title\":{\"standoff\":15},\"zerolinecolor\":\"white\",\"zerolinewidth\":2}}}},                        {\"responsive\": true}                    ).then(function(){\n",
              "                            \n",
              "var gd = document.getElementById('a657611e-ca00-43dd-9501-5c65dce6d7e9');\n",
              "var x = new MutationObserver(function (mutations, observer) {{\n",
              "        var display = window.getComputedStyle(gd).display;\n",
              "        if (!display || display === 'none') {{\n",
              "            console.log([gd, 'removed!']);\n",
              "            Plotly.purge(gd);\n",
              "            observer.disconnect();\n",
              "        }}\n",
              "}});\n",
              "\n",
              "// Listen for the removal of the full notebook cells\n",
              "var notebookContainer = gd.closest('#notebook-container');\n",
              "if (notebookContainer) {{\n",
              "    x.observe(notebookContainer, {childList: true});\n",
              "}}\n",
              "\n",
              "// Listen for the clearing of the current output cell\n",
              "var outputEl = gd.closest('.output');\n",
              "if (outputEl) {{\n",
              "    x.observe(outputEl, {childList: true});\n",
              "}}\n",
              "\n",
              "                        })                };                            </script>        </div>\n",
              "</body>\n",
              "</html>"
            ]
          },
          "metadata": {}
        }
      ]
    },
    {
      "cell_type": "code",
      "source": [
        "train[tag].replace('A', 0,inplace=True) \n",
        "train[tag].replace('B', 1,inplace=True)\n",
        "train[tag].replace('C', 2,inplace=True) \n",
        "train[tag].replace('D', 3,inplace=True)"
      ],
      "metadata": {
        "id": "lzZzO0az85P7"
      },
      "execution_count": null,
      "outputs": []
    },
    {
      "cell_type": "code",
      "source": [
        "train.isnull().sum()"
      ],
      "metadata": {
        "colab": {
          "base_uri": "https://localhost:8080/"
        },
        "id": "eb7I-xRR-37y",
        "outputId": "72740648-6698-4115-e94a-d87d19783b87"
      },
      "execution_count": null,
      "outputs": [
        {
          "output_type": "execute_result",
          "data": {
            "text/plain": [
              "ID                   0\n",
              "Gender               0\n",
              "Ever_Married       140\n",
              "Age                  0\n",
              "Graduated           78\n",
              "Profession         124\n",
              "Work_Experience    829\n",
              "Spending_Score       0\n",
              "Family_Size        335\n",
              "Var_1               76\n",
              "Segmentation         0\n",
              "Age_bin            132\n",
              "dtype: int64"
            ]
          },
          "metadata": {},
          "execution_count": 25
        }
      ]
    },
    {
      "cell_type": "code",
      "source": [
        "test.isnull().sum()"
      ],
      "metadata": {
        "colab": {
          "base_uri": "https://localhost:8080/"
        },
        "id": "MiOaLHiK6X7u",
        "outputId": "781f2a67-ca90-4e2b-e67f-e3d97f931b95"
      },
      "execution_count": null,
      "outputs": [
        {
          "output_type": "execute_result",
          "data": {
            "text/plain": [
              "ID                   0\n",
              "Gender               0\n",
              "Ever_Married        50\n",
              "Age                  0\n",
              "Graduated           24\n",
              "Profession          38\n",
              "Work_Experience    269\n",
              "Spending_Score       0\n",
              "Family_Size        113\n",
              "Var_1               32\n",
              "dtype: int64"
            ]
          },
          "metadata": {},
          "execution_count": 26
        }
      ]
    },
    {
      "cell_type": "code",
      "source": [
        "import matplotlib.pyplot as plt\n",
        "bins=[18,25,30,40,90] \n",
        "\n",
        "train['Age_bin']=pd.cut(train['Age'],bins)\n",
        "LoanAmount_bin=pd.crosstab(train['Age_bin'],train['Ever_Married']) \n",
        "LoanAmount_bin.div(LoanAmount_bin.sum(1).astype(float), axis=0).plot(kind=\"bar\", stacked=True) \n",
        "plt.xlabel('Age') \n",
        "P = plt.ylabel('Percentage')"
      ],
      "metadata": {
        "colab": {
          "base_uri": "https://localhost:8080/",
          "height": 326
        },
        "id": "a65TzvEy_Otb",
        "outputId": "6ec3b11f-1e07-4149-8fa7-556dd0e9afb9"
      },
      "execution_count": null,
      "outputs": [
        {
          "output_type": "execute_result",
          "data": {
            "text/plain": [
              "<matplotlib.axes._subplots.AxesSubplot at 0x7fe1f1bc0c90>"
            ]
          },
          "metadata": {},
          "execution_count": 27
        },
        {
          "output_type": "execute_result",
          "data": {
            "text/plain": [
              "Text(0.5, 0, 'Age')"
            ]
          },
          "metadata": {},
          "execution_count": 27
        },
        {
          "output_type": "display_data",
          "data": {
            "text/plain": [
              "<Figure size 432x288 with 1 Axes>"
            ],
            "image/png": "[encoded data removed]"
          },
          "metadata": {
            "needs_background": "light"
          }
        }
      ]
    },
    {
      "cell_type": "code",
      "source": [
        "train[train['Ever_Married'].isnull()]"
      ],
      "metadata": {
        "colab": {
          "base_uri": "https://localhost:8080/",
          "height": 424
        },
        "id": "8D_e4xfi_Yt6",
        "outputId": "c6d5359e-6a81-413b-ca45-7839088f9f79"
      },
      "execution_count": null,
      "outputs": [
        {
          "output_type": "execute_result",
          "data": {
            "text/plain": [
              "          ID  Gender Ever_Married  Age Graduated     Profession  \\\n",
              "24    461021  Female          NaN   58        No      Executive   \n",
              "108   466466  Female          NaN   19        No     Healthcare   \n",
              "201   466065    Male          NaN   19        No     Healthcare   \n",
              "213   460516  Female          NaN   85        No         Lawyer   \n",
              "272   464841    Male          NaN   19        No  Entertainment   \n",
              "...      ...     ...          ...  ...       ...            ...   \n",
              "7756  465987    Male          NaN   20        No     Healthcare   \n",
              "7775  462989    Male          NaN   32       Yes     Healthcare   \n",
              "8011  466026  Female          NaN   49        No  Entertainment   \n",
              "8030  459082    Male          NaN   45       Yes         Artist   \n",
              "8044  466997  Female          NaN   50        No       Engineer   \n",
              "\n",
              "      Work_Experience Spending_Score  Family_Size  Var_1  Segmentation  \\\n",
              "24                1.0        Average          3.0  Cat_3             1   \n",
              "108               6.0            Low          5.0  Cat_3             3   \n",
              "201               9.0            Low          3.0  Cat_3             3   \n",
              "213               0.0           High          1.0  Cat_3             2   \n",
              "272               0.0           High          3.0  Cat_4             3   \n",
              "...               ...            ...          ...    ...           ...   \n",
              "7756              1.0            Low          3.0  Cat_2             3   \n",
              "7775              1.0            Low          1.0  Cat_6             3   \n",
              "8011              0.0            Low          1.0  Cat_3             0   \n",
              "8030              1.0            Low          NaN  Cat_6             0   \n",
              "8044              1.0            Low          2.0  Cat_6             3   \n",
              "\n",
              "       Age_bin  \n",
              "24    (40, 90]  \n",
              "108   (18, 25]  \n",
              "201   (18, 25]  \n",
              "213   (40, 90]  \n",
              "272   (18, 25]  \n",
              "...        ...  \n",
              "7756  (18, 25]  \n",
              "7775  (30, 40]  \n",
              "8011  (40, 90]  \n",
              "8030  (40, 90]  \n",
              "8044  (40, 90]  \n",
              "\n",
              "[140 rows x 12 columns]"
            ],
            "text/html": [
              "\n",
              "  <div id=\"df-4f31ed36-a747-4998-ae06-45cd036ed007\">\n",
              "    <div class=\"colab-df-container\">\n",
              "      <div>\n",
              "<style scoped>\n",
              "    .dataframe tbody tr th:only-of-type {\n",
              "        vertical-align: middle;\n",
              "    }\n",
              "\n",
              "    .dataframe tbody tr th {\n",
              "        vertical-align: top;\n",
              "    }\n",
              "\n",
              "    .dataframe thead th {\n",
              "        text-align: right;\n",
              "    }\n",
              "</style>\n",
              "<table border=\"1\" class=\"dataframe\">\n",
              "  <thead>\n",
              "    <tr style=\"text-align: right;\">\n",
              "      <th></th>\n",
              "      <th>ID</th>\n",
              "      <th>Gender</th>\n",
              "      <th>Ever_Married</th>\n",
              "      <th>Age</th>\n",
              "      <th>Graduated</th>\n",
              "      <th>Profession</th>\n",
              "      <th>Work_Experience</th>\n",
              "      <th>Spending_Score</th>\n",
              "      <th>Family_Size</th>\n",
              "      <th>Var_1</th>\n",
              "      <th>Segmentation</th>\n",
              "      <th>Age_bin</th>\n",
              "    </tr>\n",
              "  </thead>\n",
              "  <tbody>\n",
              "    <tr>\n",
              "      <th>24</th>\n",
              "      <td>461021</td>\n",
              "      <td>Female</td>\n",
              "      <td>NaN</td>\n",
              "      <td>58</td>\n",
              "      <td>No</td>\n",
              "      <td>Executive</td>\n",
              "      <td>1.0</td>\n",
              "      <td>Average</td>\n",
              "      <td>3.0</td>\n",
              "      <td>Cat_3</td>\n",
              "      <td>1</td>\n",
              "      <td>(40, 90]</td>\n",
              "    </tr>\n",
              "    <tr>\n",
              "      <th>108</th>\n",
              "      <td>466466</td>\n",
              "      <td>Female</td>\n",
              "      <td>NaN</td>\n",
              "      <td>19</td>\n",
              "      <td>No</td>\n",
              "      <td>Healthcare</td>\n",
              "      <td>6.0</td>\n",
              "      <td>Low</td>\n",
              "      <td>5.0</td>\n",
              "      <td>Cat_3</td>\n",
              "      <td>3</td>\n",
              "      <td>(18, 25]</td>\n",
              "    </tr>\n",
              "    <tr>\n",
              "      <th>201</th>\n",
              "      <td>466065</td>\n",
              "      <td>Male</td>\n",
              "      <td>NaN</td>\n",
              "      <td>19</td>\n",
              "      <td>No</td>\n",
              "      <td>Healthcare</td>\n",
              "      <td>9.0</td>\n",
              "      <td>Low</td>\n",
              "      <td>3.0</td>\n",
              "      <td>Cat_3</td>\n",
              "      <td>3</td>\n",
              "      <td>(18, 25]</td>\n",
              "    </tr>\n",
              "    <tr>\n",
              "      <th>213</th>\n",
              "      <td>460516</td>\n",
              "      <td>Female</td>\n",
              "      <td>NaN</td>\n",
              "      <td>85</td>\n",
              "      <td>No</td>\n",
              "      <td>Lawyer</td>\n",
              "      <td>0.0</td>\n",
              "      <td>High</td>\n",
              "      <td>1.0</td>\n",
              "      <td>Cat_3</td>\n",
              "      <td>2</td>\n",
              "      <td>(40, 90]</td>\n",
              "    </tr>\n",
              "    <tr>\n",
              "      <th>272</th>\n",
              "      <td>464841</td>\n",
              "      <td>Male</td>\n",
              "      <td>NaN</td>\n",
              "      <td>19</td>\n",
              "      <td>No</td>\n",
              "      <td>Entertainment</td>\n",
              "      <td>0.0</td>\n",
              "      <td>High</td>\n",
              "      <td>3.0</td>\n",
              "      <td>Cat_4</td>\n",
              "      <td>3</td>\n",
              "      <td>(18, 25]</td>\n",
              "    </tr>\n",
              "    <tr>\n",
              "      <th>...</th>\n",
              "      <td>...</td>\n",
              "      <td>...</td>\n",
              "      <td>...</td>\n",
              "      <td>...</td>\n",
              "      <td>...</td>\n",
              "      <td>...</td>\n",
              "      <td>...</td>\n",
              "      <td>...</td>\n",
              "      <td>...</td>\n",
              "      <td>...</td>\n",
              "      <td>...</td>\n",
              "      <td>...</td>\n",
              "    </tr>\n",
              "    <tr>\n",
              "      <th>7756</th>\n",
              "      <td>465987</td>\n",
              "      <td>Male</td>\n",
              "      <td>NaN</td>\n",
              "      <td>20</td>\n",
              "      <td>No</td>\n",
              "      <td>Healthcare</td>\n",
              "      <td>1.0</td>\n",
              "      <td>Low</td>\n",
              "      <td>3.0</td>\n",
              "      <td>Cat_2</td>\n",
              "      <td>3</td>\n",
              "      <td>(18, 25]</td>\n",
              "    </tr>\n",
              "    <tr>\n",
              "      <th>7775</th>\n",
              "      <td>462989</td>\n",
              "      <td>Male</td>\n",
              "      <td>NaN</td>\n",
              "      <td>32</td>\n",
              "      <td>Yes</td>\n",
              "      <td>Healthcare</td>\n",
              "      <td>1.0</td>\n",
              "      <td>Low</td>\n",
              "      <td>1.0</td>\n",
              "      <td>Cat_6</td>\n",
              "      <td>3</td>\n",
              "      <td>(30, 40]</td>\n",
              "    </tr>\n",
              "    <tr>\n",
              "      <th>8011</th>\n",
              "      <td>466026</td>\n",
              "      <td>Female</td>\n",
              "      <td>NaN</td>\n",
              "      <td>49</td>\n",
              "      <td>No</td>\n",
              "      <td>Entertainment</td>\n",
              "      <td>0.0</td>\n",
              "      <td>Low</td>\n",
              "      <td>1.0</td>\n",
              "      <td>Cat_3</td>\n",
              "      <td>0</td>\n",
              "      <td>(40, 90]</td>\n",
              "    </tr>\n",
              "    <tr>\n",
              "      <th>8030</th>\n",
              "      <td>459082</td>\n",
              "      <td>Male</td>\n",
              "      <td>NaN</td>\n",
              "      <td>45</td>\n",
              "      <td>Yes</td>\n",
              "      <td>Artist</td>\n",
              "      <td>1.0</td>\n",
              "      <td>Low</td>\n",
              "      <td>NaN</td>\n",
              "      <td>Cat_6</td>\n",
              "      <td>0</td>\n",
              "      <td>(40, 90]</td>\n",
              "    </tr>\n",
              "    <tr>\n",
              "      <th>8044</th>\n",
              "      <td>466997</td>\n",
              "      <td>Female</td>\n",
              "      <td>NaN</td>\n",
              "      <td>50</td>\n",
              "      <td>No</td>\n",
              "      <td>Engineer</td>\n",
              "      <td>1.0</td>\n",
              "      <td>Low</td>\n",
              "      <td>2.0</td>\n",
              "      <td>Cat_6</td>\n",
              "      <td>3</td>\n",
              "      <td>(40, 90]</td>\n",
              "    </tr>\n",
              "  </tbody>\n",
              "</table>\n",
              "<p>140 rows × 12 columns</p>\n",
              "</div>\n",
              "      <button class=\"colab-df-convert\" onclick=\"convertToInteractive('df-4f31ed36-a747-4998-ae06-45cd036ed007')\"\n",
              "              title=\"Convert this dataframe to an interactive table.\"\n",
              "              style=\"display:none;\">\n",
              "        \n",
              "  <svg xmlns=\"http://www.w3.org/2000/svg\" height=\"24px\"viewBox=\"0 0 24 24\"\n",
              "       width=\"24px\">\n",
              "    <path d=\"M0 0h24v24H0V0z\" fill=\"none\"/>\n",
              "    <path d=\"M18.56 5.44l.94 2.06.94-2.06 2.06-.94-2.06-.94-.94-2.06-.94 2.06-2.06.94zm-11 1L8.5 8.5l.94-2.06 2.06-.94-2.06-.94L8.5 2.5l-.94 2.06-2.06.94zm10 10l.94 2.06.94-2.06 2.06-.94-2.06-.94-.94-2.06-.94 2.06-2.06.94z\"/><path d=\"M17.41 7.96l-1.37-1.37c-.4-.4-.92-.59-1.43-.59-.52 0-1.04.2-1.43.59L10.3 9.45l-7.72 7.72c-.78.78-.78 2.05 0 2.83L4 21.41c.39.39.9.59 1.41.59.51 0 1.02-.2 1.41-.59l7.78-7.78 2.81-2.81c.8-.78.8-2.07 0-2.86zM5.41 20L4 18.59l7.72-7.72 1.47 1.35L5.41 20z\"/>\n",
              "  </svg>\n",
              "      </button>\n",
              "      \n",
              "  <style>\n",
              "    .colab-df-container {\n",
              "      display:flex;\n",
              "      flex-wrap:wrap;\n",
              "      gap: 12px;\n",
              "    }\n",
              "\n",
              "    .colab-df-convert {\n",
              "      background-color: #E8F0FE;\n",
              "      border: none;\n",
              "      border-radius: 50%;\n",
              "      cursor: pointer;\n",
              "      display: none;\n",
              "      fill: #1967D2;\n",
              "      height: 32px;\n",
              "      padding: 0 0 0 0;\n",
              "      width: 32px;\n",
              "    }\n",
              "\n",
              "    .colab-df-convert:hover {\n",
              "      background-color: #E2EBFA;\n",
              "      box-shadow: 0px 1px 2px rgba(60, 64, 67, 0.3), 0px 1px 3px 1px rgba(60, 64, 67, 0.15);\n",
              "      fill: #174EA6;\n",
              "    }\n",
              "\n",
              "    [theme=dark] .colab-df-convert {\n",
              "      background-color: #3B4455;\n",
              "      fill: #D2E3FC;\n",
              "    }\n",
              "\n",
              "    [theme=dark] .colab-df-convert:hover {\n",
              "      background-color: #434B5C;\n",
              "      box-shadow: 0px 1px 3px 1px rgba(0, 0, 0, 0.15);\n",
              "      filter: drop-shadow(0px 1px 2px rgba(0, 0, 0, 0.3));\n",
              "      fill: #FFFFFF;\n",
              "    }\n",
              "  </style>\n",
              "\n",
              "      <script>\n",
              "        const buttonEl =\n",
              "          document.querySelector('#df-4f31ed36-a747-4998-ae06-45cd036ed007 button.colab-df-convert');\n",
              "        buttonEl.style.display =\n",
              "          google.colab.kernel.accessAllowed ? 'block' : 'none';\n",
              "\n",
              "        async function convertToInteractive(key) {\n",
              "          const element = document.querySelector('#df-4f31ed36-a747-4998-ae06-45cd036ed007');\n",
              "          const dataTable =\n",
              "            await google.colab.kernel.invokeFunction('convertToInteractive',\n",
              "                                                     [key], {});\n",
              "          if (!dataTable) return;\n",
              "\n",
              "          const docLinkHtml = 'Like what you see? Visit the ' +\n",
              "            '<a target=\"_blank\" href=https://colab.research.google.com/notebooks/data_table.ipynb>data table notebook</a>'\n",
              "            + ' to learn more about interactive tables.';\n",
              "          element.innerHTML = '';\n",
              "          dataTable['output_type'] = 'display_data';\n",
              "          await google.colab.output.renderOutput(dataTable, element);\n",
              "          const docLink = document.createElement('div');\n",
              "          docLink.innerHTML = docLinkHtml;\n",
              "          element.appendChild(docLink);\n",
              "        }\n",
              "      </script>\n",
              "    </div>\n",
              "  </div>\n",
              "  "
            ]
          },
          "metadata": {},
          "execution_count": 28
        }
      ]
    },
    {
      "cell_type": "code",
      "source": [
        "train.loc[(train['Ever_Married'].isnull())&(train['Age']>30),'Ever_Married']='Yes'\n",
        "train.loc[(train['Ever_Married'].isnull())&(train['Age']<=30),'Ever_Married']='No'\n",
        "test.loc[(test['Ever_Married'].isnull())&(test['Age']>30),'Ever_Married']='Yes'\n",
        "test.loc[(test['Ever_Married'].isnull())&(test['Age']<=30),'Ever_Married']='No'"
      ],
      "metadata": {
        "id": "rMb2ZTB6_kBF"
      },
      "execution_count": null,
      "outputs": []
    },
    {
      "cell_type": "code",
      "source": [
        "bins=[18,30,40,90] \n",
        "labels = ['below30','30-40','40+']\n",
        "train['Age_bin']=pd.cut(train['Age'],bins,labels=labels)\n",
        "\n",
        "ct_bin=pd.crosstab(train['Age_bin'],train['Graduated']) \n",
        "#print(ct_bin)\n",
        "#ct_bin.div(LoanAmount_bin.sum(1).astype(float), axis=0).plot(kind=\"bar\") \n",
        "data =[]\n",
        "for s in ct_bin:\n",
        "    #print(s)\n",
        "    trace1 = go.Scatter(x=ct_bin.index.unique(),y=ct_bin[s],name = s)\n",
        "    data.append(trace1)\n",
        "layout = go.Layout(title = 'Graduated')\n",
        "fig = go.Figure(data = data, layout = layout)\n",
        "fig.show()"
      ],
      "metadata": {
        "colab": {
          "base_uri": "https://localhost:8080/",
          "height": 542
        },
        "id": "zBmOsdfu_yQY",
        "outputId": "135ead08-18ac-4b92-d51a-fbd950d87512"
      },
      "execution_count": null,
      "outputs": [
        {
          "output_type": "display_data",
          "data": {
            "text/html": [
              "<html>\n",
              "<head><meta charset=\"utf-8\" /></head>\n",
              "<body>\n",
              "    <div>            <script src=\"https://cdnjs.cloudflare.com/ajax/libs/mathjax/2.7.5/MathJax.js?config=TeX-AMS-MML_SVG\"></script><script type=\"text/javascript\">if (window.MathJax) {MathJax.Hub.Config({SVG: {font: \"STIX-Web\"}});}</script>                <script type=\"text/javascript\">window.PlotlyConfig = {MathJaxConfig: 'local'};</script>\n",
              "        <script src=\"https://cdn.plot.ly/plotly-2.8.3.min.js\"></script>                <div id=\"ce58ad28-4a8d-46d0-aedc-299b838a48e5\" class=\"plotly-graph-div\" style=\"height:525px; width:100%;\"></div>            <script type=\"text/javascript\">                                    window.PLOTLYENV=window.PLOTLYENV || {};                                    if (document.getElementById(\"ce58ad28-4a8d-46d0-aedc-299b838a48e5\")) {                    Plotly.newPlot(                        \"ce58ad28-4a8d-46d0-aedc-299b838a48e5\",                        [{\"name\":\"No\",\"x\":[\"below30\",\"30-40\",\"40+\"],\"y\":[1221,620,1052],\"type\":\"scatter\"},{\"name\":\"Yes\",\"x\":[\"below30\",\"30-40\",\"40+\"],\"y\":[652,1384,2931],\"type\":\"scatter\"}],                        {\"title\":{\"text\":\"Graduated\"},\"template\":{\"data\":{\"bar\":[{\"error_x\":{\"color\":\"#2a3f5f\"},\"error_y\":{\"color\":\"#2a3f5f\"},\"marker\":{\"line\":{\"color\":\"#E5ECF6\",\"width\":0.5},\"pattern\":{\"fillmode\":\"overlay\",\"size\":10,\"solidity\":0.2}},\"type\":\"bar\"}],\"barpolar\":[{\"marker\":{\"line\":{\"color\":\"#E5ECF6\",\"width\":0.5},\"pattern\":{\"fillmode\":\"overlay\",\"size\":10,\"solidity\":0.2}},\"type\":\"barpolar\"}],\"carpet\":[{\"aaxis\":{\"endlinecolor\":\"#2a3f5f\",\"gridcolor\":\"white\",\"linecolor\":\"white\",\"minorgridcolor\":\"white\",\"startlinecolor\":\"#2a3f5f\"},\"baxis\":{\"endlinecolor\":\"#2a3f5f\",\"gridcolor\":\"white\",\"linecolor\":\"white\",\"minorgridcolor\":\"white\",\"startlinecolor\":\"#2a3f5f\"},\"type\":\"carpet\"}],\"choropleth\":[{\"colorbar\":{\"outlinewidth\":0,\"ticks\":\"\"},\"type\":\"choropleth\"}],\"contour\":[{\"colorbar\":{\"outlinewidth\":0,\"ticks\":\"\"},\"colorscale\":[[0.0,\"#0d0887\"],[0.1111111111111111,\"#46039f\"],[0.2222222222222222,\"#7201a8\"],[0.3333333333333333,\"#9c179e\"],[0.4444444444444444,\"#bd3786\"],[0.5555555555555556,\"#d8576b\"],[0.6666666666666666,\"#ed7953\"],[0.7777777777777778,\"#fb9f3a\"],[0.8888888888888888,\"#fdca26\"],[1.0,\"#f0f921\"]],\"type\":\"contour\"}],\"contourcarpet\":[{\"colorbar\":{\"outlinewidth\":0,\"ticks\":\"\"},\"type\":\"contourcarpet\"}],\"heatmap\":[{\"colorbar\":{\"outlinewidth\":0,\"ticks\":\"\"},\"colorscale\":[[0.0,\"#0d0887\"],[0.1111111111111111,\"#46039f\"],[0.2222222222222222,\"#7201a8\"],[0.3333333333333333,\"#9c179e\"],[0.4444444444444444,\"#bd3786\"],[0.5555555555555556,\"#d8576b\"],[0.6666666666666666,\"#ed7953\"],[0.7777777777777778,\"#fb9f3a\"],[0.8888888888888888,\"#fdca26\"],[1.0,\"#f0f921\"]],\"type\":\"heatmap\"}],\"heatmapgl\":[{\"colorbar\":{\"outlinewidth\":0,\"ticks\":\"\"},\"colorscale\":[[0.0,\"#0d0887\"],[0.1111111111111111,\"#46039f\"],[0.2222222222222222,\"#7201a8\"],[0.3333333333333333,\"#9c179e\"],[0.4444444444444444,\"#bd3786\"],[0.5555555555555556,\"#d8576b\"],[0.6666666666666666,\"#ed7953\"],[0.7777777777777778,\"#fb9f3a\"],[0.8888888888888888,\"#fdca26\"],[1.0,\"#f0f921\"]],\"type\":\"heatmapgl\"}],\"histogram\":[{\"marker\":{\"pattern\":{\"fillmode\":\"overlay\",\"size\":10,\"solidity\":0.2}},\"type\":\"histogram\"}],\"histogram2d\":[{\"colorbar\":{\"outlinewidth\":0,\"ticks\":\"\"},\"colorscale\":[[0.0,\"#0d0887\"],[0.1111111111111111,\"#46039f\"],[0.2222222222222222,\"#7201a8\"],[0.3333333333333333,\"#9c179e\"],[0.4444444444444444,\"#bd3786\"],[0.5555555555555556,\"#d8576b\"],[0.6666666666666666,\"#ed7953\"],[0.7777777777777778,\"#fb9f3a\"],[0.8888888888888888,\"#fdca26\"],[1.0,\"#f0f921\"]],\"type\":\"histogram2d\"}],\"histogram2dcontour\":[{\"colorbar\":{\"outlinewidth\":0,\"ticks\":\"\"},\"colorscale\":[[0.0,\"#0d0887\"],[0.1111111111111111,\"#46039f\"],[0.2222222222222222,\"#7201a8\"],[0.3333333333333333,\"#9c179e\"],[0.4444444444444444,\"#bd3786\"],[0.5555555555555556,\"#d8576b\"],[0.6666666666666666,\"#ed7953\"],[0.7777777777777778,\"#fb9f3a\"],[0.8888888888888888,\"#fdca26\"],[1.0,\"#f0f921\"]],\"type\":\"histogram2dcontour\"}],\"mesh3d\":[{\"colorbar\":{\"outlinewidth\":0,\"ticks\":\"\"},\"type\":\"mesh3d\"}],\"parcoords\":[{\"line\":{\"colorbar\":{\"outlinewidth\":0,\"ticks\":\"\"}},\"type\":\"parcoords\"}],\"pie\":[{\"automargin\":true,\"type\":\"pie\"}],\"scatter\":[{\"marker\":{\"colorbar\":{\"outlinewidth\":0,\"ticks\":\"\"}},\"type\":\"scatter\"}],\"scatter3d\":[{\"line\":{\"colorbar\":{\"outlinewidth\":0,\"ticks\":\"\"}},\"marker\":{\"colorbar\":{\"outlinewidth\":0,\"ticks\":\"\"}},\"type\":\"scatter3d\"}],\"scattercarpet\":[{\"marker\":{\"colorbar\":{\"outlinewidth\":0,\"ticks\":\"\"}},\"type\":\"scattercarpet\"}],\"scattergeo\":[{\"marker\":{\"colorbar\":{\"outlinewidth\":0,\"ticks\":\"\"}},\"type\":\"scattergeo\"}],\"scattergl\":[{\"marker\":{\"colorbar\":{\"outlinewidth\":0,\"ticks\":\"\"}},\"type\":\"scattergl\"}],\"scattermapbox\":[{\"marker\":{\"colorbar\":{\"outlinewidth\":0,\"ticks\":\"\"}},\"type\":\"scattermapbox\"}],\"scatterpolar\":[{\"marker\":{\"colorbar\":{\"outlinewidth\":0,\"ticks\":\"\"}},\"type\":\"scatterpolar\"}],\"scatterpolargl\":[{\"marker\":{\"colorbar\":{\"outlinewidth\":0,\"ticks\":\"\"}},\"type\":\"scatterpolargl\"}],\"scatterternary\":[{\"marker\":{\"colorbar\":{\"outlinewidth\":0,\"ticks\":\"\"}},\"type\":\"scatterternary\"}],\"surface\":[{\"colorbar\":{\"outlinewidth\":0,\"ticks\":\"\"},\"colorscale\":[[0.0,\"#0d0887\"],[0.1111111111111111,\"#46039f\"],[0.2222222222222222,\"#7201a8\"],[0.3333333333333333,\"#9c179e\"],[0.4444444444444444,\"#bd3786\"],[0.5555555555555556,\"#d8576b\"],[0.6666666666666666,\"#ed7953\"],[0.7777777777777778,\"#fb9f3a\"],[0.8888888888888888,\"#fdca26\"],[1.0,\"#f0f921\"]],\"type\":\"surface\"}],\"table\":[{\"cells\":{\"fill\":{\"color\":\"#EBF0F8\"},\"line\":{\"color\":\"white\"}},\"header\":{\"fill\":{\"color\":\"#C8D4E3\"},\"line\":{\"color\":\"white\"}},\"type\":\"table\"}]},\"layout\":{\"annotationdefaults\":{\"arrowcolor\":\"#2a3f5f\",\"arrowhead\":0,\"arrowwidth\":1},\"autotypenumbers\":\"strict\",\"coloraxis\":{\"colorbar\":{\"outlinewidth\":0,\"ticks\":\"\"}},\"colorscale\":{\"diverging\":[[0,\"#8e0152\"],[0.1,\"#c51b7d\"],[0.2,\"#de77ae\"],[0.3,\"#f1b6da\"],[0.4,\"#fde0ef\"],[0.5,\"#f7f7f7\"],[0.6,\"#e6f5d0\"],[0.7,\"#b8e186\"],[0.8,\"#7fbc41\"],[0.9,\"#4d9221\"],[1,\"#276419\"]],\"sequential\":[[0.0,\"#0d0887\"],[0.1111111111111111,\"#46039f\"],[0.2222222222222222,\"#7201a8\"],[0.3333333333333333,\"#9c179e\"],[0.4444444444444444,\"#bd3786\"],[0.5555555555555556,\"#d8576b\"],[0.6666666666666666,\"#ed7953\"],[0.7777777777777778,\"#fb9f3a\"],[0.8888888888888888,\"#fdca26\"],[1.0,\"#f0f921\"]],\"sequentialminus\":[[0.0,\"#0d0887\"],[0.1111111111111111,\"#46039f\"],[0.2222222222222222,\"#7201a8\"],[0.3333333333333333,\"#9c179e\"],[0.4444444444444444,\"#bd3786\"],[0.5555555555555556,\"#d8576b\"],[0.6666666666666666,\"#ed7953\"],[0.7777777777777778,\"#fb9f3a\"],[0.8888888888888888,\"#fdca26\"],[1.0,\"#f0f921\"]]},\"colorway\":[\"#636efa\",\"#EF553B\",\"#00cc96\",\"#ab63fa\",\"#FFA15A\",\"#19d3f3\",\"#FF6692\",\"#B6E880\",\"#FF97FF\",\"#FECB52\"],\"font\":{\"color\":\"#2a3f5f\"},\"geo\":{\"bgcolor\":\"white\",\"lakecolor\":\"white\",\"landcolor\":\"#E5ECF6\",\"showlakes\":true,\"showland\":true,\"subunitcolor\":\"white\"},\"hoverlabel\":{\"align\":\"left\"},\"hovermode\":\"closest\",\"mapbox\":{\"style\":\"light\"},\"paper_bgcolor\":\"white\",\"plot_bgcolor\":\"#E5ECF6\",\"polar\":{\"angularaxis\":{\"gridcolor\":\"white\",\"linecolor\":\"white\",\"ticks\":\"\"},\"bgcolor\":\"#E5ECF6\",\"radialaxis\":{\"gridcolor\":\"white\",\"linecolor\":\"white\",\"ticks\":\"\"}},\"scene\":{\"xaxis\":{\"backgroundcolor\":\"#E5ECF6\",\"gridcolor\":\"white\",\"gridwidth\":2,\"linecolor\":\"white\",\"showbackground\":true,\"ticks\":\"\",\"zerolinecolor\":\"white\"},\"yaxis\":{\"backgroundcolor\":\"#E5ECF6\",\"gridcolor\":\"white\",\"gridwidth\":2,\"linecolor\":\"white\",\"showbackground\":true,\"ticks\":\"\",\"zerolinecolor\":\"white\"},\"zaxis\":{\"backgroundcolor\":\"#E5ECF6\",\"gridcolor\":\"white\",\"gridwidth\":2,\"linecolor\":\"white\",\"showbackground\":true,\"ticks\":\"\",\"zerolinecolor\":\"white\"}},\"shapedefaults\":{\"line\":{\"color\":\"#2a3f5f\"}},\"ternary\":{\"aaxis\":{\"gridcolor\":\"white\",\"linecolor\":\"white\",\"ticks\":\"\"},\"baxis\":{\"gridcolor\":\"white\",\"linecolor\":\"white\",\"ticks\":\"\"},\"bgcolor\":\"#E5ECF6\",\"caxis\":{\"gridcolor\":\"white\",\"linecolor\":\"white\",\"ticks\":\"\"}},\"title\":{\"x\":0.05},\"xaxis\":{\"automargin\":true,\"gridcolor\":\"white\",\"linecolor\":\"white\",\"ticks\":\"\",\"title\":{\"standoff\":15},\"zerolinecolor\":\"white\",\"zerolinewidth\":2},\"yaxis\":{\"automargin\":true,\"gridcolor\":\"white\",\"linecolor\":\"white\",\"ticks\":\"\",\"title\":{\"standoff\":15},\"zerolinecolor\":\"white\",\"zerolinewidth\":2}}}},                        {\"responsive\": true}                    ).then(function(){\n",
              "                            \n",
              "var gd = document.getElementById('ce58ad28-4a8d-46d0-aedc-299b838a48e5');\n",
              "var x = new MutationObserver(function (mutations, observer) {{\n",
              "        var display = window.getComputedStyle(gd).display;\n",
              "        if (!display || display === 'none') {{\n",
              "            console.log([gd, 'removed!']);\n",
              "            Plotly.purge(gd);\n",
              "            observer.disconnect();\n",
              "        }}\n",
              "}});\n",
              "\n",
              "// Listen for the removal of the full notebook cells\n",
              "var notebookContainer = gd.closest('#notebook-container');\n",
              "if (notebookContainer) {{\n",
              "    x.observe(notebookContainer, {childList: true});\n",
              "}}\n",
              "\n",
              "// Listen for the clearing of the current output cell\n",
              "var outputEl = gd.closest('.output');\n",
              "if (outputEl) {{\n",
              "    x.observe(outputEl, {childList: true});\n",
              "}}\n",
              "\n",
              "                        })                };                            </script>        </div>\n",
              "</body>\n",
              "</html>"
            ]
          },
          "metadata": {}
        }
      ]
    },
    {
      "cell_type": "code",
      "source": [
        "train.loc[(train['Graduated'].isnull())&(train['Age']>30),'Graduated']='Yes'\n",
        "train.loc[(train['Graduated'].isnull())&(train['Age']<=30),'Graduated']='No'\n",
        "test.loc[(test['Graduated'].isnull())&(test['Age']>30),'Graduated']='Yes'\n",
        "test.loc[(test['Graduated'].isnull())&(test['Age']<=30),'Graduated']='No'\n"
      ],
      "metadata": {
        "id": "1eP6Y865_6xX"
      },
      "execution_count": null,
      "outputs": []
    },
    {
      "cell_type": "code",
      "source": [
        "train['Profession'].fillna(train['Profession'].mode()[0], inplace=True) \n",
        "train['Work_Experience'].fillna(train['Work_Experience'].median(), inplace=True) \n",
        "train['Family_Size'].fillna(train['Family_Size'].median(), inplace=True)\n",
        "train['Var_1'].fillna(train['Var_1'].mode()[0], inplace=True)\n",
        "test['Profession'].fillna(test['Profession'].mode()[0], inplace=True) \n",
        "test['Work_Experience'].fillna(test['Work_Experience'].median(), inplace=True) \n",
        "test['Family_Size'].fillna(test['Family_Size'].median(), inplace=True)\n",
        "test['Var_1'].fillna(test['Var_1'].mode()[0], inplace=True)"
      ],
      "metadata": {
        "id": "QTL8TJL8AAQU"
      },
      "execution_count": null,
      "outputs": []
    },
    {
      "cell_type": "code",
      "source": [
        "def text_to_numerical(data):\n",
        "    for c in cat_cols:\n",
        "        print(c)\n",
        "        i = 0\n",
        "        for u in data[c].unique():\n",
        "            data[c].replace(u,i,inplace=True)\n",
        "            i += 1\n",
        "    return data"
      ],
      "metadata": {
        "id": "i5tBF35rAH2e"
      },
      "execution_count": null,
      "outputs": []
    },
    {
      "cell_type": "code",
      "source": [
        "train = text_to_numerical(train)\n",
        "test = text_to_numerical(test)"
      ],
      "metadata": {
        "colab": {
          "base_uri": "https://localhost:8080/"
        },
        "id": "jzzS7EmiAOVs",
        "outputId": "c7fd5ef9-bf05-4de6-c4f2-9100ffa94768"
      },
      "execution_count": null,
      "outputs": [
        {
          "output_type": "stream",
          "name": "stdout",
          "text": [
            "Gender\n",
            "Ever_Married\n",
            "Graduated\n",
            "Profession\n",
            "Spending_Score\n",
            "Var_1\n",
            "Gender\n",
            "Ever_Married\n",
            "Graduated\n",
            "Profession\n",
            "Spending_Score\n",
            "Var_1\n"
          ]
        }
      ]
    },
    {
      "cell_type": "code",
      "source": [
        "matrix = train.corr()\n",
        "#print(matrix)\n",
        "xcols = nom_cols+[tag]\n",
        "data = go.Heatmap(z=matrix,x = nom_cols,y = nom_cols,text = matrix,visible= True)\n",
        "fig = go.Figure(data)\n",
        "fig.show()"
      ],
      "metadata": {
        "colab": {
          "base_uri": "https://localhost:8080/",
          "height": 542
        },
        "id": "r5NBu9R6ATwS",
        "outputId": "3961e6ab-063a-41d0-f56e-d823465f3e17"
      },
      "execution_count": null,
      "outputs": [
        {
          "output_type": "display_data",
          "data": {
            "text/html": [
              "<html>\n",
              "<head><meta charset=\"utf-8\" /></head>\n",
              "<body>\n",
              "    <div>            <script src=\"https://cdnjs.cloudflare.com/ajax/libs/mathjax/2.7.5/MathJax.js?config=TeX-AMS-MML_SVG\"></script><script type=\"text/javascript\">if (window.MathJax) {MathJax.Hub.Config({SVG: {font: \"STIX-Web\"}});}</script>                <script type=\"text/javascript\">window.PlotlyConfig = {MathJaxConfig: 'local'};</script>\n",
              "        <script src=\"https://cdn.plot.ly/plotly-2.8.3.min.js\"></script>                <div id=\"402682cb-ca08-48f8-9923-b760b4d5d561\" class=\"plotly-graph-div\" style=\"height:525px; width:100%;\"></div>            <script type=\"text/javascript\">                                    window.PLOTLYENV=window.PLOTLYENV || {};                                    if (document.getElementById(\"402682cb-ca08-48f8-9923-b760b4d5d561\")) {                    Plotly.newPlot(                        \"402682cb-ca08-48f8-9923-b760b4d5d561\",                        [{\"text\":[[1.0,-0.0061553820522887775,0.01975032252911717,-0.005055383597478692,-0.010892207592984246,-0.006147666321645712,-0.01862721629026391,0.005772768924261374,0.011306296649658194,-0.04120449951066222,-0.009104236887763522],[-0.0061553820522887775,1.0,-0.11485651819972953,-0.030215868917820302,0.031824198938319746,-0.03130509328628603,0.057212367511263094,-0.06143184511892811,-0.054058699937140194,0.031818331209619063,-0.0264034749590451],[0.01975032252911717,-0.11485651819972953,1.0,0.5692058535262361,0.20213687794800542,0.20005464537582643,-0.09052132820769203,0.6068531409987385,-0.08014779421835085,-0.07606350241640768,-0.22095893595721003],[-0.005055383597478692,-0.030215868917820302,0.5692058535262361,1.0,0.24233942299371541,0.12874362726953603,-0.1773442501410665,0.41548466918351823,-0.27337301773920664,-0.10061709548090615,-0.2435523022814942],[-0.010892207592984246,0.031824198938319746,0.20213687794800542,0.24233942299371541,1.0,0.15730701073698422,0.03518014016426322,0.1058792641750626,-0.2268683045937702,0.022311419312097194,-0.17977799430666205],[-0.006147666321645712,-0.03130509328628603,0.20005464537582643,0.12874362726953603,0.15730701073698422,1.0,0.07047712230044328,0.14463800389788897,-0.12031542063986249,-0.00857579541967358,-0.16303259398507522],[-0.01862721629026391,0.057212367511263094,-0.09052132820769203,-0.1773442501410665,0.03518014016426322,0.07047712230044328,1.0,-0.07426563767281712,-0.05969158353581194,0.011381442254499016,0.008216218139935155],[0.005772768924261374,-0.06143184511892811,0.6068531409987385,0.41548466918351823,0.1058792641750626,0.14463800389788897,-0.07426563767281712,1.0,0.09088833303035151,-0.05643875099282539,-0.10983731599790178],[0.011306296649658194,-0.054058699937140194,-0.08014779421835085,-0.27337301773920664,-0.2268683045937702,-0.12031542063986249,-0.05969158353581194,0.09088833303035151,1.0,0.04635172088966082,0.19147553284738905],[-0.04120449951066222,0.031818331209619063,-0.07606350241640768,-0.10061709548090615,0.022311419312097194,-0.00857579541967358,0.011381442254499016,-0.05643875099282539,0.04635172088966082,1.0,0.0228896239928584],[-0.009104236887763522,-0.0264034749590451,-0.22095893595721003,-0.2435523022814942,-0.17977799430666205,-0.16303259398507522,0.008216218139935155,-0.10983731599790178,0.19147553284738905,0.0228896239928584,1.0]],\"visible\":true,\"x\":[\"Age\",\"Work_Experience\",\"Family_Size\"],\"y\":[\"Age\",\"Work_Experience\",\"Family_Size\"],\"z\":[[1.0,-0.0061553820522887775,0.01975032252911717,-0.005055383597478692,-0.010892207592984246,-0.006147666321645712,-0.01862721629026391,0.005772768924261374,0.011306296649658194,-0.04120449951066222,-0.009104236887763522],[-0.0061553820522887775,1.0,-0.11485651819972953,-0.030215868917820302,0.031824198938319746,-0.03130509328628603,0.057212367511263094,-0.06143184511892811,-0.054058699937140194,0.031818331209619063,-0.0264034749590451],[0.01975032252911717,-0.11485651819972953,1.0,0.5692058535262361,0.20213687794800542,0.20005464537582643,-0.09052132820769203,0.6068531409987385,-0.08014779421835085,-0.07606350241640768,-0.22095893595721003],[-0.005055383597478692,-0.030215868917820302,0.5692058535262361,1.0,0.24233942299371541,0.12874362726953603,-0.1773442501410665,0.41548466918351823,-0.27337301773920664,-0.10061709548090615,-0.2435523022814942],[-0.010892207592984246,0.031824198938319746,0.20213687794800542,0.24233942299371541,1.0,0.15730701073698422,0.03518014016426322,0.1058792641750626,-0.2268683045937702,0.022311419312097194,-0.17977799430666205],[-0.006147666321645712,-0.03130509328628603,0.20005464537582643,0.12874362726953603,0.15730701073698422,1.0,0.07047712230044328,0.14463800389788897,-0.12031542063986249,-0.00857579541967358,-0.16303259398507522],[-0.01862721629026391,0.057212367511263094,-0.09052132820769203,-0.1773442501410665,0.03518014016426322,0.07047712230044328,1.0,-0.07426563767281712,-0.05969158353581194,0.011381442254499016,0.008216218139935155],[0.005772768924261374,-0.06143184511892811,0.6068531409987385,0.41548466918351823,0.1058792641750626,0.14463800389788897,-0.07426563767281712,1.0,0.09088833303035151,-0.05643875099282539,-0.10983731599790178],[0.011306296649658194,-0.054058699937140194,-0.08014779421835085,-0.27337301773920664,-0.2268683045937702,-0.12031542063986249,-0.05969158353581194,0.09088833303035151,1.0,0.04635172088966082,0.19147553284738905],[-0.04120449951066222,0.031818331209619063,-0.07606350241640768,-0.10061709548090615,0.022311419312097194,-0.00857579541967358,0.011381442254499016,-0.05643875099282539,0.04635172088966082,1.0,0.0228896239928584],[-0.009104236887763522,-0.0264034749590451,-0.22095893595721003,-0.2435523022814942,-0.17977799430666205,-0.16303259398507522,0.008216218139935155,-0.10983731599790178,0.19147553284738905,0.0228896239928584,1.0]],\"type\":\"heatmap\"}],                        {\"template\":{\"data\":{\"bar\":[{\"error_x\":{\"color\":\"#2a3f5f\"},\"error_y\":{\"color\":\"#2a3f5f\"},\"marker\":{\"line\":{\"color\":\"#E5ECF6\",\"width\":0.5},\"pattern\":{\"fillmode\":\"overlay\",\"size\":10,\"solidity\":0.2}},\"type\":\"bar\"}],\"barpolar\":[{\"marker\":{\"line\":{\"color\":\"#E5ECF6\",\"width\":0.5},\"pattern\":{\"fillmode\":\"overlay\",\"size\":10,\"solidity\":0.2}},\"type\":\"barpolar\"}],\"carpet\":[{\"aaxis\":{\"endlinecolor\":\"#2a3f5f\",\"gridcolor\":\"white\",\"linecolor\":\"white\",\"minorgridcolor\":\"white\",\"startlinecolor\":\"#2a3f5f\"},\"baxis\":{\"endlinecolor\":\"#2a3f5f\",\"gridcolor\":\"white\",\"linecolor\":\"white\",\"minorgridcolor\":\"white\",\"startlinecolor\":\"#2a3f5f\"},\"type\":\"carpet\"}],\"choropleth\":[{\"colorbar\":{\"outlinewidth\":0,\"ticks\":\"\"},\"type\":\"choropleth\"}],\"contour\":[{\"colorbar\":{\"outlinewidth\":0,\"ticks\":\"\"},\"colorscale\":[[0.0,\"#0d0887\"],[0.1111111111111111,\"#46039f\"],[0.2222222222222222,\"#7201a8\"],[0.3333333333333333,\"#9c179e\"],[0.4444444444444444,\"#bd3786\"],[0.5555555555555556,\"#d8576b\"],[0.6666666666666666,\"#ed7953\"],[0.7777777777777778,\"#fb9f3a\"],[0.8888888888888888,\"#fdca26\"],[1.0,\"#f0f921\"]],\"type\":\"contour\"}],\"contourcarpet\":[{\"colorbar\":{\"outlinewidth\":0,\"ticks\":\"\"},\"type\":\"contourcarpet\"}],\"heatmap\":[{\"colorbar\":{\"outlinewidth\":0,\"ticks\":\"\"},\"colorscale\":[[0.0,\"#0d0887\"],[0.1111111111111111,\"#46039f\"],[0.2222222222222222,\"#7201a8\"],[0.3333333333333333,\"#9c179e\"],[0.4444444444444444,\"#bd3786\"],[0.5555555555555556,\"#d8576b\"],[0.6666666666666666,\"#ed7953\"],[0.7777777777777778,\"#fb9f3a\"],[0.8888888888888888,\"#fdca26\"],[1.0,\"#f0f921\"]],\"type\":\"heatmap\"}],\"heatmapgl\":[{\"colorbar\":{\"outlinewidth\":0,\"ticks\":\"\"},\"colorscale\":[[0.0,\"#0d0887\"],[0.1111111111111111,\"#46039f\"],[0.2222222222222222,\"#7201a8\"],[0.3333333333333333,\"#9c179e\"],[0.4444444444444444,\"#bd3786\"],[0.5555555555555556,\"#d8576b\"],[0.6666666666666666,\"#ed7953\"],[0.7777777777777778,\"#fb9f3a\"],[0.8888888888888888,\"#fdca26\"],[1.0,\"#f0f921\"]],\"type\":\"heatmapgl\"}],\"histogram\":[{\"marker\":{\"pattern\":{\"fillmode\":\"overlay\",\"size\":10,\"solidity\":0.2}},\"type\":\"histogram\"}],\"histogram2d\":[{\"colorbar\":{\"outlinewidth\":0,\"ticks\":\"\"},\"colorscale\":[[0.0,\"#0d0887\"],[0.1111111111111111,\"#46039f\"],[0.2222222222222222,\"#7201a8\"],[0.3333333333333333,\"#9c179e\"],[0.4444444444444444,\"#bd3786\"],[0.5555555555555556,\"#d8576b\"],[0.6666666666666666,\"#ed7953\"],[0.7777777777777778,\"#fb9f3a\"],[0.8888888888888888,\"#fdca26\"],[1.0,\"#f0f921\"]],\"type\":\"histogram2d\"}],\"histogram2dcontour\":[{\"colorbar\":{\"outlinewidth\":0,\"ticks\":\"\"},\"colorscale\":[[0.0,\"#0d0887\"],[0.1111111111111111,\"#46039f\"],[0.2222222222222222,\"#7201a8\"],[0.3333333333333333,\"#9c179e\"],[0.4444444444444444,\"#bd3786\"],[0.5555555555555556,\"#d8576b\"],[0.6666666666666666,\"#ed7953\"],[0.7777777777777778,\"#fb9f3a\"],[0.8888888888888888,\"#fdca26\"],[1.0,\"#f0f921\"]],\"type\":\"histogram2dcontour\"}],\"mesh3d\":[{\"colorbar\":{\"outlinewidth\":0,\"ticks\":\"\"},\"type\":\"mesh3d\"}],\"parcoords\":[{\"line\":{\"colorbar\":{\"outlinewidth\":0,\"ticks\":\"\"}},\"type\":\"parcoords\"}],\"pie\":[{\"automargin\":true,\"type\":\"pie\"}],\"scatter\":[{\"marker\":{\"colorbar\":{\"outlinewidth\":0,\"ticks\":\"\"}},\"type\":\"scatter\"}],\"scatter3d\":[{\"line\":{\"colorbar\":{\"outlinewidth\":0,\"ticks\":\"\"}},\"marker\":{\"colorbar\":{\"outlinewidth\":0,\"ticks\":\"\"}},\"type\":\"scatter3d\"}],\"scattercarpet\":[{\"marker\":{\"colorbar\":{\"outlinewidth\":0,\"ticks\":\"\"}},\"type\":\"scattercarpet\"}],\"scattergeo\":[{\"marker\":{\"colorbar\":{\"outlinewidth\":0,\"ticks\":\"\"}},\"type\":\"scattergeo\"}],\"scattergl\":[{\"marker\":{\"colorbar\":{\"outlinewidth\":0,\"ticks\":\"\"}},\"type\":\"scattergl\"}],\"scattermapbox\":[{\"marker\":{\"colorbar\":{\"outlinewidth\":0,\"ticks\":\"\"}},\"type\":\"scattermapbox\"}],\"scatterpolar\":[{\"marker\":{\"colorbar\":{\"outlinewidth\":0,\"ticks\":\"\"}},\"type\":\"scatterpolar\"}],\"scatterpolargl\":[{\"marker\":{\"colorbar\":{\"outlinewidth\":0,\"ticks\":\"\"}},\"type\":\"scatterpolargl\"}],\"scatterternary\":[{\"marker\":{\"colorbar\":{\"outlinewidth\":0,\"ticks\":\"\"}},\"type\":\"scatterternary\"}],\"surface\":[{\"colorbar\":{\"outlinewidth\":0,\"ticks\":\"\"},\"colorscale\":[[0.0,\"#0d0887\"],[0.1111111111111111,\"#46039f\"],[0.2222222222222222,\"#7201a8\"],[0.3333333333333333,\"#9c179e\"],[0.4444444444444444,\"#bd3786\"],[0.5555555555555556,\"#d8576b\"],[0.6666666666666666,\"#ed7953\"],[0.7777777777777778,\"#fb9f3a\"],[0.8888888888888888,\"#fdca26\"],[1.0,\"#f0f921\"]],\"type\":\"surface\"}],\"table\":[{\"cells\":{\"fill\":{\"color\":\"#EBF0F8\"},\"line\":{\"color\":\"white\"}},\"header\":{\"fill\":{\"color\":\"#C8D4E3\"},\"line\":{\"color\":\"white\"}},\"type\":\"table\"}]},\"layout\":{\"annotationdefaults\":{\"arrowcolor\":\"#2a3f5f\",\"arrowhead\":0,\"arrowwidth\":1},\"autotypenumbers\":\"strict\",\"coloraxis\":{\"colorbar\":{\"outlinewidth\":0,\"ticks\":\"\"}},\"colorscale\":{\"diverging\":[[0,\"#8e0152\"],[0.1,\"#c51b7d\"],[0.2,\"#de77ae\"],[0.3,\"#f1b6da\"],[0.4,\"#fde0ef\"],[0.5,\"#f7f7f7\"],[0.6,\"#e6f5d0\"],[0.7,\"#b8e186\"],[0.8,\"#7fbc41\"],[0.9,\"#4d9221\"],[1,\"#276419\"]],\"sequential\":[[0.0,\"#0d0887\"],[0.1111111111111111,\"#46039f\"],[0.2222222222222222,\"#7201a8\"],[0.3333333333333333,\"#9c179e\"],[0.4444444444444444,\"#bd3786\"],[0.5555555555555556,\"#d8576b\"],[0.6666666666666666,\"#ed7953\"],[0.7777777777777778,\"#fb9f3a\"],[0.8888888888888888,\"#fdca26\"],[1.0,\"#f0f921\"]],\"sequentialminus\":[[0.0,\"#0d0887\"],[0.1111111111111111,\"#46039f\"],[0.2222222222222222,\"#7201a8\"],[0.3333333333333333,\"#9c179e\"],[0.4444444444444444,\"#bd3786\"],[0.5555555555555556,\"#d8576b\"],[0.6666666666666666,\"#ed7953\"],[0.7777777777777778,\"#fb9f3a\"],[0.8888888888888888,\"#fdca26\"],[1.0,\"#f0f921\"]]},\"colorway\":[\"#636efa\",\"#EF553B\",\"#00cc96\",\"#ab63fa\",\"#FFA15A\",\"#19d3f3\",\"#FF6692\",\"#B6E880\",\"#FF97FF\",\"#FECB52\"],\"font\":{\"color\":\"#2a3f5f\"},\"geo\":{\"bgcolor\":\"white\",\"lakecolor\":\"white\",\"landcolor\":\"#E5ECF6\",\"showlakes\":true,\"showland\":true,\"subunitcolor\":\"white\"},\"hoverlabel\":{\"align\":\"left\"},\"hovermode\":\"closest\",\"mapbox\":{\"style\":\"light\"},\"paper_bgcolor\":\"white\",\"plot_bgcolor\":\"#E5ECF6\",\"polar\":{\"angularaxis\":{\"gridcolor\":\"white\",\"linecolor\":\"white\",\"ticks\":\"\"},\"bgcolor\":\"#E5ECF6\",\"radialaxis\":{\"gridcolor\":\"white\",\"linecolor\":\"white\",\"ticks\":\"\"}},\"scene\":{\"xaxis\":{\"backgroundcolor\":\"#E5ECF6\",\"gridcolor\":\"white\",\"gridwidth\":2,\"linecolor\":\"white\",\"showbackground\":true,\"ticks\":\"\",\"zerolinecolor\":\"white\"},\"yaxis\":{\"backgroundcolor\":\"#E5ECF6\",\"gridcolor\":\"white\",\"gridwidth\":2,\"linecolor\":\"white\",\"showbackground\":true,\"ticks\":\"\",\"zerolinecolor\":\"white\"},\"zaxis\":{\"backgroundcolor\":\"#E5ECF6\",\"gridcolor\":\"white\",\"gridwidth\":2,\"linecolor\":\"white\",\"showbackground\":true,\"ticks\":\"\",\"zerolinecolor\":\"white\"}},\"shapedefaults\":{\"line\":{\"color\":\"#2a3f5f\"}},\"ternary\":{\"aaxis\":{\"gridcolor\":\"white\",\"linecolor\":\"white\",\"ticks\":\"\"},\"baxis\":{\"gridcolor\":\"white\",\"linecolor\":\"white\",\"ticks\":\"\"},\"bgcolor\":\"#E5ECF6\",\"caxis\":{\"gridcolor\":\"white\",\"linecolor\":\"white\",\"ticks\":\"\"}},\"title\":{\"x\":0.05},\"xaxis\":{\"automargin\":true,\"gridcolor\":\"white\",\"linecolor\":\"white\",\"ticks\":\"\",\"title\":{\"standoff\":15},\"zerolinecolor\":\"white\",\"zerolinewidth\":2},\"yaxis\":{\"automargin\":true,\"gridcolor\":\"white\",\"linecolor\":\"white\",\"ticks\":\"\",\"title\":{\"standoff\":15},\"zerolinecolor\":\"white\",\"zerolinewidth\":2}}}},                        {\"responsive\": true}                    ).then(function(){\n",
              "                            \n",
              "var gd = document.getElementById('402682cb-ca08-48f8-9923-b760b4d5d561');\n",
              "var x = new MutationObserver(function (mutations, observer) {{\n",
              "        var display = window.getComputedStyle(gd).display;\n",
              "        if (!display || display === 'none') {{\n",
              "            console.log([gd, 'removed!']);\n",
              "            Plotly.purge(gd);\n",
              "            observer.disconnect();\n",
              "        }}\n",
              "}});\n",
              "\n",
              "// Listen for the removal of the full notebook cells\n",
              "var notebookContainer = gd.closest('#notebook-container');\n",
              "if (notebookContainer) {{\n",
              "    x.observe(notebookContainer, {childList: true});\n",
              "}}\n",
              "\n",
              "// Listen for the clearing of the current output cell\n",
              "var outputEl = gd.closest('.output');\n",
              "if (outputEl) {{\n",
              "    x.observe(outputEl, {childList: true});\n",
              "}}\n",
              "\n",
              "                        })                };                            </script>        </div>\n",
              "</body>\n",
              "</html>"
            ]
          },
          "metadata": {}
        }
      ]
    },
    {
      "cell_type": "code",
      "source": [
        "import numpy as np\n",
        "for col in nom_cols:\n",
        "    print(col)\n",
        "    train[col] = np.sqrt(train[col])\n",
        "    test[col] = np.sqrt(test[col])"
      ],
      "metadata": {
        "colab": {
          "base_uri": "https://localhost:8080/"
        },
        "id": "6CATbt-YAWK3",
        "outputId": "892cd595-9a38-4455-f614-2f5e15590e95"
      },
      "execution_count": null,
      "outputs": [
        {
          "output_type": "stream",
          "name": "stdout",
          "text": [
            "Age\n",
            "Work_Experience\n",
            "Family_Size\n"
          ]
        }
      ]
    },
    {
      "cell_type": "code",
      "source": [
        "train"
      ],
      "metadata": {
        "colab": {
          "base_uri": "https://localhost:8080/",
          "height": 424
        },
        "id": "_CbLpra1AdoW",
        "outputId": "ec086bd1-9f8a-4e96-b9e9-33e78519a8e8"
      },
      "execution_count": null,
      "outputs": [
        {
          "output_type": "execute_result",
          "data": {
            "text/plain": [
              "          ID  Gender  Ever_Married       Age  Graduated  Profession  \\\n",
              "0     462809       0             0  4.690416          0           0   \n",
              "1     462643       1             1  6.164414          1           1   \n",
              "2     466315       1             1  8.185353          1           1   \n",
              "3     461735       0             1  8.185353          1           2   \n",
              "4     462669       1             1  6.324555          1           3   \n",
              "...      ...     ...           ...       ...        ...         ...   \n",
              "8063  464018       0             0  4.690416          0           4   \n",
              "8064  464685       0             0  5.916080          0           5   \n",
              "8065  465406       1             0  5.744563          1           0   \n",
              "8066  467299       1             0  5.196152          1           0   \n",
              "8067  461879       0             1  6.082763          1           5   \n",
              "\n",
              "      Work_Experience  Spending_Score  Family_Size  Var_1  Segmentation  \\\n",
              "0            1.000000               0     2.000000      0             3   \n",
              "1            1.000000               1     1.732051      0             0   \n",
              "2            1.000000               0     1.000000      1             1   \n",
              "3            0.000000               2     1.414214      1             1   \n",
              "4            1.000000               2     2.449490      1             0   \n",
              "...               ...             ...          ...    ...           ...   \n",
              "8063         0.000000               0     2.645751      4             3   \n",
              "8064         1.732051               0     2.000000      0             3   \n",
              "8065         1.000000               0     1.000000      1             3   \n",
              "8066         1.000000               0     2.000000      1             1   \n",
              "8067         0.000000               1     1.732051      0             1   \n",
              "\n",
              "      Age_bin  \n",
              "0     below30  \n",
              "1       30-40  \n",
              "2         40+  \n",
              "3         40+  \n",
              "4       30-40  \n",
              "...       ...  \n",
              "8063  below30  \n",
              "8064    30-40  \n",
              "8065    30-40  \n",
              "8066  below30  \n",
              "8067    30-40  \n",
              "\n",
              "[8068 rows x 12 columns]"
            ],
            "text/html": [
              "\n",
              "  <div id=\"df-bc8909e9-e430-4aca-bd5c-8646473c6373\">\n",
              "    <div class=\"colab-df-container\">\n",
              "      <div>\n",
              "<style scoped>\n",
              "    .dataframe tbody tr th:only-of-type {\n",
              "        vertical-align: middle;\n",
              "    }\n",
              "\n",
              "    .dataframe tbody tr th {\n",
              "        vertical-align: top;\n",
              "    }\n",
              "\n",
              "    .dataframe thead th {\n",
              "        text-align: right;\n",
              "    }\n",
              "</style>\n",
              "<table border=\"1\" class=\"dataframe\">\n",
              "  <thead>\n",
              "    <tr style=\"text-align: right;\">\n",
              "      <th></th>\n",
              "      <th>ID</th>\n",
              "      <th>Gender</th>\n",
              "      <th>Ever_Married</th>\n",
              "      <th>Age</th>\n",
              "      <th>Graduated</th>\n",
              "      <th>Profession</th>\n",
              "      <th>Work_Experience</th>\n",
              "      <th>Spending_Score</th>\n",
              "      <th>Family_Size</th>\n",
              "      <th>Var_1</th>\n",
              "      <th>Segmentation</th>\n",
              "      <th>Age_bin</th>\n",
              "    </tr>\n",
              "  </thead>\n",
              "  <tbody>\n",
              "    <tr>\n",
              "      <th>0</th>\n",
              "      <td>462809</td>\n",
              "      <td>0</td>\n",
              "      <td>0</td>\n",
              "      <td>4.690416</td>\n",
              "      <td>0</td>\n",
              "      <td>0</td>\n",
              "      <td>1.000000</td>\n",
              "      <td>0</td>\n",
              "      <td>2.000000</td>\n",
              "      <td>0</td>\n",
              "      <td>3</td>\n",
              "      <td>below30</td>\n",
              "    </tr>\n",
              "    <tr>\n",
              "      <th>1</th>\n",
              "      <td>462643</td>\n",
              "      <td>1</td>\n",
              "      <td>1</td>\n",
              "      <td>6.164414</td>\n",
              "      <td>1</td>\n",
              "      <td>1</td>\n",
              "      <td>1.000000</td>\n",
              "      <td>1</td>\n",
              "      <td>1.732051</td>\n",
              "      <td>0</td>\n",
              "      <td>0</td>\n",
              "      <td>30-40</td>\n",
              "    </tr>\n",
              "    <tr>\n",
              "      <th>2</th>\n",
              "      <td>466315</td>\n",
              "      <td>1</td>\n",
              "      <td>1</td>\n",
              "      <td>8.185353</td>\n",
              "      <td>1</td>\n",
              "      <td>1</td>\n",
              "      <td>1.000000</td>\n",
              "      <td>0</td>\n",
              "      <td>1.000000</td>\n",
              "      <td>1</td>\n",
              "      <td>1</td>\n",
              "      <td>40+</td>\n",
              "    </tr>\n",
              "    <tr>\n",
              "      <th>3</th>\n",
              "      <td>461735</td>\n",
              "      <td>0</td>\n",
              "      <td>1</td>\n",
              "      <td>8.185353</td>\n",
              "      <td>1</td>\n",
              "      <td>2</td>\n",
              "      <td>0.000000</td>\n",
              "      <td>2</td>\n",
              "      <td>1.414214</td>\n",
              "      <td>1</td>\n",
              "      <td>1</td>\n",
              "      <td>40+</td>\n",
              "    </tr>\n",
              "    <tr>\n",
              "      <th>4</th>\n",
              "      <td>462669</td>\n",
              "      <td>1</td>\n",
              "      <td>1</td>\n",
              "      <td>6.324555</td>\n",
              "      <td>1</td>\n",
              "      <td>3</td>\n",
              "      <td>1.000000</td>\n",
              "      <td>2</td>\n",
              "      <td>2.449490</td>\n",
              "      <td>1</td>\n",
              "      <td>0</td>\n",
              "      <td>30-40</td>\n",
              "    </tr>\n",
              "    <tr>\n",
              "      <th>...</th>\n",
              "      <td>...</td>\n",
              "      <td>...</td>\n",
              "      <td>...</td>\n",
              "      <td>...</td>\n",
              "      <td>...</td>\n",
              "      <td>...</td>\n",
              "      <td>...</td>\n",
              "      <td>...</td>\n",
              "      <td>...</td>\n",
              "      <td>...</td>\n",
              "      <td>...</td>\n",
              "      <td>...</td>\n",
              "    </tr>\n",
              "    <tr>\n",
              "      <th>8063</th>\n",
              "      <td>464018</td>\n",
              "      <td>0</td>\n",
              "      <td>0</td>\n",
              "      <td>4.690416</td>\n",
              "      <td>0</td>\n",
              "      <td>4</td>\n",
              "      <td>0.000000</td>\n",
              "      <td>0</td>\n",
              "      <td>2.645751</td>\n",
              "      <td>4</td>\n",
              "      <td>3</td>\n",
              "      <td>below30</td>\n",
              "    </tr>\n",
              "    <tr>\n",
              "      <th>8064</th>\n",
              "      <td>464685</td>\n",
              "      <td>0</td>\n",
              "      <td>0</td>\n",
              "      <td>5.916080</td>\n",
              "      <td>0</td>\n",
              "      <td>5</td>\n",
              "      <td>1.732051</td>\n",
              "      <td>0</td>\n",
              "      <td>2.000000</td>\n",
              "      <td>0</td>\n",
              "      <td>3</td>\n",
              "      <td>30-40</td>\n",
              "    </tr>\n",
              "    <tr>\n",
              "      <th>8065</th>\n",
              "      <td>465406</td>\n",
              "      <td>1</td>\n",
              "      <td>0</td>\n",
              "      <td>5.744563</td>\n",
              "      <td>1</td>\n",
              "      <td>0</td>\n",
              "      <td>1.000000</td>\n",
              "      <td>0</td>\n",
              "      <td>1.000000</td>\n",
              "      <td>1</td>\n",
              "      <td>3</td>\n",
              "      <td>30-40</td>\n",
              "    </tr>\n",
              "    <tr>\n",
              "      <th>8066</th>\n",
              "      <td>467299</td>\n",
              "      <td>1</td>\n",
              "      <td>0</td>\n",
              "      <td>5.196152</td>\n",
              "      <td>1</td>\n",
              "      <td>0</td>\n",
              "      <td>1.000000</td>\n",
              "      <td>0</td>\n",
              "      <td>2.000000</td>\n",
              "      <td>1</td>\n",
              "      <td>1</td>\n",
              "      <td>below30</td>\n",
              "    </tr>\n",
              "    <tr>\n",
              "      <th>8067</th>\n",
              "      <td>461879</td>\n",
              "      <td>0</td>\n",
              "      <td>1</td>\n",
              "      <td>6.082763</td>\n",
              "      <td>1</td>\n",
              "      <td>5</td>\n",
              "      <td>0.000000</td>\n",
              "      <td>1</td>\n",
              "      <td>1.732051</td>\n",
              "      <td>0</td>\n",
              "      <td>1</td>\n",
              "      <td>30-40</td>\n",
              "    </tr>\n",
              "  </tbody>\n",
              "</table>\n",
              "<p>8068 rows × 12 columns</p>\n",
              "</div>\n",
              "      <button class=\"colab-df-convert\" onclick=\"convertToInteractive('df-bc8909e9-e430-4aca-bd5c-8646473c6373')\"\n",
              "              title=\"Convert this dataframe to an interactive table.\"\n",
              "              style=\"display:none;\">\n",
              "        \n",
              "  <svg xmlns=\"http://www.w3.org/2000/svg\" height=\"24px\"viewBox=\"0 0 24 24\"\n",
              "       width=\"24px\">\n",
              "    <path d=\"M0 0h24v24H0V0z\" fill=\"none\"/>\n",
              "    <path d=\"M18.56 5.44l.94 2.06.94-2.06 2.06-.94-2.06-.94-.94-2.06-.94 2.06-2.06.94zm-11 1L8.5 8.5l.94-2.06 2.06-.94-2.06-.94L8.5 2.5l-.94 2.06-2.06.94zm10 10l.94 2.06.94-2.06 2.06-.94-2.06-.94-.94-2.06-.94 2.06-2.06.94z\"/><path d=\"M17.41 7.96l-1.37-1.37c-.4-.4-.92-.59-1.43-.59-.52 0-1.04.2-1.43.59L10.3 9.45l-7.72 7.72c-.78.78-.78 2.05 0 2.83L4 21.41c.39.39.9.59 1.41.59.51 0 1.02-.2 1.41-.59l7.78-7.78 2.81-2.81c.8-.78.8-2.07 0-2.86zM5.41 20L4 18.59l7.72-7.72 1.47 1.35L5.41 20z\"/>\n",
              "  </svg>\n",
              "      </button>\n",
              "      \n",
              "  <style>\n",
              "    .colab-df-container {\n",
              "      display:flex;\n",
              "      flex-wrap:wrap;\n",
              "      gap: 12px;\n",
              "    }\n",
              "\n",
              "    .colab-df-convert {\n",
              "      background-color: #E8F0FE;\n",
              "      border: none;\n",
              "      border-radius: 50%;\n",
              "      cursor: pointer;\n",
              "      display: none;\n",
              "      fill: #1967D2;\n",
              "      height: 32px;\n",
              "      padding: 0 0 0 0;\n",
              "      width: 32px;\n",
              "    }\n",
              "\n",
              "    .colab-df-convert:hover {\n",
              "      background-color: #E2EBFA;\n",
              "      box-shadow: 0px 1px 2px rgba(60, 64, 67, 0.3), 0px 1px 3px 1px rgba(60, 64, 67, 0.15);\n",
              "      fill: #174EA6;\n",
              "    }\n",
              "\n",
              "    [theme=dark] .colab-df-convert {\n",
              "      background-color: #3B4455;\n",
              "      fill: #D2E3FC;\n",
              "    }\n",
              "\n",
              "    [theme=dark] .colab-df-convert:hover {\n",
              "      background-color: #434B5C;\n",
              "      box-shadow: 0px 1px 3px 1px rgba(0, 0, 0, 0.15);\n",
              "      filter: drop-shadow(0px 1px 2px rgba(0, 0, 0, 0.3));\n",
              "      fill: #FFFFFF;\n",
              "    }\n",
              "  </style>\n",
              "\n",
              "      <script>\n",
              "        const buttonEl =\n",
              "          document.querySelector('#df-bc8909e9-e430-4aca-bd5c-8646473c6373 button.colab-df-convert');\n",
              "        buttonEl.style.display =\n",
              "          google.colab.kernel.accessAllowed ? 'block' : 'none';\n",
              "\n",
              "        async function convertToInteractive(key) {\n",
              "          const element = document.querySelector('#df-bc8909e9-e430-4aca-bd5c-8646473c6373');\n",
              "          const dataTable =\n",
              "            await google.colab.kernel.invokeFunction('convertToInteractive',\n",
              "                                                     [key], {});\n",
              "          if (!dataTable) return;\n",
              "\n",
              "          const docLinkHtml = 'Like what you see? Visit the ' +\n",
              "            '<a target=\"_blank\" href=https://colab.research.google.com/notebooks/data_table.ipynb>data table notebook</a>'\n",
              "            + ' to learn more about interactive tables.';\n",
              "          element.innerHTML = '';\n",
              "          dataTable['output_type'] = 'display_data';\n",
              "          await google.colab.output.renderOutput(dataTable, element);\n",
              "          const docLink = document.createElement('div');\n",
              "          docLink.innerHTML = docLinkHtml;\n",
              "          element.appendChild(docLink);\n",
              "        }\n",
              "      </script>\n",
              "    </div>\n",
              "  </div>\n",
              "  "
            ]
          },
          "metadata": {},
          "execution_count": 37
        }
      ]
    },
    {
      "cell_type": "code",
      "source": [
        "train=train.drop('ID',axis=1)\n",
        "train= train.drop('Age_bin',axis = 1)\n",
        "train= train.drop('Work_Experience',axis = 1)\n",
        "\n",
        "test=test.drop('ID',axis=1)\n",
        "test=test.drop('Work_Experience',axis=1)"
      ],
      "metadata": {
        "id": "JlcvaHHlAkip"
      },
      "execution_count": null,
      "outputs": []
    },
    {
      "cell_type": "code",
      "source": [
        "test"
      ],
      "metadata": {
        "colab": {
          "base_uri": "https://localhost:8080/",
          "height": 424
        },
        "id": "WSqq80bC7eiL",
        "outputId": "b488e5f7-3fa8-46c0-b94c-2f7556272d8d"
      },
      "execution_count": null,
      "outputs": [
        {
          "output_type": "execute_result",
          "data": {
            "text/plain": [
              "      Gender  Ever_Married       Age  Graduated  Profession  Spending_Score  \\\n",
              "0          0             0  6.000000          0           0               0   \n",
              "1          1             0  6.082763          0           1               1   \n",
              "2          0             0  8.306624          1           2               0   \n",
              "3          1             0  7.681146          1           3               2   \n",
              "4          0             1  4.358899          1           4               0   \n",
              "...      ...           ...       ...        ...         ...             ...   \n",
              "2622       1             1  5.385165          1           1               0   \n",
              "2623       0             1  5.916080          0           5               0   \n",
              "2624       0             1  7.280110          0           7               0   \n",
              "2625       1             0  6.855655          0           3               2   \n",
              "2626       0             1  6.557439          0           1               0   \n",
              "\n",
              "      Family_Size  Var_1  \n",
              "0        1.000000      0  \n",
              "1        2.000000      0  \n",
              "2        1.000000      0  \n",
              "3        1.414214      0  \n",
              "4        2.000000      0  \n",
              "...           ...    ...  \n",
              "2622     2.000000      0  \n",
              "2623     1.000000      0  \n",
              "2624     1.414214      0  \n",
              "2625     2.236068      1  \n",
              "2626     1.732051      6  \n",
              "\n",
              "[2627 rows x 8 columns]"
            ],
            "text/html": [
              "\n",
              "  <div id=\"df-84ddbee9-f1be-4532-a2e5-4eb789567c8f\">\n",
              "    <div class=\"colab-df-container\">\n",
              "      <div>\n",
              "<style scoped>\n",
              "    .dataframe tbody tr th:only-of-type {\n",
              "        vertical-align: middle;\n",
              "    }\n",
              "\n",
              "    .dataframe tbody tr th {\n",
              "        vertical-align: top;\n",
              "    }\n",
              "\n",
              "    .dataframe thead th {\n",
              "        text-align: right;\n",
              "    }\n",
              "</style>\n",
              "<table border=\"1\" class=\"dataframe\">\n",
              "  <thead>\n",
              "    <tr style=\"text-align: right;\">\n",
              "      <th></th>\n",
              "      <th>Gender</th>\n",
              "      <th>Ever_Married</th>\n",
              "      <th>Age</th>\n",
              "      <th>Graduated</th>\n",
              "      <th>Profession</th>\n",
              "      <th>Spending_Score</th>\n",
              "      <th>Family_Size</th>\n",
              "      <th>Var_1</th>\n",
              "    </tr>\n",
              "  </thead>\n",
              "  <tbody>\n",
              "    <tr>\n",
              "      <th>0</th>\n",
              "      <td>0</td>\n",
              "      <td>0</td>\n",
              "      <td>6.000000</td>\n",
              "      <td>0</td>\n",
              "      <td>0</td>\n",
              "      <td>0</td>\n",
              "      <td>1.000000</td>\n",
              "      <td>0</td>\n",
              "    </tr>\n",
              "    <tr>\n",
              "      <th>1</th>\n",
              "      <td>1</td>\n",
              "      <td>0</td>\n",
              "      <td>6.082763</td>\n",
              "      <td>0</td>\n",
              "      <td>1</td>\n",
              "      <td>1</td>\n",
              "      <td>2.000000</td>\n",
              "      <td>0</td>\n",
              "    </tr>\n",
              "    <tr>\n",
              "      <th>2</th>\n",
              "      <td>0</td>\n",
              "      <td>0</td>\n",
              "      <td>8.306624</td>\n",
              "      <td>1</td>\n",
              "      <td>2</td>\n",
              "      <td>0</td>\n",
              "      <td>1.000000</td>\n",
              "      <td>0</td>\n",
              "    </tr>\n",
              "    <tr>\n",
              "      <th>3</th>\n",
              "      <td>1</td>\n",
              "      <td>0</td>\n",
              "      <td>7.681146</td>\n",
              "      <td>1</td>\n",
              "      <td>3</td>\n",
              "      <td>2</td>\n",
              "      <td>1.414214</td>\n",
              "      <td>0</td>\n",
              "    </tr>\n",
              "    <tr>\n",
              "      <th>4</th>\n",
              "      <td>0</td>\n",
              "      <td>1</td>\n",
              "      <td>4.358899</td>\n",
              "      <td>1</td>\n",
              "      <td>4</td>\n",
              "      <td>0</td>\n",
              "      <td>2.000000</td>\n",
              "      <td>0</td>\n",
              "    </tr>\n",
              "    <tr>\n",
              "      <th>...</th>\n",
              "      <td>...</td>\n",
              "      <td>...</td>\n",
              "      <td>...</td>\n",
              "      <td>...</td>\n",
              "      <td>...</td>\n",
              "      <td>...</td>\n",
              "      <td>...</td>\n",
              "      <td>...</td>\n",
              "    </tr>\n",
              "    <tr>\n",
              "      <th>2622</th>\n",
              "      <td>1</td>\n",
              "      <td>1</td>\n",
              "      <td>5.385165</td>\n",
              "      <td>1</td>\n",
              "      <td>1</td>\n",
              "      <td>0</td>\n",
              "      <td>2.000000</td>\n",
              "      <td>0</td>\n",
              "    </tr>\n",
              "    <tr>\n",
              "      <th>2623</th>\n",
              "      <td>0</td>\n",
              "      <td>1</td>\n",
              "      <td>5.916080</td>\n",
              "      <td>0</td>\n",
              "      <td>5</td>\n",
              "      <td>0</td>\n",
              "      <td>1.000000</td>\n",
              "      <td>0</td>\n",
              "    </tr>\n",
              "    <tr>\n",
              "      <th>2624</th>\n",
              "      <td>0</td>\n",
              "      <td>1</td>\n",
              "      <td>7.280110</td>\n",
              "      <td>0</td>\n",
              "      <td>7</td>\n",
              "      <td>0</td>\n",
              "      <td>1.414214</td>\n",
              "      <td>0</td>\n",
              "    </tr>\n",
              "    <tr>\n",
              "      <th>2625</th>\n",
              "      <td>1</td>\n",
              "      <td>0</td>\n",
              "      <td>6.855655</td>\n",
              "      <td>0</td>\n",
              "      <td>3</td>\n",
              "      <td>2</td>\n",
              "      <td>2.236068</td>\n",
              "      <td>1</td>\n",
              "    </tr>\n",
              "    <tr>\n",
              "      <th>2626</th>\n",
              "      <td>0</td>\n",
              "      <td>1</td>\n",
              "      <td>6.557439</td>\n",
              "      <td>0</td>\n",
              "      <td>1</td>\n",
              "      <td>0</td>\n",
              "      <td>1.732051</td>\n",
              "      <td>6</td>\n",
              "    </tr>\n",
              "  </tbody>\n",
              "</table>\n",
              "<p>2627 rows × 8 columns</p>\n",
              "</div>\n",
              "      <button class=\"colab-df-convert\" onclick=\"convertToInteractive('df-84ddbee9-f1be-4532-a2e5-4eb789567c8f')\"\n",
              "              title=\"Convert this dataframe to an interactive table.\"\n",
              "              style=\"display:none;\">\n",
              "        \n",
              "  <svg xmlns=\"http://www.w3.org/2000/svg\" height=\"24px\"viewBox=\"0 0 24 24\"\n",
              "       width=\"24px\">\n",
              "    <path d=\"M0 0h24v24H0V0z\" fill=\"none\"/>\n",
              "    <path d=\"M18.56 5.44l.94 2.06.94-2.06 2.06-.94-2.06-.94-.94-2.06-.94 2.06-2.06.94zm-11 1L8.5 8.5l.94-2.06 2.06-.94-2.06-.94L8.5 2.5l-.94 2.06-2.06.94zm10 10l.94 2.06.94-2.06 2.06-.94-2.06-.94-.94-2.06-.94 2.06-2.06.94z\"/><path d=\"M17.41 7.96l-1.37-1.37c-.4-.4-.92-.59-1.43-.59-.52 0-1.04.2-1.43.59L10.3 9.45l-7.72 7.72c-.78.78-.78 2.05 0 2.83L4 21.41c.39.39.9.59 1.41.59.51 0 1.02-.2 1.41-.59l7.78-7.78 2.81-2.81c.8-.78.8-2.07 0-2.86zM5.41 20L4 18.59l7.72-7.72 1.47 1.35L5.41 20z\"/>\n",
              "  </svg>\n",
              "      </button>\n",
              "      \n",
              "  <style>\n",
              "    .colab-df-container {\n",
              "      display:flex;\n",
              "      flex-wrap:wrap;\n",
              "      gap: 12px;\n",
              "    }\n",
              "\n",
              "    .colab-df-convert {\n",
              "      background-color: #E8F0FE;\n",
              "      border: none;\n",
              "      border-radius: 50%;\n",
              "      cursor: pointer;\n",
              "      display: none;\n",
              "      fill: #1967D2;\n",
              "      height: 32px;\n",
              "      padding: 0 0 0 0;\n",
              "      width: 32px;\n",
              "    }\n",
              "\n",
              "    .colab-df-convert:hover {\n",
              "      background-color: #E2EBFA;\n",
              "      box-shadow: 0px 1px 2px rgba(60, 64, 67, 0.3), 0px 1px 3px 1px rgba(60, 64, 67, 0.15);\n",
              "      fill: #174EA6;\n",
              "    }\n",
              "\n",
              "    [theme=dark] .colab-df-convert {\n",
              "      background-color: #3B4455;\n",
              "      fill: #D2E3FC;\n",
              "    }\n",
              "\n",
              "    [theme=dark] .colab-df-convert:hover {\n",
              "      background-color: #434B5C;\n",
              "      box-shadow: 0px 1px 3px 1px rgba(0, 0, 0, 0.15);\n",
              "      filter: drop-shadow(0px 1px 2px rgba(0, 0, 0, 0.3));\n",
              "      fill: #FFFFFF;\n",
              "    }\n",
              "  </style>\n",
              "\n",
              "      <script>\n",
              "        const buttonEl =\n",
              "          document.querySelector('#df-84ddbee9-f1be-4532-a2e5-4eb789567c8f button.colab-df-convert');\n",
              "        buttonEl.style.display =\n",
              "          google.colab.kernel.accessAllowed ? 'block' : 'none';\n",
              "\n",
              "        async function convertToInteractive(key) {\n",
              "          const element = document.querySelector('#df-84ddbee9-f1be-4532-a2e5-4eb789567c8f');\n",
              "          const dataTable =\n",
              "            await google.colab.kernel.invokeFunction('convertToInteractive',\n",
              "                                                     [key], {});\n",
              "          if (!dataTable) return;\n",
              "\n",
              "          const docLinkHtml = 'Like what you see? Visit the ' +\n",
              "            '<a target=\"_blank\" href=https://colab.research.google.com/notebooks/data_table.ipynb>data table notebook</a>'\n",
              "            + ' to learn more about interactive tables.';\n",
              "          element.innerHTML = '';\n",
              "          dataTable['output_type'] = 'display_data';\n",
              "          await google.colab.output.renderOutput(dataTable, element);\n",
              "          const docLink = document.createElement('div');\n",
              "          docLink.innerHTML = docLinkHtml;\n",
              "          element.appendChild(docLink);\n",
              "        }\n",
              "      </script>\n",
              "    </div>\n",
              "  </div>\n",
              "  "
            ]
          },
          "metadata": {},
          "execution_count": 39
        }
      ]
    },
    {
      "cell_type": "code",
      "source": [
        "X = train.drop(tag,1) \n",
        "y = train[tag]"
      ],
      "metadata": {
        "colab": {
          "base_uri": "https://localhost:8080/"
        },
        "id": "fhHezGt5Aq6c",
        "outputId": "aae4f58b-a0d2-4966-fb82-edd8cc60aa81"
      },
      "execution_count": null,
      "outputs": [
        {
          "output_type": "stream",
          "name": "stderr",
          "text": [
            "/usr/local/lib/python3.7/dist-packages/ipykernel_launcher.py:1: FutureWarning:\n",
            "\n",
            "In a future version of pandas all arguments of DataFrame.drop except for the argument 'labels' will be keyword-only\n",
            "\n"
          ]
        }
      ]
    },
    {
      "cell_type": "code",
      "source": [
        "X=pd.get_dummies(X) \n",
        "train=pd.get_dummies(train)\n",
        "test=pd.get_dummies(test)"
      ],
      "metadata": {
        "id": "jVGUHVb9AvbL"
      },
      "execution_count": null,
      "outputs": []
    },
    {
      "cell_type": "code",
      "source": [
        "from sklearn.model_selection import train_test_split\n",
        "x_train, x_cv, y_train, y_cv = train_test_split(X,y, test_size =0.15)"
      ],
      "metadata": {
        "id": "HP_5N901A9HM"
      },
      "execution_count": null,
      "outputs": []
    },
    {
      "cell_type": "code",
      "source": [
        "test"
      ],
      "metadata": {
        "colab": {
          "base_uri": "https://localhost:8080/",
          "height": 424
        },
        "id": "W3Wt7U2R72HH",
        "outputId": "8cf9414f-d8d7-4605-b726-0163a3247b8f"
      },
      "execution_count": null,
      "outputs": [
        {
          "output_type": "execute_result",
          "data": {
            "text/plain": [
              "      Gender  Ever_Married       Age  Graduated  Profession  Spending_Score  \\\n",
              "0          0             0  6.000000          0           0               0   \n",
              "1          1             0  6.082763          0           1               1   \n",
              "2          0             0  8.306624          1           2               0   \n",
              "3          1             0  7.681146          1           3               2   \n",
              "4          0             1  4.358899          1           4               0   \n",
              "...      ...           ...       ...        ...         ...             ...   \n",
              "2622       1             1  5.385165          1           1               0   \n",
              "2623       0             1  5.916080          0           5               0   \n",
              "2624       0             1  7.280110          0           7               0   \n",
              "2625       1             0  6.855655          0           3               2   \n",
              "2626       0             1  6.557439          0           1               0   \n",
              "\n",
              "      Family_Size  Var_1  \n",
              "0        1.000000      0  \n",
              "1        2.000000      0  \n",
              "2        1.000000      0  \n",
              "3        1.414214      0  \n",
              "4        2.000000      0  \n",
              "...           ...    ...  \n",
              "2622     2.000000      0  \n",
              "2623     1.000000      0  \n",
              "2624     1.414214      0  \n",
              "2625     2.236068      1  \n",
              "2626     1.732051      6  \n",
              "\n",
              "[2627 rows x 8 columns]"
            ],
            "text/html": [
              "\n",
              "  <div id=\"df-f5109724-54e2-4f00-9bc1-32c8d3a198b0\">\n",
              "    <div class=\"colab-df-container\">\n",
              "      <div>\n",
              "<style scoped>\n",
              "    .dataframe tbody tr th:only-of-type {\n",
              "        vertical-align: middle;\n",
              "    }\n",
              "\n",
              "    .dataframe tbody tr th {\n",
              "        vertical-align: top;\n",
              "    }\n",
              "\n",
              "    .dataframe thead th {\n",
              "        text-align: right;\n",
              "    }\n",
              "</style>\n",
              "<table border=\"1\" class=\"dataframe\">\n",
              "  <thead>\n",
              "    <tr style=\"text-align: right;\">\n",
              "      <th></th>\n",
              "      <th>Gender</th>\n",
              "      <th>Ever_Married</th>\n",
              "      <th>Age</th>\n",
              "      <th>Graduated</th>\n",
              "      <th>Profession</th>\n",
              "      <th>Spending_Score</th>\n",
              "      <th>Family_Size</th>\n",
              "      <th>Var_1</th>\n",
              "    </tr>\n",
              "  </thead>\n",
              "  <tbody>\n",
              "    <tr>\n",
              "      <th>0</th>\n",
              "      <td>0</td>\n",
              "      <td>0</td>\n",
              "      <td>6.000000</td>\n",
              "      <td>0</td>\n",
              "      <td>0</td>\n",
              "      <td>0</td>\n",
              "      <td>1.000000</td>\n",
              "      <td>0</td>\n",
              "    </tr>\n",
              "    <tr>\n",
              "      <th>1</th>\n",
              "      <td>1</td>\n",
              "      <td>0</td>\n",
              "      <td>6.082763</td>\n",
              "      <td>0</td>\n",
              "      <td>1</td>\n",
              "      <td>1</td>\n",
              "      <td>2.000000</td>\n",
              "      <td>0</td>\n",
              "    </tr>\n",
              "    <tr>\n",
              "      <th>2</th>\n",
              "      <td>0</td>\n",
              "      <td>0</td>\n",
              "      <td>8.306624</td>\n",
              "      <td>1</td>\n",
              "      <td>2</td>\n",
              "      <td>0</td>\n",
              "      <td>1.000000</td>\n",
              "      <td>0</td>\n",
              "    </tr>\n",
              "    <tr>\n",
              "      <th>3</th>\n",
              "      <td>1</td>\n",
              "      <td>0</td>\n",
              "      <td>7.681146</td>\n",
              "      <td>1</td>\n",
              "      <td>3</td>\n",
              "      <td>2</td>\n",
              "      <td>1.414214</td>\n",
              "      <td>0</td>\n",
              "    </tr>\n",
              "    <tr>\n",
              "      <th>4</th>\n",
              "      <td>0</td>\n",
              "      <td>1</td>\n",
              "      <td>4.358899</td>\n",
              "      <td>1</td>\n",
              "      <td>4</td>\n",
              "      <td>0</td>\n",
              "      <td>2.000000</td>\n",
              "      <td>0</td>\n",
              "    </tr>\n",
              "    <tr>\n",
              "      <th>...</th>\n",
              "      <td>...</td>\n",
              "      <td>...</td>\n",
              "      <td>...</td>\n",
              "      <td>...</td>\n",
              "      <td>...</td>\n",
              "      <td>...</td>\n",
              "      <td>...</td>\n",
              "      <td>...</td>\n",
              "    </tr>\n",
              "    <tr>\n",
              "      <th>2622</th>\n",
              "      <td>1</td>\n",
              "      <td>1</td>\n",
              "      <td>5.385165</td>\n",
              "      <td>1</td>\n",
              "      <td>1</td>\n",
              "      <td>0</td>\n",
              "      <td>2.000000</td>\n",
              "      <td>0</td>\n",
              "    </tr>\n",
              "    <tr>\n",
              "      <th>2623</th>\n",
              "      <td>0</td>\n",
              "      <td>1</td>\n",
              "      <td>5.916080</td>\n",
              "      <td>0</td>\n",
              "      <td>5</td>\n",
              "      <td>0</td>\n",
              "      <td>1.000000</td>\n",
              "      <td>0</td>\n",
              "    </tr>\n",
              "    <tr>\n",
              "      <th>2624</th>\n",
              "      <td>0</td>\n",
              "      <td>1</td>\n",
              "      <td>7.280110</td>\n",
              "      <td>0</td>\n",
              "      <td>7</td>\n",
              "      <td>0</td>\n",
              "      <td>1.414214</td>\n",
              "      <td>0</td>\n",
              "    </tr>\n",
              "    <tr>\n",
              "      <th>2625</th>\n",
              "      <td>1</td>\n",
              "      <td>0</td>\n",
              "      <td>6.855655</td>\n",
              "      <td>0</td>\n",
              "      <td>3</td>\n",
              "      <td>2</td>\n",
              "      <td>2.236068</td>\n",
              "      <td>1</td>\n",
              "    </tr>\n",
              "    <tr>\n",
              "      <th>2626</th>\n",
              "      <td>0</td>\n",
              "      <td>1</td>\n",
              "      <td>6.557439</td>\n",
              "      <td>0</td>\n",
              "      <td>1</td>\n",
              "      <td>0</td>\n",
              "      <td>1.732051</td>\n",
              "      <td>6</td>\n",
              "    </tr>\n",
              "  </tbody>\n",
              "</table>\n",
              "<p>2627 rows × 8 columns</p>\n",
              "</div>\n",
              "      <button class=\"colab-df-convert\" onclick=\"convertToInteractive('df-f5109724-54e2-4f00-9bc1-32c8d3a198b0')\"\n",
              "              title=\"Convert this dataframe to an interactive table.\"\n",
              "              style=\"display:none;\">\n",
              "        \n",
              "  <svg xmlns=\"http://www.w3.org/2000/svg\" height=\"24px\"viewBox=\"0 0 24 24\"\n",
              "       width=\"24px\">\n",
              "    <path d=\"M0 0h24v24H0V0z\" fill=\"none\"/>\n",
              "    <path d=\"M18.56 5.44l.94 2.06.94-2.06 2.06-.94-2.06-.94-.94-2.06-.94 2.06-2.06.94zm-11 1L8.5 8.5l.94-2.06 2.06-.94-2.06-.94L8.5 2.5l-.94 2.06-2.06.94zm10 10l.94 2.06.94-2.06 2.06-.94-2.06-.94-.94-2.06-.94 2.06-2.06.94z\"/><path d=\"M17.41 7.96l-1.37-1.37c-.4-.4-.92-.59-1.43-.59-.52 0-1.04.2-1.43.59L10.3 9.45l-7.72 7.72c-.78.78-.78 2.05 0 2.83L4 21.41c.39.39.9.59 1.41.59.51 0 1.02-.2 1.41-.59l7.78-7.78 2.81-2.81c.8-.78.8-2.07 0-2.86zM5.41 20L4 18.59l7.72-7.72 1.47 1.35L5.41 20z\"/>\n",
              "  </svg>\n",
              "      </button>\n",
              "      \n",
              "  <style>\n",
              "    .colab-df-container {\n",
              "      display:flex;\n",
              "      flex-wrap:wrap;\n",
              "      gap: 12px;\n",
              "    }\n",
              "\n",
              "    .colab-df-convert {\n",
              "      background-color: #E8F0FE;\n",
              "      border: none;\n",
              "      border-radius: 50%;\n",
              "      cursor: pointer;\n",
              "      display: none;\n",
              "      fill: #1967D2;\n",
              "      height: 32px;\n",
              "      padding: 0 0 0 0;\n",
              "      width: 32px;\n",
              "    }\n",
              "\n",
              "    .colab-df-convert:hover {\n",
              "      background-color: #E2EBFA;\n",
              "      box-shadow: 0px 1px 2px rgba(60, 64, 67, 0.3), 0px 1px 3px 1px rgba(60, 64, 67, 0.15);\n",
              "      fill: #174EA6;\n",
              "    }\n",
              "\n",
              "    [theme=dark] .colab-df-convert {\n",
              "      background-color: #3B4455;\n",
              "      fill: #D2E3FC;\n",
              "    }\n",
              "\n",
              "    [theme=dark] .colab-df-convert:hover {\n",
              "      background-color: #434B5C;\n",
              "      box-shadow: 0px 1px 3px 1px rgba(0, 0, 0, 0.15);\n",
              "      filter: drop-shadow(0px 1px 2px rgba(0, 0, 0, 0.3));\n",
              "      fill: #FFFFFF;\n",
              "    }\n",
              "  </style>\n",
              "\n",
              "      <script>\n",
              "        const buttonEl =\n",
              "          document.querySelector('#df-f5109724-54e2-4f00-9bc1-32c8d3a198b0 button.colab-df-convert');\n",
              "        buttonEl.style.display =\n",
              "          google.colab.kernel.accessAllowed ? 'block' : 'none';\n",
              "\n",
              "        async function convertToInteractive(key) {\n",
              "          const element = document.querySelector('#df-f5109724-54e2-4f00-9bc1-32c8d3a198b0');\n",
              "          const dataTable =\n",
              "            await google.colab.kernel.invokeFunction('convertToInteractive',\n",
              "                                                     [key], {});\n",
              "          if (!dataTable) return;\n",
              "\n",
              "          const docLinkHtml = 'Like what you see? Visit the ' +\n",
              "            '<a target=\"_blank\" href=https://colab.research.google.com/notebooks/data_table.ipynb>data table notebook</a>'\n",
              "            + ' to learn more about interactive tables.';\n",
              "          element.innerHTML = '';\n",
              "          dataTable['output_type'] = 'display_data';\n",
              "          await google.colab.output.renderOutput(dataTable, element);\n",
              "          const docLink = document.createElement('div');\n",
              "          docLink.innerHTML = docLinkHtml;\n",
              "          element.appendChild(docLink);\n",
              "        }\n",
              "      </script>\n",
              "    </div>\n",
              "  </div>\n",
              "  "
            ]
          },
          "metadata": {},
          "execution_count": 43
        }
      ]
    },
    {
      "cell_type": "code",
      "source": [
        "from sklearn.ensemble import RandomForestClassifier\n",
        "from sklearn.model_selection import StratifiedKFold\n",
        "from sklearn.metrics import accuracy_score\n",
        "from xgboost import XGBClassifier\n",
        "from sklearn.model_selection import GridSearchCV\n",
        "import lightgbm as lgb"
      ],
      "metadata": {
        "id": "_dhQONR77322"
      },
      "execution_count": null,
      "outputs": []
    },
    {
      "cell_type": "code",
      "source": [
        "i=1 \n",
        "kf = StratifiedKFold(n_splits=5,random_state=1,shuffle=True) \n",
        "for train_index,test_index in kf.split(X,y):     \n",
        "    print('\\n{} of kfold {}'.format(i,kf.n_splits))     \n",
        "    xtr,xvl = X.loc[train_index],X.loc[test_index]     \n",
        "    ytr,yvl = y[train_index],y[test_index]         \n",
        "    model = RandomForestClassifier(random_state=1, max_depth=7,n_estimators=181)     \n",
        "    model.fit(xtr, ytr)     \n",
        "    pred_test = model.predict(xvl)     \n",
        "    score = accuracy_score(yvl,pred_test)     \n",
        "    print('accuracy_score',score)     \n",
        "    i+=1 \n",
        "\n",
        "    pred_test = model.predict(test)"
      ],
      "metadata": {
        "colab": {
          "base_uri": "https://localhost:8080/"
        },
        "id": "rQCUmzc28H3J",
        "outputId": "bf5e2f18-a981-4e5c-821b-65dfe93a421b"
      },
      "execution_count": null,
      "outputs": [
        {
          "output_type": "stream",
          "name": "stdout",
          "text": [
            "\n",
            "1 of kfold 5\n"
          ]
        },
        {
          "output_type": "execute_result",
          "data": {
            "text/plain": [
              "RandomForestClassifier(max_depth=7, n_estimators=181, random_state=1)"
            ]
          },
          "metadata": {},
          "execution_count": 45
        },
        {
          "output_type": "stream",
          "name": "stdout",
          "text": [
            "accuracy_score 0.5229244114002478\n",
            "\n",
            "2 of kfold 5\n"
          ]
        },
        {
          "output_type": "execute_result",
          "data": {
            "text/plain": [
              "RandomForestClassifier(max_depth=7, n_estimators=181, random_state=1)"
            ]
          },
          "metadata": {},
          "execution_count": 45
        },
        {
          "output_type": "stream",
          "name": "stdout",
          "text": [
            "accuracy_score 0.5247831474597274\n",
            "\n",
            "3 of kfold 5\n"
          ]
        },
        {
          "output_type": "execute_result",
          "data": {
            "text/plain": [
              "RandomForestClassifier(max_depth=7, n_estimators=181, random_state=1)"
            ]
          },
          "metadata": {},
          "execution_count": 45
        },
        {
          "output_type": "stream",
          "name": "stdout",
          "text": [
            "accuracy_score 0.540272614622057\n",
            "\n",
            "4 of kfold 5\n"
          ]
        },
        {
          "output_type": "execute_result",
          "data": {
            "text/plain": [
              "RandomForestClassifier(max_depth=7, n_estimators=181, random_state=1)"
            ]
          },
          "metadata": {},
          "execution_count": 45
        },
        {
          "output_type": "stream",
          "name": "stdout",
          "text": [
            "accuracy_score 0.5220086794792312\n",
            "\n",
            "5 of kfold 5\n"
          ]
        },
        {
          "output_type": "execute_result",
          "data": {
            "text/plain": [
              "RandomForestClassifier(max_depth=7, n_estimators=181, random_state=1)"
            ]
          },
          "metadata": {},
          "execution_count": 45
        },
        {
          "output_type": "stream",
          "name": "stdout",
          "text": [
            "accuracy_score 0.5096094234345939\n"
          ]
        }
      ]
    },
    {
      "cell_type": "code",
      "source": [
        "RandomForestClassifier(max_depth=7, n_estimators=181, random_state=1)\n",
        "\n"
      ],
      "metadata": {
        "colab": {
          "base_uri": "https://localhost:8080/"
        },
        "id": "HqYC811S8UeR",
        "outputId": "a00e97dd-9eec-45dc-9d74-bdfbec99c571"
      },
      "execution_count": null,
      "outputs": [
        {
          "output_type": "execute_result",
          "data": {
            "text/plain": [
              "RandomForestClassifier(max_depth=7, n_estimators=181, random_state=1)"
            ]
          },
          "metadata": {},
          "execution_count": 49
        }
      ]
    },
    {
      "cell_type": "code",
      "source": [
        "RandomForestClassifier(max_depth=7, n_estimators=181, random_state=1)"
      ],
      "metadata": {
        "colab": {
          "base_uri": "https://localhost:8080/"
        },
        "id": "f-s5BZFk8pIk",
        "outputId": "54d668be-ce0f-414a-b7e3-24d5f9f44441"
      },
      "execution_count": null,
      "outputs": [
        {
          "output_type": "execute_result",
          "data": {
            "text/plain": [
              "RandomForestClassifier(max_depth=7, n_estimators=181, random_state=1)"
            ]
          },
          "metadata": {},
          "execution_count": 50
        }
      ]
    },
    {
      "cell_type": "code",
      "source": [
        "RandomForestClassifier(max_depth=7, n_estimators=181, random_state=1)"
      ],
      "metadata": {
        "colab": {
          "base_uri": "https://localhost:8080/"
        },
        "id": "R3jTN_DS8yKO",
        "outputId": "ca785c3e-c46d-4bad-829f-2df873481975"
      },
      "execution_count": null,
      "outputs": [
        {
          "output_type": "execute_result",
          "data": {
            "text/plain": [
              "RandomForestClassifier(max_depth=7, n_estimators=181, random_state=1)"
            ]
          },
          "metadata": {},
          "execution_count": 51
        }
      ]
    },
    {
      "cell_type": "code",
      "source": [
        "RandomForestClassifier(max_depth=7, n_estimators=181, random_state=1)"
      ],
      "metadata": {
        "colab": {
          "base_uri": "https://localhost:8080/"
        },
        "id": "1E18yxO081I1",
        "outputId": "58ab63e7-5b45-4c2b-833b-7c951ab316a0"
      },
      "execution_count": null,
      "outputs": [
        {
          "output_type": "execute_result",
          "data": {
            "text/plain": [
              "RandomForestClassifier(max_depth=7, n_estimators=181, random_state=1)"
            ]
          },
          "metadata": {},
          "execution_count": 52
        }
      ]
    },
    {
      "cell_type": "code",
      "source": [
        "RandomForestClassifier(max_depth=7, n_estimators=181, random_state=1)"
      ],
      "metadata": {
        "colab": {
          "base_uri": "https://localhost:8080/"
        },
        "id": "AZComwZE88hL",
        "outputId": "d49aedde-3f8c-4021-d0bd-2f9f331967c9"
      },
      "execution_count": null,
      "outputs": [
        {
          "output_type": "execute_result",
          "data": {
            "text/plain": [
              "RandomForestClassifier(max_depth=7, n_estimators=181, random_state=1)"
            ]
          },
          "metadata": {},
          "execution_count": 53
        }
      ]
    },
    {
      "cell_type": "code",
      "source": [
        "from google.colab import files\n",
        "uploaded = files.upload()"
      ],
      "metadata": {
        "colab": {
          "base_uri": "https://localhost:8080/",
          "height": 73
        },
        "id": "xHz9kytG90kP",
        "outputId": "cee25415-7e2e-45f0-fcf8-1e45f259d5eb"
      },
      "execution_count": null,
      "outputs": [
        {
          "output_type": "display_data",
          "data": {
            "text/plain": [
              "<IPython.core.display.HTML object>"
            ],
            "text/html": [
              "\n",
              "     <input type=\"file\" id=\"files-e73e89b1-4ded-4712-a7b3-3c38c40ad3c2\" name=\"files[]\" multiple disabled\n",
              "        style=\"border:none\" />\n",
              "     <output id=\"result-e73e89b1-4ded-4712-a7b3-3c38c40ad3c2\">\n",
              "      Upload widget is only available when the cell has been executed in the\n",
              "      current browser session. Please rerun this cell to enable.\n",
              "      </output>\n",
              "      <script>// Copyright 2017 Google LLC\n",
              "//\n",
              "// Licensed under the Apache License, Version 2.0 (the \"License\");\n",
              "// you may not use this file except in compliance with the License.\n",
              "// You may obtain a copy of the License at\n",
              "//\n",
              "//      http://www.apache.org/licenses/LICENSE-2.0\n",
              "//\n",
              "// Unless required by applicable law or agreed to in writing, software\n",
              "// distributed under the License is distributed on an \"AS IS\" BASIS,\n",
              "// WITHOUT WARRANTIES OR CONDITIONS OF ANY KIND, either express or implied.\n",
              "// See the License for the specific language governing permissions and\n",
              "// limitations under the License.\n",
              "\n",
              "/**\n",
              " * @fileoverview Helpers for google.colab Python module.\n",
              " */\n",
              "(function(scope) {\n",
              "function span(text, styleAttributes = {}) {\n",
              "  const element = document.createElement('span');\n",
              "  element.textContent = text;\n",
              "  for (const key of Object.keys(styleAttributes)) {\n",
              "    element.style[key] = styleAttributes[key];\n",
              "  }\n",
              "  return element;\n",
              "}\n",
              "\n",
              "// Max number of bytes which will be uploaded at a time.\n",
              "const MAX_PAYLOAD_SIZE = 100 * 1024;\n",
              "\n",
              "function _uploadFiles(inputId, outputId) {\n",
              "  const steps = uploadFilesStep(inputId, outputId);\n",
              "  const outputElement = document.getElementById(outputId);\n",
              "  // Cache steps on the outputElement to make it available for the next call\n",
              "  // to uploadFilesContinue from Python.\n",
              "  outputElement.steps = steps;\n",
              "\n",
              "  return _uploadFilesContinue(outputId);\n",
              "}\n",
              "\n",
              "// This is roughly an async generator (not supported in the browser yet),\n",
              "// where there are multiple asynchronous steps and the Python side is going\n",
              "// to poll for completion of each step.\n",
              "// This uses a Promise to block the python side on completion of each step,\n",
              "// then passes the result of the previous step as the input to the next step.\n",
              "function _uploadFilesContinue(outputId) {\n",
              "  const outputElement = document.getElementById(outputId);\n",
              "  const steps = outputElement.steps;\n",
              "\n",
              "  const next = steps.next(outputElement.lastPromiseValue);\n",
              "  return Promise.resolve(next.value.promise).then((value) => {\n",
              "    // Cache the last promise value to make it available to the next\n",
              "    // step of the generator.\n",
              "    outputElement.lastPromiseValue = value;\n",
              "    return next.value.response;\n",
              "  });\n",
              "}\n",
              "\n",
              "/**\n",
              " * Generator function which is called between each async step of the upload\n",
              " * process.\n",
              " * @param {string} inputId Element ID of the input file picker element.\n",
              " * @param {string} outputId Element ID of the output display.\n",
              " * @return {!Iterable<!Object>} Iterable of next steps.\n",
              " */\n",
              "function* uploadFilesStep(inputId, outputId) {\n",
              "  const inputElement = document.getElementById(inputId);\n",
              "  inputElement.disabled = false;\n",
              "\n",
              "  const outputElement = document.getElementById(outputId);\n",
              "  outputElement.innerHTML = '';\n",
              "\n",
              "  const pickedPromise = new Promise((resolve) => {\n",
              "    inputElement.addEventListener('change', (e) => {\n",
              "      resolve(e.target.files);\n",
              "    });\n",
              "  });\n",
              "\n",
              "  const cancel = document.createElement('button');\n",
              "  inputElement.parentElement.appendChild(cancel);\n",
              "  cancel.textContent = 'Cancel upload';\n",
              "  const cancelPromise = new Promise((resolve) => {\n",
              "    cancel.onclick = () => {\n",
              "      resolve(null);\n",
              "    };\n",
              "  });\n",
              "\n",
              "  // Wait for the user to pick the files.\n",
              "  const files = yield {\n",
              "    promise: Promise.race([pickedPromise, cancelPromise]),\n",
              "    response: {\n",
              "      action: 'starting',\n",
              "    }\n",
              "  };\n",
              "\n",
              "  cancel.remove();\n",
              "\n",
              "  // Disable the input element since further picks are not allowed.\n",
              "  inputElement.disabled = true;\n",
              "\n",
              "  if (!files) {\n",
              "    return {\n",
              "      response: {\n",
              "        action: 'complete',\n",
              "      }\n",
              "    };\n",
              "  }\n",
              "\n",
              "  for (const file of files) {\n",
              "    const li = document.createElement('li');\n",
              "    li.append(span(file.name, {fontWeight: 'bold'}));\n",
              "    li.append(span(\n",
              "        `(${file.type || 'n/a'}) - ${file.size} bytes, ` +\n",
              "        `last modified: ${\n",
              "            file.lastModifiedDate ? file.lastModifiedDate.toLocaleDateString() :\n",
              "                                    'n/a'} - `));\n",
              "    const percent = span('0% done');\n",
              "    li.appendChild(percent);\n",
              "\n",
              "    outputElement.appendChild(li);\n",
              "\n",
              "    const fileDataPromise = new Promise((resolve) => {\n",
              "      const reader = new FileReader();\n",
              "      reader.onload = (e) => {\n",
              "        resolve(e.target.result);\n",
              "      };\n",
              "      reader.readAsArrayBuffer(file);\n",
              "    });\n",
              "    // Wait for the data to be ready.\n",
              "    let fileData = yield {\n",
              "      promise: fileDataPromise,\n",
              "      response: {\n",
              "        action: 'continue',\n",
              "      }\n",
              "    };\n",
              "\n",
              "    // Use a chunked sending to avoid message size limits. See b/62115660.\n",
              "    let position = 0;\n",
              "    do {\n",
              "      const length = Math.min(fileData.byteLength - position, MAX_PAYLOAD_SIZE);\n",
              "      const chunk = new Uint8Array(fileData, position, length);\n",
              "      position += length;\n",
              "\n",
              "      const base64 = btoa(String.fromCharCode.apply(null, chunk));\n",
              "      yield {\n",
              "        response: {\n",
              "          action: 'append',\n",
              "          file: file.name,\n",
              "          data: base64,\n",
              "        },\n",
              "      };\n",
              "\n",
              "      let percentDone = fileData.byteLength === 0 ?\n",
              "          100 :\n",
              "          Math.round((position / fileData.byteLength) * 100);\n",
              "      percent.textContent = `${percentDone}% done`;\n",
              "\n",
              "    } while (position < fileData.byteLength);\n",
              "  }\n",
              "\n",
              "  // All done.\n",
              "  yield {\n",
              "    response: {\n",
              "      action: 'complete',\n",
              "    }\n",
              "  };\n",
              "}\n",
              "\n",
              "scope.google = scope.google || {};\n",
              "scope.google.colab = scope.google.colab || {};\n",
              "scope.google.colab._files = {\n",
              "  _uploadFiles,\n",
              "  _uploadFilesContinue,\n",
              "};\n",
              "})(self);\n",
              "</script> "
            ]
          },
          "metadata": {}
        },
        {
          "output_type": "stream",
          "name": "stdout",
          "text": [
            "Saving EDAoutput.csv to EDAoutput.csv\n"
          ]
        }
      ]
    },
    {
      "cell_type": "code",
      "source": [
        "from google.colab import files\n",
        "uploaded = files.upload()"
      ],
      "metadata": {
        "colab": {
          "base_uri": "https://localhost:8080/",
          "height": 73
        },
        "id": "y3LVHuvZ_sDi",
        "outputId": "0216f574-5d62-44ef-d60f-e664d5664614"
      },
      "execution_count": null,
      "outputs": [
        {
          "output_type": "display_data",
          "data": {
            "text/plain": [
              "<IPython.core.display.HTML object>"
            ],
            "text/html": [
              "\n",
              "     <input type=\"file\" id=\"files-96560961-1503-4184-a11f-53f2123827eb\" name=\"files[]\" multiple disabled\n",
              "        style=\"border:none\" />\n",
              "     <output id=\"result-96560961-1503-4184-a11f-53f2123827eb\">\n",
              "      Upload widget is only available when the cell has been executed in the\n",
              "      current browser session. Please rerun this cell to enable.\n",
              "      </output>\n",
              "      <script>// Copyright 2017 Google LLC\n",
              "//\n",
              "// Licensed under the Apache License, Version 2.0 (the \"License\");\n",
              "// you may not use this file except in compliance with the License.\n",
              "// You may obtain a copy of the License at\n",
              "//\n",
              "//      http://www.apache.org/licenses/LICENSE-2.0\n",
              "//\n",
              "// Unless required by applicable law or agreed to in writing, software\n",
              "// distributed under the License is distributed on an \"AS IS\" BASIS,\n",
              "// WITHOUT WARRANTIES OR CONDITIONS OF ANY KIND, either express or implied.\n",
              "// See the License for the specific language governing permissions and\n",
              "// limitations under the License.\n",
              "\n",
              "/**\n",
              " * @fileoverview Helpers for google.colab Python module.\n",
              " */\n",
              "(function(scope) {\n",
              "function span(text, styleAttributes = {}) {\n",
              "  const element = document.createElement('span');\n",
              "  element.textContent = text;\n",
              "  for (const key of Object.keys(styleAttributes)) {\n",
              "    element.style[key] = styleAttributes[key];\n",
              "  }\n",
              "  return element;\n",
              "}\n",
              "\n",
              "// Max number of bytes which will be uploaded at a time.\n",
              "const MAX_PAYLOAD_SIZE = 100 * 1024;\n",
              "\n",
              "function _uploadFiles(inputId, outputId) {\n",
              "  const steps = uploadFilesStep(inputId, outputId);\n",
              "  const outputElement = document.getElementById(outputId);\n",
              "  // Cache steps on the outputElement to make it available for the next call\n",
              "  // to uploadFilesContinue from Python.\n",
              "  outputElement.steps = steps;\n",
              "\n",
              "  return _uploadFilesContinue(outputId);\n",
              "}\n",
              "\n",
              "// This is roughly an async generator (not supported in the browser yet),\n",
              "// where there are multiple asynchronous steps and the Python side is going\n",
              "// to poll for completion of each step.\n",
              "// This uses a Promise to block the python side on completion of each step,\n",
              "// then passes the result of the previous step as the input to the next step.\n",
              "function _uploadFilesContinue(outputId) {\n",
              "  const outputElement = document.getElementById(outputId);\n",
              "  const steps = outputElement.steps;\n",
              "\n",
              "  const next = steps.next(outputElement.lastPromiseValue);\n",
              "  return Promise.resolve(next.value.promise).then((value) => {\n",
              "    // Cache the last promise value to make it available to the next\n",
              "    // step of the generator.\n",
              "    outputElement.lastPromiseValue = value;\n",
              "    return next.value.response;\n",
              "  });\n",
              "}\n",
              "\n",
              "/**\n",
              " * Generator function which is called between each async step of the upload\n",
              " * process.\n",
              " * @param {string} inputId Element ID of the input file picker element.\n",
              " * @param {string} outputId Element ID of the output display.\n",
              " * @return {!Iterable<!Object>} Iterable of next steps.\n",
              " */\n",
              "function* uploadFilesStep(inputId, outputId) {\n",
              "  const inputElement = document.getElementById(inputId);\n",
              "  inputElement.disabled = false;\n",
              "\n",
              "  const outputElement = document.getElementById(outputId);\n",
              "  outputElement.innerHTML = '';\n",
              "\n",
              "  const pickedPromise = new Promise((resolve) => {\n",
              "    inputElement.addEventListener('change', (e) => {\n",
              "      resolve(e.target.files);\n",
              "    });\n",
              "  });\n",
              "\n",
              "  const cancel = document.createElement('button');\n",
              "  inputElement.parentElement.appendChild(cancel);\n",
              "  cancel.textContent = 'Cancel upload';\n",
              "  const cancelPromise = new Promise((resolve) => {\n",
              "    cancel.onclick = () => {\n",
              "      resolve(null);\n",
              "    };\n",
              "  });\n",
              "\n",
              "  // Wait for the user to pick the files.\n",
              "  const files = yield {\n",
              "    promise: Promise.race([pickedPromise, cancelPromise]),\n",
              "    response: {\n",
              "      action: 'starting',\n",
              "    }\n",
              "  };\n",
              "\n",
              "  cancel.remove();\n",
              "\n",
              "  // Disable the input element since further picks are not allowed.\n",
              "  inputElement.disabled = true;\n",
              "\n",
              "  if (!files) {\n",
              "    return {\n",
              "      response: {\n",
              "        action: 'complete',\n",
              "      }\n",
              "    };\n",
              "  }\n",
              "\n",
              "  for (const file of files) {\n",
              "    const li = document.createElement('li');\n",
              "    li.append(span(file.name, {fontWeight: 'bold'}));\n",
              "    li.append(span(\n",
              "        `(${file.type || 'n/a'}) - ${file.size} bytes, ` +\n",
              "        `last modified: ${\n",
              "            file.lastModifiedDate ? file.lastModifiedDate.toLocaleDateString() :\n",
              "                                    'n/a'} - `));\n",
              "    const percent = span('0% done');\n",
              "    li.appendChild(percent);\n",
              "\n",
              "    outputElement.appendChild(li);\n",
              "\n",
              "    const fileDataPromise = new Promise((resolve) => {\n",
              "      const reader = new FileReader();\n",
              "      reader.onload = (e) => {\n",
              "        resolve(e.target.result);\n",
              "      };\n",
              "      reader.readAsArrayBuffer(file);\n",
              "    });\n",
              "    // Wait for the data to be ready.\n",
              "    let fileData = yield {\n",
              "      promise: fileDataPromise,\n",
              "      response: {\n",
              "        action: 'continue',\n",
              "      }\n",
              "    };\n",
              "\n",
              "    // Use a chunked sending to avoid message size limits. See b/62115660.\n",
              "    let position = 0;\n",
              "    do {\n",
              "      const length = Math.min(fileData.byteLength - position, MAX_PAYLOAD_SIZE);\n",
              "      const chunk = new Uint8Array(fileData, position, length);\n",
              "      position += length;\n",
              "\n",
              "      const base64 = btoa(String.fromCharCode.apply(null, chunk));\n",
              "      yield {\n",
              "        response: {\n",
              "          action: 'append',\n",
              "          file: file.name,\n",
              "          data: base64,\n",
              "        },\n",
              "      };\n",
              "\n",
              "      let percentDone = fileData.byteLength === 0 ?\n",
              "          100 :\n",
              "          Math.round((position / fileData.byteLength) * 100);\n",
              "      percent.textContent = `${percentDone}% done`;\n",
              "\n",
              "    } while (position < fileData.byteLength);\n",
              "  }\n",
              "\n",
              "  // All done.\n",
              "  yield {\n",
              "    response: {\n",
              "      action: 'complete',\n",
              "    }\n",
              "  };\n",
              "}\n",
              "\n",
              "scope.google = scope.google || {};\n",
              "scope.google.colab = scope.google.colab || {};\n",
              "scope.google.colab._files = {\n",
              "  _uploadFiles,\n",
              "  _uploadFilesContinue,\n",
              "};\n",
              "})(self);\n",
              "</script> "
            ]
          },
          "metadata": {}
        },
        {
          "output_type": "stream",
          "name": "stdout",
          "text": [
            "Saving EDA_sample.csv to EDA_sample.csv\n"
          ]
        }
      ]
    },
    {
      "cell_type": "code",
      "source": [
        "submission=pd.read_csv('EDA_sample.csv')\n",
        "submission[tag]=pred_test \n",
        "#submission['Loan_ID']=test_original['Loan_ID']\n",
        "submission[tag].replace(0, 'A',inplace=True) \n",
        "submission[tag].replace(1, 'B',inplace=True)\n",
        "submission[tag].replace(2, 'C',inplace=True) \n",
        "submission[tag].replace(3, 'D',inplace=True)\n",
        "submission.to_csv('EDAoutput.csv',index = False)"
      ],
      "metadata": {
        "id": "IWy2lT7F-aW9"
      },
      "execution_count": null,
      "outputs": []
    },
    {
      "cell_type": "code",
      "source": [
        "paramgrid = {'max_depth': list(range(1, 20, 2)), 'n_estimators': list(range(1, 200, 20))}\n",
        "grid_search=GridSearchCV(lgb.LGBMClassifier(),paramgrid)"
      ],
      "metadata": {
        "id": "uO4me-yxAMZv"
      },
      "execution_count": null,
      "outputs": []
    },
    {
      "cell_type": "code",
      "source": [
        "from sklearn.model_selection import train_test_split \n",
        "x_train, x_cv, y_train, y_cv = train_test_split(X,y, test_size =0.3, random_state=1)\n",
        "# Fit the grid search model \n",
        "grid_search.fit(x_train,y_train)"
      ],
      "metadata": {
        "colab": {
          "base_uri": "https://localhost:8080/"
        },
        "id": "qum1S227Abj2",
        "outputId": "8cca8cc3-a608-4054-b0b5-5fadbb311164"
      },
      "execution_count": null,
      "outputs": [
        {
          "output_type": "execute_result",
          "data": {
            "text/plain": [
              "GridSearchCV(estimator=LGBMClassifier(),\n",
              "             param_grid={'max_depth': [1, 3, 5, 7, 9, 11, 13, 15, 17, 19],\n",
              "                         'n_estimators': [1, 21, 41, 61, 81, 101, 121, 141, 161,\n",
              "                                          181]})"
            ]
          },
          "metadata": {},
          "execution_count": 60
        }
      ]
    },
    {
      "cell_type": "code",
      "source": [
        "# Estimating the optimized value \n",
        "grid_search.best_estimator_"
      ],
      "metadata": {
        "colab": {
          "base_uri": "https://localhost:8080/"
        },
        "id": "gxO5j4pZB7WQ",
        "outputId": "e60c3758-f269-4772-b316-f01bc85a4668"
      },
      "execution_count": null,
      "outputs": [
        {
          "output_type": "execute_result",
          "data": {
            "text/plain": [
              "LGBMClassifier(max_depth=5, n_estimators=61)"
            ]
          },
          "metadata": {},
          "execution_count": 61
        }
      ]
    },
    {
      "cell_type": "code",
      "source": [
        "i=1 \n",
        "kf = StratifiedKFold(n_splits=5,random_state=1,shuffle=True) \n",
        "for train_index,test_index in kf.split(X,y):     \n",
        "    print('\\n{} of kfold {}'.format(i,kf.n_splits))     \n",
        "    xtr,xvl = X.loc[train_index],X.loc[test_index]     \n",
        "    ytr,yvl = y[train_index],y[test_index]         \n",
        "    model = XGBClassifier(n_estimators=121, max_depth=7,random_state = 1)     \n",
        "    model.fit(xtr, ytr)     \n",
        "    pred_test = model.predict(xvl)     \n",
        "    score = accuracy_score(yvl,pred_test)     \n",
        "    print('accuracy_score',score)     \n",
        "    i+=1 \n",
        "    pred_test = model.predict(test) \n",
        "    pred3=model.predict_proba(test)[:,1]"
      ],
      "metadata": {
        "colab": {
          "base_uri": "https://localhost:8080/"
        },
        "id": "RdQeL7JrCC4G",
        "outputId": "fd63d44d-b336-4b8d-ed1e-3d83e857c5b0"
      },
      "execution_count": null,
      "outputs": [
        {
          "output_type": "stream",
          "name": "stdout",
          "text": [
            "\n",
            "1 of kfold 5\n"
          ]
        },
        {
          "output_type": "execute_result",
          "data": {
            "text/plain": [
              "XGBClassifier(max_depth=7, n_estimators=121, objective='multi:softprob',\n",
              "              random_state=1)"
            ]
          },
          "metadata": {},
          "execution_count": 62
        },
        {
          "output_type": "stream",
          "name": "stdout",
          "text": [
            "accuracy_score 0.509913258983891\n",
            "\n",
            "2 of kfold 5\n"
          ]
        },
        {
          "output_type": "execute_result",
          "data": {
            "text/plain": [
              "XGBClassifier(max_depth=7, n_estimators=121, objective='multi:softprob',\n",
              "              random_state=1)"
            ]
          },
          "metadata": {},
          "execution_count": 62
        },
        {
          "output_type": "stream",
          "name": "stdout",
          "text": [
            "accuracy_score 0.5260223048327137\n",
            "\n",
            "3 of kfold 5\n"
          ]
        },
        {
          "output_type": "execute_result",
          "data": {
            "text/plain": [
              "XGBClassifier(max_depth=7, n_estimators=121, objective='multi:softprob',\n",
              "              random_state=1)"
            ]
          },
          "metadata": {},
          "execution_count": 62
        },
        {
          "output_type": "stream",
          "name": "stdout",
          "text": [
            "accuracy_score 0.5477075588599752\n",
            "\n",
            "4 of kfold 5\n"
          ]
        },
        {
          "output_type": "execute_result",
          "data": {
            "text/plain": [
              "XGBClassifier(max_depth=7, n_estimators=121, objective='multi:softprob',\n",
              "              random_state=1)"
            ]
          },
          "metadata": {},
          "execution_count": 62
        },
        {
          "output_type": "stream",
          "name": "stdout",
          "text": [
            "accuracy_score 0.5164290142591444\n",
            "\n",
            "5 of kfold 5\n"
          ]
        },
        {
          "output_type": "execute_result",
          "data": {
            "text/plain": [
              "XGBClassifier(max_depth=7, n_estimators=121, objective='multi:softprob',\n",
              "              random_state=1)"
            ]
          },
          "metadata": {},
          "execution_count": 62
        },
        {
          "output_type": "stream",
          "name": "stdout",
          "text": [
            "accuracy_score 0.5021698698078115\n"
          ]
        }
      ]
    },
    {
      "cell_type": "code",
      "source": [
        "clf = lgb.LGBMClassifier(boosting_type='gbdt', class_weight=None, colsample_bytree=1.0,\n",
        "               importance_type='split', learning_rate=0.1, max_depth=5,\n",
        "               min_child_samples=20, min_child_weight=0.001, min_split_gain=0.0,\n",
        "               n_estimators=81, n_jobs=-1, num_leaves=31, objective=None,\n",
        "               random_state=1, reg_alpha=0.0, reg_lambda=0.0, silent=True,\n",
        "               subsample=1.0, subsample_for_bin=200000, subsample_freq=0)\n",
        "clf.fit(x_train, y_train)\n",
        "# predict the results\n",
        "y_pred=clf.predict(x_cv)\n",
        "accuracy=accuracy_score(y_pred, y_cv)\n",
        "print('LightGBM Model accuracy score: {0:0.4f}'.format(accuracy_score(y_cv, y_pred)))"
      ],
      "metadata": {
        "colab": {
          "base_uri": "https://localhost:8080/"
        },
        "id": "Euft953hCQWJ",
        "outputId": "cba5d716-9fe1-48d0-ae07-1692512ecafb"
      },
      "execution_count": null,
      "outputs": [
        {
          "output_type": "execute_result",
          "data": {
            "text/plain": [
              "LGBMClassifier(max_depth=5, n_estimators=81, random_state=1)"
            ]
          },
          "metadata": {},
          "execution_count": 63
        },
        {
          "output_type": "stream",
          "name": "stdout",
          "text": [
            "LightGBM Model accuracy score: 0.5349\n"
          ]
        }
      ]
    },
    {
      "cell_type": "code",
      "source": [
        "print('Training set score: {:.4f}'.format(clf.score(x_train, y_train)))\n",
        "\n",
        "print('Test set score: {:.4f}'.format(clf.score(x_cv, y_cv)))"
      ],
      "metadata": {
        "colab": {
          "base_uri": "https://localhost:8080/"
        },
        "id": "9shTL4PJCk76",
        "outputId": "26e4473a-a080-4974-9fef-8e5e6ea99e19"
      },
      "execution_count": null,
      "outputs": [
        {
          "output_type": "stream",
          "name": "stdout",
          "text": [
            "Training set score: 0.5991\n",
            "Test set score: 0.5349\n"
          ]
        }
      ]
    },
    {
      "cell_type": "code",
      "source": [
        "from sklearn.metrics import confusion_matrix\n",
        "cm = confusion_matrix(y_cv, y_pred)\n",
        "print('Confusion matrix\\n\\n', cm)\n",
        "print('\\nTrue Positives(TP) = ', cm[0,0])\n",
        "print('\\nTrue Negatives(TN) = ', cm[1,1])\n",
        "print('\\nFalse Positives(FP) = ', cm[0,1])\n",
        "print('\\nFalse Negatives(FN) = ', cm[1,0])"
      ],
      "metadata": {
        "colab": {
          "base_uri": "https://localhost:8080/"
        },
        "id": "dmzCnbISCwBC",
        "outputId": "3bbbdfff-7893-4200-de0f-b21b137b4005"
      },
      "execution_count": null,
      "outputs": [
        {
          "output_type": "stream",
          "name": "stdout",
          "text": [
            "Confusion matrix\n",
            "\n",
            " [[299 118  61 116]\n",
            " [145 178 156  65]\n",
            " [ 64 110 355  78]\n",
            " [158  40  15 463]]\n",
            "\n",
            "True Positives(TP) =  299\n",
            "\n",
            "True Negatives(TN) =  178\n",
            "\n",
            "False Positives(FP) =  118\n",
            "\n",
            "False Negatives(FN) =  145\n"
          ]
        }
      ]
    },
    {
      "cell_type": "code",
      "source": [
        "from sklearn.svm import SVC\n",
        "from sklearn.neighbors import KNeighborsClassifier\n",
        "clf = KNeighborsClassifier(leaf_size = 1, n_neighbors = 3,p = 1)\n",
        "clf.fit(x_train, y_train)\n",
        "# predict the results\n",
        "y_pred=clf.predict(x_cv)\n",
        "accuracy=accuracy_score(y_pred, y_cv)\n",
        "accuracy"
      ],
      "metadata": {
        "colab": {
          "base_uri": "https://localhost:8080/"
        },
        "id": "SzrTNKTVC3ei",
        "outputId": "77583029-6c15-4b84-9b60-2247f86d6974"
      },
      "execution_count": null,
      "outputs": [
        {
          "output_type": "execute_result",
          "data": {
            "text/plain": [
              "KNeighborsClassifier(leaf_size=1, n_neighbors=3, p=1)"
            ]
          },
          "metadata": {},
          "execution_count": 66
        },
        {
          "output_type": "execute_result",
          "data": {
            "text/plain": [
              "0.47170590665014456"
            ]
          },
          "metadata": {},
          "execution_count": 66
        }
      ]
    },
    {
      "cell_type": "code",
      "source": [
        "accuracy"
      ],
      "metadata": {
        "colab": {
          "base_uri": "https://localhost:8080/"
        },
        "id": "w3F8pEGUC8h2",
        "outputId": "1c174a1e-0ead-48bd-dd90-b9e980431bb5"
      },
      "execution_count": null,
      "outputs": [
        {
          "output_type": "execute_result",
          "data": {
            "text/plain": [
              "0.47170590665014456"
            ]
          },
          "metadata": {},
          "execution_count": 67
        }
      ]
    },
    {
      "cell_type": "code",
      "source": [
        "from sklearn.cluster import KMeans\n",
        "\n",
        "clf = KMeans(n_clusters=4)\n",
        "clf.fit(x_train,y_train)\n",
        "y_pred=clf.predict(x_cv)\n",
        "accuracy=accuracy_score(y_pred, y_cv)\n",
        "accuracy"
      ],
      "metadata": {
        "id": "zn6yKNLRDAgJ",
        "outputId": "f4b28765-408d-45c9-c596-6e029a5bca22",
        "colab": {
          "base_uri": "https://localhost:8080/"
        }
      },
      "execution_count": null,
      "outputs": [
        {
          "output_type": "execute_result",
          "data": {
            "text/plain": [
              "KMeans(n_clusters=4)"
            ]
          },
          "metadata": {},
          "execution_count": 68
        },
        {
          "output_type": "execute_result",
          "data": {
            "text/plain": [
              "0.2845931433292028"
            ]
          },
          "metadata": {},
          "execution_count": 68
        }
      ]
    }
  ]
}